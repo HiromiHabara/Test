{
 "cells": [
  {
   "cell_type": "code",
   "execution_count": 1,
   "metadata": {},
   "outputs": [],
   "source": [
    "import numpy as np\n",
    "import math\n",
    "from enum import Enum\n",
    "from collections import namedtuple\n",
    "# matplotlib\n",
    "# ライブラリーのインポート\n",
    "import matplotlib.pyplot as plt\n",
    "# インライン表示\n",
    "%matplotlib inline\n",
    "# 日本語フォント\n",
    "import pylab\n",
    "from matplotlib.font_manager import FontProperties\n",
    "# 日本語フォント\n",
    "fp = FontProperties(fname='C:\\WINDOWS\\Fonts\\msgothic.ttc', size = 12)"
   ]
  },
  {
   "cell_type": "markdown",
   "metadata": {},
   "source": [
    "# 第四章　暖冷房設備"
   ]
  },
  {
   "cell_type": "markdown",
   "metadata": {},
   "source": [
    "# 第二節　ダクト式セントラル空調機"
   ]
  },
  {
   "cell_type": "markdown",
   "metadata": {},
   "source": [
    "## 5.　最大暖房出力"
   ]
  },
  {
   "cell_type": "markdown",
   "metadata": {},
   "source": [
    "日付$d$の時刻$t$における1時間当たりの最大暖房出力$Q_{max,H,d,t}$は、式(1)により表される。"
   ]
  },
  {
   "cell_type": "markdown",
   "metadata": {},
   "source": [
    "$$ \n",
    "\\begin{equation*}\n",
    "    Q_{max,H,d,t} = q_{ac,rtd,H} \\times C_{df,d,t} \\times 3600 \\times 10^{-6}\n",
    "\\end{equation*}\n",
    "$$\n",
    "\n",
    "\n",
    "<div style=\"text-align: right;\"> (1) </div>"
   ]
  },
  {
   "cell_type": "markdown",
   "metadata": {},
   "source": [
    "ここで、  \n",
    "\n",
    "$Q_{max,H,d,t}$：日付$d$の時刻$t$における1時間当たりの最大暖房出力(MJ/h)  \n",
    "$q_{ac,rtd,H}$：空調機の定格暖房能力(W)  \n",
    "$C_{df,d,t}$：日付$d$の時刻$t$におけるデフロストに関する暖房出力補正係数(-)  \n",
    "\n",
    "である。"
   ]
  },
  {
   "cell_type": "markdown",
   "metadata": {},
   "source": [
    "空調機の定格暖房能力$q_{ac,rtd,H}$は、付録Aにより定まる。"
   ]
  },
  {
   "cell_type": "code",
   "execution_count": 2,
   "metadata": {},
   "outputs": [],
   "source": [
    "def Q_max_H(q_ac_rtd_H, C_df):\n",
    "    '''最大暖房出力(MJ/h)を計算する'''\n",
    "    # q_ac_rtd_H: 空調機の定格暖房能力(W)\n",
    "    # C_df: デフロストに関する暖房出力補正係数(-)\n",
    "\n",
    "    return q_ac_rtd_H * C_df * 3600 * 10**(-6)"
   ]
  },
  {
   "cell_type": "markdown",
   "metadata": {},
   "source": [
    "日付$d$の時刻$t$におけるデフロストに関する暖房出力補正係数$C_{df,d,t}$は、外気温度$\\theta_{ex,d,t}$が5℃未満かつ外気相対湿度$h_{ex,d,t}$が80%以上の場合にデフロストが発生すると仮定して、式(2)により定まる。"
   ]
  },
  {
   "cell_type": "markdown",
   "metadata": {},
   "source": [
    "<p style=\"text-indent:2em\">外気温度$\\theta_{ex,d,t}$が5℃未満かつ外気相対湿度$h_{ex,d,t}$が80%以上の場合：</p>  \n",
    "$$ \n",
    "\\begin{equation*}\n",
    "   C_{df,d,t} = 0.77\n",
    "\\end{equation*}\n",
    "$$\n",
    "\n",
    "\n",
    "<div style=\"text-align: right;\"> (2-1) </div>"
   ]
  },
  {
   "cell_type": "markdown",
   "metadata": {},
   "source": [
    "<p style=\"text-indent:2em\">外気温度$\\theta_{ex,d,t}$が5℃以上かつ外気相対湿度$h_{ex,d,t}$が80%未満の場合：</p>  \n",
    "$$ \n",
    "\\begin{equation*}\n",
    "   C_{df,d,t} = 1.0\n",
    "\\end{equation*}\n",
    "$$\n",
    "\n",
    "\n",
    "<div style=\"text-align: right;\"> (2-2) </div>"
   ]
  },
  {
   "cell_type": "markdown",
   "metadata": {},
   "source": [
    "ここで、  \n",
    "\n",
    "$C_{df,d,t}$：日付$d$の時刻$t$におけるデフロストに関する暖房出力補正係数(-)  \n",
    "$h_{ex,d,t}$：日付$d$の時刻$t$における外気相対湿度(%)  \n",
    "$\\theta_{ex,d,t}$：日付$d$の時刻$t$における外気温度(℃)  \n",
    "\n",
    "である。"
   ]
  },
  {
   "cell_type": "code",
   "execution_count": 3,
   "metadata": {},
   "outputs": [],
   "source": [
    "def get_C_df(theta_ex, h_ex):\n",
    "    '''デフロストに関する暖房出力補正係数(-)を取得する'''\n",
    "    # theta_ex: 外気温度(℃)\n",
    "    # h_ex: 外気相対湿度(%)\n",
    "    \n",
    "    if theta_ex < 5 and 80<= h_ex:\n",
    "        return  0.77\n",
    "    else:\n",
    "        return  1.0"
   ]
  },
  {
   "cell_type": "markdown",
   "metadata": {},
   "source": [
    "Example"
   ]
  },
  {
   "cell_type": "code",
   "execution_count": 4,
   "metadata": {
    "scrolled": false
   },
   "outputs": [
    {
     "data": {
      "text/plain": [
       "array([[ 1.  ,  0.77,  0.77],\n",
       "       [ 1.  ,  1.  ,  1.  ],\n",
       "       [ 1.  ,  1.  ,  1.  ]])"
      ]
     },
     "execution_count": 4,
     "metadata": {},
     "output_type": "execute_result"
    }
   ],
   "source": [
    "np.vectorize(get_C_df)([[4],[5],[6]],[79,80,81])"
   ]
  },
  {
   "cell_type": "code",
   "execution_count": 5,
   "metadata": {},
   "outputs": [
    {
     "data": {
      "text/plain": [
       "3.5999999999999996"
      ]
     },
     "execution_count": 5,
     "metadata": {},
     "output_type": "execute_result"
    }
   ],
   "source": [
    "Q_max_H(1000, get_C_df(20, 70))"
   ]
  },
  {
   "cell_type": "code",
   "execution_count": 6,
   "metadata": {},
   "outputs": [
    {
     "data": {
      "image/png": "[encoded data removed]",
      "text/plain": [
       "<matplotlib.figure.Figure at 0x9f9b30e320>"
      ]
     },
     "metadata": {},
     "output_type": "display_data"
    }
   ],
   "source": [
    "# 出力結果\n",
    "plt.figure(figsize = (8, 3), dpi=80 )\n",
    "plt.subplot2grid((1, 1), (0, 0))\n",
    "plt.title('最大暖房出力', fontdict={'fontproperties':fp})\n",
    "\n",
    "for i,category in enumerate(['補正なし','補正あり']):\n",
    "    x_values =[x for x in range(0, 10000)]\n",
    "    y_values = {'補正なし' :[Q_max_H(x, get_C_df(20, 70)) for x in x_values],\n",
    "                '補正あり' :[Q_max_H(x, get_C_df( 0, 90)) for x in x_values]}[category]\n",
    "    plt.plot(x_values, y_values, label=category)\n",
    "        \n",
    "ax=plt.gca()\n",
    "ax.set_xlabel('定格暖房能力(W)', fontdict={'fontproperties':fp})\n",
    "ax.set_xticks([x for x in range(0, 11000, 1000)], minor=False)\n",
    "ax.set_xbound(lower=0, upper=10000)\n",
    "\n",
    "ax.set_ylabel('最大暖房出力(MJ/h)', fontdict={'fontproperties':fp})\n",
    "ax.set_yticks([y for y in range(0, 60, 10)], minor=False)\n",
    "ax.set_ybound(lower=0, upper=50)\n",
    "\n",
    "ax.grid(which='major', color='lightgray', alpha=0.7, linestyle='-')     \n",
    "plt.legend(loc='center left', bbox_to_anchor=(1, 0.5), borderaxespad=0.5, frameon=True, prop=fp)\n",
    "\n",
    "plt.show()"
   ]
  },
  {
   "cell_type": "markdown",
   "metadata": {},
   "source": [
    "## 6.　暖房エネルギー消費量"
   ]
  },
  {
   "cell_type": "markdown",
   "metadata": {},
   "source": [
    "### 6.1　消費電力量"
   ]
  },
  {
   "cell_type": "markdown",
   "metadata": {},
   "source": [
    "日付$d$の時刻$t$における1時間当たりの消費電力量$E_{E,H,d,t}$は、式(3)により表される。"
   ]
  },
  {
   "cell_type": "markdown",
   "metadata": {},
   "source": [
    "<p style=\"text-indent:2em\">TG案：</p> \n",
    "$$ \n",
    "\\begin{equation*}\n",
    "    E_{E,H,d,t} = \\left( E_{E,comp,H,d,t} + E_{E,fan,H,d,t} \\right) \\times C_{DL}\n",
    "\\end{equation*}\n",
    "$$\n",
    "\n",
    "\n",
    "<div style=\"text-align: right;\"> (3) </div>"
   ]
  },
  {
   "cell_type": "markdown",
   "metadata": {},
   "source": [
    "ここで、  \n",
    "\n",
    "$C_{DL}$：断熱区画外ダクト熱損失による消費電力量補正係数(-)  \n",
    "$E_{E,fan,H,d,t}$：日付$d$の時刻$t$における暖房時の1時間当たりの空気搬送ファンの消費電力量(kWh/h)  \n",
    "$E_{E,comp,H,d,t}$：日付$d$の時刻$t$における暖房時の1時間当たりの圧縮機の消費電力量(kWh/h)  \n",
    "$E_{E,H,d,t}$：日付$d$の時刻$t$における1時間当たりの暖房の消費電力量(kWh/h)  \n",
    "\n",
    "である。"
   ]
  },
  {
   "cell_type": "markdown",
   "metadata": {},
   "source": [
    "<p style=\"text-indent:2em\">修正案：</p> \n",
    "$$ \n",
    "\\begin{equation*}\n",
    "    E_{E,H,d,t} = E_{E,comp,H,d,t} \\times C_{DL} + E_{E,fan,H,d,t} \n",
    "\\end{equation*}\n",
    "$$\n",
    "\n",
    "\n",
    "<div style=\"text-align: right;\"> (3) </div>"
   ]
  },
  {
   "cell_type": "markdown",
   "metadata": {},
   "source": [
    "ここで、  \n",
    "\n",
    "$C_{DL}$：断熱区画外ダクト熱損失による消費電力量補正係数(-)  \n",
    "$E_{E,fan,H,d,t}$：日付$d$の時刻$t$における1時間当たりの空気搬送ファンの消費電力量のうちの暖房設備への負荷分(kWh/h)  \n",
    "$E_{E,comp,H,d,t}$：日付$d$の時刻$t$における暖房時の1時間当たりの圧縮機の消費電力量(kWh/h)  \n",
    "$E_{E,H,d,t}$：日付$d$の時刻$t$における1時間当たりの暖房の消費電力量(kWh/h)  \n",
    "\n",
    "である。"
   ]
  },
  {
   "cell_type": "markdown",
   "metadata": {},
   "source": [
    "断熱区画外ダクト熱損失による消費電力量補正係数$C_{DL}$は、付録Cにより定まる。"
   ]
  },
  {
   "cell_type": "code",
   "execution_count": 7,
   "metadata": {},
   "outputs": [],
   "source": [
    "def E_E_H(E_E_comp_H, E_E_fan_H, C_DL):\n",
    "    '''暖房の消費電力量(kWh/h)を計算する'''\n",
    "    # E_E_comp_H：圧縮機の消費電力量(kWh/h)  \n",
    "    # E_E_fan_H：空気搬送ファンの消費電力量(kWh/h)\n",
    "    # C_DL：断熱区画外ダクト熱損失による消費電力量補正係数(-)  \n",
    "    \n",
    "    return (E_E_comp_H + E_E_fan_H) * C_DL"
   ]
  },
  {
   "cell_type": "code",
   "execution_count": 8,
   "metadata": {},
   "outputs": [],
   "source": [
    "def E_E_H_rev(E_E_comp_H, E_E_fan_H, C_DL):\n",
    "    '''暖房の消費電力量(kWh/h)を計算する'''\n",
    "    # E_E_comp_H：圧縮機の消費電力量(kWh/h)  \n",
    "    # E_E_fan_H：空気搬送ファンの消費電力量(kWh/h)\n",
    "    # C_DL：断熱区画外ダクト熱損失による消費電力量補正係数(-)  \n",
    "    \n",
    "    return E_E_comp_H * C_DL + E_E_fan_H"
   ]
  },
  {
   "cell_type": "markdown",
   "metadata": {},
   "source": [
    "### 6.2　ガス消費量"
   ]
  },
  {
   "cell_type": "markdown",
   "metadata": {},
   "source": [
    "（省略）"
   ]
  },
  {
   "cell_type": "markdown",
   "metadata": {},
   "source": [
    "### 6.3　石油消費量"
   ]
  },
  {
   "cell_type": "markdown",
   "metadata": {},
   "source": [
    "（省略）"
   ]
  },
  {
   "cell_type": "markdown",
   "metadata": {},
   "source": [
    "### 6.4　その他の燃料による一次エネルギー消費量"
   ]
  },
  {
   "cell_type": "markdown",
   "metadata": {},
   "source": [
    "（省略）"
   ]
  },
  {
   "cell_type": "markdown",
   "metadata": {},
   "source": [
    "## 7.　最大冷房出力"
   ]
  },
  {
   "cell_type": "markdown",
   "metadata": {},
   "source": [
    "（省略）"
   ]
  },
  {
   "cell_type": "markdown",
   "metadata": {},
   "source": [
    "## 8.　冷房エネルギー消費量"
   ]
  },
  {
   "cell_type": "markdown",
   "metadata": {},
   "source": [
    "（省略）"
   ]
  },
  {
   "cell_type": "markdown",
   "metadata": {},
   "source": [
    "## 9.　換気エネルギー消費量"
   ]
  },
  {
   "cell_type": "markdown",
   "metadata": {},
   "source": [
    "（工事中）"
   ]
  },
  {
   "cell_type": "markdown",
   "metadata": {},
   "source": [
    "## 10.　圧縮機"
   ]
  },
  {
   "cell_type": "markdown",
   "metadata": {},
   "source": [
    "### 10.1　消費電力量"
   ]
  },
  {
   "cell_type": "markdown",
   "metadata": {},
   "source": [
    "#### 10.1.1　暖房"
   ]
  },
  {
   "cell_type": "markdown",
   "metadata": {},
   "source": [
    "日付$d$の時刻$t$における1時間当たりの圧縮機の消費電力量$E_{E,comp,H,d,t}$は、式(@)により表される。"
   ]
  },
  {
   "cell_type": "markdown",
   "metadata": {},
   "source": [
    "<p style=\"text-indent:2em\">TG案：</p> \n",
    "<p style=\"text-indent:2em\">最小・中間・定格、もしくは中間・定格の仕様が既知の場合：</p> \n",
    "$$ \n",
    "\\begin{equation*}\n",
    "    E_{E,comp,H,d,t} = \\frac{{Q'_{T,H,d,t}}} {e_{th,H,d,t} \\times r_{comp,H,d,t}}\n",
    "\\end{equation*}\n",
    "$$\n",
    "\n",
    "<p style=\"text-indent:2em\">定格の仕様のみが既知の場合：（数式を省略。現行法と同じ。）</p>\n",
    "\n",
    "<div style=\"text-align: right;\"> (@) </div>"
   ]
  },
  {
   "cell_type": "markdown",
   "metadata": {},
   "source": [
    "<p style=\"text-indent:2em\">修正案：</p> \n",
    "$$ \n",
    "\\begin{equation*}\n",
    "    E_{E,comp,H,d,t} = \\frac{{Q_{T,H,d,t}}} {e_{th,H,d,t} \\times r_{comp,H,d,t} \\times C_{df,d,t}}\n",
    "\\end{equation*}\n",
    "$$\n",
    "\n",
    "\n",
    "<div style=\"text-align: right;\"> (@) </div>"
   ]
  },
  {
   "cell_type": "markdown",
   "metadata": {},
   "source": [
    "ここで、  \n",
    "\n",
    "$E_{E,comp,H,d,t}$：日付$d$の時刻$t$における暖房時の1時間当たりの圧縮機の消費電力量(kWh/h)  \n",
    "$e_{th,H,d,t}$：日付$d$の時刻$t$におけるヒートポンプサイクルの理論暖房効率(-)  \n",
    "$Q'_{T,H,d,t}$：日付$d$の時刻$t$における1時間当たりの補正処理暖房負荷(MJ/h)  \n",
    "$r_{comp,H,d,t}$：日付$d$の時刻$t$におけるヒートポンプサイクルの理論暖房効率に対する圧縮機の暖房効率の比(-)  \n",
    "\n",
    "である。"
   ]
  },
  {
   "cell_type": "markdown",
   "metadata": {},
   "source": [
    "日付$d$の時刻$t$におけるヒートポンプサイクルの理論暖房効率$e_{th,H}$は、付録Dにより計算される値とする。"
   ]
  },
  {
   "cell_type": "code",
   "execution_count": 9,
   "metadata": {},
   "outputs": [],
   "source": [
    "def E_E_comp_H(Q_dash_T_H, e_th_H, r_comp_H):\n",
    "    '''暖房時の圧縮機の消費電力量(kWh/h)を計算する'''\n",
    "    # Q_dash_T_H：補正処理暖房負荷(MJ/h)  \n",
    "    # e_th_H：ヒートポンプサイクルの理論暖房効率(-)  \n",
    "    # r_comp_Hz：ヒートポンプサイクルの理論暖房効率に対する圧縮機の暖房効率の比(-)  \n",
    "    \n",
    "    return Q_dash_T_H / (e_th_H * r_comp_H)"
   ]
  },
  {
   "cell_type": "code",
   "execution_count": 10,
   "metadata": {},
   "outputs": [],
   "source": [
    "def E_E_comp_H_rev(Q_T_H, e_th_H, r_comp_H, C_df):\n",
    "    '''暖房時の圧縮機の消費電力量(kWh/h)を計算する'''\n",
    "    # Q_T_H：処理暖房負荷(MJ/h)  \n",
    "    # e_th_H：ヒートポンプサイクルの理論暖房効率(-)  \n",
    "    # r_comp_Hz：ヒートポンプサイクルの理論暖房効率に対する圧縮機の暖房効率の比(-)  \n",
    "    # C_df: デフロストに関する暖房出力補正係数(-)\n",
    "    \n",
    "    return Q_T_H / (e_th_H * r_comp_H * C_df)"
   ]
  },
  {
   "cell_type": "markdown",
   "metadata": {},
   "source": [
    "日付$d$の時刻$t$における1時間当たりの補正暖房処理負荷$Q'_{T,H,d,t}$は、式(@)により表される。"
   ]
  },
  {
   "cell_type": "markdown",
   "metadata": {},
   "source": [
    "<p style=\"text-indent:2em\">TG案：</p> \n",
    "$$ \n",
    "\\begin{equation*}\n",
    "    Q'_{T,H,d,t} = \\frac{Q_{T,H,d,t}} {C_{df,d,t}}\n",
    "\\end{equation*}\n",
    "$$\n",
    "\n",
    "\n",
    "<div style=\"text-align: right;\"> (@) </div>"
   ]
  },
  {
   "cell_type": "markdown",
   "metadata": {},
   "source": [
    "<p style=\"text-indent:2em\">修正案：$Q'_{T,H,d,t}$を削除。以降の計算では、$Q'_{T,H,d,t}$ => $Q_{T,H,d,t}$</p> "
   ]
  },
  {
   "cell_type": "markdown",
   "metadata": {},
   "source": [
    "ここで、  \n",
    "\n",
    "$C_{df,d,t}$：日付$d$の時刻$t$におけるデフロストに関する暖房出力補正係数(-)  \n",
    "$Q_{T,H,d,t}$：日付$d$の時刻$t$における1時間当たりの処理暖房負荷(MJ/h)  \n",
    "$Q'_{T,H,d,t}$：日付$d$の時刻$t$における1時間当たりの補正処理暖房負荷(MJ/h)  \n",
    "\n",
    "である。"
   ]
  },
  {
   "cell_type": "code",
   "execution_count": 11,
   "metadata": {},
   "outputs": [],
   "source": [
    "def Q_dash_T_H(Q_T_H, C_df):\n",
    "    '''補正処理暖房負荷(MJ/h)を計算する'''\n",
    "    # Q_T_H：処理暖房負荷(MJ/h)  \n",
    "    # C_df: デフロストに関する暖房出力補正係数(-)\n",
    "    \n",
    "    return Q_T_H / C_df"
   ]
  },
  {
   "cell_type": "markdown",
   "metadata": {},
   "source": [
    "Example"
   ]
  },
  {
   "cell_type": "code",
   "execution_count": 12,
   "metadata": {
    "scrolled": true
   },
   "outputs": [
    {
     "data": {
      "text/plain": [
       "333.3333333333333"
      ]
     },
     "execution_count": 12,
     "metadata": {},
     "output_type": "execute_result"
    }
   ],
   "source": [
    "E_E_comp_H(Q_dash_T_H(1000, get_C_df(20, 70)), 3, 1.0)"
   ]
  },
  {
   "cell_type": "markdown",
   "metadata": {},
   "source": [
    "#### 10.1.2　冷房"
   ]
  },
  {
   "cell_type": "markdown",
   "metadata": {},
   "source": [
    "（工事中）"
   ]
  },
  {
   "cell_type": "markdown",
   "metadata": {},
   "source": [
    "### 10.2　ヒートポンプサイクルの理論効率に対する圧縮機効率の比"
   ]
  },
  {
   "cell_type": "markdown",
   "metadata": {},
   "source": [
    "#### 10.2.1　暖房"
   ]
  },
  {
   "cell_type": "markdown",
   "metadata": {},
   "source": [
    "日付$d$の時刻$t$におけるヒートポンプサイクルの理論暖房効率に対する圧縮機の暖房効率の比$r_{comp,H,d,t}$は、式(@)により表される。"
   ]
  },
  {
   "cell_type": "markdown",
   "metadata": {},
   "source": [
    "<p style=\"text-indent:2em\">$Q'_{T,H,d,t} \\div \\left( 3600 \\times 10^{-6} \\right) \\leq q_{ac,min, H}$の場合：</p> \n",
    "$$ \n",
    "\\begin{equation*}\n",
    "    r_{comp,H,d,t} = r_{comp,min,H} - \\left\\{ q_{ac,min,H} - Q'_{T,H,d,t} \\div \\left( 3600 \\times 10^{-6} \\right) \\right\\} \\times \\frac{r_{comp,min,H}}{q_{ac,min,H}}\n",
    "\\end{equation*}\n",
    "$$\n",
    "\n",
    "<div style=\"text-align: right;\"> (@-1) </div>"
   ]
  },
  {
   "cell_type": "markdown",
   "metadata": {},
   "source": [
    "<p style=\"text-indent:2em\">$q_{ac,min, H} < Q'_{T,H,d,t} \\div \\left( 3600 \\times 10^{-6} \\right) \\leq q_{ac,mid, H} $の場合：</p> \n",
    "$$ \n",
    "\\begin{equation*}\n",
    "    r_{comp,H,d,t} = r_{comp,mid,H} - \\left\\{ q_{ac,mid,H} - Q'_{T,H,d,t} \\div \\left( 3600 \\times 10^{-6} \\right) \\right\\} \\times \\frac{r_{comp,mid,H} - r_{comp,min,H}}{q_{ac,mid,H} - q_{ac,min,H}}\n",
    "\\end{equation*}\n",
    "$$\n",
    "\n",
    "<div style=\"text-align: right;\"> (@-2) </div>"
   ]
  },
  {
   "cell_type": "markdown",
   "metadata": {},
   "source": [
    "<p style=\"text-indent:2em\">$q_{ac,mid, H} < Q'_{T,H,d,t} \\div \\left( 3600 \\times 10^{-6} \\right) \\leq q_{ac,rtd, H} $の場合：</p> \n",
    "$$ \n",
    "\\begin{equation*}\n",
    "    r_{comp,H,d,t} = r_{comp,rtd,H} - \\left\\{ q_{ac,rtd,H} - Q'_{T,H,d,t} \\div \\left( 3600 \\times 10^{-6} \\right) \\right\\} \\times \\frac{r_{comp,rtd,H} - r_{comp,mid,H}}{q_{ac,rtd,H} - q_{ac,mid,H}}\n",
    "\\end{equation*}\n",
    "$$\n",
    "\n",
    "<div style=\"text-align: right;\"> (@-3) </div>"
   ]
  },
  {
   "cell_type": "markdown",
   "metadata": {},
   "source": [
    "<p style=\"text-indent:2em\">$q_{ac,rtd, H} < Q'_{T,H,d,t} \\div \\left( 3600 \\times 10^{-6} \\right)$の場合：</p> \n",
    "$$ \n",
    "\\begin{equation*}\n",
    "    r_{comp,H,d,t} = max \\left( 0.4, \\: r_{comp,rtd,H} - \\left\\{ q_{ac,rtd,H} - Q'_{T,H,d,t} \\div \\left( 3600 \\times 10^{-6} \\right) \\right\\} \\times \\frac{r_{comp,rtd,H}}{q_{ac,rtd,H}} \\right)\n",
    "\\end{equation*}\n",
    "$$\n",
    "\n",
    "<div style=\"text-align: right;\"> (@-4) </div>"
   ]
  },
  {
   "cell_type": "markdown",
   "metadata": {},
   "source": [
    "ここで、  \n",
    "\n",
    "$Q'_{T,H,d,t}$：日付$d$の時刻$t$における1時間当たりの補正処理暖房負荷(MJ/h)  \n",
    "$r_{comp,H,d,t}$：日付$d$の時刻$t$におけるヒートポンプサイクルの理論暖房効率に対する圧縮機の暖房効率の比(-)  \n",
    "$r_{comp,mid,H}$：中間暖房能力運転時における理論暖房効率に対する圧縮機の暖房効率の比(-)  \n",
    "$r_{comp,min,H}$：最小暖房能力運転時における理論暖房効率に対する圧縮機の暖房効率の比(-)  \n",
    "$r_{comp,rtd,H}$：定格暖房能力運転時における理論暖房効率に対する圧縮機の暖房効率の比(-)   \n",
    "$q_{ac,mid,H}$：空調機の中間暖房能力(W)   \n",
    "$q_{ac,min,H}$：空調機の最小暖房能力(W)   \n",
    "$q_{ac,rtd,H}$：空調機の定格暖房能力(W) \n",
    "\n",
    "である。"
   ]
  },
  {
   "cell_type": "markdown",
   "metadata": {},
   "source": [
    "空調機の最小暖房能力$q_{ac,min,H}$、空調機の中間暖房能力$q_{ac,mid,H}$および空調機の定格暖房能力$q_{ac,rtd,H}$は、付録Aにより定まる。"
   ]
  },
  {
   "cell_type": "code",
   "execution_count": 13,
   "metadata": {},
   "outputs": [],
   "source": [
    "def r_comp_H(Q_dash_T_H, r_comp_min_H, r_comp_mid_H, r_comp_rtd_H, q_ac_min_H, q_ac_mid_H, q_ac_rtd_H):\n",
    "    '''最小・中間・定格の理論暖房効率に対する圧縮機の暖房効率の比から当該時刻の値を外挿する'''\n",
    "    # Q_dash_T_H：補正処理暖房負荷(MJ/h) \n",
    "    # r_comp_min_H：最小暖房能力運転時における理論暖房効率に対する圧縮機の暖房効率の比(-)\n",
    "    # r_comp_mid_H：中間暖房能力運転時における理論暖房効率に対する圧縮機の暖房効率の比(-)\n",
    "    # r_comp_rtd_H：定格暖房能力運転時における理論暖房効率に対する圧縮機の暖房効率の比(-)\n",
    "    # q_ac_min_H：空調機の最小暖房能力(W)\n",
    "    # q_ac_mid_H：空調機の中間暖房能力(W)\n",
    "    # q_ac_rtd_H：空調機の定格暖房能力(W)\n",
    "    \n",
    "    # 単位換算：MJ/h => W\n",
    "    Q_dash_T_H_Wat = Q_dash_T_H / (3600 * 10**(-6))\n",
    "    \n",
    "    if  Q_dash_T_H_Wat <= q_ac_min_H:\n",
    "        return r_comp_min_H - (q_ac_min_H - Q_dash_T_H_Wat) * r_comp_min_H  / q_ac_min_H\n",
    "    elif  q_ac_min_H < Q_dash_T_H_Wat <= q_ac_mid_H:\n",
    "        return r_comp_mid_H - (q_ac_mid_H - Q_dash_T_H_Wat) * (r_comp_mid_H - r_comp_min_H)  / (q_ac_mid_H - q_ac_min_H)\n",
    "    elif  q_ac_mid_H < Q_dash_T_H_Wat <= q_ac_rtd_H:\n",
    "        return r_comp_rtd_H - (q_ac_rtd_H - Q_dash_T_H_Wat) * (r_comp_rtd_H - r_comp_mid_H)  / (q_ac_rtd_H - q_ac_mid_H)\n",
    "    elif  q_ac_rtd_H < Q_dash_T_H_Wat:\n",
    "        return r_comp_rtd_H - (q_ac_rtd_H - Q_dash_T_H_Wat) * r_comp_rtd_H  / q_ac_rtd_H\n",
    "    else:\n",
    "        raise Exeption"
   ]
  },
  {
   "cell_type": "markdown",
   "metadata": {},
   "source": [
    "最小暖房能力運転時における理論暖房効率に対する圧縮機の暖房効率の比$r_{comp,min,H}$、中間暖房能力運転時における理論暖房効率に対する圧縮機の暖房効率の比$r_{comp,mid,H}$および定格暖房能力運転時における理論暖房効率に対する圧縮機の暖房効率の比$r_{comp,rtd,H}$は、式(@)により定まる。"
   ]
  },
  {
   "cell_type": "markdown",
   "metadata": {},
   "source": [
    "$$ \n",
    "\\begin{equation*}\n",
    "    r_{comp,min,H} = \\frac{e_{comp,min,H}}{e_{th,min,H}}\n",
    "\\end{equation*}\n",
    "$$\n",
    "\n",
    "<div style=\"text-align: right;\"> (@a) </div>"
   ]
  },
  {
   "cell_type": "markdown",
   "metadata": {},
   "source": [
    "$$ \n",
    "\\begin{equation*}\n",
    "    r_{comp,mid,H} = \\frac{e_{comp,mid,H}}{e_{th,mid,H}}\n",
    "\\end{equation*}\n",
    "$$\n",
    "\n",
    "<div style=\"text-align: right;\"> (@b) </div>"
   ]
  },
  {
   "cell_type": "markdown",
   "metadata": {},
   "source": [
    "$$ \n",
    "\\begin{equation*}\n",
    "    r_{comp,rtd,H} = \\frac{e_{comp,rtd,H}}{e_{th,rtd,H}}\n",
    "\\end{equation*}\n",
    "$$\n",
    "\n",
    "<div style=\"text-align: right;\"> (@c) </div>"
   ]
  },
  {
   "cell_type": "markdown",
   "metadata": {},
   "source": [
    "ここで、  \n",
    "\n",
    "$e_{comp,mid,H}$：中間暖房能力運転時における圧縮機の暖房効率(-)  \n",
    "$e_{comp,min,H}$：最小暖房能力運転時における圧縮機の暖房効率(-)  \n",
    "$e_{comp,rtd,H}$：定格暖房能力運転時における圧縮機の暖房効率(-)  \n",
    "$e_{th,mid,H}$：中間暖房能力運転時におけるヒートポンプサイクルの理論暖房効率(-)  \n",
    "$e_{th,min,H}$：最小暖房能力運転時におけるヒートポンプサイクルの理論暖房効率(-)  \n",
    "$e_{th,rtd,H}$：定格暖房能力運転時におけるヒートポンプサイクルの理論暖房効率(-)  \n",
    "$r_{comp,mid,H}$：中間暖房能力運転時における理論暖房効率に対する圧縮機の暖房効率の比(-)  \n",
    "$r_{comp,min,H}$：最小暖房能力運転時における理論暖房効率に対する圧縮機の暖房効率の比(-)  \n",
    "$r_{comp,rtd,H}$：定格暖房能力運転時における理論暖房効率に対する圧縮機の暖房効率の比(-)   \n",
    "\n",
    "である。"
   ]
  },
  {
   "cell_type": "markdown",
   "metadata": {},
   "source": [
    "最小暖房能力運転時におけるヒートポンプサイクルの理論暖房効率$e_{th,min,H}$、中間暖房能力運転時におけるヒートポンプサイクルの理論暖房効率$e_{th,mid,H}$、定格暖房能力運転時におけるヒートポンプサイクルの理論暖房効率$e_{th,rtd,H}$は、付録Dにより計算される値とする。"
   ]
  },
  {
   "cell_type": "code",
   "execution_count": 14,
   "metadata": {},
   "outputs": [],
   "source": [
    "def r_comp_op_H(e_comp_op_H, e_th_op_H):\n",
    "    '''最小・中間・定格の理論暖房効率に対する圧縮機の暖房効率の比を計算する'''\n",
    "    # e_comp_op_H：任意の能力による運転時における圧縮機の暖房効率(-)\n",
    "    # e_th_op_H：任意の能力による運転時におけるヒートポンプサイクルの理論暖房効率(-)\n",
    "    \n",
    "    return e_comp_op_H/ e_th_op_H"
   ]
  },
  {
   "cell_type": "markdown",
   "metadata": {},
   "source": [
    "最小暖房能力運転時における圧縮機の暖房効率$e_{comp,min,H}$、中間暖房能力運転時における圧縮機の暖房効率$e_{comp,mid,H}$、定格暖房能力運転時における圧縮機の暖房効率$e_{comp,rtd,H}$は、式(@)により計算される値とする。"
   ]
  },
  {
   "cell_type": "markdown",
   "metadata": {},
   "source": [
    "$$ \n",
    "\\begin{equation*}\n",
    "    e_{comp,min,H} = \\frac{q_{ac,min,H}}{P_{ac,min,H} - P_{fan,min,H}}\n",
    "\\end{equation*}\n",
    "$$\n",
    "\n",
    "<div style=\"text-align: right;\"> (@a) </div>"
   ]
  },
  {
   "cell_type": "markdown",
   "metadata": {},
   "source": [
    "$$ \n",
    "\\begin{equation*}\n",
    "    e_{comp,mid,H} = \\frac{q_{ac,mid,H}}{P_{ac,mid,H} - P_{fan,mid,H}}\n",
    "\\end{equation*}\n",
    "$$\n",
    "\n",
    "<div style=\"text-align: right;\"> (@b) </div>"
   ]
  },
  {
   "cell_type": "markdown",
   "metadata": {},
   "source": [
    "$$ \n",
    "\\begin{equation*}\n",
    "    e_{comp,rtd,H} = \\frac{q_{ac,rtd,H}}{P_{ac,rtd,H} - P_{fan,rtd,H}}\n",
    "\\end{equation*}\n",
    "$$\n",
    "\n",
    "<div style=\"text-align: right;\"> (@c) </div>"
   ]
  },
  {
   "cell_type": "markdown",
   "metadata": {},
   "source": [
    "ここで、  \n",
    "\n",
    "$e_{comp,mid,H}$：中間暖房能力運転時における圧縮機の暖房効率(-)  \n",
    "$e_{comp,min,H}$：最小暖房能力運転時における圧縮機の暖房効率(-)  \n",
    "$e_{comp,rtd,H}$：定格暖房能力運転時における圧縮機の暖房効率(-)  \n",
    "$P_{ac,mid,H}$：空調機の中間暖房消費電力(W)   \n",
    "$P_{ac,min,H}$：空調機の最小暖房消費電力(W)   \n",
    "$P_{ac,rtd,H}$：空調機の定格暖房消費電力(W)   \n",
    "$P_{fan,mid,H}$：中間暖房能力運転時における空気搬送ファンの消費電力(W)   \n",
    "$P_{fan,min,H}$：最小暖房能力運転時における空気搬送ファンの消費電力(W)   \n",
    "$P_{fan,rtd,H}$：定格暖房能力運転時における空気搬送ファンの消費電力(W)   \n",
    "$q_{ac,mid,H}$：空調機の中間暖房能力(W)   \n",
    "$q_{ac,min,H}$：空調機の最小暖房能力(W)   \n",
    "$q_{ac,rtd,H}$：空調機の定格暖房能力(W) \n",
    "\n",
    "である。"
   ]
  },
  {
   "cell_type": "markdown",
   "metadata": {},
   "source": [
    "空調機の最小暖房能力$q_{ac,min,H}$、空調機の中間暖房能力$q_{ac,mid,H}$および空調機の定格暖房能力$q_{ac,rtd,H}$、空調機の最小暖房消費電力$P_{ac,min,H}$、空調機の中間暖房消費電力$P_{ac,mid,H}$、空調機の定格暖房消費電力$P_{ac,rtd,H}$、最小暖房能力運転時における空気搬送ファンの消費電力$P_{fan,min,H}$、中間暖房能力運転時における空気搬送ファンの消費電力$P_{fan,mid,H}$および定格暖房能力運転時における空気搬送ファンの消費電力$P_{fan,rtd,H}$は、付録Aにより定まる。"
   ]
  },
  {
   "cell_type": "code",
   "execution_count": 15,
   "metadata": {},
   "outputs": [],
   "source": [
    "def e_comp_op_H(q_ac_op_H, P_ac_op_H, P_fan_op_H):\n",
    "    '''最小・中間・定格の縮機の暖房効率を計算する'''\n",
    "    # q_ac_op_H：空調機の暖房能力(W)\n",
    "    # P_ac_op_H：暖房能力q_ac_op_Hによる運転時における空調機の消費電力(W)\n",
    "    # P_fan_op_H：暖房能力q_ac_op_Hによる運転時における空気搬送ファンの消費電力(W)\n",
    "    \n",
    "    return q_ac_op_H/ (P_ac_op_H - P_fan_op_H)"
   ]
  },
  {
   "cell_type": "markdown",
   "metadata": {},
   "source": [
    "#### 10.2.2　冷房"
   ]
  },
  {
   "cell_type": "markdown",
   "metadata": {},
   "source": [
    "（工事中）"
   ]
  },
  {
   "cell_type": "markdown",
   "metadata": {},
   "source": [
    "## 11.　空気搬送ファン"
   ]
  },
  {
   "cell_type": "markdown",
   "metadata": {},
   "source": [
    "### 11.1　消費電力"
   ]
  },
  {
   "cell_type": "markdown",
   "metadata": {},
   "source": [
    "日付$d$の時刻$t$における空気搬送ファンの消費電力$P_{fan,t,d}$は、式(@)により表される。"
   ]
  },
  {
   "cell_type": "markdown",
   "metadata": {},
   "source": [
    "<p style=\"text-indent:2em\">サーモオフ機能がない場合：</p> \n",
    "$$ \n",
    "\\begin{equation*}\n",
    "    （TGに確認中）\n",
    "\\end{equation*}\n",
    "$$\n",
    "\n",
    "<div style=\"text-align: right;\"> (@a-1) </div>"
   ]
  },
  {
   "cell_type": "markdown",
   "metadata": {},
   "source": [
    "<p style=\"text-indent:2em\">サーモオフ機能がある場合：</p> "
   ]
  },
  {
   "cell_type": "markdown",
   "metadata": {},
   "source": [
    "<p style=\"text-indent:4em\">$V_{fan,d,t} \\leq V_{fan,thermo-off}$の場合：</p> \n",
    "$$ \n",
    "\\begin{equation*}\n",
    "    P_{fan,d,t} = P_{fan,thermo-off}\n",
    "\\end{equation*}\n",
    "$$\n",
    "\n",
    "<div style=\"text-align: right;\"> (@b-1) </div>"
   ]
  },
  {
   "cell_type": "markdown",
   "metadata": {},
   "source": [
    "<p style=\"text-indent:4em\">$V_{fan,thermo-off} < V_{fan,d,t}$の場合：</p> \n",
    "$$ \n",
    "\\begin{equation*}\n",
    "    P_{fan,d,t} = P'_{fan,rtd}  - \\left( P'_{fan,rtd} - P_{thermo-off} \\right) \\times \\frac{V_{fan,rtd}-V_{fan,d,t}}{V_{fan,rtd}-V_{fan,thermo-off}}\n",
    "\\end{equation*}\n",
    "$$\n",
    "\n",
    "<div style=\"text-align: right;\"> (@b-2) </div>"
   ]
  },
  {
   "cell_type": "markdown",
   "metadata": {},
   "source": [
    "ここで、  \n",
    "\n",
    "$P'_{fan,rtd}$：ダクト等の圧力損失による影響を考慮した定格能力運転時における空気搬送ファンの消費電力(W)   \n",
    "$P_{fan,t,d}$：日付$d$の時刻$t$における空気搬送ファンの消費電力(W)   \n",
    "$P_{fan,thermo-off}$：サーモオフ運転時における空気搬送ファンの消費電力(W)   \n",
    "$V_{fan,rtd}$：定格能力運転時における空気搬送ファンの風量(m3/h)    \n",
    "$V_{fan,d,t}$：日付$d$の時刻$t$における1時間あたりの空気搬送ファンの風量(m3/h)   \n",
    "$V_{fan,thermo-off}$：サーモオフ運転時における空気搬送ファンの風量(m3/h)    \n",
    "   \n",
    "である。"
   ]
  },
  {
   "cell_type": "markdown",
   "metadata": {},
   "source": [
    "サーモオフ運転時における空気搬送ファンの消費電力$P_{fan,thermo-off}$、定格能力運転時における空気搬送ファンの風量$V_{fan,rtd}$およびサーモオフ運転時における空気搬送ファンの風量$V_{fan,thermo-off}$は、付録Aにより定まる。"
   ]
  },
  {
   "cell_type": "markdown",
   "metadata": {},
   "source": [
    "ダクト等の圧力損失による影響を考慮した定格能力運転時における空気搬送ファンの消費電力$P'_{fan,rtd}$は、式(@)により計算される。"
   ]
  },
  {
   "cell_type": "markdown",
   "metadata": {},
   "source": [
    "$$ \n",
    "\\begin{equation*}\n",
    "    P'_{fan,rtd} = P_{fan,rtd} + P_{ac,rtd} \\times \\left( C_{pl} -1 \\right)\n",
    "\\end{equation*}\n",
    "$$\n",
    "\n",
    "<div style=\"text-align: right;\"> (@) </div>"
   ]
  },
  {
   "cell_type": "markdown",
   "metadata": {},
   "source": [
    "ここで、  \n",
    "\n",
    "$C_{pl}$：ダクト等圧力損失による空調機の消費電力量補正係数(-)   \n",
    "$P_{ac,rtd}$：定格能力運転時における空調機の消費電力(W)   \n",
    "$P_{fan,rtd}$：定格能力運転時における空気搬送ファンの消費電力(W)   \n",
    "$P'_{fan,rtd}$：ダクト等の圧力損失による影響を考慮した定格能力運転時における空気搬送ファンの消費電力(W)     \n",
    "   \n",
    "である。"
   ]
  },
  {
   "cell_type": "markdown",
   "metadata": {},
   "source": [
    "定格能力運転時における空気搬送ファンの消費電力定格能力運転時における空調機の消費電力$P_{ac,rtd}$および$P_{fan,rtd}$は、付録Aにより定まる。"
   ]
  },
  {
   "cell_type": "markdown",
   "metadata": {},
   "source": [
    "ダクト等圧力損失による空調機の消費電力量補正係数$C_{pl}$は、ダクト等圧力損失の影響により所定の風量に達しない場合に空気搬送ファンの周波数が増段すること（風量補正機能）による空調機の消費電力量への増加を考慮するための係数であり、空気搬送ファンに風量補正機能がない場合は1.0とし、空気搬送ファンに風量補正機能がある場合は付録Bにより定まる値とする。"
   ]
  },
  {
   "cell_type": "markdown",
   "metadata": {},
   "source": [
    "### 11.2　風量"
   ]
  },
  {
   "cell_type": "markdown",
   "metadata": {},
   "source": [
    "日付$d$の時刻$t$における1時間あたりの空気搬送ファンの風量$V_{fan,d,t}$は、式(@)により表される。"
   ]
  },
  {
   "cell_type": "markdown",
   "metadata": {},
   "source": [
    "<p style=\"text-indent:2em\">サーモオフ機能がない場合：</p> \n",
    "$$ \n",
    "\\begin{equation*}\n",
    "    （TGに確認中）\n",
    "\\end{equation*}\n",
    "$$\n",
    "\n",
    "<div style=\"text-align: right;\"> (@a-1) </div>"
   ]
  },
  {
   "cell_type": "markdown",
   "metadata": {},
   "source": [
    "<p style=\"text-indent:2em\">サーモオフ機能がある場合：</p> \n",
    "$$ \n",
    "\\begin{equation*}\n",
    "    V_{fan,d,t} = \\left\\{ \\frac{Q'_{T,H,d,t}}{q_{rtd} \\times 3600 \\times 10^{-6}} \\times \\left( V_{fan,rtd} -V_{fan,thermo-off} \\right) + V_{fan,thermo-off} \\right\\} \\times \\frac{V_{fa,dsng}}{V_{fa,rtd}}\n",
    "\\end{equation*}\n",
    "$$\n",
    "\n",
    "<div style=\"text-align: right;\"> (@b-1) </div>"
   ]
  },
  {
   "cell_type": "markdown",
   "metadata": {},
   "source": [
    "ここで、  \n",
    "\n",
    "$Q'_{T,H,d,t}$：日付$d$の時刻$t$における1時間当たりの補正処理暖房負荷(MJ/h)  \n",
    "$q_{ac,rtd,H}$：空調機の定格暖房能力(W)   \n",
    "$V_{fan,dsng}$：空気搬送ファンの設計風量(m3/h)    \n",
    "$V_{fan,rtd}$：定格能力運転時における空気搬送ファンの風量(m3/h)    \n",
    "$V_{fan,d,t}$：日付$d$の時刻$t$における1時間あたりの空気搬送ファンの風量(m3/h)   \n",
    "$V_{fan,thermo-off}$：サーモオフ運転時における空気搬送ファンの風量(m3/h)    \n",
    "\n",
    "である。"
   ]
  },
  {
   "cell_type": "markdown",
   "metadata": {},
   "source": [
    "空調機の定格暖房能力$q_{ac,rtd,H}$、定格能力運転時における空気搬送ファンの風量$V_{fan,rtd}$およびサーモオフ運転時における空気搬送ファンの風量$V_{fan,thermo-off}$は、付録Aにより定まる。空気搬送ファンの設計風量$V_{fan,dsng}$は、＊＊＊＊（TGに確認中）により定まる。"
   ]
  },
  {
   "cell_type": "markdown",
   "metadata": {},
   "source": [
    "## 付録A　機器の性能を表す仕様の決定方法"
   ]
  },
  {
   "cell_type": "markdown",
   "metadata": {},
   "source": [
    "### A.2　暖房能力・冷房能力・暖房消費電力・冷房消費電力"
   ]
  },
  {
   "cell_type": "markdown",
   "metadata": {},
   "source": [
    "#### A.2.1　JIS B8615-2の性能試験による測定値を用いる方法"
   ]
  },
  {
   "cell_type": "markdown",
   "metadata": {},
   "source": [
    "消費電力および暖房能力が既知の動作点が中間・定格の2点の場合、$q_{mid,H}$、$q_{rtd,H}$はJIS＊＊＊＊が定める性能試験により得られる値とし、$q_{min,H}$は式(@)により計算される値とする。"
   ]
  },
  {
   "cell_type": "markdown",
   "metadata": {},
   "source": [
    "$$ \n",
    "\\begin{equation*}\n",
    "    q_{min,H} = q_{rtd,H} \\times 0.35\n",
    "\\end{equation*}\n",
    "$$\n",
    "\n",
    "<div style=\"text-align: right;\"> (@) </div>"
   ]
  },
  {
   "cell_type": "markdown",
   "metadata": {},
   "source": [
    "消費電力および暖房能力が既知の動作点が定格の1点の場合、$q_{rtd,H}$はJIS＊＊＊＊が定める性能試験により得られる値とし、$q_{min,H}$、$q_{mid,H}$は式(@)により計算される値とする。"
   ]
  },
  {
   "cell_type": "markdown",
   "metadata": {},
   "source": [
    "$$ \n",
    "\\begin{equation*}\n",
    "    q_{min,H} = q_{rtd,H} \\times 0.35\n",
    "\\end{equation*}\n",
    "$$\n",
    "\n",
    "<div style=\"text-align: right;\"> (@-1) </div>"
   ]
  },
  {
   "cell_type": "markdown",
   "metadata": {},
   "source": [
    "$$ \n",
    "\\begin{equation*}\n",
    "    q_{mid,H} = q_{rtd,H} \\times 0.50\n",
    "\\end{equation*}\n",
    "$$\n",
    "\n",
    "<div style=\"text-align: right;\"> (@-2) </div>"
   ]
  },
  {
   "cell_type": "markdown",
   "metadata": {},
   "source": [
    "（消費電力の定め方をTGに確認中）"
   ]
  },
  {
   "cell_type": "markdown",
   "metadata": {},
   "source": [
    "#### A.2.2　床面積に基づく方法"
   ]
  },
  {
   "cell_type": "markdown",
   "metadata": {},
   "source": [
    "（定格以外の定め方をTGに確認中）"
   ]
  },
  {
   "cell_type": "markdown",
   "metadata": {},
   "source": [
    "### A.3　空気搬送の風量及び消費電力"
   ]
  },
  {
   "cell_type": "markdown",
   "metadata": {},
   "source": [
    "#### A.3.1　暖房時・冷房時"
   ]
  },
  {
   "cell_type": "markdown",
   "metadata": {},
   "source": [
    "（工事中）"
   ]
  },
  {
   "cell_type": "markdown",
   "metadata": {},
   "source": [
    "#### A.3.2　サーモオフ時"
   ]
  },
  {
   "cell_type": "markdown",
   "metadata": {},
   "source": [
    "（工事中）"
   ]
  },
  {
   "cell_type": "markdown",
   "metadata": {},
   "source": [
    "## 付録D　ヒートポンプサイクルの理論効率"
   ]
  },
  {
   "cell_type": "markdown",
   "metadata": {},
   "source": [
    "### D.3　ヒートポンプサイクルの理論暖房効率"
   ]
  },
  {
   "cell_type": "markdown",
   "metadata": {},
   "source": [
    "ヒートポンプサイクルの理論暖房効率$e_{th,op,H}$は、式(@)により定まる。"
   ]
  },
  {
   "cell_type": "markdown",
   "metadata": {},
   "source": [
    "$$ \n",
    "\\begin{equation*} \n",
    "    e_{th,op,H} = -0.0032 \\times f_{H} \\left( \\theta_{ex} , \\: \\theta_{hex} \\right) ^{4} +0.1196 \\times f_{H} \\left( \\theta_{ex} , \\: \\theta_{hex} \\right) ^{3} -1.7392 \\times f_{H} \\left( \\theta_{ex} , \\: \\theta_{hex} \\right) ^{2} +12.242 \\times f_{H} \\left( \\theta_{ex} , \\: \\theta_{hex} \\right)  -25.821\n",
    "\\end{equation*}\n",
    "$$\n",
    "\n",
    "<div style=\"text-align: right;\"> (@) </div>"
   ]
  },
  {
   "cell_type": "markdown",
   "metadata": {},
   "source": [
    "$$ \n",
    "\\begin{equation*} \n",
    "    f_{H} \\left( \\theta_{ex} , \\: \\theta_{hex} \\right) = 15.38582 + 0.255506 \\times \\theta_{ex} -0.23883 \\times \\theta_{hex} \n",
    "\\end{equation*}\n",
    "$$\n",
    "\n",
    "<div style=\"text-align: right;\"> (@) </div>"
   ]
  },
  {
   "cell_type": "markdown",
   "metadata": {},
   "source": [
    "ここで、  \n",
    "\n",
    "$f_{H} \\left( \\theta_{ex} , \\: \\theta_{hex} \\right)$：  \n",
    "$e_{th,op,H}$：任意の能力による運転時におけるヒートポンプサイクルの理論暖房効率(-)  \n",
    "$\\theta_{ex}$：外気温度(℃)  \n",
    "$\\theta_{hex}$：室内機熱交換器表面温度(℃)\n",
    "\n",
    "である。"
   ]
  },
  {
   "cell_type": "markdown",
   "metadata": {},
   "source": [
    "### D.4　室内機熱交換器表面温度"
   ]
  },
  {
   "cell_type": "markdown",
   "metadata": {},
   "source": [
    "室内機熱交換器表面温度$\\theta_{hex}$は、式(@)により表される。"
   ]
  },
  {
   "cell_type": "markdown",
   "metadata": {},
   "source": [
    "$$ \n",
    "\\begin{equation*} \n",
    "    \\theta_{hex} = \\frac{\\theta_{RA} + \\theta_{SA}}{2} + \\frac{Q'_{T,H} \\div \\left( 3600 \\times 10^{-3} \\right)}{A_{e, hex} \\times \\alpha_{s}}\n",
    "\\end{equation*}\n",
    "$$\n",
    "\n",
    "<div style=\"text-align: right;\"> (@) </div>"
   ]
  },
  {
   "cell_type": "markdown",
   "metadata": {},
   "source": [
    "ここで、  \n",
    "\n",
    "$A'_{e,hex}$：室内機熱交換器の有効表面積(m2)  \n",
    "$Q'_{T,H}$：1時間当たりの補正処理暖房負荷(MJ/h)  \n",
    "$\\theta_{ex}$：外気温度(℃)  \n",
    "$\\theta_{hex}$：室内機熱交換器表面温度(℃)  \n",
    "$\\theta_{SA}$：室内機吹出空気温度(℃)  \n",
    "$\\theta_{RA}$：室内機吸込空気温度(℃)   \n",
    "$\\alpha_{s}$：顕熱伝達率(kW/(m2・K))\n",
    "\n",
    "である。"
   ]
  },
  {
   "cell_type": "markdown",
   "metadata": {},
   "source": [
    "室内機吸込空気温度$\\theta_{RA}$は、暖房設定温度$\\theta_{ref}$（20 ℃）とする。室内機熱交換器の有効表面積$A'_{e,hex}$は、6.396 m2とする。"
   ]
  },
  {
   "cell_type": "markdown",
   "metadata": {},
   "source": [
    "室内機吹出空気温度$\\theta_{SA}$は、式(@)により表される。"
   ]
  },
  {
   "cell_type": "markdown",
   "metadata": {},
   "source": [
    "$$ \n",
    "\\begin{equation*} \n",
    "    \\theta_{SA} = \\theta_{RA} + \\frac{Q'_{T,H} \\div \\left( 3600 \\times 10^{-3} \\right)}{V_{fan} \\div 3600 \\times \\rho_{RA} \\times 10^{-3} \\times C_{p_{air}, RA}}\n",
    "\\end{equation*}\n",
    "$$\n",
    "\n",
    "<div style=\"text-align: right;\"> (@) </div>"
   ]
  },
  {
   "cell_type": "markdown",
   "metadata": {},
   "source": [
    "ここで、  \n",
    "\n",
    "$C_{p_{air},RA}$：室内機吸込空気の定圧比熱(kJ/(kg・K))  \n",
    "$Q'_{T,H}$：1時間当たりの補正処理暖房負荷(MJ/h)  \n",
    "$V_{fan}$：空気搬送ファンの風量(m3/h)  \n",
    "$\\theta_{SA}$：室内機吹出空気温度(℃)  \n",
    "$\\theta_{RA}$：室内機吸込空気温度(℃)   \n",
    "$\\rho_{RA}$：室内機吸込空気の密度(g/m3)\n",
    "\n",
    "である。"
   ]
  },
  {
   "cell_type": "markdown",
   "metadata": {},
   "source": [
    "室内機吸込空気の密度$\\rho_{RA}$は、式(@)により表される。"
   ]
  },
  {
   "cell_type": "markdown",
   "metadata": {},
   "source": [
    "$$ \n",
    "\\begin{equation*} \n",
    "    \\rho_{RA} = \\frac{10^{6}}{4.555 \\times \\left( 0.622 + X_{RA} \\right) \\times \\left( 273.16 + \\theta_{RA} \\right)}\n",
    "\\end{equation*}\n",
    "$$\n",
    "\n",
    "<div style=\"text-align: right;\"> (@) </div>"
   ]
  },
  {
   "cell_type": "markdown",
   "metadata": {},
   "source": [
    "ここで、  \n",
    "\n",
    "$X_{RA}$：室内機吸込空気絶対湿度(kg/kg(DA))  \n",
    "$\\theta_{RA}$：室内機吸込空気温度(℃)   \n",
    "$\\rho_{RA}$：室内機吸込空気の密度(g/m3)  \n",
    "\n",
    "である。"
   ]
  },
  {
   "cell_type": "markdown",
   "metadata": {},
   "source": [
    "室内機吸込空気絶対湿度$\\theta_{RA}$は、室内機吸込空気温度$\\theta_{RA}$（暖房設定温度$\\theta_{ref}$に等しく、20℃）および室内機吸込空気温度$h_{RA}$（59%）を用いて、第十一章第一節により算定される。"
   ]
  },
  {
   "cell_type": "markdown",
   "metadata": {},
   "source": [
    "室内機吸込空気の定圧比熱$C_{p_{air},RA}$は、式(@)により表される。"
   ]
  },
  {
   "cell_type": "markdown",
   "metadata": {},
   "source": [
    "$$ \n",
    "\\begin{equation*} \n",
    "    C_{p_{air},RA} = 1.006 + X_{RA} \\times 10^{-3} \\times C_{p_{w}}\n",
    "\\end{equation*}\n",
    "$$\n",
    "\n",
    "<div style=\"text-align: right;\"> (@) </div>"
   ]
  },
  {
   "cell_type": "markdown",
   "metadata": {},
   "source": [
    "ここで、  \n",
    "\n",
    "$C_{p_{air},RA}$：室内機吸込空気の定圧比熱(kJ/(kg・K))  \n",
    "$C_{p_{w}}$：水蒸気の定圧比熱(kJ/(kg・K))  \n",
    "$X_{RA}$：室内機吸込空気絶対湿度(kg/kg(DA))  \n",
    "\n",
    "である。"
   ]
  },
  {
   "cell_type": "markdown",
   "metadata": {},
   "source": [
    "水蒸気の定圧比熱$C_{p_{w}}$は、1.846 kJ/(kg・K)とする。"
   ]
  },
  {
   "cell_type": "markdown",
   "metadata": {},
   "source": [
    "顕熱伝達率$\\alpha_{s}$は、式(@)により表される。"
   ]
  },
  {
   "cell_type": "markdown",
   "metadata": {},
   "source": [
    "$$ \n",
    "\\begin{equation*} \n",
    "    \\alpha_{s} = -0.001679 \\times \\left( \\frac{V_{fan} \\div 3600}{A_{hex,f}} \\right)^{2}  -0.0044019 \\times \\frac{V_{fan} \\div 3600}{A_{hex,f}} +0.02706\n",
    "\\end{equation*} \n",
    "$$\n",
    "\n",
    "<div style=\"text-align: right;\"> (@) </div>"
   ]
  },
  {
   "cell_type": "markdown",
   "metadata": {},
   "source": [
    "ここで、  \n",
    "\n",
    "$A_{hex,f}$：室内機熱交換器の前面投影面積(m2)  \n",
    "$Q'_{T,H}$：1時間当たりの補正処理暖房負荷(MJ/h)  \n",
    "$V_{fan}$：空気搬送ファンの風量(m3/h)  \n",
    "$\\alpha_{s}$：顕熱伝達率(kW/(m2・K))  \n",
    "\n",
    "である。"
   ]
  },
  {
   "cell_type": "markdown",
   "metadata": {},
   "source": [
    "室内機熱交換器の前面投影面積$A_{hex,f}$は、0.23559 m2とする。"
   ]
  }
 ],
 "metadata": {
  "kernelspec": {
   "display_name": "Python 3",
   "language": "python",
   "name": "python3"
  },
  "language_info": {
   "codemirror_mode": {
    "name": "ipython",
    "version": 3
   },
   "file_extension": ".py",
   "mimetype": "text/x-python",
   "name": "python",
   "nbconvert_exporter": "python",
   "pygments_lexer": "ipython3",
   "version": "3.6.3"
  }
 },
 "nbformat": 4,
 "nbformat_minor": 2
}
