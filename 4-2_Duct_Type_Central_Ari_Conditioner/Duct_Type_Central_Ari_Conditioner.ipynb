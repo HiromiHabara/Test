{
 "cells": [
  {
   "cell_type": "code",
   "execution_count": 1,
   "metadata": {},
   "outputs": [],
   "source": [
    "import numpy as np\n",
    "import math\n",
    "from enum import Enum\n",
    "from collections import namedtuple\n",
    "\n",
    "# matplotlib\n",
    "# ライブラリーのインポート\n",
    "import matplotlib.pyplot as plt\n",
    "# インライン表示\n",
    "%matplotlib inline\n",
    "\n",
    "# 日本語フォント\n",
    "import pylab\n",
    "from matplotlib.font_manager import FontProperties\n",
    "# 日本語フォント\n",
    "fp = FontProperties(fname='C:\\WINDOWS\\Fonts\\msgothic.ttc', size = 12)"
   ]
  },
  {
   "cell_type": "markdown",
   "metadata": {},
   "source": [
    "# 第四章　暖冷房設備"
   ]
  },
  {
   "cell_type": "markdown",
   "metadata": {},
   "source": [
    "# 第二節　ダクト式セントラル空調機"
   ]
  },
  {
   "cell_type": "markdown",
   "metadata": {},
   "source": [
    "## 5.　最大暖房出力"
   ]
  },
  {
   "cell_type": "markdown",
   "metadata": {},
   "source": [
    "日付$d$の時刻$t$における1時間当たりの最大暖房出力$Q_{max,H,d,t}$は、式(1)により表される。"
   ]
  },
  {
   "cell_type": "markdown",
   "metadata": {},
   "source": [
    "$$ \n",
    "\\begin{equation*}\n",
    "    Q_{max,H,d,t} = q_{ac,rtd,H} \\times C_{df,d,t} \\times 3600 \\times 10^{-6}\n",
    "\\end{equation*}\n",
    "$$\n",
    "\n",
    "\n",
    "<div style=\"text-align: right;\"> (1) </div>"
   ]
  },
  {
   "cell_type": "markdown",
   "metadata": {},
   "source": [
    "ここで、  \n",
    "\n",
    "$Q_{max,H,d,t}$：日付$d$の時刻$t$における1時間当たりの最大暖房出力(MJ/h)  \n",
    "$q_{ac,rtd,H}$：空調機の定格暖房能力(W)  \n",
    "$C_{df,d,t}$：日付$d$の時刻$t$におけるデフロストに関する暖房出力補正係数(-)  \n",
    "\n",
    "である。"
   ]
  },
  {
   "cell_type": "markdown",
   "metadata": {},
   "source": [
    "空調機の定格暖房能力$q_{ac,rtd,H}$は、付録Aにより定まる。"
   ]
  },
  {
   "cell_type": "code",
   "execution_count": 2,
   "metadata": {},
   "outputs": [],
   "source": [
    "def Q_max_H(q_ac_rtd_H, C_df):\n",
    "    '''最大暖房出力(MJ/h)を計算する'''\n",
    "    # q_ac_rtd_H: 空調機の定格暖房能力(W)\n",
    "    # C_df: デフロストに関する暖房出力補正係数(-)\n",
    "\n",
    "    return q_ac_rtd_H * C_df * 3600 * 10**(-6)"
   ]
  },
  {
   "cell_type": "markdown",
   "metadata": {},
   "source": [
    "日付$d$の時刻$t$におけるデフロストに関する暖房出力補正係数$C_{df,d,t}$は、外気温度$\\theta_{ex,d,t}$が5℃未満かつ外気相対湿度$h_{ex,d,t}$が80%以上の場合にデフロストが発生すると仮定して、式(2)により定まる。"
   ]
  },
  {
   "cell_type": "markdown",
   "metadata": {},
   "source": [
    "<p style=\"text-indent:2em\">外気温度$\\theta_{ex,d,t}$が5℃未満かつ外気相対湿度$h_{ex,d,t}$が80%以上の場合：</p>  \n",
    "$$ \n",
    "\\begin{equation*}\n",
    "   C_{df,d,t} = 0.77\n",
    "\\end{equation*}\n",
    "$$\n",
    "\n",
    "\n",
    "<div style=\"text-align: right;\"> (2-1) </div>"
   ]
  },
  {
   "cell_type": "markdown",
   "metadata": {},
   "source": [
    "<p style=\"text-indent:2em\">外気温度$\\theta_{ex,d,t}$が5℃以上かつ外気相対湿度$h_{ex,d,t}$が80%未満の場合：</p>  \n",
    "$$ \n",
    "\\begin{equation*}\n",
    "   C_{df,d,t} = 1.0\n",
    "\\end{equation*}\n",
    "$$\n",
    "\n",
    "\n",
    "<div style=\"text-align: right;\"> (2-2) </div>"
   ]
  },
  {
   "cell_type": "markdown",
   "metadata": {},
   "source": [
    "ここで、  \n",
    "\n",
    "$C_{df,d,t}$：日付$d$の時刻$t$におけるデフロストに関する暖房出力補正係数(-)  \n",
    "$h_{ex,d,t}$：日付$d$の時刻$t$における外気相対湿度(%)  \n",
    "$\\theta_{ex,d,t}$：日付$d$の時刻$t$における外気温度(℃)  \n",
    "\n",
    "である。"
   ]
  },
  {
   "cell_type": "code",
   "execution_count": 3,
   "metadata": {},
   "outputs": [],
   "source": [
    "def get_C_df(theta_ex, h_ex):\n",
    "    '''デフロストに関する暖房出力補正係数(-)を取得する'''\n",
    "    # theta_ex: 外気温度(℃)\n",
    "    # h_ex: 外気相対湿度(%)\n",
    "    \n",
    "    if theta_ex < 5 and 80<= h_ex:\n",
    "        return  0.77\n",
    "    else:\n",
    "        return  1.0"
   ]
  },
  {
   "cell_type": "markdown",
   "metadata": {},
   "source": [
    "Example"
   ]
  },
  {
   "cell_type": "code",
   "execution_count": 4,
   "metadata": {
    "scrolled": false
   },
   "outputs": [
    {
     "data": {
      "text/plain": [
       "array([[1.  , 0.77, 0.77],\n",
       "       [1.  , 1.  , 1.  ],\n",
       "       [1.  , 1.  , 1.  ]])"
      ]
     },
     "execution_count": 4,
     "metadata": {},
     "output_type": "execute_result"
    }
   ],
   "source": [
    "np.vectorize(get_C_df)([[4],[5],[6]],[79,80,81])"
   ]
  },
  {
   "cell_type": "code",
   "execution_count": 5,
   "metadata": {},
   "outputs": [
    {
     "data": {
      "text/plain": [
       "3.5999999999999996"
      ]
     },
     "execution_count": 5,
     "metadata": {},
     "output_type": "execute_result"
    }
   ],
   "source": [
    "Q_max_H(1000, get_C_df(20, 70))"
   ]
  },
  {
   "cell_type": "code",
   "execution_count": 6,
   "metadata": {},
   "outputs": [
    {
     "data": {
      "image/png": "[encoded data removed]",
      "text/plain": [
       "<matplotlib.figure.Figure at 0x1a1baf9d780>"
      ]
     },
     "metadata": {},
     "output_type": "display_data"
    }
   ],
   "source": [
    "# 出力結果\n",
    "plt.figure(figsize = (8, 3), dpi=80 )\n",
    "plt.subplot2grid((1, 1), (0, 0))\n",
    "plt.title('最大暖房出力', fontdict={'fontproperties':fp})\n",
    "\n",
    "for i,category in enumerate(['補正なし','補正あり']):\n",
    "    x_values =[x for x in range(0, 10000)]\n",
    "    y_values = {'補正なし' :[Q_max_H(x, get_C_df(20, 70)) for x in x_values],\n",
    "                '補正あり' :[Q_max_H(x, get_C_df( 0, 90)) for x in x_values]}[category]\n",
    "    plt.plot(x_values, y_values, label=category)\n",
    "        \n",
    "ax=plt.gca()\n",
    "ax.set_xlabel('定格暖房能力(W)', fontdict={'fontproperties':fp})\n",
    "ax.set_xticks([x for x in range(0, 11000, 1000)], minor=False)\n",
    "ax.set_xbound(lower=0, upper=10000)\n",
    "\n",
    "ax.set_ylabel('最大暖房出力(MJ/h)', fontdict={'fontproperties':fp})\n",
    "ax.set_yticks([y for y in range(0, 60, 10)], minor=False)\n",
    "ax.set_ybound(lower=0, upper=50)\n",
    "\n",
    "ax.grid(which='major', color='lightgray', alpha=0.7, linestyle='-')     \n",
    "plt.legend(loc='center left', bbox_to_anchor=(1, 0.5), borderaxespad=0.5, frameon=True, prop=fp)\n",
    "\n",
    "plt.show()"
   ]
  },
  {
   "cell_type": "markdown",
   "metadata": {},
   "source": [
    "## 6.　暖房エネルギー消費量"
   ]
  },
  {
   "cell_type": "markdown",
   "metadata": {},
   "source": [
    "### 6.1　消費電力量"
   ]
  },
  {
   "cell_type": "markdown",
   "metadata": {},
   "source": [
    "日付$d$の時刻$t$における1時間当たりの消費電力量$E_{E,H,d,t}$は、式(3)により表される。"
   ]
  },
  {
   "cell_type": "markdown",
   "metadata": {},
   "source": [
    "<p style=\"text-indent:2em\">TG案：</p> \n",
    "<p style=\"text-indent:4em\">最小・中間・定格の仕様が既知の場合、もしくは中間・定格の仕様が既知の場合：</p> \n",
    "$$ \n",
    "\\begin{equation*}\n",
    "    E_{E,H,d,t} = \\left( E_{E,comp,H,d,t} + E_{E,fan,H,d,t} \\right) \\times C_{DL}\n",
    "\\end{equation*}\n",
    "$$\n",
    "\n",
    "\n",
    "<div style=\"text-align: right;\"> (3) </div>"
   ]
  },
  {
   "cell_type": "markdown",
   "metadata": {},
   "source": [
    "<p style=\"text-indent:4em\">定格の仕様のみが既知の場合：</p> \n",
    "$$ \n",
    "\\begin{equation*}\n",
    "    E_{E,H,d,t} = \\mbox{（現行の評価法）}\n",
    "\\end{equation*}\n",
    "$$\n",
    "\n",
    "\n",
    "<div style=\"text-align: right;\"> (3) </div>"
   ]
  },
  {
   "cell_type": "markdown",
   "metadata": {},
   "source": [
    "ここで、  \n",
    "\n",
    "$C_{DL}$：断熱区画外ダクト熱損失による消費電力量補正係数(-)  \n",
    "$E_{E,fan,H,d,t}$：日付$d$の時刻$t$における暖房時の1時間当たりの空気搬送ファンの消費電力量(kWh/h)  \n",
    "$E_{E,comp,H,d,t}$：日付$d$の時刻$t$における暖房時の1時間当たりの圧縮機の消費電力量(kWh/h)  \n",
    "$E_{E,H,d,t}$：日付$d$の時刻$t$における1時間当たりの暖房の消費電力量(kWh/h)  \n",
    "\n",
    "である。"
   ]
  },
  {
   "cell_type": "markdown",
   "metadata": {},
   "source": [
    "断熱区画外ダクト熱損失による消費電力量補正係数$C_{DL}$は、付録Cにより定まる。"
   ]
  },
  {
   "cell_type": "code",
   "execution_count": 7,
   "metadata": {},
   "outputs": [],
   "source": [
    "def E_E_H(E_E_comp_H, E_E_fan_H, C_DL):\n",
    "    '''暖房の消費電力量(kWh/h)を計算する'''\n",
    "    # E_E_comp_H：圧縮機の消費電力量(kWh/h)  \n",
    "    # E_E_fan_H：空気搬送ファンの消費電力量(kWh/h)\n",
    "    # C_DL：断熱区画外ダクト熱損失による消費電力量補正係数(-)  \n",
    "    \n",
    "    return (E_E_comp_H + E_E_fan_H) * C_DL"
   ]
  },
  {
   "cell_type": "markdown",
   "metadata": {},
   "source": [
    "<p style=\"text-indent:2em\">変更案：</p> \n",
    "$$ \n",
    "\\begin{equation*}\n",
    "    E_{E,H,d,t} = E_{E,comp,H,d,t} + E_{E,fan,H,d,t} \n",
    "\\end{equation*}\n",
    "$$\n",
    "\n",
    "\n",
    "<div style=\"text-align: right;\"> (3) </div>"
   ]
  },
  {
   "cell_type": "markdown",
   "metadata": {},
   "source": [
    "ここで、  \n",
    "\n",
    "$E_{E,fan,H,d,t}$：日付$d$の時刻$t$における1時間当たりの空気搬送ファンの消費電力量のうちの暖房設備への負荷分(kWh/h)  \n",
    "$E_{E,comp,H,d,t}$：日付$d$の時刻$t$における暖房時の1時間当たりの圧縮機の消費電力量(kWh/h)  \n",
    "$E_{E,H,d,t}$：日付$d$の時刻$t$における1時間当たりの暖房の消費電力量(kWh/h)  \n",
    "\n",
    "である。"
   ]
  },
  {
   "cell_type": "code",
   "execution_count": 8,
   "metadata": {},
   "outputs": [],
   "source": [
    "def E_E_H_rev(E_E_comp_H, E_E_fan_H):\n",
    "    '''暖房の消費電力量(kWh/h)を計算する'''\n",
    "    # E_E_comp_H：圧縮機の消費電力量(kWh/h)  \n",
    "    # E_E_fan_H：空気搬送ファンの消費電力量(kWh/h)\n",
    "    \n",
    "    return E_E_comp_H + E_E_fan_H"
   ]
  },
  {
   "cell_type": "markdown",
   "metadata": {},
   "source": [
    "### 6.2　ガス消費量"
   ]
  },
  {
   "cell_type": "markdown",
   "metadata": {},
   "source": [
    "（省略）"
   ]
  },
  {
   "cell_type": "markdown",
   "metadata": {},
   "source": [
    "### 6.3　石油消費量"
   ]
  },
  {
   "cell_type": "markdown",
   "metadata": {},
   "source": [
    "（省略）"
   ]
  },
  {
   "cell_type": "markdown",
   "metadata": {},
   "source": [
    "### 6.4　その他の燃料による一次エネルギー消費量"
   ]
  },
  {
   "cell_type": "markdown",
   "metadata": {},
   "source": [
    "（省略）"
   ]
  },
  {
   "cell_type": "markdown",
   "metadata": {},
   "source": [
    "## 7.　最大冷房出力"
   ]
  },
  {
   "cell_type": "markdown",
   "metadata": {},
   "source": [
    "（工事中）"
   ]
  },
  {
   "cell_type": "markdown",
   "metadata": {},
   "source": [
    "## 8.　冷房エネルギー消費量"
   ]
  },
  {
   "cell_type": "markdown",
   "metadata": {},
   "source": [
    "（工事中）"
   ]
  },
  {
   "cell_type": "markdown",
   "metadata": {},
   "source": [
    "## 9.　換気エネルギー消費量"
   ]
  },
  {
   "cell_type": "markdown",
   "metadata": {},
   "source": [
    "（工事中）"
   ]
  },
  {
   "cell_type": "markdown",
   "metadata": {},
   "source": [
    "## 10.　圧縮機"
   ]
  },
  {
   "cell_type": "markdown",
   "metadata": {},
   "source": [
    "### 10.1　消費電力量"
   ]
  },
  {
   "cell_type": "markdown",
   "metadata": {},
   "source": [
    "#### 10.1.1　暖房"
   ]
  },
  {
   "cell_type": "markdown",
   "metadata": {},
   "source": [
    "日付$d$の時刻$t$における1時間当たりの圧縮機の消費電力量$E_{E,comp,H,d,t}$は、式(@)により表される。"
   ]
  },
  {
   "cell_type": "markdown",
   "metadata": {},
   "source": [
    "<p style=\"text-indent:2em\">TG案：</p> \n",
    "$$ \n",
    "\\begin{equation*}\n",
    "    E_{E,comp,H,d,t} = \\frac{{Q'_{T,H,d,t}}} {e_{th,H,d,t} \\times r_{comp,H,d,t}}\n",
    "\\end{equation*}\n",
    "$$\n",
    "\n",
    "\n",
    "<div style=\"text-align: right;\"> (@) </div>"
   ]
  },
  {
   "cell_type": "markdown",
   "metadata": {},
   "source": [
    "ここで、  \n",
    "\n",
    "$E_{E,comp,H,d,t}$：日付$d$の時刻$t$における暖房時の1時間当たりの圧縮機の消費電力量(kWh/h)  \n",
    "$e_{th,H,d,t}$：日付$d$の時刻$t$における冷凍サイクルの理論暖房効率(-)  \n",
    "$Q'_{T,H,d,t}$：日付$d$の時刻$t$における1時間当たりの補正処理暖房負荷(MJ/h)  \n",
    "$r_{comp,H,d,t}$：日付$d$の時刻$t$における冷凍サイクルの理論暖房効率に対する圧縮機の暖房効率の比(-)  \n",
    "\n",
    "である。"
   ]
  },
  {
   "cell_type": "code",
   "execution_count": 9,
   "metadata": {},
   "outputs": [],
   "source": [
    "def E_E_comp_H(Q_dash_T_H, e_th_H, r_comp_H):\n",
    "    '''暖房時の圧縮機の消費電力量(kWh/h)を計算する'''\n",
    "    # Q_dash_T_H：補正処理暖房負荷(MJ/h)  \n",
    "    # e_th_H：冷凍サイクルの理論暖房効率(-)  \n",
    "    # r_comp_H：冷凍サイクルの理論暖房効率に対する圧縮機の暖房効率の比(-)  \n",
    "    \n",
    "    return Q_dash_T_H / (e_th_H * r_comp_H)"
   ]
  },
  {
   "cell_type": "markdown",
   "metadata": {},
   "source": [
    "<p style=\"text-indent:2em\">変更案：</p> \n",
    "$$ \n",
    "\\begin{equation*}\n",
    "    E_{E,comp,H,d,t} = \\frac{{Q'_{T,H,d,t}}} {e_{th,H,d,t} \\times r_{comp,H,d,t} \\times C_{df,d,t}}\n",
    "\\end{equation*}\n",
    "$$\n",
    "\n",
    "\n",
    "<div style=\"text-align: right;\"> (@) </div>"
   ]
  },
  {
   "cell_type": "markdown",
   "metadata": {},
   "source": [
    "ここで、  \n",
    "\n",
    "$C_{df,d,t}$：日付$d$の時刻$t$におけるデフロストに関する暖房出力補正係数(-)  \n",
    "$E_{E,comp,H,d,t}$：日付$d$の時刻$t$における暖房時の1時間当たりの圧縮機の消費電力量(kWh/h)  \n",
    "$e_{th,H,d,t}$：日付$d$の時刻$t$における冷凍サイクルの理論暖房効率(-)  \n",
    "$Q'_{T,H,d,t}$：日付$d$の時刻$t$における1時間当たりの補正処理暖房負荷(MJ/h)  \n",
    "$r_{comp,H,d,t}$：日付$d$の時刻$t$における冷凍サイクルの理論暖房効率に対する圧縮機の暖房効率の比(-)  \n",
    "\n",
    "である。"
   ]
  },
  {
   "cell_type": "code",
   "execution_count": 10,
   "metadata": {},
   "outputs": [],
   "source": [
    "def E_E_comp_H_rev(Q_dash_T_H, e_th_H, r_comp_H, C_df):\n",
    "    '''暖房時の圧縮機の消費電力量(kWh/h)を計算する'''\n",
    "    # Q_dash_T_H：補正処理暖房負荷(MJ/h)  \n",
    "    # e_th_H：冷凍サイクルの理論暖房効率(-)  \n",
    "    # r_comp_H：冷凍サイクルの理論暖房効率に対する圧縮機の暖房効率の比(-)  \n",
    "    # C_df: デフロストに関する暖房出力補正係数(-)\n",
    "    \n",
    "    return Q_dash_T_H / (e_th_H * r_comp_H * C_df)"
   ]
  },
  {
   "cell_type": "markdown",
   "metadata": {},
   "source": [
    "日付$d$の時刻$t$におけるヒートポンプサイクルの理論暖房効率$e_{th,H}$は、付録Dにより計算される値とする。"
   ]
  },
  {
   "cell_type": "markdown",
   "metadata": {},
   "source": [
    "日付$d$の時刻$t$における1時間当たりの補正処理暖房負荷$Q'_{T,H,d,t}$は、式(@)により表される。"
   ]
  },
  {
   "cell_type": "markdown",
   "metadata": {},
   "source": [
    "<p style=\"text-indent:2em\">TG案：</p> \n",
    "$$ \n",
    "\\begin{equation*}\n",
    "    {Q'_{T,H,d,t}} = \\frac{{Q_{T,H,d,t}}} {C_{df,d,t}}\n",
    "\\end{equation*}\n",
    "$$\n",
    "\n",
    "\n",
    "<div style=\"text-align: right;\"> (@) </div>"
   ]
  },
  {
   "cell_type": "markdown",
   "metadata": {},
   "source": [
    "ここで、  \n",
    "\n",
    "$C_{df,d,t}$：日付$d$の時刻$t$におけるデフロストに関する暖房出力補正係数(-)  \n",
    "$Q_{T,H,d,t}$：日付$d$の時刻$t$における1時間当たりの処理暖房負荷(MJ/h)  \n",
    "$Q'_{T,H,d,t}$：日付$d$の時刻$t$における1時間当たりの補正処理暖房負荷(MJ/h)  \n",
    "\n",
    "である。"
   ]
  },
  {
   "cell_type": "code",
   "execution_count": 11,
   "metadata": {},
   "outputs": [],
   "source": [
    "def Q_dash_T_H(Q_T_H, C_df):\n",
    "    '''補正処理暖房負荷(MJ/h)を計算する'''\n",
    "    # Q_T_H：処理暖房負荷(MJ/h)  \n",
    "    # C_df: デフロストに関する暖房出力補正係数(-)\n",
    "    \n",
    "    return Q_T_H / C_df"
   ]
  },
  {
   "cell_type": "markdown",
   "metadata": {},
   "source": [
    "<p style=\"text-indent:2em\">変更案：</p> \n",
    "$$ \n",
    "\\begin{equation*}\n",
    "    {Q'_{T,H,d,t}} = {Q_{T,H,d,t}} + {Q_{DL}}\n",
    "\\end{equation*}\n",
    "$$\n",
    "\n",
    "\n",
    "<div style=\"text-align: right;\"> (@) </div>"
   ]
  },
  {
   "cell_type": "markdown",
   "metadata": {},
   "source": [
    "ここで、  \n",
    "\n",
    "$Q_{DL}$：断熱区画外ダクト熱損失(MJ/h)   \n",
    "$Q_{T,H,d,t}$：日付$d$の時刻$t$における1時間当たりの処理暖房負荷(MJ/h)  \n",
    "$Q'_{T,H,d,t}$：日付$d$の時刻$t$における1時間当たりの補正処理暖房負荷(MJ/h)  \n",
    "\n",
    "である。"
   ]
  },
  {
   "cell_type": "code",
   "execution_count": 12,
   "metadata": {},
   "outputs": [],
   "source": [
    "def Q_dash_T_H_rev(Q_T_H, Q_DL):\n",
    "    '''補正処理暖房負荷(MJ/h)を計算する'''\n",
    "    # Q_T_H：処理暖房負荷(MJ/h)  \n",
    "    # Q_DL: 断熱区画外ダクト熱損失による処理暖房負荷補正量(MJ/h)\n",
    "    \n",
    "    return Q_T_H + C_DL"
   ]
  },
  {
   "cell_type": "markdown",
   "metadata": {},
   "source": [
    "#### 10.1.2　冷房"
   ]
  },
  {
   "cell_type": "markdown",
   "metadata": {},
   "source": [
    "（工事中）"
   ]
  },
  {
   "cell_type": "markdown",
   "metadata": {},
   "source": [
    "### 10.2　冷凍サイクルの理論効率に対する圧縮機効率の比"
   ]
  },
  {
   "cell_type": "markdown",
   "metadata": {},
   "source": [
    "#### 10.2.1　暖房"
   ]
  },
  {
   "cell_type": "markdown",
   "metadata": {},
   "source": [
    "日付$d$の時刻$t$における冷凍サイクルの理論暖房効率に対する圧縮機の暖房効率の比$r_{comp,H,d,t}$は、式(@)により表される。"
   ]
  },
  {
   "cell_type": "markdown",
   "metadata": {},
   "source": [
    "<p style=\"text-indent:2em\">$Q'_{T,H,d,t} \\div \\left( 3600 \\times 10^{-6} \\right) \\leq q_{ac,min, H}$の場合：</p> \n",
    "$$ \n",
    "\\begin{equation*}\n",
    "    r_{comp,H,d,t} = r_{comp,min,H} - \\left\\{ q_{ac,min,H} - Q'_{T,H,d,t} \\div \\left( 3600 \\times 10^{-6} \\right) \\right\\} \\times \\frac{r_{comp,min,H}}{q_{ac,min,H}}\n",
    "\\end{equation*}\n",
    "$$\n",
    "\n",
    "<div style=\"text-align: right;\"> (@-1) </div>"
   ]
  },
  {
   "cell_type": "markdown",
   "metadata": {},
   "source": [
    "<p style=\"text-indent:2em\">$q_{ac,min, H} < Q'_{T,H,d,t} \\div \\left( 3600 \\times 10^{-6} \\right) \\leq q_{ac,mid, H} $の場合：</p> \n",
    "$$ \n",
    "\\begin{equation*}\n",
    "    r_{comp,H,d,t} = r_{comp,mid,H} - \\left\\{ q_{ac,mid,H} - Q'_{T,H,d,t} \\div \\left( 3600 \\times 10^{-6} \\right) \\right\\} \\times \\frac{r_{comp,mid,H} - r_{comp,min,H}}{q_{ac,mid,H} - q_{ac,min,H}}\n",
    "\\end{equation*}\n",
    "$$\n",
    "\n",
    "<div style=\"text-align: right;\"> (@-2) </div>"
   ]
  },
  {
   "cell_type": "markdown",
   "metadata": {},
   "source": [
    "<p style=\"text-indent:2em\">$q_{ac,mid, H} < Q'_{T,H,d,t} \\div \\left( 3600 \\times 10^{-6} \\right) \\leq q_{ac,rtd, H} $の場合：</p> \n",
    "$$ \n",
    "\\begin{equation*}\n",
    "    r_{comp,H,d,t} = r_{comp,rtd,H} - \\left\\{ q_{ac,rtd,H} - Q'_{T,H,d,t} \\div \\left( 3600 \\times 10^{-6} \\right) \\right\\} \\times \\frac{r_{comp,rtd,H} - r_{comp,mid,H}}{q_{ac,rtd,H} - q_{ac,mid,H}}\n",
    "\\end{equation*}\n",
    "$$\n",
    "\n",
    "<div style=\"text-align: right;\"> (@-3) </div>"
   ]
  },
  {
   "cell_type": "markdown",
   "metadata": {},
   "source": [
    "<p style=\"text-indent:2em\">$q_{ac,rtd, H} < Q'_{T,H,d,t} \\div \\left( 3600 \\times 10^{-6} \\right)$の場合：</p> \n",
    "$$ \n",
    "\\begin{equation*}\n",
    "    r_{comp,H,d,t} = max \\left( 0.4, \\: r_{comp,rtd,H} - \\left\\{ q_{ac,rtd,H} - Q'_{T,H,d,t} \\div \\left( 3600 \\times 10^{-6} \\right) \\right\\} \\times \\frac{r_{comp,rtd,H}}{q_{ac,rtd,H}} \\right)\n",
    "\\end{equation*}\n",
    "$$\n",
    "\n",
    "<div style=\"text-align: right;\"> (@-4) </div>"
   ]
  },
  {
   "cell_type": "markdown",
   "metadata": {},
   "source": [
    "ここで、  \n",
    "\n",
    "$Q'_{T,H,d,t}$：日付$d$の時刻$t$における1時間当たりの補正処理暖房負荷(MJ/h)  \n",
    "$r_{comp,H,d,t}$：日付$d$の時刻$t$における冷凍サイクルの理論暖房効率に対する圧縮機の暖房効率の比(-)  \n",
    "$r_{comp,mid,H}$：中間暖房能力運転時における理論暖房効率に対する圧縮機の暖房効率の比(-)  \n",
    "$r_{comp,min,H}$：最小暖房能力運転時における理論暖房効率に対する圧縮機の暖房効率の比(-)  \n",
    "$r_{comp,rtd,H}$：定格暖房能力運転時における理論暖房効率に対する圧縮機の暖房効率の比(-)   \n",
    "$q_{ac,mid,H}$：空調機の中間暖房能力(W)   \n",
    "$q_{ac,min,H}$：空調機の最小暖房能力(W)   \n",
    "$q_{ac,rtd,H}$：空調機の定格暖房能力(W) \n",
    "\n",
    "である。"
   ]
  },
  {
   "cell_type": "markdown",
   "metadata": {},
   "source": [
    "空調機の最小暖房能力$q_{ac,min,H}$、空調機の中間暖房能力$q_{ac,mid,H}$および空調機の定格暖房能力$q_{ac,rtd,H}$は、付録Aにより定まる。"
   ]
  },
  {
   "cell_type": "code",
   "execution_count": 13,
   "metadata": {},
   "outputs": [],
   "source": [
    "def r_comp_H(Q_dash_T_H, r_comp_min_H, r_comp_mid_H, r_comp_rtd_H, q_ac_min_H, q_ac_mid_H, q_ac_rtd_H):\n",
    "    '''最小・中間・定格の理論暖房効率に対する圧縮機の暖房効率の比から当該時刻の値を外挿する'''\n",
    "    # Q_dash_T_H：補正処理暖房負荷(MJ/h) \n",
    "    # r_comp_min_H：最小暖房能力運転時における理論暖房効率に対する圧縮機の暖房効率の比(-)\n",
    "    # r_comp_mid_H：中間暖房能力運転時における理論暖房効率に対する圧縮機の暖房効率の比(-)\n",
    "    # r_comp_rtd_H：定格暖房能力運転時における理論暖房効率に対する圧縮機の暖房効率の比(-)\n",
    "    # q_ac_min_H：空調機の最小暖房能力(W)\n",
    "    # q_ac_mid_H：空調機の中間暖房能力(W)\n",
    "    # q_ac_rtd_H：空調機の定格暖房能力(W)\n",
    "    \n",
    "    # 単位換算：MJ/h => W\n",
    "    Q_dash_T_H_Wat = Q_dash_T_H / (3600 * 10**(-6))\n",
    "    \n",
    "    if  Q_dash_T_H_Wat <= q_ac_min_H:\n",
    "        return r_comp_min_H - (q_ac_min_H - Q_dash_T_H_Wat) * r_comp_min_H  / q_ac_min_H\n",
    "    elif  q_ac_min_H < Q_dash_T_H_Wat <= q_ac_mid_H:\n",
    "        return r_comp_mid_H - (q_ac_mid_H - Q_dash_T_H_Wat) * (r_comp_mid_H - r_comp_min_H)  / (q_ac_mid_H - q_ac_min_H)\n",
    "    elif  q_ac_mid_H < Q_dash_T_H_Wat <= q_ac_rtd_H:\n",
    "        return r_comp_rtd_H - (q_ac_rtd_H - Q_dash_T_H_Wat) * (r_comp_rtd_H - r_comp_mid_H)  / (q_ac_rtd_H - q_ac_mid_H)\n",
    "    elif  q_ac_rtd_H < Q_dash_T_H_Wat:\n",
    "        return max(0.4, r_comp_rtd_H - (q_ac_rtd_H - Q_dash_T_H_Wat) * r_comp_rtd_H  / q_ac_rtd_H)\n",
    "    else:\n",
    "        raise Exeption"
   ]
  },
  {
   "cell_type": "markdown",
   "metadata": {},
   "source": [
    "最小暖房能力運転時における理論暖房効率に対する圧縮機の暖房効率の比$r_{comp,min,H}$、中間暖房能力運転時における理論暖房効率に対する圧縮機の暖房効率の比$r_{comp,mid,H}$および定格暖房能力運転時における理論暖房効率に対する圧縮機の暖房効率の比$r_{comp,rtd,H}$は、式(@)により定まる。"
   ]
  },
  {
   "cell_type": "markdown",
   "metadata": {},
   "source": [
    "$$ \n",
    "\\begin{equation*}\n",
    "    r_{comp,min,H} = \\frac{e_{comp,min,H}}{e_{th,min,H}}\n",
    "\\end{equation*}\n",
    "$$\n",
    "\n",
    "<div style=\"text-align: right;\"> (@a) </div>"
   ]
  },
  {
   "cell_type": "markdown",
   "metadata": {},
   "source": [
    "$$ \n",
    "\\begin{equation*}\n",
    "    r_{comp,mid,H} = \\frac{e_{comp,mid,H}}{e_{th,mid,H}}\n",
    "\\end{equation*}\n",
    "$$\n",
    "\n",
    "<div style=\"text-align: right;\"> (@b) </div>"
   ]
  },
  {
   "cell_type": "markdown",
   "metadata": {},
   "source": [
    "$$ \n",
    "\\begin{equation*}\n",
    "    r_{comp,rtd,H} = \\frac{e_{comp,rtd,H}}{e_{th,rtd,H}}\n",
    "\\end{equation*}\n",
    "$$\n",
    "\n",
    "<div style=\"text-align: right;\"> (@c) </div>"
   ]
  },
  {
   "cell_type": "markdown",
   "metadata": {},
   "source": [
    "ここで、  \n",
    "\n",
    "$e_{comp,mid,H}$：中間暖房能力運転時における圧縮機の暖房効率(-)  \n",
    "$e_{comp,min,H}$：最小暖房能力運転時における圧縮機の暖房効率(-)  \n",
    "$e_{comp,rtd,H}$：定格暖房能力運転時における圧縮機の暖房効率(-)  \n",
    "$e_{th,mid,H}$：中間暖房能力運転時における冷凍サイクルの理論暖房効率(-)  \n",
    "$e_{th,min,H}$：最小暖房能力運転時における冷凍サイクルの理論暖房効率(-)  \n",
    "$e_{th,rtd,H}$：定格暖房能力運転時における冷凍サイクルの理論暖房効率(-)  \n",
    "$r_{comp,mid,H}$：中間暖房能力運転時における理論暖房効率に対する圧縮機の暖房効率の比(-)  \n",
    "$r_{comp,min,H}$：最小暖房能力運転時における理論暖房効率に対する圧縮機の暖房効率の比(-)  \n",
    "$r_{comp,rtd,H}$：定格暖房能力運転時における理論暖房効率に対する圧縮機の暖房効率の比(-)   \n",
    "\n",
    "である。"
   ]
  },
  {
   "cell_type": "markdown",
   "metadata": {},
   "source": [
    "最小暖房能力運転時における冷凍サイクルの理論暖房効率$e_{th,min,H}$、中間暖房能力運転時における冷凍サイクルの理論暖房効率$e_{th,mid,H}$、定格暖房能力運転時における冷凍サイクルの理論暖房効率$e_{th,rtd,H}$は、付録Dにより計算される値とする。"
   ]
  },
  {
   "cell_type": "code",
   "execution_count": 14,
   "metadata": {},
   "outputs": [],
   "source": [
    "def r_comp_op_H(e_comp_op_H, e_th_op_H):\n",
    "    '''最小・中間・定格の理論暖房効率に対する圧縮機の暖房効率の比を計算する'''\n",
    "    # e_comp_op_H：任意の能力による運転時における圧縮機の暖房効率(-)\n",
    "    # e_th_op_H：任意の能力による運転時における冷凍サイクルの理論暖房効率(-)\n",
    "    \n",
    "    return e_comp_op_H/ e_th_op_H"
   ]
  },
  {
   "cell_type": "markdown",
   "metadata": {},
   "source": [
    "最小暖房能力運転時における圧縮機の暖房効率$e_{comp,min,H}$、中間暖房能力運転時における圧縮機の暖房効率$e_{comp,mid,H}$、定格暖房能力運転時における圧縮機の暖房効率$e_{comp,rtd,H}$は、式(@)により計算される値とする。"
   ]
  },
  {
   "cell_type": "markdown",
   "metadata": {},
   "source": [
    "$$ \n",
    "\\begin{equation*}\n",
    "    e_{comp,min,H} = \\frac{q_{ac,min,H}}{P_{ac,min,H} - P_{fan,min,H}}\n",
    "\\end{equation*}\n",
    "$$\n",
    "\n",
    "<div style=\"text-align: right;\"> (@a) </div>"
   ]
  },
  {
   "cell_type": "markdown",
   "metadata": {},
   "source": [
    "$$ \n",
    "\\begin{equation*}\n",
    "    e_{comp,mid,H} = \\frac{q_{ac,mid,H}}{P_{ac,mid,H} - P_{fan,mid,H}}\n",
    "\\end{equation*}\n",
    "$$\n",
    "\n",
    "<div style=\"text-align: right;\"> (@b) </div>"
   ]
  },
  {
   "cell_type": "markdown",
   "metadata": {},
   "source": [
    "$$ \n",
    "\\begin{equation*}\n",
    "    e_{comp,rtd,H} = \\frac{q_{ac,rtd,H}}{P_{ac,rtd,H} - P_{fan,rtd,H}}\n",
    "\\end{equation*}\n",
    "$$\n",
    "\n",
    "<div style=\"text-align: right;\"> (@c) </div>"
   ]
  },
  {
   "cell_type": "markdown",
   "metadata": {},
   "source": [
    "ここで、  \n",
    "\n",
    "$e_{comp,mid,H}$：中間暖房能力運転時における圧縮機の暖房効率(-)  \n",
    "$e_{comp,min,H}$：最小暖房能力運転時における圧縮機の暖房効率(-)  \n",
    "$e_{comp,rtd,H}$：定格暖房能力運転時における圧縮機の暖房効率(-)  \n",
    "$P_{ac,mid,H}$：空調機の中間暖房消費電力(W)   \n",
    "$P_{ac,min,H}$：空調機の最小暖房消費電力(W)   \n",
    "$P_{ac,rtd,H}$：空調機の定格暖房消費電力(W)   \n",
    "$P_{fan,mid,H}$：中間暖房能力運転時における空気搬送ファンの消費電力(W)   \n",
    "$P_{fan,min,H}$：最小暖房能力運転時における空気搬送ファンの消費電力(W)   \n",
    "$P_{fan,rtd,H}$：定格暖房能力運転時における空気搬送ファンの消費電力(W)   \n",
    "$q_{ac,mid,H}$：空調機の中間暖房能力(W)   \n",
    "$q_{ac,min,H}$：空調機の最小暖房能力(W)   \n",
    "$q_{ac,rtd,H}$：空調機の定格暖房能力(W) \n",
    "\n",
    "である。"
   ]
  },
  {
   "cell_type": "markdown",
   "metadata": {},
   "source": [
    "空調機の最小暖房能力$q_{ac,min,H}$、空調機の中間暖房能力$q_{ac,mid,H}$および空調機の定格暖房能力$q_{ac,rtd,H}$、空調機の最小暖房消費電力$P_{ac,min,H}$、空調機の中間暖房消費電力$P_{ac,mid,H}$、空調機の定格暖房消費電力$P_{ac,rtd,H}$、最小暖房能力運転時における空気搬送ファンの消費電力$P_{fan,min,H}$、中間暖房能力運転時における空気搬送ファンの消費電力$P_{fan,mid,H}$および定格暖房能力運転時における空気搬送ファンの消費電力$P_{fan,rtd,H}$は、付録Aにより定まる。"
   ]
  },
  {
   "cell_type": "code",
   "execution_count": 15,
   "metadata": {},
   "outputs": [],
   "source": [
    "def e_comp_op_H(q_ac_op_H, P_ac_op_H, P_fan_op_H):\n",
    "    '''最小・中間・定格の縮機の暖房効率を計算する'''\n",
    "    # q_ac_op_H：空調機の暖房能力(W)\n",
    "    # P_ac_op_H：暖房能力q_ac_op_Hによる運転時における空調機の消費電力(W)\n",
    "    # P_fan_op_H：暖房能力q_ac_op_Hによる運転時における空気搬送ファンの消費電力(W)\n",
    "    \n",
    "    return q_ac_op_H/ (P_ac_op_H - P_fan_op_H)"
   ]
  },
  {
   "cell_type": "markdown",
   "metadata": {},
   "source": [
    "#### 10.2.2　冷房"
   ]
  },
  {
   "cell_type": "markdown",
   "metadata": {},
   "source": [
    "（工事中）"
   ]
  },
  {
   "cell_type": "markdown",
   "metadata": {},
   "source": [
    "## 11.　空気搬送ファン"
   ]
  },
  {
   "cell_type": "markdown",
   "metadata": {},
   "source": [
    "### 11.1　消費電力"
   ]
  },
  {
   "cell_type": "markdown",
   "metadata": {},
   "source": [
    "日付$d$の時刻$t$における空気搬送ファンの消費電力$P_{fan,t,d}$は、式(@)により表される。"
   ]
  },
  {
   "cell_type": "markdown",
   "metadata": {},
   "source": [
    "<p style=\"text-indent:2em\">サーモオフ機能がない場合：（TGに確認中）</p> \n",
    "$$ \n",
    "\\begin{equation*}\n",
    "    P_{fan,d,t} = \n",
    "\\end{equation*}\n",
    "$$\n",
    "\n",
    "<div style=\"text-align: right;\"> (@a-1) </div>"
   ]
  },
  {
   "cell_type": "markdown",
   "metadata": {},
   "source": [
    "<p style=\"text-indent:2em\">サーモオフ機能がある場合：</p> "
   ]
  },
  {
   "cell_type": "markdown",
   "metadata": {},
   "source": [
    "<p style=\"text-indent:4em\">$V_{fan,d,t} \\leq V_{fan,thermo-off}$の場合：</p> \n",
    "$$ \n",
    "\\begin{equation*}\n",
    "    P_{fan,d,t} = P_{fan,thermo-off}\n",
    "\\end{equation*}\n",
    "$$\n",
    "\n",
    "<div style=\"text-align: right;\"> (@b-1) </div>"
   ]
  },
  {
   "cell_type": "markdown",
   "metadata": {},
   "source": [
    "<p style=\"text-indent:4em\">$V_{fan,thermo-off} < V_{fan,d,t}$の場合：</p> \n",
    "$$ \n",
    "\\begin{equation*}\n",
    "    P_{fan,d,t} = P'_{fan,rtd}  - \\left( P'_{fan,rtd} - P_{thermo-off} \\right) \\times \\frac{V_{fan,rtd}-V_{fan,d,t}}{V_{fan,rtd}-V_{fan,thermo-off}}\n",
    "\\end{equation*}\n",
    "$$\n",
    "\n",
    "<div style=\"text-align: right;\"> (@b-2) </div>"
   ]
  },
  {
   "cell_type": "markdown",
   "metadata": {},
   "source": [
    "ここで、  \n",
    "\n",
    "$P'_{fan,rtd}$：ダクト等の圧力損失による影響を考慮した定格能力運転時における空気搬送ファンの消費電力(W)   \n",
    "$P_{fan,t,d}$：日付$d$の時刻$t$における空気搬送ファンの消費電力(W)   \n",
    "$P_{fan,thermo-off}$：サーモオフ運転時における空気搬送ファンの消費電力(W)   \n",
    "$V_{fan,rtd}$：定格能力運転時における空気搬送ファンの風量(m3/h)    \n",
    "$V_{fan,d,t}$：日付$d$の時刻$t$における1時間あたりの空気搬送ファンの風量(m3/h)   \n",
    "$V_{fan,thermo-off}$：サーモオフ運転時における空気搬送ファンの風量(m3/h)    \n",
    "   \n",
    "である。"
   ]
  },
  {
   "cell_type": "markdown",
   "metadata": {},
   "source": [
    "サーモオフ運転時における空気搬送ファンの消費電力$P_{fan,thermo-off}$、定格能力運転時における空気搬送ファンの風量$V_{fan,rtd}$およびサーモオフ運転時における空気搬送ファンの風量$V_{fan,thermo-off}$は、付録Aにより定まる。"
   ]
  },
  {
   "cell_type": "markdown",
   "metadata": {},
   "source": [
    "ダクト等の圧力損失による影響を考慮した定格能力運転時における空気搬送ファンの消費電力$P'_{fan,rtd}$は、式(@)により計算される。"
   ]
  },
  {
   "cell_type": "markdown",
   "metadata": {},
   "source": [
    "$$ \n",
    "\\begin{equation*}\n",
    "    P'_{fan,rtd} = P_{fan,rtd} + P_{ac,rtd} \\times \\left( C_{pl} -1 \\right)\n",
    "\\end{equation*}\n",
    "$$\n",
    "\n",
    "<div style=\"text-align: right;\"> (@) </div>"
   ]
  },
  {
   "cell_type": "markdown",
   "metadata": {},
   "source": [
    "ここで、  \n",
    "\n",
    "$C_{pl}$：ダクト等圧力損失による空調機の消費電力量補正係数(-)   \n",
    "$P_{ac,rtd}$：定格能力運転時における空調機の消費電力(W)   \n",
    "$P_{fan,rtd}$：定格能力運転時における空気搬送ファンの消費電力(W)   \n",
    "$P'_{fan,rtd}$：ダクト等の圧力損失による影響を考慮した定格能力運転時における空気搬送ファンの消費電力(W)     \n",
    "   \n",
    "である。"
   ]
  },
  {
   "cell_type": "markdown",
   "metadata": {},
   "source": [
    "定格能力運転時における空気搬送ファンの消費電力定格能力運転時における空調機の消費電力$P_{ac,rtd}$および$P_{fan,rtd}$は、付録Aにより定まる。"
   ]
  },
  {
   "cell_type": "markdown",
   "metadata": {},
   "source": [
    "ダクト等圧力損失による空調機の消費電力量補正係数$C_{pl}$は、ダクト等圧力損失の影響により所定の風量に達しない場合に空気搬送ファンの周波数が増段すること（風量補正機能）による空調機の消費電力量への増加を考慮するための係数であり、空気搬送ファンに風量補正機能がない場合は1.0とし、空気搬送ファンに風量補正機能がある場合は付録Bにより定まる値とする。"
   ]
  },
  {
   "cell_type": "markdown",
   "metadata": {},
   "source": [
    "### 11.2　風量"
   ]
  },
  {
   "cell_type": "markdown",
   "metadata": {},
   "source": [
    "日付$d$の時刻$t$における1時間あたりの空気搬送ファンの風量$V_{fan,d,t}$は、式(@)により表される。"
   ]
  },
  {
   "cell_type": "markdown",
   "metadata": {},
   "source": [
    "<p style=\"text-indent:2em\">サーモオフ機能がない場合：（TGに確認中）</p> \n",
    "$$ \n",
    "\\begin{equation*}\n",
    "    V_{fan,d,t} = \n",
    "\\end{equation*}\n",
    "$$\n",
    "\n",
    "<div style=\"text-align: right;\"> (@a-1) </div>"
   ]
  },
  {
   "cell_type": "markdown",
   "metadata": {},
   "source": [
    "<p style=\"text-indent:2em\">サーモオフ機能がある場合：</p> \n",
    "$$ \n",
    "\\begin{equation*}\n",
    "    V_{fan,d,t} = \\left\\{ \\frac{Q'_{T,H,d,t}}{q_{rtd} \\times 3600 \\times 10^{-6}} \\times \\left( V_{fan,rtd} -V_{fan,thermo-off} \\right) + V_{fan,thermo-off} \\right\\} \\times \\frac{V_{fa,dsng}}{V_{fa,rtd}}\n",
    "\\end{equation*}\n",
    "$$\n",
    "\n",
    "<div style=\"text-align: right;\"> (@b-1) </div>"
   ]
  },
  {
   "cell_type": "markdown",
   "metadata": {},
   "source": [
    "ここで、  \n",
    "\n",
    "$Q'_{T,H,d,t}$：日付$d$の時刻$t$における1時間当たりの補正処理暖房負荷(MJ/h)  \n",
    "$q_{ac,rtd,H}$：空調機の定格暖房能力(W)   \n",
    "$V_{fan,dsng}$：空気搬送ファンの設計風量(m3/h)    \n",
    "$V_{fan,rtd}$：定格能力運転時における空気搬送ファンの風量(m3/h)    \n",
    "$V_{fan,d,t}$：日付$d$の時刻$t$における1時間あたりの空気搬送ファンの風量(m3/h)   \n",
    "$V_{fan,thermo-off}$：サーモオフ運転時における空気搬送ファンの風量(m3/h)    \n",
    "\n",
    "である。"
   ]
  },
  {
   "cell_type": "markdown",
   "metadata": {},
   "source": [
    "空調機の定格暖房能力$q_{ac,rtd,H}$、定格能力運転時における空気搬送ファンの風量$V_{fan,rtd}$およびサーモオフ運転時における空気搬送ファンの風量$V_{fan,thermo-off}$は、付録Aにより定まる。空気搬送ファンの設計風量$V_{fan,dsng}$は、＊＊＊＊（TGに確認中）により定まる。"
   ]
  },
  {
   "cell_type": "markdown",
   "metadata": {},
   "source": [
    "## 付録A　機器の性能を表す仕様の決定方法"
   ]
  },
  {
   "cell_type": "markdown",
   "metadata": {},
   "source": [
    "### A.2　暖房能力・冷房能力・暖房消費電力・冷房消費電力"
   ]
  },
  {
   "cell_type": "markdown",
   "metadata": {},
   "source": [
    "#### A.2.1　JIS B8615-2の性能試験による測定値を用いる方法"
   ]
  },
  {
   "cell_type": "markdown",
   "metadata": {},
   "source": [
    "定格暖房能力$q_{rtd,H}$は、JIS B8616が定める定格暖房標準能力の定義に基づき、JIS B 8615-2が定める性能試験により得られる値とする。"
   ]
  },
  {
   "cell_type": "markdown",
   "metadata": {},
   "source": [
    "中間暖房能力$q_{mid,H}$は、、JIS B8616が定める中間暖房標準能力の定義に基づき、JISB8615-2が定める性能試験により得られる値とするか、式(1)により算定される値とする。"
   ]
  },
  {
   "cell_type": "markdown",
   "metadata": {},
   "source": [
    "$$ \n",
    "\\begin{equation*}\n",
    "    q_{mid,H} = q_{rtd,H} \\times 0.50\n",
    "\\end{equation*}\n",
    "$$\n",
    "\n",
    "<div style=\"text-align: right;\"> (1) </div>"
   ]
  },
  {
   "cell_type": "markdown",
   "metadata": {},
   "source": [
    "最小暖房能力$q_{min,H}$は、JIS B8616が定める最小暖房標準能力の定義に基づき、JISB8615-2が定める性能試験により得られる値とするか、式(2)により算定される値とする。"
   ]
  },
  {
   "cell_type": "markdown",
   "metadata": {},
   "source": [
    "$$ \n",
    "\\begin{equation*}\n",
    "    q_{min,H} = q_{rtd,H} \\times 0.35\n",
    "\\end{equation*}\n",
    "$$\n",
    "\n",
    "<div style=\"text-align: right;\"> (2) </div>"
   ]
  },
  {
   "cell_type": "markdown",
   "metadata": {},
   "source": [
    "（消費電力の定め方をTGに確認中）"
   ]
  },
  {
   "cell_type": "markdown",
   "metadata": {},
   "source": [
    "#### A.2.2　床面積に基づく方法"
   ]
  },
  {
   "cell_type": "markdown",
   "metadata": {},
   "source": [
    "（定格以外の定め方をTGに確認中）"
   ]
  },
  {
   "cell_type": "markdown",
   "metadata": {},
   "source": [
    "### A.3　空気搬送の風量及び消費電力"
   ]
  },
  {
   "cell_type": "markdown",
   "metadata": {},
   "source": [
    "#### A.3.1　暖房時・冷房時"
   ]
  },
  {
   "cell_type": "markdown",
   "metadata": {},
   "source": [
    "（工事中）"
   ]
  },
  {
   "cell_type": "markdown",
   "metadata": {},
   "source": [
    "#### A.3.2　サーモオフ時"
   ]
  },
  {
   "cell_type": "markdown",
   "metadata": {},
   "source": [
    "（工事中）"
   ]
  },
  {
   "cell_type": "markdown",
   "metadata": {},
   "source": [
    "## 付録D　冷凍サイクルの理論効率（TG案）"
   ]
  },
  {
   "cell_type": "markdown",
   "metadata": {},
   "source": [
    "### D.3　冷凍サイクルの理論暖房効率"
   ]
  },
  {
   "cell_type": "markdown",
   "metadata": {},
   "source": [
    "冷凍サイクルの理論暖房効率$e_{th,op,H}$は、式(1)により定まる。"
   ]
  },
  {
   "cell_type": "markdown",
   "metadata": {},
   "source": [
    "$$ \n",
    "\\begin{equation*} \n",
    "    e_{th,op,H} = -0.0032 \\times f_{H} \\left( \\theta_{ex} , \\: \\theta_{surf,hex} \\right) ^{4} +0.1196 \\times f_{H} \\left( \\theta_{ex} , \\: \\theta_{surf,hex} \\right) ^{3} -1.7392 \\times f_{H} \\left( \\theta_{ex} , \\: \\theta_{surf,hex} \\right) ^{2} +12.242 \\times f_{H} \\left( \\theta_{ex} , \\: \\theta_{surf,hex} \\right)  -25.821\n",
    "\\end{equation*}\n",
    "$$\n",
    "\n",
    "<div style=\"text-align: right;\"> (1) </div>"
   ]
  },
  {
   "cell_type": "markdown",
   "metadata": {},
   "source": [
    "ここで、  \n",
    "\n",
    "$f_{H} \\left( \\theta_{ex} , \\: \\theta_{hex} \\right)$：＊＊＊＊  \n",
    "$e_{th,op,H}$：任意の能力による運転時における冷凍サイクルの理論暖房効率(-)  \n",
    "$\\theta_{ex}$：外気温度(℃)  \n",
    "$\\theta_{surf,hex}$：室内機熱交換器表面温度(℃)\n",
    "\n",
    "である。"
   ]
  },
  {
   "cell_type": "code",
   "execution_count": 16,
   "metadata": {},
   "outputs": [],
   "source": [
    "def e_th_op_H(f_H):\n",
    "    '''冷凍サイクルの理論暖房効率(-)を計算する'''\n",
    "    # f_H:\n",
    "    \n",
    "    return -0.0032*f_H**(4) +0.1196*f_H**(3) -1.7392*f_H**(2) +12.242**f_H -25.821"
   ]
  },
  {
   "cell_type": "markdown",
   "metadata": {},
   "source": [
    "＊＊＊＊$f_{H} \\left( \\theta_{ex} , \\: \\theta_{surf,hex} \\right)$は、式(2)により表される。"
   ]
  },
  {
   "cell_type": "markdown",
   "metadata": {},
   "source": [
    "$$ \n",
    "\\begin{equation*} \n",
    "    f_{H} \\left( \\theta_{ex} , \\: \\theta_{surf,hex} \\right) = 15.38582 + 0.255506 \\times \\theta_{ex} -0.23883 \\times \\theta_{surf,hex} \n",
    "\\end{equation*}\n",
    "$$\n",
    "\n",
    "<div style=\"text-align: right;\"> (2) </div>"
   ]
  },
  {
   "cell_type": "markdown",
   "metadata": {},
   "source": [
    "ここで、  \n",
    "\n",
    "$f_{H} \\left( \\theta_{ex} , \\: \\theta_{surf,hex} \\right)$：＊＊＊＊  \n",
    "$\\theta_{ex}$：外気温度(℃)  \n",
    "$\\theta_{hex}$：室内機熱交換器の表面温度(℃)\n",
    "\n",
    "である。"
   ]
  },
  {
   "cell_type": "code",
   "execution_count": 17,
   "metadata": {},
   "outputs": [],
   "source": [
    "def f_H(theta_ex, theta_surf_hex):\n",
    "    '''＊＊＊＊を計算する'''\n",
    "    # theta_ex：外気温度（℃）\n",
    "    # theta_surf_hex：室内機熱交換器の表面温度（℃）\n",
    "    \n",
    "    return 15.38582 +0.255506*theta_ex -0.23883*theta_surf_hex"
   ]
  },
  {
   "cell_type": "markdown",
   "metadata": {},
   "source": [
    "### D.4　室内機熱交換器表面温度"
   ]
  },
  {
   "cell_type": "markdown",
   "metadata": {},
   "source": [
    "室内機熱交換器表面温度$\\theta_{surf,hex}$は、式(3)により表される。"
   ]
  },
  {
   "cell_type": "markdown",
   "metadata": {},
   "source": [
    "$$ \n",
    "\\begin{equation*} \n",
    "    \\theta_{surf,hex} = \\frac{\\theta_{air,{\\textit inlet}} + \\theta_{air,outlet}}{2} + \\frac{Q'_{T} \\div \\left( 3600 \\times 10^{-3} \\right)}{A_{e, hex} \\times \\alpha_{c,hex}}\n",
    "\\end{equation*}\n",
    "$$\n",
    "\n",
    "<div style=\"text-align: right;\"> (3) </div>"
   ]
  },
  {
   "cell_type": "markdown",
   "metadata": {},
   "source": [
    "ここで、  \n",
    "\n",
    "$A_{e,hex}$：室内機熱交換器の表面積のうち熱交換に有効な面積(m2)  \n",
    "$Q'_{T}$：1時間当たりの補正処理負荷(MJ/h)  \n",
    "$\\theta_{surf,hex}$：室内機熱交換器の表面温度(℃)  \n",
    "$\\theta_{air,{\\textit inlet}}$：室内機吸込空気の温度(℃)  \n",
    "$\\theta_{air,outlet}$：室内機吹出空気の温度(℃)   \n",
    "$\\alpha_{c,hex}$：室内機熱交換器表面の顕熱伝達率(kW/(m2・K))\n",
    "\n",
    "である。"
   ]
  },
  {
   "cell_type": "markdown",
   "metadata": {},
   "source": [
    "室内機吸込空気の温度$\\theta_{air,{\\textit inlet}}$は、暖房設定温度$\\theta_{ref}$（20 ℃）とする。室内機熱交換器の表面積のうち熱交換に有効な面積$A_{e,hex}$は、6.396 m2とする。"
   ]
  },
  {
   "cell_type": "code",
   "execution_count": 18,
   "metadata": {},
   "outputs": [],
   "source": [
    "def theta_surf_hex(Q_dash_T, theta_air_outlet, alpha_c_hex):\n",
    "    '''室内機熱交換器表面温度(℃) を計算する'''\n",
    "    # A_e_hex：室内機熱交換器の表面積のうち熱交換に有効な面積(m2) \n",
    "    # Q_dash_T：1時間当たりの補正処理負荷(MJ/h)\n",
    "    # theta_air_inlet：室内機吸込空気の温度(℃)\n",
    "    # theta_air_outlet：室内機吹出空気の温度(℃)\n",
    "    # alpha_c_hex：室内機熱交換器表面の顕熱伝達率(kW/(m2・K))\n",
    "    \n",
    "    theta_air_inlet = 20\n",
    "    A_e_hex = 6.396\n",
    "    \n",
    "    return (theta_air_inlet + theta_air_outlet) / 2 + (Q_dash_T/3600*10**(-3)) / (A_e_hex * alpha_c_hex) "
   ]
  },
  {
   "cell_type": "markdown",
   "metadata": {},
   "source": [
    "室内機吹出空気の温度$\\theta_{air,outlet}$は、式(4)により表される。"
   ]
  },
  {
   "cell_type": "markdown",
   "metadata": {},
   "source": [
    "$$ \n",
    "\\begin{equation*} \n",
    "    \\theta_{air,outlet} = \\theta_{air,{\\textit inlet}} + \\frac{Q'_{T} \\div \\left( 3600 \\times 10^{-3} \\right)}{V_{fan} \\div 3600 \\times \\rho_{air,{\\textit inlet}} \\times C_{p, {\\textit inlet}}}\n",
    "\\end{equation*}\n",
    "$$\n",
    "\n",
    "<div style=\"text-align: right;\"> (4) </div>"
   ]
  },
  {
   "cell_type": "markdown",
   "metadata": {},
   "source": [
    "ここで、  \n",
    "\n",
    "$C_{p,{\\textit inlet}}$：室内機吸込空気の定圧比熱(kJ/(kg・K))  \n",
    "$Q'_{T}$：1時間当たりの補正処理負荷(MJ/h)  \n",
    "$V_{fan}$：空気搬送ファンの風量(m3/h)  \n",
    "$\\theta_{air,{\\textit inlet}}$：室内機吸込空気の温度(℃)  \n",
    "$\\theta_{air,outlet}$：室内機吹出空気の温度(℃)     \n",
    "$\\rho_{air,{\\textit inlet}}$：室内機吸込空気の密度(kg/m3)\n",
    "\n",
    "である。"
   ]
  },
  {
   "cell_type": "code",
   "execution_count": 19,
   "metadata": {},
   "outputs": [],
   "source": [
    "def theta_air_outlet(Cp_inlet, Q_dash_T, V_fan, theta_air_inlet, rho_air_inlet):\n",
    "    '''室内機吹出し空気温度(℃)を計算する'''\n",
    "    # Cp_inlet：室内機吸込空気の定圧比熱(kJ/(kg・K))\n",
    "    # Q_dash_T：1時間当たりの補正処理負荷(MJ/h)\n",
    "    # V_fan：空気搬送ファンの風量(m3/h) \n",
    "    # theta_air_inlet：室内機吸込空気温度(℃)\n",
    "    # rho_air_inlet：室内機吸込空気の密度(kg/m3)\n",
    "      \n",
    "    return theta_air_inlet + (Q_dash_T/(3600*10**(-3))) / (V_fan/3600 *rho_air_inlet *Cp_inlet)"
   ]
  },
  {
   "cell_type": "markdown",
   "metadata": {},
   "source": [
    "室内機吸込空気の密度$\\rho_{air,{\\textit inlet}}$は、式(5)により表される。"
   ]
  },
  {
   "cell_type": "markdown",
   "metadata": {},
   "source": [
    "$$ \n",
    "\\begin{equation*} \n",
    "    \\rho_{air,{\\textit inlet}} = \\frac{1}{0.004555 \\times \\left( 0.622 + X_{air,{\\textit inlet}} \\right) \\times T_{air,{\\textit inlet}}}\n",
    "\\end{equation*}\n",
    "$$\n",
    "\n",
    "<div style=\"text-align: right;\"> (5) </div>"
   ]
  },
  {
   "cell_type": "markdown",
   "metadata": {},
   "source": [
    "ここで、  \n",
    "\n",
    "$X_{air,{\\textit inlet}}$：室内機吸込空気の絶対湿度(kg/kg(DA))  \n",
    "$T_{air,{\\textit inlet}}$：室内機吸込空気の絶対温度(K)   \n",
    "$\\rho_{air,{\\textit inlet}}$：室内機吸込空気の密度(kg/m3)  \n",
    "\n",
    "である。"
   ]
  },
  {
   "cell_type": "markdown",
   "metadata": {},
   "source": [
    "室内機吸込空気の絶対温度$T_{air,{\\textit inlet}}$および室内機吸込空気の絶対湿度$X_{air,{\\textit inlet}}$は、室内機吸込空気の温度$\\theta_{air,{\\textit inlet}}$（暖房設定温度$\\theta_{ref}$に等しく、20℃）および室内機吸込空気の相対湿度$h_{air,{\\textit inlet}}$（59%）を用いて、第十一章第一節により算定される。"
   ]
  },
  {
   "cell_type": "code",
   "execution_count": 20,
   "metadata": {},
   "outputs": [],
   "source": [
    "def rho_air(T, X):\n",
    "    '''空気の密度(kg/m3)を計算する'''\n",
    "    # T：空気の絶対温度(K)\n",
    "    # X：空気の絶対湿度(kg/kg(DA))\n",
    "    \n",
    "    return 1 / (0.004555 * (0.622 + X) * T) "
   ]
  },
  {
   "cell_type": "markdown",
   "metadata": {},
   "source": [
    "室内機吸込空気の定圧比熱$C_{p,{\\textit inlet}}$は、式(6)により表される。"
   ]
  },
  {
   "cell_type": "markdown",
   "metadata": {},
   "source": [
    "$$ \n",
    "\\begin{equation*} \n",
    "    C_{p,{\\textit inlet}} =  C_{p_{air}} + X_{air,{\\textit inlet}} \\times C_{p_{w}}\n",
    "\\end{equation*}\n",
    "$$\n",
    "\n",
    "<div style=\"text-align: right;\"> (6) </div>"
   ]
  },
  {
   "cell_type": "markdown",
   "metadata": {},
   "source": [
    "ここで、  \n",
    "\n",
    "$C_{p,{\\textit inlet}}$：室内機吸込空気の定圧比熱(kJ/(kg・K))  \n",
    "$C_{p_{air}}$：乾き空気の定圧比熱(kJ/(kg(DA)・K))  \n",
    "$C_{p_{w}}$：水蒸気の定圧比熱(kJ/(kg・K))  \n",
    "$X_{air,{\\textit inlet}}$：室内機吸込空気絶対湿度(kg/kg(DA))  \n",
    "\n",
    "である。"
   ]
  },
  {
   "cell_type": "markdown",
   "metadata": {},
   "source": [
    "乾き空気の定圧比熱$C_{p_{air}}$は、1.006 kJ/(kg・K)とする。水蒸気の定圧比熱$C_{p_{w}}$は、1.846 kJ/(kg・K)とする。"
   ]
  },
  {
   "cell_type": "code",
   "execution_count": 21,
   "metadata": {},
   "outputs": [],
   "source": [
    "def Cp(X):\n",
    "    '''湿り空気の定圧比熱(kJ/(kg・K))を計算する'''\n",
    "    # X：空気の絶対湿度(kg/kg(DA))\n",
    "    # Cp_air：乾き空気の定圧比熱(kJ/(kg・K))\n",
    "    # Cp_w：水蒸気の定圧比熱(kJ/(kg・K))\n",
    "    \n",
    "    Cp_air = 1.006\n",
    "    Cp_w = 1.846\n",
    "    \n",
    "    return Cp_air  + X * Cp_w"
   ]
  },
  {
   "cell_type": "markdown",
   "metadata": {},
   "source": [
    "室内機熱交換器表面の顕熱伝達率$\\alpha_{c,hex}$は、式(7)により表される。"
   ]
  },
  {
   "cell_type": "markdown",
   "metadata": {},
   "source": [
    "$$ \n",
    "\\begin{equation*} \n",
    "    \\alpha_{c,hex} = -0.001679 \\times \\left( \\frac{V_{fan} \\div 3600}{A_{f,hex}} \\right)^{2}  -0.0044019 \\times \\frac{V_{fan} \\div 3600}{A_{f,hex}} +0.02706\n",
    "\\end{equation*} \n",
    "$$\n",
    "\n",
    "<div style=\"text-align: right;\"> (7) </div>"
   ]
  },
  {
   "cell_type": "markdown",
   "metadata": {},
   "source": [
    "ここで、  \n",
    "\n",
    "$A_{f,hex}$：室内機熱交換器の前面面積のうち熱交換に有効な面積(m2)  \n",
    "$V_{fan}$：空気搬送ファンの風量(m3/h)  \n",
    "$\\alpha_{c,hex}$：室内機熱交換器表面の顕熱伝達率(kW/(m2・K))  \n",
    "\n",
    "である。"
   ]
  },
  {
   "cell_type": "markdown",
   "metadata": {},
   "source": [
    "室内機熱交換器の前面面積のうち熱交換に有効な面積$A_{f,hex}$は、0.23559 m2とする。"
   ]
  },
  {
   "cell_type": "code",
   "execution_count": 22,
   "metadata": {},
   "outputs": [],
   "source": [
    "def alpha_c_hex(V_fan):\n",
    "    '''室内機熱交換器表面の顕熱伝達率(kW/(m2・K)) を計算する'''\n",
    "    # A_f_hex：室内機熱交換器の前面面積のうち熱交換に有効な面積(m2)  \n",
    "    # V_fan：空気搬送ファンの風量(m3/h)  \n",
    "    \n",
    "    A_f_hex = 0.23559\n",
    "    v = V_fan / 3600 / A_f_hex\n",
    "    \n",
    "    return -0.001679*v**(2) -0.0044019*v +0.0276 "
   ]
  },
  {
   "cell_type": "markdown",
   "metadata": {},
   "source": [
    "## 付録D　冷凍サイクルの理論効率（変更案）"
   ]
  },
  {
   "cell_type": "markdown",
   "metadata": {},
   "source": [
    "（ルームエアコンディショナー付温水床暖房の付録Aに倣う計算法）"
   ]
  },
  {
   "cell_type": "markdown",
   "metadata": {},
   "source": [
    "### D.4　冷凍サイクルの理論効率"
   ]
  },
  {
   "cell_type": "markdown",
   "metadata": {},
   "source": [
    "<p style=\"text-indent:2em\">暖房：</p> \n",
    "$$ \n",
    "\\begin{equation*} \n",
    "    e_{ref,H,th} = \\frac{h_{ref,comp,out} - h_{ref,cnd,out}}{h_{ref,comp,out} - h_{ref,comp,{\\textit in}}}\n",
    "\\end{equation*} \n",
    "$$\n",
    "\n",
    "<div style=\"text-align: right;\"> (1-1) </div>"
   ]
  },
  {
   "cell_type": "markdown",
   "metadata": {},
   "source": [
    "<p style=\"text-indent:2em\">冷房：</p> \n",
    "$$ \n",
    "\\begin{equation*} \n",
    "    e_{ref,C,th} = \\frac{h_{ref,comp,{\\textit in}} - h_{ref,evp,{\\textit in}}}{h_{ref,comp,out} - h_{ref,comp,{\\textit in}}} = \\frac{h_{ref,comp,{\\textit in}} - h_{ref,cnd,out}}{h_{ref,comp,out} - h_{ref,comp,{\\textit in}}} \n",
    "\\end{equation*} \n",
    "$$\n",
    "\n",
    "<div style=\"text-align: right;\"> (1-2) </div>"
   ]
  },
  {
   "cell_type": "markdown",
   "metadata": {},
   "source": [
    "ここで、  \n",
    "\n",
    "$e_{ref,C,th}$：冷房の理論効率(-)  \n",
    "$e_{ref,H,th}$：暖房の理論効率(-)  \n",
    "$h_{ref,evp,{\\textit in}}$：蒸発器入口比エンタルピー(kJ/kg)  \n",
    "$h_{ref,cnd,{\\textit in}}$：凝縮器入口比エンタルピー(kJ/kg)  \n",
    "$h_{ref,cnd,out}$：凝縮器出口比エンタルピー(kJ/kg)   \n",
    "$h_{ref,comp,{\\textit in}}$：圧縮機吸込比エンタルピー(kJ/kg)  \n",
    "$h_{ref,comp,out}$：圧縮機吐出比エンタルピー(kJ/kg)   \n",
    "\n",
    "である。"
   ]
  },
  {
   "cell_type": "code",
   "execution_count": 23,
   "metadata": {},
   "outputs": [],
   "source": [
    "def e_ref_H_th(h_ref_comp_in, h_ref_comp_out, h_ref_cnd_out):\n",
    "    '''暖房の理論効率(-)を求める。'''\n",
    "    \n",
    "    return (h_ref_comp_out - h_ref_cnd_out) / (h_ref_comp_out - h_ref_comp_in) "
   ]
  },
  {
   "cell_type": "code",
   "execution_count": 24,
   "metadata": {},
   "outputs": [],
   "source": [
    "def e_ref_C_th(h_ref_comp_in, h_ref_comp_out, h_ref_cnd_out):\n",
    "    '''暖房の理論効率(-)を求める。'''\n",
    "    \n",
    "    return (h_ref_comp_in - h_ref_cnd_out) / (h_ref_comp_out - h_ref_comp_in) "
   ]
  },
  {
   "cell_type": "markdown",
   "metadata": {},
   "source": [
    "### D.5　圧縮機吐出及び吸込比エンタルピー"
   ]
  },
  {
   "cell_type": "markdown",
   "metadata": {},
   "source": [
    "<p style=\"text-indent:2em\">圧縮機吐出比エンタルピー：</p> \n",
    "$$ \n",
    "\\begin{equation*} \n",
    "    h_{ref,comp,out} = f_{H,gas,comp,out} \\left( P_{ref,comp,out}, \\: S_{ref,comp,out} \\right)\n",
    "\\end{equation*} \n",
    "$$\n",
    "\n",
    "<div style=\"text-align: right;\"> (2) </div>"
   ]
  },
  {
   "cell_type": "markdown",
   "metadata": {},
   "source": [
    "ここで、  \n",
    "\n",
    "$f_{H,gas,comp,out} $：圧縮機吐出領域における比エンタルピーを求める関数   \n",
    "$h_{ref,comp,out}$：圧縮機吐出比エンタルピー(kJ/kg)  \n",
    "$P_{ref,comp,out}$：圧縮機吐出圧力(MPa)  \n",
    "$S_{ref,comp,out}$：圧縮機吐出比エントロピー(kJ/(kg・K))  \n",
    "\n",
    "である。"
   ]
  },
  {
   "cell_type": "code",
   "execution_count": 25,
   "metadata": {},
   "outputs": [],
   "source": [
    "def h_ref_comp_out(P_ref_comp_out, S_ref_comp_out):\n",
    "    '''圧縮機吐出領域における比エンタルピー(kJ/kg)  を求める。'''\n",
    "    \n",
    "    return f_H_gas_comp_out(P_ref_comp_out, S_ref_comp_out)"
   ]
  },
  {
   "cell_type": "markdown",
   "metadata": {},
   "source": [
    "<p style=\"text-indent:2em\">圧縮機吐出圧力：</p> \n",
    "$$ \n",
    "\\begin{equation*} \n",
    "    P_{ref,comp,out} = P_{ref,cnd}\n",
    "\\end{equation*} \n",
    "$$\n",
    "\n",
    "<div style=\"text-align: right;\"> (3) </div>"
   ]
  },
  {
   "cell_type": "code",
   "execution_count": 26,
   "metadata": {},
   "outputs": [],
   "source": [
    "def P_ref_comp_out(P_ref_cnd):\n",
    "    '''圧縮機吐出圧(MPa)を求める。'''\n",
    "    \n",
    "    return P_ref_cnd"
   ]
  },
  {
   "cell_type": "markdown",
   "metadata": {},
   "source": [
    "ここで、  \n",
    "\n",
    "$P_{ref,cnd}$：凝縮圧力(MPa)  \n",
    "$P_{ref,comp,out}$：圧縮機吐出圧力(MPa)   \n",
    "\n",
    "である。"
   ]
  },
  {
   "cell_type": "markdown",
   "metadata": {},
   "source": [
    "<p style=\"text-indent:2em\">圧縮機吐出比エントロピー：</p> \n",
    "$$ \n",
    "\\begin{equation*} \n",
    "    S_{ref,comp,out} = S_{ref,comp,{\\textit in}}\n",
    "\\end{equation*} \n",
    "$$\n",
    "\n",
    "<div style=\"text-align: right;\"> (4) </div>"
   ]
  },
  {
   "cell_type": "code",
   "execution_count": 27,
   "metadata": {},
   "outputs": [],
   "source": [
    "def S_ref_comp_out(S_ref_comp_in):\n",
    "    '''圧縮機吐出比エントロピー(kJ/(kg・K))を求める。'''\n",
    "    \n",
    "    return S_ref_comp_in"
   ]
  },
  {
   "cell_type": "markdown",
   "metadata": {},
   "source": [
    "ここで、  \n",
    "\n",
    "$S_{ref,comp,{\\textit in}}$：圧縮機吸込比エントロピー(kJ/(kg・K))   \n",
    "$S_{ref,comp,out}$：圧縮機吐出比エントロピー(kJ/(kg・K))   \n",
    "\n",
    "である。"
   ]
  },
  {
   "cell_type": "markdown",
   "metadata": {},
   "source": [
    "<p style=\"text-indent:2em\">圧縮機吸込比エントロピー：</p> \n",
    "$$ \n",
    "\\begin{equation*} \n",
    "    S_{ref,comp,{\\textit in}} = f_{S,gas} \\left( P_{ref,comp,{\\textit in}} , \\: h_{ref,comp,{\\textit in}} \\right)\n",
    "\\end{equation*} \n",
    "$$\n",
    "\n",
    "<div style=\"text-align: right;\"> (5) </div>"
   ]
  },
  {
   "cell_type": "markdown",
   "metadata": {},
   "source": [
    "ここで、  \n",
    "\n",
    "$f_{S,gas} $：飽和蒸気の圧力を求める関数   \n",
    "$h_{ref,comp,{\\textit in}}$：圧縮機吸込入比エンタルピー(kJ/kg)  \n",
    "$P_{ref,comp,{\\textit in}}$：圧縮機吸込圧力(MPa)   \n",
    "$S_{ref,comp,{\\textit in}}$：圧縮機吸込比エントロピー(kJ/(kg・K))   \n",
    "\n",
    "である。"
   ]
  },
  {
   "cell_type": "code",
   "execution_count": 28,
   "metadata": {},
   "outputs": [],
   "source": [
    "def S_ref_comp_in(P_ref_comp_in, h_ref_comp_in):\n",
    "    '''圧縮機吸込比エントロピー(kJ/(kg・K))を求める。'''\n",
    "    \n",
    "    return f_S_gas(P_ref_comp_in, h_ref_comp_in)"
   ]
  },
  {
   "cell_type": "markdown",
   "metadata": {},
   "source": [
    "<p style=\"text-indent:2em\">圧縮機吸込比エンタルピー：</p> \n",
    "$$ \n",
    "\\begin{equation*} \n",
    "    h_{ref,comp,{\\textit in}} = f_{H,gas,comp,{\\textit in}} \\left( P_{ref,comp,{\\textit in}} , \\: \\theta_{ref,comp,{\\textit in}} \\right)\n",
    "\\end{equation*} \n",
    "$$\n",
    "\n",
    "<div style=\"text-align: right;\"> (6) </div>"
   ]
  },
  {
   "cell_type": "markdown",
   "metadata": {},
   "source": [
    "ここで、  \n",
    "\n",
    "$f_{H,gas,comp,{\\textit in}} $：圧縮機吸込領域における比エンタルピーを求める関数   \n",
    "$h_{ref,comp,{\\textit in}}$：圧縮機吸込比エンタルピー(kJ/kg)  \n",
    "$P_{ref,comp,{\\textit in}}$：圧縮機吸込圧力(MPa)   \n",
    "$\\theta_{ref,comp,{\\textit in}}$：圧縮機吸込温度(℃)   \n",
    "\n",
    "である。"
   ]
  },
  {
   "cell_type": "code",
   "execution_count": 29,
   "metadata": {},
   "outputs": [],
   "source": [
    "def h_ref_comp_in(P_ref_comp_in, theta_ref_comp_in):\n",
    "    '''圧縮機吸込比エンタルピー(kJ/kg)を求める。'''\n",
    "    \n",
    "    return f_H_gas_comp_in(P_ref_comp_in, theta_ref_comp_in)"
   ]
  },
  {
   "cell_type": "markdown",
   "metadata": {},
   "source": [
    "<p style=\"text-indent:2em\">圧縮機吐出圧力：</p> \n",
    "$$ \n",
    "\\begin{equation*} \n",
    "    P_{ref,comp,{\\textit in}} = P_{ref,evp}\n",
    "\\end{equation*} \n",
    "$$\n",
    "\n",
    "<div style=\"text-align: right;\"> (7) </div>"
   ]
  },
  {
   "cell_type": "markdown",
   "metadata": {},
   "source": [
    "ここで、  \n",
    "\n",
    "$P_{ref,comp,{\\textit in}}$：圧縮機吸込圧力(MPa)    \n",
    "$P_{ref,evp}$：蒸発圧力(MPa)   \n",
    "\n",
    "である。"
   ]
  },
  {
   "cell_type": "code",
   "execution_count": 30,
   "metadata": {},
   "outputs": [],
   "source": [
    "def P_ref_comp_in(P_ref_evp):\n",
    "    '''圧縮機吸込圧力(MPa)を求める。'''\n",
    "    \n",
    "    return P_ref_evp"
   ]
  },
  {
   "cell_type": "markdown",
   "metadata": {},
   "source": [
    "<p style=\"text-indent:2em\">圧縮機吸込温度：</p> \n",
    "$$ \n",
    "\\begin{equation*} \n",
    "    \\theta_{ref,comp,{\\textit in}} = \\theta_{ref,evp} + \\theta_{ref,SH} \n",
    "\\end{equation*} \n",
    "$$\n",
    "\n",
    "<div style=\"text-align: right;\"> (8) </div>"
   ]
  },
  {
   "cell_type": "markdown",
   "metadata": {},
   "source": [
    "ここで、  \n",
    "\n",
    "$\\theta_{ref,evp}$：蒸発温度(℃)   \n",
    "$\\theta_{ref,comp,{\\textit in}}$：圧縮機吸込温度(℃)   \n",
    "$\\theta_{ref,SH}$：過熱度(℃)   \n",
    "\n",
    "である。"
   ]
  },
  {
   "cell_type": "code",
   "execution_count": 31,
   "metadata": {},
   "outputs": [],
   "source": [
    "def theta_ref_comp_in(theta_ref_evp, theta_ref_SH):\n",
    "    '''圧縮機吸込温度(℃)を求める。'''\n",
    "    \n",
    "    return theta_ref_evp + theta_ref_SH"
   ]
  },
  {
   "cell_type": "markdown",
   "metadata": {},
   "source": [
    "### D.6　凝縮器出口比エンタルピー"
   ]
  },
  {
   "cell_type": "markdown",
   "metadata": {},
   "source": [
    "<p style=\"text-indent:2em\">凝縮器出口比エンタルピー：</p> \n",
    "$$ \n",
    "\\begin{equation*} \n",
    "    h_{ref,cnd,out} = f_{H,liq} \\left( P_{ref,cnd} , \\: \\theta_{ref,cnd,out} \\right)\n",
    "\\end{equation*} \n",
    "$$\n",
    "\n",
    "<div style=\"text-align: right;\"> (9) </div>"
   ]
  },
  {
   "cell_type": "markdown",
   "metadata": {},
   "source": [
    "ここで、  \n",
    "\n",
    "$f_{H,liq} $：過冷却液の比エンタルピーを求める関数   \n",
    "$h_{ref,cnd,out}$：凝縮器出口比エンタルピー(kJ/kg)  \n",
    "$P_{ref,cnd}$：凝縮圧力(MPa)   \n",
    "$\\theta_{ref,cnd,out}$：凝縮器出口温度(℃)   \n",
    "\n",
    "である。"
   ]
  },
  {
   "cell_type": "code",
   "execution_count": 32,
   "metadata": {},
   "outputs": [],
   "source": [
    "def h_ref_cnd_out(P_ref_cnd, theta_ref_cnd_out):\n",
    "    '''凝縮器出口比エンタルピー(kJ/kg)を求める。'''\n",
    "    \n",
    "    return f_H_liq(P_ref_cnd, theta_ref_cnd_out)"
   ]
  },
  {
   "cell_type": "markdown",
   "metadata": {},
   "source": [
    "<p style=\"text-indent:2em\">凝縮器出口温度：</p> \n",
    "$$ \n",
    "\\begin{equation*} \n",
    "    \\theta_{ref,cnd,out} = \\theta_{ref,cnd} - \\theta_{ref,SC} \n",
    "\\end{equation*} \n",
    "$$\n",
    "\n",
    "<div style=\"text-align: right;\"> (10) </div>"
   ]
  },
  {
   "cell_type": "markdown",
   "metadata": {},
   "source": [
    "ここで、  \n",
    "\n",
    "$\\theta_{ref,cnd}$：凝縮温度(℃)   \n",
    "$\\theta_{ref,cnd,{\\textit out}}$：凝縮器出口温度(℃)   \n",
    "$\\theta_{ref,SC}$：過冷却度(℃)   \n",
    "\n",
    "である。"
   ]
  },
  {
   "cell_type": "code",
   "execution_count": 33,
   "metadata": {},
   "outputs": [],
   "source": [
    "def theta_ref_cnd_out(theta_ref_cnd, theta_ref_SC):\n",
    "    '''凝縮器出口温度(℃)を求める。'''\n",
    "    \n",
    "    return theta_ref_cnd - theta_ref_SC"
   ]
  },
  {
   "cell_type": "markdown",
   "metadata": {},
   "source": [
    "### D.7　凝縮圧力および蒸発圧力"
   ]
  },
  {
   "cell_type": "markdown",
   "metadata": {},
   "source": [
    "<p style=\"text-indent:2em\">凝縮圧力：</p> \n",
    "$$ \n",
    "\\begin{equation*} \n",
    "    P_{ref,cnd} = f_{P,sgas} \\left( \\theta_{ref,cnd} \\right)\n",
    "\\end{equation*} \n",
    "$$\n",
    "\n",
    "<div style=\"text-align: right;\"> (11) </div>"
   ]
  },
  {
   "cell_type": "markdown",
   "metadata": {},
   "source": [
    "ここで、  \n",
    "\n",
    "$f_{P,sgas} $：飽和蒸気の圧力を求める関数  \n",
    "$P_{ref,cnd}$：凝縮圧力(MPa)   \n",
    "$\\theta_{ref,cnd}$：凝縮温度(℃)   \n",
    "\n",
    "である。"
   ]
  },
  {
   "cell_type": "code",
   "execution_count": 34,
   "metadata": {},
   "outputs": [],
   "source": [
    "def P_ref_cnd(theta_ref_cnd):\n",
    "    '''凝縮圧力(MPa)を求める。'''\n",
    "    \n",
    "    return f_P_sgas(theta_ref_cnd)"
   ]
  },
  {
   "cell_type": "markdown",
   "metadata": {},
   "source": [
    "<p style=\"text-indent:2em\">蒸発圧力：</p> \n",
    "$$ \n",
    "\\begin{equation*} \n",
    "    P_{ref,evp} = f_{P,sgas} \\left( \\theta_{ref,evp} \\right)\n",
    "\\end{equation*} \n",
    "$$\n",
    "\n",
    "<div style=\"text-align: right;\"> (12) </div>"
   ]
  },
  {
   "cell_type": "markdown",
   "metadata": {},
   "source": [
    "ここで、  \n",
    "\n",
    "$f_{P,sgas} $：飽和蒸気の圧力を求める関数  \n",
    "$P_{ref,evp}$：蒸発圧力(MPa)   \n",
    "$\\theta_{ref,evp}$：蒸発温度(℃)   \n",
    "\n",
    "である。"
   ]
  },
  {
   "cell_type": "code",
   "execution_count": 35,
   "metadata": {},
   "outputs": [],
   "source": [
    "def P_ref_evp(theta_ref_evp):\n",
    "    '''蒸発圧力(MPa)を求める。'''\n",
    "    \n",
    "    return f_P_sgas(theta_ref_evp)"
   ]
  },
  {
   "cell_type": "markdown",
   "metadata": {},
   "source": [
    "### D.8　冷媒に関する関数"
   ]
  },
  {
   "cell_type": "markdown",
   "metadata": {},
   "source": [
    "#### D.8.1　飽和蒸気に関する関数"
   ]
  },
  {
   "cell_type": "markdown",
   "metadata": {},
   "source": [
    "<p style=\"text-indent:2em\">飽和蒸気の温度から圧力を求める関数：</p> \n",
    "$$ \n",
    "\\begin{align*}\n",
    "    f_{P,sgas} \\left( \\theta \\right) =&  2.75857926950901 \\times 10^{-17} \\times \\theta^{8} + 1.49382057911753 \\times 10^{-15} \\times \\theta^{7} \\\\\n",
    "    &+ 6.52001687267015 \\times 10^{-14} \\times \\theta^{6} + 9.14153034999975 \\times 10^{-12} \\times \\theta^{5} \\\\\n",
    "    &+ 3.18314616500361 \\times 10^{-9} \\times \\theta^{4} + 1.60703566663019 \\times 10^{-6} \\times \\theta^{3} \\\\\n",
    "    &+ 3.06278984019513 \\times 10^{-4} \\times \\theta^{2} + 2.54461992992037 \\times 10^{-2} \\times \\theta \\\\\n",
    "    &+ 7.98086455154775 \\times 10^{-1}\n",
    "\\end{align*}\n",
    "$$\n",
    "\n",
    "<div style=\"text-align: right;\"> (13) </div>"
   ]
  },
  {
   "cell_type": "markdown",
   "metadata": {},
   "source": [
    "ここで、  \n",
    "\n",
    "$f_{P,sgas} $：飽和水蒸気の圧力(MPa)     \n",
    "$\\theta$：飽和水蒸気の温度(℃)   \n",
    "\n",
    "である。"
   ]
  },
  {
   "cell_type": "code",
   "execution_count": 36,
   "metadata": {},
   "outputs": [],
   "source": [
    "def f_P_sgas(theta):\n",
    "    '''飽和蒸気の圧力(MPa)を求める。'''\n",
    "    \n",
    "    a8 = 2.75857926950901 * 10**(-17)\n",
    "    a7 = 1.49382057911753 * 10**(-15)\n",
    "    a6 = 6.52001687267015 * 10**(-14)\n",
    "    a5 = 9.14153034999975 * 10**(-12)\n",
    "    a4 = 3.18314616500361 * 10**(-9)\n",
    "    a3 = 1.60703566663019 * 10**(-6)\n",
    "    a2 = 3.06278984019513 * 10**(-4)\n",
    "    a1 = 2.54461992992037 * 10**(-2)\n",
    "    a0 = 7.98086455154775 * 10**(-1)\n",
    "    \n",
    "    return    a8 * theta**8 + a7 * theta**7 \\\n",
    "            + a6 * theta**6 + a5 * theta**5 \\\n",
    "            + a4 * theta**4 + a3 * theta**3 \\\n",
    "            + a2 * theta**2 + a1 * theta**1 \\\n",
    "            + a0 * theta**0"
   ]
  },
  {
   "cell_type": "code",
   "execution_count": 37,
   "metadata": {},
   "outputs": [
    {
     "data": {
      "image/png": "[encoded data removed]",
      "text/plain": [
       "<matplotlib.figure.Figure at 0x1a1b9fab898>"
      ]
     },
     "metadata": {},
     "output_type": "display_data"
    }
   ],
   "source": [
    "# 出力結果\n",
    "plt.figure(figsize = (8, 3), dpi=80 )\n",
    "plt.subplot2grid((1, 1), (0, 0))\n",
    "plt.title('飽和蒸気の圧力(MPa)', fontdict={'fontproperties':fp})\n",
    "\n",
    "x_values =[x for x in range(-10, 20, 1)]\n",
    "y_values = [f_P_sgas(theta) for theta in range(-10, 20, 1)]\n",
    "plt.plot(x_values, y_values, label ='飽和蒸気の圧力' )\n",
    "        \n",
    "ax=plt.gca()\n",
    "ax.set_xlabel('飽和蒸気の温度(℃)', fontdict={'fontproperties':fp})\n",
    "ax.set_xticks([x for x in range(-10, 25, 5)], minor=False)\n",
    "ax.set_xbound(lower=-10, upper=20)\n",
    "\n",
    "ax.set_ylabel('飽和蒸気の圧力(MPa)', fontdict={'fontproperties':fp})\n",
    "ax.set_yticks(np.arange(0, 2.5, 0.2), minor=False)\n",
    "ax.set_ybound(lower=0, upper=2)\n",
    "\n",
    "ax.grid(which='major', color='lightgray', alpha=0.7, linestyle='-')     \n",
    "plt.legend(loc='center left', bbox_to_anchor=(1, 0.5), borderaxespad=0.5, frameon=True, prop=fp)\n",
    "\n",
    "plt.show()"
   ]
  },
  {
   "cell_type": "markdown",
   "metadata": {},
   "source": [
    "#### D.8.2　過熱蒸気に関する関数"
   ]
  },
  {
   "cell_type": "markdown",
   "metadata": {},
   "source": [
    "<p style=\"text-indent:2em\">圧縮機吸込領域において過熱蒸気の圧力と温度から比エンタルピーを求める関数：</p> \n",
    "$$ \n",
    "\\begin{align*}\n",
    "    f_{H,gas,comp,{\\textit in}} \\left( P, \\: \\theta \\right) = &- 1.00110355 \\times 10^{-1} \\times P^{3} - 1.184450639 \\times 10 \\times P^{2} \\\\\n",
    "    &- 2.052740252 \\times 10^{2} \\times P + 3.20391 \\times 10^{-6} \\times \\left( \\theta + 273.15 \\right)^{3} \\\\\n",
    "    &- 2.24685 \\times 10^{-3} \\times \\left( \\theta + 273.15 \\right)^{2} + 1.279436909 \\times \\left( \\theta + 273.15 \\right) \\\\\n",
    "    &+ 3.1271238 \\times 10^{-2} \\times P^{2} \\times \\left( \\theta + 273.15 \\right) \\\\\n",
    "    &- 1.415359 \\times 10^{-3} \\times P \\times \\left( \\theta + 273.15 \\right)^{2} \\\\\n",
    "    &+ 1.05553912 \\times P \\times \\left( \\theta + 273.15 \\right) + 1.949505039 \\times 10^{2}\n",
    "\\end{align*}  \n",
    "$$\n",
    "\n",
    "<div style=\"text-align: right;\"> (14) </div>"
   ]
  },
  {
   "cell_type": "markdown",
   "metadata": {},
   "source": [
    "ここで、  \n",
    "\n",
    "$f_{H,gas,comp,{\\textit in}}$：過熱蒸気の比エンタルピー(kJ/kg)        \n",
    "$P$：過熱蒸気の圧力(MPa)    \n",
    "$\\theta$：過熱蒸気の温度(℃)   \n",
    "\n",
    "である。"
   ]
  },
  {
   "cell_type": "code",
   "execution_count": 38,
   "metadata": {},
   "outputs": [],
   "source": [
    "def f_H_gas_comp_in(P, theta):\n",
    "    '''圧縮機吸込領域における過熱蒸気の比エンタルピー(kJ/kg)を求める。'''\n",
    "    \n",
    "    a30 = -1.00110355  * 10**(-1)\n",
    "    a20 = -1.184450639 * 10\n",
    "    a10 = -2.052740252 * 10**(2)\n",
    "    a03 =  3.20391     * 10**(-6)\n",
    "    a02 = -2.24685     * 10**(-3)\n",
    "    a01 =  1.279436909\n",
    "    a21 =  3.1271238   * 10**(-2)\n",
    "    a12 = -1.415359    * 10**(-3)\n",
    "    a11 =  1.05553912\n",
    "    a00 =  1.949505039 * 10**(2)\n",
    "    \n",
    "    T = theta + 273.15\n",
    "    \n",
    "    return    a30 * P**3 * T**0 + a20 * P**2 * T**0 + a10 * P**1 * T**0 \\\n",
    "            + a03 * P**0 * T**3 + a02 * P**0 * T**2 + a01 * P**0 * T**1 \\\n",
    "            + a21 * P**2 * T**1 + a12 * P**1 * T**2 \\\n",
    "            + a11 * P**1 * T**1 + a00 * P**0 * T**0"
   ]
  },
  {
   "cell_type": "markdown",
   "metadata": {},
   "source": [
    "<p style=\"text-indent:2em\">圧縮機吐出領域において過熱蒸気の圧力と比エントロピーから比エンタルピーを求める関数：</p> \n",
    "$$ \n",
    "\\begin{align*}\n",
    "    f_{H,gas,comp,out} \\left( P, \\: S \\right) = &- 1.869892835947070 \\times 10^{-1} \\times P^{4} + 8.223224182177200 \\times 10^{-1} \\times P^{3} \\\\\n",
    "    &+ 4.124595239531860 \\times P^{2} - 8.346302788803210 \\times 10 \\times P \\\\\n",
    "    &- 1.016388214044490 \\times 10^{2} \\times S^{4} + 8.652428629143880 \\times 10^{2} \\times S^{3} \\\\\n",
    "    &- 2.574830800631310 \\times 10^{3} \\times S^{2} + 3.462049327009730 \\times 10^{3} \\times S \\\\\n",
    "    &+ 9.209837906396910 \\times 10^{-1} \\times P^{3} \\times S\\\\\n",
    "    &- 5.163305566700450 \\times 10^{-1} \\times P^{2} \\times S^{2} \\\\\n",
    "    &+ 4.076727767130210 \\times P \\times S^{3} - 8.967168786520070 \\times P^{2} \\times S \\\\\n",
    "    &- 2.062021416757910 \\times 10 \\times P \\times S^{2} + 9.510257675728610 \\times 10 \\times P \\times S \\\\\n",
    "    &- 1.476914346214130 \\times 10^{3}\n",
    "\\end{align*}  \n",
    "$$\n",
    "\n",
    "<div style=\"text-align: right;\"> (15) </div>"
   ]
  },
  {
   "cell_type": "markdown",
   "metadata": {},
   "source": [
    "ここで、  \n",
    "\n",
    "$f_{H,gas,comp,out}$：過熱蒸気の比エンタルピー(kJ/kg)        \n",
    "$P$：過熱蒸気の圧力(MPa)    \n",
    "$S$：過熱蒸気の比エントロピー(kJ/(kg・K))       \n",
    "\n",
    "である。"
   ]
  },
  {
   "cell_type": "code",
   "execution_count": 39,
   "metadata": {},
   "outputs": [],
   "source": [
    "def f_H_gas_comp_out(P, S):\n",
    "    '''圧縮機吸込領域における過熱蒸気の比エンタルピー(kJ/kg)を求める。'''\n",
    "    \n",
    "    a40 = -1.869892835947070 * 10**(-1)\n",
    "    a30 =  8.223224182177200 * 10**(-1)\n",
    "    a20 =  4.124595239531860\n",
    "    a10 = -8.346302788803210 * 10\n",
    "    a04 = -1.016388214044490 * 10**(2)\n",
    "    a03 =  8.652428629143880 * 10**(2)\n",
    "    a02 = -2.574830800631310 * 10**(3)\n",
    "    a01 =  3.462049327009730 * 10**(3)\n",
    "    a31 =  9.209837906396910 * 10**(-1)\n",
    "    a22 = -5.163305566700450 * 10**(-1)\n",
    "    a13 =  4.076727767130210\n",
    "    a21 = -8.967168786520070 \n",
    "    a12 = -2.062021416757910 * 10\n",
    "    a11 =  9.510257675728610 * 10\n",
    "    a00 = -1.476914346214130 * 10**(3)\n",
    "    \n",
    "    return    a40 * P**4 * S**0 + a30 * P**3 * S**0 + a20 * P**2 * S**0 + a10 * P**1 * S**0 \\\n",
    "            + a04 * P**0 * S**4 + a03 * P**0 * S**3 + a02 * P**0 * S**2 + a01 * P**0 * S**1 \\\n",
    "            + a31 * P**3 * S**1 + a22 * P**2 * S**2 + a13 * P**1 * S**3 \\\n",
    "            + a21 * P**2 * S**1 + a12 * P**1 * S**2 \\\n",
    "            + a11 * P**1 * S**1 + a00 * P**0 * S**0"
   ]
  },
  {
   "cell_type": "markdown",
   "metadata": {},
   "source": [
    "<p style=\"text-indent:2em\">過熱蒸気の圧力と比エンタルピーから比エントロピーを求める関数：</p> \n",
    "$$ \n",
    "\\begin{align*}\n",
    "    f_{S,gas} \\left( P, \\: h \\right) = & 5.823109493752840 \\times 10^{-2} \\times P^{4} - 3.309666523931270 \\times 10^{-1} \\times P^{3} \\\\\n",
    "    &+ 7.700179914440890 \\times 10^{-1} \\times P^{2} - 1.311726004718660 \\times P \\\\\n",
    "    &+ 1.521486605815750 \\times 10^{-9} \\times h^{4} - 2.703698863404160 \\times 10^{-6} \\times h^{3} \\\\\n",
    "    &+ 1.793443775071770 \\times 10^{-3} \\times h^{2} - 5.227303746767450 \\times 10^{-1} \\times h \\\\\n",
    "    &+ 1.100368875131490 \\times 10^{-4} \\times P^{3} \\times h + 5.076769807083600 \\times 10^{-7} \\times P^{2} \\times h^{2} \\\\\n",
    "    &+ 1.202580329499520 \\times 10^{-8}\\times P \\times h^{3} - 7.278049214744230 \\times 10^{-4} \\times P^{2} \\times h \\\\\n",
    "    &- 1.449198550965620 \\times 10^{-5} \\times P \\times h^{2} + 5.716086851760640 \\times 10^{-3} \\times P \\times h \\\\\n",
    "    &+ 5.818448621582900 \\times 10\n",
    "\\end{align*}  \n",
    "$$\n",
    "\n",
    "<div style=\"text-align: right;\"> (16) </div>"
   ]
  },
  {
   "cell_type": "markdown",
   "metadata": {},
   "source": [
    "ここで、  \n",
    "\n",
    "$f_{S,gas}$：過熱蒸気の比エントロピー(kJ/(kg・K))         \n",
    "$P$：過熱蒸気の圧力(MPa)    \n",
    "$h$：過熱蒸気の比エンタルピー(kJ/kg)       \n",
    "\n",
    "である。"
   ]
  },
  {
   "cell_type": "code",
   "execution_count": 40,
   "metadata": {},
   "outputs": [],
   "source": [
    "def f_S_gas(P, h):\n",
    "    '''過熱蒸気の比比エントロピー(kJ/(kg・K))を求める。'''\n",
    "    \n",
    "    a40 =  5.823109493752840 * 10**(-2)\n",
    "    a30 = -3.309666523931270 * 10**(-1)\n",
    "    a20 =  7.700179914440890 * 10**(-1)\n",
    "    a10 = -1.311726004718660\n",
    "    a04 =  1.521486605815750 * 10**(-9)\n",
    "    a03 = -2.703698863404160 * 10**(-6)\n",
    "    a02 =  1.793443775071770 * 10**(-3)\n",
    "    a01 = -5.227303746767450 * 10**(-1)\n",
    "    a31 =  1.100368875131490 * 10**(-4)\n",
    "    a22 =  5.076769807083600 * 10**(-7)\n",
    "    a13 =  1.202580329499520 * 10**(-8)\n",
    "    a21 = -7.278049214744230 * 10**(-4)\n",
    "    a12 = -1.449198550965620 * 10**(-5)\n",
    "    a11 =  5.716086851760640 * 10**(-3)\n",
    "    a00 =  5.818448621582900 * 10\n",
    "    \n",
    "    return    a40 * P**4 * h**0 + a30 * P**3 * h**0 + a20 * P**2 * h**0 + a10 * P**1 * h**0 \\\n",
    "            + a04 * P**0 * h**4 + a03 * P**0 * h**3 + a02 * P**0 * h**2 + a01 * P**0 * h**1 \\\n",
    "            + a31 * P**3 * h**1 + a22 * P**2 * h**2 + a13 * P**1 * h**3 \\\n",
    "            + a21 * P**2 * h**1 + a12 * P**1 * h**2 \\\n",
    "            + a11 * P**1 * h**1 + a00 * P**0 * h**0"
   ]
  },
  {
   "cell_type": "markdown",
   "metadata": {},
   "source": [
    "#### D.8.3　過冷却液に関する関数"
   ]
  },
  {
   "cell_type": "markdown",
   "metadata": {},
   "source": [
    "<p style=\"text-indent:2em\">圧縮機吸込領域において過熱蒸気の圧力と温度から比エンタルピーを求める関数：</p> \n",
    "$$ \n",
    "\\begin{align*}\n",
    "    f_{H,liq} \\left( P, \\: \\theta \\right) = & 1.7902915 \\times 10^{-2} \\times P^{3} + 7.96830322 \\times 10^{-1} \\times P^{2} \\\\\n",
    "    &+ 5.985874958 \\times 10 \\times P + 0 \\times \\left( \\theta + 273.15 \\right)^{3} \\\\\n",
    "    &+ 9.86677 \\times 10^{-4} \\times \\left( \\theta + 273.15 \\right)^{2} + 9.8051677\\times 10^{-1} \\left( \\theta + 273.15 \\right) \\\\\n",
    "    &- 3.58645 \\times 10^{-3} \\times P^{2} \\times \\left( \\theta + 273.15 \\right) + 8.23122 \\times 10^{-4} \\times P \\times \\left( \\theta + 273.15 \\right) ^{2}\\\\\n",
    "    &- 4.42639115 \\times 10^{-1} \\times P \\times \\left( \\theta + 273.15 \\right) - 1.415490404 \\times 10^{2}\n",
    "\\end{align*}  \n",
    "$$\n",
    "\n",
    "<div style=\"text-align: right;\"> (17) </div>"
   ]
  },
  {
   "cell_type": "markdown",
   "metadata": {},
   "source": [
    "ここで、  \n",
    "\n",
    "$f_{H,liq}$：過冷却液の比エンタルピー(kJ/kg)        \n",
    "$P$：過冷却液の圧力(MPa)    \n",
    "$\\theta$：過冷却液の温度(℃)   \n",
    "\n",
    "である。"
   ]
  },
  {
   "cell_type": "code",
   "execution_count": 41,
   "metadata": {},
   "outputs": [],
   "source": [
    "def f_H_liq(P, theta):\n",
    "    '''圧縮機吸込領域における過冷却液の比エンタルピー(kJ/kg)を求める。'''\n",
    "    \n",
    "    a30 =  1.7902915   * 10**(-2)\n",
    "    a20 =  7.96830322  * 10**(-1)\n",
    "    a10 =  5.985874958 * 10\n",
    "    a03 =  0\n",
    "    a02 =  9.86677     * 10**(-4)\n",
    "    a01 =  9.8051677   * 10**(-1)\n",
    "    a21 = -3.58645     * 10**(-3)\n",
    "    a12 =  8.23122     * 10**(-4)\n",
    "    a11 = -4.42639115  * 10**(-1)\n",
    "    a00 = -1.415490404 * 10**(2)\n",
    "    \n",
    "    T = theta + 273.15\n",
    "    \n",
    "    return    a30 * P**3 * T**0 + a20 * P**2 * T**0 + a10 * P**1 * T**0 \\\n",
    "            + a03 * P**0 * T**3 + a02 * P**0 * T**2 + a01 * P**0 * T**1 \\\n",
    "            + a21 * P**2 * T**1 + a12 * P**1 * T**2 \\\n",
    "            + a11 * P**1 * T**1 + a00 * P**0 * T**0"
   ]
  },
  {
   "cell_type": "code",
   "execution_count": 42,
   "metadata": {},
   "outputs": [],
   "source": [
    "# 外気温度\n",
    "_theta_ex = 0\n",
    "# 凝縮温度\n",
    "_theta_ref_cnd = 7"
   ]
  },
  {
   "cell_type": "code",
   "execution_count": 43,
   "metadata": {},
   "outputs": [
    {
     "data": {
      "text/plain": [
       "-3.6500000000000004"
      ]
     },
     "execution_count": 43,
     "metadata": {},
     "output_type": "execute_result"
    }
   ],
   "source": [
    "# 蒸発温度\n",
    "_theta_ref_evp = _theta_ex - (0.100 * _theta_ref_cnd + 2.95)\n",
    "_theta_ref_evp"
   ]
  },
  {
   "cell_type": "code",
   "execution_count": 44,
   "metadata": {},
   "outputs": [
    {
     "data": {
      "text/plain": [
       "4.238"
      ]
     },
     "execution_count": 44,
     "metadata": {},
     "output_type": "execute_result"
    }
   ],
   "source": [
    "# 過熱度\n",
    "_theta_ref_SH = 4.49 - 0.036 * _theta_ref_cnd\n",
    "_theta_ref_SH"
   ]
  },
  {
   "cell_type": "code",
   "execution_count": 45,
   "metadata": {},
   "outputs": [
    {
     "data": {
      "text/plain": [
       "-0.0050000000000001155"
      ]
     },
     "execution_count": 45,
     "metadata": {},
     "output_type": "execute_result"
    }
   ],
   "source": [
    "# 過冷却度\n",
    "_theta_ref_SC = 0.245 * _theta_ref_cnd - 1.72\n",
    "_theta_ref_SC"
   ]
  },
  {
   "cell_type": "code",
   "execution_count": 46,
   "metadata": {},
   "outputs": [
    {
     "data": {
      "text/plain": [
       "0.9917765391354407"
      ]
     },
     "execution_count": 46,
     "metadata": {},
     "output_type": "execute_result"
    }
   ],
   "source": [
    "# 凝縮圧力\n",
    "_P_ref_cnd = P_ref_cnd(_theta_ref_cnd)\n",
    "_P_ref_cnd"
   ]
  },
  {
   "cell_type": "code",
   "execution_count": 47,
   "metadata": {},
   "outputs": [
    {
     "data": {
      "text/plain": [
       "0.7092106431464366"
      ]
     },
     "execution_count": 47,
     "metadata": {},
     "output_type": "execute_result"
    }
   ],
   "source": [
    "# 蒸発圧力\n",
    "_P_ref_evp = P_ref_evp(_theta_ref_evp)\n",
    "_P_ref_evp"
   ]
  },
  {
   "cell_type": "code",
   "execution_count": 48,
   "metadata": {},
   "outputs": [
    {
     "data": {
      "text/plain": [
       "7.005"
      ]
     },
     "execution_count": 48,
     "metadata": {},
     "output_type": "execute_result"
    }
   ],
   "source": [
    "# 凝縮器出口温度\n",
    "_theta_ref_cnd_out = theta_ref_cnd_out(_theta_ref_cnd, _theta_ref_SC)\n",
    "_theta_ref_cnd_out"
   ]
  },
  {
   "cell_type": "code",
   "execution_count": 49,
   "metadata": {},
   "outputs": [
    {
     "data": {
      "text/plain": [
       "210.85339318311608"
      ]
     },
     "execution_count": 49,
     "metadata": {},
     "output_type": "execute_result"
    }
   ],
   "source": [
    "# 凝縮器出口比エンタルピー\n",
    "_h_ref_cnd_out = f_H_liq(_P_ref_cnd, _theta_ref_cnd_out)\n",
    "_h_ref_cnd_out"
   ]
  },
  {
   "cell_type": "code",
   "execution_count": 50,
   "metadata": {},
   "outputs": [
    {
     "data": {
      "text/plain": [
       "0.5880000000000001"
      ]
     },
     "execution_count": 50,
     "metadata": {},
     "output_type": "execute_result"
    }
   ],
   "source": [
    "# 圧縮機吸込温度\n",
    "_theta_ref_comp_in = theta_ref_comp_in(_theta_ref_evp, _theta_ref_SH) \n",
    "_theta_ref_comp_in"
   ]
  },
  {
   "cell_type": "code",
   "execution_count": 51,
   "metadata": {},
   "outputs": [
    {
     "data": {
      "text/plain": [
       "0.7092106431464366"
      ]
     },
     "execution_count": 51,
     "metadata": {},
     "output_type": "execute_result"
    }
   ],
   "source": [
    "# 圧縮機吸込圧力\n",
    "_P_ref_comp_in = P_ref_comp_in(_P_ref_evp)\n",
    "_P_ref_comp_in "
   ]
  },
  {
   "cell_type": "code",
   "execution_count": 52,
   "metadata": {},
   "outputs": [
    {
     "data": {
      "text/plain": [
       "424.97074897341383"
      ]
     },
     "execution_count": 52,
     "metadata": {},
     "output_type": "execute_result"
    }
   ],
   "source": [
    "# 圧縮機吸込比エンタルピー\n",
    "_h_ref_comp_in =f_H_gas_comp_in(_P_ref_comp_in, _theta_ref_comp_in)\n",
    "_h_ref_comp_in"
   ]
  },
  {
   "cell_type": "code",
   "execution_count": 53,
   "metadata": {},
   "outputs": [
    {
     "data": {
      "text/plain": [
       "1.8348139088373046"
      ]
     },
     "execution_count": 53,
     "metadata": {},
     "output_type": "execute_result"
    }
   ],
   "source": [
    "# 圧縮機吸込比エントロピー\n",
    "_S_ref_comp_in = f_S_gas(_P_ref_comp_in, _h_ref_comp_in)\n",
    "_S_ref_comp_in"
   ]
  },
  {
   "cell_type": "code",
   "execution_count": 54,
   "metadata": {},
   "outputs": [
    {
     "data": {
      "text/plain": [
       "1.8348139088373046"
      ]
     },
     "execution_count": 54,
     "metadata": {},
     "output_type": "execute_result"
    }
   ],
   "source": [
    "# 圧縮機吐出比エントロピー\n",
    "_S_ref_comp_out = S_ref_comp_out(_S_ref_comp_in)\n",
    "_S_ref_comp_out"
   ]
  },
  {
   "cell_type": "code",
   "execution_count": 55,
   "metadata": {},
   "outputs": [
    {
     "data": {
      "text/plain": [
       "0.9917765391354407"
      ]
     },
     "execution_count": 55,
     "metadata": {},
     "output_type": "execute_result"
    }
   ],
   "source": [
    "# 圧縮機吐出圧力\n",
    "_P_ref_comp_out = P_ref_comp_out(_P_ref_cnd)\n",
    "_P_ref_comp_out"
   ]
  },
  {
   "cell_type": "code",
   "execution_count": 56,
   "metadata": {},
   "outputs": [
    {
     "data": {
      "text/plain": [
       "434.5218503491551"
      ]
     },
     "execution_count": 56,
     "metadata": {},
     "output_type": "execute_result"
    }
   ],
   "source": [
    "# 圧縮機吐出比エンタルピー\n",
    "_h_ref_comp_out = f_H_gas_comp_out(_P_ref_comp_out, _S_ref_comp_out)\n",
    "_h_ref_comp_out"
   ]
  },
  {
   "cell_type": "code",
   "execution_count": 57,
   "metadata": {
    "scrolled": true
   },
   "outputs": [
    {
     "data": {
      "text/plain": [
       "23.418080111067813"
      ]
     },
     "execution_count": 57,
     "metadata": {},
     "output_type": "execute_result"
    }
   ],
   "source": [
    "# 暖房の理論効率\n",
    "_e_ref_H_th = e_ref_H_th(_h_ref_comp_in, _h_ref_comp_out, _h_ref_cnd_out)\n",
    "_e_ref_H_th "
   ]
  },
  {
   "cell_type": "code",
   "execution_count": 58,
   "metadata": {},
   "outputs": [],
   "source": [
    "def calc_e_ref_H_th(_theta_ex, _theta_ref_cnd):\n",
    "    '''暖房の理論効率(-)を計算する。'''\n",
    "    # _theta_ex：外気温度(℃)\n",
    "    # _theta_ref_cnd：凝縮温度(℃)\n",
    "    \n",
    "    # 蒸発温度(℃)\n",
    "    _theta_ref_evp = _theta_ex - (0.100 * _theta_ref_cnd + 2.95)\n",
    "    # 過熱度(℃)\n",
    "    _theta_ref_SH = 4.49 - 0.036 * _theta_ref_cnd\n",
    "    # 過冷却度(℃)\n",
    "    _theta_ref_SC = 0.245 * _theta_ref_cnd - 1.72\n",
    "    \n",
    "    # 凝縮圧力(MPa)\n",
    "    _P_ref_cnd = P_ref_cnd(_theta_ref_cnd)\n",
    "    # 蒸発圧力(MPa)\n",
    "    _P_ref_evp = P_ref_evp(_theta_ref_evp)\n",
    "    \n",
    "    # 凝縮器出口温度(℃)\n",
    "    _theta_ref_cnd_out = theta_ref_cnd_out(_theta_ref_cnd, _theta_ref_SC)\n",
    "    # 凝縮器出口比エンタルピー(kJ/kg)\n",
    "    _h_ref_cnd_out = f_H_liq(_P_ref_cnd, _theta_ref_cnd_out)\n",
    "    \n",
    "    # 圧縮機吸込温度(℃)\n",
    "    _theta_ref_comp_in = theta_ref_comp_in(_theta_ref_evp, _theta_ref_SH) \n",
    "    # 圧縮機吸込圧力(MPa)\n",
    "    _P_ref_comp_in = P_ref_comp_in(_P_ref_evp)\n",
    "    # 圧縮機吸込比エンタルピー(kJ/kg)\n",
    "    _h_ref_comp_in =f_H_gas_comp_in(_P_ref_comp_in, _theta_ref_comp_in)\n",
    "    # 圧縮機吸込比エントロピー(kJ/(kg・K))\n",
    "    _S_ref_comp_in = f_S_gas(_P_ref_comp_in, _h_ref_comp_in)\n",
    "    \n",
    "    # 圧縮機吐出比エントロピー(kJ/(kg・K))\n",
    "    _S_ref_comp_out = S_ref_comp_out(_S_ref_comp_in)\n",
    "    # 圧縮機吐出圧力(MPa)\n",
    "    _P_ref_comp_out = P_ref_comp_out(_P_ref_cnd)\n",
    "    # 圧縮機吐出比エンタルピー(kJ/kg)\n",
    "    _h_ref_comp_out = f_H_gas_comp_out(_P_ref_comp_out, _S_ref_comp_out)\n",
    "    \n",
    "    # 暖房の理論効率(-)\n",
    "    _e_ref_H_th = e_ref_H_th(_h_ref_comp_in, _h_ref_comp_out, _h_ref_cnd_out)\n",
    "    \n",
    "    return _e_ref_H_th"
   ]
  },
  {
   "cell_type": "code",
   "execution_count": 59,
   "metadata": {},
   "outputs": [
    {
     "data": {
      "text/plain": [
       "23.418080111067813"
      ]
     },
     "execution_count": 59,
     "metadata": {},
     "output_type": "execute_result"
    }
   ],
   "source": [
    "calc_e_ref_H_th(_theta_ex, _theta_ref_cnd)"
   ]
  },
  {
   "cell_type": "code",
   "execution_count": 60,
   "metadata": {},
   "outputs": [
    {
     "data": {
      "image/png": "[encoded data removed]",
      "text/plain": [
       "<matplotlib.figure.Figure at 0x1a1bb330518>"
      ]
     },
     "metadata": {},
     "output_type": "display_data"
    }
   ],
   "source": [
    "# 出力結果\n",
    "plt.figure(figsize = (8, 3), dpi=80 )\n",
    "plt.subplot2grid((1, 1), (0, 0))\n",
    "plt.title('暖房の理論効率', fontdict={'fontproperties':fp})\n",
    "\n",
    "for i,theta_cnd in enumerate([z for z in range(-10, 15, 5)]):\n",
    "    x_values =[x for x in range(-10, 20, 1)]\n",
    "    y_values = [calc_e_ref_H_th(theta_ex, theta_cnd) for theta_ex in range(-10, 20, 1)]\n",
    "    plt.plot(x_values, y_values, label='凝縮温度='+str(theta_cnd)+'℃')\n",
    "        \n",
    "ax=plt.gca()\n",
    "ax.set_xlabel('外気温度(℃)', fontdict={'fontproperties':fp})\n",
    "ax.set_xticks([x for x in range(-10, 25, 5)], minor=False)\n",
    "ax.set_xbound(lower=-10, upper=20)\n",
    "\n",
    "ax.set_ylabel('暖房の理論効率(-)', fontdict={'fontproperties':fp})\n",
    "ax.set_yticks([y for y in range(0, 12, 2)], minor=False)\n",
    "ax.set_ybound(lower=0, upper=10)\n",
    "\n",
    "ax.grid(which='major', color='lightgray', alpha=0.7, linestyle='-')     \n",
    "plt.legend(loc='center left', bbox_to_anchor=(1, 0.5), borderaxespad=0.5, frameon=True, prop=fp)\n",
    "\n",
    "plt.show()"
   ]
  }
 ],
 "metadata": {
  "kernelspec": {
   "display_name": "Python 3",
   "language": "python",
   "name": "python3"
  },
  "language_info": {
   "codemirror_mode": {
    "name": "ipython",
    "version": 3
   },
   "file_extension": ".py",
   "mimetype": "text/x-python",
   "name": "python",
   "nbconvert_exporter": "python",
   "pygments_lexer": "ipython3",
   "version": "3.6.4"
  }
 },
 "nbformat": 4,
 "nbformat_minor": 2
}
