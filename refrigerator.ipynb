{
 "cells": [
  {
   "cell_type": "code",
   "execution_count": 1,
   "metadata": {},
   "outputs": [],
   "source": [
    "import numpy as np\n",
    "import math\n",
    "from enum import Enum\n",
    "from collections import namedtuple\n",
    "\n",
    "# matplotlib\n",
    "# ライブラリーのインポート\n",
    "import matplotlib.pyplot as plt\n",
    "# インライン表示\n",
    "%matplotlib inline\n",
    "\n",
    "# 日本語フォント\n",
    "import pylab\n",
    "from matplotlib.font_manager import FontProperties\n",
    "# 日本語フォント\n",
    "fp = FontProperties(fname='C:\\WINDOWS\\Fonts\\msgothic.ttc', size = 12)"
   ]
  },
  {
   "cell_type": "markdown",
   "metadata": {},
   "source": [
    "# 家電"
   ]
  },
  {
   "cell_type": "markdown",
   "metadata": {},
   "source": [
    "## 7. 冷蔵庫（ver自立P4）"
   ]
  },
  {
   "cell_type": "markdown",
   "metadata": {},
   "source": [
    "### 7.1　定義"
   ]
  },
  {
   "cell_type": "markdown",
   "metadata": {},
   "source": [
    "#### 7.1.1　機器の電源接続状態および動作状態"
   ]
  },
  {
   "cell_type": "markdown",
   "metadata": {},
   "source": [
    "冷蔵庫の電源接続状態および動作状態は、以下を想定する。"
   ]
  },
  {
   "cell_type": "markdown",
   "metadata": {},
   "source": [
    "* 電源接続状態：\n",
    "    * 常時時、AC電源に接続される。  \n",
    "* 動作状態：\n",
    "    * 稼働状態のみが発生する。"
   ]
  },
  {
   "cell_type": "markdown",
   "metadata": {},
   "source": [
    "#### 7.1.2　機器の機能等"
   ]
  },
  {
   "cell_type": "markdown",
   "metadata": {},
   "source": [
    "冷蔵庫が有する機能は、以下を想定する。"
   ]
  },
  {
   "cell_type": "markdown",
   "metadata": {},
   "source": [
    "* 主機能：\n",
    "    * 冷蔵：稼働時に作動する。\n",
    "    * 除霜：稼働時に作動する。"
   ]
  },
  {
   "cell_type": "markdown",
   "metadata": {},
   "source": [
    "| 電源接続状態 | 動作状態 | 機能 |  添え字 |  \n",
    "|:-----------: |:-------: |:---: |:------: |    \n",
    "|  AC電源接続  |稼働      | 冷蔵 |ac,opg,rf|  \n",
    "|  AC電源接続  |稼働      | 除霜 |ac,opg,df|      "
   ]
  },
  {
   "cell_type": "markdown",
   "metadata": {},
   "source": [
    "### 7.2　消費電力量"
   ]
  },
  {
   "cell_type": "markdown",
   "metadata": {},
   "source": [
    "日付$d$の時刻$t$における冷蔵庫のAC電源接続時の消費電力量$E_{E,Refrigerator,ac,d,t}$は、式(1)により表される。"
   ]
  },
  {
   "cell_type": "markdown",
   "metadata": {},
   "source": [
    "<p style=\"text-indent:2em\">AC電源接続時：</p>  \n",
    "$$ \n",
    "\\begin{equation*}\n",
    "    E_{E,Refrigerator,ac,d,t} = E_{E,ac,opg,d,t}\n",
    "\\end{equation*}\n",
    "$$\n",
    "\n",
    "<div style=\"text-align: right;\"> (1) </div>"
   ]
  },
  {
   "cell_type": "markdown",
   "metadata": {},
   "source": [
    "ここで、  \n",
    "\n",
    "$E_{E,Refrigerator,ac,d,t}$：日付$d$の時刻$t$におけるAC電源接続時の単位時間当たりの消費電力量[Wh]  \n",
    "$E_{E,ac,opg,d,t}$：日付$d$の時刻$t$におけるAC電源接続下での稼働時の単位時間当たりの消費電力量[Wh]  \n",
    "\n",
    "である。"
   ]
  },
  {
   "cell_type": "code",
   "execution_count": 2,
   "metadata": {},
   "outputs": [],
   "source": [
    "def EE_ac (EE_ac_opg):\n",
    "    '''AC電源接続時の消費電力量[Wh]を計算する'''\n",
    "    # EE_ac_opg：AC電源接続下での稼働時の消費電力量[Wh]\n",
    "    \n",
    "    return EE_ac_opg"
   ]
  },
  {
   "cell_type": "markdown",
   "metadata": {},
   "source": [
    "日付$d$の時刻$t$におけるAC電源接続下での稼働時の消費電力量は、式(2)により計算される。"
   ]
  },
  {
   "cell_type": "markdown",
   "metadata": {},
   "source": [
    "<p style=\"text-indent:2em\">AC電源接続下での稼働時の消費電力量：</p>  \n",
    "$$ \n",
    "\\begin{equation*}\n",
    "    E_{E,ac,opg,d,t} = E_{E,ac,opg,rf,d,t} + E_{E,ac,opg,df,d,t}\n",
    "\\end{equation*}\n",
    "$$\n",
    "\n",
    "<div style=\"text-align: right;\"> (2) </div>"
   ]
  },
  {
   "cell_type": "markdown",
   "metadata": {},
   "source": [
    "ここで、  \n",
    "\n",
    "$E_{E,ac,opg,d,t}$：日付$d$の時刻$t$におけるAC電源接続下での稼働時の単位時間当たりの消費電力量[Wh]  \n",
    "$E_{E,ac,opg,df,d,t}$：日付$d$の時刻$t$において除霜が機能することによるAC電源接続下での稼働時の単位時間当たりの消費電力量[Wh]   \n",
    "$E_{E,ac,opg,rf,d,t}$：日付$d$の時刻$t$において冷蔵が機能することによるAC電源接続下での稼働時の単位時間当たりの消費電力量[Wh]   \n",
    "\n",
    "である。"
   ]
  },
  {
   "cell_type": "code",
   "execution_count": 3,
   "metadata": {},
   "outputs": [],
   "source": [
    "def EE_ac_opg (EE_ac_opg_rf, EE_ac_opg_df):\n",
    "    '''AC電源接続時での稼働時の消費電力量[Wh]を計算する'''\n",
    "    # EE_ac_opg_rf：冷蔵が機能することによる稼働時の消費電力量[Wh]\n",
    "    # EE_ac_opg_df：除霜が機能することによる稼働時の消費電力量[Wh]\n",
    "    \n",
    "    return EE_ac_opg_rf + EE_ac_opg_df"
   ]
  },
  {
   "cell_type": "markdown",
   "metadata": {},
   "source": [
    "日付$d$の時刻$t$において冷蔵および除霜が機能することによる単位時間当たりの消費電力量は、式(3)および式(4)により計算される。"
   ]
  },
  {
   "cell_type": "markdown",
   "metadata": {},
   "source": [
    "<p style=\"text-indent:2em\">冷蔵が機能することによる稼働時の消費電力量：</p>  \n",
    "$$ \n",
    "\\begin{equation*}\n",
    "    E_{E,ac,opg,rf,d,t} = P_{opg,rf,d} \\times dt_{ac,opg,rf,d,t}  \\div 3600\n",
    "\\end{equation*}\n",
    "$$\n",
    "\n",
    "<div style=\"text-align: right;\"> (3) </div>"
   ]
  },
  {
   "cell_type": "markdown",
   "metadata": {},
   "source": [
    "<p style=\"text-indent:2em\">除霜が機能することによる稼働時の消費電力量：</p>  \n",
    "$$ \n",
    "\\begin{equation*}\n",
    "    E_{E,ac,opg,df,d,t} = P_{opg,df} \\times dt_{ac,opg,df,d,t}  \\div 3600\n",
    "\\end{equation*}\n",
    "$$\n",
    "\n",
    "<div style=\"text-align: right;\"> (4) </div>"
   ]
  },
  {
   "cell_type": "markdown",
   "metadata": {},
   "source": [
    "ただし、式(5)を満たす。  "
   ]
  },
  {
   "cell_type": "markdown",
   "metadata": {},
   "source": [
    "$$ \n",
    "\\begin{equation*}\n",
    "    dt_{ac,opg,rf,d,t} +dt_{ac,opg,df,d,t} = dt_{calc}\n",
    "\\end{equation*}\n",
    "$$\n",
    "<div style=\"text-align: right;\"> (5) </div>"
   ]
  },
  {
   "cell_type": "markdown",
   "metadata": {},
   "source": [
    "ここで、  \n",
    "\n",
    "$dt_{ac,opg,df,d,t}$：日付$d$の時刻$t$において除霜が機能することによるAC電源接続下での稼働時間の合計[s]  \n",
    "$dt_{ac,opg,rf,d,t}$：日付$d$の時刻$t$において冷蔵が機能することによるAC電源接続下での稼働時間の合計[s]  \n",
    "$dt_{calc}$：単位時間[s]   \n",
    "$E_{E,ac,opg,df,d,t}$：日付$d$の時刻$t$において除霜が機能することによるAC電源接続下での稼働時の単位時間当たりの消費電力量[Wh]  \n",
    "$E_{E,ac,opg,rf,d,t}$：日付$d$の時刻$t$において冷蔵が機能することによるAC電源接続下での稼働時の単位時間当たりの消費電力量[Wh]  \n",
    "$P_{opg,df}$：除霜が機能することによる稼働時の平均消費電力[W]  \n",
    "$P_{opg,rf,d}$：日付$d$において冷蔵が機能することによる稼働時の平均消費電力[W]  \n",
    "\n",
    "である。"
   ]
  },
  {
   "cell_type": "code",
   "execution_count": 4,
   "metadata": {},
   "outputs": [],
   "source": [
    "def EE_ac_opg_rf (dt_ac_opg_rf, P_opg_rf):\n",
    "    '''冷蔵が機能することによるAC電源接続下での稼働時の消費電力量[Wh]を計算する'''\n",
    "    # dt_ac_opg_rf：冷蔵が機能することによる稼働時間の合計[s]\n",
    "    # P_opg_rf：冷蔵が機能することによる稼働時の平均消費電力[W]    \n",
    "  \n",
    "    return P_opg_rf * dt_ac_opg_rf / 3600"
   ]
  },
  {
   "cell_type": "code",
   "execution_count": 5,
   "metadata": {},
   "outputs": [],
   "source": [
    "def EE_ac_opg_df (dt_ac_opg_df, P_opg_df):\n",
    "    '''冷蔵が機能することによるAC電源接続下での稼働時の消費電力量[Wh]を計算する'''\n",
    "    # dt_ac_opg_df：除霜が機能することによる稼働時間の合計[s]\n",
    "    # P_opg_df：除霜が機能することによる稼働時の平均消費電力[W]    \n",
    "  \n",
    "    return P_opg_df * dt_ac_opg_df / 3600"
   ]
  },
  {
   "cell_type": "code",
   "execution_count": 6,
   "metadata": {},
   "outputs": [],
   "source": [
    "def check_duration (dt):\n",
    "    '''合計が単位時間を超過しないか否かを確認する'''\n",
    "    # dt：稼働時間の合計[s](list型)\n",
    "    # dt_calc：単位時間[s]\n",
    "    \n",
    "    dt_calc = 3600.\n",
    "    \n",
    "    # 継続時間を積算する\n",
    "    dt_sum = sum(dt)\n",
    "    \n",
    "    # エラーチェック\n",
    "    if dt_calc < dt_sum:\n",
    "        # 単位時間を超える場合 => エラー\n",
    "        try:\n",
    "            raise Exception('機器使用スケジュールに不正があります。')\n",
    "        except Exception:\n",
    "            raise\n",
    "    else:\n",
    "        pass"
   ]
  },
  {
   "cell_type": "markdown",
   "metadata": {},
   "source": [
    "### 7.3　稼働時の消費電力"
   ]
  },
  {
   "cell_type": "markdown",
   "metadata": {},
   "source": [
    "冷蔵が機能することによる稼働時の平均消費電力$P_{opg,rf,d}$は、式(6)により計算される。"
   ]
  },
  {
   "cell_type": "markdown",
   "metadata": {},
   "source": [
    "<p style=\"text-indent:2em\">冷蔵が機能することによる稼働時の平均消費電力：</p>  \n",
    "$$ \n",
    "\\begin{equation*}\n",
    "    P_{opg,rf,d} = \\frac{E_{E,ac,opg,rf,d}}{dt_{ac,opg,rf,d} \\div 3600}\n",
    "\\end{equation*}\n",
    "$$\n",
    "\n",
    "<div style=\"text-align: right;\"> (6) </div>"
   ]
  },
  {
   "cell_type": "markdown",
   "metadata": {},
   "source": [
    "ここで、  \n",
    "\n",
    "$dt_{ac,opg,rf,d}$：日付$d$において冷蔵が機能することによるAC電源接続下での稼働時間の合計[s/日]  \n",
    "$E_{E,ac,opg,rf,d}$：日付$d$において冷蔵が機能することによるAC電源接続下での稼働時の1日当たりの消費電力量[Wh/日]  \n",
    "$P_{opg,rf,d}$：日付$d$において冷蔵が機能することによる稼働時の平均消費電力[W]  \n",
    "\n",
    "である。"
   ]
  },
  {
   "cell_type": "code",
   "execution_count": 7,
   "metadata": {},
   "outputs": [],
   "source": [
    "def P_opg_rf(year_mfr, APF_JIS, theta_amb_ave, P_opg_df):\n",
    "    '''冷蔵が機能することによる稼働時の平均消費電力[W]を計算する。'''\n",
    "    # year_mfr：冷蔵の製造年[-]\n",
    "    # APF_JIS：JIS C 9801に基づく冷蔵庫の年間消費電力量[kWh/年]  \n",
    "    # theta_amb_ave：冷蔵庫の周囲空気温度の日平均値[℃]  \n",
    "    # P_opg_df：除霜が機能することによる稼働時の平均消費電力[W]  \n",
    "\n",
    "    # 冷蔵、除霜が機能することによる稼働時間の合計[s/日}\n",
    "    dt_opg_rf_d, dt_opg_df_d = dt_opg_d()\n",
    "    \n",
    "    # 冷蔵庫の年間消費電力量[kWh/年]  \n",
    "    EE_frige_dd = EE_frige_d(year_mfr, APF_JIS, theta_amb_ave)\n",
    "    \n",
    "    # 冷蔵、除霜が機能することによる稼働時の1日当たりの消費電力量[Wh/日]を計算する\n",
    "    EE_ac_opg_rf_d, EE_ac_opg_df_d = EE_ac_opg_d(EE_frige_dd, P_opg_df, dt_opg_df_d)\n",
    "    \n",
    "    \n",
    "    return EE_ac_opg_rf_d / (dt_opg_rf_d / 3600)"
   ]
  },
  {
   "cell_type": "markdown",
   "metadata": {},
   "source": [
    "日付$d$において冷蔵が機能することによるAC電源接続下での稼働時間の合計$dt_{ac,opg,rf,d}$は、式(7)により計算される。"
   ]
  },
  {
   "cell_type": "markdown",
   "metadata": {},
   "source": [
    "$$\n",
    "\\begin{equation*}\n",
    "    dt_{ac,opg,rf,d} = 24 \\times 3600 - dt_{ac,opg,df,d}\n",
    "\\end{equation*}\n",
    "$$\n",
    "\n",
    "<div style=\"text-align: right;\"> (7) </div>"
   ]
  },
  {
   "cell_type": "markdown",
   "metadata": {},
   "source": [
    "ここで、  \n",
    "\n",
    "$dt_{ac,opg,df,d}$：日付$d$において除霜が機能することによるAC電源接続下での稼働時間の合計[s/日]  \n",
    "$dt_{ac,opg,rf,d}$：日付$d$において冷蔵が機能することによるAC電源接続下での稼働時間の合計[s/日]  \n",
    "\n",
    "である。"
   ]
  },
  {
   "cell_type": "markdown",
   "metadata": {},
   "source": [
    "1日当たりの除霜運転時間を2時間として、日付$d$において除霜が機能することによるAC電源接続下での稼働時間の合計$dt_{ac,opg,df,d}$は、7200 s/dayとする。"
   ]
  },
  {
   "cell_type": "code",
   "execution_count": 8,
   "metadata": {},
   "outputs": [],
   "source": [
    "def dt_opg_d():\n",
    "    '''冷蔵および除霜が機能することによる稼働時間の合計[s/日]を取得する。'''\n",
    "    \n",
    "    dt_opg_df_d = 2 * 3600\n",
    "    dt_opg_rf_d = 24 * 3600 - dt_opg_df_d\n",
    "    \n",
    "    return dt_opg_rf_d, dt_opg_df_d "
   ]
  },
  {
   "cell_type": "markdown",
   "metadata": {},
   "source": [
    "日付$d$において冷蔵が機能することによるAC電源接続下での稼働時の1日当たりの消費電力量$E_{E,ac,opg,rf,d}$は、式(8)により計算される。"
   ]
  },
  {
   "cell_type": "markdown",
   "metadata": {},
   "source": [
    "$$ \n",
    "\\begin{equation*}\n",
    "    E_{E,ac,opg,rf,d} = E_{E,daily,d} - E_{E,ac,opg,df,d}\n",
    "\\end{equation*}\n",
    "$$\n",
    "\n",
    "<div style=\"text-align: right;\"> (8) </div>"
   ]
  },
  {
   "cell_type": "markdown",
   "metadata": {},
   "source": [
    "ここで、  \n",
    "\n",
    "$E_{E,ac,opg,df,d}$：日付$d$において除霜が機能することによるAC電源接続下での稼働時の単位時間当たりの消費電力量[Wh/日]  \n",
    "$E_{E,ac,opg,rf,d}$：日付$d$において冷蔵が機能することによるAC電源接続下での稼働時の単位時間当たりの消費電力量[Wh/日]  \n",
    "$E_{E,daily,d}$：日付$d$における冷蔵庫の1日当たりの消費電力量[Wh/日]  \n",
    "\n",
    "である。"
   ]
  },
  {
   "cell_type": "markdown",
   "metadata": {},
   "source": [
    "日付$d$において除霜が機能することによるAC電源接続下での稼働時の単位時間当たりの消費電力量$E_{E,ac,opg,df,d}$は、式(9)により計算される。 "
   ]
  },
  {
   "cell_type": "markdown",
   "metadata": {},
   "source": [
    "$$ \n",
    "\\begin{equation*}\n",
    "    E_{E,ac,opg,df,d} = P_{opg,df} \\times dt_{ac,opg,df,d} \\div 3600\n",
    "\\end{equation*}\n",
    "$$\n",
    "\n",
    "<div style=\"text-align: right;\"> (9) </div>"
   ]
  },
  {
   "cell_type": "markdown",
   "metadata": {},
   "source": [
    "ここで、  \n",
    "\n",
    "$dt_{ac,opg,df,d}$：日付$d$において除霜が機能することによるAC電源接続下での稼働時間の合計[s]  \n",
    "$E_{E,ac,opg,df,d}$：日付$d$において除霜が機能することによるAC電源接続下での稼働時の1日当たりの消費電力量[Wh/日]  \n",
    "$P_{opg,df}$：除霜が機能することによる稼働時の平均消費電力[W]  \n",
    "\n",
    "である。"
   ]
  },
  {
   "cell_type": "code",
   "execution_count": 9,
   "metadata": {},
   "outputs": [],
   "source": [
    "def EE_ac_opg_d(EE_frige_d, P_opg_df, dt_opg_df_d):\n",
    "    '''稼働時の1日当たりの消費電力量[Wh/日]を計算する。'''\n",
    "    # EE_frige_d：冷蔵庫の1日当たりの消費電力量[Wh/日]\n",
    "    # P_opg_df：除霜が機能することによる稼働時の平均消費電力[W]  \n",
    "    # dt_opg_df_d：除霜が機能することによる稼働時間の合計[s/日}\n",
    "    \n",
    "    EE_ac_opg_df_d  = P_opg_df * dt_opg_df_d / 3600\n",
    "    EE_ac_opg_rf_d = EE_frige_d - EE_ac_opg_df_d \n",
    "    \n",
    "    return EE_ac_opg_rf_d, EE_ac_opg_df_d "
   ]
  },
  {
   "cell_type": "markdown",
   "metadata": {},
   "source": [
    "日付$d$における冷蔵庫の1日当たりの消費電力量$E_{E,daily,d}$は、式(10)により計算される。"
   ]
  },
  {
   "cell_type": "markdown",
   "metadata": {},
   "source": [
    "$$ \n",
    "\\begin{equation*}\n",
    "    E_{E,daily,d} = \\left\\{ \\left( 3.283 \\times 10^{-3} -2.0 \\times 10^{-6} \\times E_{E,annual} \\right) \\times \\left( \\theta_{amb,ave,d}^{2}  -30 \\times \\theta_{amb,ave,d} \\right) +1.85 \\times 10^{-3} \\times E_{E,annual} +1.329 \\right\\} \\times 1000\n",
    "\\end{equation*}\n",
    "$$\n",
    "\n",
    "<div style=\"text-align: right;\"> (10) </div>"
   ]
  },
  {
   "cell_type": "markdown",
   "metadata": {},
   "source": [
    "ここで、  \n",
    "\n",
    "$E_{E,annual}$：冷蔵庫の年間消費電力量[kWh/年]  \n",
    "$E_{E,daily,d}$：日付$d$における冷蔵庫の1日当たりの消費電力量[Wh/日]  \n",
    "$\\theta_{amb,ave,d}$：冷蔵庫の周囲空気温度の日平均値[℃]  \n",
    "\n",
    "である。"
   ]
  },
  {
   "cell_type": "markdown",
   "metadata": {},
   "source": [
    "冷蔵庫の年間消費電力量$E_{E,annual}$は、製造年に応じて式(11)により定まる。"
   ]
  },
  {
   "cell_type": "markdown",
   "metadata": {},
   "source": [
    "<p style=\"text-indent:2em\">製造年が2005年以前（JIS C 9801:1999による）：</p>  \n",
    "$$ \n",
    "\\begin{equation*}\n",
    "    E_{E,annual} = APF_{JIS}\n",
    "\\end{equation*}\n",
    "$$\n",
    "\n",
    "<div style=\"text-align: right;\"> (11-1) </div>\n",
    "\n",
    "<p style=\"text-indent:2em\">製造年が2006年～2015年（JIS C 9801:2006による）：</p>  \n",
    "$$ \n",
    "\\begin{equation*}\n",
    "    E_{E,annual} = \\frac{APF_{JIS}}{3.48}\n",
    "\\end{equation*}\n",
    "$$\n",
    "\n",
    "<div style=\"text-align: right;\"> (11-2) </div>\n",
    "\n",
    "<p style=\"text-indent:2em\">製造年が2016年以降（JIS C 9801:2015による）：</p>  \n",
    "$$ \n",
    "\\begin{equation*}\n",
    "    E_{E,annual} = \\frac{APF_{JIS}}{3.48} \\times 0.2891\n",
    "\\end{equation*}\n",
    "$$\n",
    "\n",
    "<div style=\"text-align: right;\"> (11-3) </div>"
   ]
  },
  {
   "cell_type": "markdown",
   "metadata": {},
   "source": [
    "ここで、  \n",
    "\n",
    "$APF_{JIS}$：JIS C 9801に基づく冷蔵庫の年間消費電力量[kWh/年]  \n",
    "$E_{E,annual}$：冷蔵庫の年間消費電力量[kWh/年]  \n",
    "\n",
    "である。"
   ]
  },
  {
   "cell_type": "code",
   "execution_count": 10,
   "metadata": {},
   "outputs": [],
   "source": [
    "def EE_frige_d(year_mfr, APF_JIS, theta_amb_ave):\n",
    "    # year_mfr：冷蔵の製造年[-]\n",
    "    # APF_JIS：JIS C 9801に基づく冷蔵庫の年間消費電力量[kWh/年]  \n",
    "    # theta_amb_ave：冷蔵庫の周囲空気温度の日平均値[℃]  \n",
    "    \n",
    "    def get_EE_annual():\n",
    "        '''年間消費電力量[kWh/年]を取得する'''\n",
    "        \n",
    "        if year_mfr <= 2005:\n",
    "            return APF_JIS\n",
    "        elif 2006 <= year_mfr and year_mfr <= 2015:\n",
    "            return APF_JIS / 3.48\n",
    "        else:\n",
    "            return APF_JIS / 3.48 * 0.2891\n",
    "    \n",
    "    EE_annual = get_EE_annual()\n",
    "    \n",
    "    return ((3.283*(10**(-3)) -2.0*(10**(-6))*EE_annual) * (theta_amb_ave**2 -30*theta_amb_ave) + 1.85*10**(-3)*EE_annual +1.329)*1000"
   ]
  },
  {
   "cell_type": "code",
   "execution_count": 11,
   "metadata": {},
   "outputs": [
    {
     "data": {
      "image/png": "[encoded data removed]",
      "text/plain": [
       "<matplotlib.figure.Figure at 0x2275a17bef0>"
      ]
     },
     "metadata": {},
     "output_type": "display_data"
    }
   ],
   "source": [
    "# 出力結果\n",
    "plt.figure(figsize = (8, 3), dpi=80 )\n",
    "plt.subplot2grid((1, 1), (0, 0))\n",
    "plt.title('冷蔵庫の日積算消費電力量', fontdict={'fontproperties':fp})\n",
    "\n",
    "for i,year_mfr in enumerate([2000, 2010, 2016]):\n",
    "    x_values =[x for x in range(-10, 45, 1)]\n",
    "    y_values = [ EE_frige_d(year_mfr, 330, theta_amb_ave) for theta_amb_ave in range(-10, 45, 1)]\n",
    "    plt.plot(x_values, y_values, label=year_mfr)\n",
    "        \n",
    "ax=plt.gca()\n",
    "ax.set_xlabel('冷蔵庫の周囲空気温度の日平均値(℃)', fontdict={'fontproperties':fp})\n",
    "ax.set_xticks([x for x in range(-10, 50, 5)], minor=False)\n",
    "ax.set_xbound(lower=-10, upper=40)\n",
    "\n",
    "ax.set_ylabel('日積算消費電力量(Wh/日)', fontdict={'fontproperties':fp})\n",
    "ax.set_yticks([y for y in range(500, 3100, 500)], minor=False)\n",
    "ax.set_ybound(lower=500, upper=3000)\n",
    "\n",
    "ax.grid(which='major', color='lightgray', alpha=0.7, linestyle='-')     \n",
    "plt.legend(loc='center left', bbox_to_anchor=(1, 0.5), borderaxespad=0.5, frameon=True, prop=fp)\n",
    "\n",
    "plt.show()"
   ]
  },
  {
   "cell_type": "markdown",
   "metadata": {},
   "source": [
    "除霜が機能することによる稼働時の平均消費電力$P_{opg,df}$は、式(12)により計算される"
   ]
  },
  {
   "cell_type": "markdown",
   "metadata": {},
   "source": [
    "<p style=\"text-indent:2em\">除霜が機能することによる稼働時の平均消費電力：</p>  \n",
    "$$ \n",
    "\\begin{equation*}\n",
    "    P_{opg,df} = P_{rtd,heater} \\times 0.9\n",
    "\\end{equation*}\n",
    "$$\n",
    "\n",
    "<div style=\"text-align: right;\"> (12) </div>"
   ]
  },
  {
   "cell_type": "markdown",
   "metadata": {},
   "source": [
    "ここで、  \n",
    "\n",
    "$P_{opg,df}$：除霜が機能することによる稼働時の平均消費電力[W]  \n",
    "$P_{rtd,heater}$：電熱器の定格消費電力[W]  \n",
    "\n",
    "である。"
   ]
  },
  {
   "cell_type": "code",
   "execution_count": 12,
   "metadata": {},
   "outputs": [],
   "source": [
    "def P_opg_df(Prtd_heater):\n",
    "    '''除霜が機能することによる稼働時の平均消費電力[W]を計算する。'''\n",
    "    # Prtd_heater：電熱器の定格消費電力[W]  \n",
    "    \n",
    "    return Prtd_heater * 0.9"
   ]
  },
  {
   "cell_type": "markdown",
   "metadata": {},
   "source": [
    "### 7.4　標準条件"
   ]
  },
  {
   "cell_type": "markdown",
   "metadata": {},
   "source": [
    "#### 7.4.1　機器仕様"
   ]
  },
  {
   "cell_type": "markdown",
   "metadata": {},
   "source": [
    "4人世帯の標準的な機器仕様として、下表の設定を用いることができる。"
   ]
  },
  {
   "cell_type": "markdown",
   "metadata": {},
   "source": [
    "| 番号 | 年間消費電力量[kWh/年] | 電熱器の定格消費電力[W] | 製造年 | 定格内容積[L] | 備考                        |  \n",
    "|:----:| :--------------------: | :---------------------: | :----: | :-----------: | :-------------------------: |\n",
    "|  00  | 200                    | 105                     | 2002年 | 400           |-                            |  \n",
    "|  01  | 300                    | 150                     | 2009年 | 400           | 4人標準世帯（居間）の既定値 |  \n",
    "|  02  | 220                    | 200                     | 2011年 | 400           |-                            |     "
   ]
  },
  {
   "cell_type": "code",
   "execution_count": 13,
   "metadata": {},
   "outputs": [],
   "source": [
    "Spec  = {\n",
    "    'Fridge00' : {\n",
    "        'APF_JIS'     : 200,\n",
    "        'Prtd_heater' : 105,\n",
    "        'Year_mfr'    : 2002\n",
    "    }, \n",
    "    'Fridge01' : {\n",
    "        'APF_JIS'     : 300,\n",
    "        'Prtd_heater' : 150,\n",
    "        'Year_mfr'    : 2009\n",
    "    },\n",
    "    'Fridge02' : {\n",
    "        'APF_JIS'     : 220,\n",
    "        'Prtd_heater' : 200,\n",
    "        'Year_mfr'    : 2011\n",
    "    }\n",
    "}"
   ]
  },
  {
   "cell_type": "markdown",
   "metadata": {},
   "source": [
    "#### 7.4.2　機器使用スケジュール"
   ]
  },
  {
   "cell_type": "markdown",
   "metadata": {},
   "source": [
    "4人世帯の標準的なスケジュールとして、下表の設定を用いることができる。"
   ]
  },
  {
   "cell_type": "markdown",
   "metadata": {},
   "source": [
    "| 番号 | スケジュール名称  | 備考 |\n",
    "|:---: | :---------------: | :--: |\n",
    "|  00  | 4人標準世帯       | -    |"
   ]
  },
  {
   "cell_type": "markdown",
   "metadata": {},
   "source": [
    "<p style=\"text-indent:2em\">平日／休日在宅／休日外出：</p>  \n",
    "\n",
    "|時刻                       |0  |1  |2  |3  |4  |5  |6  |7  |8  |9  |10 |11 |12 |13 |14 |15 |16 |17 |18 |19 |20 |21 |22 |23 |  \n",
    "|:---:                      | -:| -:| -:| -:| -:| -:| -:| -:| -:| -:| -:| -:| -:| -:| -:| -:| -:| -:| -:| -:| -:| -:| -:| -:|  \n",
    "|AC稼働時間_冷蔵[\\* 60 s]   |  0| 60| 60| 60| 60| 60| 60| 60| 60| 60| 60| 60| 60| 60| 60| 60| 60| 60| 60| 60| 60| 60| 60|  0|  \n",
    "|AC稼働時間_除霜[\\* 60 s]   | 60|  0|  0|  0|  0|  0|  0|  0|  0|  0|  0|  0|  0|  0|  0|  0|  0|  0|  0|  0|  0|  0|  0| 60| "
   ]
  },
  {
   "cell_type": "code",
   "execution_count": 14,
   "metadata": {},
   "outputs": [],
   "source": [
    "# 機器使用スケジュール：4人標準世帯_AC接続下での稼働時間[s]\n",
    "Schedule = {\n",
    "    '4p_standard' : {\n",
    "        'Weekdays' : {\n",
    "            'opg_rf' : [0]   *1 + [3600]*22 + [0]   *1,\n",
    "            'opg_df' : [3600]*1 + [0]   *22 + [3600]*1\n",
    "        },\n",
    "        'Holidays_st' : {\n",
    "            'opg_rf' : [0]   *1 + [3600]*22 + [0]   *1,\n",
    "            'opg_df' : [3600]*1 + [0]   *22 + [3600]*1\n",
    "        },\n",
    "        'Holidays_go' : {\n",
    "            'opg_rf' : [0]   *1 + [3600]*22 + [0]   *1,\n",
    "            'opg_df' : [3600]*1 + [0]   *22 + [3600]*1\n",
    "        }\n",
    "    }\n",
    "}"
   ]
  },
  {
   "cell_type": "code",
   "execution_count": 15,
   "metadata": {},
   "outputs": [],
   "source": [
    "def plot_hourly_bar_chart(fig_title, y_value_sets, schedule_name, app_status_types, \n",
    "                          y_label, y_lower, y_upper, y_interval, y_convert_unit):\n",
    "    '''横軸が時刻（1時間間隔、0～23時間）の棒グラフを作成する'''\n",
    "    # fig_title：図のタイトル\n",
    "    # y_value_sets：y軸の値\n",
    "    # schedule_name：スケジュール名（string型）\n",
    "    # app_status_types：動作状態のタイプ（dictionary型）\n",
    "    # y_label：y軸のラベル\n",
    "    # y_lower：y軸の表示の下限\n",
    "    # y_ upper：y軸の表示の上限\n",
    "    # y_ interval：y軸の目盛間隔\n",
    "    # y_convert_unit：y軸の単位換算係数\n",
    "\n",
    "    # 日本語フォント\n",
    "    fp = FontProperties(fname='C:\\WINDOWS\\Fonts\\msgothic.ttc', size = 12)\n",
    "    \n",
    "    # 既存スタイルの使用\n",
    "    plt.style.use('seaborn-whitegrid')\n",
    "\n",
    "    # サブプロットの作成\n",
    "    plt.figure(figsize=(12, 3), dpi=80)\n",
    "    \n",
    "    # サブプロットのタイトル\n",
    "    plt.suptitle(fig_title, fontdict={'fontproperties':fp}, fontsize=14)\n",
    "    \n",
    "    # 生活時間タイプ\n",
    "    time_use_types = [ ('Weekdays','平日'), ('Holidays_st','休日在宅'), ('Holidays_go','休日外出') ]\n",
    "\n",
    "    for i, time_use_type in enumerate(time_use_types):\n",
    "        # サブプロットの指定\n",
    "        ax = plt.subplot2grid((1, 3), (0, i))  \n",
    "        \n",
    "        for j, app_status_type in enumerate(list(app_status_types)):\n",
    "            # 棒グラフの作成\n",
    "            # x軸の値\n",
    "            x_value = [k for k in range(24)]\n",
    "            # y軸の値（24時間×動作状態×3スケジュール）\n",
    "            y_value_sets_schedule = y_value_sets\n",
    "            # y軸の値（24時間×動作状態）\n",
    "            y_value_sets_time_use = y_value_sets_schedule[time_use_type[0]]\n",
    "            # y軸の値（24時間->単位変換）\n",
    "            y_value = np.array(y_value_sets_time_use[app_status_type]) * y_convert_unit\n",
    "            # データ系列名\n",
    "            app_status_type_jp = app_status_types[app_status_type]\n",
    "            if len(y_value) > 0:\n",
    "                if j == 0:\n",
    "                    ax.bar(x_value, y_value, align='edge', width=1.0, edgecolor='black', label=app_status_type_jp)\n",
    "                    y_bottom = y_value\n",
    "                else:\n",
    "                    ax.bar(x_value, y_value, align='edge', width=1.0, edgecolor='black', label=app_status_type_jp, bottom=y_bottom)\n",
    "                \n",
    "        # グラフのタイル\n",
    "        schedule_name_jp = schedule_name\n",
    "        ax.set_title(schedule_name_jp +'(' + time_use_type[1] + ')' , fontdict={'fontproperties':fp})\n",
    "\n",
    "        # x軸\n",
    "        # タイトル\n",
    "        ax.set_xlabel(u'時刻', fontdict={'fontproperties':fp})\n",
    "        # 目盛りの位置／ラベル／形式\n",
    "        # 主目盛\n",
    "        ax.set_xticks(np.arange(0, 25, 3), minor=False)\n",
    "        ax.set_xticklabels(np.array([k*3 for k in range(8)]+[0]).astype('str'), minor=False, visible=True)\n",
    "        ax.tick_params(axis='x', which ='major', direction='in', length=3)\n",
    "        # 補助目盛\n",
    "        ax.set_xticks(np.arange(0, 25, 1), minor=True)\n",
    "        ax.set_xticklabels(np.array([k for k in range(24)]+[0]).astype('str'), minor=True, visible=False)\n",
    "        ax.tick_params(axis='x', which ='minor', direction='in', length=3)\n",
    "        # 表示の上限・下限\n",
    "        ax.set_xbound(lower=0, upper=24)\n",
    "\n",
    "        # y軸\n",
    "        #タイトル\n",
    "        ax.set_ylabel(y_label, fontdict={'fontproperties':fp}) \n",
    "        # 目盛りの位置／形式\n",
    "        ax.set_yticks(np.arange(y_lower, y_upper+y_interval, y_interval))\n",
    "        ax.tick_params(axis='y', which ='major', direction='in', length=3)\n",
    "        # 表示の上限・下限\n",
    "        ax.set_ybound(lower=y_lower, upper=y_upper)\n",
    "\n",
    "        # グラフの枠\n",
    "        ax.spines['right'].set_color('black')\n",
    "        ax.spines['left'].set_color('black')\n",
    "        ax.spines['bottom'].set_color('black')\n",
    "        ax.spines['top'].set_color('black')\n",
    "\n",
    "        # 主目盛りのグリッド\n",
    "        ax.grid(which='major', color='lightgray', alpha=0.7, linestyle='-')\n",
    "\n",
    "    # 凡例\n",
    "    plt.legend(loc='center left', bbox_to_anchor=(1, 0.5), borderaxespad=0.5, frameon=True,  prop=fp)\n",
    "\n",
    "    # グラフの重なりを解消\n",
    "    plt.tight_layout()\n",
    "    plt.subplots_adjust(top=0.82)\n",
    "  \n",
    "    plt.show()"
   ]
  },
  {
   "cell_type": "code",
   "execution_count": 16,
   "metadata": {},
   "outputs": [
    {
     "data": {
      "image/png": "[encoded data removed]",
      "text/plain": [
       "<matplotlib.figure.Figure at 0x2275a17b048>"
      ]
     },
     "metadata": {},
     "output_type": "display_data"
    }
   ],
   "source": [
    "# 機器使用スケジュールの確認\n",
    "plot_hourly_bar_chart('使用スケジュール', \n",
    "                      Schedule['4p_standard'], \n",
    "                      '4人標準',\n",
    "                      {'opg_rf':'AC稼働_冷蔵', 'opg_df':'AC稼働_除霜'},\n",
    "                       '時間[min/hour]',  0, 20, 5, 1/60)"
   ]
  },
  {
   "cell_type": "markdown",
   "metadata": {},
   "source": [
    "### 7.5　冷蔵庫の周囲空気温度の日平均値"
   ]
  },
  {
   "cell_type": "markdown",
   "metadata": {},
   "source": [
    "冷蔵庫の周囲空気温度が直接的にも求まらない場合、日平均外気温度および住宅の熱損失係数を用いて式(13)により推定した値を用いることができる。"
   ]
  },
  {
   "cell_type": "markdown",
   "metadata": {},
   "source": [
    "<p style=\"text-indent:2em\">暖房方式が居室間欠の場合：</p>   \n",
    "$$ \n",
    "\\begin{equation*}\n",
    "    \\displaystyle \\theta_{amb,ave,d} = \\left( 0.048 \\times Q + 0.3666 \\right) \\times \\theta_{ex,ave,d} + \\left( -1.2435 \\times Q + 18.82 \\right)\n",
    "\\end{equation*}\n",
    "$$\n",
    "<div style=\"text-align: right;\"> (13a) </div>\n",
    "    \n",
    "<p style=\"text-indent:2em\">暖房方式が全館連続の場合：</p>  \n",
    "$$ \n",
    "\\begin{equation*}\n",
    "    \\displaystyle \\theta_{amb,ave,d} = \\left( 0.0604 \\times Q + 0.3668 \\right) \\times \\theta_{ex,ave,d} + \\left( -1.6265 \\times Q + 19.99 \\right)\n",
    "\\end{equation*}\n",
    "$$\n",
    "<div style=\"text-align: right;\"> (13b) </div>"
   ]
  },
  {
   "cell_type": "markdown",
   "metadata": {},
   "source": [
    "ここで、  \n",
    "\n",
    "$Q$：住宅の熱損失係数[W/m2]  \n",
    "$\\theta_{amb,ave,d}$：日付$d$における冷蔵庫の周囲空気温度の日平均値[℃]  \n",
    "$\\theta_{ex,ave,d}$：日付$d$における外気温の日平均値[℃]  \n",
    "\n",
    "\n",
    "である。"
   ]
  },
  {
   "cell_type": "code",
   "execution_count": 17,
   "metadata": {},
   "outputs": [],
   "source": [
    "class HeatingType(Enum):\n",
    "    '''暖房方式'''\n",
    "    # HabitableRoom：居室間欠\n",
    "    # WholeHouse：全館連続\n",
    "\n",
    "    HabitableRoom = 'habitable_room'\n",
    "    WholeHouse = 'whole_house'"
   ]
  },
  {
   "cell_type": "code",
   "execution_count": 18,
   "metadata": {},
   "outputs": [],
   "source": [
    "def get_theta_amb_ave(theta_ex_ave, Q_value, heating_type):\n",
    "    '''冷蔵庫の周囲空気温度の日平均値[℃]を計算する'''\n",
    "    # theta_ex_ave：外気温度の日平均値[C]\n",
    "    # Q_value：住宅の熱損失係数[W/m2] \n",
    "    # heating_type：暖房方式[居室間欠、全館連続] \n",
    "    \n",
    "    if heating_type == HeatingType.HabitableRoom:\n",
    "        theta_amb_ave = (0.048 * Q_value + 0.3666) * theta_ex_ave + (-1.2435 * Q_value + 18.82)\n",
    "    elif heating_type == HeatingType.WholeHouse:\n",
    "        theta_amb_ave = (0.0604 * Q_value + 0.3668) * theta_ex_ave + (-1.6265 * Q_value + 19.99)\n",
    "    else:\n",
    "        try:\n",
    "            raise Exception('暖房方式に不正があります。')\n",
    "        except Exception:\n",
    "            raise\n",
    "    \n",
    "    return theta_amb_ave"
   ]
  },
  {
   "cell_type": "code",
   "execution_count": 19,
   "metadata": {},
   "outputs": [
    {
     "data": {
      "image/png": "[encoded data removed]",
      "text/plain": [
       "<matplotlib.figure.Figure at 0x2275a706c18>"
      ]
     },
     "metadata": {},
     "output_type": "display_data"
    }
   ],
   "source": [
    "# 出力結果：居室間欠\n",
    "plt.figure(figsize = (8, 3), dpi=80 )\n",
    "plt.subplot2grid((1, 1), (0, 0))\n",
    "plt.title('冷蔵庫の周囲空気温度の日平均値(℃)_居室間欠', fontdict={'fontproperties':fp})\n",
    "\n",
    "for i,Q_value in enumerate([1.6, 1.9, 2.4, 2.7, 3.7]):\n",
    "    x_values = [x for x in range(-10, 45, 1)]\n",
    "    y_values = [get_theta_amb_ave(theta_ex_ave, Q_value, HeatingType.HabitableRoom) for theta_ex_ave in x_values]\n",
    "    plt.plot(x_values, y_values, label='Q値：'+str(Q_value)+' W/m2')\n",
    "        \n",
    "ax=plt.gca()\n",
    "ax.set_xlabel('外気温度の日平均値(℃)', fontdict={'fontproperties':fp})\n",
    "ax.set_xticks(np.arange(-10, 45, 5), minor=False)\n",
    "ax.set_xbound(lower=-10, upper=40)\n",
    "\n",
    "ax.set_ylabel('冷蔵庫の周囲空気温度の日平均値(℃)', fontdict={'fontproperties':fp})\n",
    "ax.set_yticks(np.arange(-10, 45, 5), minor=False)\n",
    "ax.set_ybound(lower=-10, upper=40)\n",
    "\n",
    "ax.grid(which='major', color='lightgray', alpha=0.7, linestyle='-')     \n",
    "plt.legend(loc='center left', bbox_to_anchor=(1, 0.5), borderaxespad=0.5, frameon=True, prop=fp)\n",
    "\n",
    "plt.show()"
   ]
  },
  {
   "cell_type": "code",
   "execution_count": 20,
   "metadata": {},
   "outputs": [
    {
     "data": {
      "image/png": "[encoded data removed]",
      "text/plain": [
       "<matplotlib.figure.Figure at 0x2275a51e278>"
      ]
     },
     "metadata": {},
     "output_type": "display_data"
    }
   ],
   "source": [
    "# 出力結果：全館連続\n",
    "plt.figure(figsize = (8, 3), dpi=80 )\n",
    "plt.subplot2grid((1, 1), (0, 0))\n",
    "plt.title('冷蔵庫の周囲空気温度の日平均値(℃)_全館連続', fontdict={'fontproperties':fp})\n",
    "\n",
    "for i,Q_value in enumerate([1.6, 1.9, 2.4, 2.7, 3.7]):\n",
    "    x_values = [x for x in range(-10, 45, 1)]\n",
    "    y_values = [get_theta_amb_ave(theta_ex_ave, Q_value, HeatingType.WholeHouse) for theta_ex_ave in x_values]\n",
    "    plt.plot(x_values, y_values, label='Q値：'+str(Q_value)+' W/m2')\n",
    "        \n",
    "ax=plt.gca()\n",
    "ax.set_xlabel('外気温度の日平均値(℃)', fontdict={'fontproperties':fp})\n",
    "ax.set_xticks(np.arange(-10, 45, 5), minor=False)\n",
    "ax.set_xbound(lower=-10, upper=40)\n",
    "\n",
    "ax.set_ylabel('冷蔵庫の周囲空気温度の日平均値(℃)', fontdict={'fontproperties':fp})\n",
    "ax.set_yticks(np.arange(-10, 45, 5), minor=False)\n",
    "ax.set_ybound(lower=-10, upper=40)\n",
    "\n",
    "ax.grid(which='major', color='lightgray', alpha=0.7, linestyle='-')     \n",
    "plt.legend(loc='center left', bbox_to_anchor=(1, 0.5), borderaxespad=0.5, frameon=True, prop=fp)\n",
    "\n",
    "plt.show()"
   ]
  },
  {
   "cell_type": "markdown",
   "metadata": {},
   "source": [
    "### 付録1：サンプルコード"
   ]
  },
  {
   "cell_type": "markdown",
   "metadata": {},
   "source": [
    "4人標準世帯の標準条件について、サンプルコードを示す。"
   ]
  },
  {
   "cell_type": "code",
   "execution_count": 21,
   "metadata": {},
   "outputs": [],
   "source": [
    "def get_spec(app_type):\n",
    "    '''機器仕様を取得する'''\n",
    "    # app_type：機器タイプ\n",
    "    \n",
    "    # 機器仕様の取得\n",
    "    try:\n",
    "        spec = Spec[app_type]\n",
    "    except:\n",
    "        raise Exception('機器タイプの入力に不正があります。')     \n",
    "    \n",
    "    APF_JIS = spec['APF_JIS']\n",
    "    Prtd_heater = spec['Prtd_heater']\n",
    "    year_mfr = spec['Year_mfr']\n",
    "    \n",
    "    return APF_JIS, Prtd_heater, year_mfr"
   ]
  },
  {
   "cell_type": "markdown",
   "metadata": {},
   "source": [
    "Example:"
   ]
  },
  {
   "cell_type": "code",
   "execution_count": 22,
   "metadata": {},
   "outputs": [
    {
     "data": {
      "text/plain": [
       "(300, 150, 2009)"
      ]
     },
     "execution_count": 22,
     "metadata": {},
     "output_type": "execute_result"
    }
   ],
   "source": [
    "ex_APF_JIS, ex_P_opg_df, ex_year_mfr = get_spec('Fridge01')\n",
    "ex_APF_JIS, ex_P_opg_df, ex_year_mfr"
   ]
  },
  {
   "cell_type": "code",
   "execution_count": 23,
   "metadata": {},
   "outputs": [],
   "source": [
    "def get_dt(time_use_type, time_of_day, schedule_name):\n",
    "    '''機器使用スケジュールを取得する'''\n",
    "    # time_use_type：['Weekdays', 'Holidays_st', 'Holidays_go']\n",
    "    # time_of_day：時刻（0-23）\n",
    "    # schedule_name：スケジュール名\n",
    "     \n",
    "    # スケジュールの取得\n",
    "    try:\n",
    "        schedule_set = Schedule[schedule_name][time_use_type]\n",
    "    except:\n",
    "        raise Exception('スケジュール名の入力に不正があります。')    \n",
    "               \n",
    "    # 動作状態のタイプ\n",
    "    app_status_types = list(schedule_set)\n",
    "    \n",
    "    # 動作状態ごとの継続時間[s]の取得\n",
    "    for i, app_status_type in enumerate(app_status_types):\n",
    "        if app_status_type == 'opg_rf':\n",
    "            dt_ac_opg_rf = schedule_set[app_status_type][time_of_day]\n",
    "        elif app_status_type == 'opg_df':\n",
    "            dt_ac_opg_df = schedule_set[app_status_type][time_of_day]\n",
    "        else:\n",
    "            raise Exception\n",
    "            \n",
    "    # 時間超過の確認\n",
    "    check_duration([dt_ac_opg_rf, dt_ac_opg_df]) \n",
    "  \n",
    "    return dt_ac_opg_rf, dt_ac_opg_df"
   ]
  },
  {
   "cell_type": "markdown",
   "metadata": {},
   "source": [
    "Example:"
   ]
  },
  {
   "cell_type": "code",
   "execution_count": 24,
   "metadata": {},
   "outputs": [
    {
     "data": {
      "text/plain": [
       "(3600, 0)"
      ]
     },
     "execution_count": 24,
     "metadata": {},
     "output_type": "execute_result"
    }
   ],
   "source": [
    "ex_dt_ac_opg_rf, ex_dt_ac_opg_df = get_dt('Weekdays', 6, '4p_standard' )\n",
    "ex_dt_ac_opg_rf, ex_dt_ac_opg_df"
   ]
  },
  {
   "cell_type": "code",
   "execution_count": 25,
   "metadata": {},
   "outputs": [],
   "source": [
    "def calc_EE_ac_opg(APF_JIS, P_opg_df, year_mfr, theta_amb_ave, dt_ac_opg_df, dt_ac_opg_rf):\n",
    "    '''AC電源接続下の稼働時における消費電力量[Wh]を計算する'''\n",
    "    \n",
    "    # APF_JIS：JIS C 9801に基づく冷蔵庫の年間消費電力量[kWh/年]  \n",
    "    # P_opg_df：除霜が機能することによる稼働時の平均消費電力[W]  \n",
    "    # year_mfr：冷蔵の製造年[-]\n",
    "    # dt_ac_opg_df：除霜が機能することによる稼働時間の合計[s]\n",
    "    # theta_amb_ave：冷蔵庫の周囲空気温度の日平均値[℃]  \n",
    "\n",
    "    # 冷蔵が機能することによる稼働時の消費電力[W]\n",
    "    p_opg_rf = P_opg_rf(year_mfr, APF_JIS, theta_amb_ave, P_opg_df)\n",
    "    # 冷蔵が機能することによる稼働時の消費電力量[Wh]\n",
    "    ee_ac_opg_rf = EE_ac_opg_rf(dt_ac_opg_rf, p_opg_rf)\n",
    "    \n",
    "    # 除霜が機能することによる稼働時の消費電力量[Wh]\n",
    "    ee_ac_opg_df = EE_ac_opg_df(dt_ac_opg_df, P_opg_df)\n",
    "    \n",
    "    # AC電源接続下の稼働時における消費電力量[Wh]\n",
    "    ee_ac_opg = EE_ac_opg(ee_ac_opg_rf, ee_ac_opg_df)\n",
    "    \n",
    "    return  ee_ac_opg"
   ]
  },
  {
   "cell_type": "markdown",
   "metadata": {},
   "source": [
    "Example:"
   ]
  },
  {
   "cell_type": "code",
   "execution_count": 26,
   "metadata": {},
   "outputs": [
    {
     "data": {
      "text/plain": [
       "25.38655"
      ]
     },
     "execution_count": 26,
     "metadata": {},
     "output_type": "execute_result"
    }
   ],
   "source": [
    "ex_theta_amb_ave = get_theta_amb_ave(20, 2.7, HeatingType.HabitableRoom)\n",
    "ex_theta_amb_ave"
   ]
  },
  {
   "cell_type": "code",
   "execution_count": 27,
   "metadata": {
    "scrolled": true
   },
   "outputs": [
    {
     "data": {
      "text/plain": [
       "37.46237324193075"
      ]
     },
     "execution_count": 27,
     "metadata": {},
     "output_type": "execute_result"
    }
   ],
   "source": [
    "ex_EE_ac_opg = calc_EE_ac_opg(ex_APF_JIS, ex_P_opg_df, ex_year_mfr, ex_theta_amb_ave, ex_dt_ac_opg_df, ex_dt_ac_opg_rf)\n",
    "ex_EE_ac_opg "
   ]
  },
  {
   "cell_type": "code",
   "execution_count": 28,
   "metadata": {},
   "outputs": [],
   "source": [
    "def calc_EE_ac(EE_ac_opg):\n",
    "    '''AC電源接続下の稼働時における消費電力量[Wh]を計算する'''\n",
    "    # EE_ac_opg：AC電源接続下の稼働時における消費電力量[Wh]\n",
    "    \n",
    "    return EE_ac(EE_ac_opg)"
   ]
  },
  {
   "cell_type": "markdown",
   "metadata": {},
   "source": [
    "Example:"
   ]
  },
  {
   "cell_type": "code",
   "execution_count": 29,
   "metadata": {},
   "outputs": [
    {
     "data": {
      "text/plain": [
       "37.46237324193075"
      ]
     },
     "execution_count": 29,
     "metadata": {},
     "output_type": "execute_result"
    }
   ],
   "source": [
    "ex_EE_ac = calc_EE_ac(ex_EE_ac_opg)\n",
    "ex_EE_ac"
   ]
  },
  {
   "cell_type": "code",
   "execution_count": 30,
   "metadata": {},
   "outputs": [],
   "source": [
    "def calc_EE_Refrigerator_verP4(time_use_type, time_of_day, \n",
    "                             app_type, schedule_name, theta_ex_ave, Q_value, heating_type):\n",
    "    '''温水暖房洗浄便座の単位時間当たりの消費電力量を計算する（ver自立P4）'''\n",
    "    # time_use_type：['Weekdays', 'Holidays_st', 'Holidays_go']\n",
    "    # time_of_day：時刻（0-23） \n",
    "    # app_type：機器タイプ  \n",
    "    # schedule_name：スケジュール名 ['4p_standard']\n",
    "    # theta_ex_ave：外気温度の日平均値[C]\n",
    "    # Q_value：住宅の熱損失係数[W/m2] \n",
    "    # heating_type：暖房方式[居室間欠、全館連続] \n",
    "    \n",
    "    # 機器使用スケジュール[s]を取得\n",
    "    dt_ac_opg_rf, dt_ac_opg_df = get_dt(time_use_type, time_of_day, schedule_name)\n",
    "    \n",
    "    # 機器仕様を取得\n",
    "    APF_JIS, P_opg_df, year_mfr = get_spec(app_type)\n",
    "    \n",
    "    # 冷蔵庫の周囲空気温度の日平均値[C]を取得\n",
    "    theta_amb_ave = get_theta_amb_ave(theta_ex_ave, Q_value, heating_type)\n",
    "    \n",
    "    # AC電源接続下の稼働時における消費電力量[Wh]を計算\n",
    "    EE_ac_opg = calc_EE_ac_opg(APF_JIS, P_opg_df, year_mfr, theta_amb_ave, dt_ac_opg_df, dt_ac_opg_rf)\n",
    "    \n",
    "    # AC電源接続時における消費電力量[Wh]を計算\n",
    "    EE_ac = calc_EE_ac (EE_ac_opg)\n",
    "    \n",
    "    return EE_ac, EE_ac_opg"
   ]
  },
  {
   "cell_type": "code",
   "execution_count": 31,
   "metadata": {},
   "outputs": [
    {
     "data": {
      "text/plain": [
       "(37.46237324193075, 37.46237324193075)"
      ]
     },
     "execution_count": 31,
     "metadata": {},
     "output_type": "execute_result"
    }
   ],
   "source": [
    "ex_EE_Refrigerator = calc_EE_Refrigerator_verP4('Weekdays', 6, \n",
    "                             'Fridge01', '4p_standard', 20, 2.7, HeatingType.HabitableRoom)\n",
    "ex_EE_Refrigerator"
   ]
  },
  {
   "cell_type": "markdown",
   "metadata": {},
   "source": [
    "### 付録2：サンプルコードによる時刻別消費電力量の計算例"
   ]
  },
  {
   "cell_type": "markdown",
   "metadata": {},
   "source": [
    "4人標準世帯の標準条件に対して、サンプルコードにより平日、休日在宅、休日外出の時刻別消費電力量を計算した結果を示す。"
   ]
  },
  {
   "cell_type": "code",
   "execution_count": 32,
   "metadata": {},
   "outputs": [
    {
     "data": {
      "image/png": "[encoded data removed]",
      "text/plain": [
       "<matplotlib.figure.Figure at 0x2275a832390>"
      ]
     },
     "metadata": {},
     "output_type": "display_data"
    }
   ],
   "source": [
    "# 消費電力量の計算\n",
    "# 入力\n",
    "time_use_type = [['Weekdays'], ['Holidays_st'], ['Holidays_go']]\n",
    "time_of_day = [i for i in range(0, 24, 1)]\n",
    "app_type = 'Fridge01'\n",
    "schedule_name = '4p_standard'\n",
    "theta_ex_ave = 20\n",
    "Q_value  = 2.7\n",
    "heating_type = HeatingType.HabitableRoom\n",
    "\n",
    "# 消費電力量の計算\n",
    "ee_ac, ee_ac_opg = np.vectorize(calc_EE_Refrigerator_verP4)(time_use_type, time_of_day,\n",
    "                                                 app_type, schedule_name,\n",
    "                                                 theta_ex_ave, Q_value, heating_type)\n",
    "\n",
    "# 消費電力量の計算結果\n",
    "EE_Results= {\n",
    "    schedule_name : {\n",
    "        'Weekdays' : {\n",
    "            'opg' : ee_ac_opg[0],\n",
    "        },\n",
    "        'Holidays_st' : {\n",
    "            'opg' : ee_ac_opg[1],\n",
    "        },\n",
    "        'Holidays_go' : {\n",
    "            'opg' : ee_ac_opg[2],\n",
    "        }\n",
    "    }\n",
    "}\n",
    "\n",
    "# 消費電力量の計算結果のグラフ\n",
    "# グラフのタイトル\n",
    "heating_type_j = {HeatingType.HabitableRoom:'居室間歇', HeatingType.WholeHouse:'全館連続'} [heating_type]\n",
    "\n",
    "chart_title = '消費電力量（' \\\n",
    "                + '日平均外気温度：' + str(theta_ex_ave) + '℃、'\\\n",
    "                + 'Q値：' + str(Q_value) + 'W/m2、'\\\n",
    "                + '暖房方式：' + heating_type_j \\\n",
    "                + ')'\n",
    "\n",
    "# グラフの表示\n",
    "plot_hourly_bar_chart(chart_title, \n",
    "                     EE_Results[schedule_name], \n",
    "                      '4人標準',\n",
    "                      {'opg':'AC稼働'},\n",
    "                       '時間[min/hour]', 0, 200, 50, 1)"
   ]
  },
  {
   "cell_type": "markdown",
   "metadata": {},
   "source": [
    "### 付録3：サンプルコードによる年間消費電力量の計算例"
   ]
  },
  {
   "cell_type": "markdown",
   "metadata": {},
   "source": [
    "4人標準世帯の標準条件に対して、サンプルコードにより年間消費電力量を計算した結果を示す。"
   ]
  },
  {
   "cell_type": "code",
   "execution_count": 33,
   "metadata": {},
   "outputs": [],
   "source": [
    "def calc_annual_EE_ac(app_type, schedule_name,\n",
    "                   theta_ex_ave, Q_value, heating_type):\n",
    "    '''年間消費電力量[Wh/year]を計算する'''\n",
    "    # app_type：機器タイプ  \n",
    "    # schedule_name：スケジュール名 ['4p_standard']\n",
    "    # theta_ex_ave：外気温度の日平均値[C]\n",
    "    # Q_value：住宅の熱損失係数[W/m2] (List型)\n",
    "    # heating_type：暖房方式[居室間欠、全館連続] \n",
    "    \n",
    "    def get_calendar():\n",
    "        '''カレンダーを取得する'''\n",
    "        import csv\n",
    "        \n",
    "        with open('住宅02-11-03_その他_生活スケジュール_生活スケジュール（データ）_131216.csv', 'r') as f:\n",
    "            reader = csv.reader(f)\n",
    "            next(reader)  # ヘッダーをスキップ\n",
    "\n",
    "            calendar = []\n",
    "            for row in reader:\n",
    "                calendar += [row[5]]\n",
    " \n",
    "        return calendar\n",
    "    \n",
    "    def calc_hourly_EE_ac():\n",
    "        '''1時間ごとの消費電力量[Wh/h]を計算する'''\n",
    "        EE_ac = []\n",
    "        for i, schedule in enumerate(calendar):\n",
    "            time_use_type = {'平日':'Weekdays', '休日在':'Holidays_st', '休日外':'Holidays_go'}[schedule]\n",
    "            EE = [calc_EE_Refrigerator_verP4(time_use_type, time_of_day,\n",
    "                                           app_type, schedule_name,  \n",
    "                                           theta_ex_ave[i], Q_value, heating_type) for time_of_day in range(0, 24, 1)]\n",
    "            EE_ac += [EE[time_of_day][1] for time_of_day in range(0, 24, 1)]\n",
    "        \n",
    "        return EE_ac\n",
    "    \n",
    "    calendar = get_calendar() \n",
    "    hourly_EE_ac = calc_hourly_EE_ac()\n",
    "    \n",
    "    return sum(hourly_EE_ac)"
   ]
  },
  {
   "cell_type": "code",
   "execution_count": 34,
   "metadata": {},
   "outputs": [],
   "source": [
    "def calc_theta_ex_ave(region):\n",
    "    '''外気温度の日平均値[C]を計算する。'''\n",
    "    # regoin：地域区分\n",
    "    \n",
    "    import csv\n",
    "    \n",
    "    with open('ExternalCondition.csv', 'r', encoding ='utf8') as f:\n",
    "        reader = csv.reader(f)\n",
    "        next(reader) # skip the header about '地域'\n",
    "        next(reader) # skip the header about '外気'\n",
    "        next(reader) # skip the header about '気温' and '絶湿'\n",
    "        next(reader) # skip the header about unit.\n",
    "\n",
    "        column = {'region1': 3, \n",
    "                       'region2': 5, \n",
    "                       'region3': 7, \n",
    "                       'region4': 9, \n",
    "                       'region5': 11, \n",
    "                       'region6': 13, \n",
    "                       'region7': 15, \n",
    "                       'region8': 17}[region]\n",
    "\n",
    "        temp = []\n",
    "        temp_ave = []\n",
    "        str_temp_ave = []\n",
    "        for i, row in enumerate(reader):\n",
    "            temp.append(float(row[column]))\n",
    "            if (i + 1) % 24 == 0:\n",
    "                temp_ave += [np.average(np.array(temp))]\n",
    "                str_temp_ave.append([str(np.average(np.array(temp)))])\n",
    "                temp = []\n",
    "                \n",
    "    # 確認用に外気温度の日平均値の計算結果をcsv形式で出力\n",
    "    with open('theta_ex_ave.csv', 'w', encoding = 'utf8') as fw:\n",
    "        csvWriter = csv.writer(fw, lineterminator='\\r')\n",
    "        csvWriter.writerows(str_temp_ave)\n",
    "        \n",
    "    return temp_ave"
   ]
  },
  {
   "cell_type": "code",
   "execution_count": 35,
   "metadata": {},
   "outputs": [],
   "source": [
    "def get_Q_value(region):\n",
    "    '''住宅の熱損失係数[W/m2] を取得する。'''\n",
    "    # regoin：地域区分\n",
    "    \n",
    "    return {'region1': 1.6, \n",
    "            'region2': 1.6, \n",
    "            'region3': 1.9, \n",
    "            'region4': 2.4, \n",
    "            'region5': 2.7, \n",
    "            'region6': 2.7, \n",
    "            'region7': 2.7, \n",
    "            'region8': 3.7}[region]"
   ]
  },
  {
   "cell_type": "code",
   "execution_count": 36,
   "metadata": {},
   "outputs": [
    {
     "name": "stdout",
     "output_type": "stream",
     "text": [
      "年間消費電力量：385.6885535488993 kWh/年\n"
     ]
    }
   ],
   "source": [
    "# 年間消費電力量[kWh/year]：6地域\n",
    "ex_annual_EE_ac = calc_annual_EE_ac('Fridge01', '4p_standard', \n",
    "                              calc_theta_ex_ave('region6'), get_Q_value('region6'), \n",
    "                              HeatingType.HabitableRoom)\n",
    "print('年間消費電力量：' + str(ex_annual_EE_ac/1000) + ' kWh/年')"
   ]
  }
 ],
 "metadata": {
  "kernelspec": {
   "display_name": "Python 3",
   "language": "python",
   "name": "python3"
  },
  "language_info": {
   "codemirror_mode": {
    "name": "ipython",
    "version": 3
   },
   "file_extension": ".py",
   "mimetype": "text/x-python",
   "name": "python",
   "nbconvert_exporter": "python",
   "pygments_lexer": "ipython3",
   "version": "3.6.4"
  }
 },
 "nbformat": 4,
 "nbformat_minor": 2
}
