{
 "cells": [
  {
   "cell_type": "code",
   "execution_count": 1,
   "metadata": {},
   "outputs": [],
   "source": [
    "import numpy as np\n",
    "import math\n",
    "from enum import Enum\n",
    "from collections import namedtuple\n",
    "\n",
    "# matplotlib\n",
    "# ライブラリーのインポート\n",
    "import matplotlib.pyplot as plt\n",
    "# インライン表示\n",
    "%matplotlib inline\n",
    "\n",
    "# 日本語フォント\n",
    "import pylab\n",
    "from matplotlib.font_manager import FontProperties\n",
    "# 日本語フォント\n",
    "fp = FontProperties(fname='C:\\WINDOWS\\Fonts\\msgothic.ttc', size = 12)"
   ]
  },
  {
   "cell_type": "markdown",
   "metadata": {},
   "source": [
    "# 家電"
   ]
  },
  {
   "cell_type": "markdown",
   "metadata": {},
   "source": [
    "## 7. 冷蔵庫（ver自立P4）"
   ]
  },
  {
   "cell_type": "markdown",
   "metadata": {},
   "source": [
    "### 7.1　定義"
   ]
  },
  {
   "cell_type": "markdown",
   "metadata": {},
   "source": [
    "#### 7.1.1　機器の電源接続状態および動作状態"
   ]
  },
  {
   "cell_type": "markdown",
   "metadata": {},
   "source": [
    "冷蔵庫の電源接続状態および動作状態は、以下を想定する。"
   ]
  },
  {
   "cell_type": "markdown",
   "metadata": {},
   "source": [
    "* 電源接続状態：\n",
    "    * 常時時、AC電源に接続される。  \n",
    "* 動作状態：\n",
    "    * 稼働状態のみが発生する。"
   ]
  },
  {
   "cell_type": "markdown",
   "metadata": {},
   "source": [
    "#### 7.1.2　機器の機能等"
   ]
  },
  {
   "cell_type": "markdown",
   "metadata": {},
   "source": [
    "冷蔵庫が有する機能は、以下を想定する。"
   ]
  },
  {
   "cell_type": "markdown",
   "metadata": {},
   "source": [
    "* 主機能：\n",
    "    * 冷蔵：稼働時に作動する。\n",
    "    * 除霜：稼働時に作動する。"
   ]
  },
  {
   "cell_type": "markdown",
   "metadata": {},
   "source": [
    "| 電源接続状態 | 動作状態 | 機能 |  添え字 |  \n",
    "|:-----------: |:-------: |:---: |:------: |    \n",
    "|  AC電源接続  |稼働      | 冷蔵 |ac,opg,rf|  \n",
    "|  AC電源接続  |稼働      | 除霜 |ac,opg,df|      "
   ]
  },
  {
   "cell_type": "markdown",
   "metadata": {},
   "source": [
    "### 7.2　消費電力量"
   ]
  },
  {
   "cell_type": "markdown",
   "metadata": {},
   "source": [
    "日付$d$の時刻$t$における冷蔵庫のAC電源接続時の消費電力量$E_{E,Refrigerator,ac,d,t}$は、式(1)により表される。"
   ]
  },
  {
   "cell_type": "markdown",
   "metadata": {},
   "source": [
    "<p style=\"text-indent:2em\">AC電源接続時：</p>  \n",
    "$$ \n",
    "\\begin{equation*}\n",
    "    E_{E,Refrigerator,ac,d,t} = E_{E,ac,opg,d,t}\n",
    "\\end{equation*}\n",
    "$$\n",
    "\n",
    "<div style=\"text-align: right;\"> (1) </div>"
   ]
  },
  {
   "cell_type": "markdown",
   "metadata": {},
   "source": [
    "ここで、  \n",
    "\n",
    "$E_{E,Refrigerator,ac,d,t}$：日付$d$の時刻$t$におけるAC電源接続時の単位時間当たりの消費電力量[Wh]  \n",
    "$E_{E,ac,opg,d,t}$：日付$d$の時刻$t$におけるAC電源接続下での稼働時の単位時間当たりの消費電力量[Wh]  \n",
    "\n",
    "である。"
   ]
  },
  {
   "cell_type": "code",
   "execution_count": 2,
   "metadata": {},
   "outputs": [],
   "source": [
    "def EE_ac (EE_ac_opg):\n",
    "    '''AC電源接続時の消費電力量[Wh]を計算する'''\n",
    "    # EE_ac_opg：AC電源接続下での稼働時の消費電力量[Wh]\n",
    "    \n",
    "    return EE_ac_opg"
   ]
  },
  {
   "cell_type": "markdown",
   "metadata": {},
   "source": [
    "日付$d$の時刻$t$におけるAC電源接続下での稼働時の消費電力量は、式(2)により計算される。"
   ]
  },
  {
   "cell_type": "markdown",
   "metadata": {},
   "source": [
    "<p style=\"text-indent:2em\">AC電源接続下での稼働時の消費電力量：</p>  \n",
    "$$ \n",
    "\\begin{equation*}\n",
    "    E_{E,ac,opg,d,t} = E_{E,ac,opg,rf,d,t} + E_{E,ac,opg,df,d,t}\n",
    "\\end{equation*}\n",
    "$$\n",
    "\n",
    "<div style=\"text-align: right;\"> (2) </div>"
   ]
  },
  {
   "cell_type": "markdown",
   "metadata": {},
   "source": [
    "ここで、  \n",
    "\n",
    "$E_{E,ac,opg,d,t}$：日付$d$の時刻$t$におけるAC電源接続下での稼働時の単位時間当たりの消費電力量[Wh]  \n",
    "$E_{E,ac,opg,df,d,t}$：日付$d$の時刻$t$において除霜が機能することによるAC電源接続下での稼働時の単位時間当たりの消費電力量[Wh]   \n",
    "$E_{E,ac,opg,rf,d,t}$：日付$d$の時刻$t$において冷蔵が機能することによるAC電源接続下での稼働時の単位時間当たりの消費電力量[Wh]   \n",
    "\n",
    "である。"
   ]
  },
  {
   "cell_type": "code",
   "execution_count": 3,
   "metadata": {},
   "outputs": [],
   "source": [
    "def EE_ac_opg (EE_ac_opg_rf, EE_ac_opg_df):\n",
    "    '''AC電源接続時での稼働時の消費電力量[Wh]を計算する'''\n",
    "    # EE_ac_opg_rf：冷蔵が機能することによる稼働時の消費電力量[Wh]\n",
    "    # EE_ac_opg_df：除霜が機能することによる稼働時の消費電力量[Wh]\n",
    "    \n",
    "    return EE_ac_opg_rf + EE_ac_opg_df"
   ]
  },
  {
   "cell_type": "markdown",
   "metadata": {},
   "source": [
    "日付$d$の時刻$t$において冷蔵および除霜が機能することによる単位時間当たりの消費電力量は、式(3)および式(4)により計算される。"
   ]
  },
  {
   "cell_type": "markdown",
   "metadata": {},
   "source": [
    "<p style=\"text-indent:2em\">冷蔵が機能することによる稼働時の消費電力量：</p>  \n",
    "$$ \n",
    "\\begin{equation*}\n",
    "    E_{E,ac,opg,rf,d,t} = P_{opg,rf,d} \\times dt_{ac,opg,rf,d,t}  \\div 3600\n",
    "\\end{equation*}\n",
    "$$\n",
    "\n",
    "<div style=\"text-align: right;\"> (3) </div>"
   ]
  },
  {
   "cell_type": "markdown",
   "metadata": {},
   "source": [
    "<p style=\"text-indent:2em\">除霜が機能することによる稼働時の消費電力量：</p>  \n",
    "$$ \n",
    "\\begin{equation*}\n",
    "    E_{E,ac,opg,df,d,t} = P_{opg,df} \\times dt_{ac,opg,df,d,t}  \\div 3600\n",
    "\\end{equation*}\n",
    "$$\n",
    "\n",
    "<div style=\"text-align: right;\"> (4) </div>"
   ]
  },
  {
   "cell_type": "markdown",
   "metadata": {},
   "source": [
    "ただし、式(5)を満たす。  "
   ]
  },
  {
   "cell_type": "markdown",
   "metadata": {},
   "source": [
    "$$ \n",
    "\\begin{equation*}\n",
    "    dt_{ac,opg,rf,d,t} +dt_{ac,opg,df,d,t} = dt_{calc}\n",
    "\\end{equation*}\n",
    "$$\n",
    "<div style=\"text-align: right;\"> (5) </div>"
   ]
  },
  {
   "cell_type": "markdown",
   "metadata": {},
   "source": [
    "ここで、  \n",
    "\n",
    "$dt_{ac,opg,df,d,t}$：日付$d$の時刻$t$において除霜が機能することによるAC電源接続下での稼働時間の合計[s]  \n",
    "$dt_{ac,opg,rf,d,t}$：日付$d$の時刻$t$において冷蔵が機能することによるAC電源接続下での稼働時間の合計[s]  \n",
    "$dt_{calc}$：単位時間[s]   \n",
    "$E_{E,ac,opg,df,d,t}$：日付$d$の時刻$t$において除霜が機能することによるAC電源接続下での稼働時の単位時間当たりの消費電力量[Wh]  \n",
    "$E_{E,ac,opg,rf,d,t}$：日付$d$の時刻$t$において冷蔵が機能することによるAC電源接続下での稼働時の単位時間当たりの消費電力量[Wh]  \n",
    "$P_{opg,df}$：除霜が機能することによる稼働時の平均消費電力[W]  \n",
    "$P_{opg,rf,d}$：日付$d$において冷蔵が機能することによる稼働時の平均消費電力[W]  \n",
    "\n",
    "である。"
   ]
  },
  {
   "cell_type": "code",
   "execution_count": 4,
   "metadata": {},
   "outputs": [],
   "source": [
    "def EE_ac_opg_rf (dt_ac_opg_rf, P_opg_rf):\n",
    "    '''冷蔵が機能することによるAC電源接続下での稼働時の消費電力量[Wh]を計算する'''\n",
    "    # dt_ac_opg_rf：冷蔵が機能することによる稼働時間の合計[s]\n",
    "    # P_opg_rf：冷蔵が機能することによる稼働時の平均消費電力[W]    \n",
    "  \n",
    "    return P_opg_rf * dt_ac_opg_rf / 3600"
   ]
  },
  {
   "cell_type": "code",
   "execution_count": 5,
   "metadata": {},
   "outputs": [],
   "source": [
    "def EE_ac_opg_df (dt_ac_opg_df, P_opg_df):\n",
    "    '''冷蔵が機能することによるAC電源接続下での稼働時の消費電力量[Wh]を計算する'''\n",
    "    # dt_ac_opg_df：除霜が機能することによる稼働時間の合計[s]\n",
    "    # P_opg_df：除霜が機能することによる稼働時の平均消費電力[W]    \n",
    "  \n",
    "    return P_opg_df * dt_ac_opg_df / 3600"
   ]
  },
  {
   "cell_type": "code",
   "execution_count": 6,
   "metadata": {},
   "outputs": [],
   "source": [
    "def check_duration (dt):\n",
    "    '''合計が単位時間を超過しないか否かを確認する'''\n",
    "    # dt：稼働時間の合計[s](list型)\n",
    "    # dt_calc：単位時間[s]\n",
    "    \n",
    "    dt_calc = 3600.\n",
    "    \n",
    "    # 継続時間を積算する\n",
    "    dt_sum = sum(dt)\n",
    "    \n",
    "    # エラーチェック\n",
    "    if dt_calc < dt_sum:\n",
    "        # 単位時間を超える場合 => エラー\n",
    "        try:\n",
    "            raise Exception('機器使用スケジュールに不正があります。')\n",
    "        except Exception:\n",
    "            raise\n",
    "    else:\n",
    "        pass"
   ]
  },
  {
   "cell_type": "markdown",
   "metadata": {},
   "source": [
    "### 7.3　稼働時の消費電力"
   ]
  },
  {
   "cell_type": "markdown",
   "metadata": {},
   "source": [
    "冷蔵が機能することによる稼働時の平均消費電力$P_{opg,rf,d}$は、式(6)により計算される。"
   ]
  },
  {
   "cell_type": "markdown",
   "metadata": {},
   "source": [
    "<p style=\"text-indent:2em\">冷蔵が機能することによる稼働時の平均消費電力：</p>  \n",
    "$$ \n",
    "\\begin{equation*}\n",
    "    P_{opg,rf,d} = \\frac{E_{E,ac,opg,rf,d}}{dt_{ac,opg,rf,d} \\div 3600}\n",
    "\\end{equation*}\n",
    "$$\n",
    "\n",
    "<div style=\"text-align: right;\"> (6) </div>"
   ]
  },
  {
   "cell_type": "markdown",
   "metadata": {},
   "source": [
    "ここで、  \n",
    "\n",
    "$dt_{ac,opg,rf,d}$：日付$d$において冷蔵が機能することによるAC電源接続下での稼働時間の合計[s/日]  \n",
    "$E_{E,ac,opg,rf,d}$：日付$d$において冷蔵が機能することによるAC電源接続下での稼働時の1日当たりの消費電力量[Wh/日]  \n",
    "$P_{opg,rf,d}$：日付$d$において冷蔵が機能することによる稼働時の平均消費電力[W]  \n",
    "\n",
    "である。"
   ]
  },
  {
   "cell_type": "code",
   "execution_count": 7,
   "metadata": {},
   "outputs": [],
   "source": [
    "def P_opg_rf(m_year, APF_JIS, theta_amb_ave, P_opd_df):\n",
    "    '''冷蔵が機能することによる稼働時の平均消費電力[W]を計算する。'''\n",
    "    # m_year：冷蔵の製造年[-]\n",
    "    # APF_JIS：JIS C 9801に基づく冷蔵庫の年間消費電力量[kWh/年]  \n",
    "    # theta_amb_ave：冷蔵庫の周囲空気温度の日平均値[℃]  \n",
    "    # P_opd_df：除霜が機能することによる稼働時の平均消費電力[W]  \n",
    "\n",
    "    # 冷蔵、除霜が機能することによる稼働時間の合計[s/日}\n",
    "    dt_opg_rf_d, dt_opg_df_d = dt_opg_d()\n",
    "    \n",
    "    # 冷蔵庫の年間消費電力量[kWh/年]  \n",
    "    EE_frige_dd = EE_frige_d(m_year, APF_JIS, theta_amb_ave)\n",
    "    \n",
    "    # 冷蔵、除霜が機能することによる稼働時の1日当たりの消費電力量[Wh/日]を計算する\n",
    "    EE_ac_opg_rf_d, EE_ac_opg_df_d = EE_ac_opg_d(EE_frige_dd, P_opd_df, dt_opg_df_d)\n",
    "    \n",
    "    \n",
    "    return EE_ac_opg_rf_d / (dt_opg_rf_d / 3600)"
   ]
  },
  {
   "cell_type": "markdown",
   "metadata": {},
   "source": [
    "日付$d$において冷蔵が機能することによるAC電源接続下での稼働時間の合計$dt_{ac,opg,rf,d}$は、式(7)により計算される。"
   ]
  },
  {
   "cell_type": "markdown",
   "metadata": {},
   "source": [
    "$$\n",
    "\\begin{equation*}\n",
    "    dt_{ac,opg,rf,d} = 24 \\times 3600 - dt_{ac,opg,df,d}\n",
    "\\end{equation*}\n",
    "$$\n",
    "\n",
    "<div style=\"text-align: right;\"> (7) </div>"
   ]
  },
  {
   "cell_type": "markdown",
   "metadata": {},
   "source": [
    "ここで、  \n",
    "\n",
    "$dt_{ac,opg,df,d}$：日付$d$において除霜が機能することによるAC電源接続下での稼働時間の合計[s/日]  \n",
    "$dt_{ac,opg,rf,d}$：日付$d$において冷蔵が機能することによるAC電源接続下での稼働時間の合計[s/日]  \n",
    "\n",
    "である。"
   ]
  },
  {
   "cell_type": "markdown",
   "metadata": {},
   "source": [
    "1日当たりの除霜運転時間を2時間として、日付$d$において除霜が機能することによるAC電源接続下での稼働時間の合計$dt_{ac,opg,df,d}$は、7200 s/dayとする。"
   ]
  },
  {
   "cell_type": "code",
   "execution_count": 8,
   "metadata": {},
   "outputs": [],
   "source": [
    "def dt_opg_d():\n",
    "    '''冷蔵および除霜が機能することによる稼働時間の合計[s/日]を取得する。'''\n",
    "    \n",
    "    dt_opg_df_d = 2 * 3600\n",
    "    dt_opg_rf_d = 24 * 3600 - dt_opg_df_d\n",
    "    \n",
    "    return dt_opg_rf_d, dt_opg_df_d "
   ]
  },
  {
   "cell_type": "markdown",
   "metadata": {},
   "source": [
    "日付$d$において冷蔵が機能することによるAC電源接続下での稼働時の1日当たりの消費電力量$E_{E,ac,opg,rf,d}$は、式(8)により計算される。"
   ]
  },
  {
   "cell_type": "markdown",
   "metadata": {},
   "source": [
    "$$ \n",
    "\\begin{equation*}\n",
    "    E_{E,ac,opg,rf,d} = E_{E,daily,d} - E_{E,ac,opg,df,d}\n",
    "\\end{equation*}\n",
    "$$\n",
    "\n",
    "<div style=\"text-align: right;\"> (8) </div>"
   ]
  },
  {
   "cell_type": "markdown",
   "metadata": {},
   "source": [
    "ここで、  \n",
    "\n",
    "$E_{E,ac,opg,df,d}$：日付$d$において除霜が機能することによるAC電源接続下での稼働時の単位時間当たりの消費電力量[Wh/日]  \n",
    "$E_{E,ac,opg,rf,d}$：日付$d$において冷蔵が機能することによるAC電源接続下での稼働時の単位時間当たりの消費電力量[Wh/日]  \n",
    "$E_{E,daily,d}$：日付$d$における冷蔵庫の1日当たりの消費電力量[Wh/日]  \n",
    "\n",
    "である。"
   ]
  },
  {
   "cell_type": "markdown",
   "metadata": {},
   "source": [
    "日付$d$において除霜が機能することによるAC電源接続下での稼働時の単位時間当たりの消費電力量$E_{E,ac,opg,df,d}$は、式(9)により計算される。 "
   ]
  },
  {
   "cell_type": "markdown",
   "metadata": {},
   "source": [
    "$$ \n",
    "\\begin{equation*}\n",
    "    E_{E,ac,opg,df,d} = P_{opg,df} \\times dt_{ac,opg,df,d} \\div 3600\n",
    "\\end{equation*}\n",
    "$$\n",
    "\n",
    "<div style=\"text-align: right;\"> (9) </div>"
   ]
  },
  {
   "cell_type": "markdown",
   "metadata": {},
   "source": [
    "ここで、  \n",
    "\n",
    "$dt_{ac,opg,df,d}$：日付$d$において除霜が機能することによるAC電源接続下での稼働時間の合計[s]  \n",
    "$E_{E,ac,opg,df,d}$：日付$d$において除霜が機能することによるAC電源接続下での稼働時の1日当たりの消費電力量[Wh/日]  \n",
    "$P_{opg,df}$：除霜が機能することによる稼働時の平均消費電力[W]  \n",
    "\n",
    "である。"
   ]
  },
  {
   "cell_type": "code",
   "execution_count": 9,
   "metadata": {},
   "outputs": [],
   "source": [
    "def EE_ac_opg_d(EE_frige_d, P_opd_df, dt_opg_df_d):\n",
    "    '''稼働時の1日当たりの消費電力量[Wh/日]を計算する。'''\n",
    "    # EE_frige_d：冷蔵庫の1日当たりの消費電力量[Wh/日]\n",
    "    # P_opd_df：除霜が機能することによる稼働時の平均消費電力[W]  \n",
    "    # dt_opg_df_d：除霜が機能することによる稼働時間の合計[s/日}\n",
    "    \n",
    "    EE_ac_opg_df_d  = P_opd_df * dt_opg_df_d / 3600\n",
    "    EE_ac_opg_rf_d = EE_frige_d - EE_ac_opg_df_d \n",
    "    \n",
    "    return EE_ac_opg_rf_d, EE_ac_opg_df_d "
   ]
  },
  {
   "cell_type": "markdown",
   "metadata": {},
   "source": [
    "日付$d$における冷蔵庫の1日当たりの消費電力量$E_{E,daily,d}$は、式(10)により計算される。"
   ]
  },
  {
   "cell_type": "markdown",
   "metadata": {},
   "source": [
    "$$ \n",
    "\\begin{equation*}\n",
    "    E_{E,daily,d} = \\left\\{ \\left( 3.283 \\times 10^{-3} -2.0 \\times 10^{-6} \\times E_{E,annual} \\right) \\times \\left( \\theta_{amb,ave,d}^{2}  -30 \\times \\theta_{amb,ave,d} \\right) +1.85 \\times 10^{-3} \\times E_{E,annual} +1.329 \\right\\} \\times 1000\n",
    "\\end{equation*}\n",
    "$$\n",
    "\n",
    "<div style=\"text-align: right;\"> (10) </div>"
   ]
  },
  {
   "cell_type": "markdown",
   "metadata": {},
   "source": [
    "ここで、  \n",
    "\n",
    "$E_{E,annual}$：冷蔵庫の年間消費電力量[kWh/年]  \n",
    "$E_{E,daily,d}$：日付$d$における冷蔵庫の1日当たりの消費電力量[Wh/日]  \n",
    "$\\theta_{amb,ave,d}$：冷蔵庫の周囲空気温度の日平均値[℃]  \n",
    "\n",
    "である。"
   ]
  },
  {
   "cell_type": "markdown",
   "metadata": {},
   "source": [
    "冷蔵庫の年間消費電力量$E_{E,annual}$は、製造年に応じて式(11)により定まる。"
   ]
  },
  {
   "cell_type": "markdown",
   "metadata": {},
   "source": [
    "<p style=\"text-indent:2em\">製造年が2005年以前（JIS C 9801:1999による）：</p>  \n",
    "$$ \n",
    "\\begin{equation*}\n",
    "    E_{E,annual} = APF_{JIS}\n",
    "\\end{equation*}\n",
    "$$\n",
    "\n",
    "<div style=\"text-align: right;\"> (11-1) </div>\n",
    "\n",
    "<p style=\"text-indent:2em\">製造年が2006年～2015年（JIS C 9801:2006による）：</p>  \n",
    "$$ \n",
    "\\begin{equation*}\n",
    "    E_{E,annual} = \\frac{APF_{JIS}}{3.48}\n",
    "\\end{equation*}\n",
    "$$\n",
    "\n",
    "<div style=\"text-align: right;\"> (11-2) </div>\n",
    "\n",
    "<p style=\"text-indent:2em\">製造年が2016年以降（JIS C 9801:2015による）：</p>  \n",
    "$$ \n",
    "\\begin{equation*}\n",
    "    E_{E,annual} = \\frac{APF_{JIS}}{3.48} \\times 0.2891\n",
    "\\end{equation*}\n",
    "$$\n",
    "\n",
    "<div style=\"text-align: right;\"> (11-3) </div>"
   ]
  },
  {
   "cell_type": "markdown",
   "metadata": {},
   "source": [
    "ここで、  \n",
    "\n",
    "$APF_{JIS}$：JIS C 9801に基づく冷蔵庫の年間消費電力量[kWh/年]  \n",
    "$E_{E,annual}$：冷蔵庫の年間消費電力量[kWh/年]  \n",
    "\n",
    "である。"
   ]
  },
  {
   "cell_type": "code",
   "execution_count": 10,
   "metadata": {},
   "outputs": [],
   "source": [
    "def EE_frige_d(m_year, APF_JIS, theta_amb_ave):\n",
    "    # m_year：冷蔵の製造年[-]\n",
    "    # APF_JIS：JIS C 9801に基づく冷蔵庫の年間消費電力量[kWh/年]  \n",
    "    # theta_amb_ave：冷蔵庫の周囲空気温度の日平均値[℃]  \n",
    "    \n",
    "    def get_EE_annual():\n",
    "        '''年間消費電力量[kWh/年]を取得する'''\n",
    "        \n",
    "        if m_year <= 2005:\n",
    "            return APF_JIS\n",
    "        elif 2006 <= m_year and m_year <= 2015:\n",
    "            return APF_JIS / 3.48\n",
    "        else:\n",
    "            return APF_JIS / 3.48 * 0.2891\n",
    "    \n",
    "    EE_annual = get_EE_annual()\n",
    "    \n",
    "    return ((3.283*(10**(-3)) -2.0*(10**(-6))*EE_annual) * (theta_amb_ave**2 -30*theta_amb_ave) + 1.85*10**(-3)*EE_annual +1.329)*1000"
   ]
  },
  {
   "cell_type": "code",
   "execution_count": 11,
   "metadata": {},
   "outputs": [
    {
     "data": {
      "image/png": "[encoded data removed]",
      "text/plain": [
       "<matplotlib.figure.Figure at 0x17260ed4cf8>"
      ]
     },
     "metadata": {},
     "output_type": "display_data"
    }
   ],
   "source": [
    "# 出力結果\n",
    "plt.figure(figsize = (8, 3), dpi=80 )\n",
    "plt.subplot2grid((1, 1), (0, 0))\n",
    "plt.title('冷蔵庫の日積算消費電力量', fontdict={'fontproperties':fp})\n",
    "\n",
    "for i,m_year in enumerate([2000, 2010, 2016]):\n",
    "    x_values =[x for x in range(-10, 45, 1)]\n",
    "    y_values = [ EE_frige_d(m_year, 330, theta_amb_ave) for theta_amb_ave in range(-10, 45, 1)]\n",
    "    plt.plot(x_values, y_values, label=m_year)\n",
    "        \n",
    "ax=plt.gca()\n",
    "ax.set_xlabel('冷蔵庫の周囲空気温度の日平均値(℃)', fontdict={'fontproperties':fp})\n",
    "ax.set_xticks([x for x in range(-10, 50, 5)], minor=False)\n",
    "ax.set_xbound(lower=-10, upper=40)\n",
    "\n",
    "ax.set_ylabel('日積算消費電力量(Wh/日)', fontdict={'fontproperties':fp})\n",
    "ax.set_yticks([y for y in range(500, 3100, 500)], minor=False)\n",
    "ax.set_ybound(lower=500, upper=3000)\n",
    "\n",
    "ax.grid(which='major', color='lightgray', alpha=0.7, linestyle='-')     \n",
    "plt.legend(loc='center left', bbox_to_anchor=(1, 0.5), borderaxespad=0.5, frameon=True, prop=fp)\n",
    "\n",
    "plt.show()"
   ]
  },
  {
   "cell_type": "markdown",
   "metadata": {},
   "source": [
    "除霜が機能することによる稼働時の平均消費電力$P_{opg,df}$は、式(12)により計算される"
   ]
  },
  {
   "cell_type": "markdown",
   "metadata": {},
   "source": [
    "<p style=\"text-indent:2em\">除霜が機能することによる稼働時の平均消費電力：</p>  \n",
    "$$ \n",
    "\\begin{equation*}\n",
    "    P_{opg,df} = P_{rtd,heater} \\times 0.9\n",
    "\\end{equation*}\n",
    "$$\n",
    "\n",
    "<div style=\"text-align: right;\"> (12) </div>"
   ]
  },
  {
   "cell_type": "markdown",
   "metadata": {},
   "source": [
    "ここで、  \n",
    "\n",
    "$P_{opg,df}$：除霜が機能することによる稼働時の平均消費電力[W]  \n",
    "$P_{rtd,heater}$：電熱器の定格消費電力[W]  \n",
    "\n",
    "である。"
   ]
  },
  {
   "cell_type": "code",
   "execution_count": 12,
   "metadata": {},
   "outputs": [],
   "source": [
    "def P_opg_df(P_rtd_heater):\n",
    "    '''除霜が機能することによる稼働時の平均消費電力[W]を計算する。'''\n",
    "    # P_rtd_heater：電熱器の定格消費電力[W]  \n",
    "    \n",
    "    return P_rtd_heater * 0.9"
   ]
  }
 ],
 "metadata": {
  "kernelspec": {
   "display_name": "Python 3",
   "language": "python",
   "name": "python3"
  },
  "language_info": {
   "codemirror_mode": {
    "name": "ipython",
    "version": 3
   },
   "file_extension": ".py",
   "mimetype": "text/x-python",
   "name": "python",
   "nbconvert_exporter": "python",
   "pygments_lexer": "ipython3",
   "version": "3.6.4"
  }
 },
 "nbformat": 4,
 "nbformat_minor": 2
}
