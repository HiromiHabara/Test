{
 "cells": [
  {
   "cell_type": "code",
   "execution_count": 1,
   "metadata": {
    "collapsed": true
   },
   "outputs": [],
   "source": [
    "import numpy as np  \n",
    "import math\n",
    "from enum import Enum\n",
    "from collections import namedtuple\n",
    "\n",
    "# matplotlib\n",
    "# ライブラリーのインポート\n",
    "import matplotlib.pyplot as plt\n",
    "# インライン表示\n",
    "%matplotlib inline\n",
    "# 日本語フォント\n",
    "import pylab\n",
    "from matplotlib.font_manager import FontProperties\n",
    "\n",
    "# pandas\n",
    "import pandas as pd  \n",
    "# 常に全ての列（カラム）を表示\n",
    "pd.set_option('display.max_columns', None)"
   ]
  },
  {
   "cell_type": "markdown",
   "metadata": {},
   "source": [
    "# 家電"
   ]
  },
  {
   "cell_type": "markdown",
   "metadata": {},
   "source": [
    "## 7.　温水暖房洗浄便座（ver自立P4）"
   ]
  },
  {
   "cell_type": "markdown",
   "metadata": {},
   "source": [
    "### 7.1　定義"
   ]
  },
  {
   "cell_type": "markdown",
   "metadata": {},
   "source": [
    "#### 7.1.1　機器の電源接続状態および動作状態"
   ]
  },
  {
   "cell_type": "markdown",
   "metadata": {},
   "source": [
    "温水暖房洗浄便座の電源接続状態および動作状態は、以下を想定する。"
   ]
  },
  {
   "cell_type": "markdown",
   "metadata": {},
   "source": [
    "* 電源接続状態：\n",
    "    * 常時時、AC電源に接続される。  \n",
    "* 動作状態：\n",
    "    * 使用時には稼働状態のみが発生する。\n",
    "    * 非使用時には待機状態もしくは停止状態が発生する。  "
   ]
  },
  {
   "cell_type": "markdown",
   "metadata": {},
   "source": [
    "#### 7.1.2　機器の機能等"
   ]
  },
  {
   "cell_type": "markdown",
   "metadata": {},
   "source": [
    "温水暖房洗浄便座が有する機能は、以下を想定する。  "
   ]
  },
  {
   "cell_type": "markdown",
   "metadata": {},
   "source": [
    "* 主機能：\n",
    "    * 暖房便座：ヒータの加熱方式が非瞬間方式の場合、稼働時と待機時に作動する。ヒータの加熱方式が瞬間方式の場合、稼働時に作動する。\n",
    "    * 温水洗浄：ヒータの加熱方式が非瞬間方式の場合、稼働時と待機時に作動する。ヒータの加熱方式が瞬間方式の場合、稼働時に作動する。\n",
    "* ヒータの加熱方式：\n",
    "    * 非瞬間方式：稼働時と待機時の両方に主機能が作動する。    \n",
    "    * 瞬間方式：稼働時のみに主機能が作動する。  \n",
    "* ヒータの電源スイッチ：ヒータの電源スイッチで機能を有効化・無効化を切り替える。無効化された場合、動作状態は停止となる。（消費電力はゼロ。）"
   ]
  },
  {
   "cell_type": "markdown",
   "metadata": {},
   "source": [
    "| 電源接続状態 | 動作状態 |　機能　 |  添え字 |  \n",
    "|:-----------: |:-------: |:------: |:------: |    \n",
    "|  AC電源接続  |稼働      |暖房便座 |ac,opg,st|  \n",
    "|  AC電源接続  |稼働      |温水洗浄 |ac,opg,wt|   \n",
    "|  AC電源接続  |待機      |暖房便座 |ac,sby,st|    \n",
    "|  AC電源接続  |待機      |温水洗浄 |ac,sby,wt|    \n",
    "|  AC電源接続  |停止      |暖房便座 |-        |    \n",
    "|  AC電源接続  |停止      |温水洗浄 |-        |    "
   ]
  },
  {
   "cell_type": "code",
   "execution_count": 2,
   "metadata": {
    "collapsed": true
   },
   "outputs": [],
   "source": [
    "class HeaterType(Enum):\n",
    "    \"\"\"ヒータの加熱方式\"\"\"\n",
    "    # NonInst：非瞬間方式（NonInstantaneously）\n",
    "    # Inst：瞬間方式（Instantaneously）\n",
    "\n",
    "    NonInst = \"noninst\"\n",
    "    Inst = \"inst\""
   ]
  },
  {
   "cell_type": "code",
   "execution_count": 3,
   "metadata": {
    "collapsed": true
   },
   "outputs": [],
   "source": [
    "class HeaterSwitch(Enum):\n",
    "    \"\"\"ヒータの電源スイッチ\"\"\"\n",
    "    # Off：オフ\n",
    "    # On：オン\n",
    "\n",
    "    Off = \"off\"\n",
    "    On = \"on\""
   ]
  },
  {
   "cell_type": "markdown",
   "metadata": {},
   "source": [
    "### 7.2　消費電力量"
   ]
  },
  {
   "cell_type": "markdown",
   "metadata": {},
   "source": [
    "日付$d$の時刻$t$における温水洗浄暖房便座のAC電源接続時の消費電力量は、以下の式により表される。"
   ]
  },
  {
   "cell_type": "markdown",
   "metadata": {},
   "source": [
    "* AC電源接続時：  \n",
    "$$ \n",
    "\\begin{equation}\n",
    "    E_{E,ToiletSeat,ac,d,t} = E_{E,ac,opg,d,t} + E_{E,ac,sby,d,t}\n",
    "\\end{equation}\n",
    "$$"
   ]
  },
  {
   "cell_type": "markdown",
   "metadata": {},
   "source": [
    "ここで、  \n",
    "\n",
    "$E_{E,ToiletSeat,ac,d,t}$：日付$d$の時刻$t$におけるAC電源接続時の単位時間当たりの消費電力量[Wh]  \n",
    "$E_{E,ac,opg,d,t}$：日付$d$の時刻$t$におけるAC電源接続下での稼働時の単位時間当たりの消費電力量[Wh]  \n",
    "$E_{E,ac,sby,d,t}$：日付$d$の時刻$t$におけるAC電源接続下での待機時の単位時間当たりの消費電力量[Wh]  \n",
    "\n",
    "である。"
   ]
  },
  {
   "cell_type": "code",
   "execution_count": 4,
   "metadata": {
    "collapsed": true
   },
   "outputs": [],
   "source": [
    "def EE_ac (EE_ac_stn):\n",
    "    \"\"\"AC電源接続時の消費電力量[Wh]を計算する\"\"\" \n",
    "    # EE_ac_stn：AC電源接続下での消費電力量[Wh]の配列\n",
    "    \n",
    "    return sum(EE_ac_stn)"
   ]
  },
  {
   "cell_type": "markdown",
   "metadata": {},
   "source": [
    "### 7.3　稼働時および待機時の消費電力量"
   ]
  },
  {
   "cell_type": "markdown",
   "metadata": {},
   "source": [
    "日付$d$の時刻$t$におけるAC電源接続下での稼働時および待機時の消費電力量は、以下の式により計算される。"
   ]
  },
  {
   "cell_type": "markdown",
   "metadata": {},
   "source": [
    "* AC電源接続下での稼働時の消費電力量：  \n",
    "$$ \n",
    "\\begin{equation}\n",
    "    E_{E,ac,opg,d,t} = P_{opg,d,t} \\times dt_{ac,opg,d,t}  \\div 3600\n",
    "\\end{equation}\n",
    "$$\n",
    "　　\n",
    "* AC電源接続下での待機時の消費電力量：  \n",
    "$$ \n",
    "\\begin{equation}\n",
    "    E_{E,ac,sby,d,t} = P_{sby,d,t} \\times dt_{ac,sby,d,t}  \\div 3600\n",
    "\\end{equation}\n",
    "$$\n",
    "\n",
    "ただし、  \n",
    "$$ \n",
    "\\begin{equation}\n",
    "    dt_{ac,opg,d,t} +dt_{ac,sby,d,t} = dt_{calc}\n",
    "\\end{equation}\n",
    "$$\n",
    "を満たす。"
   ]
  },
  {
   "cell_type": "markdown",
   "metadata": {},
   "source": [
    "ここで、  \n",
    "\n",
    "$dt_{calc}$：単位時間[s]   \n",
    "$dt_{ac,opg,d,t}$：日付$d$の時刻$t$におけるAC電源接続下での稼働時間の合計[s]  \n",
    "$dt_{ac,sby,d,t}$：日付$d$の時刻$t$におけるAC電源接続下での待機時間の合計[s]   \n",
    "$E_{E,ac,opg,d,t}$：日付$d$の時刻$t$におけるAC電源接続下での稼働時の単位時間当たりの消費電力量[Wh]   \n",
    "$E_{E,ac,sby,d,t}$：日付$d$の時刻$t$におけるAC電源接続下での待機時の単位時間当たりの消費電力量[Wh]   \n",
    "$P_{opg,st,d,t}$：日付$d$の時刻$t$における稼働時の消費電力[W]  \n",
    "$P_{sby,st,d,t}$：日付$d$の時刻$t$における待機時の消費電力[W]  \n",
    "\n",
    "である。"
   ]
  },
  {
   "cell_type": "code",
   "execution_count": 5,
   "metadata": {
    "collapsed": true
   },
   "outputs": [],
   "source": [
    "def EE_ac_opg (dt_ac_opg, P_ac_opg):\n",
    "    \"\"\"AC電源接続下での稼働時の消費電力量[Wh]を計算する\"\"\" \n",
    "    # dt_ac_opg：稼働時間の合計[s]\n",
    "    # P_ac_opg：稼働時の消費電力[W]\n",
    "\n",
    "    return P_ac_opg * dt_ac_opg / 3600"
   ]
  },
  {
   "cell_type": "code",
   "execution_count": 6,
   "metadata": {
    "collapsed": true
   },
   "outputs": [],
   "source": [
    "def EE_ac_sby (dt_ac_sby, P_ac_sby):\n",
    "    \"\"\"AC電源接続下での待機時の消費電力量[Wh]を計算する\"\"\" \n",
    "    # dt_ac_sby：待機時間の合計[s]\n",
    "    # P_ac_sby：待機時の消費電力[W]\n",
    "    \n",
    "    return P_ac_sby * dt_ac_sby / 3600"
   ]
  },
  {
   "cell_type": "code",
   "execution_count": 7,
   "metadata": {
    "collapsed": true
   },
   "outputs": [],
   "source": [
    "def check_duration (dt_calc, dt_stn):\n",
    "    \"\"\"合計が単位時間を超過しないか否かを確認する\"\"\"\n",
    "    # dt_calc：単位時間[W]\n",
    "    # dt_stn：稼働時間の合計[s]\n",
    "    \n",
    "    if dt_calc != sum(dt_stn):\n",
    "        # 単位時間に等しくない場合 => エラー\n",
    "        try:\n",
    "            raise ValueError(\"Error: dt_calc < sum(dt_stn)\")\n",
    "        except ValueError as e:\n",
    "            print(e)\n",
    "    else:\n",
    "        pass"
   ]
  },
  {
   "cell_type": "markdown",
   "metadata": {},
   "source": [
    "### 7.4　稼働時の消費電力"
   ]
  },
  {
   "cell_type": "markdown",
   "metadata": {},
   "source": [
    "日付$d$の時刻$t$における稼働時消費電力は、暖房便座が機能することによる消費電力と温水洗浄が機能することによる消費電力の合計であり、以下の式により計算される。"
   ]
  },
  {
   "cell_type": "markdown",
   "metadata": {},
   "source": [
    "* AC電源接続下での稼働時の消費電力量：  \n",
    "$$ \n",
    "\\begin{equation}\n",
    "    P_{opg,d,t} =  P_{opg,st,d,t} + P_{opg,wt,d,t}\n",
    "\\end{equation}\n",
    "$$"
   ]
  },
  {
   "cell_type": "markdown",
   "metadata": {},
   "source": [
    "ここで、  \n",
    "$P_{opg,st,d,t}$：日付$d$の時刻$t$における稼働時の消費電力[W]  \n",
    "$P_{opg,st,d,t}$：日付$d$の時刻$t$において暖房便座が機能することによる稼働時の消費電力[W]  \n",
    "$P_{opg,wt,d,t}$：日付$d$の時刻$t$において温水洗浄が機能することによる稼働時の消費電力[W]  \n",
    "である。"
   ]
  },
  {
   "cell_type": "code",
   "execution_count": 8,
   "metadata": {
    "collapsed": true
   },
   "outputs": [],
   "source": [
    "def P_opg(Prtd_opg_st, Prtd_opg_wt, seat_heater_type, water_heater_type, seat_heater_switch, theta_toilet_ave):\n",
    "    \"\"\"稼働時の消費電力[W]を計算する\"\"\"\n",
    "    # Prtd_opg_st：便座ヒータの定格消費電力[W]  \n",
    "    # Prtd_opg_wt：洗浄水ヒータの定格消費電力[W]  \n",
    "    # theta_toilet_ave：トイレ空気温度の日平均値[C]  \n",
    "    # seat_heater_type：便座ヒータの加熱方式[非瞬間方式、瞬間方式]  \n",
    "    # water_heater_type：洗浄水ヒータの加熱方式[非瞬間方式、瞬間方式]  \n",
    "    # seat_heater_switch：便座ヒータの電源スイッチ[オフ、オン]  \n",
    "    \n",
    "    if seat_heater_type == HeaterType.NonInst and water_heater_type == HeaterType.NonInst:\n",
    "        P_opg = P_opg_noninst_noninst(Prtd_opg_st, Prtd_opg_wt, seat_heater_switch, theta_toilet_ave)\n",
    "    \n",
    "    elif seat_heater_type == HeaterType.Inst and water_heater_type == HeaterType.NonInst:\n",
    "        P_opg =  P_opg_inst_noninst(Prtd_opg_wt, seat_heater_switch, theta_toilet_ave)\n",
    "        \n",
    "    elif seat_heater_type == HeaterType.NonInst and water_heater_type == HeaterType.Inst:\n",
    "        P_opg =  P_opg_noninst_inst(Prtd_opg_st, Prtd_opg_wt, seat_heater_switch,  theta_toilet_ave)\n",
    "        \n",
    "    elif seat_heater_type == HeaterType.Inst and water_heater_type == HeaterType.Inst:\n",
    "        P_opg = P_opg_inst_inst(Prtd_opg_wt, theta_toilet_ave)\n",
    "            \n",
    "    return P_opg"
   ]
  },
  {
   "cell_type": "markdown",
   "metadata": {},
   "source": [
    "日付$d$の時刻$t$において暖房便座が機能することによる稼働時の消費電力および日付$d$の時刻$t$において温水洗浄が機能することによる稼働時の消費電力は、便座ヒータおよび洗浄水ヒータの加熱方式に応じて以下の式により計算される。"
   ]
  },
  {
   "cell_type": "markdown",
   "metadata": {},
   "source": [
    "* 便座ヒータと洗浄水ヒータの両方の加熱方式が非瞬間方式の場合： \n",
    "    * 暖房便座が機能することによる消費電力： \n",
    "        * 便座ヒータの電源がオフ\n",
    "        $$ \n",
    "        \\begin{equation}\n",
    "            \\displaystyle P_{opg,st,d,t} = 0\n",
    "        \\end{equation}\n",
    "        $$\n",
    "        * 便座ヒータの電源がオン\n",
    "        $$  \n",
    "        \\begin{equation}\n",
    "            \\displaystyle P_{opg,st,d,t} = P_{opg,st,noninst,d,t}\n",
    "        \\end{equation}\n",
    "        $$\n",
    "      \n",
    "    * 温水洗浄が機能することによる消費電力： \n",
    "        $$  \n",
    "        \\begin{equation}\n",
    "            \\displaystyle P_{opg,wt,d,t} = P_{opg,wt,noninst,d,t}\n",
    "        \\end{equation}\n",
    "        $$"
   ]
  },
  {
   "cell_type": "markdown",
   "metadata": {},
   "source": [
    "ここで、  \n",
    "$P_{opg,st,d,t}$：日付$d$の時刻$t$において暖房便座が機能することによる稼働時の消費電力[W]  \n",
    "$P_{opg,st,noninst,d,t}$：便座ヒータの加熱方式が非瞬間式の場合において、日付$d$の時刻$t$において暖房便座が機能することによる稼働時の消費電力[W]   \n",
    "$P_{opg,wt,d,t}$：日付$d$の時刻$t$において温水洗浄が機能することによる稼働時の消費電力[W]  \n",
    "$P_{opg,wt,noninst,d,t}$：洗浄水ヒータの加熱方式が非瞬間式の場合において、日付$d$の時刻$t$において温水洗浄が機能することによる稼働時の消費電力[W]    \n",
    "である。  "
   ]
  },
  {
   "cell_type": "code",
   "execution_count": 9,
   "metadata": {
    "collapsed": true
   },
   "outputs": [],
   "source": [
    "def P_opg_noninst_noninst(Prtd_opg_st, Prtd_opg_wt, seat_heater_switch, theta_toilet_ave):\n",
    "    \"\"\"便座ヒータと洗浄水ヒータの両方の加熱方式が非瞬間方式の場合の稼働時の消費電力を計算する[W]\"\"\"\n",
    "    # Prtd_opg_st：便座ヒータの定格消費電力[W] \n",
    "    # Prtd_opg_wt：洗浄水ヒータの定格消費電力[W]  \n",
    "    # seat_heater_switch：便座ヒータの電源スイッチ[オフ、オン]  \n",
    "    # theta_toilet_ave：トイレ空気温度の日平均値[C]\n",
    "    \n",
    "    # 暖房便座が機能することによる消費電力[W]\n",
    "    if seat_heater_switch == HeaterSwitch.Off:\n",
    "        P_opg_st = 0        \n",
    "    elif seat_heater_switch == HeaterSwitch.On:\n",
    "        P_opg_st = P_opg_st_noninst(Prtd_opg_st, theta_toilet_ave)\n",
    "    \n",
    "    # 温水洗浄が機能することによる消費電力[W]\n",
    "    P_opg_wt = P_opg_wt_noninst(Prtd_opg_wt, theta_toilet_ave) \n",
    "    \n",
    "    return P_opg_st + P_opg_wt"
   ]
  },
  {
   "cell_type": "markdown",
   "metadata": {},
   "source": [
    "* 便座ヒータの加熱方式が瞬間方式＋洗浄水ヒータの加熱方式が非瞬間方式の場合：  \n",
    "    * 暖房便座が機能することによる消費電力：\n",
    "        * 便座ヒータの電源がオフ\n",
    "        $$  \n",
    "        \\begin{equation}\n",
    "            \\displaystyle P_{opg,st,d,t} = 0\n",
    "        \\end{equation}\n",
    "        $$\n",
    "        * 便座ヒータの電源がオン\n",
    "        $$  \n",
    "        \\begin{equation}\n",
    "            \\displaystyle P_{opg,st,d,t} = P_{opg,st,inst,d,t}\n",
    "        \\end{equation}\n",
    "        $$\n",
    "        \n",
    "    * 温水洗浄が機能することによる消費電力： \n",
    "    $$ \n",
    "    \\begin{equation}\n",
    "        \\displaystyle P_{opg,wt,d,t} =  P_{opg,wt,noninst,d,t}\n",
    "    \\end{equation}\n",
    "    $$"
   ]
  },
  {
   "cell_type": "markdown",
   "metadata": {},
   "source": [
    "ここで、  \n",
    "$P_{opg,st,d,t}$：日付$d$の時刻$t$において暖房便座が機能することによる稼働時の消費電力[W]  \n",
    "$P_{opg,st,inst,d,t}$：便座ヒータの加熱方式が瞬間式、洗浄水ヒータの加熱方式が非瞬間式の場合において、日付$d$の時刻$t$において暖房便座が機能することによる稼働時の消費電力[W]    \n",
    "$P_{opg,wt,d,t}$：日付$d$の時刻$t$において温水洗浄が機能する場合の稼働時の消費電力[W]  \n",
    "$P_{opg,wt,noninst,d,t}$：洗浄水ヒータの加熱方式が非瞬間式の場合において、日付$d$の時刻$t$において温水洗浄が機能することによる稼働時の消費電力[W]    \n",
    "である。  "
   ]
  },
  {
   "cell_type": "code",
   "execution_count": 10,
   "metadata": {
    "collapsed": true
   },
   "outputs": [],
   "source": [
    "def P_opg_inst_noninst(Prtd_opg_wt, seat_heater_switch, theta_toilet_ave):\n",
    "    \"\"\"便座ヒータの加熱方式が瞬間方式＋洗浄水ヒータの加熱方式が非瞬間方式の場合の稼働時の消費電力を計算する[W]\"\"\"\n",
    "    # Prtd_opg_wt：洗浄水ヒータの定格消費電力[W]  \n",
    "    # seat_heater_switch：便座ヒータの電源スイッチ[オフ、オン]  \n",
    "    # theta_toilet_ave：トイレ空気温度の日平均値[C]\n",
    "    \n",
    "    # 暖房便座が機能することによる消費電力[W]\n",
    "    if seat_heater_switch == HeaterSwitch.Off:\n",
    "        P_opg_st = 0      \n",
    "    elif seat_heater_switch == HeaterSwitch.On:\n",
    "        P_opg_st = P_opg_st_inst(theta_toilet_ave) \n",
    "    \n",
    "    # 温水洗浄が機能することによる消費電力[W]\n",
    "    P_opg_wt = P_opg_wt_noninst(Prtd_opg_wt, theta_toilet_ave)\n",
    "\n",
    "    return P_opg_st + P_opg_wt"
   ]
  },
  {
   "cell_type": "markdown",
   "metadata": {},
   "source": [
    "* 便座ヒータの加熱方式が非瞬間方式＋洗浄水ヒータの加熱方式が瞬間方式の場合：  \n",
    "    * 暖房便座が機能することによる消費電力：\n",
    "        * 便座ヒータの電源がオフ：\n",
    "        $$  \n",
    "        \\begin{equation}\n",
    "            \\displaystyle P_{opg,st,d,t} = 0\n",
    "        \\end{equation}\n",
    "        $$\n",
    "        * 便座ヒータの電源がオン：\n",
    "        $$  \n",
    "        \\begin{equation}\n",
    "            \\displaystyle P_{opg,st,d,t} = P_{opg,st,noninst,d,t}\n",
    "        \\end{equation}\n",
    "        $$\n",
    "        \n",
    "    * 温水洗浄が機能することによる消費電力：\n",
    "    $$ \n",
    "    \\begin{equation}\n",
    "        \\displaystyle P_{opg,wt,d,t} =  P_{opg,wt,inst,d,t}\n",
    "    \\end{equation}\n",
    "    $$"
   ]
  },
  {
   "cell_type": "markdown",
   "metadata": {},
   "source": [
    "ここで、  \n",
    "$P_{opg,st,d,t}$：日付$d$の時刻$t$において暖房便座が機能することによる稼働時の消費電力[W]  \n",
    "$P_{opg,st,noninst,d,t}$：便座ヒータの加熱方式が非瞬間式の場合において、日付$d$の時刻$t$において暖房便座が機能することによる稼働時の消費電力[W]    \n",
    "$P_{opg,wt,d,t}$：日付$d$の時刻$t$において温水洗浄が機能することによる稼働時の消費電力[W]  \n",
    "$P_{opg,wt,inst,d,t}$：便座ヒータの加熱方式が非瞬間式、洗浄水ヒータの加熱方式が瞬間式の場合において、日付$d$の時刻$t$において温水洗浄が機能することによる稼働時の消費電力[W]   \n",
    "である。  "
   ]
  },
  {
   "cell_type": "code",
   "execution_count": 11,
   "metadata": {
    "collapsed": true
   },
   "outputs": [],
   "source": [
    "def P_opg_noninst_inst(Prtd_opg_st, Prtd_opg_wt, seat_heater_switch, theta_toilet_ave):\n",
    "    \"\"\"便座ヒータの加熱方式が非瞬間方式＋洗浄水ヒータの加熱方式が瞬間方式の場合の稼働時の消費電力を計算する[W]\"\"\"\n",
    "    # Prtd_opg_st：便座ヒータの定格消費電力[W] \n",
    "    # Prtd_opg_wt：洗浄水ヒータの定格消費電力[W]  \n",
    "    # seat_heater_switch：便座ヒータの電源スイッチ[オフ、オン]   \n",
    "    # theta_toilet_ave：トイレ空気温度の日平均値[C]\n",
    "            \n",
    "    # 暖房便座が機能することによる消費電力[W]\n",
    "    if seat_heater_switch == HeaterSwitch.Off:\n",
    "        P_opg_st = 0      \n",
    "    elif seat_heater_switch == HeaterSwitch.On:\n",
    "        P_opg_st =P_opg_st_noninst(Prtd_opg_st, theta_toilet_ave)\n",
    "    \n",
    "    # 温水洗浄が機能することによる消費電力[W]\n",
    "    P_opg_wt = P_opg_wt_inst(Prtd_opg_wt, theta_toilet_ave)\n",
    "\n",
    "    \n",
    "    return P_opg_st + P_opg_wt"
   ]
  },
  {
   "cell_type": "markdown",
   "metadata": {},
   "source": [
    "* 便座ヒータと洗浄水ヒータの両方の加熱方式が瞬間方式の場合（便座ヒータのオフは考慮しない）：  \n",
    "    * 暖房便座が機能することによる稼働時の消費電力と温水洗浄が機能することによる稼働時の消費電力との合計：\n",
    "    $$  \n",
    "    \\begin{equation}\n",
    "        \\displaystyle P_{opg,st,d,t} + P_{opg,wt,d,t} = P_{opg,sw,inst,d,t}\n",
    "    \\end{equation}\n",
    "    $$"
   ]
  },
  {
   "cell_type": "markdown",
   "metadata": {},
   "source": [
    "ここで、  \n",
    "$P_{opg,st,d,t}$：日付$d$の時刻$t$において暖房便座が機能することによる稼働時の消費電力[W]  \n",
    "$P_{opg,sw,inst,d,t}$：便座ヒータと洗浄水ヒータの両方の加熱方式が瞬間式で、日付$d$の時刻$t$において暖房便座が機能することによる稼働時の消費電力と温水洗浄が機能することによる稼働時の消費電力との合計[W]  \n",
    "$P_{opg,wt,d,t}$：日付$d$の時刻$t$において温水洗浄が機能することによる稼働時の消費電力[W]  \n",
    "である。  "
   ]
  },
  {
   "cell_type": "code",
   "execution_count": 12,
   "metadata": {
    "collapsed": true
   },
   "outputs": [],
   "source": [
    "def P_opg_inst_inst(Prtd_opg_wt, theta_toilet_ave):\n",
    "    \"\"\"便座ヒータと洗浄水ヒータの両方の加熱方式が瞬間方式の場合の稼働時の消費電力を計算する[W]\"\"\"\n",
    "    # Prtd_opg_wt：洗浄水ヒータの定格消費電力[W]  \n",
    "    # theta_toilet_ave：トイレ空気温度の日平均値[C]\n",
    "            \n",
    "    P_opg_sw = P_opg_wt_inst(Prtd_opg_wt, theta_toilet_ave)\n",
    "    \n",
    "    return P_opg_sw"
   ]
  },
  {
   "cell_type": "markdown",
   "metadata": {},
   "source": [
    "暖房便座が機能することによる稼働時の消費電力および温水洗浄が機能することによる稼働時の消費電力は、便座ヒータおよび洗浄水ヒータの加熱方式およびヒータ電源の状態に応じて以下の式により計算される。ただし、計算値がマイナスの場合は消費電力はゼロとする。"
   ]
  },
  {
   "cell_type": "markdown",
   "metadata": {},
   "source": [
    "なお、計算式から求まる消費電力は、厳密には平均消費電力であり、瞬時の消費電力ではない。"
   ]
  },
  {
   "cell_type": "markdown",
   "metadata": {},
   "source": [
    "* 便座ヒータの加熱方式が非瞬間式の場合において、暖房便座が機能することによる稼働時の消費電力：\n",
    "\n",
    "    * 便座ヒータの定格消費電力 $P_{rtd,opg,st} \\leq 45 $ の場合：  \n",
    "    $$ \n",
    "    \\begin{equation}\n",
    "        \\displaystyle P_{opg,st,noninst,d,t} = max \\left( 0.0, \\left( -0.0201 \\times \\theta_{toilte,ave,d} + 0.9224 \\times \\left( \\frac{P_{rtd,opg,st}}{45} \\right)\\right) \\times 1000 \\bigg/ 24 \\right)\n",
    "    \\end{equation}\n",
    "    $$\n",
    "　　\n",
    "    * $45 <$ 便座ヒータの定格消費電力 $P_{rtd,opg,st} < 50 $ の場合：  \n",
    "    $$ \n",
    "    \\begin{equation}\n",
    "        \\displaystyle P_{opg,st,noninst,d,t} = max \\left( 0.0, \\left( -0.0201 \\times \\theta_{toilet,ave,d} -5.25 \\times 10^{-4} \\times \\left( P_{rtd,opg,st}-45 \\right) + 0.923 + 0.0157 \\times \\left( P_{rtd,opg,st} - 45 \\right) \\right) \\times 1000 \\bigg/ 24 \\right)\n",
    "    \\end{equation}\n",
    "    $$\n",
    "　　\n",
    "    * $50 \\leq$ 便座ヒータの定格消費電力 $P_{rtd,opg,st} $ の場合：\n",
    "    $$ \n",
    "    \\begin{equation}\n",
    "        \\displaystyle P_{opg,st,noninst,d,t} = max \\left( 0.0, \\left( -0.023 \\times \\theta_{toilte,ave,d} + 1.0042 \\times \\left( \\frac{P_{rtd,opg,st}}{50} \\right)\\right) \\times 1000 \\bigg/ 24 \\right)\n",
    "    \\end{equation}\n",
    "    $$  "
   ]
  },
  {
   "cell_type": "markdown",
   "metadata": {},
   "source": [
    "ここで、  \n",
    "$P_{opg,st,noninst,d,t}$：便座ヒータの加熱方式が非瞬間式の場合において、日付$d$の時刻$t$において暖房便座が機能することによる稼働時の消費電力[W]   \n",
    "$P_{rtd,opg,st}$：便座ヒータの定格消費電力[W]  \n",
    "$\\theta_{toilet,ave,d}$：日付$d$におけるトイレ空気温度の日平均値[℃]  \n",
    "である。"
   ]
  },
  {
   "cell_type": "code",
   "execution_count": 13,
   "metadata": {
    "collapsed": true
   },
   "outputs": [],
   "source": [
    "def P_opg_st_noninst(Prtd_opg_st, theta_toilet_ave):\n",
    "    \"\"\"便座ヒータの加熱方式が非瞬間式の場合において\n",
    "    　 暖房便座が機能することによる稼働時の消費電力を計算する[W]\"\"\"\n",
    "    # Prtd_opg_st：便座ヒータの定格消費電力[W] \n",
    "    # theta_toilet_ave：トイレ空気温度の日平均値[C]\n",
    "            \n",
    "    if Prtd_opg_st <= 45:\n",
    "        P = max(0.0, (-0.0201 * theta_toilet_ave + 0.9224 * (Prtd_opg_st / 45)) *1000 / 24)\n",
    "    elif 45 < Prtd_opg_st and  Prtd_opg_st < 50:\n",
    "        P = max(0.0, (-0.0201 * theta_toilet_ave -5.25 * (10**-4) * (Prtd_opg_st - 45) + 0.923 + 0.0157 * (Prtd_opg_st - 45)) *1000 / 24)\n",
    "    elif 50 <= Prtd_opg_st:\n",
    "        P = max(0.0, (-0.023 * theta_toilet_ave + 1.0042 * (Prtd_opg_st / 50)) *1000 / 24)\n",
    "    \n",
    "    return P"
   ]
  },
  {
   "cell_type": "code",
   "execution_count": 14,
   "metadata": {
    "collapsed": true
   },
   "outputs": [],
   "source": [
    "def show_result(x_value, y_value, category_value, category_label, x_label, x_lower, x_upper, y_label, y_lower, y_upper):\n",
    "    \"\"\"算定式による計算結果を散布図で表示する\"\"\"\n",
    "    # x_value：x軸の値\n",
    "    # y_value：y軸の値\n",
    "    # category_value：カテゴリーの値\n",
    "    # category_label：カテゴリーのラベル\n",
    "    # x_label：x軸のラベル\n",
    "    # x_lower：x軸の表示の下限\n",
    "    # x_ upper：x軸の表示の上限\n",
    "    # y_label：y軸のラベル\n",
    "    # y_lower：y軸の表示の下限\n",
    "    # y_ upper：y軸の表示の上限\n",
    "    \n",
    "    # 日本語フォント\n",
    "    fp = FontProperties(fname='C:\\WINDOWS\\Fonts\\msgothic.ttc', size = 12)\n",
    "    \n",
    "    # figureの作成\n",
    "    plt.figure(figsize=(3, 3), dpi=80)\n",
    "    \n",
    "    # サブプロットの作成\n",
    "    plt.subplot2grid((1, 1), (0, 0))\n",
    "    \n",
    "    # x軸、y軸の値\n",
    "    if len(category_value) > 0:\n",
    "        for i in range(0, len(category_value)):\n",
    "            x = x_value\n",
    "            y = y_value[i]\n",
    "            plt.plot(x, y, label = category_label + '=' + str(int(category_value[i][0])))\n",
    "    else:\n",
    "        x = x_value\n",
    "        y = y_value\n",
    "        plt.plot(x, y, label = category_label + '=any')\n",
    "\n",
    "    # 凡例\n",
    "    plt.legend(loc='center left', bbox_to_anchor=(1, 0.5), borderaxespad=0.5, frameon=True)\n",
    "\n",
    "    # 軸の設定\n",
    "    ax=plt.gca()\n",
    "    # x軸\n",
    "    # タイトル\n",
    "    ax.set_xlabel(x_label, fontdict={'fontproperties':fp})\n",
    "    # 表示の上限・下限\n",
    "    ax.set_xbound(lower=x_lower, upper=x_upper)\n",
    "    # ラベルの書式\n",
    "    ax.xaxis.set_major_formatter(plt.FormatStrFormatter('%.0f'))\n",
    "    # y軸\n",
    "    # タイトル\n",
    "    ax.set_ylabel( y_label, fontdict={'fontproperties':fp})\n",
    "    # 表示の上限・下限\n",
    "    ax.set_ybound(lower=y_lower, upper=y_upper)\n",
    "    # ラベルの書式\n",
    "    ax.yaxis.set_major_formatter(plt.FormatStrFormatter('%.0f'))\n",
    "\n",
    "    # メモリ線の表示\n",
    "    plt.grid()\n",
    "    \n",
    "    # グラフの表示\n",
    "    plt.show()"
   ]
  },
  {
   "cell_type": "code",
   "execution_count": 15,
   "metadata": {},
   "outputs": [
    {
     "data": {
      "image/png": "[encoded data removed]",
      "text/plain": [
       "<matplotlib.figure.Figure at 0x8fc3397f60>"
      ]
     },
     "metadata": {},
     "output_type": "display_data"
    }
   ],
   "source": [
    "# 定格消費電力（確認用）の配列[W]\n",
    "check_Prtd = np.array([[35],[45],[47],[50],[60]])\n",
    "\n",
    "# トイレ空気温度（確認用）の配列[℃]\n",
    "check_theta = np.array([])\n",
    "for i in range(-10, 45, 1): \n",
    "    check_theta = np.hstack((check_theta, np.array([i])))\n",
    "\n",
    "# 算定式による計算 \n",
    "check_P = np.vectorize(P_opg_st_noninst)(check_Prtd, check_theta)\n",
    "\n",
    "# 算定式による計算結果を散布図で表示\n",
    "show_result(check_theta, check_P, check_Prtd, 'Prtd',  'トイレ空気温度の日平均値[℃]', -10, 40, '消費電力[W]', 0, 100)"
   ]
  },
  {
   "cell_type": "markdown",
   "metadata": {},
   "source": [
    "* 洗浄水ヒータの加熱方式が非瞬間式の場合において、温水洗浄が機能することによる稼働時の消費電力：\n",
    "\n",
    "$$ \n",
    "\\begin{equation}\n",
    "    \\displaystyle P_{opg,wt,noninst,d,t} = max \\left( 0.0, \\left( -0.0144 \\times \\theta_{toilet,ave,d} + 0.5121 \\times \\left( \\frac{P_{rtd,opg,wt}}{500} \\right) \\right) \\times 1000 \\bigg/ 24 \\right)\n",
    "\\end{equation}\n",
    "$$\n"
   ]
  },
  {
   "cell_type": "markdown",
   "metadata": {},
   "source": [
    "ここで、  \n",
    "$P_{opg,wt,inst,d,t}$：洗浄水ヒータの加熱方式が非瞬間式の場合において、日付$d$の時刻$t$において温水洗浄が機能することによる稼働時の消費電力[W]  \n",
    "$P_{rtd,opg,wt}$：洗浄水ヒータの定格消費電力[W]  \n",
    "$\\theta_{toilet,ave}$：日付$d$におけるトイレ空気温度の日平均値[℃]  \n",
    "である。"
   ]
  },
  {
   "cell_type": "code",
   "execution_count": 16,
   "metadata": {
    "collapsed": true
   },
   "outputs": [],
   "source": [
    "def P_opg_wt_noninst(Prtd_opg_wt, theta_toilet_ave):\n",
    "    \"\"\"洗浄水ヒータの加熱方式が非瞬間式の場合において\n",
    "    　 温水洗浄が機能することによる稼働時の消費電力を計算する[W]\"\"\"\n",
    "    # Prtd_opg_ht：洗浄水ヒータの定格消費電力[W]  \n",
    "    # theta_toilet_ave：トイレ空気温度の日平均値[C]\n",
    "    \n",
    "    P = max (0.0, (-0.0144 * theta_toilet_ave + 0.5121 * (Prtd_opg_wt / 500)) * 1000 / 24)\n",
    "    \n",
    "    return P"
   ]
  },
  {
   "cell_type": "code",
   "execution_count": 17,
   "metadata": {
    "scrolled": true
   },
   "outputs": [
    {
     "data": {
      "image/png": "[encoded data removed]",
      "text/plain": [
       "<matplotlib.figure.Figure at 0x8fc38140b8>"
      ]
     },
     "metadata": {},
     "output_type": "display_data"
    }
   ],
   "source": [
    "# 定格消費電力（確認用）の配列[W]\n",
    "check_Prtd_h = np.array([])\n",
    "for i in range(0, 1500, 500): \n",
    "    check_Prtd_h = np.hstack((check_Prtd_h, np.array([i])))\n",
    "check_Prtd = check_Prtd_h.reshape([len(check_Prtd_h), 1])\n",
    "\n",
    "# トイレ空気温度（確認用）の配列[℃]\n",
    "check_theta = np.array([])\n",
    "for i in range(-10, 45, 1): \n",
    "    check_theta = np.hstack((check_theta, np.array([i])))\n",
    "\n",
    "# 算定式による計算 \n",
    "check_P = np.vectorize(P_opg_wt_noninst)(check_Prtd, check_theta)\n",
    "\n",
    "# 算定式による計算結果を散布図で表示\n",
    "show_result(check_theta, check_P, check_Prtd, 'Prtd', 'トイレ空気温度の日平均値[℃]', -10, 40, '消費電力[W]', 0, 100)"
   ]
  },
  {
   "cell_type": "markdown",
   "metadata": {},
   "source": [
    "* 便座ヒータの加熱方式が瞬間式、洗浄水ヒータの加熱方式が非瞬間式の場合において、暖房便座が機能することによる稼働時の消費電力：\n",
    "\n",
    "$$ \n",
    "\\begin{equation}\n",
    "    \\displaystyle P_{opg,st,d,t} = max \\left(0.0, -0.195 \\times \\theta_{toilet,ave,d} + 8.313 \\right)\n",
    "\\end{equation}\n",
    "$$"
   ]
  },
  {
   "cell_type": "markdown",
   "metadata": {},
   "source": [
    "ここで、  \n",
    "$P_{opg,st,inst,d,t}$：便座ヒータの加熱方式が瞬間式、洗浄水ヒータの加熱方式が非瞬間式の場合において、日付$d$の時刻$t$において暖房便座が機能することによる稼働時の消費電力[W]  \n",
    "$\\theta_{toilet,ave,d}$：日付$d$におけるトイレ空気温度の日平均値[℃]  \n",
    "である。"
   ]
  },
  {
   "cell_type": "code",
   "execution_count": 18,
   "metadata": {
    "collapsed": true
   },
   "outputs": [],
   "source": [
    "def P_opg_st_inst(theta_toilet_ave):\n",
    "    \"\"\"便座ヒータの加熱方式が瞬間式、洗浄水ヒータの加熱方式が非瞬間式の場合において、\n",
    "    　 暖房便座が機能することによる稼働時の消費電力を計算する[W]\"\"\"\n",
    "    # theta_toilet_ave：トイレ空気温度の日平均値[C]  \n",
    "    \n",
    "    P = max(0.0, -0.195 * theta_toilet_ave + 8.313)\n",
    "    \n",
    "    return P"
   ]
  },
  {
   "cell_type": "code",
   "execution_count": 19,
   "metadata": {
    "scrolled": true
   },
   "outputs": [
    {
     "data": {
      "image/png": "[encoded data removed]",
      "text/plain": [
       "<matplotlib.figure.Figure at 0x8fc38c2a90>"
      ]
     },
     "metadata": {},
     "output_type": "display_data"
    }
   ],
   "source": [
    "# 定格消費電力（確認用）の配列[W]\n",
    "check_Prtd = np.array([])\n",
    "\n",
    "# トイレ空気温度（確認用）の配列[℃]\n",
    "check_theta = np.array([])\n",
    "for i in range(-10, 45, 1): \n",
    "    check_theta = np.hstack((check_theta, np.array([i])))\n",
    "\n",
    "# 算定式による計算 \n",
    "check_P = np.vectorize(P_opg_st_inst)(check_theta)\n",
    "\n",
    "# 算定式による計算結果を散布図で表示\n",
    "show_result(check_theta, check_P, check_Prtd, 'Prtd', 'トイレ空気温度の日平均値[℃]', -10, 40, '消費電力[W]', 0, 100)"
   ]
  },
  {
   "cell_type": "markdown",
   "metadata": {},
   "source": [
    "* 便座ヒータの加熱方式が非瞬間式、洗浄水ヒータの加熱方式が瞬間式の場合において、温水洗浄が機能することによる稼働時の消費電力：\n",
    "\n",
    "$$\n",
    "\\begin{equation}\n",
    "    \\displaystyle P_{opg,wt,inst,d,t} =  max \\left(0.0, \\left(-1.274 \\times 10^{-6} \\times \\theta_{toilet,ave,d} \\times P_{rtd,opg,wt} + 0.0357 \\times 10^{-3} \\times P_{rtd,opg,wt} \\right) \\times 1000 \\bigg/ 24 \\right)\n",
    "\\end{equation}\n",
    "$$"
   ]
  },
  {
   "cell_type": "markdown",
   "metadata": {},
   "source": [
    "ここで、  \n",
    "$P_{opg,wt,inst,d,t}$：便座ヒータの加熱方式、洗浄水ヒータの加熱方式が瞬間式の場合において、日付$d$の時刻$t$において温水洗浄が機能することによる稼働時の消費電力[W]  \n",
    "$P_{rtd,opg,wt}$：洗浄水ヒータの定格消費電力[W]  \n",
    "$\\theta_{toilet,ave,d}$：日付$d$におけるトイレ空気温度の日平均値[℃]  \n",
    "である。"
   ]
  },
  {
   "cell_type": "code",
   "execution_count": 20,
   "metadata": {
    "collapsed": true
   },
   "outputs": [],
   "source": [
    "def P_opg_wt_inst(Prtd_opg_wt, theta_toilet_ave):\n",
    "    \"\"\"便座ヒータの加熱方式が非瞬間式、洗浄水ヒータの加熱方式が瞬間式の場合において\n",
    "    　 温水洗浄が機能することによる稼働時の消費電力を計算する[W]\"\"\"\n",
    "    # Prtd_opg_wt：洗浄水ヒータの定格消費電力[W]  \n",
    "    # theta_toilet_ave：トイレ空気温度の日平均値[C]\n",
    "    \n",
    "    P = max(0.0, (-1.274 * 10**-6 * theta_toilet_ave * Prtd_opg_wt + 0.0357 * 10**-3 * Prtd_opg_wt) * 1000 / 24)\n",
    "    \n",
    "    return P"
   ]
  },
  {
   "cell_type": "code",
   "execution_count": 21,
   "metadata": {
    "scrolled": false
   },
   "outputs": [
    {
     "data": {
      "image/png": "[encoded data removed]",
      "text/plain": [
       "<matplotlib.figure.Figure at 0x8fc38a1710>"
      ]
     },
     "metadata": {},
     "output_type": "display_data"
    }
   ],
   "source": [
    "# 定格消費電力（確認用）の配列[W]\n",
    "check_Prtd_h = np.array([])\n",
    "for i in range(0, 1500, 500): \n",
    "    check_Prtd_h = np.hstack((check_Prtd_h, np.array([i])))\n",
    "check_Prtd = check_Prtd_h.reshape([len(check_Prtd_h), 1])\n",
    "\n",
    "# トイレ空気温度（確認用）の配列[℃]\n",
    "check_theta = np.array([])\n",
    "for i in range(-10, 45, 1): \n",
    "    check_theta = np.hstack((check_theta, np.array([i])))\n",
    "\n",
    "# 算定式による計算 \n",
    "check_P = np.vectorize(P_opg_wt_inst)(check_Prtd, check_theta)\n",
    "\n",
    "# 算定式による計算結果を散布図で表示\n",
    "show_result(check_theta, check_P, check_Prtd, 'Prtd', 'トイレ空気温度の日平均値[℃]', -10, 40, '消費電力[W]', 0, 10)"
   ]
  },
  {
   "cell_type": "markdown",
   "metadata": {},
   "source": [
    "* 便座ヒータと洗浄水ヒータの両方の加熱方式が瞬間式の場合において、暖房便座が機能することによる稼働時の消費電力量と温水洗浄が機能することによる稼働時の消費電力との合計：\n",
    "\n",
    "$$ \n",
    "\\begin{equation}\n",
    "    \\displaystyle P_{opg,sw,inst,d,t} = max \\left( 0.0, \\left( -0.195 \\times \\theta_{toilet,ave,d} + 8.313 \\right) \\bigg/ \\frac{5}{60} \\right)\n",
    "\\end{equation}\n",
    "$$"
   ]
  },
  {
   "cell_type": "markdown",
   "metadata": {},
   "source": [
    "ここで、  \n",
    "$P_{opg,sw,inst,d,t}$：便座ヒータと洗浄水ヒータの両方の加熱方式が瞬間式で、日付$d$の時刻$t$において暖房便座が機能することによる稼働時の消費電力と温水洗浄が機能することによる稼働時の消費電力との合計[W]   \n",
    "$\\theta_{toilet,ave,d}$：日付$d$におけるトイレ空気温度の日平均値[℃]  \n",
    "である。"
   ]
  },
  {
   "cell_type": "code",
   "execution_count": 22,
   "metadata": {
    "collapsed": true
   },
   "outputs": [],
   "source": [
    "def P_opg_sw_inst(theta_toilet_ave):\n",
    "    \"\"\"便座ヒータと洗浄水ヒータの両方の加熱方式が瞬間式で、\n",
    "    　 暖房便座が機能することによる稼働時の消費電力量と温水洗浄が機能することによる稼働時の消費電力との合計を計算する[W]\"\"\"\n",
    "    # theta_toilet_ave：トイレ空気温度の日平均値[C]\n",
    "    \n",
    "    P = max(0.0, (-0.195 * theta_toilet_ave + 8.313) / (5 / 60))\n",
    "    \n",
    "    return P"
   ]
  },
  {
   "cell_type": "code",
   "execution_count": 23,
   "metadata": {
    "scrolled": false
   },
   "outputs": [
    {
     "data": {
      "image/png": "[encoded data removed]",
      "text/plain": [
       "<matplotlib.figure.Figure at 0x8fc3458470>"
      ]
     },
     "metadata": {},
     "output_type": "display_data"
    }
   ],
   "source": [
    "# 定格消費電力（確認用）の配列[W]\n",
    "check_Prtd = np.array([])\n",
    "\n",
    "# トイレ空気温度（確認用）の配列[℃]\n",
    "check_theta = np.array([])\n",
    "for i in range(-10, 45, 1): \n",
    "    check_theta = np.hstack((check_theta, np.array([i])))\n",
    "\n",
    "# 算定式による計算 \n",
    "check_P = np.vectorize(P_opg_sw_inst)(check_theta)\n",
    "\n",
    "# 算定式による計算結果を散布図で表示\n",
    "show_result(check_theta, check_P, check_Prtd, 'Prtd', 'トイレ空気温度の日平均値[℃]', -10, 40, '消費電力[W]', 0, 160)"
   ]
  },
  {
   "cell_type": "markdown",
   "metadata": {},
   "source": [
    "### 7.5　待機時の消費電力"
   ]
  },
  {
   "cell_type": "markdown",
   "metadata": {},
   "source": [
    "日付$d$の時刻$t$における待機時の消費電力は、暖房便座が機能することによる消費電力と温水洗浄が機能することによる消費電力の合計であり、以下の式により計算される。"
   ]
  },
  {
   "cell_type": "markdown",
   "metadata": {},
   "source": [
    "* AC電源接続下での待機時の消費電力量：  \n",
    "$$ \n",
    "\\begin{equation}\n",
    "    P_{sby,d,t} = P_{sby,st,d,t} + P_{sby,wt,d,t}\n",
    "\\end{equation}\n",
    "$$"
   ]
  },
  {
   "cell_type": "markdown",
   "metadata": {},
   "source": [
    "ここで、  \n",
    "$P_{sby,st,d,t}$：日付$d$の時刻$t$における待機時の消費電力[W]  \n",
    "$P_{sby,st,d,t}$：日付$d$の時刻$t$において暖房便座が機能することによる待機時の消費電力[W]  \n",
    "$P_{sby,wt,d,t}$：日付$d$の時刻$t$において温水洗浄が機能することによる待機時の消費電力[W]  \n",
    "である。"
   ]
  },
  {
   "cell_type": "code",
   "execution_count": 24,
   "metadata": {
    "collapsed": true
   },
   "outputs": [],
   "source": [
    "def P_sby(Prtd_opg_st, Prtd_opg_wt, seat_heater_type, water_heater_type, seat_heater_switch, theta_toilet_ave):\n",
    "    \"\"\"待機時の消費電力[W]を計算する\"\"\"\n",
    "    # Prtd_opg_st：便座ヒータの定格消費電力[W]  \n",
    "    # Prtd_opg_ht：洗浄水ヒータの定格消費電力[W]  \n",
    "    # seat_heater_type：便座ヒータの加熱方式[非瞬間方式、瞬間方式]  \n",
    "    # water_heater_type：洗浄水ヒータの加熱方式[非瞬間方式、瞬間方式]  \n",
    "    # seat_heater_switch：便座ヒータの電源スイッチ[オフ、オン]  \n",
    "    # theta_toilet_ave：トイレ空気温度の日平均値[C]  \n",
    "    \n",
    "    if seat_heater_type == HeaterType.NonInst and water_heater_type == HeaterType.NonInst:\n",
    "        P_sby =  P_sby_noninst_noninst(Prtd_opg_st, Prtd_opg_wt, seat_heater_switch, theta_toilet_ave)\n",
    "    \n",
    "    elif seat_heater_type == HeaterType.Inst and water_heater_type == HeaterType.NonInst:\n",
    "        P_sby = P_sby_inst_noninst(Prtd_opg_wt, seat_heater_switch, theta_toilet_ave)\n",
    "    \n",
    "    elif seat_heater_type == HeaterType.NonInst and water_heater_type == HeaterType.Inst:\n",
    "        P_sby = P_sby_noninst_inst(Prtd_opg_st, Prtd_opg_wt, seat_heater_switch, theta_toilet_ave)\n",
    "    \n",
    "    elif seat_heater_type == HeaterType.Inst and water_heater_type == HeaterType.Inst:\n",
    "        P_sby = P_sby_inst_inst(Prtd_opg_wt, theta_toilet_ave)\n",
    "            \n",
    "    return P_sby"
   ]
  },
  {
   "cell_type": "markdown",
   "metadata": {},
   "source": [
    "日付$d$の時刻$t$において暖房便座が機能することによる待機時の消費電力および日付$d$の時刻$t$において温水洗浄が機能することによる待機時の消費電力は、便座ヒータおよび洗浄水ヒータの加熱方式に応じて以下の式により計算される。"
   ]
  },
  {
   "cell_type": "markdown",
   "metadata": {},
   "source": [
    "* 便座ヒータと洗浄水ヒータの両方の加熱方式が非瞬間方式の場合：  \n",
    "    * 暖房便座が機能することによる消費電力： \n",
    "        * 便座ヒータの電源がオフ：\n",
    "        $$  \n",
    "        \\begin{equation}\n",
    "            \\displaystyle P_{sby,st,d,t} = 0\n",
    "        \\end{equation}\n",
    "        $$\n",
    "        * 便座ヒータの電源がオン：\n",
    "        $$  \n",
    "        \\begin{equation}\n",
    "            \\displaystyle P_{sby,st,d,t} = P_{sby,st,noninst,d,t}\n",
    "        \\end{equation}\n",
    "        $$\n",
    "        \n",
    "    * 温水洗浄が機能することによる消費電力：\n",
    "    $$ \n",
    "    \\begin{equation}\n",
    "        \\displaystyle P_{sby,wt,d,t} =  P_{sby,wt,noninst,d,t}\n",
    "    \\end{equation}\n",
    "    $$"
   ]
  },
  {
   "cell_type": "markdown",
   "metadata": {},
   "source": [
    "ここで、  \n",
    "$P_{sby,st,d,t}$：日付$d$の時刻$t$において暖房便座が機能することによる待機時の消費電力[W]  \n",
    "$P_{sby,st,noninst,d,t}$：便座ヒータの加熱方式が非瞬間式の場合において、日付$d$の時刻$t$において暖房便座が機能することによる待機時の消費電力[W]   \n",
    "$P_{sby,wt,d,t}$：日付$d$の時刻$t$において温水洗浄が機能することによる待機時の消費電力[W]  \n",
    "$P_{sby,wt,noninst,d,t}$：洗浄水ヒータの加熱方式が非瞬間式の場合において、日付$d$の時刻$t$において温水洗浄が機能することによる待機時の消費電力[W]    \n",
    "である。  "
   ]
  },
  {
   "cell_type": "code",
   "execution_count": 25,
   "metadata": {
    "collapsed": true
   },
   "outputs": [],
   "source": [
    "def P_sby_noninst_noninst(Prtd_opg_st, Prtd_opg_wt, seat_heater_switch, theta_toilet_ave):\n",
    "    \"\"\"便座ヒータと洗浄水ヒータの両方の加熱方式が非瞬間方式の場合の待機時の消費電力を計算する[W]\"\"\"\n",
    "    # Prtd_opg_st：便座ヒータの定格消費電力[W] \n",
    "    # Prtd_opg_wt：洗浄水ヒータの定格消費電力[W]  \n",
    "    # seat_heater_switch：便座ヒータの電源スイッチ[オフ、オン]   \n",
    "    # theta_toilet_ave：トイレ空気温度の日平均値[C]\n",
    "    \n",
    "    # 暖房便座が機能することによる消費電力[W]\n",
    "    if seat_heater_switch == HeaterSwitch.Off:\n",
    "        P_sby_st = 0       \n",
    "    elif seat_heater_switch == HeaterSwitch.On:\n",
    "        P_sby_st = P_sby_st_noninst(Prtd_opg_st, theta_toilet_ave)\n",
    "   \n",
    "    # 温水洗浄が機能することによる消費電力[W]\n",
    "    P_sby_wt = P_sby_wt_noninst(Prtd_opg_wt, theta_toilet_ave) \n",
    "    \n",
    "    return P_sby_st + P_sby_wt"
   ]
  },
  {
   "cell_type": "markdown",
   "metadata": {},
   "source": [
    "* 便座ヒータの加熱方式が瞬間方式＋洗浄水ヒータの加熱方式が非瞬間方式の場合：  \n",
    "    * 暖房便座が機能することによる消費電力：  \n",
    "        * 便座ヒータの電源がオフ：\n",
    "        $$  \n",
    "        \\begin{equation}\n",
    "            \\displaystyle P_{sby,st,d,t} = 0\n",
    "        \\end{equation}\n",
    "        $$\n",
    "        * 便座ヒータの電源がオン：\n",
    "        $$  \n",
    "        \\begin{equation}\n",
    "            \\displaystyle P_{sby,st,d,t} = P_{sby,st,inst,d,t}\n",
    "        \\end{equation}\n",
    "        $$\n",
    "\n",
    "    * 温水洗浄が機能することによる消費電力：\n",
    "    $$ \n",
    "    \\begin{equation}\n",
    "        \\displaystyle P_{sby,wt,d,t} =  P_{sby,wt,noninst,d,t}\n",
    "    \\end{equation}\n",
    "    $$"
   ]
  },
  {
   "cell_type": "markdown",
   "metadata": {},
   "source": [
    "ここで、  \n",
    "$P_{sby,st,d,t}$：日付$d$の時刻$t$において暖房便座が機能することによる待機時の消費電力[W]  \n",
    "$P_{sby,wt,noninst,d,t}$：便座ヒータの加熱方式が瞬間方式、洗浄水ヒータの加熱方式が非瞬間式の場合において、日付$d$の時刻$t$において暖房便座が機能することによる待機時の消費電力[W] \n",
    "$P_{sby,wt,d,t}$：日付$d$の時刻$t$において温水洗浄が機能する場合の待機時の消費電力[W]  \n",
    "$P_{sby,wt,noninst,d,t}$：洗浄水ヒータの加熱方式が非瞬間式の場合において、日付$d$の時刻$t$において温水洗浄が機能することによる待機時の消費電力[W]    \n",
    "である。  "
   ]
  },
  {
   "cell_type": "code",
   "execution_count": 26,
   "metadata": {
    "collapsed": true
   },
   "outputs": [],
   "source": [
    "def P_sby_inst_noninst(Prtd_opg_wt, seat_heater_switch, theta_toilet_ave):\n",
    "    \"\"\"便座ヒータの加熱方式が瞬間方式＋洗浄水ヒータの加熱方式が非瞬間方式の場合の待機時の消費電力を計算する[W]\"\"\"\n",
    "    # Prtd_opg_wt：洗浄水ヒータの定格消費電力[W]  \n",
    "    # seat_heater_switch：便座ヒータの電源スイッチ[オフ、オン] \n",
    "    # theta_toilet_ave：トイレ空気温度の日平均値[C]\n",
    "    \n",
    "    # 暖房便座が機能することによる消費電力[W]\n",
    "    if seat_heater_switch == HeaterSwitch.Off:\n",
    "        P_sby_st = 0\n",
    "    elif seat_heater_switch == HeaterSwitch.On:\n",
    "        P_sby_st = P_sby_st_inst()\n",
    "    \n",
    "    # 温水洗浄が機能することによる消費電力[W]\n",
    "    P_sby_wt = P_opg_wt_noninst(Prtd_opg_wt, theta_toilet_ave)\n",
    "\n",
    "    return P_opg_st + P_opg_wt"
   ]
  },
  {
   "cell_type": "markdown",
   "metadata": {},
   "source": [
    "* 便座ヒータの加熱方式が非瞬間方式＋洗浄水ヒータの加熱方式が瞬間方式の場合：  \n",
    "    * 暖房便座が機能することによる消費電力：\n",
    "        * 便座ヒータの電源がオフ：   \n",
    "        $$  \n",
    "        \\begin{equation}\n",
    "            \\displaystyle P_{sby,st,d,t} = 0\n",
    "        \\end{equation}\n",
    "        $$\n",
    "        * 便座ヒータの電源がオン：\n",
    "        $$  \n",
    "        \\begin{equation}\n",
    "            \\displaystyle P_{sby,st,d,t} = P_{sby,st,noninst,d,t}\n",
    "        \\end{equation}\n",
    "        $$\n",
    "            \n",
    "    * 温水洗浄が機能することによる消費電力：\n",
    "        $$ \n",
    "        \\begin{equation}\n",
    "            \\displaystyle P_{sby,wt,d,t} =  P_{sby,wt,inst,d,t}\n",
    "        \\end{equation}\n",
    "        $$"
   ]
  },
  {
   "cell_type": "markdown",
   "metadata": {},
   "source": [
    "ここで、  \n",
    "$P_{sby,st,d,t}$：日付$d$の時刻$t$において暖房便座が機能することによる待機時の消費電力[W]  \n",
    "$P_{sby,st,noninst,d,t}$：便座ヒータの加熱方式が非瞬間式の場合において、日付$d$の時刻$t$において暖房便座が機能することによる待機時の消費電力[W]    \n",
    "$P_{sby,wt,d,t}$：日付$d$の時刻$t$において温水洗浄が機能することによる待機時の消費電力[W]  \n",
    "$P_{sby,wt,inst,d,t}$：便座ヒータの加熱方式が非瞬間式、洗浄水ヒータの加熱方式が瞬間式で、日付$d$の時刻$t$において温水洗浄が機能することによる待機時の消費電力[W]   \n",
    "である。  "
   ]
  },
  {
   "cell_type": "code",
   "execution_count": 27,
   "metadata": {
    "collapsed": true
   },
   "outputs": [],
   "source": [
    "def P_sby_noninst_inst(Prtd_opg_st, Prtd_opg_wt, seat_heater_switch, theta_toilet_ave):\n",
    "    \"\"\"便座ヒータの加熱方式が非瞬間方式＋洗浄水ヒータの加熱方式が瞬間方式の場合の稼働時の消費電力を計算する[W]\"\"\"\n",
    "    # Prtd_opg_st：便座ヒータの定格消費電力[W] \n",
    "    # Prtd_opg_wt：洗浄水ヒータの定格消費電力[W]  \n",
    "    # seat_heater_switch：便座ヒータの電源スイッチ[オフ、オン]  \n",
    "    # theta_toilet_ave：トイレ空気温度の日平均値[C]\n",
    "            \n",
    "    # 暖房便座が機能することによる消費電力[W]\n",
    "    if seat_heater_switch == HeaterSwitch.Off:\n",
    "        P_sby_st = 0 \n",
    "    elif seat_heater_switch == HeaterSwitch.On:\n",
    "        P_sby_st =P_sby_st_noninst(Prtd_opg_st, theta_toilet_ave)\n",
    "\n",
    "    # 温水洗浄が機能することによる消費電力[W]\n",
    "    P_sby_wt = P_sby_wt_inst()\n",
    "    \n",
    "    return P_opg_st + P_opg_wt"
   ]
  },
  {
   "cell_type": "markdown",
   "metadata": {},
   "source": [
    "* 便座ヒータと洗浄水ヒータの両方の加熱方式が瞬間方式の場合（便座ヒータのオフは考慮しない）：  \n",
    "    * 暖房便座が機能することによる消費電力と温水洗浄が機能することによる消費電力との合計：\n",
    "    $$\n",
    "        \\begin{equation}\n",
    "            \\displaystyle P_{sby,st,d,t} + P_{sby,wt,d,t} = P_{sby,sw,inst,d,t}\n",
    "        \\end{equation}\n",
    "    $$"
   ]
  },
  {
   "cell_type": "markdown",
   "metadata": {},
   "source": [
    "ここで、  \n",
    "$P_{sby,st,d,t}$：日付$d$の時刻$t$において暖房便座が機能することによる待機時の消費電力[W]  \n",
    "$P_{sby,sw,inst,d,t}$：便座ヒータと洗浄水ヒータの両方の加熱方式が瞬間式で、便座ヒータと洗浄水ヒータのいずれか一方もしくは両方の電源がオンの場合において、日付$d$の時刻$t$において暖房便座が機能することによる稼働時の消費電力と温水洗浄が機能することによる待機時の消費電力との合計[W]  \n",
    "$P_{sby,wt,d,t}$：日付$d$の時刻$t$において温水洗浄が機能することによる待機時の消費電力[W]    \n",
    "である。  "
   ]
  },
  {
   "cell_type": "code",
   "execution_count": 28,
   "metadata": {
    "collapsed": true
   },
   "outputs": [],
   "source": [
    "def P_sby_inst_inst(Prtd_opg_wt, theta_toilet_ave):\n",
    "    \"\"\"便座ヒータと洗浄水ヒータの両方の加熱方式が瞬間方式の場合の待機時の消費電力を計算する[W]\"\"\"\n",
    "    # Prtd_opg_wt：洗浄水ヒータの定格消費電力[W]  \n",
    "    # theta_toilet_ave：トイレ空気温度の日平均値[C]\n",
    "    \n",
    "    # 暖房便座が機能することによる稼働時の消費電力と温水洗浄が機能することによる待機時の消費電力との合計[W]\n",
    "    P_sby_sw = P_sby_sw_inst(theta_toilet_ave) \n",
    "    \n",
    "    return P_opg_sw"
   ]
  },
  {
   "cell_type": "markdown",
   "metadata": {},
   "source": [
    "暖房便座が機能することによる待機時の消費電力および温水洗浄が機能することによる待機時の消費電力は、便座ヒータおよび洗浄水ヒータの加熱方式およびヒータ電源の状態に応じて以下の式により計算される。ただし、計算値がマイナスの場合は消費電力はゼロとする。"
   ]
  },
  {
   "cell_type": "markdown",
   "metadata": {},
   "source": [
    "* 便座ヒータの加熱方式が非瞬間式の場合において、暖房便座が機能することによる待機時の消費電力：\n",
    "\n",
    "$$ \n",
    "\\begin{equation}\n",
    "    \\displaystyle P_{sby,st,noninst,d,t} = P_{opg,st,noninst,d,t}\n",
    "\\end{equation}\n",
    "$$  "
   ]
  },
  {
   "cell_type": "markdown",
   "metadata": {},
   "source": [
    "ここで、  \n",
    "$P_{opg,st,noninst,d,t}$：便座ヒータの加熱方式が非瞬間式の場合において、日付$d$の時刻$t$において暖房便座が機能することによる稼働時の消費電力[W]  \n",
    "$P_{sby,st,noninst,d,t}$：便座ヒータの加熱方式が非瞬間式の場合において、日付$d$の時刻$t$において暖房便座が機能することによる待機時の消費電力[W]  \n",
    "である。"
   ]
  },
  {
   "cell_type": "code",
   "execution_count": 29,
   "metadata": {
    "collapsed": true
   },
   "outputs": [],
   "source": [
    "def P_sby_wt_noninst(Prtd_opg_st, theta_toilet_ave):\n",
    "    \"\"\"便座ヒータの加熱方式が非瞬間式の場合において\n",
    "    　 暖房便座が機能することによる待機時の消費電力を計算する[W]\"\"\"\n",
    "    # Prtd_opg_st：便座ヒータの定格消費電力[W]  \n",
    "    # theta_toilet_ave：トイレ空気温度の日平均値[C]\n",
    "    \n",
    "    P = P_opg_st_noninst(Prtd_opg_st, theta_toilet_ave)\n",
    "    \n",
    "    return P"
   ]
  },
  {
   "cell_type": "markdown",
   "metadata": {},
   "source": [
    "* 洗浄水ヒータの加熱方式が非瞬間式の場合において、温水洗浄が機能することによる待機時の消費電力：\n",
    "\n",
    "$$ \n",
    "\\begin{equation}\n",
    "    \\displaystyle P_{sby,wt,noninst,d,t} = P_{opg,wt,noninst,d,t}\n",
    "\\end{equation}\n",
    "$$"
   ]
  },
  {
   "cell_type": "markdown",
   "metadata": {},
   "source": [
    "ここで、  \n",
    "$P_{opg,wt,inst,d,t}$：洗浄水ヒータの加熱方式が非瞬間式の場合において、日付$d$の時刻$t$において温水洗浄が機能することによる稼働時の消費電力[W]  \n",
    "$P_{sby,wt,inst,d,t}$：洗浄水ヒータの加熱方式が非瞬間式の場合において、日付$d$の時刻$t$において温水洗浄が機能することによる待機時の消費電力[W]  \n",
    "である。"
   ]
  },
  {
   "cell_type": "code",
   "execution_count": 30,
   "metadata": {
    "collapsed": true
   },
   "outputs": [],
   "source": [
    "def P_sby_wt_noninst(Prtd_opg_wt, theta_toilet_ave):\n",
    "    \"\"\"洗浄水ヒータの加熱方式が非瞬間式の場合において\n",
    "    　 温水洗浄が機能することによる待機時の消費電力を計算する[W]\"\"\"\n",
    "    # Prtd_opg_wt：洗浄水ヒータの定格消費電力[W]  \n",
    "    # theta_toilet_ave：トイレ空気温度の日平均値[C]\n",
    "    \n",
    "    P = P_opg_wt_noninst(Prtd_opg_wt, theta_toilet_ave)\n",
    "    \n",
    "    return P"
   ]
  },
  {
   "cell_type": "markdown",
   "metadata": {},
   "source": [
    "* 便座ヒータの加熱方式が瞬間式、洗浄水ヒータの加熱方式が非瞬間式の場合において、暖房便座が機能することによる待機時の消費電力：\n",
    "\n",
    "$$ \n",
    "\\begin{equation}\n",
    "    \\displaystyle P_{sby,st,inst,d,t} = 0\n",
    "\\end{equation}\n",
    "$$  "
   ]
  },
  {
   "cell_type": "markdown",
   "metadata": {},
   "source": [
    "ここで、  \n",
    "$P_{sby,st,inst,d,t}$：便座ヒータの加熱方式が瞬間式、洗浄水ヒータの加熱方式が非瞬間式の場合において、日付$d$の時刻$t$において暖房便座が機能することによる待機時の消費電力[W]  \n",
    "である。"
   ]
  },
  {
   "cell_type": "code",
   "execution_count": 31,
   "metadata": {
    "collapsed": true
   },
   "outputs": [],
   "source": [
    "def P_sby_st_inst():\n",
    "    \"\"\"便座ヒータの加熱方式が瞬間式、洗浄水ヒータの加熱方式が非瞬間式の場合において\n",
    "    　 暖房便座が機能することによる待機時の消費電力を計算する[W]\"\"\"\n",
    "    \n",
    "    P = 0.0\n",
    "    \n",
    "    return P"
   ]
  },
  {
   "cell_type": "markdown",
   "metadata": {},
   "source": [
    "* 便座ヒータの加熱方式が非瞬間式、洗浄水ヒータの加熱方式が瞬間式の場合において、温水洗浄が機能することによる待機時の消費電力：\n",
    "\n",
    "$$ \n",
    "\\begin{equation}\n",
    "    \\displaystyle P_{sby,wt,inst,d,t} = 0\n",
    "\\end{equation}\n",
    "$$  "
   ]
  },
  {
   "cell_type": "markdown",
   "metadata": {},
   "source": [
    "ここで、  \n",
    "$P_{sby,wt,inst,d,t}$：便座ヒータの加熱方式が非瞬間式、洗浄水ヒータの加熱方式が瞬間式の場合において、日付$d$の時刻$t$において温水洗浄が機能することによる待機時の消費電力[W]  \n",
    "である。"
   ]
  },
  {
   "cell_type": "code",
   "execution_count": 32,
   "metadata": {
    "collapsed": true
   },
   "outputs": [],
   "source": [
    "def P_sby_wt_inst():\n",
    "    \"\"\"便座ヒータの加熱方式が非瞬間式、洗浄水ヒータの加熱方式が瞬間式の場合において\n",
    "    　 温水洗浄が機能することによる待機時の消費電力を計算する[W]\"\"\"\n",
    "    \n",
    "    P = 0.0\n",
    "    \n",
    "    return P"
   ]
  },
  {
   "cell_type": "markdown",
   "metadata": {},
   "source": [
    "* 便座ヒータと洗浄水ヒータの両方の加熱方式が瞬間式の場合において、暖房便座が機能することによる待機時の消費電力量と温水洗浄が機能することによる待機時の消費電力との合計：\n",
    "\n",
    "$$ \n",
    "\\begin{equation}\n",
    "    \\displaystyle P_{sby,sw,inst,d,t} = max \\left(0.0, -0.984 \\times \\theta_{toilet,ave,d} + 17.886 \\right)\n",
    "\\end{equation}\n",
    "$$"
   ]
  },
  {
   "cell_type": "markdown",
   "metadata": {},
   "source": [
    "ここで、  \n",
    "$P_{sby,sw,inst,d,t}$：便座ヒータと洗浄水ヒータの両方の加熱方式が瞬間式の場合において、日付$d$の時刻$t$において暖房便座が機能することによる待機時の消費電力量と温水洗浄が機能することによる待機時の消費電力との合計[W]   \n",
    "$\\theta_{toilet,ave,d}$：日付$d$におけるトイレ空気温度の日平均値[℃]  \n",
    "である。"
   ]
  },
  {
   "cell_type": "code",
   "execution_count": 33,
   "metadata": {
    "collapsed": true
   },
   "outputs": [],
   "source": [
    "def P_sby_sw_inst(theta_toilet_ave):\n",
    "    \"\"\"便座ヒータと洗浄水ヒータの両方の加熱方式が瞬間式の場合において\n",
    "    　 暖房便座が機能することによる待機時の消費電力量と温水洗浄が機能することによる待機時の消費電力との合計[W]\"\"\"\n",
    "    # theta_toilet_ave：トイレ空気温度の日平均値[C]\n",
    "\n",
    "    P = max(0.0, -0.984 * theta_toilet_ave + 17.886)\n",
    "    \n",
    "    return P"
   ]
  },
  {
   "cell_type": "code",
   "execution_count": 34,
   "metadata": {},
   "outputs": [
    {
     "data": {
      "image/png": "[encoded data removed]",
      "text/plain": [
       "<matplotlib.figure.Figure at 0x8fc344d160>"
      ]
     },
     "metadata": {},
     "output_type": "display_data"
    }
   ],
   "source": [
    "# 定格消費電力（確認用）の配列[W]\n",
    "check_Prtd = np.array([])\n",
    "\n",
    "# トイレ空気温度（確認用）の配列[℃]\n",
    "check_theta = np.array([])\n",
    "for i in range(-10, 45, 1): \n",
    "    check_theta = np.hstack((check_theta, np.array([i])))\n",
    "\n",
    "# 算定式による計算 \n",
    "check_P = np.vectorize(P_sby_sw_inst)(check_theta)\n",
    "\n",
    "# 算定式による計算結果を散布図で表示\n",
    "show_result(check_theta, check_P, check_Prtd, 'Prtd', 'トイレ空気温度の日平均値[℃]', -10, 40, '消費電力[W]', 0, 160)"
   ]
  },
  {
   "cell_type": "markdown",
   "metadata": {},
   "source": [
    "### 7.4　標準条件"
   ]
  },
  {
   "cell_type": "markdown",
   "metadata": {},
   "source": [
    "#### 7.4.1　機器仕様"
   ]
  },
  {
   "cell_type": "markdown",
   "metadata": {},
   "source": [
    "4人世帯の標準的な機器仕様として、下表の設定を用いることができる。"
   ]
  },
  {
   "cell_type": "markdown",
   "metadata": {},
   "source": [
    "| 番号 | 便座ヒータの定格消費電力[W] | 洗浄水ヒータの定格消費電力[W] | 便座ヒータの加熱方式 | 洗浄水ヒータの加熱方式| 便座ヒータのオフ | 備考 |\n",
    "|:----:| :-------------------------: | :---------------------------: | :------------------: | :-------------------: | :--: | :--: |  \n",
    "|  01  | 50                          | 500                           | 非瞬間式             | 非瞬間式              | 可   | -    |\n",
    "|  02  | 50                          | 1200                          | 非瞬間式             | 瞬間式                | 可   | 4人標準世帯のデフォルト設定 |\n",
    "|  03  | 50                          | 500                           | 瞬間式               | 非瞬間式              | 可   | -    |\n",
    "|  04  | 50                          | 1068                          | 瞬間式               | 瞬間式                | 不可 | -    |"
   ]
  },
  {
   "cell_type": "code",
   "execution_count": 35,
   "metadata": {
    "collapsed": true
   },
   "outputs": [],
   "source": [
    "# 機器仕様\n",
    "Spec = namedtuple (\"Spec\", \"Prtd_opg_st Prtd_opg_wt seat_heater_type water_heater_type\")\n",
    "    # Prtd_opg_st：便座ヒータの定格消費電力[W]  \n",
    "    # Prtd_opg_wt：洗浄水ヒータの定格消費電力[W]  \n",
    "    # seat_heater_type：便座ヒータの加熱方式[非瞬間方式、瞬間方式]  \n",
    "    # water_heater_type：洗浄水ヒータの加熱方式[非瞬間方式、瞬間方式] "
   ]
  },
  {
   "cell_type": "code",
   "execution_count": 36,
   "metadata": {
    "collapsed": true
   },
   "outputs": [],
   "source": [
    "#仕様01（便座ヒータ：非瞬間方式、洗浄水ヒータ：非瞬間方式）\n",
    "spec01 = Spec(Prtd_opg_st = 50, Prtd_opg_wt =  500, seat_heater_type = HeaterType.NonInst, water_heater_type = HeaterType.NonInst )\n",
    "\n",
    "#仕様02（便座ヒータ：非瞬間方式、洗浄水ヒータ：瞬間方式）\n",
    "spec02 = Spec(Prtd_opg_st = 50, Prtd_opg_wt = 1200, seat_heater_type = HeaterType.NonInst, water_heater_type = HeaterType.Inst )\n",
    "\n",
    "#仕様03（便座ヒータ：瞬間方式、洗浄水ヒータ：非瞬間方式）\n",
    "spec03 = Spec(Prtd_opg_st = 50, Prtd_opg_wt =  500, seat_heater_type = HeaterType.Inst,    water_heater_type = HeaterType.NonInst )\n",
    "\n",
    "#仕様04（便座ヒータ：瞬間方式、洗浄水ヒータ：瞬間方式）\n",
    "spec04 = Spec(Prtd_opg_st = 50, Prtd_opg_wt = 1068, seat_heater_type = HeaterType.Inst,    water_heater_type = HeaterType.Inst )"
   ]
  },
  {
   "cell_type": "code",
   "execution_count": 37,
   "metadata": {
    "collapsed": true
   },
   "outputs": [],
   "source": [
    "# 機器リスト\n",
    "App_List = namedtuple (\"App_List\", \"app01 app02 app03 app04\")\n",
    "    # toiletseat@：温水暖房洗浄便座No＠の仕様"
   ]
  },
  {
   "cell_type": "code",
   "execution_count": 38,
   "metadata": {
    "collapsed": true
   },
   "outputs": [],
   "source": [
    "# 自立P4の機器リスト\n",
    "app_list =  App_List(app01 = spec01, app02 = spec02, app03 = spec03, app04 = spec04)"
   ]
  },
  {
   "cell_type": "markdown",
   "metadata": {},
   "source": [
    "#### 7.4.2　機器使用スケジュール"
   ]
  },
  {
   "cell_type": "markdown",
   "metadata": {
    "collapsed": true,
    "scrolled": true
   },
   "source": [
    "4人世帯の標準的なスケジュールとして、下表の設定を用いることができる。"
   ]
  },
  {
   "cell_type": "markdown",
   "metadata": {},
   "source": [
    "* 平日（1階）：  \n",
    "\n",
    "|時刻                  |0  |1  |2  |3  |4  |5  |6  |7  |8  |9  |10 |11 |12 |13 |14 |15 |16 |17 |18 |19 |20 |21 |22 |23 |  \n",
    "|:---:                 | -:| -:| -:| -:| -:| -:| -:| -:| -:| -:| -:| -:| -:| -:| -:| -:| -:| -:| -:| -:| -:| -:| -:| -:|  \n",
    "|AC稼働時間[\\* 60 s]   |  0|  0|  0|  0|  0|  0|  5|  0|  5|  0|  5|  0|  5|  0|  0|  0|  5|  5|  0|  5|  0|  0|  5|  5|  \n",
    "|AC待機時間[\\* 60 s]   | 60| 60| 60| 60| 60| 60| 55| 60| 55| 60| 55| 60| 55| 60| 60| 60| 55| 55| 60| 55| 60| 60| 55| 55| "
   ]
  },
  {
   "cell_type": "markdown",
   "metadata": {},
   "source": [
    "* 休日在宅（1階）：  \n",
    "\n",
    "|時刻                  |0  |1  |2  |3  |4  |5  |6  |7  |8  |9  |10 |11 |12 |13 |14 |15 |16 |17 |18 |19 |20 |21 |22 |23 |  \n",
    "|:---:                 | -:| -:| -:| -:| -:| -:| -:| -:| -:| -:| -:| -:| -:| -:| -:| -:| -:| -:| -:| -:| -:| -:| -:| -:|  \n",
    "|AC稼働時間[\\* 60 s]   |  0|  0|  0|  0|  0|  0|  0| 10|  5|  0|  0|  0|  0|  5|  0|  0|  5|  0|  0|  5|  5|  5|  5|  5|  \n",
    "|AC待機時間[\\* 60 s]   | 60| 60| 60| 60| 60| 60| 60| 50| 55| 60| 60| 60| 60| 55| 60| 60| 55| 60| 60| 55| 55| 55| 55| 55| "
   ]
  },
  {
   "cell_type": "markdown",
   "metadata": {},
   "source": [
    "* 休日外出（1階）：  \n",
    "\n",
    "|時刻                  |0  |1  |2  |3  |4  |5  |6  |7  |8  |9  |10 |11 |12 |13 |14 |15 |16 |17 |18 |19 |20 |21 |22 |23 |  \n",
    "|:---:                 | -:| -:| -:| -:| -:| -:| -:| -:| -:| -:| -:| -:| -:| -:| -:| -:| -:| -:| -:| -:| -:| -:| -:| -:|  \n",
    "|AC稼働時間[\\* 60 s]   |  0|  0|  0|  0|  0|  0|  5|  5|  5|  0|  0|  0|  0|  0|  0|  0|  0|  0|  0|  0|  5|  5|  5|  5|  \n",
    "|AC待機時間[\\* 60 s]   | 60| 60| 60| 60| 60| 60| 55| 55| 55| 60| 60| 60| 60| 60| 60| 60| 60| 60| 60| 60| 55| 55| 55| 55| "
   ]
  },
  {
   "cell_type": "markdown",
   "metadata": {},
   "source": [
    "* 平日（2階）：  \n",
    "\n",
    "|時刻                  |0  |1  |2  |3  |4  |5  |6  |7  |8  |9  |10 |11 |12 |13 |14 |15 |16 |17 |18 |19 |20 |21 |22 |23 |  \n",
    "|:---:                 | -:| -:| -:| -:| -:| -:| -:| -:| -:| -:| -:| -:| -:| -:| -:| -:| -:| -:| -:| -:| -:| -:| -:| -:|  \n",
    "|AC稼働時間[\\* 60 s]   |  0|  0|  0|  0|  0|  0|  0| 10|  5|  0|  0|  0|  0|  0|  0|  0|  0|  5|  5|  5|  5|  5|  0| 10|  \n",
    "|AC待機時間[\\* 60 s]   | 60| 60| 60| 60| 60| 60| 60| 50| 55| 60| 60| 60| 60| 60| 60| 60| 60| 55| 55| 55| 55| 55| 60| 50| "
   ]
  },
  {
   "cell_type": "markdown",
   "metadata": {},
   "source": [
    "* 休日在宅（2階）：  \n",
    "\n",
    "|時刻                  |0  |1  |2  |3  |4  |5  |6  |7  |8  |9  |10 |11 |12 |13 |14 |15 |16 |17 |18 |19 |20 |21 |22 |23 |  \n",
    "|:---:                 | -:| -:| -:| -:| -:| -:| -:| -:| -:| -:| -:| -:| -:| -:| -:| -:| -:| -:| -:| -:| -:| -:| -:| -:|  \n",
    "|AC稼働時間[\\* 60 s]   |  0|  0|  0|  0|  0|  0|  0|  0| 10|  5|  5|  5|  5|  0|  0|  0|  5|  5|  0|  0|  5|  0| 10|  0|  \n",
    "|AC待機時間[\\* 60 s]   | 60| 60| 60| 60| 60| 60| 60| 60| 50| 55| 55| 55| 55| 60| 60| 60| 55| 55| 60| 60| 55| 60| 50| 60| "
   ]
  },
  {
   "cell_type": "markdown",
   "metadata": {},
   "source": [
    "* 休日外出（2階）：  \n",
    "\n",
    "|時刻                  |0  |1  |2  |3  |4  |5  |6  |7  |8  |9  |10 |11 |12 |13 |14 |15 |16 |17 |18 |19 |20 |21 |22 |23 |  \n",
    "|:---:                 | -:| -:| -:| -:| -:| -:| -:| -:| -:| -:| -:| -:| -:| -:| -:| -:| -:| -:| -:| -:| -:| -:| -:| -:|  \n",
    "|AC稼働時間[\\* 60 s]   |  0|  0|  0|  0|  0|  0|  0|  0| 15|  0|  0|  0|  0|  0|  0|  0|  0|  0|  0|  0|  5|  5| 10|  0|  \n",
    "|AC待機時間[\\* 60 s]   | 60| 60| 60| 60| 60| 60| 60| 60| 45| 60| 60| 60| 60| 60| 60| 60| 60| 60| 60| 60| 55| 55| 50| 60| "
   ]
  },
  {
   "cell_type": "code",
   "execution_count": 39,
   "metadata": {
    "collapsed": true
   },
   "outputs": [],
   "source": [
    "# 機器使用スケジュール\n",
    "Schedule = namedtuple (\"Schedule\", \"weekdays holidays_st holidays_go\")\n",
    "    # weekdays：平日\n",
    "    # holidays_st：休日在宅\n",
    "    # holidays_go：休日外出"
   ]
  },
  {
   "cell_type": "code",
   "execution_count": 40,
   "metadata": {
    "collapsed": true
   },
   "outputs": [],
   "source": [
    "# 4人標準世帯_1階：AC接続下での稼働時間[s]\n",
    "schd_ac_opg_4p_std_1f = Schedule(weekdays = [0]*6 + [300]*1 + [0]*1 + [300]*1 + [0]*1+ [300]*1 + [0]*1 + [300]*1 + [0]*3 + [300]*2 + [0]*1 + [300]*1 + [0]*2 + [300]*2,  \n",
    "                                 holidays_st = [0]*7 + [600]*1 + [300]*1 + [0]*4 + [300]*1 + [0]*2 + [300]*1 + [0]*2 + [300]*5, \n",
    "                                 holidays_go = [0]*6 + [300]*3 + [0]*11 + [300]*4)\n",
    "# 4人標準世帯_1階：AC接続下での待機時間[s]\n",
    "schd_ac_sby_4p_std_1f = Schedule(weekdays = [3600]*6 + [3300]*1 + [3600]*1 + [3300]*1 + [3600]*1+ [3300]*1 + [3600]*1 + [3300]*1 + [3600]*3 + [3300]*2 + [3600]*1 + [3300]*1 + [3600]*2 + [3300]*2,  \n",
    "                                 holidays_st = [3600]*7 + [3000]*1 + [3300]*1 + [3600]*4 + [3300]*1 + [3600]*2 + [3300]*1 + [3600]*2 + [3300]*5, \n",
    "                                 holidays_go = [3600]*6 + [3300]*3 + [3600]*11 + [3300]*4)"
   ]
  },
  {
   "cell_type": "code",
   "execution_count": 41,
   "metadata": {
    "collapsed": true
   },
   "outputs": [],
   "source": [
    "# 4人標準世帯_2階：AC接続下での稼働時間[s]\n",
    "schd_ac_opg_4p_std_2f = Schedule(weekdays = [0]*7 + [600]*1 + [300]*1 + [0]*8 + [300]*5 + [0]*1 + [300]*1,  \n",
    "                                 holidays_st = [0]*8 + [600]*1 + [300]*4 + [0]*3 + [300]*2 + [0]*2 + [300]*1 + [0]*1 + [600]*1 + [0]*1, \n",
    "                                 holidays_go = [0]*8 + [900]*1 + [0]*11 + [300]*2 + [600]*1 + [0]*1)\n",
    "# 4人標準世帯_2階：AC接続下での待機時間[s]\n",
    "schd_ac_sby_4p_std_2f = Schedule(weekdays = [3600]*7 + [3000]*1 + [3300]*1 + [3600]*8 + [3300]*5 + [3600]*1 + [3300]*1,  \n",
    "                                 holidays_st = [3600]*8 + [3000]*1 + [3300]*4 + [3600]*3 + [3300]*2 + [3600]*2 + [3300]*1 + [3600]*1 + [3000]*1 + [3600]*1, \n",
    "                                 holidays_go = [3600]*8 + [2700]*1 + [3600]*11 + [3300]*2 + [3600]*1 + [3600]*1)"
   ]
  },
  {
   "cell_type": "code",
   "execution_count": 42,
   "metadata": {
    "scrolled": false
   },
   "outputs": [
    {
     "data": {
      "image/png": "[encoded data removed]",
      "text/plain": [
       "<matplotlib.figure.Figure at 0x8fc3a33fd0>"
      ]
     },
     "metadata": {},
     "output_type": "display_data"
    }
   ],
   "source": [
    "# 機器使用スケジュールの確認\n",
    "# 日本語フォント\n",
    "fp = FontProperties(fname='C:\\WINDOWS\\Fonts\\msgothic.ttc', size = 12)\n",
    "    \n",
    "# サブプロットの作成\n",
    "plt.figure(figsize=(10, 5), dpi=80)\n",
    "\n",
    "for i in range(2):\n",
    "    if i == 0:\n",
    "        schd_ac_opg = schd_ac_opg_4p_std_1f \n",
    "        schd_ac_sby = schd_ac_sby_4p_std_1f\n",
    "    else:\n",
    "        schd_ac_opg = schd_ac_opg_4p_std_2f \n",
    "        schd_ac_sby = schd_ac_sby_4p_std_2f\n",
    "        \n",
    "    for j in range(3):\n",
    "        # サブプロットの指定\n",
    "        ax = plt.subplot2grid((2, 3), (i, j))\n",
    "        \n",
    "        # 棒グラフの作成\n",
    "        x = np.array([k for k in range(24)])\n",
    "        y_opg =  np.array(schd_ac_opg[j]) / 60\n",
    "        ax.bar(x, y_opg, align='edge', width=1.0, color='orange', edgecolor='black', label=\"AC稼働\")\n",
    "        \n",
    "        # グラフのタイトル\n",
    "        ax.set_title(schd_ac_opg._fields[j] + '(' + str(i+1) + '階)' , fontdict={'fontproperties':fp})\n",
    "        \n",
    "        # x軸\n",
    "        # タイトル\n",
    "        ax.set_xlabel(u'時刻', fontdict={'fontproperties':fp})\n",
    "        # 目盛りの位置／ラベル／形式\n",
    "        # 主目盛\n",
    "        ax.set_xticks(np.arange(0, 25, 3), minor=False)\n",
    "        ax.set_xticklabels(np.array([k*3 for k in range(8)]+[0]).astype('str'), minor=False, visible=True)\n",
    "        ax.tick_params(axis='x', which ='major', direction='in', length=3)\n",
    "        # 補助目盛\n",
    "        ax.set_xticks(np.arange(0, 25, 1), minor=True)\n",
    "        ax.set_xticklabels(np.array([k for k in range(24)]+[0]).astype('str'), minor=True, visible=False)\n",
    "        ax.tick_params(axis='x', which ='minor', direction='in', length=3)\n",
    "        # 表示の上限・下限\n",
    "        ax.set_xbound(lower=0, upper=24)\n",
    "        \n",
    "        # y軸\n",
    "        #タイトル\n",
    "        ax.set_ylabel(u'時間[min]', fontdict={'fontproperties':fp}) \n",
    "        # 目盛りの位置／形式\n",
    "        ax.set_yticks(np.arange(0, 30, 5))\n",
    "        ax.tick_params(axis='y', which ='major', direction='in', length=3)\n",
    "        # 表示の上限・下限\n",
    "        ax.set_ybound(lower=0, upper=20)\n",
    "\n",
    "        # グラフの枠\n",
    "        ax.spines['right'].set_color('black')\n",
    "        ax.spines['left'].set_color('black')\n",
    "        ax.spines['bottom'].set_color('black')\n",
    "        ax.spines['top'].set_color('black')\n",
    "        \n",
    "        # 主目盛りのグリッド\n",
    "        ax.grid(which='major', color='lightgray', alpha=0.7, linestyle='-')\n",
    "\n",
    "# 凡例\n",
    "plt.legend(loc='center left', bbox_to_anchor=(1, 0.5), borderaxespad=0.5, frameon=True,  prop=fp)\n",
    "\n",
    "# グラフの重なりを解消\n",
    "plt.tight_layout()\n",
    "\n",
    "plt.show()"
   ]
  },
  {
   "cell_type": "code",
   "execution_count": 43,
   "metadata": {
    "collapsed": true
   },
   "outputs": [],
   "source": [
    "# 単位時間において各状態が維持される時間の合計\n",
    "DT = namedtuple (\"DT\", \"ac_opg ac_sby\")\n",
    "    # ac_opg：AC接続下における稼働時間の合計[s]\n",
    "    # ac_sby：AC接続下における待機時間の合計[s]"
   ]
  },
  {
   "cell_type": "markdown",
   "metadata": {},
   "source": [
    "#### 7.4.3　暖房便座の機能に関する居住者の使用行動"
   ]
  },
  {
   "cell_type": "markdown",
   "metadata": {},
   "source": [
    "居住者の使用行動は、通年で暖房便座を使用する場合とトイレ空気温度に応じて使用する場合との2パターンを想定する。"
   ]
  },
  {
   "cell_type": "markdown",
   "metadata": {},
   "source": [
    "| 番号 |概要                                     | 備考 |\n",
    "|:----:| :-------------------------------------: | :--: |  \n",
    "|  01  | 通年で暖房便座を使用する                | 4人標準世帯のデフォルト設定 |\n",
    "|  02  | トイレ空気温度に応じて暖房便座を使用する| 省エネ |\n"
   ]
  },
  {
   "cell_type": "code",
   "execution_count": 57,
   "metadata": {
    "collapsed": true
   },
   "outputs": [],
   "source": [
    "# 使用行動\n",
    "UserBehavior = namedtuple (\"UserBehavior\", \"seat_heater\")\n",
    "    # seat_heater：暖房便座の機能に関する居住者の使用行動[文字列]  "
   ]
  },
  {
   "cell_type": "code",
   "execution_count": 45,
   "metadata": {
    "collapsed": true
   },
   "outputs": [],
   "source": [
    "# 使用行動01（通年使用：標準タイプ）\n",
    "user_behavior01 = UserBehavior(seat_heater = \"all_year_round\")\n",
    "\n",
    "# 使用行動02（低温時のみ使用：省エネタイプ）\n",
    "user_behavior02 = UserBehavior(seat_heater = \"at_lower_temp\")"
   ]
  },
  {
   "cell_type": "code",
   "execution_count": 46,
   "metadata": {
    "collapsed": true
   },
   "outputs": [],
   "source": [
    "# 使用行動リスト\n",
    "UserBehavior_List = namedtuple (\"UserBehavior_List\", \"user_behavior01 user_behavior02\")\n",
    "    # user_behavior@：使用行動No＠のタイプ"
   ]
  },
  {
   "cell_type": "code",
   "execution_count": 47,
   "metadata": {
    "collapsed": true
   },
   "outputs": [],
   "source": [
    "# 自立P4の使用行動リスト\n",
    "user_behavior_list =  UserBehavior_List(user_behavior01 = user_behavior01, user_behavior02 = user_behavior02)"
   ]
  },
  {
   "cell_type": "code",
   "execution_count": 48,
   "metadata": {
    "collapsed": true
   },
   "outputs": [],
   "source": [
    "def  seat_heater_switch(user_behavior_seat_heater_, theta_toilet_ave):\n",
    "    \"\"\"便座ヒータの電源スイッチの状態を決定する[On/Off]\"\"\"\n",
    "    # user_behavior_seat_heater：暖房便座の機能に関する居住者の使用行動[all_year_round/ at_lower_temp]\n",
    "    # theta_toilet_ave：トイレ空気温度の日平均値[C]\n",
    "    \n",
    "    if user_behavior_seat_heater == \"all_year_round\":\n",
    "        seat_heater_switch = use_seat_heater_all_year_round()\n",
    "    elif user_behavior_seat_heater == \"at_lower_temp\":\n",
    "        seat_heater_switch = use_seat_heater_at_lower_temp(theta_toilet_ave)\n",
    "    \n",
    "    return seat_heater_switch"
   ]
  },
  {
   "cell_type": "markdown",
   "metadata": {},
   "source": [
    "* 通年で暖房便座の機能を使用する場合（標準条件）:便座ヒータの電源は常にオンとする。"
   ]
  },
  {
   "cell_type": "code",
   "execution_count": 49,
   "metadata": {
    "collapsed": true
   },
   "outputs": [],
   "source": [
    "def use_seat_heater_all_year_round():\n",
    "    \n",
    "    return HeaterSwitch.On"
   ]
  },
  {
   "cell_type": "markdown",
   "metadata": {},
   "source": [
    "* トイレ空気温度に応じて暖房便座の機能を使用する場合：トイレ空気温度の日平均値が20℃以上の場合、暖房便座ヒータの電源をオフとする。"
   ]
  },
  {
   "cell_type": "code",
   "execution_count": 50,
   "metadata": {
    "collapsed": true
   },
   "outputs": [],
   "source": [
    "def use_seat_heater_at_lower_temp(theta_toilet_ave):\n",
    "    \n",
    "    if theta_toilet_ave < 20:\n",
    "        seat_heater_switch == HeaterSwitch.On\n",
    "    else:\n",
    "        seat_heater_switch == HeaterSwitch.Off\n",
    "    \n",
    "    return seat_heater_switch"
   ]
  },
  {
   "cell_type": "markdown",
   "metadata": {},
   "source": [
    "### 8.　トイレ空気温度の日平均値"
   ]
  },
  {
   "cell_type": "markdown",
   "metadata": {},
   "source": [
    "トイレ空気温度が直接的にも求まらない場合、日平均外気温度および住宅の熱損失係数を用いて以下の式により推定した値を用いることができる。"
   ]
  },
  {
   "cell_type": "markdown",
   "metadata": {},
   "source": [
    "* 暖房方式が居室間欠の場合：  \n",
    "    * 1階：\n",
    "    $$ \n",
    "    \\begin{equation}\n",
    "        \\displaystyle \\theta_{toilet,ave,d} = \\left( 0.0580 \\times Q + 0.5186 \\right) \\times \\theta_{ex,ave,d} + \\left( -1.614 \\times Q + 16.88 \\right)\n",
    "    \\end{equation}\n",
    "    $$\n",
    "    \n",
    "    * 2階：\n",
    "    $$ \n",
    "    \\begin{equation}\n",
    "        \\displaystyle \\theta_{toilet,ave,d} = \\left( 0.0499 \\times Q + 0.6023 \\right) \\times \\theta_{ex,ave,d} + \\left( -1.493 \\times Q + 14.15 \\right)\n",
    "    \\end{equation}\n",
    "    $$"
   ]
  },
  {
   "cell_type": "markdown",
   "metadata": {},
   "source": [
    "* 暖房方式が全館連続の場合：  \n",
    "    * 1階：\n",
    "    $$ \n",
    "    \\begin{equation}\n",
    "        \\displaystyle \\theta_{toilet,ave,d} = \\left( 0.0669 \\times Q + 0.3721 \\right) \\times \\theta_{ex,ave,d} + \\left( -1.738 \\times Q + 19.703 \\right)\n",
    "    \\end{equation}\n",
    "    $$\n",
    "    \n",
    "    * 2階：\n",
    "    $$ \n",
    "    \\begin{equation}\n",
    "        \\displaystyle \\theta_{toilet,ave,d} = \\left( 0.0619 \\times Q + 0.4117 \\right) \\times \\theta_{ex,ave,d} + \\left( -1.655 \\times Q + 17.85 \\right)\n",
    "    \\end{equation}\n",
    "    $$"
   ]
  },
  {
   "cell_type": "markdown",
   "metadata": {},
   "source": [
    "ここで、  \n",
    "$\\theta_{ex,ave,d}$：日付$d$における外気温の日平均値[℃]  \n",
    "$\\theta_{toilet,ave,d}$：日付$d$におけるトイレ空気温度の日平均値[℃]  \n",
    "である。"
   ]
  },
  {
   "cell_type": "code",
   "execution_count": 51,
   "metadata": {
    "collapsed": true
   },
   "outputs": [],
   "source": [
    "class HeatingType(Enum):\n",
    "    \"\"\"暖房方式\"\"\"\n",
    "    # HabitableRoom：居室間欠\n",
    "    # WholeHouse：全館連続\n",
    "\n",
    "    HabitableRoom = \"habitable_room\"\n",
    "    WholeHouse = \"whole_house\""
   ]
  },
  {
   "cell_type": "code",
   "execution_count": 52,
   "metadata": {
    "collapsed": true
   },
   "outputs": [],
   "source": [
    "class Floor(Enum):\n",
    "    \"\"\"階\"\"\"\n",
    "    # 1F：1階\n",
    "    # 2F：2階\n",
    "\n",
    "    FirstFloor = \"first_floor\"\n",
    "    SecondFloor = \"second_floor\""
   ]
  },
  {
   "cell_type": "code",
   "execution_count": 53,
   "metadata": {
    "collapsed": true
   },
   "outputs": [],
   "source": [
    "def theta_toilet_ave(theta_ex_ave, Q_value, heating_type, floor):\n",
    "    \"\"\"トイレ空気温度の日平均値を計算する[℃]\"\"\" \n",
    "    # theta_ex_ave：外気温度の日平均値[C]\n",
    "    # Q_value：住宅の熱損失係数[W/m2] \n",
    "    # heating_type：暖房方式[居室間欠、全館連続] \n",
    "    # floor：階[1階、2階] \n",
    "    \n",
    "    if heating_type == HeatingType.HabitableRoom:\n",
    "        if floor == Floor.FirstFloor:\n",
    "            theta_toilet_ave = (0.0580 * Q_value + 0.5186) * theta_ex_ave + (-1.612 * Q_value + 16.88)\n",
    "        elif floor == Floor.SecondFloor:\n",
    "            theta_toilet_ave = (0.0499 * Q_value + 0.6023) * theta_ex_ave + (-1.493 * Q_value + 14.15)\n",
    "    elif heating_type == HeatingType.WholeHouse:\n",
    "        if floor == Floor.FirstFloor:\n",
    "            theta_toilet_ave = (0.0669 * Q_value + 0.3721) * theta_ex_ave + (-1.738 * Q_value + 19.703)\n",
    "        elif floor == Floor.SecondFloor:\n",
    "            theta_toilet_ave = (0.0619 * Q_value + 0.4117) * theta_ex_ave + (-1.655 * Q_value + 17.85)\n",
    "    \n",
    "    return theta_toilet_ave"
   ]
  },
  {
   "cell_type": "code",
   "execution_count": 54,
   "metadata": {
    "collapsed": true,
    "scrolled": false
   },
   "outputs": [],
   "source": [
    "# 外気温度の日平均値（確認用）の配列[℃]\n",
    "check_theta_ex_ave = np.array([])\n",
    "for i in range(-10, 45, 1): \n",
    "    check_theta_ex_ave = np.hstack((check_theta_ex_ave, np.array([i])))\n",
    "\n",
    "# 住宅の熱損失係数（確認用）の配列[W]\n",
    "check_Q_value = np.array([[1.6],[1.9],[2.4],[2.7],[3.7]])\n",
    "\n",
    "# 算定式による計算 \n",
    "# 居室間欠 - 1階\n",
    "check_theta_toilet_aveH1F = np.vectorize(theta_toilet_ave)(check_theta_ex_ave, check_Q_value, HeatingType.HabitableRoom, Floor.FirstFloor)\n",
    "# 居室間欠 - 2階\n",
    "check_theta_toilet_aveH2F = np.vectorize(theta_toilet_ave)(check_theta_ex_ave, check_Q_value, HeatingType.HabitableRoom, Floor.SecondFloor)\n",
    "# 全館連続 - 1階\n",
    "check_theta_toilet_aveW1F = np.vectorize(theta_toilet_ave)(check_theta_ex_ave, check_Q_value, HeatingType.WholeHouse, Floor.FirstFloor)\n",
    "# 全館連続 - 2階\n",
    "check_theta_toilet_aveW2F = np.vectorize(theta_toilet_ave)(check_theta_ex_ave, check_Q_value, HeatingType.WholeHouse, Floor.SecondFloor)"
   ]
  },
  {
   "cell_type": "code",
   "execution_count": 55,
   "metadata": {
    "scrolled": false
   },
   "outputs": [
    {
     "data": {
      "image/png": "[encoded data removed]",
      "text/plain": [
       "<matplotlib.figure.Figure at 0x8fc3a33860>"
      ]
     },
     "metadata": {},
     "output_type": "display_data"
    }
   ],
   "source": [
    "# 算定式による計算結果を散布図で表示\n",
    "# 日本語フォント\n",
    "fp = FontProperties(fname='C:\\WINDOWS\\Fonts\\msgothic.ttc', size = 12)\n",
    "    \n",
    "# サブプロットの作成\n",
    "plt.figure(figsize=(8, 6), dpi=80)\n",
    "\n",
    "for irow in range(2):\n",
    "    for icolumn in range(2):\n",
    "        if irow == 0 and icolumn == 0:\n",
    "            check_theta_toilet_ave = check_theta_toilet_aveH1F \n",
    "            fig_title = '居室間欠_1階'\n",
    "        elif irow == 0 and icolumn == 1:\n",
    "            check_theta_toilet_ave = check_theta_toilet_aveH2F \n",
    "            fig_title = '居室間欠_2階'\n",
    "        elif irow == 1 and icolumn == 0:\n",
    "            check_theta_toilet_ave = check_theta_toilet_aveW1F \n",
    "            fig_title = '全館連続_1階'\n",
    "        elif irow == 1 and icolumn == 1:\n",
    "            check_theta_toilet_ave = check_theta_toilet_aveW2F \n",
    "            fig_title = '全館連続_2階'\n",
    "        \n",
    "        # サブプロットの指定\n",
    "        ax = plt.subplot2grid((2, 2), (irow, icolumn))\n",
    "        \n",
    "        # 棒グラフの作成\n",
    "        for i in range(0, len(check_Q_value)):\n",
    "            x = np.array(check_theta_ex_ave)\n",
    "            y =  np.array(check_theta_toilet_ave[i])\n",
    "            ax.plot(x, y, label = 'Q=' + str(check_Q_value[i][0]))\n",
    "        \n",
    "        # グラフのタイトル\n",
    "        ax.set_title(fig_title, fontdict={'fontproperties':fp})\n",
    "        \n",
    "        # 軸の設定\n",
    "        ax=plt.gca()\n",
    "        # x軸\n",
    "        # タイトル\n",
    "        ax.set_xlabel('外気温度の日平均値[℃]', fontdict={'fontproperties':fp})\n",
    "        # 表示の上限・下限\n",
    "        ax.set_xbound(lower=-10, upper=40)\n",
    "        # ラベルの書式\n",
    "        ax.xaxis.set_major_formatter(plt.FormatStrFormatter('%.0f'))\n",
    "        # y軸\n",
    "        # タイトル\n",
    "        ax.set_ylabel('トイレ空気温度の日平均値[℃]', fontdict={'fontproperties':fp})\n",
    "        # 表示の上限・下限\n",
    "        ax.set_ybound(lower=-10, upper=40)\n",
    "        # ラベルの書式\n",
    "        ax.yaxis.set_major_formatter(plt.FormatStrFormatter('%.0f'))\n",
    "\n",
    "        # メモリ線の表示\n",
    "        plt.grid()\n",
    "    \n",
    "        # グラフの重なりを解消\n",
    "        plt.tight_layout()\n",
    "\n",
    "    # 凡例\n",
    "    plt.legend(loc='center left', bbox_to_anchor=(1, 0.5), borderaxespad=0.5, frameon=True)\n",
    "\n",
    "        \n",
    "plt.show()"
   ]
  },
  {
   "cell_type": "code",
   "execution_count": 56,
   "metadata": {},
   "outputs": [
    {
     "data": {
      "text/plain": [
       "[<matplotlib.lines.Line2D at 0x8fc4269518>]"
      ]
     },
     "execution_count": 56,
     "metadata": {},
     "output_type": "execute_result"
    },
    {
     "data": {
      "image/png": "[encoded data removed]",
      "text/plain": [
       "<matplotlib.figure.Figure at 0x8fc3a47828>"
      ]
     },
     "metadata": {},
     "output_type": "display_data"
    }
   ],
   "source": [
    "x = np.arange(0, 24, 0.05)\n",
    "y = np.sin(x / 12 * np.pi + np.pi) * 5 + 10\n",
    "plt.plot(x, y)"
   ]
  },
  {
   "cell_type": "code",
   "execution_count": null,
   "metadata": {
    "collapsed": true
   },
   "outputs": [],
   "source": []
  }
 ],
 "metadata": {
  "kernelspec": {
   "display_name": "Python 3",
   "language": "python",
   "name": "python3"
  },
  "language_info": {
   "codemirror_mode": {
    "name": "ipython",
    "version": 3
   },
   "file_extension": ".py",
   "mimetype": "text/x-python",
   "name": "python",
   "nbconvert_exporter": "python",
   "pygments_lexer": "ipython3",
   "version": "3.6.1"
  },
  "toc": {
   "nav_menu": {
    "height": "249px",
    "width": "476px"
   },
   "number_sections": false,
   "sideBar": true,
   "skip_h1_title": false,
   "toc_cell": false,
   "toc_position": {
    "height": "843px",
    "left": "0px",
    "right": "1708px",
    "top": "106px",
    "width": "212px"
   },
   "toc_section_display": "block",
   "toc_window_display": true
  }
 },
 "nbformat": 4,
 "nbformat_minor": 2
}
