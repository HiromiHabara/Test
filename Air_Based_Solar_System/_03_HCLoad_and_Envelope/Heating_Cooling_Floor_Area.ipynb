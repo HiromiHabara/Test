{
 "cells": [
  {
   "cell_type": "markdown",
   "metadata": {},
   "source": [
    "# Heating Cooling Floor Area / 暖冷房区画"
   ]
  },
  {
   "cell_type": "markdown",
   "metadata": {},
   "source": [
    "## 1. Introduction"
   ]
  },
  {
   "cell_type": "markdown",
   "metadata": {},
   "source": [
    "This calculation depends on the specification of Section 9 \"Floor Area of Heating and Cooling Area $i$\" in \"Chapter 3-1 Heating and Cooling Load and Envelope Performance - General\" in BRI."
   ]
  },
  {
   "cell_type": "markdown",
   "metadata": {},
   "source": [
    "## 2. Type"
   ]
  },
  {
   "cell_type": "markdown",
   "metadata": {},
   "source": [
    "## 3. Functions"
   ]
  },
  {
   "cell_type": "markdown",
   "metadata": {},
   "source": [
    "### 3.1 Floor Area of Heating and Cooling Area of Standard House / 標準住戸における暖冷房区画の床面積"
   ]
  },
  {
   "cell_type": "markdown",
   "metadata": {},
   "source": [
    "The floor area of the heating and cooling area $i$ of the standar house $A_{HCZ,R,i}$ is defined in the table below."
   ]
  },
  {
   "cell_type": "markdown",
   "metadata": {},
   "source": [
    "| Heating and Cooling<br> Area Number | Assumed Room Name | Flooa Area (m<sup>2</sup>) |\n",
    "| :---: | :---: | :---: |\n",
    "| 1 | LDK | 29.81 |\n",
    "| 2 | Japanese Style Room / 和室 | 16.56 |\n",
    "| 3 | Bedroom / 主寝室 | 13.25 |\n",
    "| 4 | Children Room 1 / 子供室1 | 10.76 |\n",
    "| 5 | Children Room 2 / 子供室2 | 10.77 |\n",
    "| 6 | Bathroom / 浴室 | 3.31 |\n",
    "| 7 | Toilet on 1st. floor / 1階便所 | 1.66 |\n",
    "| 8 | Washroom / 洗面所 | 3.31 |\n",
    "| 9 | Hall / ホール | 13.25 |\n",
    "| 10 | Closet / クローゼット | 4.97 |\n",
    "| 11 | Hall on 2nd. floor / 2階ホール | 10.77 |\n",
    "| 12 | Toilet on 2nd. floor / 2階便所 | 1.66 |"
   ]
  },
  {
   "cell_type": "code",
   "execution_count": 1,
   "metadata": {
    "collapsed": false
   },
   "outputs": [],
   "source": [
    "def get_A_HCZ_R():\n",
    "    return [ 29.81,\n",
    "             16.56,\n",
    "             13.25,\n",
    "             10.76,\n",
    "             10.77,\n",
    "              3.31,\n",
    "              1.66,\n",
    "              3.31,\n",
    "             13.25,\n",
    "              4.97,\n",
    "             10.77,\n",
    "              1.66\n",
    "           ]"
   ]
  },
  {
   "cell_type": "markdown",
   "metadata": {},
   "source": [
    "$$\n",
    "A_{MR,R} = 29.81\n",
    "$$"
   ]
  },
  {
   "cell_type": "markdown",
   "metadata": {},
   "source": [
    "$$\n",
    "A_{OR,R}=51.34\n",
    "$$"
   ]
  },
  {
   "cell_type": "markdown",
   "metadata": {},
   "source": [
    "$$\n",
    "A_{NO,R}=38.93\n",
    "$$"
   ]
  },
  {
   "cell_type": "markdown",
   "metadata": {},
   "source": [
    "Where  \n",
    "$ A_{MR,R} $ is the floor area of the main habitable room of the standard house / 標準住戸の主たる居室の床面積 (m<sup>2</sup>);  \n",
    "$ A_{OR,R} $ is the floor area of the other habitable room of the standard house / 標準住戸のその他の居室の床面積 (m<sup>2</sup>);  \n",
    "$ A_{NO,R} $ is the floor area of the non habitable room of the standard house / 標準住戸の非居室の床面積 (m<sup>2</sup>)."
   ]
  },
  {
   "cell_type": "code",
   "execution_count": 2,
   "metadata": {
    "collapsed": true
   },
   "outputs": [],
   "source": [
    "def get_A_MR_R():\n",
    "    return 29.81"
   ]
  },
  {
   "cell_type": "code",
   "execution_count": 3,
   "metadata": {
    "collapsed": true
   },
   "outputs": [],
   "source": [
    "def get_A_OR_R():\n",
    "    return 51.34"
   ]
  },
  {
   "cell_type": "code",
   "execution_count": 4,
   "metadata": {
    "collapsed": true
   },
   "outputs": [],
   "source": [
    "def get_A_NO_R():\n",
    "    return 38.93"
   ]
  },
  {
   "cell_type": "code",
   "execution_count": 5,
   "metadata": {
    "collapsed": true
   },
   "outputs": [],
   "source": [
    "def get_A_A_R():\n",
    "    return get_A_MR_R() + get_A_OR_R() + get_A_NO_R()"
   ]
  },
  {
   "cell_type": "markdown",
   "metadata": {},
   "source": [
    "### 3.2 Floor Area of Heating and Cooling Area / 暖冷房区画の床面積"
   ]
  },
  {
   "cell_type": "markdown",
   "metadata": {},
   "source": [
    "$$\n",
    "\\displaystyle\n",
    "A_{HCZ,i} = \\left\\{ \\begin{array}{ll}\n",
    "    A_{HCZ,R,i} \\times \\frac{A_{MR}}{A_{MR,R}} & (i=1) \\\\\n",
    "    A_{HCZ,R,i} \\times \\frac{A_{OR}}{A_{OR,R}} & (i=2 \\sim 5) \\\\\n",
    "    A_{HCZ,R,i} \\times \\frac{(A_A-A_{MR}-A_{OR})}{A_{NO,R}} & (i=6 \\sim 12)\n",
    "\\end{array}\n",
    "\\right.\n",
    "$$"
   ]
  },
  {
   "cell_type": "markdown",
   "metadata": {},
   "source": [
    "Where  \n",
    "$A_{HCZ,R,i}$ is the floor area of the heating and cooling area $i$ of the standard house / 標準住戸における暖冷房区画$i$の床面積 (m<sup>2</sup>2)  \n",
    "$A_{MR}$ is the floor area of the main habitable room / 主たる居室の床面積 (m<sup>2</sup>2)  \n",
    "$A_{OR}$ is the floor area of the other habitable room / その他の居室の床面積 (m<sup>2</sup>2)  \n",
    "$A_A$ is the total floor area / 床面積の合計 (m<sup>2</sup>2)  \n",
    "$A_{MR,R}$ is the floor area of the main habitable room of the standard house / 標準住戸の主たる居室の床面積 (m<sup>2</sup>2)  \n",
    "$A_{OR,R}$ is the floor area of the other habitable room of the standard house / 標準住戸のその他の居室の床面積 (m<sup>2</sup>2)  \n",
    "$A_{NO,R}$ is the floor area of the non habitable room of the standard house / 標準住戸の非居室の床面積 (m<sup>2</sup>2)  "
   ]
  },
  {
   "cell_type": "code",
   "execution_count": 6,
   "metadata": {
    "collapsed": false
   },
   "outputs": [],
   "source": [
    "def get_A_HCZ(A_A, A_MR, A_OR):\n",
    "\n",
    "    def get_A_HCZ_i(i):\n",
    "        if i in {0}:\n",
    "            return get_A_HCZ_R()[i] * A_MR / get_A_MR_R()\n",
    "        elif i in {1,2,3,4}:\n",
    "            return get_A_HCZ_R()[i] * A_OR / get_A_OR_R()\n",
    "        elif i in {5,6,7,8,9,10,11}:\n",
    "            return get_A_HCZ_R()[i] * (A_A-A_MR-A_OR)/get_A_NO_R()\n",
    "        else:\n",
    "            return \"error\"\n",
    "    \n",
    "    return [ get_A_HCZ_i(i) for i in range(12) ]"
   ]
  },
  {
   "cell_type": "markdown",
   "metadata": {},
   "source": [
    "#### Example"
   ]
  },
  {
   "cell_type": "markdown",
   "metadata": {},
   "source": [
    "The floor area of the main habitable room = 15.0 (m<sup>2</sup>)  \n",
    "The floor area of the other habitable room = 12.0 (m<sup>2</sup>)  \n",
    "The total floor area = 40.0 (m<sup>2</sup>)"
   ]
  },
  {
   "cell_type": "code",
   "execution_count": 7,
   "metadata": {
    "collapsed": false
   },
   "outputs": [
    {
     "data": {
      "text/plain": [
       "[15.0,\n",
       " 3.8706661472536026,\n",
       " 3.0970003895597973,\n",
       " 2.5149980522010127,\n",
       " 2.517335410985586,\n",
       " 1.1053172360647316,\n",
       " 0.5543282815309529,\n",
       " 1.1053172360647316,\n",
       " 4.4246082712561,\n",
       " 1.6596455175956846,\n",
       " 3.5964551759568453,\n",
       " 0.5543282815309529]"
      ]
     },
     "execution_count": 7,
     "metadata": {},
     "output_type": "execute_result"
    }
   ],
   "source": [
    "get_A_HCZ(40,15,12)"
   ]
  }
 ],
 "metadata": {
  "kernelspec": {
   "display_name": "Python 3",
   "language": "python",
   "name": "python3"
  },
  "language_info": {
   "codemirror_mode": {
    "name": "ipython",
    "version": 3
   },
   "file_extension": ".py",
   "mimetype": "text/x-python",
   "name": "python",
   "nbconvert_exporter": "python",
   "pygments_lexer": "ipython3",
   "version": "3.6.2"
  }
 },
 "nbformat": 4,
 "nbformat_minor": 2
}
