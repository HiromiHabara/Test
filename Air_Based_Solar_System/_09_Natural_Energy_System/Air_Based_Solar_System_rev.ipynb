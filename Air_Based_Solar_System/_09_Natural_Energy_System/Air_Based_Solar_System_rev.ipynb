{
 "cells": [
  {
   "cell_type": "code",
   "execution_count": 1,
   "metadata": {},
   "outputs": [],
   "source": [
    "import math\n",
    "\n",
    "#import sys\n",
    "#sys.path.append('../')\n",
    "#import nbimporter\n",
    "#from _11_Others import External_Condition as EC\n",
    "#from _11_Others import Solar_Radiation as SR\n",
    "#import Loads_and_Water_Temp as LWT\n",
    "\n",
    "import matplotlib.pyplot as plt\n",
    "%matplotlib inline"
   ]
  },
  {
   "cell_type": "markdown",
   "metadata": {},
   "source": [
    "# 第九章　自然エネルギー利用設備"
   ]
  },
  {
   "cell_type": "markdown",
   "metadata": {},
   "source": [
    "## 第三節　空気集熱式太陽熱利用設備"
   ]
  },
  {
   "cell_type": "markdown",
   "metadata": {},
   "source": [
    "### 5. 給湯部における補正集熱量"
   ]
  },
  {
   "cell_type": "markdown",
   "metadata": {},
   "source": [
    "日付$d$における1日当たりの給湯部における補正集熱量$L_{sun,ass,d}$"
   ]
  },
  {
   "cell_type": "markdown",
   "metadata": {},
   "source": [
    "$$\n",
    "\\begin{equation*}\n",
    "    L_{sun,ass,d} = min \\left( L_{tunk,d} , \\: \\left( L'_{k,d} + L'_{s,d} + L'_{w,d} + L'_{b1,d} + L'_{b2,d} + L'_{ba1,d} \\right) \\times f_{sr,uplim} \\right)\n",
    "\\end{equation*}\n",
    "$$"
   ]
  },
  {
   "cell_type": "markdown",
   "metadata": {},
   "source": [
    "$f_{sr,uplim}$ : 給湯部の分担率上限値(-)   \n",
    "$L_{sun,ass,d}$ : 日付$d$における1日当たりの給湯部における補正集熱量(MJ/日)  \n",
    "$L_{tnk,d}$ : 日付$d$における1日当たりの給湯部におけるタンク蓄熱量の上限による補正集熱量(MJ/日)  \n",
    "$L'_{k,d}$ : 日付$d$における1日当たりの台所水栓における節湯補正給湯熱負荷(MJ/日)  \n",
    "$L'_{s,d}$ : 日付$d$における1日当たりの浴室シャワー水栓における節湯補正給湯熱負荷(MJ/日)  \n",
    "$L'_{w,d}$ : 日付$d$における1日当たりの洗面水栓における節湯補正給湯熱負荷(MJ/日)  \n",
    "$L'_{b1,d}$ : 日付$d$における1日当たりの浴槽水栓湯はり時における節湯補正給湯熱負荷(MJ/日)  \n",
    "$L'_{b2,d}$ : 日付$d$における1日当たりの浴槽自動湯はり時における節湯補正給湯熱負荷(MJ/日)  \n",
    "$L'_{ba1,d}$ : 日付$d$における1日当たりの浴槽水栓さし湯時における節湯補正給湯熱負荷(MJ/日)"
   ]
  },
  {
   "cell_type": "markdown",
   "metadata": {},
   "source": [
    "給湯部の分担率上限値$f_{sr,uplim}$"
   ]
  },
  {
   "cell_type": "markdown",
   "metadata": {},
   "source": [
    "$$\n",
    "\\begin{equation*}\n",
    "    f_{sr,uplim} = 0.9\n",
    "\\end{equation*}\n",
    "$$"
   ]
  },
  {
   "cell_type": "code",
   "execution_count": 2,
   "metadata": {},
   "outputs": [],
   "source": [
    "def get_L_sun_ass(L_tnk, L_dash_s):\n",
    "    f_sr_uplim = 0.9 # -\n",
    "    return min(L_tnk, sum(L_dash_s) * f_sr_uplim)"
   ]
  },
  {
   "cell_type": "markdown",
   "metadata": {},
   "source": [
    "日付$d$における1日当たりの給湯部におけるタンク蓄熱量の上限による補正集熱量$L_{tnk,d}$"
   ]
  },
  {
   "cell_type": "markdown",
   "metadata": {},
   "source": [
    "$$\n",
    "\\begin{equation*}\n",
    "   L_{tnk,d} = min \\left( Q_{d} , \\: HC_{tnk,d} \\times \\alpha_{tnk,d} \\right)\n",
    "\\end{equation*}\n",
    "$$"
   ]
  },
  {
   "cell_type": "markdown",
   "metadata": {},
   "source": [
    "$L_{tnk,d}$ : 日付$d$における1日当たりの給湯部におけるタンク蓄熱量の上限による補正集熱量(MJ/日)  \n",
    "$Q_{d}$ : 日付$d$における1日当たりの基準集熱量(MJ/日)  \n",
    "$HC_{tnk,d}$ : 日付$d$における給湯部のタンク蓄熱量の上限(MJ)  \n",
    "$\\alpha_{tnk,d}$ : 日付$d$における給湯部のタンク有効利用率(1/日)  "
   ]
  },
  {
   "cell_type": "markdown",
   "metadata": {},
   "source": [
    "日付$d$における給湯部のタンク有効利用率$\\alpha_{tnk,d}$"
   ]
  },
  {
   "cell_type": "markdown",
   "metadata": {},
   "source": [
    "$$\n",
    "\\begin{equation*}\n",
    "    \\alpha_{tnk,d} = 1.0\n",
    "\\end{equation*}\n",
    "$$"
   ]
  },
  {
   "cell_type": "code",
   "execution_count": 3,
   "metadata": {},
   "outputs": [],
   "source": [
    "def get_L_tnk(Q_d, HC_tnk):\n",
    "    alpha_tnk = 1  # 1/day\n",
    "    return min(Q_d, HC_tnk * alpha_tnk)"
   ]
  },
  {
   "cell_type": "markdown",
   "metadata": {},
   "source": [
    "日付$d$における給湯部のタンク蓄熱量の上限$HC_{tnk,d}$"
   ]
  },
  {
   "cell_type": "markdown",
   "metadata": {},
   "source": [
    "$$\n",
    "\\begin{equation*}\n",
    "    HC_{tnk,d} = \\left( \\theta_{tnk} - \\theta_{wtr,d} \\right) \\times W_{tnk} \\times 10^{-3}\n",
    "\\end{equation*}\n",
    "$$"
   ]
  },
  {
   "cell_type": "markdown",
   "metadata": {},
   "source": [
    "$HC_{tnk,d}$ : 日付$d$における給湯部のタンク蓄熱量の上限(MJ)  \n",
    "$\\theta_{tnk}$ : 給湯部のタンク内温度(℃)   \n",
    "$\\theta_{wtr,d}$ : 日付$d$における日平均給水温度(℃)  \n",
    "$W_{tnk}$ : 給湯部のタンク容量(L)  "
   ]
  },
  {
   "cell_type": "markdown",
   "metadata": {},
   "source": [
    "給湯部のタンク内温度$\\theta_{tnk}$"
   ]
  },
  {
   "cell_type": "markdown",
   "metadata": {},
   "source": [
    "$$\n",
    "\\begin{equation*}\n",
    "    \\theta_{tnk} = 65\n",
    "\\end{equation*}\n",
    "$$"
   ]
  },
  {
   "cell_type": "code",
   "execution_count": 4,
   "metadata": {},
   "outputs": [],
   "source": [
    "def get_HC_tnk(theta_wtr, W_tnk):\n",
    "    theta_tnk = 65  # degree C\n",
    "    return (theta_tnk - theta_wtr) * W_tnk * 10**(-3)"
   ]
  },
  {
   "cell_type": "markdown",
   "metadata": {},
   "source": [
    "#### Example"
   ]
  },
  {
   "cell_type": "code",
   "execution_count": 5,
   "metadata": {},
   "outputs": [
    {
     "data": {
      "text/plain": [
       "18.127277300099998"
      ]
     },
     "execution_count": 5,
     "metadata": {},
     "output_type": "execute_result"
    }
   ],
   "source": [
    "_HC_tnk = get_HC_tnk(theta_wtr = 4.575742333, W_tnk = 300)\n",
    "_HC_tnk"
   ]
  },
  {
   "cell_type": "code",
   "execution_count": 6,
   "metadata": {
    "scrolled": true
   },
   "outputs": [
    {
     "data": {
      "text/plain": [
       "18.127277300099998"
      ]
     },
     "execution_count": 6,
     "metadata": {},
     "output_type": "execute_result"
    }
   ],
   "source": [
    "_L_tnk = get_L_tnk(Q_d = 100.024, HC_tnk = _HC_tnk)\n",
    "_L_tnk"
   ]
  },
  {
   "cell_type": "code",
   "execution_count": 7,
   "metadata": {},
   "outputs": [
    {
     "data": {
      "text/plain": [
       "18.127277300099998"
      ]
     },
     "execution_count": 7,
     "metadata": {},
     "output_type": "execute_result"
    }
   ],
   "source": [
    "get_L_sun_ass(L_tnk =_L_tnk, L_dash_s = [25.80175401, 33.36433708, 6.821153359, 26.69146967, 0.0, 4.831208333, 0.0])"
   ]
  },
  {
   "cell_type": "markdown",
   "metadata": {},
   "source": [
    "### 6. 基準集熱量"
   ]
  },
  {
   "cell_type": "markdown",
   "metadata": {},
   "source": [
    "日付$d$における1日当たりの基準集熱量$Q_{d}$"
   ]
  },
  {
   "cell_type": "markdown",
   "metadata": {},
   "source": [
    "$$\n",
    "\\begin{equation*}\n",
    "    Q_{d} = \\sum_{t=0}^{23} \\left( Q_{col,d,t} \\times f_{hx} \\times f_{s} \\times t_{cp,d,t} \\right)\n",
    "\\end{equation*}\n",
    "$$"
   ]
  },
  {
   "cell_type": "markdown",
   "metadata": {},
   "source": [
    "$f_{hx}$ : 給湯部の熱交換効率(-)  \n",
    "$f_{s}$ : 給湯部のシステム効率(-)  \n",
    "$Q_{d}$ : 日付$d$における1日当たりの基準集熱量(MJ/日)  \n",
    "$Q_{col,d,t}$ : 日付$d$の時刻$t$における1時間当たりの集熱部における集熱量(MJ/h)   \n",
    "$t_{cp,d,t}$ : 日付$d$の時刻$t$における1時間当たりの循環ポンプの稼働時間(h/h)   "
   ]
  },
  {
   "cell_type": "markdown",
   "metadata": {},
   "source": [
    "給湯部の熱交換効率$f_{hx}$"
   ]
  },
  {
   "cell_type": "markdown",
   "metadata": {},
   "source": [
    "$$\n",
    "\\begin{equation*}\n",
    "    f_{hx} = 0.25\n",
    "\\end{equation*}\n",
    "$$"
   ]
  },
  {
   "cell_type": "markdown",
   "metadata": {},
   "source": [
    "給湯部のシステム効率$f_{s}$"
   ]
  },
  {
   "cell_type": "markdown",
   "metadata": {},
   "source": [
    "$$\n",
    "\\begin{equation*}\n",
    "    f_{s} = 0.85\n",
    "\\end{equation*}\n",
    "$$"
   ]
  },
  {
   "cell_type": "code",
   "execution_count": 8,
   "metadata": {},
   "outputs": [],
   "source": [
    "def get_Q_d(Q_col, t_cp):    \n",
    "    f_hx = 0.25  # -\n",
    "    f_s = 0.85   # -\n",
    "    return Q_col * f_hx * f_s * t_cp"
   ]
  },
  {
   "cell_type": "markdown",
   "metadata": {},
   "source": [
    "#### Example"
   ]
  },
  {
   "cell_type": "code",
   "execution_count": 9,
   "metadata": {},
   "outputs": [
    {
     "data": {
      "text/plain": [
       "0.0034050766079999997"
      ]
     },
     "execution_count": 9,
     "metadata": {},
     "output_type": "execute_result"
    }
   ],
   "source": [
    "get_Q_d(Q_col = 0.026268672, t_cp = 0.61)"
   ]
  },
  {
   "cell_type": "markdown",
   "metadata": {},
   "source": [
    "### 7. 消費電力量"
   ]
  },
  {
   "cell_type": "markdown",
   "metadata": {},
   "source": [
    "#### 7.1　補機の消費電力量"
   ]
  },
  {
   "cell_type": "markdown",
   "metadata": {},
   "source": [
    "日付$d$における1日当たりの補機の消費電力量のうち暖房設備への付加分$E_{E,ass,aux,H,d}$、日付$d$における1日当たりの補機の消費電力量のうち給湯設備への付加分$E_{E,ass,aux,W,d}$"
   ]
  },
  {
   "cell_type": "markdown",
   "metadata": {},
   "source": [
    "$$\n",
    "\\begin{equation*}\n",
    "    E_{E,ass,aux,H,d} = \\sum_{t=0}^{23} E_{E,ass,aux,H,d,t}\n",
    "\\end{equation*}\n",
    "$$\n",
    "\n",
    "$$\n",
    "\\begin{equation*}\n",
    "    E_{E,ass,aux,W,d} = \\sum_{t=0}^{23} E_{E,ass,aux,W,d,t}\n",
    "\\end{equation*}\n",
    "$$"
   ]
  },
  {
   "cell_type": "markdown",
   "metadata": {},
   "source": [
    "$E_{E,ass,aux,H,d}$ : 日付$d$における1日当たりの補機の消費電力量のうち暖房設備への付加分(kWh/日)   \n",
    "$E_{E,ass,aux,W,d}$ : 日付$d$における1日当たりの補機の消費電力量のうち給湯設備への付加分(kWh/日)   \n",
    "$E_{E,ass,aux,H,d,t}$ : 日付$d$の時刻$t$における1時間当たりの補機の消費電力量のうち暖房設備への付加分(kWh/h)   \n",
    "$E_{E,ass,aux,W,d,t}$ : 日付$d$の時刻$t$における1時間当たりの補機の消費電力量のうち給湯設備への付加分(kWh/h)   "
   ]
  },
  {
   "cell_type": "markdown",
   "metadata": {},
   "source": [
    "日付$d$の時刻$t$における1時間当たりの補機の消費電力量のうち暖房設備への付加分$E_{E,ass,aux,H,d,t}$、日付$d$の時刻$t$における1時間当たりの補機の消費電力量のうち給湯設備への付加分$E_{E,ass,aux,W,d,t}$"
   ]
  },
  {
   "cell_type": "markdown",
   "metadata": {},
   "source": [
    "<p style=\"text-indent:2em\">空気集熱式太陽熱利用設備が給湯部を有さない場合：</p>\n",
    "$$\n",
    "\\begin{equation*}\n",
    "    E_{E,ass,aux,H,d,t} = E_{E,fan,d,t}\n",
    "\\end{equation*}\n",
    "$$\n",
    "\n",
    "$$\n",
    "\\begin{equation*}\n",
    "    E_{E,ass,aux,W,d,t} = 0\n",
    "\\end{equation*}\n",
    "$$\n",
    "\n",
    "<p style=\"text-indent:2em\">空気集熱式太陽熱利用設備が給湯部を有する場合：</p>\n",
    "<p style=\"text-indent:4em\">$V_{sa,d,t} = 0$（床下もしくは居室へ空気供給を行わない場合 = 集熱した熱を暖房に利用しない場合）：</p> \n",
    "$$\n",
    "\\begin{equation*}\n",
    "    E_{E,ass,aux,H,d,t} = 0\n",
    "\\end{equation*}\n",
    "$$\n",
    "\n",
    "$$\n",
    "\\begin{equation*}\n",
    "    E_{E,ass,aux,W,d,t} = E_{E,fan,d,t} + E_{E,cp,d,t}\n",
    "\\end{equation*}\n",
    "$$\n",
    "\n",
    "\n",
    "<p style=\"text-indent:4em\">$0 < V_{sa,d,t}$（床下もしくは居室へ空気供給を行う場合 = 集熱した熱を暖房に利用する場合）：</p> \n",
    "$$\n",
    "\\begin{equation*}\n",
    "    E_{E,ass,aux,H,d,t} = E_{E,fan,d,t} \\times \\left(1 - f_{hx} \\right) + E_{E,cp,d,t}\n",
    "\\end{equation*}\n",
    "$$\n",
    "\n",
    "$$\n",
    "\\begin{equation*}\n",
    "    E_{E,ass,aux,W,d,t} = E_{E,fan,d,t} \\times f_{hx} + E_{E,cp,d,t}\n",
    "\\end{equation*}\n",
    "$$"
   ]
  },
  {
   "cell_type": "markdown",
   "metadata": {},
   "source": [
    "$E_{E,ass,aux,H,d,t}$ : 日付$d$の時刻$t$における1時間当たりの補機の消費電力量のうち暖房設備への付加分(kWh/h)   \n",
    "$E_{E,ass,aux,W,d,t}$ : 日付$d$の時刻$t$における1時間当たりの補機の消費電力量のうち給湯設備への付加分(kWh/h)   \n",
    "$E_{E,cp,d,t}$ : 日付$d$の時刻$t$における1時間当たりの循環ポンプの消費電力量(kWh/h)   \n",
    "$E_{E,fan,d,t}$ : 日付$d$の時刻$t$における1時間当たりの空気搬送ファンの消費電力量(kWh/h)   \n",
    "$f_{hx}$ : 給湯部の熱交換効率(-)  \n",
    "$V_{sa,d,t}$ : 日付$d$の時刻$t$における1時間当たりの床下もしくは居室への供給風量(m3/h)  "
   ]
  },
  {
   "cell_type": "code",
   "execution_count": 10,
   "metadata": {},
   "outputs": [],
   "source": [
    "def get_E_E_ass_aux_W(Water_Heating, E_E_fan, E_E_cp, V_sa):    \n",
    "    if Water_Heating is False:\n",
    "        return (0, 0)\n",
    "    elif Water_Heating is True:\n",
    "        if V_sa == 0:\n",
    "            return (0, E_E_fan + E_E_cp)\n",
    "        elif 0 < V_sa:\n",
    "            f_hx = 0.25\n",
    "            return (E_E_fan * (1-f_hx) + E_E_cp, E_E_fan * f_hx + E_E_cp)\n",
    "        else:\n",
    "            raise Exception\n",
    "    else:\n",
    "        raise Exception"
   ]
  },
  {
   "cell_type": "markdown",
   "metadata": {},
   "source": [
    "#### 7.2　空気搬送ファンの消費電力量"
   ]
  },
  {
   "cell_type": "markdown",
   "metadata": {},
   "source": [
    "日付$d$における1日当たりの空気搬送ファンの消費電力量$E_{E,fan,d,t}$"
   ]
  },
  {
   "cell_type": "markdown",
   "metadata": {},
   "source": [
    "<p style=\"text-indent:2em\">空気搬送ファンの自立運転用太陽光発電装置を採用する場合：</p>  \n",
    "$$ \n",
    "\\begin{equation*}\n",
    "    E_{E,fan,d,t} =0\n",
    "\\end{equation*}\n",
    "$$"
   ]
  },
  {
   "cell_type": "markdown",
   "metadata": {},
   "source": [
    "<p style=\"text-indent:2em\">空気搬送ファンの自立運転用太陽光発電装置を採用しない場合：</p>  \n",
    "$$ \n",
    "\\begin{equation*}\n",
    "    E_{E,fan,d,t} =f_{SFP} \\times V_{fan,d,t} \\times t_{fan,d,t} \\times 10^{-3}\n",
    "\\end{equation*}\n",
    "$$"
   ]
  },
  {
   "cell_type": "markdown",
   "metadata": {},
   "source": [
    "$E_{E,fan,d,t}$ : 日付$d$の時刻$t$における1時間当たりの空気搬送ファンの消費電力量(kWh/h)  \n",
    "$f_{SFP}$ : 空気搬送ファンの比消費電力(W/(m<sup>3</sup>/h))  \n",
    "$t_{fan,d,t}$ : 日付$d$の時刻$t$における1時間当たりの空気搬送ファンの稼働時間(h/h)  \n",
    "$V_{fan,d,t}$ : 日付$d$の時刻$t$における1時間当たりの空気搬送ファンの風量(m<sup>3</sup>/h)  "
   ]
  },
  {
   "cell_type": "markdown",
   "metadata": {},
   "source": [
    "空気搬送ファンの比消費電力$f_{SFP}$"
   ]
  },
  {
   "cell_type": "markdown",
   "metadata": {},
   "source": [
    "<table>\n",
    "    <caption>表3 空気搬送ファンの比消費電力$f_{SFP}$</caption>\n",
    "    <thead style=\"background-color:lightgrey\" >\n",
    "        <tr>\n",
    "            <th style=\"text-align:center; text-align:center; border:1px solid black;\">ファンの種別</th>\n",
    "            <th style=\"text-align:center; text-align:center; border:1px solid black;\">ファンの比消費電力$f_{SFP}$<br/>(W/(m<sup>3</sup>/h))</th>\n",
    "        </tr>\n",
    "    </thead>\n",
    "    <tbody>    \n",
    "        <tr>\n",
    "            <td style=\"border:1px solid black; text-align:center;\">ACファン</td>\n",
    "            <td style=\"border:1px solid black; text-align:center;\">0.4</td>\n",
    "        </tr>\n",
    "        <tr>\n",
    "            <td style=\"border:1px solid black; text-align:center;\">DCファン</td>\n",
    "            <td style=\"border:1px solid black; text-align:center;\">0.2</td>\n",
    "        </tr>\n",
    "    </tbody> \n",
    "<table>"
   ]
  },
  {
   "cell_type": "code",
   "execution_count": 11,
   "metadata": {},
   "outputs": [],
   "source": [
    "def get_f_SFP(Fan_Type):\n",
    "    return {'AC' : 0.4, 'DC' : 0.2}[Fan_Type]"
   ]
  },
  {
   "cell_type": "code",
   "execution_count": 12,
   "metadata": {},
   "outputs": [],
   "source": [
    "def get_E_E_fan(t_fan, V_fan, PV_for_Fan, Fan_Type):\n",
    "    if PV_for_Fan is True:\n",
    "        return 0\n",
    "    elif PV_for_Fan is False:\n",
    "        f_SFP = get_f_SFP(Fan_Type)  # W/(m3/h)\n",
    "        return f_SFP * V_fan * t_fan * 10**(-3)\n",
    "    else:\n",
    "        raise Exeption"
   ]
  },
  {
   "cell_type": "markdown",
   "metadata": {},
   "source": [
    "#### 7.3　循環ポンプの消費電力量"
   ]
  },
  {
   "cell_type": "markdown",
   "metadata": {},
   "source": [
    "日付$d$の時刻$t$における1時間当たりの循環ポンプの消費電力量$E_{E,cp,d,t}$"
   ]
  },
  {
   "cell_type": "markdown",
   "metadata": {},
   "source": [
    "$$\n",
    "\\begin{equation*}\n",
    "    E_{E,cp,d,t} = P_{cp} \\times t_{cp,d,t} \\times 10^{-3}\n",
    "\\end{equation*}\n",
    "$$"
   ]
  },
  {
   "cell_type": "markdown",
   "metadata": {},
   "source": [
    "$E_{E,cp,d,t}$ : 日付$d$の時刻$t$における1時間当たりの循環ポンプの消費電力量(kWh/h)   \n",
    "$P_{cp}$ : 循環ポンプの消費電力(W)   \n",
    "$t_{cp,d,t}$ : 日付$d$の時刻$t$における1時間当たりの循環ポンプの稼働時間(h/h)  "
   ]
  },
  {
   "cell_type": "markdown",
   "metadata": {},
   "source": [
    "循環ポンプの消費電力$P_{cp}$"
   ]
  },
  {
   "cell_type": "markdown",
   "metadata": {},
   "source": [
    "<table>\n",
    "    <caption>表4 循環ポンプの消費電力$P_{cp}$</caption>\n",
    "    <thead style=\"background-color:lightgrey\" >\n",
    "        <tr>\n",
    "            <th style=\"text-align:center; text-align:center; border:1px solid black;\">循環ポンプの自立運転用太陽光発電装置の採用の有無</th>\n",
    "            <th style=\"text-align:center; text-align:center; border:1px solid black;\">循環ポンプの消費電力$P_{cp}$<br/>(W)</th>\n",
    "        </tr>\n",
    "    </thead>\n",
    "    <tbody>    \n",
    "        <tr>\n",
    "            <td style=\"border:1px solid black; text-align:center;\">採用しない</td>\n",
    "            <td style=\"border:1px solid black; text-align:center;\">80</td>\n",
    "        </tr>\n",
    "        <tr>\n",
    "            <td style=\"border:1px solid black; text-align:center;\">採用する</td>\n",
    "            <td style=\"border:1px solid black; text-align:center;\">0</td>\n",
    "        </tr>\n",
    "    </tbody> \n",
    "<table>"
   ]
  },
  {
   "cell_type": "code",
   "execution_count": 13,
   "metadata": {},
   "outputs": [],
   "source": [
    "def get_P_cp(PV_for_Pump):\n",
    "    return {False : 80, True : 0}[PV_for_Pump]"
   ]
  },
  {
   "cell_type": "code",
   "execution_count": 14,
   "metadata": {},
   "outputs": [],
   "source": [
    "def get_E_E_pump(t_cp, PV_for_Pump):\n",
    "    P_cp = get_P_cp(PV_for_Pump)  # W\n",
    "    return P_cp * t_cp * 10**(-3)"
   ]
  },
  {
   "cell_type": "markdown",
   "metadata": {},
   "source": [
    "#### Example"
   ]
  },
  {
   "cell_type": "code",
   "execution_count": 15,
   "metadata": {},
   "outputs": [
    {
     "data": {
      "text/plain": [
       "0.28800000000000003"
      ]
     },
     "execution_count": 15,
     "metadata": {},
     "output_type": "execute_result"
    }
   ],
   "source": [
    "_E_E_fan = get_E_E_fan(t_fan = 1, V_fan = 720, PV_for_Fan = False, Fan_Type = 'AC')\n",
    "_E_E_fan"
   ]
  },
  {
   "cell_type": "code",
   "execution_count": 16,
   "metadata": {
    "scrolled": true
   },
   "outputs": [
    {
     "data": {
      "text/plain": [
       "0.08"
      ]
     },
     "execution_count": 16,
     "metadata": {},
     "output_type": "execute_result"
    }
   ],
   "source": [
    "_E_E_pump = get_E_E_pump(t_cp = 1, PV_for_Pump = False)\n",
    "_E_E_pump"
   ]
  },
  {
   "cell_type": "code",
   "execution_count": 17,
   "metadata": {},
   "outputs": [
    {
     "data": {
      "text/plain": [
       "(0.29600000000000004, 0.15200000000000002)"
      ]
     },
     "execution_count": 17,
     "metadata": {},
     "output_type": "execute_result"
    }
   ],
   "source": [
    "get_E_E_ass_aux_W(Water_Heating = True, E_E_fan = _E_E_fan, E_E_cp = _E_E_pump, t_sa = 1)"
   ]
  },
  {
   "cell_type": "markdown",
   "metadata": {},
   "source": [
    "### 8. 空気搬送ファンおよび循環ポンプ"
   ]
  },
  {
   "cell_type": "markdown",
   "metadata": {},
   "source": [
    "#### 8.1　空気搬送ファンの稼働時間"
   ]
  },
  {
   "cell_type": "markdown",
   "metadata": {},
   "source": [
    "日付$d$の時刻$t$における1時間当たりの空気搬送ファンの稼働時間$t_{fan,d,t}$  "
   ]
  },
  {
   "cell_type": "markdown",
   "metadata": {},
   "source": [
    "<p style=\"text-indent:2em\">$30 \\leq \\theta_{col,nonopg,d,t}$ かつ $25 < \\theta_{col,opg,d,t}$の場合：</p> \n",
    "$$ \n",
    "\\begin{equation*}\n",
    "   t_{fan,d,t} = 1\n",
    "\\end{equation*}\n",
    "$$\n",
    "\n",
    "<p style=\"text-indent:2em\">$\\theta_{col,nonopg,d,t} < 30$ または $\\theta_{col,opg,d,t} \\leq 25$の場合：</p> \n",
    "$$ \n",
    "\\begin{equation*}\n",
    "   t_{fan,d,t} = 0\n",
    "\\end{equation*}\n",
    "$$"
   ]
  },
  {
   "cell_type": "markdown",
   "metadata": {},
   "source": [
    "$t_{fan,d,t}$ : 日付$d$の時刻$t$における1時間当たりの空気搬送ファンの稼働時間(h/h)  \n",
    "$\\theta_{col,opg,d,t}$ : 日付$d$の時刻$t$における空気搬送ファン稼働時の集熱部の出口における空気温度(℃)  \n",
    "$\\theta_{col,nonopg,d,t}$ : 日付$d$の時刻$t$における空気搬送ファン停止時の集熱部の出口における空気温度(℃)  "
   ]
  },
  {
   "cell_type": "code",
   "execution_count": 18,
   "metadata": {},
   "outputs": [],
   "source": [
    "def get_t_fan(theta_col_opg, theta_col_nonopg):\n",
    "    if 30 <= theta_col_nonopg and 25 < theta_col_opg:\n",
    "        return 1\n",
    "    elif theta_col_nonopg < 30 or theta_col_opg <= 25:\n",
    "        return 0\n",
    "    else:\n",
    "        raise Exception"
   ]
  },
  {
   "cell_type": "markdown",
   "metadata": {},
   "source": [
    "#### 8.2　循環ポンプの稼働時間"
   ]
  },
  {
   "cell_type": "markdown",
   "metadata": {},
   "source": [
    "日付$d$の時刻$t$における1時間当たりの循環ポンプの稼働時間$t_{cp,d,t}$"
   ]
  },
  {
   "cell_type": "markdown",
   "metadata": {},
   "source": [
    "<p style=\"text-indent:2em\">空気集熱式太陽熱利用設備が給湯部を有さない場合：</p>\n",
    "$$ \n",
    "\\begin{equation*}\n",
    "   t_{cp,d,t} = 0\n",
    "\\end{equation*}\n",
    "$$\n",
    "\n",
    "<p style=\"text-indent:2em\">空気集熱式太陽熱利用設備が給湯部を有する場合：</p>\n",
    "<p style=\"text-indent:4em\">$t_{fan,d,t} = 0$（集熱なし）、または、$0 < t_{fan,d,t}$ かつ $0 <\\displaystyle \\sum_{i=0}^{12} L'_{H,d,t,i}$（集熱あり＋暖房負荷あり）の場合：</p> \n",
    "$$ \n",
    "\\begin{equation*}\n",
    "   t_{cp,d,t} = 0\n",
    "\\end{equation*}\n",
    "$$\n",
    "\n",
    "<p style=\"text-indent:4em\">$0 < t_{fan,d,t}$ かつ $\\displaystyle \\sum_{i=0}^{12} L'_{H,d,t,i} = 0$（集熱あり＋暖房負荷なし）の場合：</p> \n",
    "$$ \n",
    "\\begin{equation*}\n",
    "   t_{cp,d,t} = 1\n",
    "\\end{equation*}\n",
    "$$"
   ]
  },
  {
   "cell_type": "markdown",
   "metadata": {},
   "source": [
    "$L'_{H,d,t,i}$ : 日付$d$の時刻$t$における暖冷房区画$i$の負荷補正前の暖房負荷(MJ/h)  \n",
    "$t_{cp,d,t}$ : 日付$d$の時刻$t$における1時間当たりの循環ポンプの稼働時間(h/h)  \n",
    "$t_{fan,d,t}$ : 日付$d$の時刻$t$における1時間当たりの空気搬送ファンの稼働時間(h/h)  "
   ]
  },
  {
   "cell_type": "code",
   "execution_count": 19,
   "metadata": {},
   "outputs": [],
   "source": [
    "def get_t_cp(Water_Heating, t_fan, L_dash_H_i_s):\n",
    "    if Water_Heating is False:\n",
    "        return 0\n",
    "    elif Water_Heating is True:\n",
    "        if t_fan == 0 or (0 < t_fan and 0 < sum(L_dash_H_i_s)):\n",
    "            return 0\n",
    "        elif 0 < t_fan and sum(L_dash_H_i_s) == 0:\n",
    "            return 1\n",
    "        else:\n",
    "            raise Exception\n",
    "    else:\n",
    "        raise Exception"
   ]
  },
  {
   "cell_type": "markdown",
   "metadata": {},
   "source": [
    "#### 8.3　空気搬送ファンの風量"
   ]
  },
  {
   "cell_type": "markdown",
   "metadata": {},
   "source": [
    "日付$d$の時刻$t$における1時間当たりの空気搬送ファンの風量$V_{fan,d,t}$"
   ]
  },
  {
   "cell_type": "markdown",
   "metadata": {},
   "source": [
    "$$ \n",
    "\\begin{equation*}\n",
    "   V_{fan,d,t} = V_{fan,P0} \\times t_{fan,d,t}\n",
    "\\end{equation*}\n",
    "$$"
   ]
  },
  {
   "cell_type": "markdown",
   "metadata": {},
   "source": [
    "$t_{fan,d,t}$ : 日付$d$の時刻$t$における1時間当たりの空気搬送ファンの稼働時間(h/h)  \n",
    "$V_{fan,d,t}$ : 日付$d$の時刻$t$における1時間当たりの空気搬送ファンの風量(m<sup>3</sup>/h)  \n",
    "$V_{fan,P0}$ : 空気搬送ファンの送風機特性曲線において機外静圧をゼロとした時の空気搬送ファンの風量(m<sup>3</sup>/h)  "
   ]
  },
  {
   "cell_type": "code",
   "execution_count": 20,
   "metadata": {},
   "outputs": [],
   "source": [
    "def get_V_fan(t_fan, V_fan_P0):\n",
    "    return V_fan_P0 * t_fan"
   ]
  },
  {
   "cell_type": "markdown",
   "metadata": {},
   "source": [
    "#### 8.4　床下もしくは居室への供給風量"
   ]
  },
  {
   "cell_type": "markdown",
   "metadata": {},
   "source": [
    "日付$d$の時刻$t$における1時間当たりの床下もしくは居室への供給風量$V_{sa,d,t}$"
   ]
  },
  {
   "cell_type": "markdown",
   "metadata": {},
   "source": [
    "<p style=\"text-indent:2em\">$t_{fan,d,t} = 0$（集熱なし）、または、$0 < t_{fan,d,t}$ かつ $\\displaystyle \\sum_{i=0}^{12} L'_{H,24h,d,t,i} = 0$（集熱あり＋暖房日ではない）の場合：</p> \n",
    "$$ \n",
    "\\begin{equation*}\n",
    "   V_{sa,d,t} = 0\n",
    "\\end{equation*}\n",
    "$$\n",
    "\n",
    "<p style=\"text-indent:2em\">$0 < t_{fan,d,t}$ かつ $0 < \\displaystyle \\sum_{i=0}^{12} L'_{H,24h,d,t,i}$（集熱あり＋暖房日である）の場合：</p> \n",
    "$$ \n",
    "\\begin{equation*}\n",
    "   V_{sa,d,t} = V_{fan,d,t}\n",
    "\\end{equation*}\n",
    "$$"
   ]
  },
  {
   "cell_type": "markdown",
   "metadata": {},
   "source": [
    "$L'_{H,24h,d,t,i}$ : 日付$d$の時刻$t$における暖冷房区画$i$の負荷補正前の暖房負荷を当該時刻を含む前24時間で積算した値(MJ/h)  \n",
    "$t_{fan,d,t}$ : 日付$d$の時刻$t$における1時間当たりの空気搬送ファンの稼働時間(h/h)  \n",
    "$V_{sa,d,t}$ : 日付$d$の時刻$t$における1時間当たりの床下もしくは居室への供給時間(m3/h)  "
   ]
  },
  {
   "cell_type": "code",
   "execution_count": 21,
   "metadata": {},
   "outputs": [],
   "source": [
    "def get_L_dash_H_24h_i(L_dash_H_i_s):\n",
    "    return sum(L_dash_H_i_s)"
   ]
  },
  {
   "cell_type": "code",
   "execution_count": 22,
   "metadata": {},
   "outputs": [],
   "source": [
    "def get_t_sa(t_fan, V_fan, L_dash_H_24h_i_s):\n",
    "    if t_fan == 0 or (0 < t_fan and sum(L_dash_H_24h_i_s) == 0):\n",
    "        return 0\n",
    "    elif 0 < t_fan and 0 < sum(L_dash_H_24h_i_s):\n",
    "        return V_fan\n",
    "    else:\n",
    "        raise Exception"
   ]
  },
  {
   "cell_type": "markdown",
   "metadata": {},
   "source": [
    "#### Example"
   ]
  },
  {
   "cell_type": "code",
   "execution_count": 23,
   "metadata": {
    "scrolled": true
   },
   "outputs": [
    {
     "data": {
      "text/plain": [
       "1"
      ]
     },
     "execution_count": 23,
     "metadata": {},
     "output_type": "execute_result"
    }
   ],
   "source": [
    "_t_fan = get_t_fan(theta_col_opg = 31.06, theta_col_nonopg = 53.64)\n",
    "_t_fan"
   ]
  },
  {
   "cell_type": "code",
   "execution_count": 24,
   "metadata": {},
   "outputs": [
    {
     "data": {
      "text/plain": [
       "1"
      ]
     },
     "execution_count": 24,
     "metadata": {},
     "output_type": "execute_result"
    }
   ],
   "source": [
    "get_t_cp(Water_Heating = True, t_fan = _t_fan, L_dash_H_i_s = [0])"
   ]
  },
  {
   "cell_type": "code",
   "execution_count": 25,
   "metadata": {},
   "outputs": [
    {
     "data": {
      "text/plain": [
       "720"
      ]
     },
     "execution_count": 25,
     "metadata": {},
     "output_type": "execute_result"
    }
   ],
   "source": [
    "get_V_fan(t_fan = _t_fan, V_fan_P0 = 720)"
   ]
  },
  {
   "cell_type": "code",
   "execution_count": 26,
   "metadata": {},
   "outputs": [
    {
     "data": {
      "text/plain": [
       "[0, 0, 0, 0, 0, 0, 0, 0, 0, 0, 0, 0]"
      ]
     },
     "execution_count": 26,
     "metadata": {},
     "output_type": "execute_result"
    }
   ],
   "source": [
    "L_dash_H = [(0,0),(0,0),(0,0),(0,0),(0,0),(0,0),(0,0),(0,0),(0,0),(0,0),(0,0),(0,0)]\n",
    "_L_dash_H_24h_i_s = [get_L_dash_H_24h_i(L_dash_H_i_s) for L_dash_H_i_s in L_dash_H] \n",
    "_L_dash_H_24h_i_s"
   ]
  },
  {
   "cell_type": "code",
   "execution_count": 27,
   "metadata": {},
   "outputs": [
    {
     "data": {
      "text/plain": [
       "0"
      ]
     },
     "execution_count": 27,
     "metadata": {},
     "output_type": "execute_result"
    }
   ],
   "source": [
    "get_t_sa(t_fan = _t_fan, L_dash_H_24h_i_s = _L_dash_H_24h_i_s)"
   ]
  },
  {
   "cell_type": "markdown",
   "metadata": {},
   "source": [
    "### 9. 集熱部"
   ]
  },
  {
   "cell_type": "markdown",
   "metadata": {},
   "source": [
    "#### 9.1　集熱量"
   ]
  },
  {
   "cell_type": "markdown",
   "metadata": {},
   "source": [
    "日付$d$の時刻$t$における1時間当たりの集熱部における集熱量$Q_{col,d,t}$"
   ]
  },
  {
   "cell_type": "markdown",
   "metadata": {},
   "source": [
    "$$ \n",
    "\\begin{equation*}\n",
    "   Q_{col,d,t} = \\rho_{air} \\times c_{P_{air}} \\times V_{fan,d,t} \\times \\left( \\theta_{col,opg,d,t} - \\theta_{ex,d,t} \\right) \\times 10^{-3}\n",
    "\\end{equation*}\n",
    "$$"
   ]
  },
  {
   "cell_type": "markdown",
   "metadata": {},
   "source": [
    "$c_{P_{air}}$ : 空気の比熱(kJ/(kg$\\cdot$K))  \n",
    "$Q_{col,d,t}$ : 空日付$d$の時刻$t$における1時間当たりの集熱部における集熱量(MJ/h)  \n",
    "$V_{fan,d,t}$ : 日付$d$の時刻$t$における1時間当たりの空気搬送ファンの風量(m<sup>3</sup>/h)  \n",
    "$\\theta_{col,opg,d,t}$ : 日付$d$の時刻$t$における空気搬送ファン稼働時の集熱部の出口における空気温度(℃)  \n",
    "$\\theta_{ex,d,t}$ : 日付$d$の時刻$t$における外気温度(℃)  \n",
    "$\\rho_{air}$ : 空気の密度(kg/m<sup>3</sup>)  "
   ]
  },
  {
   "cell_type": "markdown",
   "metadata": {},
   "source": [
    "空気の密度$\\rho_{air}$"
   ]
  },
  {
   "cell_type": "markdown",
   "metadata": {},
   "source": [
    "$$ \n",
    "\\begin{equation*}\n",
    "   \\rho_{air} = 1.2\n",
    "\\end{equation*}\n",
    "$$"
   ]
  },
  {
   "cell_type": "markdown",
   "metadata": {},
   "source": [
    "空気の比熱$c_{P_{air}}$"
   ]
  },
  {
   "cell_type": "markdown",
   "metadata": {},
   "source": [
    "$$ \n",
    "\\begin{equation*}\n",
    "   c_{P_{air}} = 1.006\n",
    "\\end{equation*}\n",
    "$$"
   ]
  },
  {
   "cell_type": "code",
   "execution_count": 28,
   "metadata": {},
   "outputs": [],
   "source": [
    "def get_Q_col(V_fan, theta_col_opg, theta_ex):\n",
    "    rho_air = 1.2    # kg/m3\n",
    "    c_P_air = 1.006  # kJ/(kg K)\n",
    "    return rho_air * c_P_air * V_fan * (theta_col_opg - theta_ex) *10**(-3)"
   ]
  },
  {
   "cell_type": "markdown",
   "metadata": {},
   "source": [
    "#### 9.2　空気搬送ファン停止時の集熱部の出口における空気温度"
   ]
  },
  {
   "cell_type": "markdown",
   "metadata": {},
   "source": [
    "日付$d$の時刻$t$における空気搬送ファン停止時の集熱部の出口における空気温度$\\theta_{col,nonopg,d,t}$"
   ]
  },
  {
   "cell_type": "markdown",
   "metadata": {},
   "source": [
    "$$ \n",
    "\\begin{equation*}\n",
    "   \\theta_{col,nonopg,d,t} = \\frac{\\displaystyle \\sum_{j=1}^{n} \\left( \\theta_{col,nonopg,j,d,t} \\times V_{col,j,d,t} \\right)}{\\displaystyle \\sum_{j=1}^{n} V_{col,j,d,t}}\n",
    "\\end{equation*}\n",
    "$$"
   ]
  },
  {
   "cell_type": "markdown",
   "metadata": {},
   "source": [
    "$n$ : 集熱器群の数(-)  \n",
    "$V_{col,j,d,t}$ : 日付$d$の時刻$t$における空気集熱ファン稼働時に集熱器群$j$を流れる空気の体積流量(m<sup>3</sup>/h)  \n",
    "$\\theta_{col,nonopg,d,t}$ : 日付$d$の時刻$t$における空気搬送ファン停止時の集熱部の出口における空気温度(℃)  \n",
    "$\\theta_{col,nonopg,j,d,t}$ : 日付$d$の時刻$t$における空気搬送ファン停止時の集熱器群$j$の出口における空気温度(℃)  "
   ]
  },
  {
   "cell_type": "code",
   "execution_count": 29,
   "metadata": {},
   "outputs": [],
   "source": [
    "def get_theta_col_nonopg(theta_col_nonopg_s, V_col_s, n_col):\n",
    "    return sum(theta_col_nonopg_s[j1] * V_col_s[j1] for j1 in range(0,n_col,1)) / sum(V_col_s[j2] for j2 in range(0,n_col,1))"
   ]
  },
  {
   "cell_type": "markdown",
   "metadata": {},
   "source": [
    "#### 9.3　空気搬送ファン稼働時の集熱部の出口における空気温度"
   ]
  },
  {
   "cell_type": "markdown",
   "metadata": {},
   "source": [
    "日付$d$の時刻$t$における空気搬送ファン稼働時の集熱部の出口における空気温度$\\theta_{col,opg,d,t}$"
   ]
  },
  {
   "cell_type": "markdown",
   "metadata": {},
   "source": [
    "$$ \n",
    "\\begin{equation*}\n",
    "   \\theta_{col,opg,d,t} = \\frac{\\displaystyle \\sum_{j=1}^{n} \\left( \\theta_{col,opg,j,d,t} \\times V_{col,j,d,t} \\right)}{\\displaystyle \\sum_{j=1}^{n} V_{col,j,d,t}}\n",
    "\\end{equation*}\n",
    "$$"
   ]
  },
  {
   "cell_type": "markdown",
   "metadata": {},
   "source": [
    "$n$ : 集熱器群の数(-)  \n",
    "$V_{col,j,d,t}$ : 日付$d$の時刻$t$における空気集熱ファン稼働時に集熱器群$j$を流れる空気の体積流量(-)  \n",
    "$\\theta_{col,opg,d,t}$ : 日付$d$の時刻$t$における空気搬送ファン稼働時の集熱部の出口における空気温度(℃)  \n",
    "$\\theta_{col,opg,j,d,t}$ : 日付$d$の時刻$t$における空気搬送ファン稼働時の集熱器群$j$の出口における空気温度(℃)  "
   ]
  },
  {
   "cell_type": "code",
   "execution_count": 30,
   "metadata": {},
   "outputs": [],
   "source": [
    "def get_theta_col_opg(theta_col_opg_s, V_col_s, n_col):\n",
    "    return sum(theta_col_opg_s[j] * V_col_s[j] for j in range(0,n_col,1)) / sum(V_col_s[j] for j in range(0,n_col,1))"
   ]
  },
  {
   "cell_type": "markdown",
   "metadata": {},
   "source": [
    "#### 9.4　空気搬送ファン停止時の集熱器群の出口における空気温度"
   ]
  },
  {
   "cell_type": "markdown",
   "metadata": {},
   "source": [
    "日付$d$の時刻$t$における空気搬送ファン停止時の集熱器群$j$の出口における空気温度$\\theta_{col,nonopg,j,d,t}$"
   ]
  },
  {
   "cell_type": "markdown",
   "metadata": {},
   "source": [
    "$$ \n",
    "\\begin{equation*}\n",
    "   \\theta_{col,nonopg,j,d,t} = \\frac{d_{0,j}}{d_{1,j}} \\times I_{s,j,d,t} + \\theta_{ex,d,t}\n",
    "\\end{equation*}\n",
    "$$"
   ]
  },
  {
   "cell_type": "markdown",
   "metadata": {},
   "source": [
    "$d_{0,j}$ : 集熱器群$j$を構成する集熱器の集熱効率特性線図一次近似式の切片(-)  \n",
    "$d_{1,j}$ : 集熱器群$j$を構成する集熱器の集熱効率特性線図一次近似式の傾き(W/(m<sup>2</sup>$\\cdot$K))  \n",
    "$I_{s,j,d,t}$ : 日付$d$の時刻$t$における集熱器群$j$の単位面積当たりの平均日射量(W/m<sup>2</sup>)  \n",
    "$\\theta_{ex,d,t}$ : 日付$d$の時刻$t$における外気温度(℃)  \n",
    "$\\theta_{col,nonopg,j,d,t}$ : 日付$d$の時刻$t$における空気搬送ファン停止時の集熱器群$j$の出口における空気温度(℃)  "
   ]
  },
  {
   "cell_type": "code",
   "execution_count": 31,
   "metadata": {},
   "outputs": [],
   "source": [
    "def get_theta_col_nonopg_j(I_s, theta_ex, d_0, d_1):\n",
    "    return d_0 / d_1 * I_s + theta_ex"
   ]
  },
  {
   "cell_type": "markdown",
   "metadata": {},
   "source": [
    "#### 9.5　空気搬送ファン稼働時の集熱器群の出口における空気温度"
   ]
  },
  {
   "cell_type": "markdown",
   "metadata": {},
   "source": [
    "日付$d$の時刻$t$における空気搬送ファン稼働時の集熱器群$j$の出口における空気温度$\\theta_{col,opg,j,d,t}$"
   ]
  },
  {
   "cell_type": "markdown",
   "metadata": {},
   "source": [
    "$$ \n",
    "\\begin{equation*}\n",
    "   \\theta_{col,opg,j,d,t} = \\theta_{col,nonopg,j,d,t} + \\left( \\theta_{ex,d,t} - \\theta_{col,nonopg,j,d,t} \\right) \\times e^{- \\frac{U_{c,j} \\times A_{j}}{c_{P_{air}} \\times \\rho_{air} \\times V_{col,j,d,t} \\div 3600 \\times 10^{3}}}\n",
    "\\end{equation*}\n",
    "$$"
   ]
  },
  {
   "cell_type": "markdown",
   "metadata": {},
   "source": [
    "$A_{j}$ : 集熱器群$j$の面積(m<sup>2</sup>)  \n",
    "$c_{P_{air}}$ : 空気の比熱(kJ/(kg$\\cdot$K))  \n",
    "$U_{c,j}$ : 集熱器群$j$を構成する集熱器の集熱器総合熱損失係数(W/(m<sup>2</sup>$\\cdot$K))  \n",
    "$V_{col,j,d,t}$ : 日付$d$の時刻$t$における空気集熱ファン稼働時に集熱器群$j$を流れる空気の体積流量(m<sup>3</sup>/h)  \n",
    "$\\theta_{col,opg,d,t}$ : 日付$d$の時刻$t$における空気搬送ファン稼働時の集熱部の出口における空気温度(℃)  \n",
    "$\\theta_{col,nonopg,j,d,t}$ : 日付$d$の時刻$t$における空気搬送ファン停止時の集熱器群$j$の出口における空気温度(℃)  \n",
    "$\\theta_{ex,d,t}$ : 日付$d$の時刻$t$における外気温度(℃)  \n",
    "$\\rho_{air}$ : 空気の密度(kg/m<sup>3</sup>)  "
   ]
  },
  {
   "cell_type": "code",
   "execution_count": 32,
   "metadata": {},
   "outputs": [],
   "source": [
    "def get_theta_col_opg_j(theta_col_nonopg, U_c, V_col, theta_ex, A):\n",
    "    rho_air = 1.2    # kg/m3\n",
    "    c_P_air = 1.006  # kJ/(kg K)    \n",
    "\n",
    "    return theta_col_nonopg + (theta_ex - theta_col_nonopg) * \\\n",
    "            math.exp(-U_c * A / (c_P_air * rho_air * V_col / 3600 * 10**(3)))"
   ]
  },
  {
   "cell_type": "markdown",
   "metadata": {},
   "source": [
    "日付$d$の時刻$t$における空気集熱ファン稼働時に集熱器群$j$を流れる空気の体積流量$V_{col,j,d,t}$"
   ]
  },
  {
   "cell_type": "markdown",
   "metadata": {},
   "source": [
    "$$ \n",
    "\\begin{equation*}\n",
    "   V_{col,j,d,t} = V_{fan,P0} \\times \\frac{A_{j}}{\\displaystyle \\sum_{j=1}^{n} A_{j}}\n",
    "\\end{equation*}\n",
    "$$"
   ]
  },
  {
   "cell_type": "markdown",
   "metadata": {},
   "source": [
    "$A_{j}$ : 集熱器群$j$の面積(m<sup>2</sup>)  \n",
    "$n$ : 集熱器群の数(-)  \n",
    "$V_{col,j,d,t}$ : 日付$d$の時刻$t$における空気集熱ファン稼働時に集熱器群$j$を流れる空気の体積流量(m<sup>3</sup>/h)  \n",
    "$V_{fan,P0}$ : 空気搬送ファンの送風機特性曲線において機外静圧をゼロとした時の空気搬送ファンの風量(m<sup>3</sup>/h)  "
   ]
  },
  {
   "cell_type": "code",
   "execution_count": 33,
   "metadata": {},
   "outputs": [],
   "source": [
    "def get_sum_A(A_s):\n",
    "    return sum(A for A in A_s)"
   ]
  },
  {
   "cell_type": "code",
   "execution_count": 34,
   "metadata": {},
   "outputs": [],
   "source": [
    "def get_V_col_j(V_fan_P0, A, sum_A):\n",
    "    return V_fan_P0 * A / sum_A"
   ]
  },
  {
   "cell_type": "markdown",
   "metadata": {},
   "source": [
    "集熱器群$j$を構成する集熱器の集熱器総合熱損失係数$U_{c,j}$"
   ]
  },
  {
   "cell_type": "markdown",
   "metadata": {},
   "source": [
    "$$ \n",
    "\\begin{equation*}\n",
    "   U_{c,j} = -c_{P_{air}} \\times \\dot{m}_{fan,test,j} \\times 10^{3} \\times ln \\left( 1 - \\frac{1}{c_{P_{air}} \\times \\dot{m}_{fan,test,j} \\times 10^{3}} \\times d_{1,j}  \\right)\n",
    "\\end{equation*}\n",
    "$$"
   ]
  },
  {
   "cell_type": "markdown",
   "metadata": {},
   "source": [
    "$c_{P_{air}}$ : 空気の比熱(kJ/(kg$\\cdot$K))  \n",
    "$d_{1,j}$ : 集熱器群$j$を構成する集熱器の集熱効率特性線図一次近似式の傾き(W/(m<sup>2</sup>$\\cdot$K))  \n",
    "$\\dot{m}_{fan,test,j}$ : 集熱器群$j$を構成する集熱器の集熱性能試験時における単位面積当たりの空気の質量流量(kg/(s$\\cdot$m<sup>2</sup>))  \n",
    "$U_{c,j}$ : 集熱器群$j$を構成する集熱器の集熱器総合熱損失係数(W/(m<sup>2</sup>$\\cdot$K))  "
   ]
  },
  {
   "cell_type": "code",
   "execution_count": 35,
   "metadata": {},
   "outputs": [],
   "source": [
    "def get_U_c_j(m_dot_fan_test, d_1):\n",
    "    c_P_air = 1.006  # kJ/(kg K)  \n",
    "    return -c_P_air * m_dot_fan_test * 10**3 * math.log(1 - 1 / (c_P_air * m_dot_fan_test * 10**3) * d_1)"
   ]
  },
  {
   "cell_type": "markdown",
   "metadata": {},
   "source": [
    "#### Example"
   ]
  },
  {
   "cell_type": "code",
   "execution_count": 36,
   "metadata": {
    "scrolled": false
   },
   "outputs": [
    {
     "data": {
      "text/plain": [
       "[45.92475, 68.72965268225585]"
      ]
     },
     "execution_count": 36,
     "metadata": {},
     "output_type": "execute_result"
    }
   ],
   "source": [
    "_theta_col_nonopg_s = [get_theta_col_nonopg_j(I_s = [748.495, 748.495][j], theta_ex = 8.5, \n",
    "                                             d_0 = [0.1, 0.468][j], d_1 = [2.0, 5.816][j]) for j in range(0,2,1)]\n",
    "_theta_col_nonopg_s"
   ]
  },
  {
   "cell_type": "code",
   "execution_count": 37,
   "metadata": {
    "scrolled": true
   },
   "outputs": [
    {
     "data": {
      "text/plain": [
       "[2.2125874568181008, 8.36595711243159]"
      ]
     },
     "execution_count": 37,
     "metadata": {},
     "output_type": "execute_result"
    }
   ],
   "source": [
    "_U_c_s= [get_U_c_j(m_dot_fan_test = [0.0107, 0.0107][j], d_1 = [2.0, 5.816][j]) for j in range(0,2,1)]\n",
    "_U_c_s"
   ]
  },
  {
   "cell_type": "code",
   "execution_count": 38,
   "metadata": {
    "scrolled": false
   },
   "outputs": [
    {
     "data": {
      "text/plain": [
       "30"
      ]
     },
     "execution_count": 38,
     "metadata": {},
     "output_type": "execute_result"
    }
   ],
   "source": [
    "_sum_A = get_sum_A(A_s = [15, 15])\n",
    "_sum_A"
   ]
  },
  {
   "cell_type": "code",
   "execution_count": 39,
   "metadata": {
    "scrolled": false
   },
   "outputs": [
    {
     "data": {
      "text/plain": [
       "[360.0, 360.0]"
      ]
     },
     "execution_count": 39,
     "metadata": {},
     "output_type": "execute_result"
    }
   ],
   "source": [
    "_V_col_s = [get_V_col_j(V_fan_P0 = 720, A = [15, 15][j], sum_A = _sum_A)for j in range(0,2,1)]\n",
    "_V_col_s"
   ]
  },
  {
   "cell_type": "code",
   "execution_count": 40,
   "metadata": {},
   "outputs": [
    {
     "data": {
      "text/plain": [
       "[17.495789500516274, 47.43071479504413]"
      ]
     },
     "execution_count": 40,
     "metadata": {},
     "output_type": "execute_result"
    }
   ],
   "source": [
    "_theta_col_opg_s = [get_theta_col_opg_j(theta_col_nonopg = _theta_col_nonopg_s[j], U_c = _U_c_s[j], V_col =_V_col_s[j], \n",
    "                                       theta_ex = 8.5, A =  [15, 15][j])for j in range(0,2,1)]\n",
    "_theta_col_opg_s"
   ]
  },
  {
   "cell_type": "code",
   "execution_count": 41,
   "metadata": {},
   "outputs": [
    {
     "data": {
      "text/plain": [
       "57.32720134112792"
      ]
     },
     "execution_count": 41,
     "metadata": {},
     "output_type": "execute_result"
    }
   ],
   "source": [
    "get_theta_col_nonopg(theta_col_nonopg_s= _theta_col_nonopg_s, V_col_s = _V_col_s, n_col = 2)"
   ]
  },
  {
   "cell_type": "code",
   "execution_count": 42,
   "metadata": {},
   "outputs": [
    {
     "data": {
      "text/plain": [
       "32.4632521477802"
      ]
     },
     "execution_count": 42,
     "metadata": {},
     "output_type": "execute_result"
    }
   ],
   "source": [
    "get_theta_col_opg(theta_col_opg_s= _theta_col_opg_s, V_col_s = _V_col_s, n_col = 2)"
   ]
  },
  {
   "cell_type": "code",
   "execution_count": 43,
   "metadata": {
    "scrolled": true
   },
   "outputs": [
    {
     "data": {
      "text/plain": [
       "20.825648640000004"
      ]
     },
     "execution_count": 43,
     "metadata": {},
     "output_type": "execute_result"
    }
   ],
   "source": [
    "get_Q_col(V_fan = 720, theta_col_opg = 32.46, theta_ex = 8.5)"
   ]
  },
  {
   "cell_type": "markdown",
   "metadata": {},
   "source": [
    "### Integrated Function"
   ]
  },
  {
   "cell_type": "markdown",
   "metadata": {},
   "source": [
    "#### Input Data"
   ]
  },
  {
   "cell_type": "markdown",
   "metadata": {},
   "source": [
    "spec = {  \n",
    "\n",
    "    'region'                             : 'Region1', 'Region2', 'Region3', 'Region4', 'Region5', 'Region6', 'Region7', 'Region8' as string  \n",
    "    'region_solar'                       : 'A1', 'A2', 'A3', 'A4', 'A5' as string  \n",
    "    \n",
    "    'number of collector unit'           : 0,  \n",
    "    'azimuth of collector units'         :  1: less then 15 degree to east or west from due south,   \n",
    "                                            2:  15 degree or more and less than  45 degree to east from due south,  \n",
    "                                            3:  45 degree or more and less than  75 degree to east from due south,  \n",
    "                                            4:  75 degree or more and less than 105 degree to east from due south,  \n",
    "                                            5: 105 degree or more and less than 135 degree to east from due south,  \n",
    "                                            6: 135 degree or more and less than 165 degree to east from due south,  \n",
    "                                            7:  15 degree or less from due north,    \n",
    "                                            8: 135 degree or more and less than 165 degree to west from due south,  \n",
    "                                            9: 105 degree or more and less than 135 degree to west from due south,  \n",
    "                                           10:  75 degree or more and less than 105 degree to west from due south,  \n",
    "                                           11:  45 degree or more and less than  75 degree to west from due south,  \n",
    "                                           12:  15 degree or more and less than  45 degree to west from due south  \n",
    "    'PV for fan'                         : True : Equipped, False : Not equipped  \n",
    "    'fan type'                           : 'AC', 'DC'as string  \n",
    "    'PV for circulation pump'            : True : Equipped, False : Not equipped  \n",
    "    'tank size'                          : 0,   # (L)  \n",
    "    'fan air flow rate'                  : 0.0, # at the external static pressure of zero (m3/h)  \n",
    "\n",
    "    'area of collector unit'             : 0.0  # (m2)  \n",
    "    'angle of collector units'           : 1: 0 degree (horizontal), 2: 10 degree, 3: 20 degree, 4: 30 degree, 5: 40 degree,   \n",
    "                                           6: 50 degree, 7: 60 degree, 8: 70 degree, 9: 80 degree, 10: 90 degree (vertical)\n",
    "    'inclination of characteristic line' : 0.0  # (-)  \n",
    "    'intercept of characteristic line'   : 0.0  # (W/(m2K))  \n",
    "    'mass flow rate'                     : 0.000  # when testing according to JIS (kg/(sm2))  \n",
    "}"
   ]
  },
  {
   "cell_type": "markdown",
   "metadata": {},
   "source": [
    "#### Example of HW Load Data"
   ]
  },
  {
   "cell_type": "code",
   "execution_count": 44,
   "metadata": {},
   "outputs": [],
   "source": [
    "def get_HW_Laods(day):\n",
    "    return[\n",
    "        (25.41605802, 32.86559227, 6.719187752, 26.29247381, 0.0, 4.831208333), (13.09808925, 18.91946225, 3.638358126, 26.1961785, 0.0, 4.8445), (7.951336294, 11.56558006, 1.445697508, 26.02255514, 0.0, 5.070458333), (12.94916501, 18.70434946, 3.596990282, 25.89833003, 0.0, 4.6268125), (12.78335783, 18.4648502, 3.550932731, 25.56671566, 0.0, 4.850458333), (12.73364694, 18.39304558, 3.53712415, 25.46729388, 0.0, 5.066791667), (19.5808544, 25.54024487, 3.831036731, 25.54024487, 0.0, 4.826166667), (6.352806458, 21.17602153, 4.235204306, 0.0, 0.0, 0.0), (12.54730926, 18.12389116, 3.485363685, 25.09461853, 0.0, 4.417895833), (7.541826481, 10.96992943, 1.371241178, 24.68234121, 0.0, 4.849083333), (18.29410084, 24.57416531, 4.232217359, 24.57416531, 0.0, 5.058541667), (7.540361671, 10.96779879, 1.370974849, 24.67754729, 0.0, 4.989333333), (12.37170581, 17.87024172, 3.436584946, 24.74341161, 0.0, 5.128208333), (18.99008338, 24.76967397, 3.715451095, 24.76967397, 0.0, 5.230416667), (24.20614845, 31.30105403, 6.399326602, 25.04084323, 0.0, 5.129583333), (12.58388898, 18.17672852, 3.495524716, 25.16777795, 0.0, 4.998041667), (7.680601268, 11.17178366, 1.396472958, 25.13651324, 0.0, 5.105291667), (12.63172398, 18.24582353, 3.508812218, 25.26344797, 0.0, 5.064041667), (12.72624763, 18.38235768, 3.535068785, 25.45249525, 0.0, 4.875208333), (12.82650313, 18.52717119, 3.562917537, 25.65300626, 0.0, 4.932958333), (19.69654773, 25.69114921, 3.853672382, 25.69114921, 0.0, 4.7785), (6.390949406, 21.30316469, 4.260632937, 0.0, 0.0, 0.0), (12.70029792, 18.34487477, 3.527860532, 25.40059583, 0.0, 4.484020833), (7.673659345, 11.16168632, 1.39521079, 25.11379422, 0.0, 4.832583333), (18.56114084, 24.93287576, 4.29399527, 24.93287576, 0.0, 4.895833333), (7.585898144, 11.03403366, 1.379254208, 24.82657574, 0.0, 4.949), (12.40213679, 17.91419759, 3.445037998, 24.80427358, 0.0, 4.997583333), (18.97905735, 24.7552922, 3.71329383, 24.7552922, 0.0, 5.031041667), (23.91560897, 30.92535643, 6.322517314, 24.74028514, 0.0, 5.136), (12.42944131, 17.95363744, 3.452622585, 24.85888261, 0.0, 5.273041667), (7.643025718, 11.11712832, 1.38964104, 25.01353871, 0.0, 5.250583333), (12.61411153, 18.22038332, 3.503919869, 25.22822306, 0.0, 4.92425), (12.6809138, 18.31687548, 3.522476054, 25.36182759, 0.0, 4.971458333), (12.78867283, 18.47252742, 3.55240912, 25.57734566, 0.0, 4.954041667), (19.65164466, 25.63257999, 3.844886998, 25.63257999, 0.0, 4.856875), (6.403715829, 21.34571943, 4.269143886, 0.0, 0.0, 0.0), (12.82587784, 18.52626799, 3.562743844, 25.65175568, 0.0, 4.920125), (7.82727329, 11.38512479, 1.423140598, 25.61653077, 0.0, 4.785375), (18.98691525, 25.50481153, 4.39249532, 25.50481153, 0.0, 4.913708333), (7.762248481, 11.29054325, 1.411317906, 25.4037223, 0.0, 4.979708333), (12.6351631, 18.25079115, 3.509767528, 25.2703262, 0.0, 4.678083333), (19.17608756, 25.01228812, 3.751843219, 25.01228812, 0.0, 4.373333333), (23.94442114, 30.96261354, 6.330134324, 24.77009083, 0.0, 4.593270833), (12.30104756, 17.76817981, 3.416957655, 24.60209512, 0.0, 4.932958333), (7.514377223, 10.93000323, 1.366250404, 24.59250727, 0.0, 4.468208333), (12.21110941, 17.63826915, 3.391974836, 24.42221882, 0.0, 4.2329375), (12.03540173, 17.38446917, 3.343167148, 24.07080347, 0.0, 4.772083333), (12.00174006, 17.33584676, 3.333816684, 24.00348012, 0.0, 5.09475), (18.51053135, 24.14417132, 3.621625698, 24.14417132, 0.0, 5.045708333), (6.051049892, 20.17016631, 4.034033261, 0.0, 0.0, 0.0), (12.12304714, 17.51106809, 3.367513094, 24.24609428, 0.0, 5.26525), (7.489411772, 10.89368985, 1.361711231, 24.51080216, 0.0, 5.257458333), (18.54003832, 24.90452909, 4.289113343, 24.90452909, 0.0, 5.330333333), (7.710916458, 11.21587848, 1.401984811, 25.23572659, 0.0, 5.561791667), (12.76084724, 18.4323349, 3.544679789, 25.52169448, 0.0, 5.469666667), (19.91083606, 25.97065572, 3.895598359, 25.97065572, 0.0, 5.355083333), (25.58752064, 33.08731117, 6.764516951, 26.46984894, 0.0, 5.113541667), (13.31256517, 19.2292608, 3.697934769, 26.62513034, 0.0, 4.855041667), (8.102147995, 11.78494254, 1.473117817, 26.51612071, 0.0, 4.702875), (13.18010701, 19.03793235, 3.661140836, 26.36021402, 0.0, 5.412833333), (13.25764349, 19.14992949, 3.682678748, 26.51528699, 0.0, 5.162125), (13.23419496, 19.11605939, 3.676165267, 26.46838992, 0.0, 5.113541667), (20.24225588, 26.40294246, 3.960441369, 26.40294246, 0.0, 4.69325), (6.528305701, 21.761019, 4.352203801, 0.0, 0.0, 0.0), (12.90716609, 18.64368435, 3.585323913, 25.81433217, 0.0, 5.156625), (7.844214132, 11.40976601, 1.426220751, 25.67197352, 0.0, 5.011333333), (18.99498386, 25.51564997, 4.394361939, 25.51564997, 0.0, 4.71525), (7.741104273, 11.25978803, 1.407473504, 25.33452308, 0.0, 4.665625), (12.62547104, 18.2367915, 3.507075289, 25.25094208, 0.0, 4.918291667), (19.43416038, 25.34890484, 3.802335727, 25.34890484, 0.0, 5.103916667), (24.36814134, 31.5105276, 6.442152308, 25.20842208, 0.0, 4.7235), (12.50447661, 18.06202177, 3.473465725, 25.00895322, 0.0, 4.151479167), (7.511829728, 10.92629779, 1.365787223, 24.58417002, 0.0, 4.0489375), (12.15295705, 17.55427129, 3.375821402, 24.30591409, 0.0, 4.425083333), (12.04759497, 17.40208163, 3.346554159, 24.09518994, 0.0, 4.790875), (11.96443084, 17.28195566, 3.323453011, 23.92886168, 0.0, 4.647416667), (18.22081864, 23.76628519, 3.564942778, 23.76628519, 0.0, 4.553979167), (5.924427813, 19.74809271, 3.949618542, 0.0, 0.0, 0.0), (11.76860954, 16.99910266, 3.269058204, 23.53721907, 0.0, 3.935854167), (17.71569903, 23.10743351, 3.466115027, 23.10743351, 0.0, 4.256895833), (16.92336792, 22.73288228, 3.915107504, 22.73288228, 0.0, 4.020666667), (6.853174909, 9.968254412, 1.246031802, 22.42857243, 0.0, 4.295229167), (11.24555092, 16.24357356, 3.123764146, 22.49110185, 0.0, 4.539125), (17.40665084, 22.70432718, 3.405649077, 22.70432718, 0.0, 3.791625), (21.68115483, 28.03597607, 5.731799553, 22.42878086, 0.0, 4.276541667), (11.10256698, 16.03704119, 3.084046384, 22.20513396, 0.0, 4.579854167), (6.775922124, 9.855886726, 1.231985841, 22.17574513, 0.0, 4.621541667), (11.10256698, 16.03704119, 3.084046384, 22.20513396, 0.0, 4.420770833), (11.12955885, 16.07602945, 3.091544124, 22.2591177, 0.0, 4.358479167), (11.2214771, 16.20880025, 3.117076972, 22.4429542, 0.0, 4.673770833), (17.34528863, 22.62428952, 3.393643428, 22.62428952, 0.0, 4.012041667), (5.655134438, 18.85044813, 3.770089625, 0.0, 0.0, 0.0), (11.16301209, 16.12435079, 3.100836691, 22.32602418, 0.0, 3.789708333), (6.722233668, 9.777794426, 1.222224303, 22.00003746, 0.0, 4.019708333), (16.45166449, 22.09925081, 3.805982084, 22.09925081, 0.0, 3.836666667), (6.694083849, 9.736849235, 1.217106154, 21.90791078, 0.0, 3.775333333), (10.77897722, 15.56963377, 2.99416034, 21.55795445, 0.0, 3.768145833), (16.24316589, 21.18673812, 3.178010718, 21.18673812, 0.0, 3.886020833), (20.25565771, 26.19266084, 5.354943993, 20.95412867, 0.0, 3.5446875), (10.30281568, 14.88184487, 2.861893244, 20.60563136, 0.0, 3.608229167), (6.155543417, 8.953517697, 1.119189712, 20.14541482, 0.0, 3.979458333), (10.06562074, 14.53922996, 2.796005761, 20.13124148, 0.0, 4.473958333), (10.25174999, 14.80808331, 2.847708329, 20.50349997, 0.0, 4.449041667), (10.39515079, 15.01521781, 2.887541887, 20.79030158, 0.0, 4.328291667), (16.04214075, 20.92453141, 3.138679711, 20.92453141, 0.0, 4.034083333), (5.252601287, 17.50867096, 3.501734191, 0.0, 0.0, 0.0), (10.59086788, 15.29792027, 2.941907745, 21.18173576, 0.0, 4.217125), (6.531872108, 9.500904884, 1.187613111, 21.37703599, 0.0, 3.790666667), (15.88313773, 21.33555814, 3.674457235, 21.33555814, 0.0, 3.8706875), (6.560849863, 9.543054346, 1.192881793, 21.47187228, 0.0, 3.663208333), (10.74625349, 15.52236616, 2.985070415, 21.49250699, 0.0, 3.493645833), (16.32114703, 21.28845264, 3.193267896, 21.28845264, 0.0, 3.531145833), (20.18816068, 26.10538019, 5.337099949, 20.88430415, 0.0, 3.559270833), (10.25112469, 14.80718011, 2.847534637, 20.50224938, 0.0, 3.737958333), (6.186113356, 8.997983063, 1.124747883, 20.24546189, 0.0, 3.524895833), (10.01507613, 14.46622107, 2.78196559, 20.03015225, 0.0, 3.655541667), (9.903356892, 14.30484884, 2.75093247, 19.80671378, 0.0, 3.424895833), (9.735882258, 14.06294104, 2.704411738, 19.47176452, 0.0, 3.066041667), (14.70367764, 19.17870996, 2.876806494, 19.17870996, 0.0, 3.3009375), (4.736212481, 15.78737494, 3.157474987, 0.0, 0.0, 0.0), (9.519217813, 13.74998129, 2.64422717, 19.03843563, 0.0, 3.922916667), (5.872134603, 8.541286696, 1.067660837, 19.21789507, 0.0, 3.745145833), (4.826254848, 16.08751616, 3.217503232, 0.0, 0.0, 0.0), (4.838656517, 16.12885506, 3.225771011, 0.0, 0.0, 0.0), (14.83662908, 19.35212489, 2.902818734, 19.35212489, 0.0, 3.509270833), (14.83183516, 19.34587195, 2.901880792, 19.34587195, 0.0, 3.482708333), (18.63572883, 24.09792522, 4.926686933, 19.27834017, 0.0, 3.244166667), (9.603007238, 13.87101045, 2.66750201, 19.20601448, 0.0, 3.19), (5.883662018, 8.558053844, 1.069756731, 19.25562115, 0.0, 3.243645833), (9.616346848, 13.89027878, 2.671207458, 19.2326937, 0.0, 3.67375), (9.571846743, 13.82600085, 2.658846317, 19.14369349, 0.0, 3.415520833), (9.466484667, 13.67381119, 2.629579074, 18.93296933, 0.0, 2.936875), (14.26615233, 18.60802477, 2.791203716, 18.60802477, 0.0, 2.661354167), (4.549770589, 15.16590196, 3.033180393, 0.0, 0.0, 0.0), (9.06483735, 13.09365395, 2.518010375, 18.1296747, 0.0, 3.699145833), (5.562805029, 8.09135277, 1.011419096, 18.20554373, 0.0, 3.7413125), (13.63106419, 18.31038473, 3.153455148, 18.31038473, 0.0, 3.547291667), (5.63190583, 8.191863025, 1.023982878, 18.43169181, 0.0, 3.55875), (9.28963062, 13.41835534, 2.58045295, 18.57926124, 0.0, 3.324895833), (14.26902868, 18.61177654, 2.791766481, 18.61177654, 0.0, 3.0103125), (17.73570118, 22.93409636, 4.688748589, 18.34727709, 0.0, 3.072291667), (9.104960395, 13.15160946, 2.529155665, 18.20992079, 0.0, 3.5040625), (5.633498014, 8.194178929, 1.024272366, 18.43690259, 0.0, 3.136354167), (9.313496016, 13.45282758, 2.587082227, 18.62699203, 0.0, 3.2790625), (9.257011105, 13.37123826, 2.571391974, 18.51402221, 0.0, 3.115520833), (9.140289519, 13.20264042, 2.538969311, 18.28057904, 0.0, 3.037395833), (13.79810571, 17.99752919, 2.699629378, 17.99752919, 0.0, 3.159791667), (4.460614056, 14.86871352, 2.973742704, 0.0, 0.0, 0.0), (8.798774661, 12.70934118, 2.444104073, 17.59754932, 0.0, 2.935833333), (5.329454492, 7.751933806, 0.968991726, 17.44185106, 0.0, 3.256145833), (13.05772729, 17.54023069, 3.020817507, 17.54023069, 0.0, 3.017604167), (5.352827758, 7.785931284, 0.973241411, 17.51834539, 0.0, 2.689479167), (8.596179336, 12.41670349, 2.387827593, 17.19235867, 0.0, 2.6884375), (13.04338254, 17.01310766, 2.55196615, 17.01310766, 0.0, 2.651979167), (16.20341771, 20.95269531, 4.283662153, 16.76215625, 0.0, 2.582708333), (8.274465462, 11.95200567, 2.298462628, 16.54893092, 0.0, 2.743645833), (5.020698104, 7.302833605, 0.912854201, 16.43137561, 0.0, 3.136875), (8.211102315, 11.86048112, 2.280861754, 16.42220463, 0.0, 3.063958333), (8.234550848, 11.89435123, 2.287375236, 16.4691017, 0.0, 3.0134375), (8.250078988, 11.91678076, 2.291688608, 16.50015798, 0.0, 2.648854167), (12.46379733, 16.25712696, 2.438569044, 16.25712696, 0.0, 2.637916667), (4.026295116, 13.42098372, 2.684196744, 0.0, 0.0, 0.0), (8.048421603, 11.62549787, 2.235672668, 16.09684321, 0.0, 2.878020833), (4.941662073, 7.187872106, 0.898484013, 16.17271224, 0.0, 2.8603125), (12.10175202, 16.2560848, 2.799659049, 16.2560848, 0.0, 2.788958333), (4.992357222, 7.261610505, 0.907701313, 16.33862364, 0.0, 2.759791667), (8.172542505, 11.80478362, 2.270150696, 16.34508501, 0.0, 3.1321875), (12.52979366, 16.34320913, 2.451481369, 16.34320913, 0.0, 2.8134375), (15.70152183, 20.30369203, 4.150977037, 16.24295362, 0.0, 2.667604167), (8.052277584, 11.63106762, 2.236743773, 16.10455517, 0.0, 2.515520833), (4.904532334, 7.133865213, 0.891733152, 16.05119673, 0.0, 2.543645833), (8.006735322, 11.56528435, 2.224093145, 16.01347064, 0.0, 2.880104167), (8.049046898, 11.62640107, 2.23584636, 16.0980938, 0.0, 2.823333333), (8.038104249, 11.61059503, 2.232806736, 16.0762085, 0.0, 2.961354167), (12.35609388, 16.11664419, 2.417496629, 16.11664419, 0.0, 2.698333333), (4.020094281, 13.40031427, 2.680062854, 0.0, 0.0, 0.0), (8.028307973, 11.59644485, 2.230085548, 16.05661595, 0.0, 2.473083333), (4.821420311, 7.012974998, 0.876621875, 15.77919375, 0.0, 2.637916667), (11.69444231, 15.70895236, 2.705430685, 15.70895236, 0.0, 2.79), (4.814924199, 7.003526108, 0.875440763, 15.75793374, 0.0, 2.617083333), (7.899288933, 11.41008401, 2.194246926, 15.79857787, 0.0, 2.447416667), (12.0711751, 15.745011, 2.361751649, 15.745011, 0.0, 2.709791667), (15.15429213, 19.59606741, 4.006307114, 15.67685393, 0.0, 2.527166667), (7.773813227, 11.22884133, 2.159392563, 15.54762645, 0.0, 2.558229167), (4.701369612, 6.838355799, 0.854794475, 15.38630055, 0.0, 2.8196875), (7.717432532, 11.14740255, 2.143731259, 15.43486506, 0.0, 2.6759375), (7.712534394, 11.14032746, 2.142370665, 15.42506879, 0.0, 2.538625), (7.72743724, 11.16185379, 2.146510344, 15.45487448, 0.0, 2.538625), (11.81054552, 15.40505937, 2.310758906, 15.40505937, 0.0, 2.353458333), (3.802544003, 12.67514668, 2.535029335, 0.0, 0.0, 0.0), (7.580805746, 10.95005274, 2.105779374, 15.16161149, 0.0, 2.239791667), (4.603864242, 6.696529807, 0.837066226, 15.06719207, 0.0, 2.147208333), (11.02567857, 14.81061301, 2.550716684, 14.81061301, 0.0, 2.163708333), (4.474960998, 6.509034179, 0.813629272, 14.6453269, 0.0, 2.305333333), (7.260655108, 10.48761293, 2.016848641, 14.52131022, 0.0, 2.365375), (10.9786402, 14.31996548, 2.147994822, 14.31996548, 0.0, 2.489125), (13.75801015, 17.79053036, 3.637175096, 14.23242429, 0.0, 2.441916667), (7.094222631, 10.24721047, 1.970617398, 14.18844526, 0.0, 2.290666667), (4.300903406, 6.255859499, 0.781982437, 14.07568387, 0.0, 2.441916667), (7.057955567, 10.19482471, 1.960543213, 14.11591113, 0.0, 2.440083333), (10.7932752, 14.07818505, 2.111727757, 14.07818505, 0.0, 2.105041667), (7.008453108, 10.12332116, 1.94679253, 14.01690622, 0.0, 2.054625), (10.71401569, 13.97480307, 2.096220461, 13.97480307, 0.0, 1.940041667), (3.468272137, 11.56090712, 2.312181425, 0.0, 0.0, 0.0), (6.84545975, 9.887886305, 1.901516597, 13.6909195, 0.0, 1.859833333), (4.11308934, 5.982675404, 0.747834426, 13.46101966, 0.0, 1.941875), (9.835713574, 13.21215256, 2.275426275, 13.21215256, 0.0, 2.198083333), (4.003164933, 5.822785357, 0.72784817, 13.10126705, 0.0, 2.360333333), (6.566474314, 9.484907342, 1.824020643, 13.13294863, 0.0, 2.280125), (10.01218546, 13.05937234, 1.958905851, 13.05937234, 0.0, 2.206791667), (12.52150473, 16.19160095, 3.31028286, 12.95328076, 0.0, 1.979916667), (6.448189492, 9.314051488, 1.791163748, 12.89637898, 0.0, 1.979916667), (3.930179203, 5.716624295, 0.714578037, 12.86240466, 0.0, 2.301208333), (6.513324306, 9.408135108, 1.809256752, 13.02664861, 0.0, 2.123375), (6.563035196, 9.479939727, 1.823065332, 13.12607039, 0.0, 2.1935), (6.638904227, 9.589528328, 1.844140063, 13.27780845, 0.0, 2.2045), (10.27121706, 13.39723965, 2.009585947, 13.39723965, 0.0, 2.154541667), (3.344359666, 11.14786555, 2.229573111, 0.0, 0.0, 0.0), (6.64078011, 9.592237936, 1.844661142, 13.28156022, 0.0, 2.178833333), (4.044179602, 5.882443057, 0.735305382, 13.23549688, 0.0, 2.154083333), (9.835248077, 13.21152727, 2.275318585, 13.21152727, 0.0, 2.123375), (4.056789702, 5.900785021, 0.737598128, 13.2767663, 0.0, 2.318625), (6.715398553, 9.700020132, 1.865388487, 13.43079711, 0.0, 2.201291667), (10.26210861, 13.38535906, 2.007803859, 13.38535906, 0.0, 2.249416667), (12.99458844, 16.80334712, 3.435350967, 13.4426777, 0.0, 2.379583333), (6.763650423, 9.769717278, 1.878791784, 13.52730085, 0.0, 2.211833333), (4.134360923, 6.013615888, 0.751701986, 13.53063575, 0.0, 2.145375), (6.76323356, 9.769115143, 1.878675989, 13.52646712, 0.0, 2.3255), (6.80325239, 9.826920119, 1.889792331, 13.60650478, 0.0, 2.2155), (6.811589646, 9.838962822, 1.892108235, 13.62317929, 0.0, 2.217333333), (10.4664895, 13.65194283, 2.047791424, 13.65194283, 0.0, 2.236125), (3.425804238, 11.41934746, 2.283869492, 0.0, 0.0, 0.0), (6.823157589, 9.855672073, 1.895321553, 13.64631518, 0.0, 2.227875), (4.173401283, 6.070401867, 0.758800233, 13.6584042, 0.0, 2.167375), (10.14014848, 13.62109498, 2.345855246, 13.62109498, 0.0, 2.061041667), (4.117738519, 5.989437845, 0.748679731, 13.47623515, 0.0, 2.279208333), (6.753437284, 9.754964966, 1.875954801, 13.50687457, 0.0, 2.401125), (10.44443746, 13.62317929, 2.043476894, 13.62317929, 0.0, 2.380041667), (13.19304988, 17.05997829, 3.487817783, 13.64798263, 0.0, 2.388291667), (6.863280635, 9.913627583, 1.906466843, 13.72656127, 0.0, 2.333291667), (4.21033996, 6.124130851, 0.765516356, 13.77929441, 0.0, 2.3915), (6.924976331, 10.00274359, 1.923604536, 13.84995266, 0.0, 2.500583333), (6.994800851, 10.10360123, 1.943000236, 13.9896017, 0.0, 2.453833333), (7.046179193, 10.17781439, 1.957271998, 14.09235839, 0.0, 2.143083333), (10.79567217, 14.08131152, 2.112196728, 14.08131152, 0.0, 2.011083333), (3.514648124, 11.71549375, 2.34309875, 0.0, 0.0, 0.0), (6.955198884, 10.04639839, 1.93199969, 13.91039777, 0.0, 2.263166667), (4.231229419, 6.154515518, 0.76931444, 13.84765992, 0.0, 2.659270833), (10.40594716, 13.97813798, 2.407345985, 13.97813798, 0.0, 2.611354167), (4.303960399, 6.260306036, 0.782538254, 14.08568858, 0.0, 2.724895833), (7.1318445, 10.30155317, 1.981067917, 14.263689, 0.0, 2.7384375), (11.05582235, 14.42063785, 2.163095677, 14.42063785, 0.0, 2.712916667), (14.03384132, 18.1472086, 3.710095981, 14.51776688, 0.0, 2.479958333), (7.264823736, 10.49363429, 2.018006593, 14.52964747, 0.0, 2.663958333), (4.51298236, 6.564337978, 0.820542247, 14.76976045, 0.0, 2.806145833), (7.563401724, 10.9249136, 2.100944923, 15.12680345, 0.0, 2.943125), (7.782463131, 11.24133563, 2.161795314, 15.56492626, 0.0, 2.845208333), (3.955741085, 13.18580362, 2.637160723, 0.0, 0.0, 0.0), (12.18399207, 15.89216357, 2.383824535, 15.89216357, 0.0, 2.674375), (3.979345942, 13.26448647, 2.652897295, 0.0, 0.0, 0.0), (7.976616984, 11.52178009, 2.21572694, 15.95323397, 0.0, 3.10875), (4.919880991, 7.156190532, 0.894523817, 16.1014287, 0.0, 2.825416667), (12.02013491, 16.14644988, 2.78077748, 16.14644988, 0.0, 2.734270833), (4.968792894, 7.227335119, 0.90341689, 16.26150402, 0.0, 2.716041667), (8.141173579, 11.75947295, 2.261437105, 16.28234716, 0.0, 2.804583333), (12.48265343, 16.28172186, 2.442258279, 16.28172186, 0.0, 2.837395833), (15.69809661, 20.29926286, 4.150071518, 16.23941029, 0.0, 2.833229167), (8.117308183, 11.72500071, 2.254807829, 16.23461637, 0.0, 2.742083333), (4.949559307, 7.199358992, 0.899919874, 16.19855773, 0.0, 3.045208333), (8.173480446, 11.80613842, 2.270411235, 16.34696089, 0.0, 3.2571875), (8.262063794, 11.93409215, 2.29501772, 16.52412759, 0.0, 3.02125), (8.244555556, 11.90880247, 2.290154321, 16.48911111, 0.0, 2.657708333), (12.59019709, 16.4219962, 2.46329943, 16.4219962, 0.0, 2.7790625), (4.109980325, 13.69993442, 2.739986883, 0.0, 0.0, 0.0), (8.281760561, 11.96254303, 2.300489045, 16.56352112, 0.0, 2.949375), (5.078780989, 7.387317802, 0.923414725, 16.62146505, 0.0, 2.786875), (12.35870625, 16.60124721, 2.859103686, 16.60124721, 0.0, 2.964479167), (5.088652531, 7.401676409, 0.925209551, 16.65377192, 0.0, 2.930625), (8.364612045, 12.0822174, 2.323503346, 16.72922409, 0.0, 3.323854167), (12.91123008, 16.84073489, 2.526110234, 16.84073489, 0.0, 3.436875), (16.34888894, 21.14080466, 4.322120063, 16.91264373, 0.0, 3.270208333), (8.506136969, 12.28664229, 2.362815825, 17.01227394, 0.0, 2.889479167), (13.1138532, 17.10502591, 2.565753887, 17.10502591, 0.0, 3.0571875), (8.608164142, 12.43401487, 2.391156706, 17.21632828, 0.0, 3.156145833), (8.634426499, 12.47194939, 2.398451805, 17.268853, 0.0, 3.605625), (8.765738284, 12.66162197, 2.434927301, 17.53147657, 0.0, 3.459270833), (13.64709716, 17.80056151, 2.670084227, 17.80056151, 0.0, 3.363958333), (4.4901071, 14.96702367, 2.993404733, 0.0, 0.0, 0.0), (9.117049417, 13.16907138, 2.532513727, 18.23409883, 0.0, 3.1540625), (5.550768115, 8.073844531, 1.009230566, 18.1661502, 0.0, 3.330625), (13.49203581, 18.12363019, 3.121291866, 18.12363019, 0.0, 3.528020833), (5.569301141, 8.10080166, 1.012600207, 18.22680373, 0.0, 4.0489375), (9.351430532, 13.50762188, 2.597619592, 18.70286106, 0.0, 3.4259375), (14.45199672, 18.8504305, 2.827564575, 18.8504305, 0.0, 3.414479167), (18.32201873, 23.69226559, 4.843752077, 18.95381248, 0.0, 3.357708333), (9.427299563, 13.61721048, 2.618694323, 18.85459913, 0.0, 3.679020833), (5.787748833, 8.418543757, 1.05231797, 18.94172345, 0.0, 3.986645833), (9.600401845, 13.86724711, 2.66677829, 19.20080369, 0.0, 4.095895833), (9.703575391, 14.01627556, 2.695437609, 19.40715078, 0.0, 4.06475), (9.892101596, 14.28859119, 2.747805999, 19.78420319, 0.0, 3.658895833), (15.2674429, 19.91405596, 2.987108394, 19.91405596, 0.0, 3.843375), (5.011289828, 16.70429943, 3.340859885, 0.0, 0.0, 0.0), (9.999964849, 14.44439367, 2.777768013, 19.9999297, 0.0, 4.232458333), (6.21534586, 9.04050307, 1.130062884, 20.34113191, 0.0, 4.132791667), (15.36798793, 20.64356588, 3.55528079, 20.64356588, 0.0, 4.099729167), (6.402714114, 9.313038711, 1.164129839, 20.9543371, 0.0, 4.288041667), (16.26809429, 21.21925342, 3.182888012, 21.21925342, 0.0, 4.061395833), (16.29302268, 21.25176872, 3.187765307, 21.25176872, 0.0, 3.70825), (20.38037612, 26.35393464, 5.387915526, 21.08314771, 0.0, 3.5509375), (10.43246001, 15.06910891, 2.897905559, 20.86492003, 0.0, 3.436354167), (6.348643534, 9.234390595, 1.154298824, 20.77737884, 0.0, 3.486875), (10.3149047, 14.89930679, 2.865251306, 20.6298094, 0.0, 3.708729167), (10.26352636, 14.82509363, 2.850979544, 20.52705272, 0.0, 3.8534375), (10.18109174, 14.7060214, 2.828081039, 20.36218348, 0.0, 4.096375), (15.59886273, 20.34634269, 3.051951404, 20.34634269, 0.0, 4.183104167), (5.095652439, 16.98550813, 3.397101626, 0.0, 0.0, 0.0), (10.1224183, 14.62127088, 2.811782861, 20.2448366, 0.0, 3.959333333), (6.172356883, 8.977973648, 1.122246706, 20.20044071, 0.0, 3.992395833), (15.13011906, 20.32404053, 3.500251425, 20.32404053, 0.0, 3.950708333), (6.261646581, 9.107849573, 1.138481197, 20.49266154, 0.0, 4.042708333), (10.37357814, 14.98405732, 2.881549484, 20.74715628, 0.0, 4.2300625), (16.14824623, 21.06292986, 3.159439479, 21.06292986, 0.0, 4.2329375), (20.58125536, 26.61369227, 5.441021532, 21.29095382, 0.0, 3.932020833), (10.66256829, 15.40148752, 2.961824524, 21.32513657, 0.0, 3.852), (6.483533391, 9.430594024, 1.178824253, 21.21883655, 0.0, 4.466291667), (10.67100976, 15.41368076, 2.964169377, 21.34201951, 0.0, 4.624895833), (16.58017863, 21.62631995, 3.243947993, 21.62631995, 0.0, 4.266), (10.87985802, 15.71535048, 3.022182785, 21.75971605, 0.0, 4.254979167), (16.77001795, 21.87393646, 3.281090469, 21.87393646, 0.0, 4.161541667), (5.491411569, 18.30470523, 3.660941046, 0.0, 0.0, 0.0), (11.09245806, 16.02243942, 3.081238349, 22.18491612, 0.0, 4.882541667), (6.865976071, 9.986874285, 1.248359286, 22.47046714, 0.0, 4.6613125), (16.86673247, 22.65680482, 3.902005274, 22.65680482, 0.0, 4.448083333), (6.991503884, 10.1694602, 1.271182524, 22.88128544, 0.0, 4.307208333), (11.53964764, 16.66837992, 3.205457677, 23.07929527, 0.0, 4.381), (17.66568244, 23.04219448, 3.456329173, 23.04219448, 0.0, 4.5204375), (22.23019789, 28.74594555, 5.876948868, 22.99675644, 0.0, 4.563083333), (11.56299195, 16.70209949, 3.21194221, 23.12598391, 0.0, 4.604770833), (7.112764644, 10.34583948, 1.293229935, 23.27813883, 0.0, 4.310083333), (11.67137629, 16.85865463, 3.242048968, 23.34275257, 0.0, 4.3421875), (11.62687618, 16.7943767, 3.229687828, 23.25375236, 0.0, 4.741833333), (11.59488196, 16.74816283, 3.220800544, 23.18976392, 0.0, 4.766125), (17.81333525, 23.2347851, 3.485217765, 23.2347851, 0.0, 4.542479167), (5.818961522, 19.39653841, 3.879307682, 0.0, 0.0, 0.0), (11.54548372, 16.67680981, 3.20707881, 23.09096743, 0.0, 3.812708333), (6.980040157, 10.15278568, 1.26909821, 22.84376779, 0.0, 3.894645833), (16.80326974, 22.57155637, 3.887323597, 22.57155637, 0.0, 4.195083333), (6.847952544, 9.960658246, 1.245082281, 22.41148105, 0.0, 4.4054375), (11.16238679, 16.12344759, 3.100662998, 22.32477359, 0.0, 4.661791667), (17.23295105, 22.47776224, 3.371664336, 22.47776224, 0.0, 4.911416667), (21.97008244, 28.40958937, 5.808182715, 22.72767149, 0.0, 4.515166667), (11.3150628, 16.3439796, 3.143073, 22.6301256, 0.0, 4.715708333), (6.907754988, 10.04764362, 1.255955452, 22.60719814, 0.0, 4.879333333), (11.37769644, 16.43445041, 3.160471232, 22.75539287, 0.0, 4.862833333), (11.59165127, 16.74349628, 3.219903131, 23.18330255, 0.0, 4.743208333), (11.79351709, 17.03508024, 3.275976969, 23.58703418, 0.0, 5.042958333), (18.4701026, 24.09143818, 3.613715727, 24.09143818, 0.0, 5.226291667), (6.137132062, 20.45710687, 4.091421375, 0.0, 0.0, 0.0), (12.48373769, 18.03206555, 3.467704913, 24.96747537, 0.0, 5.363333333), (7.725628242, 11.23727744, 1.40465968, 25.28387425, 0.0, 5.069083333), (18.87581668, 25.35557465, 4.366793412, 25.35557465, 0.0, 4.906375), (7.800206156, 11.34575441, 1.418219301, 25.52794742, 0.0, 5.109875), (12.85359921, 18.56630998, 3.570444226, 25.70719843, 0.0, 5.344541667), (6.479689076, 21.59896359, 4.319792717, 0.0, 0.0, 0.0), (20.0377152, 26.13615026, 3.920422539, 26.13615026, 0.0, 5.086958333)\n",
    "    ][EC.get_Annual_Days().index(day)]"
   ]
  },
  {
   "cell_type": "code",
   "execution_count": 45,
   "metadata": {},
   "outputs": [
    {
     "ename": "NameError",
     "evalue": "name 'EC' is not defined",
     "output_type": "error",
     "traceback": [
      "\u001b[1;31m---------------------------------------------------------------------------\u001b[0m",
      "\u001b[1;31mNameError\u001b[0m                                 Traceback (most recent call last)",
      "\u001b[1;32m<ipython-input-45-9eb61bfe9e58>\u001b[0m in \u001b[0;36m<module>\u001b[1;34m()\u001b[0m\n\u001b[1;32m----> 1\u001b[1;33m \u001b[0mget_HW_Laods\u001b[0m\u001b[1;33m(\u001b[0m\u001b[1;34m'1/1'\u001b[0m\u001b[1;33m)\u001b[0m\u001b[1;33m\u001b[0m\u001b[0m\n\u001b[0m",
      "\u001b[1;32m<ipython-input-44-0fef7503ee3e>\u001b[0m in \u001b[0;36mget_HW_Laods\u001b[1;34m(day)\u001b[0m\n\u001b[0;32m      2\u001b[0m     return[\n\u001b[0;32m      3\u001b[0m         \u001b[1;33m(\u001b[0m\u001b[1;36m25.41605802\u001b[0m\u001b[1;33m,\u001b[0m \u001b[1;36m32.86559227\u001b[0m\u001b[1;33m,\u001b[0m \u001b[1;36m6.719187752\u001b[0m\u001b[1;33m,\u001b[0m \u001b[1;36m26.29247381\u001b[0m\u001b[1;33m,\u001b[0m \u001b[1;36m0.0\u001b[0m\u001b[1;33m,\u001b[0m \u001b[1;36m4.831208333\u001b[0m\u001b[1;33m)\u001b[0m\u001b[1;33m,\u001b[0m \u001b[1;33m(\u001b[0m\u001b[1;36m13.09808925\u001b[0m\u001b[1;33m,\u001b[0m \u001b[1;36m18.91946225\u001b[0m\u001b[1;33m,\u001b[0m \u001b[1;36m3.638358126\u001b[0m\u001b[1;33m,\u001b[0m \u001b[1;36m26.1961785\u001b[0m\u001b[1;33m,\u001b[0m \u001b[1;36m0.0\u001b[0m\u001b[1;33m,\u001b[0m \u001b[1;36m4.8445\u001b[0m\u001b[1;33m)\u001b[0m\u001b[1;33m,\u001b[0m \u001b[1;33m(\u001b[0m\u001b[1;36m7.951336294\u001b[0m\u001b[1;33m,\u001b[0m \u001b[1;36m11.56558006\u001b[0m\u001b[1;33m,\u001b[0m \u001b[1;36m1.445697508\u001b[0m\u001b[1;33m,\u001b[0m \u001b[1;36m26.02255514\u001b[0m\u001b[1;33m,\u001b[0m \u001b[1;36m0.0\u001b[0m\u001b[1;33m,\u001b[0m \u001b[1;36m5.070458333\u001b[0m\u001b[1;33m)\u001b[0m\u001b[1;33m,\u001b[0m \u001b[1;33m(\u001b[0m\u001b[1;36m12.94916501\u001b[0m\u001b[1;33m,\u001b[0m \u001b[1;36m18.70434946\u001b[0m\u001b[1;33m,\u001b[0m \u001b[1;36m3.596990282\u001b[0m\u001b[1;33m,\u001b[0m \u001b[1;36m25.89833003\u001b[0m\u001b[1;33m,\u001b[0m \u001b[1;36m0.0\u001b[0m\u001b[1;33m,\u001b[0m \u001b[1;36m4.6268125\u001b[0m\u001b[1;33m)\u001b[0m\u001b[1;33m,\u001b[0m \u001b[1;33m(\u001b[0m\u001b[1;36m12.78335783\u001b[0m\u001b[1;33m,\u001b[0m \u001b[1;36m18.4648502\u001b[0m\u001b[1;33m,\u001b[0m \u001b[1;36m3.550932731\u001b[0m\u001b[1;33m,\u001b[0m \u001b[1;36m25.56671566\u001b[0m\u001b[1;33m,\u001b[0m \u001b[1;36m0.0\u001b[0m\u001b[1;33m,\u001b[0m \u001b[1;36m4.850458333\u001b[0m\u001b[1;33m)\u001b[0m\u001b[1;33m,\u001b[0m \u001b[1;33m(\u001b[0m\u001b[1;36m12.73364694\u001b[0m\u001b[1;33m,\u001b[0m \u001b[1;36m18.39304558\u001b[0m\u001b[1;33m,\u001b[0m \u001b[1;36m3.53712415\u001b[0m\u001b[1;33m,\u001b[0m \u001b[1;36m25.46729388\u001b[0m\u001b[1;33m,\u001b[0m \u001b[1;36m0.0\u001b[0m\u001b[1;33m,\u001b[0m \u001b[1;36m5.066791667\u001b[0m\u001b[1;33m)\u001b[0m\u001b[1;33m,\u001b[0m \u001b[1;33m(\u001b[0m\u001b[1;36m19.5808544\u001b[0m\u001b[1;33m,\u001b[0m \u001b[1;36m25.54024487\u001b[0m\u001b[1;33m,\u001b[0m \u001b[1;36m3.831036731\u001b[0m\u001b[1;33m,\u001b[0m \u001b[1;36m25.54024487\u001b[0m\u001b[1;33m,\u001b[0m \u001b[1;36m0.0\u001b[0m\u001b[1;33m,\u001b[0m \u001b[1;36m4.826166667\u001b[0m\u001b[1;33m)\u001b[0m\u001b[1;33m,\u001b[0m \u001b[1;33m(\u001b[0m\u001b[1;36m6.352806458\u001b[0m\u001b[1;33m,\u001b[0m \u001b[1;36m21.17602153\u001b[0m\u001b[1;33m,\u001b[0m \u001b[1;36m4.235204306\u001b[0m\u001b[1;33m,\u001b[0m \u001b[1;36m0.0\u001b[0m\u001b[1;33m,\u001b[0m \u001b[1;36m0.0\u001b[0m\u001b[1;33m,\u001b[0m \u001b[1;36m0.0\u001b[0m\u001b[1;33m)\u001b[0m\u001b[1;33m,\u001b[0m \u001b[1;33m(\u001b[0m\u001b[1;36m12.54730926\u001b[0m\u001b[1;33m,\u001b[0m \u001b[1;36m18.12389116\u001b[0m\u001b[1;33m,\u001b[0m \u001b[1;36m3.485363685\u001b[0m\u001b[1;33m,\u001b[0m \u001b[1;36m25.09461853\u001b[0m\u001b[1;33m,\u001b[0m \u001b[1;36m0.0\u001b[0m\u001b[1;33m,\u001b[0m \u001b[1;36m4.417895833\u001b[0m\u001b[1;33m)\u001b[0m\u001b[1;33m,\u001b[0m \u001b[1;33m(\u001b[0m\u001b[1;36m7.541826481\u001b[0m\u001b[1;33m,\u001b[0m \u001b[1;36m10.96992943\u001b[0m\u001b[1;33m,\u001b[0m \u001b[1;36m1.371241178\u001b[0m\u001b[1;33m,\u001b[0m \u001b[1;36m24.68234121\u001b[0m\u001b[1;33m,\u001b[0m \u001b[1;36m0.0\u001b[0m\u001b[1;33m,\u001b[0m \u001b[1;36m4.849083333\u001b[0m\u001b[1;33m)\u001b[0m\u001b[1;33m,\u001b[0m \u001b[1;33m(\u001b[0m\u001b[1;36m18.29410084\u001b[0m\u001b[1;33m,\u001b[0m \u001b[1;36m24.57416531\u001b[0m\u001b[1;33m,\u001b[0m \u001b[1;36m4.232217359\u001b[0m\u001b[1;33m,\u001b[0m \u001b[1;36m24.57416531\u001b[0m\u001b[1;33m,\u001b[0m \u001b[1;36m0.0\u001b[0m\u001b[1;33m,\u001b[0m \u001b[1;36m5.058541667\u001b[0m\u001b[1;33m)\u001b[0m\u001b[1;33m,\u001b[0m \u001b[1;33m(\u001b[0m\u001b[1;36m7.540361671\u001b[0m\u001b[1;33m,\u001b[0m \u001b[1;36m10.96779879\u001b[0m\u001b[1;33m,\u001b[0m \u001b[1;36m1.370974849\u001b[0m\u001b[1;33m,\u001b[0m \u001b[1;36m24.67754729\u001b[0m\u001b[1;33m,\u001b[0m \u001b[1;36m0.0\u001b[0m\u001b[1;33m,\u001b[0m \u001b[1;36m4.989333333\u001b[0m\u001b[1;33m)\u001b[0m\u001b[1;33m,\u001b[0m \u001b[1;33m(\u001b[0m\u001b[1;36m12.37170581\u001b[0m\u001b[1;33m,\u001b[0m \u001b[1;36m17.87024172\u001b[0m\u001b[1;33m,\u001b[0m \u001b[1;36m3.436584946\u001b[0m\u001b[1;33m,\u001b[0m \u001b[1;36m24.74341161\u001b[0m\u001b[1;33m,\u001b[0m \u001b[1;36m0.0\u001b[0m\u001b[1;33m,\u001b[0m \u001b[1;36m5.128208333\u001b[0m\u001b[1;33m)\u001b[0m\u001b[1;33m,\u001b[0m \u001b[1;33m(\u001b[0m\u001b[1;36m18.99008338\u001b[0m\u001b[1;33m,\u001b[0m \u001b[1;36m24.76967397\u001b[0m\u001b[1;33m,\u001b[0m \u001b[1;36m3.715451095\u001b[0m\u001b[1;33m,\u001b[0m \u001b[1;36m24.76967397\u001b[0m\u001b[1;33m,\u001b[0m \u001b[1;36m0.0\u001b[0m\u001b[1;33m,\u001b[0m \u001b[1;36m5.230416667\u001b[0m\u001b[1;33m)\u001b[0m\u001b[1;33m,\u001b[0m \u001b[1;33m(\u001b[0m\u001b[1;36m24.20614845\u001b[0m\u001b[1;33m,\u001b[0m \u001b[1;36m31.30105403\u001b[0m\u001b[1;33m,\u001b[0m \u001b[1;36m6.399326602\u001b[0m\u001b[1;33m,\u001b[0m \u001b[1;36m25.04084323\u001b[0m\u001b[1;33m,\u001b[0m \u001b[1;36m0.0\u001b[0m\u001b[1;33m,\u001b[0m \u001b[1;36m5.129583333\u001b[0m\u001b[1;33m)\u001b[0m\u001b[1;33m,\u001b[0m \u001b[1;33m(\u001b[0m\u001b[1;36m12.58388898\u001b[0m\u001b[1;33m,\u001b[0m \u001b[1;36m18.17672852\u001b[0m\u001b[1;33m,\u001b[0m \u001b[1;36m3.495524716\u001b[0m\u001b[1;33m,\u001b[0m \u001b[1;36m25.16777795\u001b[0m\u001b[1;33m,\u001b[0m \u001b[1;36m0.0\u001b[0m\u001b[1;33m,\u001b[0m \u001b[1;36m4.998041667\u001b[0m\u001b[1;33m)\u001b[0m\u001b[1;33m,\u001b[0m \u001b[1;33m(\u001b[0m\u001b[1;36m7.680601268\u001b[0m\u001b[1;33m,\u001b[0m \u001b[1;36m11.17178366\u001b[0m\u001b[1;33m,\u001b[0m \u001b[1;36m1.396472958\u001b[0m\u001b[1;33m,\u001b[0m \u001b[1;36m25.13651324\u001b[0m\u001b[1;33m,\u001b[0m \u001b[1;36m0.0\u001b[0m\u001b[1;33m,\u001b[0m \u001b[1;36m5.105291667\u001b[0m\u001b[1;33m)\u001b[0m\u001b[1;33m,\u001b[0m \u001b[1;33m(\u001b[0m\u001b[1;36m12.63172398\u001b[0m\u001b[1;33m,\u001b[0m \u001b[1;36m18.24582353\u001b[0m\u001b[1;33m,\u001b[0m \u001b[1;36m3.508812218\u001b[0m\u001b[1;33m,\u001b[0m \u001b[1;36m25.26344797\u001b[0m\u001b[1;33m,\u001b[0m \u001b[1;36m0.0\u001b[0m\u001b[1;33m,\u001b[0m \u001b[1;36m5.064041667\u001b[0m\u001b[1;33m)\u001b[0m\u001b[1;33m,\u001b[0m \u001b[1;33m(\u001b[0m\u001b[1;36m12.72624763\u001b[0m\u001b[1;33m,\u001b[0m \u001b[1;36m18.38235768\u001b[0m\u001b[1;33m,\u001b[0m \u001b[1;36m3.535068785\u001b[0m\u001b[1;33m,\u001b[0m \u001b[1;36m25.45249525\u001b[0m\u001b[1;33m,\u001b[0m \u001b[1;36m0.0\u001b[0m\u001b[1;33m,\u001b[0m \u001b[1;36m4.875208333\u001b[0m\u001b[1;33m)\u001b[0m\u001b[1;33m,\u001b[0m \u001b[1;33m(\u001b[0m\u001b[1;36m12.82650313\u001b[0m\u001b[1;33m,\u001b[0m \u001b[1;36m18.52717119\u001b[0m\u001b[1;33m,\u001b[0m \u001b[1;36m3.562917537\u001b[0m\u001b[1;33m,\u001b[0m \u001b[1;36m25.65300626\u001b[0m\u001b[1;33m,\u001b[0m \u001b[1;36m0.0\u001b[0m\u001b[1;33m,\u001b[0m \u001b[1;36m4.932958333\u001b[0m\u001b[1;33m)\u001b[0m\u001b[1;33m,\u001b[0m \u001b[1;33m(\u001b[0m\u001b[1;36m19.69654773\u001b[0m\u001b[1;33m,\u001b[0m \u001b[1;36m25.69114921\u001b[0m\u001b[1;33m,\u001b[0m \u001b[1;36m3.853672382\u001b[0m\u001b[1;33m,\u001b[0m \u001b[1;36m25.69114921\u001b[0m\u001b[1;33m,\u001b[0m \u001b[1;36m0.0\u001b[0m\u001b[1;33m,\u001b[0m \u001b[1;36m4.7785\u001b[0m\u001b[1;33m)\u001b[0m\u001b[1;33m,\u001b[0m \u001b[1;33m(\u001b[0m\u001b[1;36m6.390949406\u001b[0m\u001b[1;33m,\u001b[0m \u001b[1;36m21.30316469\u001b[0m\u001b[1;33m,\u001b[0m \u001b[1;36m4.260632937\u001b[0m\u001b[1;33m,\u001b[0m \u001b[1;36m0.0\u001b[0m\u001b[1;33m,\u001b[0m \u001b[1;36m0.0\u001b[0m\u001b[1;33m,\u001b[0m \u001b[1;36m0.0\u001b[0m\u001b[1;33m)\u001b[0m\u001b[1;33m,\u001b[0m \u001b[1;33m(\u001b[0m\u001b[1;36m12.70029792\u001b[0m\u001b[1;33m,\u001b[0m \u001b[1;36m18.34487477\u001b[0m\u001b[1;33m,\u001b[0m \u001b[1;36m3.527860532\u001b[0m\u001b[1;33m,\u001b[0m \u001b[1;36m25.40059583\u001b[0m\u001b[1;33m,\u001b[0m \u001b[1;36m0.0\u001b[0m\u001b[1;33m,\u001b[0m \u001b[1;36m4.484020833\u001b[0m\u001b[1;33m)\u001b[0m\u001b[1;33m,\u001b[0m \u001b[1;33m(\u001b[0m\u001b[1;36m7.673659345\u001b[0m\u001b[1;33m,\u001b[0m \u001b[1;36m11.16168632\u001b[0m\u001b[1;33m,\u001b[0m \u001b[1;36m1.39521079\u001b[0m\u001b[1;33m,\u001b[0m \u001b[1;36m25.11379422\u001b[0m\u001b[1;33m,\u001b[0m \u001b[1;36m0.0\u001b[0m\u001b[1;33m,\u001b[0m \u001b[1;36m4.832583333\u001b[0m\u001b[1;33m)\u001b[0m\u001b[1;33m,\u001b[0m \u001b[1;33m(\u001b[0m\u001b[1;36m18.56114084\u001b[0m\u001b[1;33m,\u001b[0m \u001b[1;36m24.93287576\u001b[0m\u001b[1;33m,\u001b[0m \u001b[1;36m4.29399527\u001b[0m\u001b[1;33m,\u001b[0m \u001b[1;36m24.93287576\u001b[0m\u001b[1;33m,\u001b[0m \u001b[1;36m0.0\u001b[0m\u001b[1;33m,\u001b[0m \u001b[1;36m4.895833333\u001b[0m\u001b[1;33m)\u001b[0m\u001b[1;33m,\u001b[0m \u001b[1;33m(\u001b[0m\u001b[1;36m7.585898144\u001b[0m\u001b[1;33m,\u001b[0m \u001b[1;36m11.03403366\u001b[0m\u001b[1;33m,\u001b[0m \u001b[1;36m1.379254208\u001b[0m\u001b[1;33m,\u001b[0m \u001b[1;36m24.82657574\u001b[0m\u001b[1;33m,\u001b[0m \u001b[1;36m0.0\u001b[0m\u001b[1;33m,\u001b[0m \u001b[1;36m4.949\u001b[0m\u001b[1;33m)\u001b[0m\u001b[1;33m,\u001b[0m \u001b[1;33m(\u001b[0m\u001b[1;36m12.40213679\u001b[0m\u001b[1;33m,\u001b[0m \u001b[1;36m17.91419759\u001b[0m\u001b[1;33m,\u001b[0m \u001b[1;36m3.445037998\u001b[0m\u001b[1;33m,\u001b[0m \u001b[1;36m24.80427358\u001b[0m\u001b[1;33m,\u001b[0m \u001b[1;36m0.0\u001b[0m\u001b[1;33m,\u001b[0m \u001b[1;36m4.997583333\u001b[0m\u001b[1;33m)\u001b[0m\u001b[1;33m,\u001b[0m \u001b[1;33m(\u001b[0m\u001b[1;36m18.97905735\u001b[0m\u001b[1;33m,\u001b[0m \u001b[1;36m24.7552922\u001b[0m\u001b[1;33m,\u001b[0m \u001b[1;36m3.71329383\u001b[0m\u001b[1;33m,\u001b[0m \u001b[1;36m24.7552922\u001b[0m\u001b[1;33m,\u001b[0m \u001b[1;36m0.0\u001b[0m\u001b[1;33m,\u001b[0m \u001b[1;36m5.031041667\u001b[0m\u001b[1;33m)\u001b[0m\u001b[1;33m,\u001b[0m \u001b[1;33m(\u001b[0m\u001b[1;36m23.91560897\u001b[0m\u001b[1;33m,\u001b[0m \u001b[1;36m30.92535643\u001b[0m\u001b[1;33m,\u001b[0m \u001b[1;36m6.322517314\u001b[0m\u001b[1;33m,\u001b[0m \u001b[1;36m24.74028514\u001b[0m\u001b[1;33m,\u001b[0m \u001b[1;36m0.0\u001b[0m\u001b[1;33m,\u001b[0m \u001b[1;36m5.136\u001b[0m\u001b[1;33m)\u001b[0m\u001b[1;33m,\u001b[0m \u001b[1;33m(\u001b[0m\u001b[1;36m12.42944131\u001b[0m\u001b[1;33m,\u001b[0m \u001b[1;36m17.95363744\u001b[0m\u001b[1;33m,\u001b[0m \u001b[1;36m3.452622585\u001b[0m\u001b[1;33m,\u001b[0m \u001b[1;36m24.85888261\u001b[0m\u001b[1;33m,\u001b[0m \u001b[1;36m0.0\u001b[0m\u001b[1;33m,\u001b[0m \u001b[1;36m5.273041667\u001b[0m\u001b[1;33m)\u001b[0m\u001b[1;33m,\u001b[0m \u001b[1;33m(\u001b[0m\u001b[1;36m7.643025718\u001b[0m\u001b[1;33m,\u001b[0m \u001b[1;36m11.11712832\u001b[0m\u001b[1;33m,\u001b[0m \u001b[1;36m1.38964104\u001b[0m\u001b[1;33m,\u001b[0m \u001b[1;36m25.01353871\u001b[0m\u001b[1;33m,\u001b[0m \u001b[1;36m0.0\u001b[0m\u001b[1;33m,\u001b[0m \u001b[1;36m5.250583333\u001b[0m\u001b[1;33m)\u001b[0m\u001b[1;33m,\u001b[0m \u001b[1;33m(\u001b[0m\u001b[1;36m12.61411153\u001b[0m\u001b[1;33m,\u001b[0m \u001b[1;36m18.22038332\u001b[0m\u001b[1;33m,\u001b[0m \u001b[1;36m3.503919869\u001b[0m\u001b[1;33m,\u001b[0m \u001b[1;36m25.22822306\u001b[0m\u001b[1;33m,\u001b[0m \u001b[1;36m0.0\u001b[0m\u001b[1;33m,\u001b[0m \u001b[1;36m4.92425\u001b[0m\u001b[1;33m)\u001b[0m\u001b[1;33m,\u001b[0m \u001b[1;33m(\u001b[0m\u001b[1;36m12.6809138\u001b[0m\u001b[1;33m,\u001b[0m \u001b[1;36m18.31687548\u001b[0m\u001b[1;33m,\u001b[0m \u001b[1;36m3.522476054\u001b[0m\u001b[1;33m,\u001b[0m \u001b[1;36m25.36182759\u001b[0m\u001b[1;33m,\u001b[0m \u001b[1;36m0.0\u001b[0m\u001b[1;33m,\u001b[0m \u001b[1;36m4.971458333\u001b[0m\u001b[1;33m)\u001b[0m\u001b[1;33m,\u001b[0m \u001b[1;33m(\u001b[0m\u001b[1;36m12.78867283\u001b[0m\u001b[1;33m,\u001b[0m \u001b[1;36m18.47252742\u001b[0m\u001b[1;33m,\u001b[0m \u001b[1;36m3.55240912\u001b[0m\u001b[1;33m,\u001b[0m \u001b[1;36m25.57734566\u001b[0m\u001b[1;33m,\u001b[0m \u001b[1;36m0.0\u001b[0m\u001b[1;33m,\u001b[0m \u001b[1;36m4.954041667\u001b[0m\u001b[1;33m)\u001b[0m\u001b[1;33m,\u001b[0m \u001b[1;33m(\u001b[0m\u001b[1;36m19.65164466\u001b[0m\u001b[1;33m,\u001b[0m \u001b[1;36m25.63257999\u001b[0m\u001b[1;33m,\u001b[0m \u001b[1;36m3.844886998\u001b[0m\u001b[1;33m,\u001b[0m \u001b[1;36m25.63257999\u001b[0m\u001b[1;33m,\u001b[0m \u001b[1;36m0.0\u001b[0m\u001b[1;33m,\u001b[0m \u001b[1;36m4.856875\u001b[0m\u001b[1;33m)\u001b[0m\u001b[1;33m,\u001b[0m \u001b[1;33m(\u001b[0m\u001b[1;36m6.403715829\u001b[0m\u001b[1;33m,\u001b[0m \u001b[1;36m21.34571943\u001b[0m\u001b[1;33m,\u001b[0m \u001b[1;36m4.269143886\u001b[0m\u001b[1;33m,\u001b[0m \u001b[1;36m0.0\u001b[0m\u001b[1;33m,\u001b[0m \u001b[1;36m0.0\u001b[0m\u001b[1;33m,\u001b[0m \u001b[1;36m0.0\u001b[0m\u001b[1;33m)\u001b[0m\u001b[1;33m,\u001b[0m \u001b[1;33m(\u001b[0m\u001b[1;36m12.82587784\u001b[0m\u001b[1;33m,\u001b[0m \u001b[1;36m18.52626799\u001b[0m\u001b[1;33m,\u001b[0m \u001b[1;36m3.562743844\u001b[0m\u001b[1;33m,\u001b[0m \u001b[1;36m25.65175568\u001b[0m\u001b[1;33m,\u001b[0m \u001b[1;36m0.0\u001b[0m\u001b[1;33m,\u001b[0m \u001b[1;36m4.920125\u001b[0m\u001b[1;33m)\u001b[0m\u001b[1;33m,\u001b[0m \u001b[1;33m(\u001b[0m\u001b[1;36m7.82727329\u001b[0m\u001b[1;33m,\u001b[0m \u001b[1;36m11.38512479\u001b[0m\u001b[1;33m,\u001b[0m \u001b[1;36m1.423140598\u001b[0m\u001b[1;33m,\u001b[0m \u001b[1;36m25.61653077\u001b[0m\u001b[1;33m,\u001b[0m \u001b[1;36m0.0\u001b[0m\u001b[1;33m,\u001b[0m \u001b[1;36m4.785375\u001b[0m\u001b[1;33m)\u001b[0m\u001b[1;33m,\u001b[0m \u001b[1;33m(\u001b[0m\u001b[1;36m18.98691525\u001b[0m\u001b[1;33m,\u001b[0m \u001b[1;36m25.50481153\u001b[0m\u001b[1;33m,\u001b[0m \u001b[1;36m4.39249532\u001b[0m\u001b[1;33m,\u001b[0m \u001b[1;36m25.50481153\u001b[0m\u001b[1;33m,\u001b[0m \u001b[1;36m0.0\u001b[0m\u001b[1;33m,\u001b[0m \u001b[1;36m4.913708333\u001b[0m\u001b[1;33m)\u001b[0m\u001b[1;33m,\u001b[0m \u001b[1;33m(\u001b[0m\u001b[1;36m7.762248481\u001b[0m\u001b[1;33m,\u001b[0m \u001b[1;36m11.29054325\u001b[0m\u001b[1;33m,\u001b[0m \u001b[1;36m1.411317906\u001b[0m\u001b[1;33m,\u001b[0m \u001b[1;36m25.4037223\u001b[0m\u001b[1;33m,\u001b[0m \u001b[1;36m0.0\u001b[0m\u001b[1;33m,\u001b[0m \u001b[1;36m4.979708333\u001b[0m\u001b[1;33m)\u001b[0m\u001b[1;33m,\u001b[0m \u001b[1;33m(\u001b[0m\u001b[1;36m12.6351631\u001b[0m\u001b[1;33m,\u001b[0m \u001b[1;36m18.25079115\u001b[0m\u001b[1;33m,\u001b[0m \u001b[1;36m3.509767528\u001b[0m\u001b[1;33m,\u001b[0m \u001b[1;36m25.2703262\u001b[0m\u001b[1;33m,\u001b[0m \u001b[1;36m0.0\u001b[0m\u001b[1;33m,\u001b[0m \u001b[1;36m4.678083333\u001b[0m\u001b[1;33m)\u001b[0m\u001b[1;33m,\u001b[0m \u001b[1;33m(\u001b[0m\u001b[1;36m19.17608756\u001b[0m\u001b[1;33m,\u001b[0m \u001b[1;36m25.01228812\u001b[0m\u001b[1;33m,\u001b[0m \u001b[1;36m3.751843219\u001b[0m\u001b[1;33m,\u001b[0m \u001b[1;36m25.01228812\u001b[0m\u001b[1;33m,\u001b[0m \u001b[1;36m0.0\u001b[0m\u001b[1;33m,\u001b[0m \u001b[1;36m4.373333333\u001b[0m\u001b[1;33m)\u001b[0m\u001b[1;33m,\u001b[0m \u001b[1;33m(\u001b[0m\u001b[1;36m23.94442114\u001b[0m\u001b[1;33m,\u001b[0m \u001b[1;36m30.96261354\u001b[0m\u001b[1;33m,\u001b[0m \u001b[1;36m6.330134324\u001b[0m\u001b[1;33m,\u001b[0m \u001b[1;36m24.77009083\u001b[0m\u001b[1;33m,\u001b[0m \u001b[1;36m0.0\u001b[0m\u001b[1;33m,\u001b[0m \u001b[1;36m4.593270833\u001b[0m\u001b[1;33m)\u001b[0m\u001b[1;33m,\u001b[0m \u001b[1;33m(\u001b[0m\u001b[1;36m12.30104756\u001b[0m\u001b[1;33m,\u001b[0m \u001b[1;36m17.76817981\u001b[0m\u001b[1;33m,\u001b[0m \u001b[1;36m3.416957655\u001b[0m\u001b[1;33m,\u001b[0m \u001b[1;36m24.60209512\u001b[0m\u001b[1;33m,\u001b[0m \u001b[1;36m0.0\u001b[0m\u001b[1;33m,\u001b[0m \u001b[1;36m4.932958333\u001b[0m\u001b[1;33m)\u001b[0m\u001b[1;33m,\u001b[0m \u001b[1;33m(\u001b[0m\u001b[1;36m7.514377223\u001b[0m\u001b[1;33m,\u001b[0m \u001b[1;36m10.93000323\u001b[0m\u001b[1;33m,\u001b[0m \u001b[1;36m1.366250404\u001b[0m\u001b[1;33m,\u001b[0m \u001b[1;36m24.59250727\u001b[0m\u001b[1;33m,\u001b[0m \u001b[1;36m0.0\u001b[0m\u001b[1;33m,\u001b[0m \u001b[1;36m4.468208333\u001b[0m\u001b[1;33m)\u001b[0m\u001b[1;33m,\u001b[0m \u001b[1;33m(\u001b[0m\u001b[1;36m12.21110941\u001b[0m\u001b[1;33m,\u001b[0m \u001b[1;36m17.63826915\u001b[0m\u001b[1;33m,\u001b[0m \u001b[1;36m3.391974836\u001b[0m\u001b[1;33m,\u001b[0m \u001b[1;36m24.42221882\u001b[0m\u001b[1;33m,\u001b[0m \u001b[1;36m0.0\u001b[0m\u001b[1;33m,\u001b[0m \u001b[1;36m4.2329375\u001b[0m\u001b[1;33m)\u001b[0m\u001b[1;33m,\u001b[0m \u001b[1;33m(\u001b[0m\u001b[1;36m12.03540173\u001b[0m\u001b[1;33m,\u001b[0m \u001b[1;36m17.38446917\u001b[0m\u001b[1;33m,\u001b[0m \u001b[1;36m3.343167148\u001b[0m\u001b[1;33m,\u001b[0m \u001b[1;36m24.07080347\u001b[0m\u001b[1;33m,\u001b[0m \u001b[1;36m0.0\u001b[0m\u001b[1;33m,\u001b[0m \u001b[1;36m4.772083333\u001b[0m\u001b[1;33m)\u001b[0m\u001b[1;33m,\u001b[0m \u001b[1;33m(\u001b[0m\u001b[1;36m12.00174006\u001b[0m\u001b[1;33m,\u001b[0m \u001b[1;36m17.33584676\u001b[0m\u001b[1;33m,\u001b[0m \u001b[1;36m3.333816684\u001b[0m\u001b[1;33m,\u001b[0m \u001b[1;36m24.00348012\u001b[0m\u001b[1;33m,\u001b[0m \u001b[1;36m0.0\u001b[0m\u001b[1;33m,\u001b[0m \u001b[1;36m5.09475\u001b[0m\u001b[1;33m)\u001b[0m\u001b[1;33m,\u001b[0m \u001b[1;33m(\u001b[0m\u001b[1;36m18.51053135\u001b[0m\u001b[1;33m,\u001b[0m \u001b[1;36m24.14417132\u001b[0m\u001b[1;33m,\u001b[0m \u001b[1;36m3.621625698\u001b[0m\u001b[1;33m,\u001b[0m \u001b[1;36m24.14417132\u001b[0m\u001b[1;33m,\u001b[0m \u001b[1;36m0.0\u001b[0m\u001b[1;33m,\u001b[0m \u001b[1;36m5.045708333\u001b[0m\u001b[1;33m)\u001b[0m\u001b[1;33m,\u001b[0m \u001b[1;33m(\u001b[0m\u001b[1;36m6.051049892\u001b[0m\u001b[1;33m,\u001b[0m \u001b[1;36m20.17016631\u001b[0m\u001b[1;33m,\u001b[0m \u001b[1;36m4.034033261\u001b[0m\u001b[1;33m,\u001b[0m \u001b[1;36m0.0\u001b[0m\u001b[1;33m,\u001b[0m \u001b[1;36m0.0\u001b[0m\u001b[1;33m,\u001b[0m \u001b[1;36m0.0\u001b[0m\u001b[1;33m)\u001b[0m\u001b[1;33m,\u001b[0m \u001b[1;33m(\u001b[0m\u001b[1;36m12.12304714\u001b[0m\u001b[1;33m,\u001b[0m \u001b[1;36m17.51106809\u001b[0m\u001b[1;33m,\u001b[0m \u001b[1;36m3.367513094\u001b[0m\u001b[1;33m,\u001b[0m \u001b[1;36m24.24609428\u001b[0m\u001b[1;33m,\u001b[0m \u001b[1;36m0.0\u001b[0m\u001b[1;33m,\u001b[0m \u001b[1;36m5.26525\u001b[0m\u001b[1;33m)\u001b[0m\u001b[1;33m,\u001b[0m \u001b[1;33m(\u001b[0m\u001b[1;36m7.489411772\u001b[0m\u001b[1;33m,\u001b[0m \u001b[1;36m10.89368985\u001b[0m\u001b[1;33m,\u001b[0m \u001b[1;36m1.361711231\u001b[0m\u001b[1;33m,\u001b[0m \u001b[1;36m24.51080216\u001b[0m\u001b[1;33m,\u001b[0m \u001b[1;36m0.0\u001b[0m\u001b[1;33m,\u001b[0m \u001b[1;36m5.257458333\u001b[0m\u001b[1;33m)\u001b[0m\u001b[1;33m,\u001b[0m \u001b[1;33m(\u001b[0m\u001b[1;36m18.54003832\u001b[0m\u001b[1;33m,\u001b[0m \u001b[1;36m24.90452909\u001b[0m\u001b[1;33m,\u001b[0m \u001b[1;36m4.289113343\u001b[0m\u001b[1;33m,\u001b[0m \u001b[1;36m24.90452909\u001b[0m\u001b[1;33m,\u001b[0m \u001b[1;36m0.0\u001b[0m\u001b[1;33m,\u001b[0m \u001b[1;36m5.330333333\u001b[0m\u001b[1;33m)\u001b[0m\u001b[1;33m,\u001b[0m \u001b[1;33m(\u001b[0m\u001b[1;36m7.710916458\u001b[0m\u001b[1;33m,\u001b[0m \u001b[1;36m11.21587848\u001b[0m\u001b[1;33m,\u001b[0m \u001b[1;36m1.401984811\u001b[0m\u001b[1;33m,\u001b[0m \u001b[1;36m25.23572659\u001b[0m\u001b[1;33m,\u001b[0m \u001b[1;36m0.0\u001b[0m\u001b[1;33m,\u001b[0m \u001b[1;36m5.561791667\u001b[0m\u001b[1;33m)\u001b[0m\u001b[1;33m,\u001b[0m \u001b[1;33m(\u001b[0m\u001b[1;36m12.76084724\u001b[0m\u001b[1;33m,\u001b[0m \u001b[1;36m18.4323349\u001b[0m\u001b[1;33m,\u001b[0m \u001b[1;36m3.544679789\u001b[0m\u001b[1;33m,\u001b[0m \u001b[1;36m25.52169448\u001b[0m\u001b[1;33m,\u001b[0m \u001b[1;36m0.0\u001b[0m\u001b[1;33m,\u001b[0m \u001b[1;36m5.469666667\u001b[0m\u001b[1;33m)\u001b[0m\u001b[1;33m,\u001b[0m \u001b[1;33m(\u001b[0m\u001b[1;36m19.91083606\u001b[0m\u001b[1;33m,\u001b[0m \u001b[1;36m25.97065572\u001b[0m\u001b[1;33m,\u001b[0m \u001b[1;36m3.895598359\u001b[0m\u001b[1;33m,\u001b[0m \u001b[1;36m25.97065572\u001b[0m\u001b[1;33m,\u001b[0m \u001b[1;36m0.0\u001b[0m\u001b[1;33m,\u001b[0m \u001b[1;36m5.355083333\u001b[0m\u001b[1;33m)\u001b[0m\u001b[1;33m,\u001b[0m \u001b[1;33m(\u001b[0m\u001b[1;36m25.58752064\u001b[0m\u001b[1;33m,\u001b[0m \u001b[1;36m33.08731117\u001b[0m\u001b[1;33m,\u001b[0m \u001b[1;36m6.764516951\u001b[0m\u001b[1;33m,\u001b[0m \u001b[1;36m26.46984894\u001b[0m\u001b[1;33m,\u001b[0m \u001b[1;36m0.0\u001b[0m\u001b[1;33m,\u001b[0m \u001b[1;36m5.113541667\u001b[0m\u001b[1;33m)\u001b[0m\u001b[1;33m,\u001b[0m \u001b[1;33m(\u001b[0m\u001b[1;36m13.31256517\u001b[0m\u001b[1;33m,\u001b[0m \u001b[1;36m19.2292608\u001b[0m\u001b[1;33m,\u001b[0m \u001b[1;36m3.697934769\u001b[0m\u001b[1;33m,\u001b[0m \u001b[1;36m26.62513034\u001b[0m\u001b[1;33m,\u001b[0m \u001b[1;36m0.0\u001b[0m\u001b[1;33m,\u001b[0m \u001b[1;36m4.855041667\u001b[0m\u001b[1;33m)\u001b[0m\u001b[1;33m,\u001b[0m \u001b[1;33m(\u001b[0m\u001b[1;36m8.102147995\u001b[0m\u001b[1;33m,\u001b[0m \u001b[1;36m11.78494254\u001b[0m\u001b[1;33m,\u001b[0m \u001b[1;36m1.473117817\u001b[0m\u001b[1;33m,\u001b[0m \u001b[1;36m26.51612071\u001b[0m\u001b[1;33m,\u001b[0m \u001b[1;36m0.0\u001b[0m\u001b[1;33m,\u001b[0m \u001b[1;36m4.702875\u001b[0m\u001b[1;33m)\u001b[0m\u001b[1;33m,\u001b[0m \u001b[1;33m(\u001b[0m\u001b[1;36m13.18010701\u001b[0m\u001b[1;33m,\u001b[0m \u001b[1;36m19.03793235\u001b[0m\u001b[1;33m,\u001b[0m \u001b[1;36m3.661140836\u001b[0m\u001b[1;33m,\u001b[0m \u001b[1;36m26.36021402\u001b[0m\u001b[1;33m,\u001b[0m \u001b[1;36m0.0\u001b[0m\u001b[1;33m,\u001b[0m \u001b[1;36m5.412833333\u001b[0m\u001b[1;33m)\u001b[0m\u001b[1;33m,\u001b[0m \u001b[1;33m(\u001b[0m\u001b[1;36m13.25764349\u001b[0m\u001b[1;33m,\u001b[0m \u001b[1;36m19.14992949\u001b[0m\u001b[1;33m,\u001b[0m \u001b[1;36m3.682678748\u001b[0m\u001b[1;33m,\u001b[0m \u001b[1;36m26.51528699\u001b[0m\u001b[1;33m,\u001b[0m \u001b[1;36m0.0\u001b[0m\u001b[1;33m,\u001b[0m \u001b[1;36m5.162125\u001b[0m\u001b[1;33m)\u001b[0m\u001b[1;33m,\u001b[0m \u001b[1;33m(\u001b[0m\u001b[1;36m13.23419496\u001b[0m\u001b[1;33m,\u001b[0m \u001b[1;36m19.11605939\u001b[0m\u001b[1;33m,\u001b[0m \u001b[1;36m3.676165267\u001b[0m\u001b[1;33m,\u001b[0m \u001b[1;36m26.46838992\u001b[0m\u001b[1;33m,\u001b[0m \u001b[1;36m0.0\u001b[0m\u001b[1;33m,\u001b[0m \u001b[1;36m5.113541667\u001b[0m\u001b[1;33m)\u001b[0m\u001b[1;33m,\u001b[0m \u001b[1;33m(\u001b[0m\u001b[1;36m20.24225588\u001b[0m\u001b[1;33m,\u001b[0m \u001b[1;36m26.40294246\u001b[0m\u001b[1;33m,\u001b[0m \u001b[1;36m3.960441369\u001b[0m\u001b[1;33m,\u001b[0m \u001b[1;36m26.40294246\u001b[0m\u001b[1;33m,\u001b[0m \u001b[1;36m0.0\u001b[0m\u001b[1;33m,\u001b[0m \u001b[1;36m4.69325\u001b[0m\u001b[1;33m)\u001b[0m\u001b[1;33m,\u001b[0m \u001b[1;33m(\u001b[0m\u001b[1;36m6.528305701\u001b[0m\u001b[1;33m,\u001b[0m \u001b[1;36m21.761019\u001b[0m\u001b[1;33m,\u001b[0m \u001b[1;36m4.352203801\u001b[0m\u001b[1;33m,\u001b[0m \u001b[1;36m0.0\u001b[0m\u001b[1;33m,\u001b[0m \u001b[1;36m0.0\u001b[0m\u001b[1;33m,\u001b[0m \u001b[1;36m0.0\u001b[0m\u001b[1;33m)\u001b[0m\u001b[1;33m,\u001b[0m \u001b[1;33m(\u001b[0m\u001b[1;36m12.90716609\u001b[0m\u001b[1;33m,\u001b[0m \u001b[1;36m18.64368435\u001b[0m\u001b[1;33m,\u001b[0m \u001b[1;36m3.585323913\u001b[0m\u001b[1;33m,\u001b[0m \u001b[1;36m25.81433217\u001b[0m\u001b[1;33m,\u001b[0m \u001b[1;36m0.0\u001b[0m\u001b[1;33m,\u001b[0m \u001b[1;36m5.156625\u001b[0m\u001b[1;33m)\u001b[0m\u001b[1;33m,\u001b[0m \u001b[1;33m(\u001b[0m\u001b[1;36m7.844214132\u001b[0m\u001b[1;33m,\u001b[0m \u001b[1;36m11.40976601\u001b[0m\u001b[1;33m,\u001b[0m \u001b[1;36m1.426220751\u001b[0m\u001b[1;33m,\u001b[0m \u001b[1;36m25.67197352\u001b[0m\u001b[1;33m,\u001b[0m \u001b[1;36m0.0\u001b[0m\u001b[1;33m,\u001b[0m \u001b[1;36m5.011333333\u001b[0m\u001b[1;33m)\u001b[0m\u001b[1;33m,\u001b[0m \u001b[1;33m(\u001b[0m\u001b[1;36m18.99498386\u001b[0m\u001b[1;33m,\u001b[0m \u001b[1;36m25.51564997\u001b[0m\u001b[1;33m,\u001b[0m \u001b[1;36m4.394361939\u001b[0m\u001b[1;33m,\u001b[0m \u001b[1;36m25.51564997\u001b[0m\u001b[1;33m,\u001b[0m \u001b[1;36m0.0\u001b[0m\u001b[1;33m,\u001b[0m \u001b[1;36m4.71525\u001b[0m\u001b[1;33m)\u001b[0m\u001b[1;33m,\u001b[0m \u001b[1;33m(\u001b[0m\u001b[1;36m7.741104273\u001b[0m\u001b[1;33m,\u001b[0m \u001b[1;36m11.25978803\u001b[0m\u001b[1;33m,\u001b[0m \u001b[1;36m1.407473504\u001b[0m\u001b[1;33m,\u001b[0m \u001b[1;36m25.33452308\u001b[0m\u001b[1;33m,\u001b[0m \u001b[1;36m0.0\u001b[0m\u001b[1;33m,\u001b[0m \u001b[1;36m4.665625\u001b[0m\u001b[1;33m)\u001b[0m\u001b[1;33m,\u001b[0m \u001b[1;33m(\u001b[0m\u001b[1;36m12.62547104\u001b[0m\u001b[1;33m,\u001b[0m \u001b[1;36m18.2367915\u001b[0m\u001b[1;33m,\u001b[0m \u001b[1;36m3.507075289\u001b[0m\u001b[1;33m,\u001b[0m \u001b[1;36m25.25094208\u001b[0m\u001b[1;33m,\u001b[0m \u001b[1;36m0.0\u001b[0m\u001b[1;33m,\u001b[0m \u001b[1;36m4.918291667\u001b[0m\u001b[1;33m)\u001b[0m\u001b[1;33m,\u001b[0m \u001b[1;33m(\u001b[0m\u001b[1;36m19.43416038\u001b[0m\u001b[1;33m,\u001b[0m \u001b[1;36m25.34890484\u001b[0m\u001b[1;33m,\u001b[0m \u001b[1;36m3.802335727\u001b[0m\u001b[1;33m,\u001b[0m \u001b[1;36m25.34890484\u001b[0m\u001b[1;33m,\u001b[0m \u001b[1;36m0.0\u001b[0m\u001b[1;33m,\u001b[0m \u001b[1;36m5.103916667\u001b[0m\u001b[1;33m)\u001b[0m\u001b[1;33m,\u001b[0m \u001b[1;33m(\u001b[0m\u001b[1;36m24.36814134\u001b[0m\u001b[1;33m,\u001b[0m \u001b[1;36m31.5105276\u001b[0m\u001b[1;33m,\u001b[0m \u001b[1;36m6.442152308\u001b[0m\u001b[1;33m,\u001b[0m \u001b[1;36m25.20842208\u001b[0m\u001b[1;33m,\u001b[0m \u001b[1;36m0.0\u001b[0m\u001b[1;33m,\u001b[0m \u001b[1;36m4.7235\u001b[0m\u001b[1;33m)\u001b[0m\u001b[1;33m,\u001b[0m \u001b[1;33m(\u001b[0m\u001b[1;36m12.50447661\u001b[0m\u001b[1;33m,\u001b[0m \u001b[1;36m18.06202177\u001b[0m\u001b[1;33m,\u001b[0m \u001b[1;36m3.473465725\u001b[0m\u001b[1;33m,\u001b[0m \u001b[1;36m25.00895322\u001b[0m\u001b[1;33m,\u001b[0m \u001b[1;36m0.0\u001b[0m\u001b[1;33m,\u001b[0m \u001b[1;36m4.151479167\u001b[0m\u001b[1;33m)\u001b[0m\u001b[1;33m,\u001b[0m \u001b[1;33m(\u001b[0m\u001b[1;36m7.511829728\u001b[0m\u001b[1;33m,\u001b[0m \u001b[1;36m10.92629779\u001b[0m\u001b[1;33m,\u001b[0m \u001b[1;36m1.365787223\u001b[0m\u001b[1;33m,\u001b[0m \u001b[1;36m24.58417002\u001b[0m\u001b[1;33m,\u001b[0m \u001b[1;36m0.0\u001b[0m\u001b[1;33m,\u001b[0m \u001b[1;36m4.0489375\u001b[0m\u001b[1;33m)\u001b[0m\u001b[1;33m,\u001b[0m \u001b[1;33m(\u001b[0m\u001b[1;36m12.15295705\u001b[0m\u001b[1;33m,\u001b[0m \u001b[1;36m17.55427129\u001b[0m\u001b[1;33m,\u001b[0m \u001b[1;36m3.375821402\u001b[0m\u001b[1;33m,\u001b[0m \u001b[1;36m24.30591409\u001b[0m\u001b[1;33m,\u001b[0m \u001b[1;36m0.0\u001b[0m\u001b[1;33m,\u001b[0m \u001b[1;36m4.425083333\u001b[0m\u001b[1;33m)\u001b[0m\u001b[1;33m,\u001b[0m \u001b[1;33m(\u001b[0m\u001b[1;36m12.04759497\u001b[0m\u001b[1;33m,\u001b[0m \u001b[1;36m17.40208163\u001b[0m\u001b[1;33m,\u001b[0m \u001b[1;36m3.346554159\u001b[0m\u001b[1;33m,\u001b[0m \u001b[1;36m24.09518994\u001b[0m\u001b[1;33m,\u001b[0m \u001b[1;36m0.0\u001b[0m\u001b[1;33m,\u001b[0m \u001b[1;36m4.790875\u001b[0m\u001b[1;33m)\u001b[0m\u001b[1;33m,\u001b[0m \u001b[1;33m(\u001b[0m\u001b[1;36m11.96443084\u001b[0m\u001b[1;33m,\u001b[0m \u001b[1;36m17.28195566\u001b[0m\u001b[1;33m,\u001b[0m \u001b[1;36m3.323453011\u001b[0m\u001b[1;33m,\u001b[0m \u001b[1;36m23.92886168\u001b[0m\u001b[1;33m,\u001b[0m \u001b[1;36m0.0\u001b[0m\u001b[1;33m,\u001b[0m \u001b[1;36m4.647416667\u001b[0m\u001b[1;33m)\u001b[0m\u001b[1;33m,\u001b[0m \u001b[1;33m(\u001b[0m\u001b[1;36m18.22081864\u001b[0m\u001b[1;33m,\u001b[0m \u001b[1;36m23.76628519\u001b[0m\u001b[1;33m,\u001b[0m \u001b[1;36m3.564942778\u001b[0m\u001b[1;33m,\u001b[0m \u001b[1;36m23.76628519\u001b[0m\u001b[1;33m,\u001b[0m \u001b[1;36m0.0\u001b[0m\u001b[1;33m,\u001b[0m \u001b[1;36m4.553979167\u001b[0m\u001b[1;33m)\u001b[0m\u001b[1;33m,\u001b[0m \u001b[1;33m(\u001b[0m\u001b[1;36m5.924427813\u001b[0m\u001b[1;33m,\u001b[0m \u001b[1;36m19.74809271\u001b[0m\u001b[1;33m,\u001b[0m \u001b[1;36m3.949618542\u001b[0m\u001b[1;33m,\u001b[0m \u001b[1;36m0.0\u001b[0m\u001b[1;33m,\u001b[0m \u001b[1;36m0.0\u001b[0m\u001b[1;33m,\u001b[0m \u001b[1;36m0.0\u001b[0m\u001b[1;33m)\u001b[0m\u001b[1;33m,\u001b[0m \u001b[1;33m(\u001b[0m\u001b[1;36m11.76860954\u001b[0m\u001b[1;33m,\u001b[0m \u001b[1;36m16.99910266\u001b[0m\u001b[1;33m,\u001b[0m \u001b[1;36m3.269058204\u001b[0m\u001b[1;33m,\u001b[0m \u001b[1;36m23.53721907\u001b[0m\u001b[1;33m,\u001b[0m \u001b[1;36m0.0\u001b[0m\u001b[1;33m,\u001b[0m \u001b[1;36m3.935854167\u001b[0m\u001b[1;33m)\u001b[0m\u001b[1;33m,\u001b[0m \u001b[1;33m(\u001b[0m\u001b[1;36m17.71569903\u001b[0m\u001b[1;33m,\u001b[0m \u001b[1;36m23.10743351\u001b[0m\u001b[1;33m,\u001b[0m \u001b[1;36m3.466115027\u001b[0m\u001b[1;33m,\u001b[0m \u001b[1;36m23.10743351\u001b[0m\u001b[1;33m,\u001b[0m \u001b[1;36m0.0\u001b[0m\u001b[1;33m,\u001b[0m \u001b[1;36m4.256895833\u001b[0m\u001b[1;33m)\u001b[0m\u001b[1;33m,\u001b[0m \u001b[1;33m(\u001b[0m\u001b[1;36m16.92336792\u001b[0m\u001b[1;33m,\u001b[0m \u001b[1;36m22.73288228\u001b[0m\u001b[1;33m,\u001b[0m \u001b[1;36m3.915107504\u001b[0m\u001b[1;33m,\u001b[0m \u001b[1;36m22.73288228\u001b[0m\u001b[1;33m,\u001b[0m \u001b[1;36m0.0\u001b[0m\u001b[1;33m,\u001b[0m \u001b[1;36m4.020666667\u001b[0m\u001b[1;33m)\u001b[0m\u001b[1;33m,\u001b[0m \u001b[1;33m(\u001b[0m\u001b[1;36m6.853174909\u001b[0m\u001b[1;33m,\u001b[0m \u001b[1;36m9.968254412\u001b[0m\u001b[1;33m,\u001b[0m \u001b[1;36m1.246031802\u001b[0m\u001b[1;33m,\u001b[0m \u001b[1;36m22.42857243\u001b[0m\u001b[1;33m,\u001b[0m \u001b[1;36m0.0\u001b[0m\u001b[1;33m,\u001b[0m \u001b[1;36m4.295229167\u001b[0m\u001b[1;33m)\u001b[0m\u001b[1;33m,\u001b[0m \u001b[1;33m(\u001b[0m\u001b[1;36m11.24555092\u001b[0m\u001b[1;33m,\u001b[0m \u001b[1;36m16.24357356\u001b[0m\u001b[1;33m,\u001b[0m \u001b[1;36m3.123764146\u001b[0m\u001b[1;33m,\u001b[0m \u001b[1;36m22.49110185\u001b[0m\u001b[1;33m,\u001b[0m \u001b[1;36m0.0\u001b[0m\u001b[1;33m,\u001b[0m \u001b[1;36m4.539125\u001b[0m\u001b[1;33m)\u001b[0m\u001b[1;33m,\u001b[0m \u001b[1;33m(\u001b[0m\u001b[1;36m17.40665084\u001b[0m\u001b[1;33m,\u001b[0m \u001b[1;36m22.70432718\u001b[0m\u001b[1;33m,\u001b[0m \u001b[1;36m3.405649077\u001b[0m\u001b[1;33m,\u001b[0m \u001b[1;36m22.70432718\u001b[0m\u001b[1;33m,\u001b[0m \u001b[1;36m0.0\u001b[0m\u001b[1;33m,\u001b[0m \u001b[1;36m3.791625\u001b[0m\u001b[1;33m)\u001b[0m\u001b[1;33m,\u001b[0m \u001b[1;33m(\u001b[0m\u001b[1;36m21.68115483\u001b[0m\u001b[1;33m,\u001b[0m \u001b[1;36m28.03597607\u001b[0m\u001b[1;33m,\u001b[0m \u001b[1;36m5.731799553\u001b[0m\u001b[1;33m,\u001b[0m \u001b[1;36m22.42878086\u001b[0m\u001b[1;33m,\u001b[0m \u001b[1;36m0.0\u001b[0m\u001b[1;33m,\u001b[0m \u001b[1;36m4.276541667\u001b[0m\u001b[1;33m)\u001b[0m\u001b[1;33m,\u001b[0m \u001b[1;33m(\u001b[0m\u001b[1;36m11.10256698\u001b[0m\u001b[1;33m,\u001b[0m \u001b[1;36m16.03704119\u001b[0m\u001b[1;33m,\u001b[0m \u001b[1;36m3.084046384\u001b[0m\u001b[1;33m,\u001b[0m \u001b[1;36m22.20513396\u001b[0m\u001b[1;33m,\u001b[0m \u001b[1;36m0.0\u001b[0m\u001b[1;33m,\u001b[0m \u001b[1;36m4.579854167\u001b[0m\u001b[1;33m)\u001b[0m\u001b[1;33m,\u001b[0m \u001b[1;33m(\u001b[0m\u001b[1;36m6.775922124\u001b[0m\u001b[1;33m,\u001b[0m \u001b[1;36m9.855886726\u001b[0m\u001b[1;33m,\u001b[0m \u001b[1;36m1.231985841\u001b[0m\u001b[1;33m,\u001b[0m \u001b[1;36m22.17574513\u001b[0m\u001b[1;33m,\u001b[0m \u001b[1;36m0.0\u001b[0m\u001b[1;33m,\u001b[0m \u001b[1;36m4.621541667\u001b[0m\u001b[1;33m)\u001b[0m\u001b[1;33m,\u001b[0m \u001b[1;33m(\u001b[0m\u001b[1;36m11.10256698\u001b[0m\u001b[1;33m,\u001b[0m \u001b[1;36m16.03704119\u001b[0m\u001b[1;33m,\u001b[0m \u001b[1;36m3.084046384\u001b[0m\u001b[1;33m,\u001b[0m \u001b[1;36m22.20513396\u001b[0m\u001b[1;33m,\u001b[0m \u001b[1;36m0.0\u001b[0m\u001b[1;33m,\u001b[0m \u001b[1;36m4.420770833\u001b[0m\u001b[1;33m)\u001b[0m\u001b[1;33m,\u001b[0m \u001b[1;33m(\u001b[0m\u001b[1;36m11.12955885\u001b[0m\u001b[1;33m,\u001b[0m \u001b[1;36m16.07602945\u001b[0m\u001b[1;33m,\u001b[0m \u001b[1;36m3.091544124\u001b[0m\u001b[1;33m,\u001b[0m \u001b[1;36m22.2591177\u001b[0m\u001b[1;33m,\u001b[0m \u001b[1;36m0.0\u001b[0m\u001b[1;33m,\u001b[0m \u001b[1;36m4.358479167\u001b[0m\u001b[1;33m)\u001b[0m\u001b[1;33m,\u001b[0m \u001b[1;33m(\u001b[0m\u001b[1;36m11.2214771\u001b[0m\u001b[1;33m,\u001b[0m \u001b[1;36m16.20880025\u001b[0m\u001b[1;33m,\u001b[0m \u001b[1;36m3.117076972\u001b[0m\u001b[1;33m,\u001b[0m \u001b[1;36m22.4429542\u001b[0m\u001b[1;33m,\u001b[0m \u001b[1;36m0.0\u001b[0m\u001b[1;33m,\u001b[0m \u001b[1;36m4.673770833\u001b[0m\u001b[1;33m)\u001b[0m\u001b[1;33m,\u001b[0m \u001b[1;33m(\u001b[0m\u001b[1;36m17.34528863\u001b[0m\u001b[1;33m,\u001b[0m \u001b[1;36m22.62428952\u001b[0m\u001b[1;33m,\u001b[0m \u001b[1;36m3.393643428\u001b[0m\u001b[1;33m,\u001b[0m \u001b[1;36m22.62428952\u001b[0m\u001b[1;33m,\u001b[0m \u001b[1;36m0.0\u001b[0m\u001b[1;33m,\u001b[0m \u001b[1;36m4.012041667\u001b[0m\u001b[1;33m)\u001b[0m\u001b[1;33m,\u001b[0m \u001b[1;33m(\u001b[0m\u001b[1;36m5.655134438\u001b[0m\u001b[1;33m,\u001b[0m \u001b[1;36m18.85044813\u001b[0m\u001b[1;33m,\u001b[0m \u001b[1;36m3.770089625\u001b[0m\u001b[1;33m,\u001b[0m \u001b[1;36m0.0\u001b[0m\u001b[1;33m,\u001b[0m \u001b[1;36m0.0\u001b[0m\u001b[1;33m,\u001b[0m \u001b[1;36m0.0\u001b[0m\u001b[1;33m)\u001b[0m\u001b[1;33m,\u001b[0m \u001b[1;33m(\u001b[0m\u001b[1;36m11.16301209\u001b[0m\u001b[1;33m,\u001b[0m \u001b[1;36m16.12435079\u001b[0m\u001b[1;33m,\u001b[0m \u001b[1;36m3.100836691\u001b[0m\u001b[1;33m,\u001b[0m \u001b[1;36m22.32602418\u001b[0m\u001b[1;33m,\u001b[0m \u001b[1;36m0.0\u001b[0m\u001b[1;33m,\u001b[0m \u001b[1;36m3.789708333\u001b[0m\u001b[1;33m)\u001b[0m\u001b[1;33m,\u001b[0m \u001b[1;33m(\u001b[0m\u001b[1;36m6.722233668\u001b[0m\u001b[1;33m,\u001b[0m \u001b[1;36m9.777794426\u001b[0m\u001b[1;33m,\u001b[0m \u001b[1;36m1.222224303\u001b[0m\u001b[1;33m,\u001b[0m \u001b[1;36m22.00003746\u001b[0m\u001b[1;33m,\u001b[0m \u001b[1;36m0.0\u001b[0m\u001b[1;33m,\u001b[0m \u001b[1;36m4.019708333\u001b[0m\u001b[1;33m)\u001b[0m\u001b[1;33m,\u001b[0m \u001b[1;33m(\u001b[0m\u001b[1;36m16.45166449\u001b[0m\u001b[1;33m,\u001b[0m \u001b[1;36m22.09925081\u001b[0m\u001b[1;33m,\u001b[0m \u001b[1;36m3.805982084\u001b[0m\u001b[1;33m,\u001b[0m \u001b[1;36m22.09925081\u001b[0m\u001b[1;33m,\u001b[0m \u001b[1;36m0.0\u001b[0m\u001b[1;33m,\u001b[0m \u001b[1;36m3.836666667\u001b[0m\u001b[1;33m)\u001b[0m\u001b[1;33m,\u001b[0m \u001b[1;33m(\u001b[0m\u001b[1;36m6.694083849\u001b[0m\u001b[1;33m,\u001b[0m \u001b[1;36m9.736849235\u001b[0m\u001b[1;33m,\u001b[0m \u001b[1;36m1.217106154\u001b[0m\u001b[1;33m,\u001b[0m \u001b[1;36m21.90791078\u001b[0m\u001b[1;33m,\u001b[0m \u001b[1;36m0.0\u001b[0m\u001b[1;33m,\u001b[0m \u001b[1;36m3.775333333\u001b[0m\u001b[1;33m)\u001b[0m\u001b[1;33m,\u001b[0m \u001b[1;33m(\u001b[0m\u001b[1;36m10.77897722\u001b[0m\u001b[1;33m,\u001b[0m \u001b[1;36m15.56963377\u001b[0m\u001b[1;33m,\u001b[0m \u001b[1;36m2.99416034\u001b[0m\u001b[1;33m,\u001b[0m \u001b[1;36m21.55795445\u001b[0m\u001b[1;33m,\u001b[0m \u001b[1;36m0.0\u001b[0m\u001b[1;33m,\u001b[0m \u001b[1;36m3.768145833\u001b[0m\u001b[1;33m)\u001b[0m\u001b[1;33m,\u001b[0m \u001b[1;33m(\u001b[0m\u001b[1;36m16.24316589\u001b[0m\u001b[1;33m,\u001b[0m \u001b[1;36m21.18673812\u001b[0m\u001b[1;33m,\u001b[0m \u001b[1;36m3.178010718\u001b[0m\u001b[1;33m,\u001b[0m \u001b[1;36m21.18673812\u001b[0m\u001b[1;33m,\u001b[0m \u001b[1;36m0.0\u001b[0m\u001b[1;33m,\u001b[0m \u001b[1;36m3.886020833\u001b[0m\u001b[1;33m)\u001b[0m\u001b[1;33m,\u001b[0m \u001b[1;33m(\u001b[0m\u001b[1;36m20.25565771\u001b[0m\u001b[1;33m,\u001b[0m \u001b[1;36m26.19266084\u001b[0m\u001b[1;33m,\u001b[0m \u001b[1;36m5.354943993\u001b[0m\u001b[1;33m,\u001b[0m \u001b[1;36m20.95412867\u001b[0m\u001b[1;33m,\u001b[0m \u001b[1;36m0.0\u001b[0m\u001b[1;33m,\u001b[0m \u001b[1;36m3.5446875\u001b[0m\u001b[1;33m)\u001b[0m\u001b[1;33m,\u001b[0m \u001b[1;33m(\u001b[0m\u001b[1;36m10.30281568\u001b[0m\u001b[1;33m,\u001b[0m \u001b[1;36m14.88184487\u001b[0m\u001b[1;33m,\u001b[0m \u001b[1;36m2.861893244\u001b[0m\u001b[1;33m,\u001b[0m \u001b[1;36m20.60563136\u001b[0m\u001b[1;33m,\u001b[0m \u001b[1;36m0.0\u001b[0m\u001b[1;33m,\u001b[0m \u001b[1;36m3.608229167\u001b[0m\u001b[1;33m)\u001b[0m\u001b[1;33m,\u001b[0m \u001b[1;33m(\u001b[0m\u001b[1;36m6.155543417\u001b[0m\u001b[1;33m,\u001b[0m \u001b[1;36m8.953517697\u001b[0m\u001b[1;33m,\u001b[0m \u001b[1;36m1.119189712\u001b[0m\u001b[1;33m,\u001b[0m \u001b[1;36m20.14541482\u001b[0m\u001b[1;33m,\u001b[0m \u001b[1;36m0.0\u001b[0m\u001b[1;33m,\u001b[0m \u001b[1;36m3.979458333\u001b[0m\u001b[1;33m)\u001b[0m\u001b[1;33m,\u001b[0m \u001b[1;33m(\u001b[0m\u001b[1;36m10.06562074\u001b[0m\u001b[1;33m,\u001b[0m \u001b[1;36m14.53922996\u001b[0m\u001b[1;33m,\u001b[0m \u001b[1;36m2.796005761\u001b[0m\u001b[1;33m,\u001b[0m \u001b[1;36m20.13124148\u001b[0m\u001b[1;33m,\u001b[0m \u001b[1;36m0.0\u001b[0m\u001b[1;33m,\u001b[0m \u001b[1;36m4.473958333\u001b[0m\u001b[1;33m)\u001b[0m\u001b[1;33m,\u001b[0m \u001b[1;33m(\u001b[0m\u001b[1;36m10.25174999\u001b[0m\u001b[1;33m,\u001b[0m \u001b[1;36m14.80808331\u001b[0m\u001b[1;33m,\u001b[0m \u001b[1;36m2.847708329\u001b[0m\u001b[1;33m,\u001b[0m \u001b[1;36m20.50349997\u001b[0m\u001b[1;33m,\u001b[0m \u001b[1;36m0.0\u001b[0m\u001b[1;33m,\u001b[0m \u001b[1;36m4.449041667\u001b[0m\u001b[1;33m)\u001b[0m\u001b[1;33m,\u001b[0m \u001b[1;33m(\u001b[0m\u001b[1;36m10.39515079\u001b[0m\u001b[1;33m,\u001b[0m \u001b[1;36m15.01521781\u001b[0m\u001b[1;33m,\u001b[0m \u001b[1;36m2.887541887\u001b[0m\u001b[1;33m,\u001b[0m \u001b[1;36m20.79030158\u001b[0m\u001b[1;33m,\u001b[0m \u001b[1;36m0.0\u001b[0m\u001b[1;33m,\u001b[0m \u001b[1;36m4.328291667\u001b[0m\u001b[1;33m)\u001b[0m\u001b[1;33m,\u001b[0m \u001b[1;33m(\u001b[0m\u001b[1;36m16.04214075\u001b[0m\u001b[1;33m,\u001b[0m \u001b[1;36m20.92453141\u001b[0m\u001b[1;33m,\u001b[0m \u001b[1;36m3.138679711\u001b[0m\u001b[1;33m,\u001b[0m \u001b[1;36m20.92453141\u001b[0m\u001b[1;33m,\u001b[0m \u001b[1;36m0.0\u001b[0m\u001b[1;33m,\u001b[0m \u001b[1;36m4.034083333\u001b[0m\u001b[1;33m)\u001b[0m\u001b[1;33m,\u001b[0m \u001b[1;33m(\u001b[0m\u001b[1;36m5.252601287\u001b[0m\u001b[1;33m,\u001b[0m \u001b[1;36m17.50867096\u001b[0m\u001b[1;33m,\u001b[0m \u001b[1;36m3.501734191\u001b[0m\u001b[1;33m,\u001b[0m \u001b[1;36m0.0\u001b[0m\u001b[1;33m,\u001b[0m \u001b[1;36m0.0\u001b[0m\u001b[1;33m,\u001b[0m \u001b[1;36m0.0\u001b[0m\u001b[1;33m)\u001b[0m\u001b[1;33m,\u001b[0m \u001b[1;33m(\u001b[0m\u001b[1;36m10.59086788\u001b[0m\u001b[1;33m,\u001b[0m \u001b[1;36m15.29792027\u001b[0m\u001b[1;33m,\u001b[0m \u001b[1;36m2.941907745\u001b[0m\u001b[1;33m,\u001b[0m \u001b[1;36m21.18173576\u001b[0m\u001b[1;33m,\u001b[0m \u001b[1;36m0.0\u001b[0m\u001b[1;33m,\u001b[0m \u001b[1;36m4.217125\u001b[0m\u001b[1;33m)\u001b[0m\u001b[1;33m,\u001b[0m \u001b[1;33m(\u001b[0m\u001b[1;36m6.531872108\u001b[0m\u001b[1;33m,\u001b[0m \u001b[1;36m9.500904884\u001b[0m\u001b[1;33m,\u001b[0m \u001b[1;36m1.187613111\u001b[0m\u001b[1;33m,\u001b[0m \u001b[1;36m21.37703599\u001b[0m\u001b[1;33m,\u001b[0m \u001b[1;36m0.0\u001b[0m\u001b[1;33m,\u001b[0m \u001b[1;36m3.790666667\u001b[0m\u001b[1;33m)\u001b[0m\u001b[1;33m,\u001b[0m \u001b[1;33m(\u001b[0m\u001b[1;36m15.88313773\u001b[0m\u001b[1;33m,\u001b[0m \u001b[1;36m21.33555814\u001b[0m\u001b[1;33m,\u001b[0m \u001b[1;36m3.674457235\u001b[0m\u001b[1;33m,\u001b[0m \u001b[1;36m21.33555814\u001b[0m\u001b[1;33m,\u001b[0m \u001b[1;36m0.0\u001b[0m\u001b[1;33m,\u001b[0m \u001b[1;36m3.8706875\u001b[0m\u001b[1;33m)\u001b[0m\u001b[1;33m,\u001b[0m \u001b[1;33m(\u001b[0m\u001b[1;36m6.560849863\u001b[0m\u001b[1;33m,\u001b[0m \u001b[1;36m9.543054346\u001b[0m\u001b[1;33m,\u001b[0m \u001b[1;36m1.192881793\u001b[0m\u001b[1;33m,\u001b[0m \u001b[1;36m21.47187228\u001b[0m\u001b[1;33m,\u001b[0m \u001b[1;36m0.0\u001b[0m\u001b[1;33m,\u001b[0m \u001b[1;36m3.663208333\u001b[0m\u001b[1;33m)\u001b[0m\u001b[1;33m,\u001b[0m \u001b[1;33m(\u001b[0m\u001b[1;36m10.74625349\u001b[0m\u001b[1;33m,\u001b[0m \u001b[1;36m15.52236616\u001b[0m\u001b[1;33m,\u001b[0m \u001b[1;36m2.985070415\u001b[0m\u001b[1;33m,\u001b[0m \u001b[1;36m21.49250699\u001b[0m\u001b[1;33m,\u001b[0m \u001b[1;36m0.0\u001b[0m\u001b[1;33m,\u001b[0m \u001b[1;36m3.493645833\u001b[0m\u001b[1;33m)\u001b[0m\u001b[1;33m,\u001b[0m \u001b[1;33m(\u001b[0m\u001b[1;36m16.32114703\u001b[0m\u001b[1;33m,\u001b[0m \u001b[1;36m21.28845264\u001b[0m\u001b[1;33m,\u001b[0m \u001b[1;36m3.193267896\u001b[0m\u001b[1;33m,\u001b[0m \u001b[1;36m21.28845264\u001b[0m\u001b[1;33m,\u001b[0m \u001b[1;36m0.0\u001b[0m\u001b[1;33m,\u001b[0m \u001b[1;36m3.531145833\u001b[0m\u001b[1;33m)\u001b[0m\u001b[1;33m,\u001b[0m \u001b[1;33m(\u001b[0m\u001b[1;36m20.18816068\u001b[0m\u001b[1;33m,\u001b[0m \u001b[1;36m26.10538019\u001b[0m\u001b[1;33m,\u001b[0m \u001b[1;36m5.337099949\u001b[0m\u001b[1;33m,\u001b[0m \u001b[1;36m20.88430415\u001b[0m\u001b[1;33m,\u001b[0m \u001b[1;36m0.0\u001b[0m\u001b[1;33m,\u001b[0m \u001b[1;36m3.559270833\u001b[0m\u001b[1;33m)\u001b[0m\u001b[1;33m,\u001b[0m \u001b[1;33m(\u001b[0m\u001b[1;36m10.25112469\u001b[0m\u001b[1;33m,\u001b[0m \u001b[1;36m14.80718011\u001b[0m\u001b[1;33m,\u001b[0m \u001b[1;36m2.847534637\u001b[0m\u001b[1;33m,\u001b[0m \u001b[1;36m20.50224938\u001b[0m\u001b[1;33m,\u001b[0m \u001b[1;36m0.0\u001b[0m\u001b[1;33m,\u001b[0m \u001b[1;36m3.737958333\u001b[0m\u001b[1;33m)\u001b[0m\u001b[1;33m,\u001b[0m \u001b[1;33m(\u001b[0m\u001b[1;36m6.186113356\u001b[0m\u001b[1;33m,\u001b[0m \u001b[1;36m8.997983063\u001b[0m\u001b[1;33m,\u001b[0m \u001b[1;36m1.124747883\u001b[0m\u001b[1;33m,\u001b[0m \u001b[1;36m20.24546189\u001b[0m\u001b[1;33m,\u001b[0m \u001b[1;36m0.0\u001b[0m\u001b[1;33m,\u001b[0m \u001b[1;36m3.524895833\u001b[0m\u001b[1;33m)\u001b[0m\u001b[1;33m,\u001b[0m \u001b[1;33m(\u001b[0m\u001b[1;36m10.01507613\u001b[0m\u001b[1;33m,\u001b[0m \u001b[1;36m14.46622107\u001b[0m\u001b[1;33m,\u001b[0m \u001b[1;36m2.78196559\u001b[0m\u001b[1;33m,\u001b[0m \u001b[1;36m20.03015225\u001b[0m\u001b[1;33m,\u001b[0m \u001b[1;36m0.0\u001b[0m\u001b[1;33m,\u001b[0m \u001b[1;36m3.655541667\u001b[0m\u001b[1;33m)\u001b[0m\u001b[1;33m,\u001b[0m \u001b[1;33m(\u001b[0m\u001b[1;36m9.903356892\u001b[0m\u001b[1;33m,\u001b[0m \u001b[1;36m14.30484884\u001b[0m\u001b[1;33m,\u001b[0m \u001b[1;36m2.75093247\u001b[0m\u001b[1;33m,\u001b[0m \u001b[1;36m19.80671378\u001b[0m\u001b[1;33m,\u001b[0m \u001b[1;36m0.0\u001b[0m\u001b[1;33m,\u001b[0m \u001b[1;36m3.424895833\u001b[0m\u001b[1;33m)\u001b[0m\u001b[1;33m,\u001b[0m \u001b[1;33m(\u001b[0m\u001b[1;36m9.735882258\u001b[0m\u001b[1;33m,\u001b[0m \u001b[1;36m14.06294104\u001b[0m\u001b[1;33m,\u001b[0m \u001b[1;36m2.704411738\u001b[0m\u001b[1;33m,\u001b[0m \u001b[1;36m19.47176452\u001b[0m\u001b[1;33m,\u001b[0m \u001b[1;36m0.0\u001b[0m\u001b[1;33m,\u001b[0m \u001b[1;36m3.066041667\u001b[0m\u001b[1;33m)\u001b[0m\u001b[1;33m,\u001b[0m \u001b[1;33m(\u001b[0m\u001b[1;36m14.70367764\u001b[0m\u001b[1;33m,\u001b[0m \u001b[1;36m19.17870996\u001b[0m\u001b[1;33m,\u001b[0m \u001b[1;36m2.876806494\u001b[0m\u001b[1;33m,\u001b[0m \u001b[1;36m19.17870996\u001b[0m\u001b[1;33m,\u001b[0m \u001b[1;36m0.0\u001b[0m\u001b[1;33m,\u001b[0m \u001b[1;36m3.3009375\u001b[0m\u001b[1;33m)\u001b[0m\u001b[1;33m,\u001b[0m \u001b[1;33m(\u001b[0m\u001b[1;36m4.736212481\u001b[0m\u001b[1;33m,\u001b[0m \u001b[1;36m15.78737494\u001b[0m\u001b[1;33m,\u001b[0m \u001b[1;36m3.157474987\u001b[0m\u001b[1;33m,\u001b[0m \u001b[1;36m0.0\u001b[0m\u001b[1;33m,\u001b[0m \u001b[1;36m0.0\u001b[0m\u001b[1;33m,\u001b[0m \u001b[1;36m0.0\u001b[0m\u001b[1;33m)\u001b[0m\u001b[1;33m,\u001b[0m \u001b[1;33m(\u001b[0m\u001b[1;36m9.519217813\u001b[0m\u001b[1;33m,\u001b[0m \u001b[1;36m13.74998129\u001b[0m\u001b[1;33m,\u001b[0m \u001b[1;36m2.64422717\u001b[0m\u001b[1;33m,\u001b[0m \u001b[1;36m19.03843563\u001b[0m\u001b[1;33m,\u001b[0m \u001b[1;36m0.0\u001b[0m\u001b[1;33m,\u001b[0m \u001b[1;36m3.922916667\u001b[0m\u001b[1;33m)\u001b[0m\u001b[1;33m,\u001b[0m \u001b[1;33m(\u001b[0m\u001b[1;36m5.872134603\u001b[0m\u001b[1;33m,\u001b[0m \u001b[1;36m8.541286696\u001b[0m\u001b[1;33m,\u001b[0m \u001b[1;36m1.067660837\u001b[0m\u001b[1;33m,\u001b[0m \u001b[1;36m19.21789507\u001b[0m\u001b[1;33m,\u001b[0m \u001b[1;36m0.0\u001b[0m\u001b[1;33m,\u001b[0m \u001b[1;36m3.745145833\u001b[0m\u001b[1;33m)\u001b[0m\u001b[1;33m,\u001b[0m \u001b[1;33m(\u001b[0m\u001b[1;36m4.826254848\u001b[0m\u001b[1;33m,\u001b[0m \u001b[1;36m16.08751616\u001b[0m\u001b[1;33m,\u001b[0m \u001b[1;36m3.217503232\u001b[0m\u001b[1;33m,\u001b[0m \u001b[1;36m0.0\u001b[0m\u001b[1;33m,\u001b[0m \u001b[1;36m0.0\u001b[0m\u001b[1;33m,\u001b[0m \u001b[1;36m0.0\u001b[0m\u001b[1;33m)\u001b[0m\u001b[1;33m,\u001b[0m \u001b[1;33m(\u001b[0m\u001b[1;36m4.838656517\u001b[0m\u001b[1;33m,\u001b[0m \u001b[1;36m16.12885506\u001b[0m\u001b[1;33m,\u001b[0m \u001b[1;36m3.225771011\u001b[0m\u001b[1;33m,\u001b[0m \u001b[1;36m0.0\u001b[0m\u001b[1;33m,\u001b[0m \u001b[1;36m0.0\u001b[0m\u001b[1;33m,\u001b[0m \u001b[1;36m0.0\u001b[0m\u001b[1;33m)\u001b[0m\u001b[1;33m,\u001b[0m \u001b[1;33m(\u001b[0m\u001b[1;36m14.83662908\u001b[0m\u001b[1;33m,\u001b[0m \u001b[1;36m19.35212489\u001b[0m\u001b[1;33m,\u001b[0m \u001b[1;36m2.902818734\u001b[0m\u001b[1;33m,\u001b[0m \u001b[1;36m19.35212489\u001b[0m\u001b[1;33m,\u001b[0m \u001b[1;36m0.0\u001b[0m\u001b[1;33m,\u001b[0m \u001b[1;36m3.509270833\u001b[0m\u001b[1;33m)\u001b[0m\u001b[1;33m,\u001b[0m \u001b[1;33m(\u001b[0m\u001b[1;36m14.83183516\u001b[0m\u001b[1;33m,\u001b[0m \u001b[1;36m19.34587195\u001b[0m\u001b[1;33m,\u001b[0m \u001b[1;36m2.901880792\u001b[0m\u001b[1;33m,\u001b[0m \u001b[1;36m19.34587195\u001b[0m\u001b[1;33m,\u001b[0m \u001b[1;36m0.0\u001b[0m\u001b[1;33m,\u001b[0m \u001b[1;36m3.482708333\u001b[0m\u001b[1;33m)\u001b[0m\u001b[1;33m,\u001b[0m \u001b[1;33m(\u001b[0m\u001b[1;36m18.63572883\u001b[0m\u001b[1;33m,\u001b[0m \u001b[1;36m24.09792522\u001b[0m\u001b[1;33m,\u001b[0m \u001b[1;36m4.926686933\u001b[0m\u001b[1;33m,\u001b[0m \u001b[1;36m19.27834017\u001b[0m\u001b[1;33m,\u001b[0m \u001b[1;36m0.0\u001b[0m\u001b[1;33m,\u001b[0m \u001b[1;36m3.244166667\u001b[0m\u001b[1;33m)\u001b[0m\u001b[1;33m,\u001b[0m \u001b[1;33m(\u001b[0m\u001b[1;36m9.603007238\u001b[0m\u001b[1;33m,\u001b[0m \u001b[1;36m13.87101045\u001b[0m\u001b[1;33m,\u001b[0m \u001b[1;36m2.66750201\u001b[0m\u001b[1;33m,\u001b[0m \u001b[1;36m19.20601448\u001b[0m\u001b[1;33m,\u001b[0m \u001b[1;36m0.0\u001b[0m\u001b[1;33m,\u001b[0m \u001b[1;36m3.19\u001b[0m\u001b[1;33m)\u001b[0m\u001b[1;33m,\u001b[0m \u001b[1;33m(\u001b[0m\u001b[1;36m5.883662018\u001b[0m\u001b[1;33m,\u001b[0m \u001b[1;36m8.558053844\u001b[0m\u001b[1;33m,\u001b[0m \u001b[1;36m1.069756731\u001b[0m\u001b[1;33m,\u001b[0m \u001b[1;36m19.25562115\u001b[0m\u001b[1;33m,\u001b[0m \u001b[1;36m0.0\u001b[0m\u001b[1;33m,\u001b[0m \u001b[1;36m3.243645833\u001b[0m\u001b[1;33m)\u001b[0m\u001b[1;33m,\u001b[0m \u001b[1;33m(\u001b[0m\u001b[1;36m9.616346848\u001b[0m\u001b[1;33m,\u001b[0m \u001b[1;36m13.89027878\u001b[0m\u001b[1;33m,\u001b[0m \u001b[1;36m2.671207458\u001b[0m\u001b[1;33m,\u001b[0m \u001b[1;36m19.2326937\u001b[0m\u001b[1;33m,\u001b[0m \u001b[1;36m0.0\u001b[0m\u001b[1;33m,\u001b[0m \u001b[1;36m3.67375\u001b[0m\u001b[1;33m)\u001b[0m\u001b[1;33m,\u001b[0m \u001b[1;33m(\u001b[0m\u001b[1;36m9.571846743\u001b[0m\u001b[1;33m,\u001b[0m \u001b[1;36m13.82600085\u001b[0m\u001b[1;33m,\u001b[0m \u001b[1;36m2.658846317\u001b[0m\u001b[1;33m,\u001b[0m \u001b[1;36m19.14369349\u001b[0m\u001b[1;33m,\u001b[0m \u001b[1;36m0.0\u001b[0m\u001b[1;33m,\u001b[0m \u001b[1;36m3.415520833\u001b[0m\u001b[1;33m)\u001b[0m\u001b[1;33m,\u001b[0m \u001b[1;33m(\u001b[0m\u001b[1;36m9.466484667\u001b[0m\u001b[1;33m,\u001b[0m \u001b[1;36m13.67381119\u001b[0m\u001b[1;33m,\u001b[0m \u001b[1;36m2.629579074\u001b[0m\u001b[1;33m,\u001b[0m \u001b[1;36m18.93296933\u001b[0m\u001b[1;33m,\u001b[0m \u001b[1;36m0.0\u001b[0m\u001b[1;33m,\u001b[0m \u001b[1;36m2.936875\u001b[0m\u001b[1;33m)\u001b[0m\u001b[1;33m,\u001b[0m \u001b[1;33m(\u001b[0m\u001b[1;36m14.26615233\u001b[0m\u001b[1;33m,\u001b[0m \u001b[1;36m18.60802477\u001b[0m\u001b[1;33m,\u001b[0m \u001b[1;36m2.791203716\u001b[0m\u001b[1;33m,\u001b[0m \u001b[1;36m18.60802477\u001b[0m\u001b[1;33m,\u001b[0m \u001b[1;36m0.0\u001b[0m\u001b[1;33m,\u001b[0m \u001b[1;36m2.661354167\u001b[0m\u001b[1;33m)\u001b[0m\u001b[1;33m,\u001b[0m \u001b[1;33m(\u001b[0m\u001b[1;36m4.549770589\u001b[0m\u001b[1;33m,\u001b[0m \u001b[1;36m15.16590196\u001b[0m\u001b[1;33m,\u001b[0m \u001b[1;36m3.033180393\u001b[0m\u001b[1;33m,\u001b[0m \u001b[1;36m0.0\u001b[0m\u001b[1;33m,\u001b[0m \u001b[1;36m0.0\u001b[0m\u001b[1;33m,\u001b[0m \u001b[1;36m0.0\u001b[0m\u001b[1;33m)\u001b[0m\u001b[1;33m,\u001b[0m \u001b[1;33m(\u001b[0m\u001b[1;36m9.06483735\u001b[0m\u001b[1;33m,\u001b[0m \u001b[1;36m13.09365395\u001b[0m\u001b[1;33m,\u001b[0m \u001b[1;36m2.518010375\u001b[0m\u001b[1;33m,\u001b[0m \u001b[1;36m18.1296747\u001b[0m\u001b[1;33m,\u001b[0m \u001b[1;36m0.0\u001b[0m\u001b[1;33m,\u001b[0m \u001b[1;36m3.699145833\u001b[0m\u001b[1;33m)\u001b[0m\u001b[1;33m,\u001b[0m \u001b[1;33m(\u001b[0m\u001b[1;36m5.562805029\u001b[0m\u001b[1;33m,\u001b[0m \u001b[1;36m8.09135277\u001b[0m\u001b[1;33m,\u001b[0m \u001b[1;36m1.011419096\u001b[0m\u001b[1;33m,\u001b[0m \u001b[1;36m18.20554373\u001b[0m\u001b[1;33m,\u001b[0m \u001b[1;36m0.0\u001b[0m\u001b[1;33m,\u001b[0m \u001b[1;36m3.7413125\u001b[0m\u001b[1;33m)\u001b[0m\u001b[1;33m,\u001b[0m \u001b[1;33m(\u001b[0m\u001b[1;36m13.63106419\u001b[0m\u001b[1;33m,\u001b[0m \u001b[1;36m18.31038473\u001b[0m\u001b[1;33m,\u001b[0m \u001b[1;36m3.153455148\u001b[0m\u001b[1;33m,\u001b[0m \u001b[1;36m18.31038473\u001b[0m\u001b[1;33m,\u001b[0m \u001b[1;36m0.0\u001b[0m\u001b[1;33m,\u001b[0m \u001b[1;36m3.547291667\u001b[0m\u001b[1;33m)\u001b[0m\u001b[1;33m,\u001b[0m \u001b[1;33m(\u001b[0m\u001b[1;36m5.63190583\u001b[0m\u001b[1;33m,\u001b[0m \u001b[1;36m8.191863025\u001b[0m\u001b[1;33m,\u001b[0m \u001b[1;36m1.023982878\u001b[0m\u001b[1;33m,\u001b[0m \u001b[1;36m18.43169181\u001b[0m\u001b[1;33m,\u001b[0m \u001b[1;36m0.0\u001b[0m\u001b[1;33m,\u001b[0m \u001b[1;36m3.55875\u001b[0m\u001b[1;33m)\u001b[0m\u001b[1;33m,\u001b[0m \u001b[1;33m(\u001b[0m\u001b[1;36m9.28963062\u001b[0m\u001b[1;33m,\u001b[0m \u001b[1;36m13.41835534\u001b[0m\u001b[1;33m,\u001b[0m \u001b[1;36m2.58045295\u001b[0m\u001b[1;33m,\u001b[0m \u001b[1;36m18.57926124\u001b[0m\u001b[1;33m,\u001b[0m \u001b[1;36m0.0\u001b[0m\u001b[1;33m,\u001b[0m \u001b[1;36m3.324895833\u001b[0m\u001b[1;33m)\u001b[0m\u001b[1;33m,\u001b[0m \u001b[1;33m(\u001b[0m\u001b[1;36m14.26902868\u001b[0m\u001b[1;33m,\u001b[0m \u001b[1;36m18.61177654\u001b[0m\u001b[1;33m,\u001b[0m \u001b[1;36m2.791766481\u001b[0m\u001b[1;33m,\u001b[0m \u001b[1;36m18.61177654\u001b[0m\u001b[1;33m,\u001b[0m \u001b[1;36m0.0\u001b[0m\u001b[1;33m,\u001b[0m \u001b[1;36m3.0103125\u001b[0m\u001b[1;33m)\u001b[0m\u001b[1;33m,\u001b[0m \u001b[1;33m(\u001b[0m\u001b[1;36m17.73570118\u001b[0m\u001b[1;33m,\u001b[0m \u001b[1;36m22.93409636\u001b[0m\u001b[1;33m,\u001b[0m \u001b[1;36m4.688748589\u001b[0m\u001b[1;33m,\u001b[0m \u001b[1;36m18.34727709\u001b[0m\u001b[1;33m,\u001b[0m \u001b[1;36m0.0\u001b[0m\u001b[1;33m,\u001b[0m \u001b[1;36m3.072291667\u001b[0m\u001b[1;33m)\u001b[0m\u001b[1;33m,\u001b[0m \u001b[1;33m(\u001b[0m\u001b[1;36m9.104960395\u001b[0m\u001b[1;33m,\u001b[0m \u001b[1;36m13.15160946\u001b[0m\u001b[1;33m,\u001b[0m \u001b[1;36m2.529155665\u001b[0m\u001b[1;33m,\u001b[0m \u001b[1;36m18.20992079\u001b[0m\u001b[1;33m,\u001b[0m \u001b[1;36m0.0\u001b[0m\u001b[1;33m,\u001b[0m \u001b[1;36m3.5040625\u001b[0m\u001b[1;33m)\u001b[0m\u001b[1;33m,\u001b[0m \u001b[1;33m(\u001b[0m\u001b[1;36m5.633498014\u001b[0m\u001b[1;33m,\u001b[0m \u001b[1;36m8.194178929\u001b[0m\u001b[1;33m,\u001b[0m \u001b[1;36m1.024272366\u001b[0m\u001b[1;33m,\u001b[0m \u001b[1;36m18.43690259\u001b[0m\u001b[1;33m,\u001b[0m \u001b[1;36m0.0\u001b[0m\u001b[1;33m,\u001b[0m \u001b[1;36m3.136354167\u001b[0m\u001b[1;33m)\u001b[0m\u001b[1;33m,\u001b[0m \u001b[1;33m(\u001b[0m\u001b[1;36m9.313496016\u001b[0m\u001b[1;33m,\u001b[0m \u001b[1;36m13.45282758\u001b[0m\u001b[1;33m,\u001b[0m \u001b[1;36m2.587082227\u001b[0m\u001b[1;33m,\u001b[0m \u001b[1;36m18.62699203\u001b[0m\u001b[1;33m,\u001b[0m \u001b[1;36m0.0\u001b[0m\u001b[1;33m,\u001b[0m \u001b[1;36m3.2790625\u001b[0m\u001b[1;33m)\u001b[0m\u001b[1;33m,\u001b[0m \u001b[1;33m(\u001b[0m\u001b[1;36m9.257011105\u001b[0m\u001b[1;33m,\u001b[0m \u001b[1;36m13.37123826\u001b[0m\u001b[1;33m,\u001b[0m \u001b[1;36m2.571391974\u001b[0m\u001b[1;33m,\u001b[0m \u001b[1;36m18.51402221\u001b[0m\u001b[1;33m,\u001b[0m \u001b[1;36m0.0\u001b[0m\u001b[1;33m,\u001b[0m \u001b[1;36m3.115520833\u001b[0m\u001b[1;33m)\u001b[0m\u001b[1;33m,\u001b[0m \u001b[1;33m(\u001b[0m\u001b[1;36m9.140289519\u001b[0m\u001b[1;33m,\u001b[0m \u001b[1;36m13.20264042\u001b[0m\u001b[1;33m,\u001b[0m \u001b[1;36m2.538969311\u001b[0m\u001b[1;33m,\u001b[0m \u001b[1;36m18.28057904\u001b[0m\u001b[1;33m,\u001b[0m \u001b[1;36m0.0\u001b[0m\u001b[1;33m,\u001b[0m \u001b[1;36m3.037395833\u001b[0m\u001b[1;33m)\u001b[0m\u001b[1;33m,\u001b[0m \u001b[1;33m(\u001b[0m\u001b[1;36m13.79810571\u001b[0m\u001b[1;33m,\u001b[0m \u001b[1;36m17.99752919\u001b[0m\u001b[1;33m,\u001b[0m \u001b[1;36m2.699629378\u001b[0m\u001b[1;33m,\u001b[0m \u001b[1;36m17.99752919\u001b[0m\u001b[1;33m,\u001b[0m \u001b[1;36m0.0\u001b[0m\u001b[1;33m,\u001b[0m \u001b[1;36m3.159791667\u001b[0m\u001b[1;33m)\u001b[0m\u001b[1;33m,\u001b[0m \u001b[1;33m(\u001b[0m\u001b[1;36m4.460614056\u001b[0m\u001b[1;33m,\u001b[0m \u001b[1;36m14.86871352\u001b[0m\u001b[1;33m,\u001b[0m \u001b[1;36m2.973742704\u001b[0m\u001b[1;33m,\u001b[0m \u001b[1;36m0.0\u001b[0m\u001b[1;33m,\u001b[0m \u001b[1;36m0.0\u001b[0m\u001b[1;33m,\u001b[0m \u001b[1;36m0.0\u001b[0m\u001b[1;33m)\u001b[0m\u001b[1;33m,\u001b[0m \u001b[1;33m(\u001b[0m\u001b[1;36m8.798774661\u001b[0m\u001b[1;33m,\u001b[0m \u001b[1;36m12.70934118\u001b[0m\u001b[1;33m,\u001b[0m \u001b[1;36m2.444104073\u001b[0m\u001b[1;33m,\u001b[0m \u001b[1;36m17.59754932\u001b[0m\u001b[1;33m,\u001b[0m \u001b[1;36m0.0\u001b[0m\u001b[1;33m,\u001b[0m \u001b[1;36m2.935833333\u001b[0m\u001b[1;33m)\u001b[0m\u001b[1;33m,\u001b[0m \u001b[1;33m(\u001b[0m\u001b[1;36m5.329454492\u001b[0m\u001b[1;33m,\u001b[0m \u001b[1;36m7.751933806\u001b[0m\u001b[1;33m,\u001b[0m \u001b[1;36m0.968991726\u001b[0m\u001b[1;33m,\u001b[0m \u001b[1;36m17.44185106\u001b[0m\u001b[1;33m,\u001b[0m \u001b[1;36m0.0\u001b[0m\u001b[1;33m,\u001b[0m \u001b[1;36m3.256145833\u001b[0m\u001b[1;33m)\u001b[0m\u001b[1;33m,\u001b[0m \u001b[1;33m(\u001b[0m\u001b[1;36m13.05772729\u001b[0m\u001b[1;33m,\u001b[0m \u001b[1;36m17.54023069\u001b[0m\u001b[1;33m,\u001b[0m \u001b[1;36m3.020817507\u001b[0m\u001b[1;33m,\u001b[0m \u001b[1;36m17.54023069\u001b[0m\u001b[1;33m,\u001b[0m \u001b[1;36m0.0\u001b[0m\u001b[1;33m,\u001b[0m \u001b[1;36m3.017604167\u001b[0m\u001b[1;33m)\u001b[0m\u001b[1;33m,\u001b[0m \u001b[1;33m(\u001b[0m\u001b[1;36m5.352827758\u001b[0m\u001b[1;33m,\u001b[0m \u001b[1;36m7.785931284\u001b[0m\u001b[1;33m,\u001b[0m \u001b[1;36m0.973241411\u001b[0m\u001b[1;33m,\u001b[0m \u001b[1;36m17.51834539\u001b[0m\u001b[1;33m,\u001b[0m \u001b[1;36m0.0\u001b[0m\u001b[1;33m,\u001b[0m \u001b[1;36m2.689479167\u001b[0m\u001b[1;33m)\u001b[0m\u001b[1;33m,\u001b[0m \u001b[1;33m(\u001b[0m\u001b[1;36m8.596179336\u001b[0m\u001b[1;33m,\u001b[0m \u001b[1;36m12.41670349\u001b[0m\u001b[1;33m,\u001b[0m \u001b[1;36m2.387827593\u001b[0m\u001b[1;33m,\u001b[0m \u001b[1;36m17.19235867\u001b[0m\u001b[1;33m,\u001b[0m \u001b[1;36m0.0\u001b[0m\u001b[1;33m,\u001b[0m \u001b[1;36m2.6884375\u001b[0m\u001b[1;33m)\u001b[0m\u001b[1;33m,\u001b[0m \u001b[1;33m(\u001b[0m\u001b[1;36m13.04338254\u001b[0m\u001b[1;33m,\u001b[0m \u001b[1;36m17.01310766\u001b[0m\u001b[1;33m,\u001b[0m \u001b[1;36m2.55196615\u001b[0m\u001b[1;33m,\u001b[0m \u001b[1;36m17.01310766\u001b[0m\u001b[1;33m,\u001b[0m \u001b[1;36m0.0\u001b[0m\u001b[1;33m,\u001b[0m \u001b[1;36m2.651979167\u001b[0m\u001b[1;33m)\u001b[0m\u001b[1;33m,\u001b[0m \u001b[1;33m(\u001b[0m\u001b[1;36m16.20341771\u001b[0m\u001b[1;33m,\u001b[0m \u001b[1;36m20.95269531\u001b[0m\u001b[1;33m,\u001b[0m \u001b[1;36m4.283662153\u001b[0m\u001b[1;33m,\u001b[0m \u001b[1;36m16.76215625\u001b[0m\u001b[1;33m,\u001b[0m \u001b[1;36m0.0\u001b[0m\u001b[1;33m,\u001b[0m \u001b[1;36m2.582708333\u001b[0m\u001b[1;33m)\u001b[0m\u001b[1;33m,\u001b[0m \u001b[1;33m(\u001b[0m\u001b[1;36m8.274465462\u001b[0m\u001b[1;33m,\u001b[0m \u001b[1;36m11.95200567\u001b[0m\u001b[1;33m,\u001b[0m \u001b[1;36m2.298462628\u001b[0m\u001b[1;33m,\u001b[0m \u001b[1;36m16.54893092\u001b[0m\u001b[1;33m,\u001b[0m \u001b[1;36m0.0\u001b[0m\u001b[1;33m,\u001b[0m \u001b[1;36m2.743645833\u001b[0m\u001b[1;33m)\u001b[0m\u001b[1;33m,\u001b[0m \u001b[1;33m(\u001b[0m\u001b[1;36m5.020698104\u001b[0m\u001b[1;33m,\u001b[0m \u001b[1;36m7.302833605\u001b[0m\u001b[1;33m,\u001b[0m \u001b[1;36m0.912854201\u001b[0m\u001b[1;33m,\u001b[0m \u001b[1;36m16.43137561\u001b[0m\u001b[1;33m,\u001b[0m \u001b[1;36m0.0\u001b[0m\u001b[1;33m,\u001b[0m \u001b[1;36m3.136875\u001b[0m\u001b[1;33m)\u001b[0m\u001b[1;33m,\u001b[0m \u001b[1;33m(\u001b[0m\u001b[1;36m8.211102315\u001b[0m\u001b[1;33m,\u001b[0m \u001b[1;36m11.86048112\u001b[0m\u001b[1;33m,\u001b[0m \u001b[1;36m2.280861754\u001b[0m\u001b[1;33m,\u001b[0m \u001b[1;36m16.42220463\u001b[0m\u001b[1;33m,\u001b[0m \u001b[1;36m0.0\u001b[0m\u001b[1;33m,\u001b[0m \u001b[1;36m3.063958333\u001b[0m\u001b[1;33m)\u001b[0m\u001b[1;33m,\u001b[0m \u001b[1;33m(\u001b[0m\u001b[1;36m8.234550848\u001b[0m\u001b[1;33m,\u001b[0m \u001b[1;36m11.89435123\u001b[0m\u001b[1;33m,\u001b[0m \u001b[1;36m2.287375236\u001b[0m\u001b[1;33m,\u001b[0m \u001b[1;36m16.4691017\u001b[0m\u001b[1;33m,\u001b[0m \u001b[1;36m0.0\u001b[0m\u001b[1;33m,\u001b[0m \u001b[1;36m3.0134375\u001b[0m\u001b[1;33m)\u001b[0m\u001b[1;33m,\u001b[0m \u001b[1;33m(\u001b[0m\u001b[1;36m8.250078988\u001b[0m\u001b[1;33m,\u001b[0m \u001b[1;36m11.91678076\u001b[0m\u001b[1;33m,\u001b[0m \u001b[1;36m2.291688608\u001b[0m\u001b[1;33m,\u001b[0m \u001b[1;36m16.50015798\u001b[0m\u001b[1;33m,\u001b[0m \u001b[1;36m0.0\u001b[0m\u001b[1;33m,\u001b[0m \u001b[1;36m2.648854167\u001b[0m\u001b[1;33m)\u001b[0m\u001b[1;33m,\u001b[0m \u001b[1;33m(\u001b[0m\u001b[1;36m12.46379733\u001b[0m\u001b[1;33m,\u001b[0m \u001b[1;36m16.25712696\u001b[0m\u001b[1;33m,\u001b[0m \u001b[1;36m2.438569044\u001b[0m\u001b[1;33m,\u001b[0m \u001b[1;36m16.25712696\u001b[0m\u001b[1;33m,\u001b[0m \u001b[1;36m0.0\u001b[0m\u001b[1;33m,\u001b[0m \u001b[1;36m2.637916667\u001b[0m\u001b[1;33m)\u001b[0m\u001b[1;33m,\u001b[0m \u001b[1;33m(\u001b[0m\u001b[1;36m4.026295116\u001b[0m\u001b[1;33m,\u001b[0m \u001b[1;36m13.42098372\u001b[0m\u001b[1;33m,\u001b[0m \u001b[1;36m2.684196744\u001b[0m\u001b[1;33m,\u001b[0m \u001b[1;36m0.0\u001b[0m\u001b[1;33m,\u001b[0m \u001b[1;36m0.0\u001b[0m\u001b[1;33m,\u001b[0m \u001b[1;36m0.0\u001b[0m\u001b[1;33m)\u001b[0m\u001b[1;33m,\u001b[0m \u001b[1;33m(\u001b[0m\u001b[1;36m8.048421603\u001b[0m\u001b[1;33m,\u001b[0m \u001b[1;36m11.62549787\u001b[0m\u001b[1;33m,\u001b[0m \u001b[1;36m2.235672668\u001b[0m\u001b[1;33m,\u001b[0m \u001b[1;36m16.09684321\u001b[0m\u001b[1;33m,\u001b[0m \u001b[1;36m0.0\u001b[0m\u001b[1;33m,\u001b[0m \u001b[1;36m2.878020833\u001b[0m\u001b[1;33m)\u001b[0m\u001b[1;33m,\u001b[0m \u001b[1;33m(\u001b[0m\u001b[1;36m4.941662073\u001b[0m\u001b[1;33m,\u001b[0m \u001b[1;36m7.187872106\u001b[0m\u001b[1;33m,\u001b[0m \u001b[1;36m0.898484013\u001b[0m\u001b[1;33m,\u001b[0m \u001b[1;36m16.17271224\u001b[0m\u001b[1;33m,\u001b[0m \u001b[1;36m0.0\u001b[0m\u001b[1;33m,\u001b[0m \u001b[1;36m2.8603125\u001b[0m\u001b[1;33m)\u001b[0m\u001b[1;33m,\u001b[0m \u001b[1;33m(\u001b[0m\u001b[1;36m12.10175202\u001b[0m\u001b[1;33m,\u001b[0m \u001b[1;36m16.2560848\u001b[0m\u001b[1;33m,\u001b[0m \u001b[1;36m2.799659049\u001b[0m\u001b[1;33m,\u001b[0m \u001b[1;36m16.2560848\u001b[0m\u001b[1;33m,\u001b[0m \u001b[1;36m0.0\u001b[0m\u001b[1;33m,\u001b[0m \u001b[1;36m2.788958333\u001b[0m\u001b[1;33m)\u001b[0m\u001b[1;33m,\u001b[0m \u001b[1;33m(\u001b[0m\u001b[1;36m4.992357222\u001b[0m\u001b[1;33m,\u001b[0m \u001b[1;36m7.261610505\u001b[0m\u001b[1;33m,\u001b[0m \u001b[1;36m0.907701313\u001b[0m\u001b[1;33m,\u001b[0m \u001b[1;36m16.33862364\u001b[0m\u001b[1;33m,\u001b[0m \u001b[1;36m0.0\u001b[0m\u001b[1;33m,\u001b[0m \u001b[1;36m2.759791667\u001b[0m\u001b[1;33m)\u001b[0m\u001b[1;33m,\u001b[0m \u001b[1;33m(\u001b[0m\u001b[1;36m8.172542505\u001b[0m\u001b[1;33m,\u001b[0m \u001b[1;36m11.80478362\u001b[0m\u001b[1;33m,\u001b[0m \u001b[1;36m2.270150696\u001b[0m\u001b[1;33m,\u001b[0m \u001b[1;36m16.34508501\u001b[0m\u001b[1;33m,\u001b[0m \u001b[1;36m0.0\u001b[0m\u001b[1;33m,\u001b[0m \u001b[1;36m3.1321875\u001b[0m\u001b[1;33m)\u001b[0m\u001b[1;33m,\u001b[0m \u001b[1;33m(\u001b[0m\u001b[1;36m12.52979366\u001b[0m\u001b[1;33m,\u001b[0m \u001b[1;36m16.34320913\u001b[0m\u001b[1;33m,\u001b[0m \u001b[1;36m2.451481369\u001b[0m\u001b[1;33m,\u001b[0m \u001b[1;36m16.34320913\u001b[0m\u001b[1;33m,\u001b[0m \u001b[1;36m0.0\u001b[0m\u001b[1;33m,\u001b[0m \u001b[1;36m2.8134375\u001b[0m\u001b[1;33m)\u001b[0m\u001b[1;33m,\u001b[0m \u001b[1;33m(\u001b[0m\u001b[1;36m15.70152183\u001b[0m\u001b[1;33m,\u001b[0m \u001b[1;36m20.30369203\u001b[0m\u001b[1;33m,\u001b[0m \u001b[1;36m4.150977037\u001b[0m\u001b[1;33m,\u001b[0m \u001b[1;36m16.24295362\u001b[0m\u001b[1;33m,\u001b[0m \u001b[1;36m0.0\u001b[0m\u001b[1;33m,\u001b[0m \u001b[1;36m2.667604167\u001b[0m\u001b[1;33m)\u001b[0m\u001b[1;33m,\u001b[0m \u001b[1;33m(\u001b[0m\u001b[1;36m8.052277584\u001b[0m\u001b[1;33m,\u001b[0m \u001b[1;36m11.63106762\u001b[0m\u001b[1;33m,\u001b[0m \u001b[1;36m2.236743773\u001b[0m\u001b[1;33m,\u001b[0m \u001b[1;36m16.10455517\u001b[0m\u001b[1;33m,\u001b[0m \u001b[1;36m0.0\u001b[0m\u001b[1;33m,\u001b[0m \u001b[1;36m2.515520833\u001b[0m\u001b[1;33m)\u001b[0m\u001b[1;33m,\u001b[0m \u001b[1;33m(\u001b[0m\u001b[1;36m4.904532334\u001b[0m\u001b[1;33m,\u001b[0m \u001b[1;36m7.133865213\u001b[0m\u001b[1;33m,\u001b[0m \u001b[1;36m0.891733152\u001b[0m\u001b[1;33m,\u001b[0m \u001b[1;36m16.05119673\u001b[0m\u001b[1;33m,\u001b[0m \u001b[1;36m0.0\u001b[0m\u001b[1;33m,\u001b[0m \u001b[1;36m2.543645833\u001b[0m\u001b[1;33m)\u001b[0m\u001b[1;33m,\u001b[0m \u001b[1;33m(\u001b[0m\u001b[1;36m8.006735322\u001b[0m\u001b[1;33m,\u001b[0m \u001b[1;36m11.56528435\u001b[0m\u001b[1;33m,\u001b[0m \u001b[1;36m2.224093145\u001b[0m\u001b[1;33m,\u001b[0m \u001b[1;36m16.01347064\u001b[0m\u001b[1;33m,\u001b[0m \u001b[1;36m0.0\u001b[0m\u001b[1;33m,\u001b[0m \u001b[1;36m2.880104167\u001b[0m\u001b[1;33m)\u001b[0m\u001b[1;33m,\u001b[0m \u001b[1;33m(\u001b[0m\u001b[1;36m8.049046898\u001b[0m\u001b[1;33m,\u001b[0m \u001b[1;36m11.62640107\u001b[0m\u001b[1;33m,\u001b[0m \u001b[1;36m2.23584636\u001b[0m\u001b[1;33m,\u001b[0m \u001b[1;36m16.0980938\u001b[0m\u001b[1;33m,\u001b[0m \u001b[1;36m0.0\u001b[0m\u001b[1;33m,\u001b[0m \u001b[1;36m2.823333333\u001b[0m\u001b[1;33m)\u001b[0m\u001b[1;33m,\u001b[0m \u001b[1;33m(\u001b[0m\u001b[1;36m8.038104249\u001b[0m\u001b[1;33m,\u001b[0m \u001b[1;36m11.61059503\u001b[0m\u001b[1;33m,\u001b[0m \u001b[1;36m2.232806736\u001b[0m\u001b[1;33m,\u001b[0m \u001b[1;36m16.0762085\u001b[0m\u001b[1;33m,\u001b[0m \u001b[1;36m0.0\u001b[0m\u001b[1;33m,\u001b[0m \u001b[1;36m2.961354167\u001b[0m\u001b[1;33m)\u001b[0m\u001b[1;33m,\u001b[0m \u001b[1;33m(\u001b[0m\u001b[1;36m12.35609388\u001b[0m\u001b[1;33m,\u001b[0m \u001b[1;36m16.11664419\u001b[0m\u001b[1;33m,\u001b[0m \u001b[1;36m2.417496629\u001b[0m\u001b[1;33m,\u001b[0m \u001b[1;36m16.11664419\u001b[0m\u001b[1;33m,\u001b[0m \u001b[1;36m0.0\u001b[0m\u001b[1;33m,\u001b[0m \u001b[1;36m2.698333333\u001b[0m\u001b[1;33m)\u001b[0m\u001b[1;33m,\u001b[0m \u001b[1;33m(\u001b[0m\u001b[1;36m4.020094281\u001b[0m\u001b[1;33m,\u001b[0m \u001b[1;36m13.40031427\u001b[0m\u001b[1;33m,\u001b[0m \u001b[1;36m2.680062854\u001b[0m\u001b[1;33m,\u001b[0m \u001b[1;36m0.0\u001b[0m\u001b[1;33m,\u001b[0m \u001b[1;36m0.0\u001b[0m\u001b[1;33m,\u001b[0m \u001b[1;36m0.0\u001b[0m\u001b[1;33m)\u001b[0m\u001b[1;33m,\u001b[0m \u001b[1;33m(\u001b[0m\u001b[1;36m8.028307973\u001b[0m\u001b[1;33m,\u001b[0m \u001b[1;36m11.59644485\u001b[0m\u001b[1;33m,\u001b[0m \u001b[1;36m2.230085548\u001b[0m\u001b[1;33m,\u001b[0m \u001b[1;36m16.05661595\u001b[0m\u001b[1;33m,\u001b[0m \u001b[1;36m0.0\u001b[0m\u001b[1;33m,\u001b[0m \u001b[1;36m2.473083333\u001b[0m\u001b[1;33m)\u001b[0m\u001b[1;33m,\u001b[0m \u001b[1;33m(\u001b[0m\u001b[1;36m4.821420311\u001b[0m\u001b[1;33m,\u001b[0m \u001b[1;36m7.012974998\u001b[0m\u001b[1;33m,\u001b[0m \u001b[1;36m0.876621875\u001b[0m\u001b[1;33m,\u001b[0m \u001b[1;36m15.77919375\u001b[0m\u001b[1;33m,\u001b[0m \u001b[1;36m0.0\u001b[0m\u001b[1;33m,\u001b[0m \u001b[1;36m2.637916667\u001b[0m\u001b[1;33m)\u001b[0m\u001b[1;33m,\u001b[0m \u001b[1;33m(\u001b[0m\u001b[1;36m11.69444231\u001b[0m\u001b[1;33m,\u001b[0m \u001b[1;36m15.70895236\u001b[0m\u001b[1;33m,\u001b[0m \u001b[1;36m2.705430685\u001b[0m\u001b[1;33m,\u001b[0m \u001b[1;36m15.70895236\u001b[0m\u001b[1;33m,\u001b[0m \u001b[1;36m0.0\u001b[0m\u001b[1;33m,\u001b[0m \u001b[1;36m2.79\u001b[0m\u001b[1;33m)\u001b[0m\u001b[1;33m,\u001b[0m \u001b[1;33m(\u001b[0m\u001b[1;36m4.814924199\u001b[0m\u001b[1;33m,\u001b[0m \u001b[1;36m7.003526108\u001b[0m\u001b[1;33m,\u001b[0m \u001b[1;36m0.875440763\u001b[0m\u001b[1;33m,\u001b[0m \u001b[1;36m15.75793374\u001b[0m\u001b[1;33m,\u001b[0m \u001b[1;36m0.0\u001b[0m\u001b[1;33m,\u001b[0m \u001b[1;36m2.617083333\u001b[0m\u001b[1;33m)\u001b[0m\u001b[1;33m,\u001b[0m \u001b[1;33m(\u001b[0m\u001b[1;36m7.899288933\u001b[0m\u001b[1;33m,\u001b[0m \u001b[1;36m11.41008401\u001b[0m\u001b[1;33m,\u001b[0m \u001b[1;36m2.194246926\u001b[0m\u001b[1;33m,\u001b[0m \u001b[1;36m15.79857787\u001b[0m\u001b[1;33m,\u001b[0m \u001b[1;36m0.0\u001b[0m\u001b[1;33m,\u001b[0m \u001b[1;36m2.447416667\u001b[0m\u001b[1;33m)\u001b[0m\u001b[1;33m,\u001b[0m \u001b[1;33m(\u001b[0m\u001b[1;36m12.0711751\u001b[0m\u001b[1;33m,\u001b[0m \u001b[1;36m15.745011\u001b[0m\u001b[1;33m,\u001b[0m \u001b[1;36m2.361751649\u001b[0m\u001b[1;33m,\u001b[0m \u001b[1;36m15.745011\u001b[0m\u001b[1;33m,\u001b[0m \u001b[1;36m0.0\u001b[0m\u001b[1;33m,\u001b[0m \u001b[1;36m2.709791667\u001b[0m\u001b[1;33m)\u001b[0m\u001b[1;33m,\u001b[0m \u001b[1;33m(\u001b[0m\u001b[1;36m15.15429213\u001b[0m\u001b[1;33m,\u001b[0m \u001b[1;36m19.59606741\u001b[0m\u001b[1;33m,\u001b[0m \u001b[1;36m4.006307114\u001b[0m\u001b[1;33m,\u001b[0m \u001b[1;36m15.67685393\u001b[0m\u001b[1;33m,\u001b[0m \u001b[1;36m0.0\u001b[0m\u001b[1;33m,\u001b[0m \u001b[1;36m2.527166667\u001b[0m\u001b[1;33m)\u001b[0m\u001b[1;33m,\u001b[0m \u001b[1;33m(\u001b[0m\u001b[1;36m7.773813227\u001b[0m\u001b[1;33m,\u001b[0m \u001b[1;36m11.22884133\u001b[0m\u001b[1;33m,\u001b[0m \u001b[1;36m2.159392563\u001b[0m\u001b[1;33m,\u001b[0m \u001b[1;36m15.54762645\u001b[0m\u001b[1;33m,\u001b[0m \u001b[1;36m0.0\u001b[0m\u001b[1;33m,\u001b[0m \u001b[1;36m2.558229167\u001b[0m\u001b[1;33m)\u001b[0m\u001b[1;33m,\u001b[0m \u001b[1;33m(\u001b[0m\u001b[1;36m4.701369612\u001b[0m\u001b[1;33m,\u001b[0m \u001b[1;36m6.838355799\u001b[0m\u001b[1;33m,\u001b[0m \u001b[1;36m0.854794475\u001b[0m\u001b[1;33m,\u001b[0m \u001b[1;36m15.38630055\u001b[0m\u001b[1;33m,\u001b[0m \u001b[1;36m0.0\u001b[0m\u001b[1;33m,\u001b[0m \u001b[1;36m2.8196875\u001b[0m\u001b[1;33m)\u001b[0m\u001b[1;33m,\u001b[0m \u001b[1;33m(\u001b[0m\u001b[1;36m7.717432532\u001b[0m\u001b[1;33m,\u001b[0m \u001b[1;36m11.14740255\u001b[0m\u001b[1;33m,\u001b[0m \u001b[1;36m2.143731259\u001b[0m\u001b[1;33m,\u001b[0m \u001b[1;36m15.43486506\u001b[0m\u001b[1;33m,\u001b[0m \u001b[1;36m0.0\u001b[0m\u001b[1;33m,\u001b[0m \u001b[1;36m2.6759375\u001b[0m\u001b[1;33m)\u001b[0m\u001b[1;33m,\u001b[0m \u001b[1;33m(\u001b[0m\u001b[1;36m7.712534394\u001b[0m\u001b[1;33m,\u001b[0m \u001b[1;36m11.14032746\u001b[0m\u001b[1;33m,\u001b[0m \u001b[1;36m2.142370665\u001b[0m\u001b[1;33m,\u001b[0m \u001b[1;36m15.42506879\u001b[0m\u001b[1;33m,\u001b[0m \u001b[1;36m0.0\u001b[0m\u001b[1;33m,\u001b[0m \u001b[1;36m2.538625\u001b[0m\u001b[1;33m)\u001b[0m\u001b[1;33m,\u001b[0m \u001b[1;33m(\u001b[0m\u001b[1;36m7.72743724\u001b[0m\u001b[1;33m,\u001b[0m \u001b[1;36m11.16185379\u001b[0m\u001b[1;33m,\u001b[0m \u001b[1;36m2.146510344\u001b[0m\u001b[1;33m,\u001b[0m \u001b[1;36m15.45487448\u001b[0m\u001b[1;33m,\u001b[0m \u001b[1;36m0.0\u001b[0m\u001b[1;33m,\u001b[0m \u001b[1;36m2.538625\u001b[0m\u001b[1;33m)\u001b[0m\u001b[1;33m,\u001b[0m \u001b[1;33m(\u001b[0m\u001b[1;36m11.81054552\u001b[0m\u001b[1;33m,\u001b[0m \u001b[1;36m15.40505937\u001b[0m\u001b[1;33m,\u001b[0m \u001b[1;36m2.310758906\u001b[0m\u001b[1;33m,\u001b[0m \u001b[1;36m15.40505937\u001b[0m\u001b[1;33m,\u001b[0m \u001b[1;36m0.0\u001b[0m\u001b[1;33m,\u001b[0m \u001b[1;36m2.353458333\u001b[0m\u001b[1;33m)\u001b[0m\u001b[1;33m,\u001b[0m \u001b[1;33m(\u001b[0m\u001b[1;36m3.802544003\u001b[0m\u001b[1;33m,\u001b[0m \u001b[1;36m12.67514668\u001b[0m\u001b[1;33m,\u001b[0m \u001b[1;36m2.535029335\u001b[0m\u001b[1;33m,\u001b[0m \u001b[1;36m0.0\u001b[0m\u001b[1;33m,\u001b[0m \u001b[1;36m0.0\u001b[0m\u001b[1;33m,\u001b[0m \u001b[1;36m0.0\u001b[0m\u001b[1;33m)\u001b[0m\u001b[1;33m,\u001b[0m \u001b[1;33m(\u001b[0m\u001b[1;36m7.580805746\u001b[0m\u001b[1;33m,\u001b[0m \u001b[1;36m10.95005274\u001b[0m\u001b[1;33m,\u001b[0m \u001b[1;36m2.105779374\u001b[0m\u001b[1;33m,\u001b[0m \u001b[1;36m15.16161149\u001b[0m\u001b[1;33m,\u001b[0m \u001b[1;36m0.0\u001b[0m\u001b[1;33m,\u001b[0m \u001b[1;36m2.239791667\u001b[0m\u001b[1;33m)\u001b[0m\u001b[1;33m,\u001b[0m \u001b[1;33m(\u001b[0m\u001b[1;36m4.603864242\u001b[0m\u001b[1;33m,\u001b[0m \u001b[1;36m6.696529807\u001b[0m\u001b[1;33m,\u001b[0m \u001b[1;36m0.837066226\u001b[0m\u001b[1;33m,\u001b[0m \u001b[1;36m15.06719207\u001b[0m\u001b[1;33m,\u001b[0m \u001b[1;36m0.0\u001b[0m\u001b[1;33m,\u001b[0m \u001b[1;36m2.147208333\u001b[0m\u001b[1;33m)\u001b[0m\u001b[1;33m,\u001b[0m \u001b[1;33m(\u001b[0m\u001b[1;36m11.02567857\u001b[0m\u001b[1;33m,\u001b[0m \u001b[1;36m14.81061301\u001b[0m\u001b[1;33m,\u001b[0m \u001b[1;36m2.550716684\u001b[0m\u001b[1;33m,\u001b[0m \u001b[1;36m14.81061301\u001b[0m\u001b[1;33m,\u001b[0m \u001b[1;36m0.0\u001b[0m\u001b[1;33m,\u001b[0m \u001b[1;36m2.163708333\u001b[0m\u001b[1;33m)\u001b[0m\u001b[1;33m,\u001b[0m \u001b[1;33m(\u001b[0m\u001b[1;36m4.474960998\u001b[0m\u001b[1;33m,\u001b[0m \u001b[1;36m6.509034179\u001b[0m\u001b[1;33m,\u001b[0m \u001b[1;36m0.813629272\u001b[0m\u001b[1;33m,\u001b[0m \u001b[1;36m14.6453269\u001b[0m\u001b[1;33m,\u001b[0m \u001b[1;36m0.0\u001b[0m\u001b[1;33m,\u001b[0m \u001b[1;36m2.305333333\u001b[0m\u001b[1;33m)\u001b[0m\u001b[1;33m,\u001b[0m \u001b[1;33m(\u001b[0m\u001b[1;36m7.260655108\u001b[0m\u001b[1;33m,\u001b[0m \u001b[1;36m10.48761293\u001b[0m\u001b[1;33m,\u001b[0m \u001b[1;36m2.016848641\u001b[0m\u001b[1;33m,\u001b[0m \u001b[1;36m14.52131022\u001b[0m\u001b[1;33m,\u001b[0m \u001b[1;36m0.0\u001b[0m\u001b[1;33m,\u001b[0m \u001b[1;36m2.365375\u001b[0m\u001b[1;33m)\u001b[0m\u001b[1;33m,\u001b[0m \u001b[1;33m(\u001b[0m\u001b[1;36m10.9786402\u001b[0m\u001b[1;33m,\u001b[0m \u001b[1;36m14.31996548\u001b[0m\u001b[1;33m,\u001b[0m \u001b[1;36m2.147994822\u001b[0m\u001b[1;33m,\u001b[0m \u001b[1;36m14.31996548\u001b[0m\u001b[1;33m,\u001b[0m \u001b[1;36m0.0\u001b[0m\u001b[1;33m,\u001b[0m \u001b[1;36m2.489125\u001b[0m\u001b[1;33m)\u001b[0m\u001b[1;33m,\u001b[0m \u001b[1;33m(\u001b[0m\u001b[1;36m13.75801015\u001b[0m\u001b[1;33m,\u001b[0m \u001b[1;36m17.79053036\u001b[0m\u001b[1;33m,\u001b[0m \u001b[1;36m3.637175096\u001b[0m\u001b[1;33m,\u001b[0m \u001b[1;36m14.23242429\u001b[0m\u001b[1;33m,\u001b[0m \u001b[1;36m0.0\u001b[0m\u001b[1;33m,\u001b[0m \u001b[1;36m2.441916667\u001b[0m\u001b[1;33m)\u001b[0m\u001b[1;33m,\u001b[0m \u001b[1;33m(\u001b[0m\u001b[1;36m7.094222631\u001b[0m\u001b[1;33m,\u001b[0m \u001b[1;36m10.24721047\u001b[0m\u001b[1;33m,\u001b[0m \u001b[1;36m1.970617398\u001b[0m\u001b[1;33m,\u001b[0m \u001b[1;36m14.18844526\u001b[0m\u001b[1;33m,\u001b[0m \u001b[1;36m0.0\u001b[0m\u001b[1;33m,\u001b[0m \u001b[1;36m2.290666667\u001b[0m\u001b[1;33m)\u001b[0m\u001b[1;33m,\u001b[0m \u001b[1;33m(\u001b[0m\u001b[1;36m4.300903406\u001b[0m\u001b[1;33m,\u001b[0m \u001b[1;36m6.255859499\u001b[0m\u001b[1;33m,\u001b[0m \u001b[1;36m0.781982437\u001b[0m\u001b[1;33m,\u001b[0m \u001b[1;36m14.07568387\u001b[0m\u001b[1;33m,\u001b[0m \u001b[1;36m0.0\u001b[0m\u001b[1;33m,\u001b[0m \u001b[1;36m2.441916667\u001b[0m\u001b[1;33m)\u001b[0m\u001b[1;33m,\u001b[0m \u001b[1;33m(\u001b[0m\u001b[1;36m7.057955567\u001b[0m\u001b[1;33m,\u001b[0m \u001b[1;36m10.19482471\u001b[0m\u001b[1;33m,\u001b[0m \u001b[1;36m1.960543213\u001b[0m\u001b[1;33m,\u001b[0m \u001b[1;36m14.11591113\u001b[0m\u001b[1;33m,\u001b[0m \u001b[1;36m0.0\u001b[0m\u001b[1;33m,\u001b[0m \u001b[1;36m2.440083333\u001b[0m\u001b[1;33m)\u001b[0m\u001b[1;33m,\u001b[0m \u001b[1;33m(\u001b[0m\u001b[1;36m10.7932752\u001b[0m\u001b[1;33m,\u001b[0m \u001b[1;36m14.07818505\u001b[0m\u001b[1;33m,\u001b[0m \u001b[1;36m2.111727757\u001b[0m\u001b[1;33m,\u001b[0m \u001b[1;36m14.07818505\u001b[0m\u001b[1;33m,\u001b[0m \u001b[1;36m0.0\u001b[0m\u001b[1;33m,\u001b[0m \u001b[1;36m2.105041667\u001b[0m\u001b[1;33m)\u001b[0m\u001b[1;33m,\u001b[0m \u001b[1;33m(\u001b[0m\u001b[1;36m7.008453108\u001b[0m\u001b[1;33m,\u001b[0m \u001b[1;36m10.12332116\u001b[0m\u001b[1;33m,\u001b[0m \u001b[1;36m1.94679253\u001b[0m\u001b[1;33m,\u001b[0m \u001b[1;36m14.01690622\u001b[0m\u001b[1;33m,\u001b[0m \u001b[1;36m0.0\u001b[0m\u001b[1;33m,\u001b[0m \u001b[1;36m2.054625\u001b[0m\u001b[1;33m)\u001b[0m\u001b[1;33m,\u001b[0m \u001b[1;33m(\u001b[0m\u001b[1;36m10.71401569\u001b[0m\u001b[1;33m,\u001b[0m \u001b[1;36m13.97480307\u001b[0m\u001b[1;33m,\u001b[0m \u001b[1;36m2.096220461\u001b[0m\u001b[1;33m,\u001b[0m \u001b[1;36m13.97480307\u001b[0m\u001b[1;33m,\u001b[0m \u001b[1;36m0.0\u001b[0m\u001b[1;33m,\u001b[0m \u001b[1;36m1.940041667\u001b[0m\u001b[1;33m)\u001b[0m\u001b[1;33m,\u001b[0m \u001b[1;33m(\u001b[0m\u001b[1;36m3.468272137\u001b[0m\u001b[1;33m,\u001b[0m \u001b[1;36m11.56090712\u001b[0m\u001b[1;33m,\u001b[0m \u001b[1;36m2.312181425\u001b[0m\u001b[1;33m,\u001b[0m \u001b[1;36m0.0\u001b[0m\u001b[1;33m,\u001b[0m \u001b[1;36m0.0\u001b[0m\u001b[1;33m,\u001b[0m \u001b[1;36m0.0\u001b[0m\u001b[1;33m)\u001b[0m\u001b[1;33m,\u001b[0m \u001b[1;33m(\u001b[0m\u001b[1;36m6.84545975\u001b[0m\u001b[1;33m,\u001b[0m \u001b[1;36m9.887886305\u001b[0m\u001b[1;33m,\u001b[0m \u001b[1;36m1.901516597\u001b[0m\u001b[1;33m,\u001b[0m \u001b[1;36m13.6909195\u001b[0m\u001b[1;33m,\u001b[0m \u001b[1;36m0.0\u001b[0m\u001b[1;33m,\u001b[0m \u001b[1;36m1.859833333\u001b[0m\u001b[1;33m)\u001b[0m\u001b[1;33m,\u001b[0m \u001b[1;33m(\u001b[0m\u001b[1;36m4.11308934\u001b[0m\u001b[1;33m,\u001b[0m \u001b[1;36m5.982675404\u001b[0m\u001b[1;33m,\u001b[0m \u001b[1;36m0.747834426\u001b[0m\u001b[1;33m,\u001b[0m \u001b[1;36m13.46101966\u001b[0m\u001b[1;33m,\u001b[0m \u001b[1;36m0.0\u001b[0m\u001b[1;33m,\u001b[0m \u001b[1;36m1.941875\u001b[0m\u001b[1;33m)\u001b[0m\u001b[1;33m,\u001b[0m \u001b[1;33m(\u001b[0m\u001b[1;36m9.835713574\u001b[0m\u001b[1;33m,\u001b[0m \u001b[1;36m13.21215256\u001b[0m\u001b[1;33m,\u001b[0m \u001b[1;36m2.275426275\u001b[0m\u001b[1;33m,\u001b[0m \u001b[1;36m13.21215256\u001b[0m\u001b[1;33m,\u001b[0m \u001b[1;36m0.0\u001b[0m\u001b[1;33m,\u001b[0m \u001b[1;36m2.198083333\u001b[0m\u001b[1;33m)\u001b[0m\u001b[1;33m,\u001b[0m \u001b[1;33m(\u001b[0m\u001b[1;36m4.003164933\u001b[0m\u001b[1;33m,\u001b[0m \u001b[1;36m5.822785357\u001b[0m\u001b[1;33m,\u001b[0m \u001b[1;36m0.72784817\u001b[0m\u001b[1;33m,\u001b[0m \u001b[1;36m13.10126705\u001b[0m\u001b[1;33m,\u001b[0m \u001b[1;36m0.0\u001b[0m\u001b[1;33m,\u001b[0m \u001b[1;36m2.360333333\u001b[0m\u001b[1;33m)\u001b[0m\u001b[1;33m,\u001b[0m \u001b[1;33m(\u001b[0m\u001b[1;36m6.566474314\u001b[0m\u001b[1;33m,\u001b[0m \u001b[1;36m9.484907342\u001b[0m\u001b[1;33m,\u001b[0m \u001b[1;36m1.824020643\u001b[0m\u001b[1;33m,\u001b[0m \u001b[1;36m13.13294863\u001b[0m\u001b[1;33m,\u001b[0m \u001b[1;36m0.0\u001b[0m\u001b[1;33m,\u001b[0m \u001b[1;36m2.280125\u001b[0m\u001b[1;33m)\u001b[0m\u001b[1;33m,\u001b[0m \u001b[1;33m(\u001b[0m\u001b[1;36m10.01218546\u001b[0m\u001b[1;33m,\u001b[0m \u001b[1;36m13.05937234\u001b[0m\u001b[1;33m,\u001b[0m \u001b[1;36m1.958905851\u001b[0m\u001b[1;33m,\u001b[0m \u001b[1;36m13.05937234\u001b[0m\u001b[1;33m,\u001b[0m \u001b[1;36m0.0\u001b[0m\u001b[1;33m,\u001b[0m \u001b[1;36m2.206791667\u001b[0m\u001b[1;33m)\u001b[0m\u001b[1;33m,\u001b[0m \u001b[1;33m(\u001b[0m\u001b[1;36m12.52150473\u001b[0m\u001b[1;33m,\u001b[0m \u001b[1;36m16.19160095\u001b[0m\u001b[1;33m,\u001b[0m \u001b[1;36m3.31028286\u001b[0m\u001b[1;33m,\u001b[0m \u001b[1;36m12.95328076\u001b[0m\u001b[1;33m,\u001b[0m \u001b[1;36m0.0\u001b[0m\u001b[1;33m,\u001b[0m \u001b[1;36m1.979916667\u001b[0m\u001b[1;33m)\u001b[0m\u001b[1;33m,\u001b[0m \u001b[1;33m(\u001b[0m\u001b[1;36m6.448189492\u001b[0m\u001b[1;33m,\u001b[0m \u001b[1;36m9.314051488\u001b[0m\u001b[1;33m,\u001b[0m \u001b[1;36m1.791163748\u001b[0m\u001b[1;33m,\u001b[0m \u001b[1;36m12.89637898\u001b[0m\u001b[1;33m,\u001b[0m \u001b[1;36m0.0\u001b[0m\u001b[1;33m,\u001b[0m \u001b[1;36m1.979916667\u001b[0m\u001b[1;33m)\u001b[0m\u001b[1;33m,\u001b[0m \u001b[1;33m(\u001b[0m\u001b[1;36m3.930179203\u001b[0m\u001b[1;33m,\u001b[0m \u001b[1;36m5.716624295\u001b[0m\u001b[1;33m,\u001b[0m \u001b[1;36m0.714578037\u001b[0m\u001b[1;33m,\u001b[0m \u001b[1;36m12.86240466\u001b[0m\u001b[1;33m,\u001b[0m \u001b[1;36m0.0\u001b[0m\u001b[1;33m,\u001b[0m \u001b[1;36m2.301208333\u001b[0m\u001b[1;33m)\u001b[0m\u001b[1;33m,\u001b[0m \u001b[1;33m(\u001b[0m\u001b[1;36m6.513324306\u001b[0m\u001b[1;33m,\u001b[0m \u001b[1;36m9.408135108\u001b[0m\u001b[1;33m,\u001b[0m \u001b[1;36m1.809256752\u001b[0m\u001b[1;33m,\u001b[0m \u001b[1;36m13.02664861\u001b[0m\u001b[1;33m,\u001b[0m \u001b[1;36m0.0\u001b[0m\u001b[1;33m,\u001b[0m \u001b[1;36m2.123375\u001b[0m\u001b[1;33m)\u001b[0m\u001b[1;33m,\u001b[0m \u001b[1;33m(\u001b[0m\u001b[1;36m6.563035196\u001b[0m\u001b[1;33m,\u001b[0m \u001b[1;36m9.479939727\u001b[0m\u001b[1;33m,\u001b[0m \u001b[1;36m1.823065332\u001b[0m\u001b[1;33m,\u001b[0m \u001b[1;36m13.12607039\u001b[0m\u001b[1;33m,\u001b[0m \u001b[1;36m0.0\u001b[0m\u001b[1;33m,\u001b[0m \u001b[1;36m2.1935\u001b[0m\u001b[1;33m)\u001b[0m\u001b[1;33m,\u001b[0m \u001b[1;33m(\u001b[0m\u001b[1;36m6.638904227\u001b[0m\u001b[1;33m,\u001b[0m \u001b[1;36m9.589528328\u001b[0m\u001b[1;33m,\u001b[0m \u001b[1;36m1.844140063\u001b[0m\u001b[1;33m,\u001b[0m \u001b[1;36m13.27780845\u001b[0m\u001b[1;33m,\u001b[0m \u001b[1;36m0.0\u001b[0m\u001b[1;33m,\u001b[0m \u001b[1;36m2.2045\u001b[0m\u001b[1;33m)\u001b[0m\u001b[1;33m,\u001b[0m \u001b[1;33m(\u001b[0m\u001b[1;36m10.27121706\u001b[0m\u001b[1;33m,\u001b[0m \u001b[1;36m13.39723965\u001b[0m\u001b[1;33m,\u001b[0m \u001b[1;36m2.009585947\u001b[0m\u001b[1;33m,\u001b[0m \u001b[1;36m13.39723965\u001b[0m\u001b[1;33m,\u001b[0m \u001b[1;36m0.0\u001b[0m\u001b[1;33m,\u001b[0m \u001b[1;36m2.154541667\u001b[0m\u001b[1;33m)\u001b[0m\u001b[1;33m,\u001b[0m \u001b[1;33m(\u001b[0m\u001b[1;36m3.344359666\u001b[0m\u001b[1;33m,\u001b[0m \u001b[1;36m11.14786555\u001b[0m\u001b[1;33m,\u001b[0m \u001b[1;36m2.229573111\u001b[0m\u001b[1;33m,\u001b[0m \u001b[1;36m0.0\u001b[0m\u001b[1;33m,\u001b[0m \u001b[1;36m0.0\u001b[0m\u001b[1;33m,\u001b[0m \u001b[1;36m0.0\u001b[0m\u001b[1;33m)\u001b[0m\u001b[1;33m,\u001b[0m \u001b[1;33m(\u001b[0m\u001b[1;36m6.64078011\u001b[0m\u001b[1;33m,\u001b[0m \u001b[1;36m9.592237936\u001b[0m\u001b[1;33m,\u001b[0m \u001b[1;36m1.844661142\u001b[0m\u001b[1;33m,\u001b[0m \u001b[1;36m13.28156022\u001b[0m\u001b[1;33m,\u001b[0m \u001b[1;36m0.0\u001b[0m\u001b[1;33m,\u001b[0m \u001b[1;36m2.178833333\u001b[0m\u001b[1;33m)\u001b[0m\u001b[1;33m,\u001b[0m \u001b[1;33m(\u001b[0m\u001b[1;36m4.044179602\u001b[0m\u001b[1;33m,\u001b[0m \u001b[1;36m5.882443057\u001b[0m\u001b[1;33m,\u001b[0m \u001b[1;36m0.735305382\u001b[0m\u001b[1;33m,\u001b[0m \u001b[1;36m13.23549688\u001b[0m\u001b[1;33m,\u001b[0m \u001b[1;36m0.0\u001b[0m\u001b[1;33m,\u001b[0m \u001b[1;36m2.154083333\u001b[0m\u001b[1;33m)\u001b[0m\u001b[1;33m,\u001b[0m \u001b[1;33m(\u001b[0m\u001b[1;36m9.835248077\u001b[0m\u001b[1;33m,\u001b[0m \u001b[1;36m13.21152727\u001b[0m\u001b[1;33m,\u001b[0m \u001b[1;36m2.275318585\u001b[0m\u001b[1;33m,\u001b[0m \u001b[1;36m13.21152727\u001b[0m\u001b[1;33m,\u001b[0m \u001b[1;36m0.0\u001b[0m\u001b[1;33m,\u001b[0m \u001b[1;36m2.123375\u001b[0m\u001b[1;33m)\u001b[0m\u001b[1;33m,\u001b[0m \u001b[1;33m(\u001b[0m\u001b[1;36m4.056789702\u001b[0m\u001b[1;33m,\u001b[0m \u001b[1;36m5.900785021\u001b[0m\u001b[1;33m,\u001b[0m \u001b[1;36m0.737598128\u001b[0m\u001b[1;33m,\u001b[0m \u001b[1;36m13.2767663\u001b[0m\u001b[1;33m,\u001b[0m \u001b[1;36m0.0\u001b[0m\u001b[1;33m,\u001b[0m \u001b[1;36m2.318625\u001b[0m\u001b[1;33m)\u001b[0m\u001b[1;33m,\u001b[0m \u001b[1;33m(\u001b[0m\u001b[1;36m6.715398553\u001b[0m\u001b[1;33m,\u001b[0m \u001b[1;36m9.700020132\u001b[0m\u001b[1;33m,\u001b[0m \u001b[1;36m1.865388487\u001b[0m\u001b[1;33m,\u001b[0m \u001b[1;36m13.43079711\u001b[0m\u001b[1;33m,\u001b[0m \u001b[1;36m0.0\u001b[0m\u001b[1;33m,\u001b[0m \u001b[1;36m2.201291667\u001b[0m\u001b[1;33m)\u001b[0m\u001b[1;33m,\u001b[0m \u001b[1;33m(\u001b[0m\u001b[1;36m10.26210861\u001b[0m\u001b[1;33m,\u001b[0m \u001b[1;36m13.38535906\u001b[0m\u001b[1;33m,\u001b[0m \u001b[1;36m2.007803859\u001b[0m\u001b[1;33m,\u001b[0m \u001b[1;36m13.38535906\u001b[0m\u001b[1;33m,\u001b[0m \u001b[1;36m0.0\u001b[0m\u001b[1;33m,\u001b[0m \u001b[1;36m2.249416667\u001b[0m\u001b[1;33m)\u001b[0m\u001b[1;33m,\u001b[0m \u001b[1;33m(\u001b[0m\u001b[1;36m12.99458844\u001b[0m\u001b[1;33m,\u001b[0m \u001b[1;36m16.80334712\u001b[0m\u001b[1;33m,\u001b[0m \u001b[1;36m3.435350967\u001b[0m\u001b[1;33m,\u001b[0m \u001b[1;36m13.4426777\u001b[0m\u001b[1;33m,\u001b[0m \u001b[1;36m0.0\u001b[0m\u001b[1;33m,\u001b[0m \u001b[1;36m2.379583333\u001b[0m\u001b[1;33m)\u001b[0m\u001b[1;33m,\u001b[0m \u001b[1;33m(\u001b[0m\u001b[1;36m6.763650423\u001b[0m\u001b[1;33m,\u001b[0m \u001b[1;36m9.769717278\u001b[0m\u001b[1;33m,\u001b[0m \u001b[1;36m1.878791784\u001b[0m\u001b[1;33m,\u001b[0m \u001b[1;36m13.52730085\u001b[0m\u001b[1;33m,\u001b[0m \u001b[1;36m0.0\u001b[0m\u001b[1;33m,\u001b[0m \u001b[1;36m2.211833333\u001b[0m\u001b[1;33m)\u001b[0m\u001b[1;33m,\u001b[0m \u001b[1;33m(\u001b[0m\u001b[1;36m4.134360923\u001b[0m\u001b[1;33m,\u001b[0m \u001b[1;36m6.013615888\u001b[0m\u001b[1;33m,\u001b[0m \u001b[1;36m0.751701986\u001b[0m\u001b[1;33m,\u001b[0m \u001b[1;36m13.53063575\u001b[0m\u001b[1;33m,\u001b[0m \u001b[1;36m0.0\u001b[0m\u001b[1;33m,\u001b[0m \u001b[1;36m2.145375\u001b[0m\u001b[1;33m)\u001b[0m\u001b[1;33m,\u001b[0m \u001b[1;33m(\u001b[0m\u001b[1;36m6.76323356\u001b[0m\u001b[1;33m,\u001b[0m \u001b[1;36m9.769115143\u001b[0m\u001b[1;33m,\u001b[0m \u001b[1;36m1.878675989\u001b[0m\u001b[1;33m,\u001b[0m \u001b[1;36m13.52646712\u001b[0m\u001b[1;33m,\u001b[0m \u001b[1;36m0.0\u001b[0m\u001b[1;33m,\u001b[0m \u001b[1;36m2.3255\u001b[0m\u001b[1;33m)\u001b[0m\u001b[1;33m,\u001b[0m \u001b[1;33m(\u001b[0m\u001b[1;36m6.80325239\u001b[0m\u001b[1;33m,\u001b[0m \u001b[1;36m9.826920119\u001b[0m\u001b[1;33m,\u001b[0m \u001b[1;36m1.889792331\u001b[0m\u001b[1;33m,\u001b[0m \u001b[1;36m13.60650478\u001b[0m\u001b[1;33m,\u001b[0m \u001b[1;36m0.0\u001b[0m\u001b[1;33m,\u001b[0m \u001b[1;36m2.2155\u001b[0m\u001b[1;33m)\u001b[0m\u001b[1;33m,\u001b[0m \u001b[1;33m(\u001b[0m\u001b[1;36m6.811589646\u001b[0m\u001b[1;33m,\u001b[0m \u001b[1;36m9.838962822\u001b[0m\u001b[1;33m,\u001b[0m \u001b[1;36m1.892108235\u001b[0m\u001b[1;33m,\u001b[0m \u001b[1;36m13.62317929\u001b[0m\u001b[1;33m,\u001b[0m \u001b[1;36m0.0\u001b[0m\u001b[1;33m,\u001b[0m \u001b[1;36m2.217333333\u001b[0m\u001b[1;33m)\u001b[0m\u001b[1;33m,\u001b[0m \u001b[1;33m(\u001b[0m\u001b[1;36m10.4664895\u001b[0m\u001b[1;33m,\u001b[0m \u001b[1;36m13.65194283\u001b[0m\u001b[1;33m,\u001b[0m \u001b[1;36m2.047791424\u001b[0m\u001b[1;33m,\u001b[0m \u001b[1;36m13.65194283\u001b[0m\u001b[1;33m,\u001b[0m \u001b[1;36m0.0\u001b[0m\u001b[1;33m,\u001b[0m \u001b[1;36m2.236125\u001b[0m\u001b[1;33m)\u001b[0m\u001b[1;33m,\u001b[0m \u001b[1;33m(\u001b[0m\u001b[1;36m3.425804238\u001b[0m\u001b[1;33m,\u001b[0m \u001b[1;36m11.41934746\u001b[0m\u001b[1;33m,\u001b[0m \u001b[1;36m2.283869492\u001b[0m\u001b[1;33m,\u001b[0m \u001b[1;36m0.0\u001b[0m\u001b[1;33m,\u001b[0m \u001b[1;36m0.0\u001b[0m\u001b[1;33m,\u001b[0m \u001b[1;36m0.0\u001b[0m\u001b[1;33m)\u001b[0m\u001b[1;33m,\u001b[0m \u001b[1;33m(\u001b[0m\u001b[1;36m6.823157589\u001b[0m\u001b[1;33m,\u001b[0m \u001b[1;36m9.855672073\u001b[0m\u001b[1;33m,\u001b[0m \u001b[1;36m1.895321553\u001b[0m\u001b[1;33m,\u001b[0m \u001b[1;36m13.64631518\u001b[0m\u001b[1;33m,\u001b[0m \u001b[1;36m0.0\u001b[0m\u001b[1;33m,\u001b[0m \u001b[1;36m2.227875\u001b[0m\u001b[1;33m)\u001b[0m\u001b[1;33m,\u001b[0m \u001b[1;33m(\u001b[0m\u001b[1;36m4.173401283\u001b[0m\u001b[1;33m,\u001b[0m \u001b[1;36m6.070401867\u001b[0m\u001b[1;33m,\u001b[0m \u001b[1;36m0.758800233\u001b[0m\u001b[1;33m,\u001b[0m \u001b[1;36m13.6584042\u001b[0m\u001b[1;33m,\u001b[0m \u001b[1;36m0.0\u001b[0m\u001b[1;33m,\u001b[0m \u001b[1;36m2.167375\u001b[0m\u001b[1;33m)\u001b[0m\u001b[1;33m,\u001b[0m \u001b[1;33m(\u001b[0m\u001b[1;36m10.14014848\u001b[0m\u001b[1;33m,\u001b[0m \u001b[1;36m13.62109498\u001b[0m\u001b[1;33m,\u001b[0m \u001b[1;36m2.345855246\u001b[0m\u001b[1;33m,\u001b[0m \u001b[1;36m13.62109498\u001b[0m\u001b[1;33m,\u001b[0m \u001b[1;36m0.0\u001b[0m\u001b[1;33m,\u001b[0m \u001b[1;36m2.061041667\u001b[0m\u001b[1;33m)\u001b[0m\u001b[1;33m,\u001b[0m \u001b[1;33m(\u001b[0m\u001b[1;36m4.117738519\u001b[0m\u001b[1;33m,\u001b[0m \u001b[1;36m5.989437845\u001b[0m\u001b[1;33m,\u001b[0m \u001b[1;36m0.748679731\u001b[0m\u001b[1;33m,\u001b[0m \u001b[1;36m13.47623515\u001b[0m\u001b[1;33m,\u001b[0m \u001b[1;36m0.0\u001b[0m\u001b[1;33m,\u001b[0m \u001b[1;36m2.279208333\u001b[0m\u001b[1;33m)\u001b[0m\u001b[1;33m,\u001b[0m \u001b[1;33m(\u001b[0m\u001b[1;36m6.753437284\u001b[0m\u001b[1;33m,\u001b[0m \u001b[1;36m9.754964966\u001b[0m\u001b[1;33m,\u001b[0m \u001b[1;36m1.875954801\u001b[0m\u001b[1;33m,\u001b[0m \u001b[1;36m13.50687457\u001b[0m\u001b[1;33m,\u001b[0m \u001b[1;36m0.0\u001b[0m\u001b[1;33m,\u001b[0m \u001b[1;36m2.401125\u001b[0m\u001b[1;33m)\u001b[0m\u001b[1;33m,\u001b[0m \u001b[1;33m(\u001b[0m\u001b[1;36m10.44443746\u001b[0m\u001b[1;33m,\u001b[0m \u001b[1;36m13.62317929\u001b[0m\u001b[1;33m,\u001b[0m \u001b[1;36m2.043476894\u001b[0m\u001b[1;33m,\u001b[0m \u001b[1;36m13.62317929\u001b[0m\u001b[1;33m,\u001b[0m \u001b[1;36m0.0\u001b[0m\u001b[1;33m,\u001b[0m \u001b[1;36m2.380041667\u001b[0m\u001b[1;33m)\u001b[0m\u001b[1;33m,\u001b[0m \u001b[1;33m(\u001b[0m\u001b[1;36m13.19304988\u001b[0m\u001b[1;33m,\u001b[0m \u001b[1;36m17.05997829\u001b[0m\u001b[1;33m,\u001b[0m \u001b[1;36m3.487817783\u001b[0m\u001b[1;33m,\u001b[0m \u001b[1;36m13.64798263\u001b[0m\u001b[1;33m,\u001b[0m \u001b[1;36m0.0\u001b[0m\u001b[1;33m,\u001b[0m \u001b[1;36m2.388291667\u001b[0m\u001b[1;33m)\u001b[0m\u001b[1;33m,\u001b[0m \u001b[1;33m(\u001b[0m\u001b[1;36m6.863280635\u001b[0m\u001b[1;33m,\u001b[0m \u001b[1;36m9.913627583\u001b[0m\u001b[1;33m,\u001b[0m \u001b[1;36m1.906466843\u001b[0m\u001b[1;33m,\u001b[0m \u001b[1;36m13.72656127\u001b[0m\u001b[1;33m,\u001b[0m \u001b[1;36m0.0\u001b[0m\u001b[1;33m,\u001b[0m \u001b[1;36m2.333291667\u001b[0m\u001b[1;33m)\u001b[0m\u001b[1;33m,\u001b[0m \u001b[1;33m(\u001b[0m\u001b[1;36m4.21033996\u001b[0m\u001b[1;33m,\u001b[0m \u001b[1;36m6.124130851\u001b[0m\u001b[1;33m,\u001b[0m \u001b[1;36m0.765516356\u001b[0m\u001b[1;33m,\u001b[0m \u001b[1;36m13.77929441\u001b[0m\u001b[1;33m,\u001b[0m \u001b[1;36m0.0\u001b[0m\u001b[1;33m,\u001b[0m \u001b[1;36m2.3915\u001b[0m\u001b[1;33m)\u001b[0m\u001b[1;33m,\u001b[0m \u001b[1;33m(\u001b[0m\u001b[1;36m6.924976331\u001b[0m\u001b[1;33m,\u001b[0m \u001b[1;36m10.00274359\u001b[0m\u001b[1;33m,\u001b[0m \u001b[1;36m1.923604536\u001b[0m\u001b[1;33m,\u001b[0m \u001b[1;36m13.84995266\u001b[0m\u001b[1;33m,\u001b[0m \u001b[1;36m0.0\u001b[0m\u001b[1;33m,\u001b[0m \u001b[1;36m2.500583333\u001b[0m\u001b[1;33m)\u001b[0m\u001b[1;33m,\u001b[0m \u001b[1;33m(\u001b[0m\u001b[1;36m6.994800851\u001b[0m\u001b[1;33m,\u001b[0m \u001b[1;36m10.10360123\u001b[0m\u001b[1;33m,\u001b[0m \u001b[1;36m1.943000236\u001b[0m\u001b[1;33m,\u001b[0m \u001b[1;36m13.9896017\u001b[0m\u001b[1;33m,\u001b[0m \u001b[1;36m0.0\u001b[0m\u001b[1;33m,\u001b[0m \u001b[1;36m2.453833333\u001b[0m\u001b[1;33m)\u001b[0m\u001b[1;33m,\u001b[0m \u001b[1;33m(\u001b[0m\u001b[1;36m7.046179193\u001b[0m\u001b[1;33m,\u001b[0m \u001b[1;36m10.17781439\u001b[0m\u001b[1;33m,\u001b[0m \u001b[1;36m1.957271998\u001b[0m\u001b[1;33m,\u001b[0m \u001b[1;36m14.09235839\u001b[0m\u001b[1;33m,\u001b[0m \u001b[1;36m0.0\u001b[0m\u001b[1;33m,\u001b[0m \u001b[1;36m2.143083333\u001b[0m\u001b[1;33m)\u001b[0m\u001b[1;33m,\u001b[0m \u001b[1;33m(\u001b[0m\u001b[1;36m10.79567217\u001b[0m\u001b[1;33m,\u001b[0m \u001b[1;36m14.08131152\u001b[0m\u001b[1;33m,\u001b[0m \u001b[1;36m2.112196728\u001b[0m\u001b[1;33m,\u001b[0m \u001b[1;36m14.08131152\u001b[0m\u001b[1;33m,\u001b[0m \u001b[1;36m0.0\u001b[0m\u001b[1;33m,\u001b[0m \u001b[1;36m2.011083333\u001b[0m\u001b[1;33m)\u001b[0m\u001b[1;33m,\u001b[0m \u001b[1;33m(\u001b[0m\u001b[1;36m3.514648124\u001b[0m\u001b[1;33m,\u001b[0m \u001b[1;36m11.71549375\u001b[0m\u001b[1;33m,\u001b[0m \u001b[1;36m2.34309875\u001b[0m\u001b[1;33m,\u001b[0m \u001b[1;36m0.0\u001b[0m\u001b[1;33m,\u001b[0m \u001b[1;36m0.0\u001b[0m\u001b[1;33m,\u001b[0m \u001b[1;36m0.0\u001b[0m\u001b[1;33m)\u001b[0m\u001b[1;33m,\u001b[0m \u001b[1;33m(\u001b[0m\u001b[1;36m6.955198884\u001b[0m\u001b[1;33m,\u001b[0m \u001b[1;36m10.04639839\u001b[0m\u001b[1;33m,\u001b[0m \u001b[1;36m1.93199969\u001b[0m\u001b[1;33m,\u001b[0m \u001b[1;36m13.91039777\u001b[0m\u001b[1;33m,\u001b[0m \u001b[1;36m0.0\u001b[0m\u001b[1;33m,\u001b[0m \u001b[1;36m2.263166667\u001b[0m\u001b[1;33m)\u001b[0m\u001b[1;33m,\u001b[0m \u001b[1;33m(\u001b[0m\u001b[1;36m4.231229419\u001b[0m\u001b[1;33m,\u001b[0m \u001b[1;36m6.154515518\u001b[0m\u001b[1;33m,\u001b[0m \u001b[1;36m0.76931444\u001b[0m\u001b[1;33m,\u001b[0m \u001b[1;36m13.84765992\u001b[0m\u001b[1;33m,\u001b[0m \u001b[1;36m0.0\u001b[0m\u001b[1;33m,\u001b[0m \u001b[1;36m2.659270833\u001b[0m\u001b[1;33m)\u001b[0m\u001b[1;33m,\u001b[0m \u001b[1;33m(\u001b[0m\u001b[1;36m10.40594716\u001b[0m\u001b[1;33m,\u001b[0m \u001b[1;36m13.97813798\u001b[0m\u001b[1;33m,\u001b[0m \u001b[1;36m2.407345985\u001b[0m\u001b[1;33m,\u001b[0m \u001b[1;36m13.97813798\u001b[0m\u001b[1;33m,\u001b[0m \u001b[1;36m0.0\u001b[0m\u001b[1;33m,\u001b[0m \u001b[1;36m2.611354167\u001b[0m\u001b[1;33m)\u001b[0m\u001b[1;33m,\u001b[0m \u001b[1;33m(\u001b[0m\u001b[1;36m4.303960399\u001b[0m\u001b[1;33m,\u001b[0m \u001b[1;36m6.260306036\u001b[0m\u001b[1;33m,\u001b[0m \u001b[1;36m0.782538254\u001b[0m\u001b[1;33m,\u001b[0m \u001b[1;36m14.08568858\u001b[0m\u001b[1;33m,\u001b[0m \u001b[1;36m0.0\u001b[0m\u001b[1;33m,\u001b[0m \u001b[1;36m2.724895833\u001b[0m\u001b[1;33m)\u001b[0m\u001b[1;33m,\u001b[0m \u001b[1;33m(\u001b[0m\u001b[1;36m7.1318445\u001b[0m\u001b[1;33m,\u001b[0m \u001b[1;36m10.30155317\u001b[0m\u001b[1;33m,\u001b[0m \u001b[1;36m1.981067917\u001b[0m\u001b[1;33m,\u001b[0m \u001b[1;36m14.263689\u001b[0m\u001b[1;33m,\u001b[0m \u001b[1;36m0.0\u001b[0m\u001b[1;33m,\u001b[0m \u001b[1;36m2.7384375\u001b[0m\u001b[1;33m)\u001b[0m\u001b[1;33m,\u001b[0m \u001b[1;33m(\u001b[0m\u001b[1;36m11.05582235\u001b[0m\u001b[1;33m,\u001b[0m \u001b[1;36m14.42063785\u001b[0m\u001b[1;33m,\u001b[0m \u001b[1;36m2.163095677\u001b[0m\u001b[1;33m,\u001b[0m \u001b[1;36m14.42063785\u001b[0m\u001b[1;33m,\u001b[0m \u001b[1;36m0.0\u001b[0m\u001b[1;33m,\u001b[0m \u001b[1;36m2.712916667\u001b[0m\u001b[1;33m)\u001b[0m\u001b[1;33m,\u001b[0m \u001b[1;33m(\u001b[0m\u001b[1;36m14.03384132\u001b[0m\u001b[1;33m,\u001b[0m \u001b[1;36m18.1472086\u001b[0m\u001b[1;33m,\u001b[0m \u001b[1;36m3.710095981\u001b[0m\u001b[1;33m,\u001b[0m \u001b[1;36m14.51776688\u001b[0m\u001b[1;33m,\u001b[0m \u001b[1;36m0.0\u001b[0m\u001b[1;33m,\u001b[0m \u001b[1;36m2.479958333\u001b[0m\u001b[1;33m)\u001b[0m\u001b[1;33m,\u001b[0m \u001b[1;33m(\u001b[0m\u001b[1;36m7.264823736\u001b[0m\u001b[1;33m,\u001b[0m \u001b[1;36m10.49363429\u001b[0m\u001b[1;33m,\u001b[0m \u001b[1;36m2.018006593\u001b[0m\u001b[1;33m,\u001b[0m \u001b[1;36m14.52964747\u001b[0m\u001b[1;33m,\u001b[0m \u001b[1;36m0.0\u001b[0m\u001b[1;33m,\u001b[0m \u001b[1;36m2.663958333\u001b[0m\u001b[1;33m)\u001b[0m\u001b[1;33m,\u001b[0m \u001b[1;33m(\u001b[0m\u001b[1;36m4.51298236\u001b[0m\u001b[1;33m,\u001b[0m \u001b[1;36m6.564337978\u001b[0m\u001b[1;33m,\u001b[0m \u001b[1;36m0.820542247\u001b[0m\u001b[1;33m,\u001b[0m \u001b[1;36m14.76976045\u001b[0m\u001b[1;33m,\u001b[0m \u001b[1;36m0.0\u001b[0m\u001b[1;33m,\u001b[0m \u001b[1;36m2.806145833\u001b[0m\u001b[1;33m)\u001b[0m\u001b[1;33m,\u001b[0m \u001b[1;33m(\u001b[0m\u001b[1;36m7.563401724\u001b[0m\u001b[1;33m,\u001b[0m \u001b[1;36m10.9249136\u001b[0m\u001b[1;33m,\u001b[0m \u001b[1;36m2.100944923\u001b[0m\u001b[1;33m,\u001b[0m \u001b[1;36m15.12680345\u001b[0m\u001b[1;33m,\u001b[0m \u001b[1;36m0.0\u001b[0m\u001b[1;33m,\u001b[0m \u001b[1;36m2.943125\u001b[0m\u001b[1;33m)\u001b[0m\u001b[1;33m,\u001b[0m \u001b[1;33m(\u001b[0m\u001b[1;36m7.782463131\u001b[0m\u001b[1;33m,\u001b[0m \u001b[1;36m11.24133563\u001b[0m\u001b[1;33m,\u001b[0m \u001b[1;36m2.161795314\u001b[0m\u001b[1;33m,\u001b[0m \u001b[1;36m15.56492626\u001b[0m\u001b[1;33m,\u001b[0m \u001b[1;36m0.0\u001b[0m\u001b[1;33m,\u001b[0m \u001b[1;36m2.845208333\u001b[0m\u001b[1;33m)\u001b[0m\u001b[1;33m,\u001b[0m \u001b[1;33m(\u001b[0m\u001b[1;36m3.955741085\u001b[0m\u001b[1;33m,\u001b[0m \u001b[1;36m13.18580362\u001b[0m\u001b[1;33m,\u001b[0m \u001b[1;36m2.637160723\u001b[0m\u001b[1;33m,\u001b[0m \u001b[1;36m0.0\u001b[0m\u001b[1;33m,\u001b[0m \u001b[1;36m0.0\u001b[0m\u001b[1;33m,\u001b[0m \u001b[1;36m0.0\u001b[0m\u001b[1;33m)\u001b[0m\u001b[1;33m,\u001b[0m \u001b[1;33m(\u001b[0m\u001b[1;36m12.18399207\u001b[0m\u001b[1;33m,\u001b[0m \u001b[1;36m15.89216357\u001b[0m\u001b[1;33m,\u001b[0m \u001b[1;36m2.383824535\u001b[0m\u001b[1;33m,\u001b[0m \u001b[1;36m15.89216357\u001b[0m\u001b[1;33m,\u001b[0m \u001b[1;36m0.0\u001b[0m\u001b[1;33m,\u001b[0m \u001b[1;36m2.674375\u001b[0m\u001b[1;33m)\u001b[0m\u001b[1;33m,\u001b[0m \u001b[1;33m(\u001b[0m\u001b[1;36m3.979345942\u001b[0m\u001b[1;33m,\u001b[0m \u001b[1;36m13.26448647\u001b[0m\u001b[1;33m,\u001b[0m \u001b[1;36m2.652897295\u001b[0m\u001b[1;33m,\u001b[0m \u001b[1;36m0.0\u001b[0m\u001b[1;33m,\u001b[0m \u001b[1;36m0.0\u001b[0m\u001b[1;33m,\u001b[0m \u001b[1;36m0.0\u001b[0m\u001b[1;33m)\u001b[0m\u001b[1;33m,\u001b[0m \u001b[1;33m(\u001b[0m\u001b[1;36m7.976616984\u001b[0m\u001b[1;33m,\u001b[0m \u001b[1;36m11.52178009\u001b[0m\u001b[1;33m,\u001b[0m \u001b[1;36m2.21572694\u001b[0m\u001b[1;33m,\u001b[0m \u001b[1;36m15.95323397\u001b[0m\u001b[1;33m,\u001b[0m \u001b[1;36m0.0\u001b[0m\u001b[1;33m,\u001b[0m \u001b[1;36m3.10875\u001b[0m\u001b[1;33m)\u001b[0m\u001b[1;33m,\u001b[0m \u001b[1;33m(\u001b[0m\u001b[1;36m4.919880991\u001b[0m\u001b[1;33m,\u001b[0m \u001b[1;36m7.156190532\u001b[0m\u001b[1;33m,\u001b[0m \u001b[1;36m0.894523817\u001b[0m\u001b[1;33m,\u001b[0m \u001b[1;36m16.1014287\u001b[0m\u001b[1;33m,\u001b[0m \u001b[1;36m0.0\u001b[0m\u001b[1;33m,\u001b[0m \u001b[1;36m2.825416667\u001b[0m\u001b[1;33m)\u001b[0m\u001b[1;33m,\u001b[0m \u001b[1;33m(\u001b[0m\u001b[1;36m12.02013491\u001b[0m\u001b[1;33m,\u001b[0m \u001b[1;36m16.14644988\u001b[0m\u001b[1;33m,\u001b[0m \u001b[1;36m2.78077748\u001b[0m\u001b[1;33m,\u001b[0m \u001b[1;36m16.14644988\u001b[0m\u001b[1;33m,\u001b[0m \u001b[1;36m0.0\u001b[0m\u001b[1;33m,\u001b[0m \u001b[1;36m2.734270833\u001b[0m\u001b[1;33m)\u001b[0m\u001b[1;33m,\u001b[0m \u001b[1;33m(\u001b[0m\u001b[1;36m4.968792894\u001b[0m\u001b[1;33m,\u001b[0m \u001b[1;36m7.227335119\u001b[0m\u001b[1;33m,\u001b[0m \u001b[1;36m0.90341689\u001b[0m\u001b[1;33m,\u001b[0m \u001b[1;36m16.26150402\u001b[0m\u001b[1;33m,\u001b[0m \u001b[1;36m0.0\u001b[0m\u001b[1;33m,\u001b[0m \u001b[1;36m2.716041667\u001b[0m\u001b[1;33m)\u001b[0m\u001b[1;33m,\u001b[0m \u001b[1;33m(\u001b[0m\u001b[1;36m8.141173579\u001b[0m\u001b[1;33m,\u001b[0m \u001b[1;36m11.75947295\u001b[0m\u001b[1;33m,\u001b[0m \u001b[1;36m2.261437105\u001b[0m\u001b[1;33m,\u001b[0m \u001b[1;36m16.28234716\u001b[0m\u001b[1;33m,\u001b[0m \u001b[1;36m0.0\u001b[0m\u001b[1;33m,\u001b[0m \u001b[1;36m2.804583333\u001b[0m\u001b[1;33m)\u001b[0m\u001b[1;33m,\u001b[0m \u001b[1;33m(\u001b[0m\u001b[1;36m12.48265343\u001b[0m\u001b[1;33m,\u001b[0m \u001b[1;36m16.28172186\u001b[0m\u001b[1;33m,\u001b[0m \u001b[1;36m2.442258279\u001b[0m\u001b[1;33m,\u001b[0m \u001b[1;36m16.28172186\u001b[0m\u001b[1;33m,\u001b[0m \u001b[1;36m0.0\u001b[0m\u001b[1;33m,\u001b[0m \u001b[1;36m2.837395833\u001b[0m\u001b[1;33m)\u001b[0m\u001b[1;33m,\u001b[0m \u001b[1;33m(\u001b[0m\u001b[1;36m15.69809661\u001b[0m\u001b[1;33m,\u001b[0m \u001b[1;36m20.29926286\u001b[0m\u001b[1;33m,\u001b[0m \u001b[1;36m4.150071518\u001b[0m\u001b[1;33m,\u001b[0m \u001b[1;36m16.23941029\u001b[0m\u001b[1;33m,\u001b[0m \u001b[1;36m0.0\u001b[0m\u001b[1;33m,\u001b[0m \u001b[1;36m2.833229167\u001b[0m\u001b[1;33m)\u001b[0m\u001b[1;33m,\u001b[0m \u001b[1;33m(\u001b[0m\u001b[1;36m8.117308183\u001b[0m\u001b[1;33m,\u001b[0m \u001b[1;36m11.72500071\u001b[0m\u001b[1;33m,\u001b[0m \u001b[1;36m2.254807829\u001b[0m\u001b[1;33m,\u001b[0m \u001b[1;36m16.23461637\u001b[0m\u001b[1;33m,\u001b[0m \u001b[1;36m0.0\u001b[0m\u001b[1;33m,\u001b[0m \u001b[1;36m2.742083333\u001b[0m\u001b[1;33m)\u001b[0m\u001b[1;33m,\u001b[0m \u001b[1;33m(\u001b[0m\u001b[1;36m4.949559307\u001b[0m\u001b[1;33m,\u001b[0m \u001b[1;36m7.199358992\u001b[0m\u001b[1;33m,\u001b[0m \u001b[1;36m0.899919874\u001b[0m\u001b[1;33m,\u001b[0m \u001b[1;36m16.19855773\u001b[0m\u001b[1;33m,\u001b[0m \u001b[1;36m0.0\u001b[0m\u001b[1;33m,\u001b[0m \u001b[1;36m3.045208333\u001b[0m\u001b[1;33m)\u001b[0m\u001b[1;33m,\u001b[0m \u001b[1;33m(\u001b[0m\u001b[1;36m8.173480446\u001b[0m\u001b[1;33m,\u001b[0m \u001b[1;36m11.80613842\u001b[0m\u001b[1;33m,\u001b[0m \u001b[1;36m2.270411235\u001b[0m\u001b[1;33m,\u001b[0m \u001b[1;36m16.34696089\u001b[0m\u001b[1;33m,\u001b[0m \u001b[1;36m0.0\u001b[0m\u001b[1;33m,\u001b[0m \u001b[1;36m3.2571875\u001b[0m\u001b[1;33m)\u001b[0m\u001b[1;33m,\u001b[0m \u001b[1;33m(\u001b[0m\u001b[1;36m8.262063794\u001b[0m\u001b[1;33m,\u001b[0m \u001b[1;36m11.93409215\u001b[0m\u001b[1;33m,\u001b[0m \u001b[1;36m2.29501772\u001b[0m\u001b[1;33m,\u001b[0m \u001b[1;36m16.52412759\u001b[0m\u001b[1;33m,\u001b[0m \u001b[1;36m0.0\u001b[0m\u001b[1;33m,\u001b[0m \u001b[1;36m3.02125\u001b[0m\u001b[1;33m)\u001b[0m\u001b[1;33m,\u001b[0m \u001b[1;33m(\u001b[0m\u001b[1;36m8.244555556\u001b[0m\u001b[1;33m,\u001b[0m \u001b[1;36m11.90880247\u001b[0m\u001b[1;33m,\u001b[0m \u001b[1;36m2.290154321\u001b[0m\u001b[1;33m,\u001b[0m \u001b[1;36m16.48911111\u001b[0m\u001b[1;33m,\u001b[0m \u001b[1;36m0.0\u001b[0m\u001b[1;33m,\u001b[0m \u001b[1;36m2.657708333\u001b[0m\u001b[1;33m)\u001b[0m\u001b[1;33m,\u001b[0m \u001b[1;33m(\u001b[0m\u001b[1;36m12.59019709\u001b[0m\u001b[1;33m,\u001b[0m \u001b[1;36m16.4219962\u001b[0m\u001b[1;33m,\u001b[0m \u001b[1;36m2.46329943\u001b[0m\u001b[1;33m,\u001b[0m \u001b[1;36m16.4219962\u001b[0m\u001b[1;33m,\u001b[0m \u001b[1;36m0.0\u001b[0m\u001b[1;33m,\u001b[0m \u001b[1;36m2.7790625\u001b[0m\u001b[1;33m)\u001b[0m\u001b[1;33m,\u001b[0m \u001b[1;33m(\u001b[0m\u001b[1;36m4.109980325\u001b[0m\u001b[1;33m,\u001b[0m \u001b[1;36m13.69993442\u001b[0m\u001b[1;33m,\u001b[0m \u001b[1;36m2.739986883\u001b[0m\u001b[1;33m,\u001b[0m \u001b[1;36m0.0\u001b[0m\u001b[1;33m,\u001b[0m \u001b[1;36m0.0\u001b[0m\u001b[1;33m,\u001b[0m \u001b[1;36m0.0\u001b[0m\u001b[1;33m)\u001b[0m\u001b[1;33m,\u001b[0m \u001b[1;33m(\u001b[0m\u001b[1;36m8.281760561\u001b[0m\u001b[1;33m,\u001b[0m \u001b[1;36m11.96254303\u001b[0m\u001b[1;33m,\u001b[0m \u001b[1;36m2.300489045\u001b[0m\u001b[1;33m,\u001b[0m \u001b[1;36m16.56352112\u001b[0m\u001b[1;33m,\u001b[0m \u001b[1;36m0.0\u001b[0m\u001b[1;33m,\u001b[0m \u001b[1;36m2.949375\u001b[0m\u001b[1;33m)\u001b[0m\u001b[1;33m,\u001b[0m \u001b[1;33m(\u001b[0m\u001b[1;36m5.078780989\u001b[0m\u001b[1;33m,\u001b[0m \u001b[1;36m7.387317802\u001b[0m\u001b[1;33m,\u001b[0m \u001b[1;36m0.923414725\u001b[0m\u001b[1;33m,\u001b[0m \u001b[1;36m16.62146505\u001b[0m\u001b[1;33m,\u001b[0m \u001b[1;36m0.0\u001b[0m\u001b[1;33m,\u001b[0m \u001b[1;36m2.786875\u001b[0m\u001b[1;33m)\u001b[0m\u001b[1;33m,\u001b[0m \u001b[1;33m(\u001b[0m\u001b[1;36m12.35870625\u001b[0m\u001b[1;33m,\u001b[0m \u001b[1;36m16.60124721\u001b[0m\u001b[1;33m,\u001b[0m \u001b[1;36m2.859103686\u001b[0m\u001b[1;33m,\u001b[0m \u001b[1;36m16.60124721\u001b[0m\u001b[1;33m,\u001b[0m \u001b[1;36m0.0\u001b[0m\u001b[1;33m,\u001b[0m \u001b[1;36m2.964479167\u001b[0m\u001b[1;33m)\u001b[0m\u001b[1;33m,\u001b[0m \u001b[1;33m(\u001b[0m\u001b[1;36m5.088652531\u001b[0m\u001b[1;33m,\u001b[0m \u001b[1;36m7.401676409\u001b[0m\u001b[1;33m,\u001b[0m \u001b[1;36m0.925209551\u001b[0m\u001b[1;33m,\u001b[0m \u001b[1;36m16.65377192\u001b[0m\u001b[1;33m,\u001b[0m \u001b[1;36m0.0\u001b[0m\u001b[1;33m,\u001b[0m \u001b[1;36m2.930625\u001b[0m\u001b[1;33m)\u001b[0m\u001b[1;33m,\u001b[0m \u001b[1;33m(\u001b[0m\u001b[1;36m8.364612045\u001b[0m\u001b[1;33m,\u001b[0m \u001b[1;36m12.0822174\u001b[0m\u001b[1;33m,\u001b[0m \u001b[1;36m2.323503346\u001b[0m\u001b[1;33m,\u001b[0m \u001b[1;36m16.72922409\u001b[0m\u001b[1;33m,\u001b[0m \u001b[1;36m0.0\u001b[0m\u001b[1;33m,\u001b[0m \u001b[1;36m3.323854167\u001b[0m\u001b[1;33m)\u001b[0m\u001b[1;33m,\u001b[0m \u001b[1;33m(\u001b[0m\u001b[1;36m12.91123008\u001b[0m\u001b[1;33m,\u001b[0m \u001b[1;36m16.84073489\u001b[0m\u001b[1;33m,\u001b[0m \u001b[1;36m2.526110234\u001b[0m\u001b[1;33m,\u001b[0m \u001b[1;36m16.84073489\u001b[0m\u001b[1;33m,\u001b[0m \u001b[1;36m0.0\u001b[0m\u001b[1;33m,\u001b[0m \u001b[1;36m3.436875\u001b[0m\u001b[1;33m)\u001b[0m\u001b[1;33m,\u001b[0m \u001b[1;33m(\u001b[0m\u001b[1;36m16.34888894\u001b[0m\u001b[1;33m,\u001b[0m \u001b[1;36m21.14080466\u001b[0m\u001b[1;33m,\u001b[0m \u001b[1;36m4.322120063\u001b[0m\u001b[1;33m,\u001b[0m \u001b[1;36m16.91264373\u001b[0m\u001b[1;33m,\u001b[0m \u001b[1;36m0.0\u001b[0m\u001b[1;33m,\u001b[0m \u001b[1;36m3.270208333\u001b[0m\u001b[1;33m)\u001b[0m\u001b[1;33m,\u001b[0m \u001b[1;33m(\u001b[0m\u001b[1;36m8.506136969\u001b[0m\u001b[1;33m,\u001b[0m \u001b[1;36m12.28664229\u001b[0m\u001b[1;33m,\u001b[0m \u001b[1;36m2.362815825\u001b[0m\u001b[1;33m,\u001b[0m \u001b[1;36m17.01227394\u001b[0m\u001b[1;33m,\u001b[0m \u001b[1;36m0.0\u001b[0m\u001b[1;33m,\u001b[0m \u001b[1;36m2.889479167\u001b[0m\u001b[1;33m)\u001b[0m\u001b[1;33m,\u001b[0m \u001b[1;33m(\u001b[0m\u001b[1;36m13.1138532\u001b[0m\u001b[1;33m,\u001b[0m \u001b[1;36m17.10502591\u001b[0m\u001b[1;33m,\u001b[0m \u001b[1;36m2.565753887\u001b[0m\u001b[1;33m,\u001b[0m \u001b[1;36m17.10502591\u001b[0m\u001b[1;33m,\u001b[0m \u001b[1;36m0.0\u001b[0m\u001b[1;33m,\u001b[0m \u001b[1;36m3.0571875\u001b[0m\u001b[1;33m)\u001b[0m\u001b[1;33m,\u001b[0m \u001b[1;33m(\u001b[0m\u001b[1;36m8.608164142\u001b[0m\u001b[1;33m,\u001b[0m \u001b[1;36m12.43401487\u001b[0m\u001b[1;33m,\u001b[0m \u001b[1;36m2.391156706\u001b[0m\u001b[1;33m,\u001b[0m \u001b[1;36m17.21632828\u001b[0m\u001b[1;33m,\u001b[0m \u001b[1;36m0.0\u001b[0m\u001b[1;33m,\u001b[0m \u001b[1;36m3.156145833\u001b[0m\u001b[1;33m)\u001b[0m\u001b[1;33m,\u001b[0m \u001b[1;33m(\u001b[0m\u001b[1;36m8.634426499\u001b[0m\u001b[1;33m,\u001b[0m \u001b[1;36m12.47194939\u001b[0m\u001b[1;33m,\u001b[0m \u001b[1;36m2.398451805\u001b[0m\u001b[1;33m,\u001b[0m \u001b[1;36m17.268853\u001b[0m\u001b[1;33m,\u001b[0m \u001b[1;36m0.0\u001b[0m\u001b[1;33m,\u001b[0m \u001b[1;36m3.605625\u001b[0m\u001b[1;33m)\u001b[0m\u001b[1;33m,\u001b[0m \u001b[1;33m(\u001b[0m\u001b[1;36m8.765738284\u001b[0m\u001b[1;33m,\u001b[0m \u001b[1;36m12.66162197\u001b[0m\u001b[1;33m,\u001b[0m \u001b[1;36m2.434927301\u001b[0m\u001b[1;33m,\u001b[0m \u001b[1;36m17.53147657\u001b[0m\u001b[1;33m,\u001b[0m \u001b[1;36m0.0\u001b[0m\u001b[1;33m,\u001b[0m \u001b[1;36m3.459270833\u001b[0m\u001b[1;33m)\u001b[0m\u001b[1;33m,\u001b[0m \u001b[1;33m(\u001b[0m\u001b[1;36m13.64709716\u001b[0m\u001b[1;33m,\u001b[0m \u001b[1;36m17.80056151\u001b[0m\u001b[1;33m,\u001b[0m \u001b[1;36m2.670084227\u001b[0m\u001b[1;33m,\u001b[0m \u001b[1;36m17.80056151\u001b[0m\u001b[1;33m,\u001b[0m \u001b[1;36m0.0\u001b[0m\u001b[1;33m,\u001b[0m \u001b[1;36m3.363958333\u001b[0m\u001b[1;33m)\u001b[0m\u001b[1;33m,\u001b[0m \u001b[1;33m(\u001b[0m\u001b[1;36m4.4901071\u001b[0m\u001b[1;33m,\u001b[0m \u001b[1;36m14.96702367\u001b[0m\u001b[1;33m,\u001b[0m \u001b[1;36m2.993404733\u001b[0m\u001b[1;33m,\u001b[0m \u001b[1;36m0.0\u001b[0m\u001b[1;33m,\u001b[0m \u001b[1;36m0.0\u001b[0m\u001b[1;33m,\u001b[0m \u001b[1;36m0.0\u001b[0m\u001b[1;33m)\u001b[0m\u001b[1;33m,\u001b[0m \u001b[1;33m(\u001b[0m\u001b[1;36m9.117049417\u001b[0m\u001b[1;33m,\u001b[0m \u001b[1;36m13.16907138\u001b[0m\u001b[1;33m,\u001b[0m \u001b[1;36m2.532513727\u001b[0m\u001b[1;33m,\u001b[0m \u001b[1;36m18.23409883\u001b[0m\u001b[1;33m,\u001b[0m \u001b[1;36m0.0\u001b[0m\u001b[1;33m,\u001b[0m \u001b[1;36m3.1540625\u001b[0m\u001b[1;33m)\u001b[0m\u001b[1;33m,\u001b[0m \u001b[1;33m(\u001b[0m\u001b[1;36m5.550768115\u001b[0m\u001b[1;33m,\u001b[0m \u001b[1;36m8.073844531\u001b[0m\u001b[1;33m,\u001b[0m \u001b[1;36m1.009230566\u001b[0m\u001b[1;33m,\u001b[0m \u001b[1;36m18.1661502\u001b[0m\u001b[1;33m,\u001b[0m \u001b[1;36m0.0\u001b[0m\u001b[1;33m,\u001b[0m \u001b[1;36m3.330625\u001b[0m\u001b[1;33m)\u001b[0m\u001b[1;33m,\u001b[0m \u001b[1;33m(\u001b[0m\u001b[1;36m13.49203581\u001b[0m\u001b[1;33m,\u001b[0m \u001b[1;36m18.12363019\u001b[0m\u001b[1;33m,\u001b[0m \u001b[1;36m3.121291866\u001b[0m\u001b[1;33m,\u001b[0m \u001b[1;36m18.12363019\u001b[0m\u001b[1;33m,\u001b[0m \u001b[1;36m0.0\u001b[0m\u001b[1;33m,\u001b[0m \u001b[1;36m3.528020833\u001b[0m\u001b[1;33m)\u001b[0m\u001b[1;33m,\u001b[0m \u001b[1;33m(\u001b[0m\u001b[1;36m5.569301141\u001b[0m\u001b[1;33m,\u001b[0m \u001b[1;36m8.10080166\u001b[0m\u001b[1;33m,\u001b[0m \u001b[1;36m1.012600207\u001b[0m\u001b[1;33m,\u001b[0m \u001b[1;36m18.22680373\u001b[0m\u001b[1;33m,\u001b[0m \u001b[1;36m0.0\u001b[0m\u001b[1;33m,\u001b[0m \u001b[1;36m4.0489375\u001b[0m\u001b[1;33m)\u001b[0m\u001b[1;33m,\u001b[0m \u001b[1;33m(\u001b[0m\u001b[1;36m9.351430532\u001b[0m\u001b[1;33m,\u001b[0m \u001b[1;36m13.50762188\u001b[0m\u001b[1;33m,\u001b[0m \u001b[1;36m2.597619592\u001b[0m\u001b[1;33m,\u001b[0m \u001b[1;36m18.70286106\u001b[0m\u001b[1;33m,\u001b[0m \u001b[1;36m0.0\u001b[0m\u001b[1;33m,\u001b[0m \u001b[1;36m3.4259375\u001b[0m\u001b[1;33m)\u001b[0m\u001b[1;33m,\u001b[0m \u001b[1;33m(\u001b[0m\u001b[1;36m14.45199672\u001b[0m\u001b[1;33m,\u001b[0m \u001b[1;36m18.8504305\u001b[0m\u001b[1;33m,\u001b[0m \u001b[1;36m2.827564575\u001b[0m\u001b[1;33m,\u001b[0m \u001b[1;36m18.8504305\u001b[0m\u001b[1;33m,\u001b[0m \u001b[1;36m0.0\u001b[0m\u001b[1;33m,\u001b[0m \u001b[1;36m3.414479167\u001b[0m\u001b[1;33m)\u001b[0m\u001b[1;33m,\u001b[0m \u001b[1;33m(\u001b[0m\u001b[1;36m18.32201873\u001b[0m\u001b[1;33m,\u001b[0m \u001b[1;36m23.69226559\u001b[0m\u001b[1;33m,\u001b[0m \u001b[1;36m4.843752077\u001b[0m\u001b[1;33m,\u001b[0m \u001b[1;36m18.95381248\u001b[0m\u001b[1;33m,\u001b[0m \u001b[1;36m0.0\u001b[0m\u001b[1;33m,\u001b[0m \u001b[1;36m3.357708333\u001b[0m\u001b[1;33m)\u001b[0m\u001b[1;33m,\u001b[0m \u001b[1;33m(\u001b[0m\u001b[1;36m9.427299563\u001b[0m\u001b[1;33m,\u001b[0m \u001b[1;36m13.61721048\u001b[0m\u001b[1;33m,\u001b[0m \u001b[1;36m2.618694323\u001b[0m\u001b[1;33m,\u001b[0m \u001b[1;36m18.85459913\u001b[0m\u001b[1;33m,\u001b[0m \u001b[1;36m0.0\u001b[0m\u001b[1;33m,\u001b[0m \u001b[1;36m3.679020833\u001b[0m\u001b[1;33m)\u001b[0m\u001b[1;33m,\u001b[0m \u001b[1;33m(\u001b[0m\u001b[1;36m5.787748833\u001b[0m\u001b[1;33m,\u001b[0m \u001b[1;36m8.418543757\u001b[0m\u001b[1;33m,\u001b[0m \u001b[1;36m1.05231797\u001b[0m\u001b[1;33m,\u001b[0m \u001b[1;36m18.94172345\u001b[0m\u001b[1;33m,\u001b[0m \u001b[1;36m0.0\u001b[0m\u001b[1;33m,\u001b[0m \u001b[1;36m3.986645833\u001b[0m\u001b[1;33m)\u001b[0m\u001b[1;33m,\u001b[0m \u001b[1;33m(\u001b[0m\u001b[1;36m9.600401845\u001b[0m\u001b[1;33m,\u001b[0m \u001b[1;36m13.86724711\u001b[0m\u001b[1;33m,\u001b[0m \u001b[1;36m2.66677829\u001b[0m\u001b[1;33m,\u001b[0m \u001b[1;36m19.20080369\u001b[0m\u001b[1;33m,\u001b[0m \u001b[1;36m0.0\u001b[0m\u001b[1;33m,\u001b[0m \u001b[1;36m4.095895833\u001b[0m\u001b[1;33m)\u001b[0m\u001b[1;33m,\u001b[0m \u001b[1;33m(\u001b[0m\u001b[1;36m9.703575391\u001b[0m\u001b[1;33m,\u001b[0m \u001b[1;36m14.01627556\u001b[0m\u001b[1;33m,\u001b[0m \u001b[1;36m2.695437609\u001b[0m\u001b[1;33m,\u001b[0m \u001b[1;36m19.40715078\u001b[0m\u001b[1;33m,\u001b[0m \u001b[1;36m0.0\u001b[0m\u001b[1;33m,\u001b[0m \u001b[1;36m4.06475\u001b[0m\u001b[1;33m)\u001b[0m\u001b[1;33m,\u001b[0m \u001b[1;33m(\u001b[0m\u001b[1;36m9.892101596\u001b[0m\u001b[1;33m,\u001b[0m \u001b[1;36m14.28859119\u001b[0m\u001b[1;33m,\u001b[0m \u001b[1;36m2.747805999\u001b[0m\u001b[1;33m,\u001b[0m \u001b[1;36m19.78420319\u001b[0m\u001b[1;33m,\u001b[0m \u001b[1;36m0.0\u001b[0m\u001b[1;33m,\u001b[0m \u001b[1;36m3.658895833\u001b[0m\u001b[1;33m)\u001b[0m\u001b[1;33m,\u001b[0m \u001b[1;33m(\u001b[0m\u001b[1;36m15.2674429\u001b[0m\u001b[1;33m,\u001b[0m \u001b[1;36m19.91405596\u001b[0m\u001b[1;33m,\u001b[0m \u001b[1;36m2.987108394\u001b[0m\u001b[1;33m,\u001b[0m \u001b[1;36m19.91405596\u001b[0m\u001b[1;33m,\u001b[0m \u001b[1;36m0.0\u001b[0m\u001b[1;33m,\u001b[0m \u001b[1;36m3.843375\u001b[0m\u001b[1;33m)\u001b[0m\u001b[1;33m,\u001b[0m \u001b[1;33m(\u001b[0m\u001b[1;36m5.011289828\u001b[0m\u001b[1;33m,\u001b[0m \u001b[1;36m16.70429943\u001b[0m\u001b[1;33m,\u001b[0m \u001b[1;36m3.340859885\u001b[0m\u001b[1;33m,\u001b[0m \u001b[1;36m0.0\u001b[0m\u001b[1;33m,\u001b[0m \u001b[1;36m0.0\u001b[0m\u001b[1;33m,\u001b[0m \u001b[1;36m0.0\u001b[0m\u001b[1;33m)\u001b[0m\u001b[1;33m,\u001b[0m \u001b[1;33m(\u001b[0m\u001b[1;36m9.999964849\u001b[0m\u001b[1;33m,\u001b[0m \u001b[1;36m14.44439367\u001b[0m\u001b[1;33m,\u001b[0m \u001b[1;36m2.777768013\u001b[0m\u001b[1;33m,\u001b[0m \u001b[1;36m19.9999297\u001b[0m\u001b[1;33m,\u001b[0m \u001b[1;36m0.0\u001b[0m\u001b[1;33m,\u001b[0m \u001b[1;36m4.232458333\u001b[0m\u001b[1;33m)\u001b[0m\u001b[1;33m,\u001b[0m \u001b[1;33m(\u001b[0m\u001b[1;36m6.21534586\u001b[0m\u001b[1;33m,\u001b[0m \u001b[1;36m9.04050307\u001b[0m\u001b[1;33m,\u001b[0m \u001b[1;36m1.130062884\u001b[0m\u001b[1;33m,\u001b[0m \u001b[1;36m20.34113191\u001b[0m\u001b[1;33m,\u001b[0m \u001b[1;36m0.0\u001b[0m\u001b[1;33m,\u001b[0m \u001b[1;36m4.132791667\u001b[0m\u001b[1;33m)\u001b[0m\u001b[1;33m,\u001b[0m \u001b[1;33m(\u001b[0m\u001b[1;36m15.36798793\u001b[0m\u001b[1;33m,\u001b[0m \u001b[1;36m20.64356588\u001b[0m\u001b[1;33m,\u001b[0m \u001b[1;36m3.55528079\u001b[0m\u001b[1;33m,\u001b[0m \u001b[1;36m20.64356588\u001b[0m\u001b[1;33m,\u001b[0m \u001b[1;36m0.0\u001b[0m\u001b[1;33m,\u001b[0m \u001b[1;36m4.099729167\u001b[0m\u001b[1;33m)\u001b[0m\u001b[1;33m,\u001b[0m \u001b[1;33m(\u001b[0m\u001b[1;36m6.402714114\u001b[0m\u001b[1;33m,\u001b[0m \u001b[1;36m9.313038711\u001b[0m\u001b[1;33m,\u001b[0m \u001b[1;36m1.164129839\u001b[0m\u001b[1;33m,\u001b[0m \u001b[1;36m20.9543371\u001b[0m\u001b[1;33m,\u001b[0m \u001b[1;36m0.0\u001b[0m\u001b[1;33m,\u001b[0m \u001b[1;36m4.288041667\u001b[0m\u001b[1;33m)\u001b[0m\u001b[1;33m,\u001b[0m \u001b[1;33m(\u001b[0m\u001b[1;36m16.26809429\u001b[0m\u001b[1;33m,\u001b[0m \u001b[1;36m21.21925342\u001b[0m\u001b[1;33m,\u001b[0m \u001b[1;36m3.182888012\u001b[0m\u001b[1;33m,\u001b[0m \u001b[1;36m21.21925342\u001b[0m\u001b[1;33m,\u001b[0m \u001b[1;36m0.0\u001b[0m\u001b[1;33m,\u001b[0m \u001b[1;36m4.061395833\u001b[0m\u001b[1;33m)\u001b[0m\u001b[1;33m,\u001b[0m \u001b[1;33m(\u001b[0m\u001b[1;36m16.29302268\u001b[0m\u001b[1;33m,\u001b[0m \u001b[1;36m21.25176872\u001b[0m\u001b[1;33m,\u001b[0m \u001b[1;36m3.187765307\u001b[0m\u001b[1;33m,\u001b[0m \u001b[1;36m21.25176872\u001b[0m\u001b[1;33m,\u001b[0m \u001b[1;36m0.0\u001b[0m\u001b[1;33m,\u001b[0m \u001b[1;36m3.70825\u001b[0m\u001b[1;33m)\u001b[0m\u001b[1;33m,\u001b[0m \u001b[1;33m(\u001b[0m\u001b[1;36m20.38037612\u001b[0m\u001b[1;33m,\u001b[0m \u001b[1;36m26.35393464\u001b[0m\u001b[1;33m,\u001b[0m \u001b[1;36m5.387915526\u001b[0m\u001b[1;33m,\u001b[0m \u001b[1;36m21.08314771\u001b[0m\u001b[1;33m,\u001b[0m \u001b[1;36m0.0\u001b[0m\u001b[1;33m,\u001b[0m \u001b[1;36m3.5509375\u001b[0m\u001b[1;33m)\u001b[0m\u001b[1;33m,\u001b[0m \u001b[1;33m(\u001b[0m\u001b[1;36m10.43246001\u001b[0m\u001b[1;33m,\u001b[0m \u001b[1;36m15.06910891\u001b[0m\u001b[1;33m,\u001b[0m \u001b[1;36m2.897905559\u001b[0m\u001b[1;33m,\u001b[0m \u001b[1;36m20.86492003\u001b[0m\u001b[1;33m,\u001b[0m \u001b[1;36m0.0\u001b[0m\u001b[1;33m,\u001b[0m \u001b[1;36m3.436354167\u001b[0m\u001b[1;33m)\u001b[0m\u001b[1;33m,\u001b[0m \u001b[1;33m(\u001b[0m\u001b[1;36m6.348643534\u001b[0m\u001b[1;33m,\u001b[0m \u001b[1;36m9.234390595\u001b[0m\u001b[1;33m,\u001b[0m \u001b[1;36m1.154298824\u001b[0m\u001b[1;33m,\u001b[0m \u001b[1;36m20.77737884\u001b[0m\u001b[1;33m,\u001b[0m \u001b[1;36m0.0\u001b[0m\u001b[1;33m,\u001b[0m \u001b[1;36m3.486875\u001b[0m\u001b[1;33m)\u001b[0m\u001b[1;33m,\u001b[0m \u001b[1;33m(\u001b[0m\u001b[1;36m10.3149047\u001b[0m\u001b[1;33m,\u001b[0m \u001b[1;36m14.89930679\u001b[0m\u001b[1;33m,\u001b[0m \u001b[1;36m2.865251306\u001b[0m\u001b[1;33m,\u001b[0m \u001b[1;36m20.6298094\u001b[0m\u001b[1;33m,\u001b[0m \u001b[1;36m0.0\u001b[0m\u001b[1;33m,\u001b[0m \u001b[1;36m3.708729167\u001b[0m\u001b[1;33m)\u001b[0m\u001b[1;33m,\u001b[0m \u001b[1;33m(\u001b[0m\u001b[1;36m10.26352636\u001b[0m\u001b[1;33m,\u001b[0m \u001b[1;36m14.82509363\u001b[0m\u001b[1;33m,\u001b[0m \u001b[1;36m2.850979544\u001b[0m\u001b[1;33m,\u001b[0m \u001b[1;36m20.52705272\u001b[0m\u001b[1;33m,\u001b[0m \u001b[1;36m0.0\u001b[0m\u001b[1;33m,\u001b[0m \u001b[1;36m3.8534375\u001b[0m\u001b[1;33m)\u001b[0m\u001b[1;33m,\u001b[0m \u001b[1;33m(\u001b[0m\u001b[1;36m10.18109174\u001b[0m\u001b[1;33m,\u001b[0m \u001b[1;36m14.7060214\u001b[0m\u001b[1;33m,\u001b[0m \u001b[1;36m2.828081039\u001b[0m\u001b[1;33m,\u001b[0m \u001b[1;36m20.36218348\u001b[0m\u001b[1;33m,\u001b[0m \u001b[1;36m0.0\u001b[0m\u001b[1;33m,\u001b[0m \u001b[1;36m4.096375\u001b[0m\u001b[1;33m)\u001b[0m\u001b[1;33m,\u001b[0m \u001b[1;33m(\u001b[0m\u001b[1;36m15.59886273\u001b[0m\u001b[1;33m,\u001b[0m \u001b[1;36m20.34634269\u001b[0m\u001b[1;33m,\u001b[0m \u001b[1;36m3.051951404\u001b[0m\u001b[1;33m,\u001b[0m \u001b[1;36m20.34634269\u001b[0m\u001b[1;33m,\u001b[0m \u001b[1;36m0.0\u001b[0m\u001b[1;33m,\u001b[0m \u001b[1;36m4.183104167\u001b[0m\u001b[1;33m)\u001b[0m\u001b[1;33m,\u001b[0m \u001b[1;33m(\u001b[0m\u001b[1;36m5.095652439\u001b[0m\u001b[1;33m,\u001b[0m \u001b[1;36m16.98550813\u001b[0m\u001b[1;33m,\u001b[0m \u001b[1;36m3.397101626\u001b[0m\u001b[1;33m,\u001b[0m \u001b[1;36m0.0\u001b[0m\u001b[1;33m,\u001b[0m \u001b[1;36m0.0\u001b[0m\u001b[1;33m,\u001b[0m \u001b[1;36m0.0\u001b[0m\u001b[1;33m)\u001b[0m\u001b[1;33m,\u001b[0m \u001b[1;33m(\u001b[0m\u001b[1;36m10.1224183\u001b[0m\u001b[1;33m,\u001b[0m \u001b[1;36m14.62127088\u001b[0m\u001b[1;33m,\u001b[0m \u001b[1;36m2.811782861\u001b[0m\u001b[1;33m,\u001b[0m \u001b[1;36m20.2448366\u001b[0m\u001b[1;33m,\u001b[0m \u001b[1;36m0.0\u001b[0m\u001b[1;33m,\u001b[0m \u001b[1;36m3.959333333\u001b[0m\u001b[1;33m)\u001b[0m\u001b[1;33m,\u001b[0m \u001b[1;33m(\u001b[0m\u001b[1;36m6.172356883\u001b[0m\u001b[1;33m,\u001b[0m \u001b[1;36m8.977973648\u001b[0m\u001b[1;33m,\u001b[0m \u001b[1;36m1.122246706\u001b[0m\u001b[1;33m,\u001b[0m \u001b[1;36m20.20044071\u001b[0m\u001b[1;33m,\u001b[0m \u001b[1;36m0.0\u001b[0m\u001b[1;33m,\u001b[0m \u001b[1;36m3.992395833\u001b[0m\u001b[1;33m)\u001b[0m\u001b[1;33m,\u001b[0m \u001b[1;33m(\u001b[0m\u001b[1;36m15.13011906\u001b[0m\u001b[1;33m,\u001b[0m \u001b[1;36m20.32404053\u001b[0m\u001b[1;33m,\u001b[0m \u001b[1;36m3.500251425\u001b[0m\u001b[1;33m,\u001b[0m \u001b[1;36m20.32404053\u001b[0m\u001b[1;33m,\u001b[0m \u001b[1;36m0.0\u001b[0m\u001b[1;33m,\u001b[0m \u001b[1;36m3.950708333\u001b[0m\u001b[1;33m)\u001b[0m\u001b[1;33m,\u001b[0m \u001b[1;33m(\u001b[0m\u001b[1;36m6.261646581\u001b[0m\u001b[1;33m,\u001b[0m \u001b[1;36m9.107849573\u001b[0m\u001b[1;33m,\u001b[0m \u001b[1;36m1.138481197\u001b[0m\u001b[1;33m,\u001b[0m \u001b[1;36m20.49266154\u001b[0m\u001b[1;33m,\u001b[0m \u001b[1;36m0.0\u001b[0m\u001b[1;33m,\u001b[0m \u001b[1;36m4.042708333\u001b[0m\u001b[1;33m)\u001b[0m\u001b[1;33m,\u001b[0m \u001b[1;33m(\u001b[0m\u001b[1;36m10.37357814\u001b[0m\u001b[1;33m,\u001b[0m \u001b[1;36m14.98405732\u001b[0m\u001b[1;33m,\u001b[0m \u001b[1;36m2.881549484\u001b[0m\u001b[1;33m,\u001b[0m \u001b[1;36m20.74715628\u001b[0m\u001b[1;33m,\u001b[0m \u001b[1;36m0.0\u001b[0m\u001b[1;33m,\u001b[0m \u001b[1;36m4.2300625\u001b[0m\u001b[1;33m)\u001b[0m\u001b[1;33m,\u001b[0m \u001b[1;33m(\u001b[0m\u001b[1;36m16.14824623\u001b[0m\u001b[1;33m,\u001b[0m \u001b[1;36m21.06292986\u001b[0m\u001b[1;33m,\u001b[0m \u001b[1;36m3.159439479\u001b[0m\u001b[1;33m,\u001b[0m \u001b[1;36m21.06292986\u001b[0m\u001b[1;33m,\u001b[0m \u001b[1;36m0.0\u001b[0m\u001b[1;33m,\u001b[0m \u001b[1;36m4.2329375\u001b[0m\u001b[1;33m)\u001b[0m\u001b[1;33m,\u001b[0m \u001b[1;33m(\u001b[0m\u001b[1;36m20.58125536\u001b[0m\u001b[1;33m,\u001b[0m \u001b[1;36m26.61369227\u001b[0m\u001b[1;33m,\u001b[0m \u001b[1;36m5.441021532\u001b[0m\u001b[1;33m,\u001b[0m \u001b[1;36m21.29095382\u001b[0m\u001b[1;33m,\u001b[0m \u001b[1;36m0.0\u001b[0m\u001b[1;33m,\u001b[0m \u001b[1;36m3.932020833\u001b[0m\u001b[1;33m)\u001b[0m\u001b[1;33m,\u001b[0m \u001b[1;33m(\u001b[0m\u001b[1;36m10.66256829\u001b[0m\u001b[1;33m,\u001b[0m \u001b[1;36m15.40148752\u001b[0m\u001b[1;33m,\u001b[0m \u001b[1;36m2.961824524\u001b[0m\u001b[1;33m,\u001b[0m \u001b[1;36m21.32513657\u001b[0m\u001b[1;33m,\u001b[0m \u001b[1;36m0.0\u001b[0m\u001b[1;33m,\u001b[0m \u001b[1;36m3.852\u001b[0m\u001b[1;33m)\u001b[0m\u001b[1;33m,\u001b[0m \u001b[1;33m(\u001b[0m\u001b[1;36m6.483533391\u001b[0m\u001b[1;33m,\u001b[0m \u001b[1;36m9.430594024\u001b[0m\u001b[1;33m,\u001b[0m \u001b[1;36m1.178824253\u001b[0m\u001b[1;33m,\u001b[0m \u001b[1;36m21.21883655\u001b[0m\u001b[1;33m,\u001b[0m \u001b[1;36m0.0\u001b[0m\u001b[1;33m,\u001b[0m \u001b[1;36m4.466291667\u001b[0m\u001b[1;33m)\u001b[0m\u001b[1;33m,\u001b[0m \u001b[1;33m(\u001b[0m\u001b[1;36m10.67100976\u001b[0m\u001b[1;33m,\u001b[0m \u001b[1;36m15.41368076\u001b[0m\u001b[1;33m,\u001b[0m \u001b[1;36m2.964169377\u001b[0m\u001b[1;33m,\u001b[0m \u001b[1;36m21.34201951\u001b[0m\u001b[1;33m,\u001b[0m \u001b[1;36m0.0\u001b[0m\u001b[1;33m,\u001b[0m \u001b[1;36m4.624895833\u001b[0m\u001b[1;33m)\u001b[0m\u001b[1;33m,\u001b[0m \u001b[1;33m(\u001b[0m\u001b[1;36m16.58017863\u001b[0m\u001b[1;33m,\u001b[0m \u001b[1;36m21.62631995\u001b[0m\u001b[1;33m,\u001b[0m \u001b[1;36m3.243947993\u001b[0m\u001b[1;33m,\u001b[0m \u001b[1;36m21.62631995\u001b[0m\u001b[1;33m,\u001b[0m \u001b[1;36m0.0\u001b[0m\u001b[1;33m,\u001b[0m \u001b[1;36m4.266\u001b[0m\u001b[1;33m)\u001b[0m\u001b[1;33m,\u001b[0m \u001b[1;33m(\u001b[0m\u001b[1;36m10.87985802\u001b[0m\u001b[1;33m,\u001b[0m \u001b[1;36m15.71535048\u001b[0m\u001b[1;33m,\u001b[0m \u001b[1;36m3.022182785\u001b[0m\u001b[1;33m,\u001b[0m \u001b[1;36m21.75971605\u001b[0m\u001b[1;33m,\u001b[0m \u001b[1;36m0.0\u001b[0m\u001b[1;33m,\u001b[0m \u001b[1;36m4.254979167\u001b[0m\u001b[1;33m)\u001b[0m\u001b[1;33m,\u001b[0m \u001b[1;33m(\u001b[0m\u001b[1;36m16.77001795\u001b[0m\u001b[1;33m,\u001b[0m \u001b[1;36m21.87393646\u001b[0m\u001b[1;33m,\u001b[0m \u001b[1;36m3.281090469\u001b[0m\u001b[1;33m,\u001b[0m \u001b[1;36m21.87393646\u001b[0m\u001b[1;33m,\u001b[0m \u001b[1;36m0.0\u001b[0m\u001b[1;33m,\u001b[0m \u001b[1;36m4.161541667\u001b[0m\u001b[1;33m)\u001b[0m\u001b[1;33m,\u001b[0m \u001b[1;33m(\u001b[0m\u001b[1;36m5.491411569\u001b[0m\u001b[1;33m,\u001b[0m \u001b[1;36m18.30470523\u001b[0m\u001b[1;33m,\u001b[0m \u001b[1;36m3.660941046\u001b[0m\u001b[1;33m,\u001b[0m \u001b[1;36m0.0\u001b[0m\u001b[1;33m,\u001b[0m \u001b[1;36m0.0\u001b[0m\u001b[1;33m,\u001b[0m \u001b[1;36m0.0\u001b[0m\u001b[1;33m)\u001b[0m\u001b[1;33m,\u001b[0m \u001b[1;33m(\u001b[0m\u001b[1;36m11.09245806\u001b[0m\u001b[1;33m,\u001b[0m \u001b[1;36m16.02243942\u001b[0m\u001b[1;33m,\u001b[0m \u001b[1;36m3.081238349\u001b[0m\u001b[1;33m,\u001b[0m \u001b[1;36m22.18491612\u001b[0m\u001b[1;33m,\u001b[0m \u001b[1;36m0.0\u001b[0m\u001b[1;33m,\u001b[0m \u001b[1;36m4.882541667\u001b[0m\u001b[1;33m)\u001b[0m\u001b[1;33m,\u001b[0m \u001b[1;33m(\u001b[0m\u001b[1;36m6.865976071\u001b[0m\u001b[1;33m,\u001b[0m \u001b[1;36m9.986874285\u001b[0m\u001b[1;33m,\u001b[0m \u001b[1;36m1.248359286\u001b[0m\u001b[1;33m,\u001b[0m \u001b[1;36m22.47046714\u001b[0m\u001b[1;33m,\u001b[0m \u001b[1;36m0.0\u001b[0m\u001b[1;33m,\u001b[0m \u001b[1;36m4.6613125\u001b[0m\u001b[1;33m)\u001b[0m\u001b[1;33m,\u001b[0m \u001b[1;33m(\u001b[0m\u001b[1;36m16.86673247\u001b[0m\u001b[1;33m,\u001b[0m \u001b[1;36m22.65680482\u001b[0m\u001b[1;33m,\u001b[0m \u001b[1;36m3.902005274\u001b[0m\u001b[1;33m,\u001b[0m \u001b[1;36m22.65680482\u001b[0m\u001b[1;33m,\u001b[0m \u001b[1;36m0.0\u001b[0m\u001b[1;33m,\u001b[0m \u001b[1;36m4.448083333\u001b[0m\u001b[1;33m)\u001b[0m\u001b[1;33m,\u001b[0m \u001b[1;33m(\u001b[0m\u001b[1;36m6.991503884\u001b[0m\u001b[1;33m,\u001b[0m \u001b[1;36m10.1694602\u001b[0m\u001b[1;33m,\u001b[0m \u001b[1;36m1.271182524\u001b[0m\u001b[1;33m,\u001b[0m \u001b[1;36m22.88128544\u001b[0m\u001b[1;33m,\u001b[0m \u001b[1;36m0.0\u001b[0m\u001b[1;33m,\u001b[0m \u001b[1;36m4.307208333\u001b[0m\u001b[1;33m)\u001b[0m\u001b[1;33m,\u001b[0m \u001b[1;33m(\u001b[0m\u001b[1;36m11.53964764\u001b[0m\u001b[1;33m,\u001b[0m \u001b[1;36m16.66837992\u001b[0m\u001b[1;33m,\u001b[0m \u001b[1;36m3.205457677\u001b[0m\u001b[1;33m,\u001b[0m \u001b[1;36m23.07929527\u001b[0m\u001b[1;33m,\u001b[0m \u001b[1;36m0.0\u001b[0m\u001b[1;33m,\u001b[0m \u001b[1;36m4.381\u001b[0m\u001b[1;33m)\u001b[0m\u001b[1;33m,\u001b[0m \u001b[1;33m(\u001b[0m\u001b[1;36m17.66568244\u001b[0m\u001b[1;33m,\u001b[0m \u001b[1;36m23.04219448\u001b[0m\u001b[1;33m,\u001b[0m \u001b[1;36m3.456329173\u001b[0m\u001b[1;33m,\u001b[0m \u001b[1;36m23.04219448\u001b[0m\u001b[1;33m,\u001b[0m \u001b[1;36m0.0\u001b[0m\u001b[1;33m,\u001b[0m \u001b[1;36m4.5204375\u001b[0m\u001b[1;33m)\u001b[0m\u001b[1;33m,\u001b[0m \u001b[1;33m(\u001b[0m\u001b[1;36m22.23019789\u001b[0m\u001b[1;33m,\u001b[0m \u001b[1;36m28.74594555\u001b[0m\u001b[1;33m,\u001b[0m \u001b[1;36m5.876948868\u001b[0m\u001b[1;33m,\u001b[0m \u001b[1;36m22.99675644\u001b[0m\u001b[1;33m,\u001b[0m \u001b[1;36m0.0\u001b[0m\u001b[1;33m,\u001b[0m \u001b[1;36m4.563083333\u001b[0m\u001b[1;33m)\u001b[0m\u001b[1;33m,\u001b[0m \u001b[1;33m(\u001b[0m\u001b[1;36m11.56299195\u001b[0m\u001b[1;33m,\u001b[0m \u001b[1;36m16.70209949\u001b[0m\u001b[1;33m,\u001b[0m \u001b[1;36m3.21194221\u001b[0m\u001b[1;33m,\u001b[0m \u001b[1;36m23.12598391\u001b[0m\u001b[1;33m,\u001b[0m \u001b[1;36m0.0\u001b[0m\u001b[1;33m,\u001b[0m \u001b[1;36m4.604770833\u001b[0m\u001b[1;33m)\u001b[0m\u001b[1;33m,\u001b[0m \u001b[1;33m(\u001b[0m\u001b[1;36m7.112764644\u001b[0m\u001b[1;33m,\u001b[0m \u001b[1;36m10.34583948\u001b[0m\u001b[1;33m,\u001b[0m \u001b[1;36m1.293229935\u001b[0m\u001b[1;33m,\u001b[0m \u001b[1;36m23.27813883\u001b[0m\u001b[1;33m,\u001b[0m \u001b[1;36m0.0\u001b[0m\u001b[1;33m,\u001b[0m \u001b[1;36m4.310083333\u001b[0m\u001b[1;33m)\u001b[0m\u001b[1;33m,\u001b[0m \u001b[1;33m(\u001b[0m\u001b[1;36m11.67137629\u001b[0m\u001b[1;33m,\u001b[0m \u001b[1;36m16.85865463\u001b[0m\u001b[1;33m,\u001b[0m \u001b[1;36m3.242048968\u001b[0m\u001b[1;33m,\u001b[0m \u001b[1;36m23.34275257\u001b[0m\u001b[1;33m,\u001b[0m \u001b[1;36m0.0\u001b[0m\u001b[1;33m,\u001b[0m \u001b[1;36m4.3421875\u001b[0m\u001b[1;33m)\u001b[0m\u001b[1;33m,\u001b[0m \u001b[1;33m(\u001b[0m\u001b[1;36m11.62687618\u001b[0m\u001b[1;33m,\u001b[0m \u001b[1;36m16.7943767\u001b[0m\u001b[1;33m,\u001b[0m \u001b[1;36m3.229687828\u001b[0m\u001b[1;33m,\u001b[0m \u001b[1;36m23.25375236\u001b[0m\u001b[1;33m,\u001b[0m \u001b[1;36m0.0\u001b[0m\u001b[1;33m,\u001b[0m \u001b[1;36m4.741833333\u001b[0m\u001b[1;33m)\u001b[0m\u001b[1;33m,\u001b[0m \u001b[1;33m(\u001b[0m\u001b[1;36m11.59488196\u001b[0m\u001b[1;33m,\u001b[0m \u001b[1;36m16.74816283\u001b[0m\u001b[1;33m,\u001b[0m \u001b[1;36m3.220800544\u001b[0m\u001b[1;33m,\u001b[0m \u001b[1;36m23.18976392\u001b[0m\u001b[1;33m,\u001b[0m \u001b[1;36m0.0\u001b[0m\u001b[1;33m,\u001b[0m \u001b[1;36m4.766125\u001b[0m\u001b[1;33m)\u001b[0m\u001b[1;33m,\u001b[0m \u001b[1;33m(\u001b[0m\u001b[1;36m17.81333525\u001b[0m\u001b[1;33m,\u001b[0m \u001b[1;36m23.2347851\u001b[0m\u001b[1;33m,\u001b[0m \u001b[1;36m3.485217765\u001b[0m\u001b[1;33m,\u001b[0m \u001b[1;36m23.2347851\u001b[0m\u001b[1;33m,\u001b[0m \u001b[1;36m0.0\u001b[0m\u001b[1;33m,\u001b[0m \u001b[1;36m4.542479167\u001b[0m\u001b[1;33m)\u001b[0m\u001b[1;33m,\u001b[0m \u001b[1;33m(\u001b[0m\u001b[1;36m5.818961522\u001b[0m\u001b[1;33m,\u001b[0m \u001b[1;36m19.39653841\u001b[0m\u001b[1;33m,\u001b[0m \u001b[1;36m3.879307682\u001b[0m\u001b[1;33m,\u001b[0m \u001b[1;36m0.0\u001b[0m\u001b[1;33m,\u001b[0m \u001b[1;36m0.0\u001b[0m\u001b[1;33m,\u001b[0m \u001b[1;36m0.0\u001b[0m\u001b[1;33m)\u001b[0m\u001b[1;33m,\u001b[0m \u001b[1;33m(\u001b[0m\u001b[1;36m11.54548372\u001b[0m\u001b[1;33m,\u001b[0m \u001b[1;36m16.67680981\u001b[0m\u001b[1;33m,\u001b[0m \u001b[1;36m3.20707881\u001b[0m\u001b[1;33m,\u001b[0m \u001b[1;36m23.09096743\u001b[0m\u001b[1;33m,\u001b[0m \u001b[1;36m0.0\u001b[0m\u001b[1;33m,\u001b[0m \u001b[1;36m3.812708333\u001b[0m\u001b[1;33m)\u001b[0m\u001b[1;33m,\u001b[0m \u001b[1;33m(\u001b[0m\u001b[1;36m6.980040157\u001b[0m\u001b[1;33m,\u001b[0m \u001b[1;36m10.15278568\u001b[0m\u001b[1;33m,\u001b[0m \u001b[1;36m1.26909821\u001b[0m\u001b[1;33m,\u001b[0m \u001b[1;36m22.84376779\u001b[0m\u001b[1;33m,\u001b[0m \u001b[1;36m0.0\u001b[0m\u001b[1;33m,\u001b[0m \u001b[1;36m3.894645833\u001b[0m\u001b[1;33m)\u001b[0m\u001b[1;33m,\u001b[0m \u001b[1;33m(\u001b[0m\u001b[1;36m16.80326974\u001b[0m\u001b[1;33m,\u001b[0m \u001b[1;36m22.57155637\u001b[0m\u001b[1;33m,\u001b[0m \u001b[1;36m3.887323597\u001b[0m\u001b[1;33m,\u001b[0m \u001b[1;36m22.57155637\u001b[0m\u001b[1;33m,\u001b[0m \u001b[1;36m0.0\u001b[0m\u001b[1;33m,\u001b[0m \u001b[1;36m4.195083333\u001b[0m\u001b[1;33m)\u001b[0m\u001b[1;33m,\u001b[0m \u001b[1;33m(\u001b[0m\u001b[1;36m6.847952544\u001b[0m\u001b[1;33m,\u001b[0m \u001b[1;36m9.960658246\u001b[0m\u001b[1;33m,\u001b[0m \u001b[1;36m1.245082281\u001b[0m\u001b[1;33m,\u001b[0m \u001b[1;36m22.41148105\u001b[0m\u001b[1;33m,\u001b[0m \u001b[1;36m0.0\u001b[0m\u001b[1;33m,\u001b[0m \u001b[1;36m4.4054375\u001b[0m\u001b[1;33m)\u001b[0m\u001b[1;33m,\u001b[0m \u001b[1;33m(\u001b[0m\u001b[1;36m11.16238679\u001b[0m\u001b[1;33m,\u001b[0m \u001b[1;36m16.12344759\u001b[0m\u001b[1;33m,\u001b[0m \u001b[1;36m3.100662998\u001b[0m\u001b[1;33m,\u001b[0m \u001b[1;36m22.32477359\u001b[0m\u001b[1;33m,\u001b[0m \u001b[1;36m0.0\u001b[0m\u001b[1;33m,\u001b[0m \u001b[1;36m4.661791667\u001b[0m\u001b[1;33m)\u001b[0m\u001b[1;33m,\u001b[0m \u001b[1;33m(\u001b[0m\u001b[1;36m17.23295105\u001b[0m\u001b[1;33m,\u001b[0m \u001b[1;36m22.47776224\u001b[0m\u001b[1;33m,\u001b[0m \u001b[1;36m3.371664336\u001b[0m\u001b[1;33m,\u001b[0m \u001b[1;36m22.47776224\u001b[0m\u001b[1;33m,\u001b[0m \u001b[1;36m0.0\u001b[0m\u001b[1;33m,\u001b[0m \u001b[1;36m4.911416667\u001b[0m\u001b[1;33m)\u001b[0m\u001b[1;33m,\u001b[0m \u001b[1;33m(\u001b[0m\u001b[1;36m21.97008244\u001b[0m\u001b[1;33m,\u001b[0m \u001b[1;36m28.40958937\u001b[0m\u001b[1;33m,\u001b[0m \u001b[1;36m5.808182715\u001b[0m\u001b[1;33m,\u001b[0m \u001b[1;36m22.72767149\u001b[0m\u001b[1;33m,\u001b[0m \u001b[1;36m0.0\u001b[0m\u001b[1;33m,\u001b[0m \u001b[1;36m4.515166667\u001b[0m\u001b[1;33m)\u001b[0m\u001b[1;33m,\u001b[0m \u001b[1;33m(\u001b[0m\u001b[1;36m11.3150628\u001b[0m\u001b[1;33m,\u001b[0m \u001b[1;36m16.3439796\u001b[0m\u001b[1;33m,\u001b[0m \u001b[1;36m3.143073\u001b[0m\u001b[1;33m,\u001b[0m \u001b[1;36m22.6301256\u001b[0m\u001b[1;33m,\u001b[0m \u001b[1;36m0.0\u001b[0m\u001b[1;33m,\u001b[0m \u001b[1;36m4.715708333\u001b[0m\u001b[1;33m)\u001b[0m\u001b[1;33m,\u001b[0m \u001b[1;33m(\u001b[0m\u001b[1;36m6.907754988\u001b[0m\u001b[1;33m,\u001b[0m \u001b[1;36m10.04764362\u001b[0m\u001b[1;33m,\u001b[0m \u001b[1;36m1.255955452\u001b[0m\u001b[1;33m,\u001b[0m \u001b[1;36m22.60719814\u001b[0m\u001b[1;33m,\u001b[0m \u001b[1;36m0.0\u001b[0m\u001b[1;33m,\u001b[0m \u001b[1;36m4.879333333\u001b[0m\u001b[1;33m)\u001b[0m\u001b[1;33m,\u001b[0m \u001b[1;33m(\u001b[0m\u001b[1;36m11.37769644\u001b[0m\u001b[1;33m,\u001b[0m \u001b[1;36m16.43445041\u001b[0m\u001b[1;33m,\u001b[0m \u001b[1;36m3.160471232\u001b[0m\u001b[1;33m,\u001b[0m \u001b[1;36m22.75539287\u001b[0m\u001b[1;33m,\u001b[0m \u001b[1;36m0.0\u001b[0m\u001b[1;33m,\u001b[0m \u001b[1;36m4.862833333\u001b[0m\u001b[1;33m)\u001b[0m\u001b[1;33m,\u001b[0m \u001b[1;33m(\u001b[0m\u001b[1;36m11.59165127\u001b[0m\u001b[1;33m,\u001b[0m \u001b[1;36m16.74349628\u001b[0m\u001b[1;33m,\u001b[0m \u001b[1;36m3.219903131\u001b[0m\u001b[1;33m,\u001b[0m \u001b[1;36m23.18330255\u001b[0m\u001b[1;33m,\u001b[0m \u001b[1;36m0.0\u001b[0m\u001b[1;33m,\u001b[0m \u001b[1;36m4.743208333\u001b[0m\u001b[1;33m)\u001b[0m\u001b[1;33m,\u001b[0m \u001b[1;33m(\u001b[0m\u001b[1;36m11.79351709\u001b[0m\u001b[1;33m,\u001b[0m \u001b[1;36m17.03508024\u001b[0m\u001b[1;33m,\u001b[0m \u001b[1;36m3.275976969\u001b[0m\u001b[1;33m,\u001b[0m \u001b[1;36m23.58703418\u001b[0m\u001b[1;33m,\u001b[0m \u001b[1;36m0.0\u001b[0m\u001b[1;33m,\u001b[0m \u001b[1;36m5.042958333\u001b[0m\u001b[1;33m)\u001b[0m\u001b[1;33m,\u001b[0m \u001b[1;33m(\u001b[0m\u001b[1;36m18.4701026\u001b[0m\u001b[1;33m,\u001b[0m \u001b[1;36m24.09143818\u001b[0m\u001b[1;33m,\u001b[0m \u001b[1;36m3.613715727\u001b[0m\u001b[1;33m,\u001b[0m \u001b[1;36m24.09143818\u001b[0m\u001b[1;33m,\u001b[0m \u001b[1;36m0.0\u001b[0m\u001b[1;33m,\u001b[0m \u001b[1;36m5.226291667\u001b[0m\u001b[1;33m)\u001b[0m\u001b[1;33m,\u001b[0m \u001b[1;33m(\u001b[0m\u001b[1;36m6.137132062\u001b[0m\u001b[1;33m,\u001b[0m \u001b[1;36m20.45710687\u001b[0m\u001b[1;33m,\u001b[0m \u001b[1;36m4.091421375\u001b[0m\u001b[1;33m,\u001b[0m \u001b[1;36m0.0\u001b[0m\u001b[1;33m,\u001b[0m \u001b[1;36m0.0\u001b[0m\u001b[1;33m,\u001b[0m \u001b[1;36m0.0\u001b[0m\u001b[1;33m)\u001b[0m\u001b[1;33m,\u001b[0m \u001b[1;33m(\u001b[0m\u001b[1;36m12.48373769\u001b[0m\u001b[1;33m,\u001b[0m \u001b[1;36m18.03206555\u001b[0m\u001b[1;33m,\u001b[0m \u001b[1;36m3.467704913\u001b[0m\u001b[1;33m,\u001b[0m \u001b[1;36m24.96747537\u001b[0m\u001b[1;33m,\u001b[0m \u001b[1;36m0.0\u001b[0m\u001b[1;33m,\u001b[0m \u001b[1;36m5.363333333\u001b[0m\u001b[1;33m)\u001b[0m\u001b[1;33m,\u001b[0m \u001b[1;33m(\u001b[0m\u001b[1;36m7.725628242\u001b[0m\u001b[1;33m,\u001b[0m \u001b[1;36m11.23727744\u001b[0m\u001b[1;33m,\u001b[0m \u001b[1;36m1.40465968\u001b[0m\u001b[1;33m,\u001b[0m \u001b[1;36m25.28387425\u001b[0m\u001b[1;33m,\u001b[0m \u001b[1;36m0.0\u001b[0m\u001b[1;33m,\u001b[0m \u001b[1;36m5.069083333\u001b[0m\u001b[1;33m)\u001b[0m\u001b[1;33m,\u001b[0m \u001b[1;33m(\u001b[0m\u001b[1;36m18.87581668\u001b[0m\u001b[1;33m,\u001b[0m \u001b[1;36m25.35557465\u001b[0m\u001b[1;33m,\u001b[0m \u001b[1;36m4.366793412\u001b[0m\u001b[1;33m,\u001b[0m \u001b[1;36m25.35557465\u001b[0m\u001b[1;33m,\u001b[0m \u001b[1;36m0.0\u001b[0m\u001b[1;33m,\u001b[0m \u001b[1;36m4.906375\u001b[0m\u001b[1;33m)\u001b[0m\u001b[1;33m,\u001b[0m \u001b[1;33m(\u001b[0m\u001b[1;36m7.800206156\u001b[0m\u001b[1;33m,\u001b[0m \u001b[1;36m11.34575441\u001b[0m\u001b[1;33m,\u001b[0m \u001b[1;36m1.418219301\u001b[0m\u001b[1;33m,\u001b[0m \u001b[1;36m25.52794742\u001b[0m\u001b[1;33m,\u001b[0m \u001b[1;36m0.0\u001b[0m\u001b[1;33m,\u001b[0m \u001b[1;36m5.109875\u001b[0m\u001b[1;33m)\u001b[0m\u001b[1;33m,\u001b[0m \u001b[1;33m(\u001b[0m\u001b[1;36m12.85359921\u001b[0m\u001b[1;33m,\u001b[0m \u001b[1;36m18.56630998\u001b[0m\u001b[1;33m,\u001b[0m \u001b[1;36m3.570444226\u001b[0m\u001b[1;33m,\u001b[0m \u001b[1;36m25.70719843\u001b[0m\u001b[1;33m,\u001b[0m \u001b[1;36m0.0\u001b[0m\u001b[1;33m,\u001b[0m \u001b[1;36m5.344541667\u001b[0m\u001b[1;33m)\u001b[0m\u001b[1;33m,\u001b[0m \u001b[1;33m(\u001b[0m\u001b[1;36m6.479689076\u001b[0m\u001b[1;33m,\u001b[0m \u001b[1;36m21.59896359\u001b[0m\u001b[1;33m,\u001b[0m \u001b[1;36m4.319792717\u001b[0m\u001b[1;33m,\u001b[0m \u001b[1;36m0.0\u001b[0m\u001b[1;33m,\u001b[0m \u001b[1;36m0.0\u001b[0m\u001b[1;33m,\u001b[0m \u001b[1;36m0.0\u001b[0m\u001b[1;33m)\u001b[0m\u001b[1;33m,\u001b[0m \u001b[1;33m(\u001b[0m\u001b[1;36m20.0377152\u001b[0m\u001b[1;33m,\u001b[0m \u001b[1;36m26.13615026\u001b[0m\u001b[1;33m,\u001b[0m \u001b[1;36m3.920422539\u001b[0m\u001b[1;33m,\u001b[0m \u001b[1;36m26.13615026\u001b[0m\u001b[1;33m,\u001b[0m \u001b[1;36m0.0\u001b[0m\u001b[1;33m,\u001b[0m \u001b[1;36m5.086958333\u001b[0m\u001b[1;33m)\u001b[0m\u001b[1;33m\u001b[0m\u001b[0m\n\u001b[1;32m----> 4\u001b[1;33m     ][EC.get_Annual_Days().index(day)]\n\u001b[0m",
      "\u001b[1;31mNameError\u001b[0m: name 'EC' is not defined"
     ]
    }
   ],
   "source": [
    "get_HW_Laods('1/1')"
   ]
  },
  {
   "cell_type": "code",
   "execution_count": null,
   "metadata": {},
   "outputs": [],
   "source": [
    "def get_theta_wtr(day):\n",
    "    return[\n",
    "        4.575742333, 4.739675333, 5.0352515, 5.246732167, 5.811272, 5.9805275, 5.856335833, 6.075977667, 6.6149695, 7.316829833, 7.500988333, 7.324991, 7.212863667, 7.168154667, 6.7065165, 6.490423, 6.543648, 6.3275545, 6.005720667, 5.664371, 5.5994365, 5.816239667, 6.094074167, 6.582324833, 6.890320167, 7.071285167, 7.109252333, 7.192638167, 7.218186167, 7.016286, 6.752999667, 6.387521333, 6.160073167, 5.7931755, 5.699144667, 5.7293055, 5.6665, 5.726466833, 5.9166575, 6.088751667, 6.315845, 6.755128667, 7.167445, 7.453440667, 7.469763, 7.759661833, 8.357910833, 8.472522, 8.2330095, 8.1308175, 8.059496, 7.608857667, 6.9385775, 6.374747333, 5.887916, 5.123605, 4.273779167, 4.009428333, 4.195006167, 4.4604215, 4.1964255, 4.276263, 4.387680667, 4.880899, 5.38973, 5.632081167, 5.898206167, 6.206556333, 6.3488445, 6.182072833, 6.4212305, 6.760806, 7.483956333, 7.957658833, 8.316395333, 8.599552333, 8.876322333, 8.9930625, 9.266284167, 9.9979505, 10.635586, 11.15364267, 11.04719267, 10.68419817, 11.15328783, 11.534024, 11.5840555, 11.534024, 11.44212217, 11.12915917, 10.82045417, 10.82684117, 11.32822067, 11.88318, 11.71427933, 12.04001633, 12.6357815, 13.26773967, 13.66373367, 14.257015, 15.040487, 15.06461567, 14.43088333, 13.94263267, 13.71412, 13.56792867, 13.27625567, 12.94377683, 13.01438867, 12.78232767, 12.74719917, 13.094581, 13.78260283, 14.43301233, 14.870167, 15.23670983, 15.61709117, 16.18730833, 16.686204, 17.084327, 16.92500683, 16.61949533, 16.471175, 16.38672467, 16.39098267, 16.40162767, 16.51659367, 16.63972083, 16.5552705, 16.59430217, 16.745816, 17.1045525, 17.65773767, 18.35392067, 18.47208017, 18.34292083, 18.16443967, 17.95792667, 17.70670467, 17.65135067, 18.10163417, 18.33546933, 17.94905583, 17.62544783, 17.8177675, 18.21518083, 18.6970445, 18.9610405, 19.37796967, 19.64303017, 19.47554883, 19.51280633, 20.06776567, 20.37292233, 20.80014167, 21.16313617, 21.36326217, 21.37887483, 21.29903733, 21.24616717, 21.65990283, 21.91857633, 21.93276967, 21.80361033, 21.661677, 21.521163, 21.51016317, 21.51335667, 21.6840315, 21.91964083, 22.01047817, 22.074703, 21.93064067, 21.96789817, 21.8990605, 21.9608015, 22.0012525, 22.47353567, 22.5931145, 22.50972867, 22.44053617, 22.53172833, 22.64775883, 22.8677555, 23.1423965, 23.05972033, 23.0763975, 23.02565633, 23.1104615, 23.44223067, 23.52490683, 23.68564633, 24.12244617, 24.403829, 24.61495483, 24.95772383, 25.10675383, 25.18162367, 25.3735885, 25.30510567, 25.3693305, 25.4736515, 25.54532783, 25.7184865, 26.02861083, 26.419992, 26.843663, 27.03243433, 26.97849967, 27.10375583, 27.284366, 27.3812355, 27.43907333, 27.15946467, 26.99020917, 26.7318905, 26.528571, 26.56228017, 26.7255035, 26.80392167, 26.8447275, 26.73366467, 26.47144283, 26.5487965, 26.45121733, 26.307155, 26.30147767, 26.30857433, 26.17231833, 26.14393167, 26.09496467, 26.00767567, 26.10454517, 26.08396483, 26.14748, 26.39408917, 26.34192867, 26.14393167, 26.1017065, 25.96793433, 25.8781615, 25.757873, 25.52013467, 25.34520183, 25.364008, 25.40268483, 25.65497133, 25.76177617, 25.5396505, 25.3565565, 25.05352883, 24.78633933, 24.620987, 24.6007615, 24.1919935, 23.584164, 22.83830433, 22.39902067, 22.281216, 22.23828117, 22.17724983, 21.92496333, 21.84831933, 21.65245133, 21.616968, 21.6180325, 21.69006367, 21.69822483, 21.759611, 21.50696967, 21.20536133, 21.26497333, 21.37922967, 21.348714, 21.13829783, 21.03965417, 21.074073, 20.984655, 20.85620533, 20.6663695, 20.543952, 20.37434167, 20.21644083, 20.02695983, 19.93754183, 19.49045183, 19.032362, 18.76020483, 18.29430867, 18.40998433, 18.48237033, 18.30672783, 17.4962885, 17.2450665, 17.06906917, 17.23796983, 17.0896495, 16.64859167, 16.29730667, 15.65541317, 15.434352, 15.21116183, 15.28816067, 14.7072985, 14.19243533, 13.66337883, 13.21238567, 13.15703167, 13.44409183, 13.81560233, 13.96463233, 14.21585433, 14.39078717, 14.67146033, 14.69842767, 14.63668667, 14.8712315, 14.946811, 14.73639483, 14.44933467, 14.01608317, 13.47851067, 13.090323, 13.03213033, 13.21309533, 13.00338883, 12.51939617, 12.29230283, 12.09785417, 11.9417275, 11.56844283, 11.08232117, 10.76510017, 10.38294467, 10.045853, 10.10901333, 10.186367, 9.966370333, 9.707342, 9.597343667, 9.7488575, 9.857791333, 9.781147333, 9.711245167, 10.02598233, 10.44681467, 10.910227, 11.182739, 11.33034967, 11.069902, 10.64445683, 10.81051883, 10.8495505, 10.597264, 9.868791167, 9.181479, 8.322782333, 7.544632833, 6.831417833, 6.292780833, 6.170718167, 5.877271, 5.572114333, 5.2119585, 4.841867333\n",
    "    ][EC.get_Annual_Days().index(day)]"
   ]
  },
  {
   "cell_type": "code",
   "execution_count": null,
   "metadata": {},
   "outputs": [],
   "source": [
    "get_theta_wtr('1/1')"
   ]
  },
  {
   "cell_type": "markdown",
   "metadata": {},
   "source": [
    "#### Example"
   ]
  },
  {
   "cell_type": "code",
   "execution_count": null,
   "metadata": {},
   "outputs": [],
   "source": [
    "spec = {  \n",
    "    'region'                             : 'Region6',  \n",
    "    'region_solar'                       : 'A5',  \n",
    "\n",
    "    'number of collector unit'           : 2,  \n",
    "    'azimuth of collector units'         : '1',  \n",
    "    'PV for fan'                         : False,  \n",
    "    'fan type'                           : 'AC',  \n",
    "    'PV for circulation pump'            : False,  \n",
    "    'tank size'                          : 300,  \n",
    "    'fan air flow rate'                  : 720.0,  \n",
    "\n",
    "    'area of collector unit'             : [15.0,   15.0], \n",
    "    'angle of collector units'           : ['4',    '4'],\n",
    "    'inclination of characteristic line' : [0.1,    0.468],  \n",
    "    'intercept of characteristic line'   : [2.0,    5.816],  \n",
    "    'mass flow rate'                     : [0.0107, 0.0107] \n",
    "}"
   ]
  }
 ],
 "metadata": {
  "kernelspec": {
   "display_name": "Python 3",
   "language": "python",
   "name": "python3"
  },
  "language_info": {
   "codemirror_mode": {
    "name": "ipython",
    "version": 3
   },
   "file_extension": ".py",
   "mimetype": "text/x-python",
   "name": "python",
   "nbconvert_exporter": "python",
   "pygments_lexer": "ipython3",
   "version": "3.6.4"
  }
 },
 "nbformat": 4,
 "nbformat_minor": 2
}
