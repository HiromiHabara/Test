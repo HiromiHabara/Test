{
 "cells": [
  {
   "cell_type": "code",
   "execution_count": 1,
   "metadata": {},
   "outputs": [
    {
     "name": "stdout",
     "output_type": "stream",
     "text": [
      "Importing Jupyter notebook from ..\\_03_HCLoad_and_Envelope\\Heating_Cooling_Floor_Area.ipynb\n"
     ]
    }
   ],
   "source": [
    "import math\n",
    "\n",
    "import sys\n",
    "sys.path.append('../')\n",
    "import nbimporter\n",
    "from _03_HCLoad_and_Envelope import Heating_Cooling_Floor_Area as HCFA\n",
    "#from _11_Others import External_Condition as EC\n",
    "#from _11_Others import Solar_Radiation as SR\n",
    "#import Loads_and_Water_Temp as LWT\n",
    "\n",
    "import matplotlib.pyplot as plt\n",
    "%matplotlib inline"
   ]
  },
  {
   "cell_type": "markdown",
   "metadata": {},
   "source": [
    "# 第九章　自然エネルギー利用設備"
   ]
  },
  {
   "cell_type": "markdown",
   "metadata": {},
   "source": [
    "## 第三節　空気集熱式太陽熱利用設備"
   ]
  },
  {
   "cell_type": "markdown",
   "metadata": {},
   "source": [
    "### 5. 暖房負荷削減量"
   ]
  },
  {
   "cell_type": "markdown",
   "metadata": {},
   "source": [
    "日付$d$の時刻$d$における暖冷房区画$i$の暖房負荷削減量 $\\Delta L'_{H,ass,d,t,i}$"
   ]
  },
  {
   "cell_type": "markdown",
   "metadata": {},
   "source": [
    "<p style=\"text-indent:2em\">集熱後の空気を暖冷房区画$i$へ直接供給する場合：</p>\n",
    "$$\n",
    "\\begin{align*}\n",
    "    \\Delta L'_{H,ass,d,t,i} = \\rho_{air} \\times C_{P_{air}} \\times V_{sa,d,t} \\times \\left( \\theta_{sa,d,t} - \\theta_{in,d,t} \\right) \\times 10^{-3}\n",
    "\\end{align*}\n",
    "$$\n",
    "\n",
    "<br/>\n",
    "\n",
    "<p style=\"text-indent:2em\">集熱後の空気を床下へ供給する場合：</p>\n",
    "$$\n",
    "\\begin{align*}\n",
    "    \\Delta L'_{H,ass,d,t,i} &= \\rho_{air} \\times C_{P_{air}} \\times V_{sa,d,t} \\times \\left( \\theta_{uf,d,t} - \\theta_{in,d,t} \\right) \\times 10^{-3} \\\\　\n",
    "    &- U_{s} \\times A_{s,ufvnt,i} \\times \\left( \\theta_{in,d,t} - \\theta_{uf,d,t} \\right) \\times 3.6 \\times 10^{-3} \\\\　\n",
    "    &+ U_{s,vert} \\times A_{s,ufvnt,i} \\times \\left( \\theta_{in,d,t} - \\theta_{ex,d,t} \\right) \\times H_{floor} \\times 3.6 \\times 10^{-3} \\\\　\n",
    "\\end{align*}\n",
    "$$\n",
    "\n",
    "<br/>\n",
    "\n",
    "$$ \n",
    "\\begin{equation*}\n",
    "   \\rho_{air} = 1.2\n",
    "\\end{equation*}\n",
    "$$\n",
    "\n",
    "$$ \n",
    "\\begin{equation*}\n",
    "   C_{P_{air}} = 1.006\n",
    "\\end{equation*}\n",
    "$$\n",
    "\n",
    "$$ \n",
    "\\begin{equation*}\n",
    "   U_{s} = 2.223\n",
    "\\end{equation*}\n",
    "$$\n",
    "\n",
    "$$ \n",
    "\\begin{equation*}\n",
    "   H_{floor} = 0.7\n",
    "\\end{equation*}\n",
    "$$\n",
    "\n",
    "$$ \n",
    "\\begin{equation*}\n",
    "   \\theta_{in,d,t} = \\theta_{prst,H}\n",
    "\\end{equation*}\n",
    "$$\n",
    "\n",
    "$$ \n",
    "\\begin{equation*}\n",
    "   \\theta_{prst,H} = 20\n",
    "\\end{equation*}\n",
    "$$"
   ]
  },
  {
   "cell_type": "markdown",
   "metadata": {},
   "source": [
    "$A_{s,ufvent,i}$ : 暖冷房区画$i$において集熱後の空気を供給する床下空間に接する床の面積((m<sup>2</sup>)  \n",
    "$C_{P_{air}}$ : 空気の比熱(kJ/(kg$\\cdot$K))  \n",
    "$H_{floor}$ : 床の温度差数(-)  \n",
    "$V_{sa,d,t}$ : 日付$d$の時刻$t$における1時間当たりの床下もしくは暖冷房区画$i$へ供給する空気の風量(m3/h)  \n",
    "$U_{s}$ : 床の熱貫流率(W/(m<sup>2</sup>$\\cdot$K))  \n",
    "$U_{s,vert}$ : 熱負荷計算時に想定した床の熱貫流率(W/(m<sup>2</sup>$\\cdot$K))  \n",
    "$\\Delta L'_{H,ass,d,t,i}$ : 日付$d$の時刻$d$における暖冷房区画$i$の暖房負荷削減量  \n",
    "$\\rho_{air}$ : 空気の密度(kg/m<sup>3</sup>)  \n",
    "$\\theta_{ex,d,t}$ : 日付$d$の時刻$t$における外気温度(℃)  \n",
    "$\\theta_{in,d,t}$ : 日付$d$の時刻$t$における室内温度\n",
    "$\\theta_{sa,d,t}$ : 日付$d$の時刻$t$において床下もしくは居室へ供給する空気の温度(℃)  \n",
    "$\\theta_{uf,d,t}$ : 日付$d$の時刻$d$における床下温度(℃)  \n",
    "$\\theta_{prst,H}$ : 暖房設定温度(℃)  "
   ]
  },
  {
   "cell_type": "code",
   "execution_count": 2,
   "metadata": {},
   "outputs": [],
   "source": [
    "def get_delta_L_dash_H_ass(spase_where_heated_air, V_sa, theta_sa, theta_uf, theta_ex, U_s_vert, A_s_ufvnt):\n",
    "    rho_air = 1.2    # kg/m3\n",
    "    Cp_air = 1.006  # kJ/(kg K)\n",
    "    U_s = 2.223     # W/m2K\n",
    "    H_floor = 0.7   # -\n",
    "    theta_in = 20   # degree C  preset temperature for heating\n",
    "    if spase_where_heated_air == 'room':\n",
    "        return rho_air * Cp_air * V_sa * (theta_sa - theta_in) * 10**(-3)\n",
    "    elif spase_where_heated_air == 'under_floor':\n",
    "        return rho_air * Cp_air * V_sa * (theta_uf - theta_in) * 10**(-3) \\\n",
    "                - U_s * A_s_ufvnt * (theta_in - theta_uf) * 3.6 * 10**(-3) \\\n",
    "                + U_s_vert * A_s_ufvnt * (theta_in - theta_ex) * H_floor * 3.6 * 10**(-3)\n",
    "    else:\n",
    "        raise Exception"
   ]
  },
  {
   "cell_type": "markdown",
   "metadata": {},
   "source": [
    "#### Example"
   ]
  },
  {
   "cell_type": "code",
   "execution_count": 3,
   "metadata": {},
   "outputs": [
    {
     "data": {
      "text/plain": [
       "[12.402931273365846,\n",
       " 10.797109462032365,\n",
       " 9.291878752842793,\n",
       " 9.291878752842793,\n",
       " 9.291878752842793,\n",
       " 9.689357201031289,\n",
       " 9.49121839755364,\n",
       " 9.689357201031289,\n",
       " 10.583983919763702,\n",
       " 9.291878752842793,\n",
       " 9.291878752842793,\n",
       " 9.291878752842793]"
      ]
     },
     "execution_count": 3,
     "metadata": {},
     "output_type": "execute_result"
    }
   ],
   "source": [
    "[get_delta_L_dash_H_ass(spase_where_heated_air = 'under_floor', V_sa = 720, theta_sa = 30.697645043576752, theta_uf = 30.690347213987824, theta_ex = 7.0, U_s_vert = 0.554, \n",
    "                       A_s_ufvnt = [30.0, 14.51499805220101, 0.0, 0.0, 0.0, 3.8329000770613924, 1.9222399178011813, 3.8329000770613924, 12.459820190084768, 0.0, 0.0, 0.0][i])\n",
    "                        for i in range(0,12,1)]"
   ]
  },
  {
   "cell_type": "markdown",
   "metadata": {},
   "source": [
    "### 6. 給湯部における補正集熱量"
   ]
  },
  {
   "cell_type": "markdown",
   "metadata": {},
   "source": [
    "日付$d$における1日当たりの給湯部における補正集熱量 $L_{sun,ass,d}$"
   ]
  },
  {
   "cell_type": "markdown",
   "metadata": {},
   "source": [
    "$$\n",
    "\\begin{equation*}\n",
    "    L_{sun,ass,d} = min \\left( L_{tunk,d} , \\: \\left( L'_{k,d} + L'_{s,d} + L'_{w,d} + L'_{b1,d} + L'_{b2,d} + L'_{ba1,d} \\right) \\times f_{sr,uplim} \\right)\n",
    "\\end{equation*}\n",
    "$$\n",
    "\n",
    "$$\n",
    "\\begin{equation*}\n",
    "    f_{sr,uplim} = 0.9\n",
    "\\end{equation*}\n",
    "$$"
   ]
  },
  {
   "cell_type": "markdown",
   "metadata": {},
   "source": [
    "$f_{sr,uplim}$ : 給湯部の分担率上限値(-)   \n",
    "$L_{sun,ass,d}$ : 日付$d$における1日当たりの給湯部における補正集熱量(MJ/日)  \n",
    "$L_{tnk,d}$ : 日付$d$における1日当たりの給湯部におけるタンク蓄熱量の上限による補正集熱量(MJ/日)  \n",
    "$L'_{k,d}$ : 日付$d$における1日当たりの台所水栓における節湯補正給湯熱負荷(MJ/日)  \n",
    "$L'_{s,d}$ : 日付$d$における1日当たりの浴室シャワー水栓における節湯補正給湯熱負荷(MJ/日)  \n",
    "$L'_{w,d}$ : 日付$d$における1日当たりの洗面水栓における節湯補正給湯熱負荷(MJ/日)  \n",
    "$L'_{b1,d}$ : 日付$d$における1日当たりの浴槽水栓湯はり時における節湯補正給湯熱負荷(MJ/日)  \n",
    "$L'_{b2,d}$ : 日付$d$における1日当たりの浴槽自動湯はり時における節湯補正給湯熱負荷(MJ/日)  \n",
    "$L'_{ba1,d}$ : 日付$d$における1日当たりの浴槽水栓さし湯時における節湯補正給湯熱負荷(MJ/日)"
   ]
  },
  {
   "cell_type": "code",
   "execution_count": 4,
   "metadata": {},
   "outputs": [],
   "source": [
    "def get_L_sun_ass(L_tnk, L_dash_s):\n",
    "    f_sr_uplim = 0.9 # -\n",
    "    return min(L_tnk, sum(L_dash_s) * f_sr_uplim)"
   ]
  },
  {
   "cell_type": "markdown",
   "metadata": {},
   "source": [
    "#### Example"
   ]
  },
  {
   "cell_type": "code",
   "execution_count": 5,
   "metadata": {},
   "outputs": [
    {
     "data": {
      "text/plain": [
       "0"
      ]
     },
     "execution_count": 5,
     "metadata": {},
     "output_type": "execute_result"
    }
   ],
   "source": [
    "get_L_sun_ass(L_tnk = 0, L_dash_s = [13.09808925, 18.91946225, 3.638358126, 26.1961785, 0.0, 4.8445])"
   ]
  },
  {
   "cell_type": "markdown",
   "metadata": {},
   "source": [
    "### 7. 補機の消費電力量"
   ]
  },
  {
   "cell_type": "markdown",
   "metadata": {},
   "source": [
    "日付$d$における1日当たりの補機の消費電力量のうち暖房設備への付加分 $E_{E,ass,aux,H,d}$ および    \n",
    "日付$d$における1日当たりの補機の消費電力量のうち給湯設備への付加分 $E_{E,ass,aux,W,d}$"
   ]
  },
  {
   "cell_type": "markdown",
   "metadata": {},
   "source": [
    "$$\n",
    "\\begin{equation*}\n",
    "    E_{E,ass,aux,H,d} = \\sum_{t=0}^{23} E_{E,ass,aux,H,d,t}\n",
    "\\end{equation*}\n",
    "$$\n",
    "\n",
    "$$\n",
    "\\begin{equation*}\n",
    "    E_{E,ass,aux,W,d} = \\sum_{t=0}^{23} E_{E,ass,aux,W,d,t}\n",
    "\\end{equation*}\n",
    "$$"
   ]
  },
  {
   "cell_type": "markdown",
   "metadata": {},
   "source": [
    "$E_{E,ass,aux,H,d}$ : 日付$d$における1日当たりの補機の消費電力量のうち暖房設備への付加分(kWh/日)   \n",
    "$E_{E,ass,aux,W,d}$ : 日付$d$における1日当たりの補機の消費電力量のうち給湯設備への付加分(kWh/日)   \n",
    "$E_{E,ass,aux,H,d,t}$ : 日付$d$の時刻$t$における1時間当たりの補機の消費電力量のうち暖房設備への付加分(kWh/h)   \n",
    "$E_{E,ass,aux,W,d,t}$ : 日付$d$の時刻$t$における1時間当たりの補機の消費電力量のうち給湯設備への付加分(kWh/h)   "
   ]
  },
  {
   "cell_type": "markdown",
   "metadata": {},
   "source": [
    "日付$d$の時刻$t$における1時間当たりの補機の消費電力量のうち暖房設備への付加分 $E_{E,ass,aux,H,d,t}$ および    \n",
    "日付$d$の時刻$t$における1時間当たりの補機の消費電力量のうち給湯設備への付加分 $E_{E,ass,aux,W,d,t}$"
   ]
  },
  {
   "cell_type": "markdown",
   "metadata": {},
   "source": [
    "<p style=\"text-indent:2em\">空気集熱式太陽熱利用設備が給湯部を有さない場合：</p>\n",
    "$$\n",
    "\\begin{equation*}\n",
    "    E_{E,ass,aux,H,d,t} = E_{E,fan,d,t}\n",
    "\\end{equation*}\n",
    "$$\n",
    "\n",
    "$$\n",
    "\\begin{equation*}\n",
    "    E_{E,ass,aux,W,d,t} = 0\n",
    "\\end{equation*}\n",
    "$$  \n",
    "\n",
    "<br/>\n",
    "<br/>\n",
    "  \n",
    "<p style=\"text-indent:2em\">空気集熱式太陽熱利用設備が給湯部を有する場合：</p>\n",
    "<p style=\"text-indent:4em\">$V_{sa,d,t} = 0$（床下もしくは居室へ空気を供給しない場合 = 集熱した熱を暖房に利用しない場合）：</p> \n",
    "$$\n",
    "\\begin{equation*}\n",
    "    E_{E,ass,aux,H,d,t} = 0\n",
    "\\end{equation*}\n",
    "$$\n",
    "\n",
    "$$\n",
    "\\begin{equation*}\n",
    "    E_{E,ass,aux,W,d,t} = E_{E,fan,d,t} + E_{E,cp,d,t}\n",
    "\\end{equation*}\n",
    "$$\n",
    "\n",
    "<br/>\n",
    "\n",
    "<p style=\"text-indent:4em\">$0 < V_{sa,d,t}$（床下もしくは居室へ空気を供給する場合 = 集熱した熱を暖房に利用する場合）：</p> \n",
    "$$\n",
    "\\begin{equation*}\n",
    "    E_{E,ass,aux,H,d,t} = E_{E,fan,d,t} \\times \\left(1 - f_{hx} \\right) + E_{E,cp,d,t}\n",
    "\\end{equation*}\n",
    "$$\n",
    "\n",
    "$$\n",
    "\\begin{equation*}\n",
    "    E_{E,ass,aux,W,d,t} = E_{E,fan,d,t} \\times f_{hx} + E_{E,cp,d,t}\n",
    "\\end{equation*}\n",
    "$$"
   ]
  },
  {
   "cell_type": "markdown",
   "metadata": {},
   "source": [
    "$E_{E,ass,aux,H,d,t}$ : 日付$d$の時刻$t$における1時間当たりの補機の消費電力量のうち暖房設備への付加分(kWh/h)   \n",
    "$E_{E,ass,aux,W,d,t}$ : 日付$d$の時刻$t$における1時間当たりの補機の消費電力量のうち給湯設備への付加分(kWh/h)   \n",
    "$E_{E,cp,d,t}$ : 日付$d$の時刻$t$における1時間当たりの循環ポンプの消費電力量(kWh/h)   \n",
    "$E_{E,fan,d,t}$ : 日付$d$の時刻$t$における1時間当たりの空気搬送ファンの消費電力量(kWh/h)   \n",
    "$f_{hx}$ : 給湯部の熱交換効率(-)  \n",
    "$V_{sa,d,t}$ : 日付$d$の時刻$t$における1時間当たりの床下もしくは居室へ供給する空気の風量(m3/h)  "
   ]
  },
  {
   "cell_type": "code",
   "execution_count": 6,
   "metadata": {},
   "outputs": [],
   "source": [
    "def get_E_E_ass_aux_W(water_heating_unit, E_E_fan, E_E_cp, V_sa):    \n",
    "    if water_heating_unit is False:\n",
    "        return (0, 0)\n",
    "    elif water_heating_unit is True:\n",
    "        if V_sa == 0:\n",
    "            return (0, E_E_fan + E_E_cp)\n",
    "        elif 0 < V_sa:\n",
    "            f_hx = 0.25\n",
    "            return (E_E_fan * (1-f_hx) + E_E_cp, E_E_fan * f_hx + E_E_cp)\n",
    "        else:\n",
    "            raise Exception\n",
    "    else:\n",
    "        raise Exception"
   ]
  },
  {
   "cell_type": "markdown",
   "metadata": {},
   "source": [
    "#### Example"
   ]
  },
  {
   "cell_type": "code",
   "execution_count": 7,
   "metadata": {
    "scrolled": true
   },
   "outputs": [
    {
     "data": {
      "text/plain": [
       "(0.21600000000000003, 0.07200000000000001)"
      ]
     },
     "execution_count": 7,
     "metadata": {},
     "output_type": "execute_result"
    }
   ],
   "source": [
    "get_E_E_ass_aux_W(water_heating_unit = True, E_E_fan = 0.28800000000000003, E_E_cp = 0, V_sa = 720)"
   ]
  },
  {
   "cell_type": "markdown",
   "metadata": {},
   "source": [
    "### 8. 空気搬送部"
   ]
  },
  {
   "cell_type": "markdown",
   "metadata": {},
   "source": [
    "#### 8.1　空気搬送ファンの稼働時間"
   ]
  },
  {
   "cell_type": "markdown",
   "metadata": {},
   "source": [
    "日付$d$の時刻$t$における1時間当たりの空気搬送ファンの稼働時間 $t_{fan,d,t}$  "
   ]
  },
  {
   "cell_type": "markdown",
   "metadata": {},
   "source": [
    "<p style=\"text-indent:2em\">$30 \\leq \\theta_{col,nonopg,d,t}$ かつ $25 < \\theta_{col,opg,d,t}$の場合：</p> \n",
    "$$ \n",
    "\\begin{equation*}\n",
    "   t_{fan,d,t} = 1\n",
    "\\end{equation*}\n",
    "$$\n",
    "\n",
    "<br/>\n",
    "\n",
    "<p style=\"text-indent:2em\">$\\theta_{col,nonopg,d,t} < 30$ または $\\theta_{col,opg,d,t} \\leq 25$の場合：</p> \n",
    "$$ \n",
    "\\begin{equation*}\n",
    "   t_{fan,d,t} = 0\n",
    "\\end{equation*}\n",
    "$$"
   ]
  },
  {
   "cell_type": "markdown",
   "metadata": {},
   "source": [
    "$t_{fan,d,t}$ : 日付$d$の時刻$t$における1時間当たりの空気搬送ファンの稼働時間(h/h)  \n",
    "$\\theta_{col,opg,d,t}$ : 日付$d$の時刻$t$における空気搬送ファン稼働時の集熱部の出口における空気温度(℃)  \n",
    "$\\theta_{col,nonopg,d,t}$ : 日付$d$の時刻$t$における空気搬送ファン停止時の集熱部の出口における空気温度(℃)  "
   ]
  },
  {
   "cell_type": "code",
   "execution_count": 8,
   "metadata": {},
   "outputs": [],
   "source": [
    "def get_t_fan(theta_col_opg, theta_col_nonopg):\n",
    "    if 30 <= theta_col_nonopg and 25 < theta_col_opg:\n",
    "        return 1\n",
    "    elif theta_col_nonopg < 30 or theta_col_opg <= 25:\n",
    "        return 0\n",
    "    else:\n",
    "        raise Exception"
   ]
  },
  {
   "cell_type": "markdown",
   "metadata": {},
   "source": [
    "#### 8.2　空気搬送ファンの風量"
   ]
  },
  {
   "cell_type": "markdown",
   "metadata": {},
   "source": [
    "日付$d$の時刻$t$における1時間当たりの空気搬送ファンの風量 $V_{fan,d,t}$"
   ]
  },
  {
   "cell_type": "markdown",
   "metadata": {},
   "source": [
    "$$ \n",
    "\\begin{equation*}\n",
    "   V_{fan,d,t} = V_{fan,P0} \\times t_{fan,d,t}\n",
    "\\end{equation*}\n",
    "$$"
   ]
  },
  {
   "cell_type": "markdown",
   "metadata": {},
   "source": [
    "$t_{fan,d,t}$ : 日付$d$の時刻$t$における1時間当たりの空気搬送ファンの稼働時間(h/h)  \n",
    "$V_{fan,d,t}$ : 日付$d$の時刻$t$における1時間当たりの空気搬送ファンの風量(m<sup>3</sup>/h)  \n",
    "$V_{fan,P0}$ : 空気搬送ファンの送風機特性曲線において機外静圧をゼロとした時の空気搬送ファンの風量(m<sup>3</sup>/h)  "
   ]
  },
  {
   "cell_type": "code",
   "execution_count": 9,
   "metadata": {},
   "outputs": [],
   "source": [
    "def get_V_fan(t_fan, V_fan_P0):\n",
    "    return V_fan_P0 * t_fan"
   ]
  },
  {
   "cell_type": "markdown",
   "metadata": {},
   "source": [
    "#### 8.3　空気搬送ファンの消費電力量"
   ]
  },
  {
   "cell_type": "markdown",
   "metadata": {},
   "source": [
    "日付$d$における1日当たりの空気搬送ファンの消費電力量 $E_{E,fan,d,t}$"
   ]
  },
  {
   "cell_type": "markdown",
   "metadata": {},
   "source": [
    "<p style=\"text-indent:2em\">空気搬送ファンの自立運転用太陽光発電装置を採用する場合：</p>  \n",
    "$$ \n",
    "\\begin{equation*}\n",
    "    E_{E,fan,d,t} =0\n",
    "\\end{equation*}\n",
    "$$\n",
    "\n",
    "<p style=\"text-indent:2em\">空気搬送ファンの自立運転用太陽光発電装置を採用しない場合：</p>  \n",
    "$$ \n",
    "\\begin{equation*}\n",
    "    E_{E,fan,d,t} =f_{SFP} \\times V_{fan,d,t} \\times t_{fan,d,t} \\times 10^{-3}\n",
    "\\end{equation*}\n",
    "$$"
   ]
  },
  {
   "cell_type": "markdown",
   "metadata": {},
   "source": [
    "$E_{E,fan,d,t}$ : 日付$d$の時刻$t$における1時間当たりの空気搬送ファンの消費電力量(kWh/h)  \n",
    "$f_{SFP}$ : 空気搬送ファンの比消費電力(W/(m<sup>3</sup>/h))  \n",
    "$t_{fan,d,t}$ : 日付$d$の時刻$t$における1時間当たりの空気搬送ファンの稼働時間(h/h)  \n",
    "$V_{fan,d,t}$ : 日付$d$の時刻$t$における1時間当たりの空気搬送ファンの風量(m<sup>3</sup>/h)  "
   ]
  },
  {
   "cell_type": "markdown",
   "metadata": {},
   "source": [
    "<table>\n",
    "    <caption>表3 空気搬送ファンの比消費電力$f_{SFP}$</caption>\n",
    "    <thead style=\"background-color:lightgrey\" >\n",
    "        <tr>\n",
    "            <th style=\"text-align:center; text-align:center; border:1px solid black;\">ファンの種別</th>\n",
    "            <th style=\"text-align:center; text-align:center; border:1px solid black;\">ファンの比消費電力$f_{SFP}$<br/>(W/(m<sup>3</sup>/h))</th>\n",
    "        </tr>\n",
    "    </thead>\n",
    "    <tbody>    \n",
    "        <tr>\n",
    "            <td style=\"border:1px solid black; text-align:center;\">ACファン</td>\n",
    "            <td style=\"border:1px solid black; text-align:center;\">0.4</td>\n",
    "        </tr>\n",
    "        <tr>\n",
    "            <td style=\"border:1px solid black; text-align:center;\">DCファン</td>\n",
    "            <td style=\"border:1px solid black; text-align:center;\">0.2</td>\n",
    "        </tr>\n",
    "    </tbody> \n",
    "<table>"
   ]
  },
  {
   "cell_type": "code",
   "execution_count": 10,
   "metadata": {},
   "outputs": [],
   "source": [
    "def get_f_SFP(Fan_Type):\n",
    "    return {'AC' : 0.4, 'DC' : 0.2}[Fan_Type]"
   ]
  },
  {
   "cell_type": "code",
   "execution_count": 11,
   "metadata": {},
   "outputs": [],
   "source": [
    "def get_E_E_fan(t_fan, V_fan, PV_for_Fan, Fan_Type):\n",
    "    if PV_for_Fan is True:\n",
    "        return 0\n",
    "    elif PV_for_Fan is False:\n",
    "        f_SFP = get_f_SFP(Fan_Type)  # W/(m3/h)\n",
    "        return f_SFP * V_fan * t_fan * 10**(-3)\n",
    "    else:\n",
    "        raise Exeption"
   ]
  },
  {
   "cell_type": "markdown",
   "metadata": {},
   "source": [
    "#### 8.4　床下もしくは居室へ供給する空気の風量"
   ]
  },
  {
   "cell_type": "markdown",
   "metadata": {},
   "source": [
    "日付$d$の時刻$t$における1時間当たりの床下もしくは居室へ供給する空気の風量 $V_{sa,d,t}$"
   ]
  },
  {
   "cell_type": "markdown",
   "metadata": {},
   "source": [
    "<p style=\"text-indent:2em\">$t_{fan,d,t} = 0$（集熱なし）、または、$0 < t_{fan,d,t}$ かつ $\\displaystyle \\sum_{i=0}^{12} L'_{H,24h,d,t,i} = 0$（集熱あり＋暖房日ではない）の場合：</p> \n",
    "$$ \n",
    "\\begin{equation*}\n",
    "   V_{sa,d,t} = 0\n",
    "\\end{equation*}\n",
    "$$\n",
    "\n",
    "<br/>\n",
    "\n",
    "<p style=\"text-indent:2em\">$0 < t_{fan,d,t}$ かつ $0 < \\displaystyle \\sum_{i=0}^{12} L'_{H,24h,d,t,i}$（集熱あり＋暖房日である）の場合：</p> \n",
    "$$ \n",
    "\\begin{equation*}\n",
    "   V_{sa,d,t} = V_{fan,d,t}\n",
    "\\end{equation*}\n",
    "$$"
   ]
  },
  {
   "cell_type": "markdown",
   "metadata": {},
   "source": [
    "$L'_{H,24h,d,t,i}$ : 日付$d$の時刻$t$における暖冷房区画$i$の負荷補正前の暖房負荷を当該時刻を含む前24時間で積算した値(MJ/h)  \n",
    "$t_{fan,d,t}$ : 日付$d$の時刻$t$における1時間当たりの空気搬送ファンの稼働時間(h/h)  \n",
    "$V_{sa,d,t}$ : 日付$d$の時刻$t$における1時間当たりの床下もしくは居室へ供給する空気の風量(m3/h)  "
   ]
  },
  {
   "cell_type": "code",
   "execution_count": 12,
   "metadata": {},
   "outputs": [],
   "source": [
    "def get_V_sa(t_fan, V_fan, L_dash_H_24h_s):\n",
    "    if t_fan == 0 or (0 < t_fan and sum(L_dash_H_24h_s) == 0):\n",
    "        return 0\n",
    "    elif 0 < t_fan and 0 < sum(L_dash_H_24h_s):\n",
    "        return V_fan\n",
    "    else:\n",
    "        raise Exception"
   ]
  },
  {
   "cell_type": "markdown",
   "metadata": {},
   "source": [
    "#### 8.5　床下もしくは居室へ供給する空気の温度"
   ]
  },
  {
   "cell_type": "markdown",
   "metadata": {},
   "source": [
    "日付$d$の時刻$t$において床下もしくは居室へ供給する空気の温度 $\\theta_{sa,d,t}$"
   ]
  },
  {
   "cell_type": "markdown",
   "metadata": {},
   "source": [
    "<p style=\"text-indent:2em\">$t_{cp,d,t} = 0$（集熱した熱を給湯に利用しない） の場合：</p> \n",
    "\n",
    "$$\n",
    "    \\theta_{sa,d,t} = \\theta_{col,opg,d,t}  \n",
    "$$\n",
    "\n",
    "<p style=\"text-indent:2em\">$0 < t_{cp,d,t}$（集熱した熱を給湯に利用する） の場合：</p> \n",
    "\n",
    "$$\n",
    "    \\theta_{sa,d,t} = \\theta_{ex,d,t} + \\left( \\theta_{col,opg,d,t} - \\theta_{ex,d,t} \\right) \\times f_{hx} \\times f_{s}\n",
    "$$\n",
    "\n",
    "$$\n",
    "\\begin{equation*}\n",
    "    f_{hx} = 0.25\n",
    "\\end{equation*}\n",
    "$$\n",
    "\n",
    "$$\n",
    "\\begin{equation*}\n",
    "    f_{s} = 0.85\n",
    "\\end{equation*}\n",
    "$$"
   ]
  },
  {
   "cell_type": "markdown",
   "metadata": {},
   "source": [
    "$f_{hx}$ : 給湯部の熱交換効率(-)  \n",
    "$f_{s}$ : 給湯部のシステム効率(-)  \n",
    "$t_{cp,d,t}$ : 日付$d$の時刻$t$における1時間当たりの循環ポンプの稼働時間(h/h)  \n",
    "$\\theta_{col,opg,d,t}$ : 日付$d$の時刻$t$における空気搬送ファン稼働時の集熱部の出口における空気温度(℃)  \n",
    "$\\theta_{ex,d,t}$ : 日付$d$の時刻$t$における外気温度(℃)  \n",
    "$\\theta_{sa,d,t}$ : 日付$d$の時刻$t$において床下もしくは居室へ供給する空気の温度(℃)  "
   ]
  },
  {
   "cell_type": "code",
   "execution_count": 13,
   "metadata": {},
   "outputs": [],
   "source": [
    "def get_theta_sa(theta_col_opg, theta_ex, t_cp):\n",
    "    if t_cp == 0:\n",
    "        return theta_col_opg\n",
    "    else:\n",
    "        f_hs = 0.25  # -\n",
    "        f_s = 0.85  # -\n",
    "        return theta_ex + (theta_col_opg - theta_ex) * f_hs * f_s"
   ]
  },
  {
   "cell_type": "markdown",
   "metadata": {},
   "source": [
    "#### Example"
   ]
  },
  {
   "cell_type": "code",
   "execution_count": 14,
   "metadata": {
    "scrolled": true
   },
   "outputs": [
    {
     "data": {
      "text/plain": [
       "1"
      ]
     },
     "execution_count": 14,
     "metadata": {},
     "output_type": "execute_result"
    }
   ],
   "source": [
    "_t_fan = get_t_fan(theta_col_opg = 30.697645043576752, theta_col_nonopg = 55.28600386615259)\n",
    "_t_fan"
   ]
  },
  {
   "cell_type": "code",
   "execution_count": 15,
   "metadata": {
    "scrolled": false
   },
   "outputs": [
    {
     "data": {
      "text/plain": [
       "720"
      ]
     },
     "execution_count": 15,
     "metadata": {},
     "output_type": "execute_result"
    }
   ],
   "source": [
    "_V_fan = get_V_fan(t_fan = _t_fan, V_fan_P0 = 720)\n",
    "_V_fan"
   ]
  },
  {
   "cell_type": "code",
   "execution_count": 16,
   "metadata": {},
   "outputs": [
    {
     "data": {
      "text/plain": [
       "0.28800000000000003"
      ]
     },
     "execution_count": 16,
     "metadata": {},
     "output_type": "execute_result"
    }
   ],
   "source": [
    "_E_E_fan = get_E_E_fan(t_fan = _t_fan, V_fan = _V_fan, PV_for_Fan = False, Fan_Type = 'AC')\n",
    "_E_E_fan"
   ]
  },
  {
   "cell_type": "code",
   "execution_count": 17,
   "metadata": {
    "scrolled": true
   },
   "outputs": [
    {
     "data": {
      "text/plain": [
       "720"
      ]
     },
     "execution_count": 17,
     "metadata": {},
     "output_type": "execute_result"
    }
   ],
   "source": [
    "get_V_sa(t_fan = _t_fan, V_fan = _V_fan, L_dash_H_24h_s = [74.55079, 0.0, 0.0, 6.05202, 5.92518, 0.0, 0.0, 0.0, 0.0, 0.0, 0.0, 0.0])"
   ]
  },
  {
   "cell_type": "code",
   "execution_count": 18,
   "metadata": {},
   "outputs": [
    {
     "data": {
      "text/plain": [
       "30.697645043576752"
      ]
     },
     "execution_count": 18,
     "metadata": {},
     "output_type": "execute_result"
    }
   ],
   "source": [
    "_theta_sa = get_theta_sa(theta_col_opg = 30.697645043576752, theta_ex = 7.0, t_cp = 0)\n",
    "_theta_sa"
   ]
  },
  {
   "cell_type": "markdown",
   "metadata": {},
   "source": [
    "### 9. 給湯部"
   ]
  },
  {
   "cell_type": "markdown",
   "metadata": {},
   "source": [
    "#### 9.1　循環ポンプの稼働時間"
   ]
  },
  {
   "cell_type": "markdown",
   "metadata": {},
   "source": [
    "日付$d$の時刻$t$における1時間当たりの循環ポンプの稼働時間 $t_{cp,d,t}$"
   ]
  },
  {
   "cell_type": "markdown",
   "metadata": {},
   "source": [
    "<p style=\"text-indent:2em\">空気集熱式太陽熱利用設備が給湯部を有さない場合：</p>\n",
    "$$ \n",
    "\\begin{equation*}\n",
    "   t_{cp,d,t} = 0\n",
    "\\end{equation*}\n",
    "$$\n",
    "\n",
    "<br/>\n",
    "<br/>\n",
    "\n",
    "<p style=\"text-indent:2em\">空気集熱式太陽熱利用設備が給湯部を有する場合：</p>\n",
    "<p style=\"text-indent:4em\">$t_{fan,d,t} = 0$（集熱なし）、または、$0 < t_{fan,d,t}$ かつ $0 <\\displaystyle \\sum_{i=0}^{12} L'_{H,d,t,i}$（集熱あり＋暖房負荷あり）の場合：</p> \n",
    "$$ \n",
    "\\begin{equation*}\n",
    "   t_{cp,d,t} = 0\n",
    "\\end{equation*}\n",
    "$$\n",
    "\n",
    "<br/>\n",
    "\n",
    "<p style=\"text-indent:4em\">$0 < t_{fan,d,t}$ かつ $\\displaystyle \\sum_{i=0}^{12} L'_{H,d,t,i} = 0$（集熱あり＋暖房負荷なし）の場合：</p> \n",
    "$$ \n",
    "\\begin{equation*}\n",
    "   t_{cp,d,t} = 1\n",
    "\\end{equation*}\n",
    "$$"
   ]
  },
  {
   "cell_type": "markdown",
   "metadata": {},
   "source": [
    "$L'_{H,d,t,i}$ : 日付$d$の時刻$t$における暖冷房区画$i$の負荷補正前の暖房負荷(MJ/h)  \n",
    "$t_{cp,d,t}$ : 日付$d$の時刻$t$における1時間当たりの循環ポンプの稼働時間(h/h)  \n",
    "$t_{fan,d,t}$ : 日付$d$の時刻$t$における1時間当たりの空気搬送ファンの稼働時間(h/h)  "
   ]
  },
  {
   "cell_type": "code",
   "execution_count": 19,
   "metadata": {},
   "outputs": [],
   "source": [
    "def get_t_cp(water_heating_unit, t_fan, L_dash_H_s):\n",
    "    if water_heating_unit is False:\n",
    "        return 0\n",
    "    elif water_heating_unit is True:\n",
    "        if t_fan == 0 or (0 < t_fan and 0 < sum(L_dash_H_s)):\n",
    "            return 0\n",
    "        elif 0 < t_fan and sum(L_dash_H_s) == 0:\n",
    "            return 1\n",
    "        else:\n",
    "            raise Exception\n",
    "    else:\n",
    "        raise Exception"
   ]
  },
  {
   "cell_type": "markdown",
   "metadata": {},
   "source": [
    "#### 9.2　循環ポンプの消費電力量"
   ]
  },
  {
   "cell_type": "markdown",
   "metadata": {},
   "source": [
    "日付$d$の時刻$t$における1時間当たりの循環ポンプの消費電力量 $E_{E,cp,d,t}$"
   ]
  },
  {
   "cell_type": "markdown",
   "metadata": {},
   "source": [
    "$$\n",
    "\\begin{equation*}\n",
    "    E_{E,cp,d,t} = P_{cp} \\times t_{cp,d,t} \\times 10^{-3}\n",
    "\\end{equation*}\n",
    "$$"
   ]
  },
  {
   "cell_type": "markdown",
   "metadata": {},
   "source": [
    "$E_{E,cp,d,t}$ : 日付$d$の時刻$t$における1時間当たりの循環ポンプの消費電力量(kWh/h)   \n",
    "$P_{cp}$ : 循環ポンプの消費電力(W)   \n",
    "$t_{cp,d,t}$ : 日付$d$の時刻$t$における1時間当たりの循環ポンプの稼働時間(h/h)  "
   ]
  },
  {
   "cell_type": "markdown",
   "metadata": {},
   "source": [
    "<table>\n",
    "    <caption>表4 循環ポンプの消費電力$P_{cp}$</caption>\n",
    "    <thead style=\"background-color:lightgrey\" >\n",
    "        <tr>\n",
    "            <th style=\"text-align:center; text-align:center; border:1px solid black;\">循環ポンプの自立運転用太陽光発電装置の採用の有無</th>\n",
    "            <th style=\"text-align:center; text-align:center; border:1px solid black;\">循環ポンプの消費電力$P_{cp}$<br/>(W)</th>\n",
    "        </tr>\n",
    "    </thead>\n",
    "    <tbody>    \n",
    "        <tr>\n",
    "            <td style=\"border:1px solid black; text-align:center;\">採用しない</td>\n",
    "            <td style=\"border:1px solid black; text-align:center;\">80</td>\n",
    "        </tr>\n",
    "        <tr>\n",
    "            <td style=\"border:1px solid black; text-align:center;\">採用する</td>\n",
    "            <td style=\"border:1px solid black; text-align:center;\">0</td>\n",
    "        </tr>\n",
    "    </tbody> \n",
    "<table>"
   ]
  },
  {
   "cell_type": "code",
   "execution_count": 20,
   "metadata": {},
   "outputs": [],
   "source": [
    "def get_P_cp(PV_for_Pump):\n",
    "    return {False : 80, True : 0}[PV_for_Pump]"
   ]
  },
  {
   "cell_type": "code",
   "execution_count": 21,
   "metadata": {},
   "outputs": [],
   "source": [
    "def get_E_E_pump(t_cp, PV_for_Pump):\n",
    "    P_cp = get_P_cp(PV_for_Pump)  # W\n",
    "    return P_cp * t_cp * 10**(-3)"
   ]
  },
  {
   "cell_type": "markdown",
   "metadata": {},
   "source": [
    "#### 9.3　タンク蓄熱量の上限による補正集熱量"
   ]
  },
  {
   "cell_type": "markdown",
   "metadata": {},
   "source": [
    "日付$d$における1日当たりの給湯部におけるタンク蓄熱量の上限による補正集熱量 $L_{tnk,d}$"
   ]
  },
  {
   "cell_type": "markdown",
   "metadata": {},
   "source": [
    "$$\n",
    "\\begin{equation*}\n",
    "   L_{tnk,d} = min \\left( Q_{d} , \\: HC_{tnk,d} \\times \\alpha_{tnk,d} \\right)\n",
    "\\end{equation*}\n",
    "$$\n",
    "\n",
    "$$\n",
    "\\begin{equation*}\n",
    "    \\alpha_{tnk,d} = 1.0\n",
    "\\end{equation*}\n",
    "$$"
   ]
  },
  {
   "cell_type": "markdown",
   "metadata": {},
   "source": [
    "$L_{tnk,d}$ : 日付$d$における1日当たりの給湯部におけるタンク蓄熱量の上限による補正集熱量(MJ/日)  \n",
    "$Q_{d}$ : 日付$d$における1日当たりの基準集熱量(MJ/日)  \n",
    "$HC_{tnk,d}$ : 日付$d$における給湯部のタンク蓄熱量の上限(MJ)  \n",
    "$\\alpha_{tnk,d}$ : 日付$d$における給湯部のタンク有効利用率(1/日)  "
   ]
  },
  {
   "cell_type": "code",
   "execution_count": 22,
   "metadata": {},
   "outputs": [],
   "source": [
    "def get_L_tnk(Q_d, HC_tnk):\n",
    "    alpha_tnk = 1  # 1/day\n",
    "    return min(Q_d, HC_tnk * alpha_tnk)"
   ]
  },
  {
   "cell_type": "markdown",
   "metadata": {},
   "source": [
    "日付$d$における給湯部のタンク蓄熱量の上限 $HC_{tnk,d}$"
   ]
  },
  {
   "cell_type": "markdown",
   "metadata": {},
   "source": [
    "$$\n",
    "\\begin{equation*}\n",
    "    HC_{tnk,d} = \\left( \\theta_{tnk} - \\theta_{wtr,d} \\right) \\times W_{tnk} \\times 10^{-3}\n",
    "\\end{equation*}\n",
    "$$\n",
    "\n",
    "$$\n",
    "\\begin{equation*}\n",
    "    \\theta_{tnk} = 65\n",
    "\\end{equation*}\n",
    "$$"
   ]
  },
  {
   "cell_type": "markdown",
   "metadata": {},
   "source": [
    "$HC_{tnk,d}$ : 日付$d$における給湯部のタンク蓄熱量の上限(MJ)  \n",
    "$\\theta_{tnk}$ : 給湯部のタンク内温度(℃)   \n",
    "$\\theta_{wtr,d}$ : 日付$d$における日平均給水温度(℃)  \n",
    "$W_{tnk}$ : 給湯部のタンク容量(L)  "
   ]
  },
  {
   "cell_type": "code",
   "execution_count": 23,
   "metadata": {},
   "outputs": [],
   "source": [
    "def get_HC_tnk(theta_wtr, W_tnk):\n",
    "    theta_tnk = 65  # degree C\n",
    "    return (theta_tnk - theta_wtr) * W_tnk * 10**(-3)"
   ]
  },
  {
   "cell_type": "markdown",
   "metadata": {},
   "source": [
    "#### 9.4　基準集熱量"
   ]
  },
  {
   "cell_type": "markdown",
   "metadata": {},
   "source": [
    "日付$d$における1日当たりの基準集熱量 $Q_{d}$"
   ]
  },
  {
   "cell_type": "markdown",
   "metadata": {},
   "source": [
    "$$\n",
    "\\begin{equation*}\n",
    "    Q_{d} = \\sum_{t=0}^{23} \\left( Q_{col,d,t} \\times f_{hx} \\times f_{s} \\times t_{cp,d,t} \\right)\n",
    "\\end{equation*}\n",
    "$$\n",
    "\n",
    "$$\n",
    "\\begin{equation*}\n",
    "    f_{hx} = 0.25\n",
    "\\end{equation*}\n",
    "$$\n",
    "\n",
    "$$\n",
    "\\begin{equation*}\n",
    "    f_{s} = 0.85\n",
    "\\end{equation*}\n",
    "$$"
   ]
  },
  {
   "cell_type": "markdown",
   "metadata": {},
   "source": [
    "$f_{hx}$ : 給湯部の熱交換効率(-)  \n",
    "$f_{s}$ : 給湯部のシステム効率(-)  \n",
    "$Q_{d}$ : 日付$d$における1日当たりの基準集熱量(MJ/日)  \n",
    "$Q_{col,d,t}$ : 日付$d$の時刻$t$における1時間当たりの集熱部における集熱量(MJ/h)   \n",
    "$t_{cp,d,t}$ : 日付$d$の時刻$t$における1時間当たりの循環ポンプの稼働時間(h/h)   "
   ]
  },
  {
   "cell_type": "code",
   "execution_count": 24,
   "metadata": {},
   "outputs": [],
   "source": [
    "def get_Q_d(Q_col, t_cp):    \n",
    "    f_hx = 0.25  # -\n",
    "    f_s = 0.85   # -\n",
    "    return Q_col * f_hx * f_s * t_cp"
   ]
  },
  {
   "cell_type": "markdown",
   "metadata": {},
   "source": [
    "#### Example"
   ]
  },
  {
   "cell_type": "code",
   "execution_count": 25,
   "metadata": {},
   "outputs": [
    {
     "data": {
      "text/plain": [
       "0"
      ]
     },
     "execution_count": 25,
     "metadata": {},
     "output_type": "execute_result"
    }
   ],
   "source": [
    "_t_cp = get_t_cp(water_heating_unit = True, t_fan = _t_fan, L_dash_H_s = [10.44293, 0.0, 0.0, 0.0, 0.0, 0.0, 0.0, 0.0, 0.0, 0.0, 0.0, 0.0])\n",
    "_t_cp"
   ]
  },
  {
   "cell_type": "code",
   "execution_count": 26,
   "metadata": {
    "scrolled": true
   },
   "outputs": [
    {
     "data": {
      "text/plain": [
       "0.0"
      ]
     },
     "execution_count": 26,
     "metadata": {},
     "output_type": "execute_result"
    }
   ],
   "source": [
    "_E_E_pump = get_E_E_pump(t_cp = _t_cp, PV_for_Pump = False)\n",
    "_E_E_pump"
   ]
  },
  {
   "cell_type": "code",
   "execution_count": 27,
   "metadata": {},
   "outputs": [],
   "source": [
    "_Q_d = get_Q_d(Q_col = 13.586998211064468, t_cp = 0)"
   ]
  },
  {
   "cell_type": "code",
   "execution_count": 28,
   "metadata": {},
   "outputs": [
    {
     "data": {
      "text/plain": [
       "18.083313450000002"
      ]
     },
     "execution_count": 28,
     "metadata": {},
     "output_type": "execute_result"
    }
   ],
   "source": [
    "_HC_tnk = get_HC_tnk(theta_wtr = 4.7222885, W_tnk = 300)\n",
    "_HC_tnk"
   ]
  },
  {
   "cell_type": "code",
   "execution_count": 29,
   "metadata": {
    "scrolled": true
   },
   "outputs": [
    {
     "data": {
      "text/plain": [
       "0.0"
      ]
     },
     "execution_count": 29,
     "metadata": {},
     "output_type": "execute_result"
    }
   ],
   "source": [
    "_L_tnk = get_L_tnk(Q_d = _Q_d, HC_tnk = _HC_tnk)\n",
    "_L_tnk"
   ]
  },
  {
   "cell_type": "markdown",
   "metadata": {},
   "source": [
    "### 10. 集熱部"
   ]
  },
  {
   "cell_type": "markdown",
   "metadata": {},
   "source": [
    "#### 10.1　集熱量"
   ]
  },
  {
   "cell_type": "markdown",
   "metadata": {},
   "source": [
    "日付$d$の時刻$t$における1時間当たりの集熱部における集熱量 $Q_{col,d,t}$"
   ]
  },
  {
   "cell_type": "markdown",
   "metadata": {},
   "source": [
    "$$ \n",
    "\\begin{equation*}\n",
    "   Q_{col,d,t} = \\rho_{air} \\times C_{P_{air}} \\times V_{fan,d,t} \\times \\left( \\theta_{col,opg,d,t} - \\theta_{ex,d,t} \\right) \\times 10^{-3}\n",
    "\\end{equation*}\n",
    "$$\n",
    "\n",
    "$$ \n",
    "\\begin{equation*}\n",
    "   \\rho_{air} = 1.2\n",
    "\\end{equation*}\n",
    "$$\n",
    "\n",
    "$$ \n",
    "\\begin{equation*}\n",
    "   C_{P_{air}} = 1.006\n",
    "\\end{equation*}\n",
    "$$"
   ]
  },
  {
   "cell_type": "markdown",
   "metadata": {},
   "source": [
    "$C_{P_{air}}$ : 空気の比熱(kJ/(kg$\\cdot$K))  \n",
    "$Q_{col,d,t}$ : 空日付$d$の時刻$t$における1時間当たりの集熱部における集熱量(MJ/h)  \n",
    "$V_{fan,d,t}$ : 日付$d$の時刻$t$における1時間当たりの空気搬送ファンの風量(m<sup>3</sup>/h)  \n",
    "$\\theta_{col,opg,d,t}$ : 日付$d$の時刻$t$における空気搬送ファン稼働時の集熱部の出口における空気温度(℃)  \n",
    "$\\theta_{ex,d,t}$ : 日付$d$の時刻$t$における外気温度(℃)  \n",
    "$\\rho_{air}$ : 空気の密度(kg/m<sup>3</sup>)  "
   ]
  },
  {
   "cell_type": "code",
   "execution_count": 30,
   "metadata": {},
   "outputs": [],
   "source": [
    "def get_Q_col(V_fan, theta_col_opg, theta_ex):\n",
    "    rho_air = 1.2    # kg/m3\n",
    "    Cp_air = 1.006  # kJ/(kg K)\n",
    "    return rho_air * Cp_air * V_fan * (theta_col_opg - theta_ex) *10**(-3)"
   ]
  },
  {
   "cell_type": "markdown",
   "metadata": {},
   "source": [
    "#### 101.2　空気搬送ファン停止時の集熱部の出口における空気温度"
   ]
  },
  {
   "cell_type": "markdown",
   "metadata": {},
   "source": [
    "日付$d$の時刻$t$における空気搬送ファン停止時の集熱部の出口における空気温度 $\\theta_{col,nonopg,d,t}$"
   ]
  },
  {
   "cell_type": "markdown",
   "metadata": {},
   "source": [
    "$$ \n",
    "\\begin{equation*}\n",
    "   \\theta_{col,nonopg,d,t} = \\frac{\\displaystyle \\sum_{j=1}^{n} \\left( \\theta_{col,nonopg,j,d,t} \\times V_{col,j,d,t} \\right)}{\\displaystyle \\sum_{j=1}^{n} V_{col,j,d,t}}\n",
    "\\end{equation*}\n",
    "$$"
   ]
  },
  {
   "cell_type": "markdown",
   "metadata": {},
   "source": [
    "$n$ : 集熱器群の数(-)  \n",
    "$V_{col,j,d,t}$ : 日付$d$の時刻$t$における空気集熱ファン稼働時に集熱器群$j$を流れる空気の体積流量(m<sup>3</sup>/h)  \n",
    "$\\theta_{col,nonopg,d,t}$ : 日付$d$の時刻$t$における空気搬送ファン停止時の集熱部の出口における空気温度(℃)  \n",
    "$\\theta_{col,nonopg,j,d,t}$ : 日付$d$の時刻$t$における空気搬送ファン停止時の集熱器群$j$の出口における空気温度(℃)  "
   ]
  },
  {
   "cell_type": "code",
   "execution_count": 31,
   "metadata": {},
   "outputs": [],
   "source": [
    "def get_theta_col_nonopg(theta_col_nonopg_s, V_col_s, n_col):\n",
    "    return sum(theta_col_nonopg_s[j1] * V_col_s[j1] for j1 in range(0,n_col,1)) / sum(V_col_s[j2] for j2 in range(0,n_col,1))"
   ]
  },
  {
   "cell_type": "markdown",
   "metadata": {},
   "source": [
    "#### 10.3　空気搬送ファン稼働時の集熱部の出口における空気温度"
   ]
  },
  {
   "cell_type": "markdown",
   "metadata": {},
   "source": [
    "日付$d$の時刻$t$における空気搬送ファン稼働時の集熱部の出口における空気温度 $\\theta_{col,opg,d,t}$"
   ]
  },
  {
   "cell_type": "markdown",
   "metadata": {},
   "source": [
    "$$ \n",
    "\\begin{equation*}\n",
    "   \\theta_{col,opg,d,t} = \\frac{\\displaystyle \\sum_{j=1}^{n} \\left( \\theta_{col,opg,j,d,t} \\times V_{col,j,d,t} \\right)}{\\displaystyle \\sum_{j=1}^{n} V_{col,j,d,t}}\n",
    "\\end{equation*}\n",
    "$$"
   ]
  },
  {
   "cell_type": "markdown",
   "metadata": {},
   "source": [
    "$n$ : 集熱器群の数(-)  \n",
    "$V_{col,j,d,t}$ : 日付$d$の時刻$t$における空気集熱ファン稼働時に集熱器群$j$を流れる空気の体積流量(-)  \n",
    "$\\theta_{col,opg,d,t}$ : 日付$d$の時刻$t$における空気搬送ファン稼働時の集熱部の出口における空気温度(℃)  \n",
    "$\\theta_{col,opg,j,d,t}$ : 日付$d$の時刻$t$における空気搬送ファン稼働時の集熱器群$j$の出口における空気温度(℃)  "
   ]
  },
  {
   "cell_type": "code",
   "execution_count": 32,
   "metadata": {},
   "outputs": [],
   "source": [
    "def get_theta_col_opg(theta_col_opg_s, V_col_s, n_col):\n",
    "    return sum(theta_col_opg_s[j] * V_col_s[j] for j in range(0,n_col,1)) / sum(V_col_s[j] for j in range(0,n_col,1))"
   ]
  },
  {
   "cell_type": "markdown",
   "metadata": {},
   "source": [
    "#### 10.4　空気搬送ファン停止時の集熱器群の出口における空気温度"
   ]
  },
  {
   "cell_type": "markdown",
   "metadata": {},
   "source": [
    "日付$d$の時刻$t$における空気搬送ファン停止時の集熱器群$j$の出口における空気温度 $\\theta_{col,nonopg,j,d,t}$"
   ]
  },
  {
   "cell_type": "markdown",
   "metadata": {},
   "source": [
    "$$ \n",
    "\\begin{equation*}\n",
    "   \\theta_{col,nonopg,j,d,t} = \\frac{d_{0,j}}{d_{1,j}} \\times I_{s,j,d,t} + \\theta_{ex,d,t}\n",
    "\\end{equation*}\n",
    "$$"
   ]
  },
  {
   "cell_type": "markdown",
   "metadata": {},
   "source": [
    "$d_{0,j}$ : 集熱器群$j$を構成する集熱器の集熱効率特性線図一次近似式の切片(-)  \n",
    "$d_{1,j}$ : 集熱器群$j$を構成する集熱器の集熱効率特性線図一次近似式の傾き(W/(m<sup>2</sup>$\\cdot$K))  \n",
    "$I_{s,j,d,t}$ : 日付$d$の時刻$t$における集熱器群$j$の単位面積当たりの平均日射量(W/m<sup>2</sup>)  \n",
    "$\\theta_{ex,d,t}$ : 日付$d$の時刻$t$における外気温度(℃)  \n",
    "$\\theta_{col,nonopg,j,d,t}$ : 日付$d$の時刻$t$における空気搬送ファン停止時の集熱器群$j$の出口における空気温度(℃)  "
   ]
  },
  {
   "cell_type": "code",
   "execution_count": 33,
   "metadata": {},
   "outputs": [],
   "source": [
    "def get_theta_col_nonopg_j(I_s, theta_ex, d_0, d_1):\n",
    "    return d_0 / d_1 * I_s + theta_ex"
   ]
  },
  {
   "cell_type": "markdown",
   "metadata": {},
   "source": [
    "#### 10.5　空気搬送ファン稼働時の集熱器群の出口における空気温度"
   ]
  },
  {
   "cell_type": "markdown",
   "metadata": {},
   "source": [
    "日付$d$の時刻$t$における空気搬送ファン稼働時の集熱器群$j$の出口における空気温度 $\\theta_{col,opg,j,d,t}$"
   ]
  },
  {
   "cell_type": "markdown",
   "metadata": {},
   "source": [
    "$$ \n",
    "\\begin{equation*}\n",
    "   \\theta_{col,opg,j,d,t} = \\theta_{col,nonopg,j,d,t} + \\left( \\theta_{ex,d,t} - \\theta_{col,nonopg,j,d,t} \\right) \\times e^{- \\frac{U_{c,j} \\times A_{j}}{C_{P_{air}} \\times \\rho_{air} \\times V_{col,j,d,t} \\div 3600 \\times 10^{3}}}\n",
    "\\end{equation*}\n",
    "$$\n",
    "\n",
    "$$ \n",
    "\\begin{equation*}\n",
    "   \\rho_{air} = 1.2\n",
    "\\end{equation*}\n",
    "$$\n",
    "\n",
    "$$ \n",
    "\\begin{equation*}\n",
    "   C_{P_{air}} = 1.006\n",
    "\\end{equation*}\n",
    "$$"
   ]
  },
  {
   "cell_type": "markdown",
   "metadata": {},
   "source": [
    "$A_{j}$ : 集熱器群$j$の面積(m<sup>2</sup>)  \n",
    "$C_{P_{air}}$ : 空気の比熱(kJ/(kg$\\cdot$K))  \n",
    "$U_{c,j}$ : 集熱器群$j$を構成する集熱器の集熱器総合熱損失係数(W/(m<sup>2</sup>$\\cdot$K))  \n",
    "$V_{col,j,d,t}$ : 日付$d$の時刻$t$における空気集熱ファン稼働時に集熱器群$j$を流れる空気の体積流量(m<sup>3</sup>/h)  \n",
    "$\\theta_{col,opg,d,t}$ : 日付$d$の時刻$t$における空気搬送ファン稼働時の集熱部の出口における空気温度(℃)  \n",
    "$\\theta_{col,nonopg,j,d,t}$ : 日付$d$の時刻$t$における空気搬送ファン停止時の集熱器群$j$の出口における空気温度(℃)  \n",
    "$\\theta_{ex,d,t}$ : 日付$d$の時刻$t$における外気温度(℃)  \n",
    "$\\rho_{air}$ : 空気の密度(kg/m<sup>3</sup>)  "
   ]
  },
  {
   "cell_type": "code",
   "execution_count": 34,
   "metadata": {},
   "outputs": [],
   "source": [
    "def get_theta_col_opg_j(theta_col_nonopg, U_c, V_col, theta_ex, A):\n",
    "    rho_air = 1.2    # kg/m3\n",
    "    Cp_air = 1.006  # kJ/(kg K)    \n",
    "\n",
    "    return theta_col_nonopg + (theta_ex - theta_col_nonopg) * \\\n",
    "            math.exp(-U_c * A / (Cp_air * rho_air * V_col / 3600 * 10**(3)))"
   ]
  },
  {
   "cell_type": "markdown",
   "metadata": {},
   "source": [
    "日付$d$の時刻$t$における空気集熱ファン稼働時に集熱器群$j$を流れる空気の体積流量 $V_{col,j,d,t}$"
   ]
  },
  {
   "cell_type": "markdown",
   "metadata": {},
   "source": [
    "$$ \n",
    "\\begin{equation*}\n",
    "   V_{col,j,d,t} = V_{fan,P0} \\times \\frac{A_{j}}{\\displaystyle \\sum_{j=1}^{n} A_{j}}\n",
    "\\end{equation*}\n",
    "$$"
   ]
  },
  {
   "cell_type": "markdown",
   "metadata": {},
   "source": [
    "$A_{j}$ : 集熱器群$j$の面積(m<sup>2</sup>)  \n",
    "$n$ : 集熱器群の数(-)  \n",
    "$V_{col,j,d,t}$ : 日付$d$の時刻$t$における空気集熱ファン稼働時に集熱器群$j$を流れる空気の体積流量(m<sup>3</sup>/h)  \n",
    "$V_{fan,P0}$ : 空気搬送ファンの送風機特性曲線において機外静圧をゼロとした時の空気搬送ファンの風量(m<sup>3</sup>/h)  "
   ]
  },
  {
   "cell_type": "code",
   "execution_count": 35,
   "metadata": {},
   "outputs": [],
   "source": [
    "def get_sum_A(A_s):\n",
    "    return sum(A for A in A_s)"
   ]
  },
  {
   "cell_type": "code",
   "execution_count": 36,
   "metadata": {},
   "outputs": [],
   "source": [
    "def get_V_col_j(V_fan_P0, A, sum_A):\n",
    "    return V_fan_P0 * A / sum_A"
   ]
  },
  {
   "cell_type": "markdown",
   "metadata": {},
   "source": [
    "集熱器群$j$を構成する集熱器の集熱器総合熱損失係数 $U_{c,j}$"
   ]
  },
  {
   "cell_type": "markdown",
   "metadata": {},
   "source": [
    "$$ \n",
    "\\begin{equation*}\n",
    "   U_{c,j} = -C_{P_{air}} \\times \\dot{m}_{fan,test,j} \\times 10^{3} \\times ln \\left( 1 - \\frac{1}{C_{P_{air}} \\times \\dot{m}_{fan,test,j} \\times 10^{3}} \\times d_{1,j}  \\right)\n",
    "\\end{equation*}\n",
    "$$\n",
    "\n",
    "$$ \n",
    "\\begin{equation*}\n",
    "   C_{P_{air}} = 1.006\n",
    "\\end{equation*}\n",
    "$$"
   ]
  },
  {
   "cell_type": "markdown",
   "metadata": {},
   "source": [
    "$c_{P_{air}}$ : 空気の比熱(kJ/(kg$\\cdot$K))  \n",
    "$d_{1,j}$ : 集熱器群$j$を構成する集熱器の集熱効率特性線図一次近似式の傾き(W/(m<sup>2</sup>$\\cdot$K))  \n",
    "$\\dot{m}_{fan,test,j}$ : 集熱器群$j$を構成する集熱器の集熱性能試験時における単位面積当たりの空気の質量流量(kg/(s$\\cdot$m<sup>2</sup>))  \n",
    "$U_{c,j}$ : 集熱器群$j$を構成する集熱器の集熱器総合熱損失係数(W/(m<sup>2</sup>$\\cdot$K))  "
   ]
  },
  {
   "cell_type": "code",
   "execution_count": 37,
   "metadata": {},
   "outputs": [],
   "source": [
    "def get_U_c_j(m_dot_fan_test, d_1):\n",
    "    Cp_air = 1.006  # kJ/(kg K)  \n",
    "    return -Cp_air * m_dot_fan_test * 10**3 * math.log(1 - 1 / (Cp_air * m_dot_fan_test * 10**3) * d_1)"
   ]
  },
  {
   "cell_type": "markdown",
   "metadata": {},
   "source": [
    "#### Example"
   ]
  },
  {
   "cell_type": "code",
   "execution_count": 38,
   "metadata": {
    "scrolled": false
   },
   "outputs": [
    {
     "data": {
      "text/plain": [
       "[44.00993654263884, 66.56207118966636]"
      ]
     },
     "execution_count": 38,
     "metadata": {},
     "output_type": "execute_result"
    }
   ],
   "source": [
    "_theta_col_nonopg_s = [get_theta_col_nonopg_j(I_s = [740.1987308527767, 740.1987308527767][j], theta_ex = 7.0, \n",
    "                                             d_0 = [0.1, 0.468][j], d_1 = [2.0, 5.816][j]) for j in range(0,2,1)]\n",
    "_theta_col_nonopg_s"
   ]
  },
  {
   "cell_type": "code",
   "execution_count": 39,
   "metadata": {
    "scrolled": true
   },
   "outputs": [
    {
     "data": {
      "text/plain": [
       "[2.2125874568181008, 8.36595711243159]"
      ]
     },
     "execution_count": 39,
     "metadata": {},
     "output_type": "execute_result"
    }
   ],
   "source": [
    "_U_c_s= [get_U_c_j(m_dot_fan_test = [0.0107, 0.0107][j], d_1 = [2.0, 5.816][j]) for j in range(0,2,1)]\n",
    "_U_c_s"
   ]
  },
  {
   "cell_type": "code",
   "execution_count": 40,
   "metadata": {
    "scrolled": false
   },
   "outputs": [
    {
     "data": {
      "text/plain": [
       "30"
      ]
     },
     "execution_count": 40,
     "metadata": {},
     "output_type": "execute_result"
    }
   ],
   "source": [
    "_sum_A = get_sum_A(A_s = [15, 15])\n",
    "_sum_A"
   ]
  },
  {
   "cell_type": "code",
   "execution_count": 41,
   "metadata": {
    "scrolled": false
   },
   "outputs": [
    {
     "data": {
      "text/plain": [
       "[360.0, 360.0]"
      ]
     },
     "execution_count": 41,
     "metadata": {},
     "output_type": "execute_result"
    }
   ],
   "source": [
    "_V_col_s = [get_V_col_j(V_fan_P0 = 720, A = [15, 15][j], sum_A = _sum_A)for j in range(0,2,1)]\n",
    "_V_col_s"
   ]
  },
  {
   "cell_type": "code",
   "execution_count": 42,
   "metadata": {},
   "outputs": [
    {
     "data": {
      "text/plain": [
       "[15.896080763800533, 45.49920932335297]"
      ]
     },
     "execution_count": 42,
     "metadata": {},
     "output_type": "execute_result"
    }
   ],
   "source": [
    "_theta_col_opg_s = [get_theta_col_opg_j(theta_col_nonopg = _theta_col_nonopg_s[j], U_c = _U_c_s[j], V_col =_V_col_s[j], \n",
    "                                       theta_ex = 7.0, A =  [15, 15][j])for j in range(0,2,1)]\n",
    "_theta_col_opg_s"
   ]
  },
  {
   "cell_type": "code",
   "execution_count": 43,
   "metadata": {},
   "outputs": [
    {
     "data": {
      "text/plain": [
       "55.28600386615259"
      ]
     },
     "execution_count": 43,
     "metadata": {},
     "output_type": "execute_result"
    }
   ],
   "source": [
    "get_theta_col_nonopg(theta_col_nonopg_s= _theta_col_nonopg_s, V_col_s = _V_col_s, n_col = 2)"
   ]
  },
  {
   "cell_type": "code",
   "execution_count": 44,
   "metadata": {},
   "outputs": [
    {
     "data": {
      "text/plain": [
       "30.697645043576752"
      ]
     },
     "execution_count": 44,
     "metadata": {},
     "output_type": "execute_result"
    }
   ],
   "source": [
    "_theta_col_opg = get_theta_col_opg(theta_col_opg_s= _theta_col_opg_s, V_col_s = _V_col_s, n_col = 2)\n",
    "_theta_col_opg "
   ]
  },
  {
   "cell_type": "code",
   "execution_count": 45,
   "metadata": {
    "scrolled": true
   },
   "outputs": [
    {
     "data": {
      "text/plain": [
       "20.59761390955622"
      ]
     },
     "execution_count": 45,
     "metadata": {},
     "output_type": "execute_result"
    }
   ],
   "source": [
    "get_Q_col(V_fan = _V_fan, theta_col_opg = _theta_col_opg, theta_ex = 7.0)"
   ]
  },
  {
   "cell_type": "markdown",
   "metadata": {},
   "source": [
    "### 11. 蓄熱部（床下）"
   ]
  },
  {
   "cell_type": "markdown",
   "metadata": {},
   "source": [
    "#### 11.1 床下温度"
   ]
  },
  {
   "cell_type": "markdown",
   "metadata": {},
   "source": [
    "日付$d$の時刻$d$における床下温度 $\\theta_{uf,d,t}$ "
   ]
  },
  {
   "cell_type": "markdown",
   "metadata": {},
   "source": [
    "<p style=\"text-indent:2em\">土間床・地盤を除いた床下蓄熱部位（基礎梁等）への蓄熱を考慮しない場合：</p> \n",
    "\n",
    "$$ \n",
    "\\begin{equation*}\n",
    "   \\theta_{uf,d,t} = \\frac{\\rho_{air} C_{P_{air}} V_{sa,d,t} \\theta_{sa,d,t} + \\left( \\displaystyle \\sum_{i=1}^{12} U_{s} A_{s,ufvnt,i} H_{ref,d,t,i} \\theta_{ref,d,t,i} + U_{bw} A_{bw} \\theta_{ex,d,t} + \\psi L_{uf} \\theta_{ex,d,t} + q_{bf,d,t} A_{bf} \\right) \\times 3.6 \\times 10^{-3}}{\\rho_{air} C_{P_{air}} V_{sa,d,t} + \\left( \\displaystyle \\sum_{i=1}^{12} U_{s} A_{s,uf,i} H_{ref,d,t,i} + U_{bw} A_{bw} + \\psi L_{uf} \\right) \\times 3.6 \\times 10^{-3}}\n",
    "\\end{equation*}\n",
    "$$\n",
    "\n",
    "<br/>\n",
    "\n",
    "<p style=\"text-indent:2em\">土間床・地盤を除いた床下蓄熱部位（基礎梁等）への蓄熱を考慮する場合：</p> \n",
    "\n",
    "$$ \n",
    "\\begin{equation*}\n",
    "   \\theta_{uf,d,t} = \\frac{\\rho_{air} C_{P_{air}} V_{sa,d,t} \\theta_{sa,d,t} + \\left( \\displaystyle \\sum_{i=1}^{12} U_{s} A_{s,ufvnt,i} H_{ref,d,t,i} \\theta_{ref,d,t,i} + U_{bw} A_{bw} \\theta_{ex,d,t} + \\psi L_{uf} \\theta_{ex,d,t} + q_{bf,d,t} A_{bf} + \\frac{\\displaystyle \\frac{M_{hse}}{1}}{\\displaystyle \\frac{M_{hse}}{1}+C_{uf-hse}} \\theta_{hse,d,t-1} \\right) \\times 3.6 \\times 10^{-3}}{\\rho_{air} C_{P_{air}} V_{sa,d,t} + \\left( \\displaystyle \\sum_{i=1}^{12} U_{s} A_{s,uf,i} H_{ref,d,t,i} + U_{bw} A_{bw} + \\psi L_{uf} +\\frac{\\displaystyle \\frac{M_{hse}}{1}}{\\displaystyle \\frac{M_{hse}}{1}+C_{uf-hse}} \\right) \\times 3.6 \\times 10^{-3}}\n",
    "\\end{equation*}\n",
    "$$"
   ]
  },
  {
   "cell_type": "markdown",
   "metadata": {},
   "source": [
    "$$ \n",
    "\\begin{equation*}\n",
    "   \\rho_{air} = 1.2\n",
    "\\end{equation*}\n",
    "$$\n",
    "\n",
    "$$ \n",
    "\\begin{equation*}\n",
    "   C_{P_{air}} = 1.006\n",
    "\\end{equation*}\n",
    "$$\n",
    "\n",
    "$$ \n",
    "\\begin{equation*}\n",
    "   U_{s} = 2.223\n",
    "\\end{equation*}\n",
    "$$"
   ]
  },
  {
   "cell_type": "markdown",
   "metadata": {},
   "source": [
    "$A_{s,ufvent,i}$ : 暖冷房区画$i$において集熱後の空気を供給する床下空間に接する床の面積((m<sup>2</sup>)  \n",
    "$A_{bf}$ : 土間中央部の面積(m<sup>2</sup>)  \n",
    "$A_{bw}$ : 基礎外壁の面積(m<sup>2</sup>)  \n",
    "$C_{uf-hse}$ : 土間床・地盤を除いた床下蓄熱部位の表面と床下空間との間の熱コンダクタンス(W/K)  \n",
    "$C_{P_{air}}$ : 空気の比熱(kJ/(kg$\\cdot$K))  \n",
    "$H_{ref,d,t,i}$ : 日付$d$の時刻$t$における暖冷房区画$i$の温度係数(-)  \n",
    "$L_{uf}$ : 基礎外周長(m)  \n",
    "$M_{hse}$ : 土間床・地盤を除いた床下蓄熱部位の熱容量(J/K)  \n",
    "$q_{bf,d,t}$ : 日付$d$の時刻$t$における土間床中央部における熱流(W/(m<sup>2</sup>))  \n",
    "$U_{bw}$ : 基礎外壁の熱貫流率(W/(m<sup>2</sup>$\\cdot$K))  \n",
    "$U_{s}$ : 床の熱貫流率(W/(m<sup>2</sup>$\\cdot$K))  \n",
    "$V_{sa,d,t}$ : 日付$d$の時刻$t$における1時間当たりの床下もしくは居室へ供給する空気の風量(m<sup>3</sup>/h)  \n",
    "$\\theta_{ex,d,t}$ : 日付$d$の時刻$t$における外気温度(℃)  \n",
    "$\\theta_{hse,d,t-1}$ : 日付$d$の時刻$t-1$における土間床・地盤を除いた床下蓄熱部位（基礎梁等）の表面温度(℃)  \n",
    "$\\theta_{ref,d,t,i}$ : 日付$d$の時刻$t$における暖冷房区画$i$の参照室温(℃)  \n",
    "$\\theta_{sa,d,t}$ : 日付$d$の時刻$t$において床下へ供給する空気の温度(℃)  \n",
    "$\\theta_{uf,d,t}$ : 日付$d$の時刻$d$における床下温度(℃)  \n",
    "$\\rho_{air}$ : 空気の密度(kg/m<sup>3</sup>)  \n",
    "$\\psi$ : 基礎の線熱貫流率(W/(m$\\cdot$K))  "
   ]
  },
  {
   "cell_type": "code",
   "execution_count": 46,
   "metadata": {},
   "outputs": [],
   "source": [
    "def get_theta_uf(V_sa, theta_sa, A_s_ufvnt_s, H_ref_s, theta_ref_s, U_bw, A_bw, psi, L_uf, q_bf, A_bf, theta_ex, heat_storage_elements_uf, M_hse, C_uf_hse, theta_hse_pre):\n",
    "    rho_air = 1.2    # kg/m3\n",
    "    Cp_air = 1.006  # kJ/(kg K)\n",
    "    U_s = 2.223     # W/m2K\n",
    "    if heat_storage_elements_uf is False:\n",
    "        return (rho_air * Cp_air * V_sa * theta_sa \\\n",
    "                    + (sum([U_s * A_s_ufvnt_s[i] * H_ref_s[i] * theta_ref_s[i] for i in range(0,12,1)]) \\\n",
    "                    + U_bw * A_bw * theta_ex + psi * L_uf * theta_ex + q_bf * A_bf) * 3.6 *10**(-3)) \\\n",
    "                / (rho_air * Cp_air * V_sa \\\n",
    "                    + (sum([U_s * A_s_ufvnt_s[i] * H_ref_s[i] for i in range(0,12,1)]) \\\n",
    "                    + U_bw * A_bw + psi * L_uf ) * 3.6 *10**(-3))\n",
    "    elif heat_storage_elements_uf is True:\n",
    "        return (rho_air * Cp_air * V_sa * theta_sa \\\n",
    "                    + (sum([U_s * A_s_ufvnt_s[i] * H_ref_s[i] * theta_ref_s[i] for i in range(0,12,1)]) \\\n",
    "                    + U_bw * A_bw * theta_ex + psi * L_uf * theta_ex + q_bf * A_bf \\\n",
    "                    + (M_hse/1 / (M_hse/1 + C_uf_hse)) * theta_hse_pre) * 3.6 *10**(-3)) \\\n",
    "                / (rho_air * Cp_air * V_sa \\\n",
    "                    + (sum([U_s * A_s_ufvnt_s[i] * H_ref_s[i] for i in range(0,12,1)]) \\\n",
    "                    + U_bw * A_bw + psi * L_uf \\\n",
    "                    + (M_hse/1 / (M_hse/1 + C_uf_hse))) * 3.6 *10**(-3))\n",
    "    else:\n",
    "        raise Exception"
   ]
  },
  {
   "cell_type": "markdown",
   "metadata": {},
   "source": [
    "$A_{s,hse}$ : 土間床・地盤を除いた床下蓄熱部位の表面積(m<sup>2</sup>)  \n",
    "$C_{hse}$ : 土間床・地盤を除いた床下蓄熱部位の表面と床下空間との間の熱コンダクタンス(W/K)  \n",
    "$\\alpha_{c,hse}$ : 土間床・地盤を除いた床下蓄熱部位の表面の対流熱伝達率(W/m<sup>2</sup>K)  "
   ]
  },
  {
   "cell_type": "markdown",
   "metadata": {},
   "source": [
    "日付$d$の時刻$t$における暖冷房区画$i$の参照温度 $\\theta_{ref,d,t,i}$ および  \n",
    "日付$d$の時刻$t$における暖冷房区画$i$の温度係数 $H_{refd,t,i}$"
   ]
  },
  {
   "cell_type": "markdown",
   "metadata": {},
   "source": [
    "<p style=\"text-indent:2em\">$L'_{H,d,t,i} = 0$ の場合：</p> \n",
    "\n",
    "$$\n",
    "    \\theta_{ref,d,t,i} = \\theta_{ex,d,t}  \n",
    "$$\n",
    "\n",
    "$$\n",
    "    H_{ref,d,t,i} = H_{floor}\n",
    "$$\n",
    "\n",
    "$$\n",
    "    H_{floor} = 0.7\n",
    "$$\n",
    "\n",
    "\n",
    "<p style=\"text-indent:2em\">$0 < L'_{H,d,t,i}$ の場合：</p> \n",
    "\n",
    "$$\n",
    "    \\theta_{ref,d,t,i} = \\theta_{prst,H}  \n",
    "$$\n",
    "\n",
    "$$\n",
    "    H_{ref,d,t,i} = 1\n",
    "$$\n",
    "\n",
    "$$\n",
    "    \\theta_{prst,H} = 20  \n",
    "$$"
   ]
  },
  {
   "cell_type": "markdown",
   "metadata": {},
   "source": [
    "$H_{ref,d,t,i}$ : 日付$d$の時刻$t$における暖冷房区画$i$の温度係数(-)  \n",
    "$H_{floor}$ : 床の温度差数(-)  \n",
    "$L'_{H,d,t,i}$ : 日付$d$の時刻$t$における暖冷房区画$i$の負荷補正前の暖房負荷(MJ/h)  \n",
    "$\\theta_{ref,d,t,i}$ : 日付$d$の時刻$t$における暖冷房区画$i$の参照室温(℃)  \n",
    "$\\theta_{ex,d,t}$ : 日付$d$の時刻$t$における外気温度(℃)  \n",
    "$\\theta_{prst,H}$ : 暖房設定温度(℃)  "
   ]
  },
  {
   "cell_type": "code",
   "execution_count": 47,
   "metadata": {},
   "outputs": [],
   "source": [
    "def get_theta_ref(L_dash_H, theta_ex):\n",
    "    if L_dash_H == 0:\n",
    "        return theta_ex\n",
    "    elif 0 < L_dash_H:\n",
    "        theta_prst_H = 20  # degree C\n",
    "        return theta_prst_H\n",
    "    else:\n",
    "        raise Exception"
   ]
  },
  {
   "cell_type": "code",
   "execution_count": 48,
   "metadata": {},
   "outputs": [],
   "source": [
    "def get_H_ref(L_dash_H):\n",
    "    if L_dash_H == 0:\n",
    "        H_floor = 0.7  # -\n",
    "        return H_floor\n",
    "    elif 0 < L_dash_H:\n",
    "        return 1\n",
    "    else:\n",
    "        raise Exception"
   ]
  },
  {
   "cell_type": "markdown",
   "metadata": {},
   "source": [
    "間床・地盤を除いた床下蓄熱部位の表面と床下空間との間の熱コンダクタンス $C_{uf-hse}$"
   ]
  },
  {
   "cell_type": "markdown",
   "metadata": {},
   "source": [
    "$$ \n",
    "\\begin{equation*}\n",
    "   C_{uf-hse} = \\alpha_{c,hse} \\times A_{s,hse}\n",
    "\\end{equation*}\n",
    "$$\n",
    "\n",
    "$$ \n",
    "\\begin{equation*}\n",
    "   \\alpha_{c,hse} = 4.0\n",
    "\\end{equation*}\n",
    "$$"
   ]
  },
  {
   "cell_type": "markdown",
   "metadata": {},
   "source": [
    "$A_{s,hse}$ : 土間床・地盤を除いた床下蓄熱部位の表面積(m<sup>2</sup>)  \n",
    "$C_{uf-hse}$ : 土間床・地盤を除いた床下蓄熱部位の表面と床下空間との間の熱コンダクタンス(W/K)  \n",
    "$\\alpha_{c,hse}$ : 土間床・地盤を除いた床下蓄熱部位の表面の対流熱伝達率(W/m<sup>2</sup>K)  "
   ]
  },
  {
   "cell_type": "code",
   "execution_count": 49,
   "metadata": {},
   "outputs": [],
   "source": [
    "def get_C_uf_hse(heat_storage_elements, A_s_hse):\n",
    "    alpha_c_hse = 4.0 # W/m2K\n",
    "    return alpha_c_hse * A_s_hse"
   ]
  },
  {
   "cell_type": "markdown",
   "metadata": {},
   "source": [
    " 日付$d$の時刻$t$における土間床・地盤を除いた床下蓄熱部位（基礎梁等）の表面温度 $\\theta_{hse,d,t}$"
   ]
  },
  {
   "cell_type": "markdown",
   "metadata": {},
   "source": [
    "$$ \n",
    "\\begin{equation*}\n",
    "   \\theta_{hse,d,t} = \\frac{C_{uf-hse}}{\\displaystyle \\frac{M_{hse}}{1}+C_{uf-hse}} \\times \\theta_{uf,d,t} + \\frac{\\displaystyle  \\frac{M_{hse}}{1}}{\\displaystyle \\frac{M_{hse}}{1}+C_{uf-hse}} \\times \\theta_{hse,d,t-1}\n",
    "\\end{equation*}\n",
    "$$"
   ]
  },
  {
   "cell_type": "markdown",
   "metadata": {},
   "source": [
    "$A_{s,hse}$ : 土間床・地盤を除いた床下蓄熱部位の表面積(m<sup>2</sup>)  \n",
    "$C_{uf-hse}$ : 土間床・地盤を除いた床下蓄熱部位の表面と床下空間との間の熱コンダクタンス(W/K)  \n",
    "$M_{hse}$ : 土間床・地盤を除いた床下蓄熱部位の熱容量(J/K)  \n",
    "$\\theta_{hse,d,t}$ : 日付$d$の時刻$t$における土間床・地盤を除いた床下蓄熱部位（基礎梁等）の表面温度(℃)  \n",
    "$\\theta_{uf,d,t}$ : 日付$d$の時刻$d$における床下温度(℃)  "
   ]
  },
  {
   "cell_type": "code",
   "execution_count": 50,
   "metadata": {},
   "outputs": [],
   "source": [
    "def get_theta_hse(M_hse, C_uf_hse, theta_uf, theta_hse_pre):\n",
    "    return (C_uf_hse / (M_hse/1 + C_uf_hse)) * theta_uf + (M_hse/1 / (M_hse/1 + C_uf_hse)) * theta_hse_pre"
   ]
  },
  {
   "cell_type": "markdown",
   "metadata": {},
   "source": [
    "#### Example"
   ]
  },
  {
   "cell_type": "code",
   "execution_count": 51,
   "metadata": {},
   "outputs": [
    {
     "data": {
      "text/plain": [
       "[20, 2.3, 2.3, 2.3, 2.3, 2.3, 2.3, 2.3, 2.3, 2.3, 2.3, 2.3]"
      ]
     },
     "execution_count": 51,
     "metadata": {},
     "output_type": "execute_result"
    }
   ],
   "source": [
    "_theta_ref_s = [get_theta_ref(L_dash_H = [10.44293, 0.0, 0.0, 0.0, 0.0, 0.0, 0.0, 0.0, 0.0, 0.0, 0.0, 0.0][i], theta_ex = 2.3) for i in range(0,12,1)]\n",
    "_theta_ref_s"
   ]
  },
  {
   "cell_type": "code",
   "execution_count": 52,
   "metadata": {},
   "outputs": [
    {
     "data": {
      "text/plain": [
       "[1, 0.7, 0.7, 0.7, 0.7, 0.7, 0.7, 0.7, 0.7, 0.7, 0.7, 0.7]"
      ]
     },
     "execution_count": 52,
     "metadata": {},
     "output_type": "execute_result"
    }
   ],
   "source": [
    "_H_ref_s =[get_H_ref(L_dash_H = [10.44293, 0.0, 0.0, 0.0, 0.0, 0.0, 0.0, 0.0, 0.0, 0.0, 0.0, 0.0][i]) for i in range(0,12,1)]\n",
    "_H_ref_s"
   ]
  },
  {
   "cell_type": "code",
   "execution_count": 53,
   "metadata": {},
   "outputs": [
    {
     "data": {
      "text/plain": [
       "30.690347213987824"
      ]
     },
     "execution_count": 53,
     "metadata": {},
     "output_type": "execute_result"
    }
   ],
   "source": [
    "get_theta_uf(\n",
    "    V_sa = _V_fan, \n",
    "    theta_sa = _theta_sa, \n",
    "    A_s_ufvnt_s = [30.0, 14.51499805220101, 0.0, 0.0, 0.0, 3.8329000770613924, 1.9222399178011813, 3.8329000770613924, 12.459820190084768, 0.0, 0.0, 0.0],\n",
    "    H_ref_s = _H_ref_s, \n",
    "    theta_ref_s = _theta_ref_s, \n",
    "    U_bw = 2.3, \n",
    "    A_bw = 23, \n",
    "    psi = 0.863, \n",
    "    L_uf = 33.28711409301896, \n",
    "    q_bf = 50, \n",
    "    A_bf = 50, \n",
    "    theta_ex = 7.0, \n",
    "    heat_storage_elements_uf = False, \n",
    "    M_hse = None, \n",
    "    C_uf_hse = None, \n",
    "    theta_hse_pre = None)"
   ]
  },
  {
   "cell_type": "markdown",
   "metadata": {},
   "source": [
    "#### 11.2　床の熱貫流率及び基礎の線熱貫流率（床下換気から転用）"
   ]
  },
  {
   "cell_type": "markdown",
   "metadata": {},
   "source": [
    "Region 1 ~ 7:"
   ]
  },
  {
   "cell_type": "markdown",
   "metadata": {},
   "source": [
    "$$\n",
    "\\displaystyle U_{s,vert} = \\left\\{\n",
    "\\begin{array}{ll}\n",
    "    \\frac{Q-Q_1}{Q_0-Q_1} \\times U_{s,R,Q_0} + \\frac{Q-Q_0}{Q_1-Q_0} \\times U_{s,R,Q_1} & (Q > Q_1) \\\\\n",
    "    \\frac{Q-Q_2}{Q_1-Q_2} \\times U_{s,R,Q_1} + \\frac{Q-Q_1}{Q_2-Q_1} \\times U_{s,R,Q_2} & (Q_1 \\ge Q > Q_2) \\\\\n",
    "    \\frac{Q-Q_3}{Q_2-Q_3} \\times U_{s,R,Q_2} + \\frac{Q-Q_2}{Q_3-Q_2} \\times U_{s,R,Q_3} & (Q_2 \\ge Q > Q_3) \\\\\n",
    "    \\frac{Q-Q_4}{Q_3-Q_4} \\times U_{s,R,Q_3} + \\frac{Q-Q_3}{Q_4-Q_3} \\times U_{s,R,Q_4} & (Q_3 \\ge Q) \\\\\n",
    "\\end{array}\n",
    "\\right.\n",
    "$$"
   ]
  },
  {
   "cell_type": "markdown",
   "metadata": {},
   "source": [
    "Where, in case that $U_{s,vert}$ is over 2.223, let $U_{s,vert}$ equal to 2.223."
   ]
  },
  {
   "cell_type": "markdown",
   "metadata": {},
   "source": [
    "Region 8:"
   ]
  },
  {
   "cell_type": "markdown",
   "metadata": {},
   "source": [
    "$$\n",
    "\\displaystyle U_{s,vert} = 2.223\n",
    "$$"
   ]
  },
  {
   "cell_type": "markdown",
   "metadata": {},
   "source": [
    "Where  \n",
    "$ U_{s,vert} $ is the vertual thermal tranmittance of floor assumed when the heating & cooling load were calculated / 暖冷房負荷計算時に想定した床の熱貫流率(W/m<sup>2</sup>K);  \n",
    "$Q$ is the heat loss coefficient of the concerned house.  "
   ]
  },
  {
   "cell_type": "markdown",
   "metadata": {},
   "source": [
    "$Q_j$ is defined depending the region and j in the table below."
   ]
  },
  {
   "cell_type": "markdown",
   "metadata": {},
   "source": [
    "| | Region1 | Region2 | Region3 | Region4 | Region5 | Region6 | Region7 |\n",
    "| --- | --- | --- | --- | --- | --- | --- | --- |\n",
    "| $j=0$ | 8.26 | 8.26 | 8.26 | 8.49 | 8.49 | 8.49 | 8.49 |\n",
    "| $j=1$ | 2.8  | 2.8  | 4.0  | 4.7  | 5.19 | 5.19 | 8.27 |\n",
    "| $j=2$ | 1.8  | 1.8  | 2.7  | 3.3  | 4.2  | 4.2  | 4.59 |\n",
    "| $j=3$ | 1.6  | 1.6  | 1.9  | 2.4  | 2.7  | 2.7  | 2.7  |\n",
    "| $j=4$ | 1.4  | 1.4  | 1.4  | 1.9  | 1.9  | 1.9  | 1.9  |"
   ]
  },
  {
   "cell_type": "code",
   "execution_count": 54,
   "metadata": {},
   "outputs": [],
   "source": [
    "def get_Q_j(region):\n",
    "    return {\n",
    "        'Region1' : [8.26, 2.8,  1.8,  1.6, 1.4],\n",
    "        'Region2' : [8.26, 2.8,  1.8,  1.6, 1.4],\n",
    "        'Region3' : [8.26, 4.0,  2.7,  1.9, 1.4],\n",
    "        'Region4' : [8.49, 4.7,  3.3,  2.4, 1.9],\n",
    "        'Region5' : [8.49, 5.19, 4.2,  2.7, 1.9],\n",
    "        'Region6' : [8.49, 5.19, 4.2,  2.7, 1.9],\n",
    "        'Region7' : [8.49, 8.27, 4.59, 2.7, 1.9]\n",
    "    }[region]"
   ]
  },
  {
   "cell_type": "markdown",
   "metadata": {},
   "source": [
    "$U_{s,R,Q_j}$ is defined depending the region and $j$ in the table below."
   ]
  },
  {
   "cell_type": "code",
   "execution_count": 55,
   "metadata": {},
   "outputs": [],
   "source": [
    "def get_U_s_R_Q_j(region):\n",
    "    return {\n",
    "        'Region1' : [2.223, 0.342, 0.427, 0.319, 0.272],\n",
    "        'Region2' : [2.223, 0.342, 0.427, 0.319, 0.272],\n",
    "        'Region3' : [2.223, 0.964, 0.791, 0.359, 0.272],\n",
    "        'Region4' : [2.223, 0.949, 0.825, 0.564, 0.373],\n",
    "        'Region5' : [2.223, 1.208, 1.360, 0.554, 0.373],\n",
    "        'Region6' : [2.223, 1.208, 1.360, 0.554, 0.373],\n",
    "        'Region7' : [2.223, 2.223, 1.633, 0.554, 0.373]\n",
    "    }[region]"
   ]
  },
  {
   "cell_type": "code",
   "execution_count": 56,
   "metadata": {},
   "outputs": [],
   "source": [
    "def get_U_s_vert(Region, Q):\n",
    "    if Region == 'Region8':\n",
    "        return 2.223\n",
    "    else:\n",
    "        U_s_R_Q_j = get_U_s_R_Q_j(Region)\n",
    "        Q_j = get_Q_j(Region)\n",
    "        if Q > Q_j[1]:\n",
    "            return min(2.223, ( Q - Q_j[1] ) / ( Q_j[0] - Q_j[1]) * U_s_R_Q_j[0] + ( Q - Q_j[0] ) / ( Q_j[1] - Q_j[0]) * U_s_R_Q_j[1] )\n",
    "        elif Q > Q_j[2]:\n",
    "            return min(2.223, ( Q - Q_j[2] ) / ( Q_j[1] - Q_j[2]) * U_s_R_Q_j[1] + ( Q - Q_j[1] ) / ( Q_j[2] - Q_j[1]) * U_s_R_Q_j[2] )\n",
    "        elif Q > Q_j[3]:\n",
    "            return min(2.223, ( Q - Q_j[3] ) / ( Q_j[2] - Q_j[3]) * U_s_R_Q_j[2] + ( Q - Q_j[2] ) / ( Q_j[3] - Q_j[2]) * U_s_R_Q_j[3] )\n",
    "        else:\n",
    "            return min(2.223, ( Q - Q_j[4] ) / ( Q_j[3] - Q_j[4]) * U_s_R_Q_j[3] + ( Q - Q_j[3] ) / ( Q_j[4] - Q_j[3]) * U_s_R_Q_j[4] )"
   ]
  },
  {
   "cell_type": "markdown",
   "metadata": {},
   "source": [
    "Region 1 ~ 7:"
   ]
  },
  {
   "cell_type": "markdown",
   "metadata": {},
   "source": [
    "$$\n",
    "\\displaystyle \\psi = \\left\\{\n",
    "\\begin{array}{ll}\n",
    "    \\frac{Q-Q_1}{Q_0-Q_1} \\times \\psi_{Q_0} + \\frac{Q-Q_0}{Q_1-Q_0} \\times \\psi_{Q_1} & (Q > Q_1) \\\\\n",
    "    \\frac{Q-Q_2}{Q_1-Q_2} \\times \\psi_{Q_1} + \\frac{Q-Q_1}{Q_2-Q_1} \\times \\psi_{Q_2} & (Q_1 \\ge Q > Q_2) \\\\\n",
    "    \\frac{Q-Q_3}{Q_2-Q_3} \\times \\psi_{Q_2} + \\frac{Q-Q_2}{Q_3-Q_2} \\times \\psi_{Q_3} & (Q_2 \\ge Q > Q_3) \\\\\n",
    "    \\frac{Q-Q_4}{Q_3-Q_4} \\times \\psi_{Q_3} + \\frac{Q-Q_3}{Q_4-Q_3} \\times \\psi_{Q_4} & (Q_3 \\ge Q) \\\\\n",
    "\\end{array}\n",
    "\\right.\n",
    "$$"
   ]
  },
  {
   "cell_type": "markdown",
   "metadata": {},
   "source": [
    "Where, in case that $\\psi$ is over 2.289, let $\\psi$ equal to 2.289."
   ]
  },
  {
   "cell_type": "markdown",
   "metadata": {},
   "source": [
    "Region 8:"
   ]
  },
  {
   "cell_type": "markdown",
   "metadata": {},
   "source": [
    "$$\n",
    "\\displaystyle U_{s,vert} = 2.289\n",
    "$$"
   ]
  },
  {
   "cell_type": "markdown",
   "metadata": {},
   "source": [
    "Where  \n",
    "$ \\psi $ is the linier thermal transmittance of the basement / 基礎の線熱貫流率 (W/mK)."
   ]
  },
  {
   "cell_type": "markdown",
   "metadata": {},
   "source": [
    "$\\psi_{Q_j}$ is defined depending the region and $j$ in the table below."
   ]
  },
  {
   "cell_type": "markdown",
   "metadata": {},
   "source": [
    "| | Region1 | Region2 | Region3 | Region4 | Region5 | Region6 | Region7 |\n",
    "| --- | --- | --- | --- | --- | --- | --- | --- |\n",
    "| $j=0$ | 2.289 | 2.289 | 2.289 | 2.289 | 2.289 | 2.289 | 2.289 |\n",
    "| $j=1$ | 0.635 | 0.635 | 1.517 | 1.504 | 1.872 | 1.872 | 2.289 |\n",
    "| $j=2$ | 0.675 | 0.675 | 1.272 | 1.329 | 2.087 | 2.087 | 2.289 |\n",
    "| $j=3$ | 0.516 | 0.516 | 0.573 | 0.877 | 0.863 | 0.863 | 0.863 |\n",
    "| $j=4$ | 0.450 | 0.450 | 0.450 | 0.601 | 0.601 | 0.601 | 0.601 |"
   ]
  },
  {
   "cell_type": "code",
   "execution_count": 57,
   "metadata": {},
   "outputs": [],
   "source": [
    "def get_psi_Q_j(region):\n",
    "    return {\n",
    "        'Region1' : [2.289, 0.635, 0.675, 0.516, 0.450],\n",
    "        'Region2' : [2.289, 0.635, 0.675, 0.516, 0.450],\n",
    "        'Region3' : [2.289, 1.517, 1.272, 0.573, 0.450],\n",
    "        'Region4' : [2.289, 1.504, 1.329, 0.877, 0.601],\n",
    "        'Region5' : [2.289, 1.872, 2.087, 0.863, 0.601],\n",
    "        'Region6' : [2.289, 1.872, 2.087, 0.863, 0.601],\n",
    "        'Region7' : [2.289, 2.289, 2.289, 0.863, 0.601]    \n",
    "    }[region]"
   ]
  },
  {
   "cell_type": "code",
   "execution_count": 58,
   "metadata": {},
   "outputs": [],
   "source": [
    "def get_psi(Region, Q):\n",
    "    if Region == 'Region8':\n",
    "        return 2.289\n",
    "    else:\n",
    "        psi_Q_j = get_psi_Q_j(Region)\n",
    "        Q_j = get_Q_j(Region)\n",
    "        if Q > Q_j[1]:\n",
    "            return min(2.289, ( Q - Q_j[1] ) / ( Q_j[0] - Q_j[1]) * psi_Q_j[0] + ( Q - Q_j[0] ) / ( Q_j[1] - Q_j[0]) * psi_Q_j[1] )\n",
    "        elif Q > Q_j[2]:\n",
    "            return min(2.289, ( Q - Q_j[2] ) / ( Q_j[1] - Q_j[2]) * psi_Q_j[1] + ( Q - Q_j[1] ) / ( Q_j[2] - Q_j[1]) * psi_Q_j[2] )\n",
    "        elif Q > Q_j[3]:\n",
    "            return min(2.289, ( Q - Q_j[3] ) / ( Q_j[2] - Q_j[3]) * psi_Q_j[2] + ( Q - Q_j[2] ) / ( Q_j[3] - Q_j[2]) * psi_Q_j[3] )\n",
    "        else:\n",
    "            return min(2.289, ( Q - Q_j[4] ) / ( Q_j[3] - Q_j[4]) * psi_Q_j[3] + ( Q - Q_j[3] ) / ( Q_j[4] - Q_j[3]) * psi_Q_j[4] )"
   ]
  },
  {
   "cell_type": "markdown",
   "metadata": {},
   "source": [
    "#### Example"
   ]
  },
  {
   "cell_type": "code",
   "execution_count": 59,
   "metadata": {},
   "outputs": [
    {
     "data": {
      "text/plain": [
       "0.554"
      ]
     },
     "execution_count": 59,
     "metadata": {},
     "output_type": "execute_result"
    }
   ],
   "source": [
    "get_U_s_vert('Region6', 2.7)"
   ]
  },
  {
   "cell_type": "code",
   "execution_count": 60,
   "metadata": {},
   "outputs": [
    {
     "data": {
      "text/plain": [
       "0.863"
      ]
     },
     "execution_count": 60,
     "metadata": {},
     "output_type": "execute_result"
    }
   ],
   "source": [
    "get_psi('Region6',2.7)"
   ]
  },
  {
   "cell_type": "markdown",
   "metadata": {},
   "source": [
    "#### 11.3　床下空間に接する床の面積及び床下空間の基礎外周長さ（床下換気から転用）"
   ]
  },
  {
   "cell_type": "markdown",
   "metadata": {},
   "source": [
    "$$\n",
    "\\displaystyle L_{uf} = r \\times 4 \\times \\sqrt{A_{s,ufvnt,A}}\n",
    "$$"
   ]
  },
  {
   "cell_type": "markdown",
   "metadata": {},
   "source": [
    "$ L_{uf} $ is the perimeter length of the basement of the under floor space with outside air intake / 外気を導入する床下空間の基礎外周長さ (m);  \n",
    "$r$ is the ratio which represents the horizontal plan shape (like aspect ratio) / 床下の平面形状(アスペクト比等)を考慮した係数(無次元数) (=1.02);  \n",
    "$A_{s,ufvnt,i}$ is the floor area on the under floor space with air intake at heating and cooling area $i$ / 暖冷房空間$i$の外気を導入する床下空間に接する床の面積の合計 (m<sup>2</sup>)."
   ]
  },
  {
   "cell_type": "code",
   "execution_count": 61,
   "metadata": {},
   "outputs": [],
   "source": [
    "def get_L_uf(A_s_ufvnt_A):\n",
    "    r = 1.02\n",
    "    return r * 4 * (A_s_ufvnt_A ** 0.5)"
   ]
  },
  {
   "cell_type": "markdown",
   "metadata": {},
   "source": [
    "$$\n",
    "\\displaystyle\n",
    "A_{s,ufvnt,i} = r_{A_s,uf,i} \\times A_{HCZ,i} \\times r_{A,ufvnt}\n",
    "$$"
   ]
  },
  {
   "cell_type": "markdown",
   "metadata": {},
   "source": [
    "$A_{s,ufvnt,i}$ is the floor area on the under floor space with air intake at heating and cooling area $i$ / 暖冷房空間$i$の外気を導入する床下空間に接する床の面積 (m<sup>2</sup>)  \n",
    "$r_{A_s,uf,i}$ is the ratio of the floor area on the under floor space to the floor area of heating and cooling area $i$ / 暖冷房区画$i$の床面積に対する床下空間に接する床の面積の割合  \n",
    "$ A_{HCZ,i} $ is the floor area of heating and cooling area $i$ / 暖冷房区画 $i$ の床面積 (m<sup>2</sup>);  \n",
    "$r_{A,ufvnt}$ is the ratio of the under floor space area with air intake to the under floor space area / 当該住戸において、床下空間全体の面積に対する外気を導入する床下空間の面積の比"
   ]
  },
  {
   "cell_type": "markdown",
   "metadata": {},
   "source": [
    "$r_{A_s,uf,i}$ is defined in the table below."
   ]
  },
  {
   "cell_type": "markdown",
   "metadata": {},
   "source": [
    "$$\n",
    "\\displaystyle\n",
    "r_{A_s,uf,i} = \\left\\{\n",
    "    \\begin{array}{ll}\n",
    "        1.0 & ( i = 0,1,5,6,7) \\\\\n",
    "        0.0 & ( i = 2,3,4,9,10,11 ) \\\\\n",
    "        \\frac{ 10.76 }{ 13.25 } & ( i = 8 )\n",
    "    \\end{array}\n",
    "\\right.\n",
    "$$"
   ]
  },
  {
   "cell_type": "markdown",
   "metadata": {},
   "source": [
    "| Heating and Cooling<br> Area Number | Assumed Room Name | Flooa Area<br>on Under Floor Space (m<sup>2</sup>) |  Flooa Area (m<sup>2</sup>) | $r_{A_s,uf,i}$ |\n",
    "| :---: | :---: | :---: | :---: | :---: |\n",
    "| 1 | LDK | 29.81 | 29.81 | 1.0 |\n",
    "| 2 | Japanese Style Room / 和室 | 16.56 | 16.56 | 1.0 |\n",
    "| 3 | Bedroom / 主寝室 | 0.0 | 13.25 | 0.0 |\n",
    "| 4 | Children Room 1 / 子供室1 | 0.0 | 10.76 | 0.0 |\n",
    "| 5 | Children Room 2 / 子供室2 | 0.0 | 10.77 | 0.0 |\n",
    "| 6 | Bathroom / 浴室 | 3.31 | 3.31 | 1.0 |\n",
    "| 7 | Toilet on 1st. floor / 1階便所 | 1.66 | 1.66 | 1.0 |\n",
    "| 8 | Washroom / 洗面所 | 3.31 | 3.31 | 1.0 |\n",
    "| 9 | Hall / ホール | 10.76 |13.25 | 10.76/13.25 |\n",
    "| 10 | Closet / クローゼット | 0.0 | 4.97 | 0.0 |\n",
    "| 11 | Hall on 2nd. floor / 2階ホール | 0.0 | 10.77 | 0.0 |\n",
    "| 12 | Toilet on 2nd. floor / 2階便所 | 0.0 | 1.66 | 0.0 |"
   ]
  },
  {
   "cell_type": "code",
   "execution_count": 62,
   "metadata": {},
   "outputs": [],
   "source": [
    "def get_r_A_s_uf():\n",
    "    return [1.0, 1.0, 0.0, 0.0, 0.0, 1.0, 1.0, 1.0, 10.76/13.25, 0.0, 0.0, 0.0]"
   ]
  },
  {
   "cell_type": "code",
   "execution_count": 63,
   "metadata": {},
   "outputs": [],
   "source": [
    "def get_A_s_ufvnt(r_A_ufvnt, A_HCZ, r_A_s_uf): \n",
    "    return [ r_A_s_uf_i * A_HCZ_i * r_A_ufvnt for r_A_s_uf_i, A_HCZ_i in zip( r_A_s_uf, A_HCZ ) ]"
   ]
  },
  {
   "cell_type": "markdown",
   "metadata": {},
   "source": [
    "The sum of the floor area on the under floor space with air intake $A_{s,ufvnt,A}$ is calculated below."
   ]
  },
  {
   "cell_type": "markdown",
   "metadata": {},
   "source": [
    "$$\n",
    "\\displaystyle A_{s,ufvnt,A} = \\sum_{i=1}^{12}{A_{s,ufvnt,i}}\n",
    "$$"
   ]
  },
  {
   "cell_type": "code",
   "execution_count": 64,
   "metadata": {},
   "outputs": [],
   "source": [
    "def get_A_s_ufvnt_A (A_s_ufvnt):\n",
    "    return sum(A_s_ufvnt)"
   ]
  },
  {
   "cell_type": "markdown",
   "metadata": {},
   "source": [
    "#### Example"
   ]
  },
  {
   "cell_type": "code",
   "execution_count": 65,
   "metadata": {},
   "outputs": [
    {
     "data": {
      "text/plain": [
       "[30.0,\n",
       " 14.51499805220101,\n",
       " 0.0,\n",
       " 0.0,\n",
       " 0.0,\n",
       " 3.8329000770613924,\n",
       " 1.9222399178011813,\n",
       " 3.8329000770613924,\n",
       " 12.459820190084768,\n",
       " 0.0,\n",
       " 0.0,\n",
       " 0.0]"
      ]
     },
     "execution_count": 65,
     "metadata": {},
     "output_type": "execute_result"
    }
   ],
   "source": [
    "r_A_s_uf = get_r_A_s_uf()\n",
    "A_HCZ = HCFA.get_A_HCZ( A_A = 120.08, A_MR = 30.0, A_OR = 45.0 )\n",
    "A_s_ufvnt = get_A_s_ufvnt( r_A_ufvnt = 1.0, A_HCZ = A_HCZ, r_A_s_uf = r_A_s_uf )\n",
    "A_s_ufvnt"
   ]
  },
  {
   "cell_type": "code",
   "execution_count": 66,
   "metadata": {},
   "outputs": [
    {
     "data": {
      "text/plain": [
       "66.56285831420975"
      ]
     },
     "execution_count": 66,
     "metadata": {},
     "output_type": "execute_result"
    }
   ],
   "source": [
    "A_s_ufvnt_A = get_A_s_ufvnt_A( A_s_ufvnt )\n",
    "A_s_ufvnt_A"
   ]
  },
  {
   "cell_type": "code",
   "execution_count": 67,
   "metadata": {},
   "outputs": [
    {
     "data": {
      "text/plain": [
       "33.28711409301896"
      ]
     },
     "execution_count": 67,
     "metadata": {},
     "output_type": "execute_result"
    }
   ],
   "source": [
    "get_L_uf( A_s_ufvnt_A )"
   ]
  },
  {
   "cell_type": "markdown",
   "metadata": {},
   "source": [
    "#### 11.4　土間床中央部における熱流"
   ]
  },
  {
   "cell_type": "markdown",
   "metadata": {},
   "source": [
    "### Integrated Function"
   ]
  },
  {
   "cell_type": "markdown",
   "metadata": {},
   "source": [
    "#### Input Data"
   ]
  },
  {
   "cell_type": "markdown",
   "metadata": {},
   "source": [
    "spec = {  \n",
    "\n",
    "    'region'                             : 'Region1', 'Region2', 'Region3', 'Region4', 'Region5', 'Region6', 'Region7', 'Region8' as string  \n",
    "    'region_solar'                       : 'A1', 'A2', 'A3', 'A4', 'A5' as string  \n",
    "    \n",
    "    'number of collector unit'           : 0,  \n",
    "    'azimuth of collector units'         :  1: less then 15 degree to east or west from due south,   \n",
    "                                            2:  15 degree or more and less than  45 degree to east from due south,  \n",
    "                                            3:  45 degree or more and less than  75 degree to east from due south,  \n",
    "                                            4:  75 degree or more and less than 105 degree to east from due south,  \n",
    "                                            5: 105 degree or more and less than 135 degree to east from due south,  \n",
    "                                            6: 135 degree or more and less than 165 degree to east from due south,  \n",
    "                                            7:  15 degree or less from due north,    \n",
    "                                            8: 135 degree or more and less than 165 degree to west from due south,  \n",
    "                                            9: 105 degree or more and less than 135 degree to west from due south,  \n",
    "                                           10:  75 degree or more and less than 105 degree to west from due south,  \n",
    "                                           11:  45 degree or more and less than  75 degree to west from due south,  \n",
    "                                           12:  15 degree or more and less than  45 degree to west from due south  \n",
    "    \n",
    "   \n",
    "    'PV for fan'                         : 1 : Not equipped, 2 : Equipped,  as string    \n",
    "    'fan type'                           : 1 : 'DC', 2 : 'AC',  as string  \n",
    "    'fan air flow rate'                  : 0.0, #  (m3/h) at the external static pressure of zero\n",
    "    \n",
    "    'water heating unit'                 : 1 : Not equipped, 2 : Equipped,  as string    \n",
    "    'PV for circulation pump'            : 1 : Not equipped, 2 : Equipped,  as string  # if 'water heating unit' is 'Equipped'\n",
    "    'tank size'                          : 0,   # (L) if 'Water heating system' is 'Equipped'     # if 'water heating unit' is 'Equipped'\n",
    "    \n",
    "    'spase where heated air is supplied' :　1 : Under floor、2 : Room,  as string    \n",
    "    '基礎外壁の面積'\n",
    "    '基礎外壁の熱貫流率'\n",
    "    '土間中央部の面積'\n",
    "    'heat storage elements of under floor' : 1 : 'not considered', 2 : 'Considered' ,  as string # if 'spase where heated air is supplied' is 'Under floor'\n",
    "    '床下蓄熱部位の表面積'\n",
    "    '床下蓄熱部位の熱容量'\n",
    "    \n",
    "    \n",
    "\n",
    "    'area of collector unit'             : 0.0  # (m2)  \n",
    "    'angle of collector units'           : 1: 0 degree (horizontal), 2: 10 degree, 3: 20 degree, 4: 30 degree, 5: 40 degree,   \n",
    "                                           6: 50 degree, 7: 60 degree, 8: 70 degree, 9: 80 degree, 10: 90 degree (vertical)\n",
    "    'inclination of characteristic line' : 0.0  # (-)  \n",
    "    'intercept of characteristic line'   : 0.0  # (W/(m2K))  \n",
    "    'mass flow rate'                     : 0.000  # when testing according to JIS (kg/(sm2))  \n",
    "\n",
    "}"
   ]
  },
  {
   "cell_type": "markdown",
   "metadata": {},
   "source": [
    "Example"
   ]
  },
  {
   "cell_type": "markdown",
   "metadata": {},
   "source": [
    "Specification / 仕様"
   ]
  },
  {
   "cell_type": "code",
   "execution_count": 68,
   "metadata": {},
   "outputs": [],
   "source": [
    "spec = {  \n",
    "    'region'                             : 'Region6',  \n",
    "    'region_solar'                       : 'A5',  \n",
    "\n",
    "    'number of collector unit'           : 2,  \n",
    "    'azimuth of collector units'         : '1',  \n",
    "    \n",
    "    'PV for fan'                         : '1',  \n",
    "    'fan type'                           : '2',  \n",
    "    \n",
    "    'PV for circulation pump'            : '1',  \n",
    "    'tank size'                          : 300,  \n",
    "    'fan air flow rate'                  : 720.0,  \n",
    "\n",
    "    'area of collector unit'             : [15.0,   15.0], \n",
    "    'angle of collector units'           : ['4',    '4'],\n",
    "    'inclination of characteristic line' : [0.1,    0.468],  \n",
    "    'intercept of characteristic line'   : [2.0,    5.816],  \n",
    "    'mass flow rate'                     : [0.0107, 0.0107] \n",
    "}"
   ]
  },
  {
   "cell_type": "markdown",
   "metadata": {},
   "source": [
    "Hot water load / 給湯負荷"
   ]
  },
  {
   "cell_type": "code",
   "execution_count": 69,
   "metadata": {},
   "outputs": [
    {
     "ename": "NameError",
     "evalue": "name 'LWT' is not defined",
     "output_type": "error",
     "traceback": [
      "\u001b[1;31m---------------------------------------------------------------------------\u001b[0m",
      "\u001b[1;31mNameError\u001b[0m                                 Traceback (most recent call last)",
      "\u001b[1;32m<ipython-input-69-b756fa4c244d>\u001b[0m in \u001b[0;36m<module>\u001b[1;34m()\u001b[0m\n\u001b[1;32m----> 1\u001b[1;33m \u001b[0mLWT\u001b[0m\u001b[1;33m.\u001b[0m\u001b[0mget_L_dash_W_s\u001b[0m\u001b[1;33m(\u001b[0m\u001b[1;34m'1/1'\u001b[0m\u001b[1;33m)\u001b[0m\u001b[1;33m\u001b[0m\u001b[0m\n\u001b[0m",
      "\u001b[1;31mNameError\u001b[0m: name 'LWT' is not defined"
     ]
    }
   ],
   "source": [
    "LWT.get_L_dash_W_s('1/1')"
   ]
  },
  {
   "cell_type": "markdown",
   "metadata": {},
   "source": [
    "Daily Average Water Temperature / 日平均給水温度"
   ]
  },
  {
   "cell_type": "code",
   "execution_count": null,
   "metadata": {
    "scrolled": false
   },
   "outputs": [],
   "source": [
    "LWT.get_theta_wtr('1/1')"
   ]
  }
 ],
 "metadata": {
  "kernelspec": {
   "display_name": "Python 3",
   "language": "python",
   "name": "python3"
  },
  "language_info": {
   "codemirror_mode": {
    "name": "ipython",
    "version": 3
   },
   "file_extension": ".py",
   "mimetype": "text/x-python",
   "name": "python",
   "nbconvert_exporter": "python",
   "pygments_lexer": "ipython3",
   "version": "3.6.4"
  }
 },
 "nbformat": 4,
 "nbformat_minor": 2
}
