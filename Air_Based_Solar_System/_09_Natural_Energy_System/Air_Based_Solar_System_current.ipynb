{
 "cells": [
  {
   "cell_type": "code",
   "execution_count": 1,
   "metadata": {},
   "outputs": [
    {
     "name": "stdout",
     "output_type": "stream",
     "text": [
      "Importing Jupyter notebook from ..\\_11_Others\\External_Condition.ipynb\n",
      "Importing Jupyter notebook from ..\\_11_Others\\Solar_Radiation.ipynb\n",
      "Importing Jupyter notebook from Loads_and_Water_Temp.ipynb\n"
     ]
    }
   ],
   "source": [
    "import math\n",
    "\n",
    "import sys\n",
    "sys.path.append('../')\n",
    "import nbimporter\n",
    "from _11_Others import External_Condition as EC\n",
    "from _11_Others import Solar_Radiation as SR\n",
    "import Loads_and_Water_Temp as LWT\n",
    "\n",
    "import matplotlib.pyplot as plt\n",
    "%matplotlib inline"
   ]
  },
  {
   "cell_type": "markdown",
   "metadata": {},
   "source": [
    "# 第九章　自然エネルギー利用設備"
   ]
  },
  {
   "cell_type": "markdown",
   "metadata": {},
   "source": [
    "## 第三節　空気集熱式太陽熱利用設備"
   ]
  },
  {
   "cell_type": "markdown",
   "metadata": {},
   "source": [
    "### 5. 給湯部における補正集熱量"
   ]
  },
  {
   "cell_type": "markdown",
   "metadata": {},
   "source": [
    "日付$d$における1日当たりの給湯部における補正集熱量$L_{sun,ass,d}$"
   ]
  },
  {
   "cell_type": "markdown",
   "metadata": {},
   "source": [
    "$$\n",
    "\\begin{equation*}\n",
    "    L_{sun,ass,d} = min \\left( L_{tunk,d} , \\: \\left( L'_{k,d} + L'_{s,d} + L'_{w,d} + L'_{b1,d} + L'_{b2,d} + L'_{ba1,d} \\right) \\times f_{sr,uplim} \\right)\n",
    "\\end{equation*}\n",
    "$$"
   ]
  },
  {
   "cell_type": "markdown",
   "metadata": {},
   "source": [
    "$f_{sr,uplim}$ : 給湯部の分担率上限値(-)   \n",
    "$L_{sun,ass,d}$ : 日付$d$における1日当たりの給湯部における補正集熱量(MJ/日)  \n",
    "$L_{tnk,d}$ : 日付$d$における1日当たりの給湯部におけるタンク蓄熱量の上限による補正集熱量(MJ/日)  \n",
    "$L'_{k,d}$ : 日付$d$における1日当たりの台所水栓における節湯補正給湯熱負荷(MJ/日)  \n",
    "$L'_{s,d}$ : 日付$d$における1日当たりの浴室シャワー水栓における節湯補正給湯熱負荷(MJ/日)  \n",
    "$L'_{w,d}$ : 日付$d$における1日当たりの洗面水栓における節湯補正給湯熱負荷(MJ/日)  \n",
    "$L'_{b1,d}$ : 日付$d$における1日当たりの浴槽水栓湯はり時における節湯補正給湯熱負荷(MJ/日)  \n",
    "$L'_{b2,d}$ : 日付$d$における1日当たりの浴槽自動湯はり時における節湯補正給湯熱負荷(MJ/日)  \n",
    "$L'_{ba1,d}$ : 日付$d$における1日当たりの浴槽水栓さし湯時における節湯補正給湯熱負荷(MJ/日)"
   ]
  },
  {
   "cell_type": "markdown",
   "metadata": {},
   "source": [
    "給湯部の分担率上限値$f_{sr,uplim}$"
   ]
  },
  {
   "cell_type": "markdown",
   "metadata": {},
   "source": [
    "$$\n",
    "\\begin{equation*}\n",
    "    f_{sr,uplim} = 0.9\n",
    "\\end{equation*}\n",
    "$$"
   ]
  },
  {
   "cell_type": "code",
   "execution_count": 2,
   "metadata": {},
   "outputs": [],
   "source": [
    "def get_L_sun_ass(L_tnk, L_dash_s):\n",
    "    f_sr_uplim = 0.9 # -\n",
    "    return min(L_tnk, sum(L_dash_s) * f_sr_uplim)"
   ]
  },
  {
   "cell_type": "markdown",
   "metadata": {},
   "source": [
    "日付$d$における1日当たりの給湯部におけるタンク蓄熱量の上限による補正集熱量$L_{tnk,d}$"
   ]
  },
  {
   "cell_type": "markdown",
   "metadata": {},
   "source": [
    "$$\n",
    "\\begin{equation*}\n",
    "   L_{tnk,d} = min \\left( Q_{d} , \\: HC_{tnk,d} \\times \\alpha_{tnk,d} \\right)\n",
    "\\end{equation*}\n",
    "$$"
   ]
  },
  {
   "cell_type": "markdown",
   "metadata": {},
   "source": [
    "$L_{tnk,d}$ : 日付$d$における1日当たりの給湯部におけるタンク蓄熱量の上限による補正集熱量(MJ/日)  \n",
    "$Q_{d}$ : 日付$d$における1日当たりの基準集熱量(MJ/日)  \n",
    "$HC_{tnk,d}$ : 日付$d$における給湯部のタンク蓄熱量の上限(MJ)  \n",
    "$\\alpha_{tnk,d}$ : 日付$d$における給湯部のタンク有効利用率(1/日)  "
   ]
  },
  {
   "cell_type": "markdown",
   "metadata": {},
   "source": [
    "日付$d$における給湯部のタンク有効利用率$\\alpha_{tnk,d}$"
   ]
  },
  {
   "cell_type": "markdown",
   "metadata": {},
   "source": [
    "$$\n",
    "\\begin{equation*}\n",
    "    \\alpha_{tnk,d} = 1.0\n",
    "\\end{equation*}\n",
    "$$"
   ]
  },
  {
   "cell_type": "code",
   "execution_count": 3,
   "metadata": {},
   "outputs": [],
   "source": [
    "def get_L_tnk(Q_d, HC_tnk):\n",
    "    alpha_tnk = 1  # 1/day\n",
    "    return min(Q_d, HC_tnk * alpha_tnk)"
   ]
  },
  {
   "cell_type": "markdown",
   "metadata": {},
   "source": [
    "日付$d$における給湯部のタンク蓄熱量の上限$HC_{tnk,d}$"
   ]
  },
  {
   "cell_type": "markdown",
   "metadata": {},
   "source": [
    "$$\n",
    "\\begin{equation*}\n",
    "    HC_{tnk,d} = \\left( \\theta_{tnk} - \\theta_{wtr,d} \\right) \\times W_{tnk} \\times 10^{-3}\n",
    "\\end{equation*}\n",
    "$$"
   ]
  },
  {
   "cell_type": "markdown",
   "metadata": {},
   "source": [
    "$HC_{tnk,d}$ : 日付$d$における給湯部のタンク蓄熱量の上限(MJ)  \n",
    "$\\theta_{tnk}$ : 給湯部のタンク内温度(℃)   \n",
    "$\\theta_{wtr,d}$ : 日付$d$における日平均給水温度(℃)  \n",
    "$W_{tnk}$ : 給湯部のタンク容量(L)  "
   ]
  },
  {
   "cell_type": "markdown",
   "metadata": {},
   "source": [
    "給湯部のタンク内温度$\\theta_{tnk}$"
   ]
  },
  {
   "cell_type": "markdown",
   "metadata": {},
   "source": [
    "$$\n",
    "\\begin{equation*}\n",
    "    \\theta_{tnk} = 65\n",
    "\\end{equation*}\n",
    "$$"
   ]
  },
  {
   "cell_type": "code",
   "execution_count": 4,
   "metadata": {},
   "outputs": [],
   "source": [
    "def get_HC_tnk(theta_wtr, W_tnk):\n",
    "    theta_tnk = 65  # degree C\n",
    "    return (theta_tnk - theta_wtr) * W_tnk * 10**(-3)"
   ]
  },
  {
   "cell_type": "markdown",
   "metadata": {},
   "source": [
    "#### Example"
   ]
  },
  {
   "cell_type": "code",
   "execution_count": 5,
   "metadata": {},
   "outputs": [
    {
     "data": {
      "text/plain": [
       "18.127277300099998"
      ]
     },
     "execution_count": 5,
     "metadata": {},
     "output_type": "execute_result"
    }
   ],
   "source": [
    "_HC_tnk = get_HC_tnk(theta_wtr = 4.575742333, W_tnk = 300)\n",
    "_HC_tnk"
   ]
  },
  {
   "cell_type": "code",
   "execution_count": 6,
   "metadata": {
    "scrolled": true
   },
   "outputs": [
    {
     "data": {
      "text/plain": [
       "18.127277300099998"
      ]
     },
     "execution_count": 6,
     "metadata": {},
     "output_type": "execute_result"
    }
   ],
   "source": [
    "_L_tnk = get_L_tnk(Q_d = 100.024, HC_tnk = _HC_tnk)\n",
    "_L_tnk"
   ]
  },
  {
   "cell_type": "code",
   "execution_count": 7,
   "metadata": {},
   "outputs": [
    {
     "data": {
      "text/plain": [
       "18.127277300099998"
      ]
     },
     "execution_count": 7,
     "metadata": {},
     "output_type": "execute_result"
    }
   ],
   "source": [
    "get_L_sun_ass(L_tnk =_L_tnk, L_dash_s = [25.80175401, 33.36433708, 6.821153359, 26.69146967, 0.0, 4.831208333, 0.0])"
   ]
  },
  {
   "cell_type": "markdown",
   "metadata": {},
   "source": [
    "### 6. 基準集熱量"
   ]
  },
  {
   "cell_type": "markdown",
   "metadata": {},
   "source": [
    "日付$d$における1日当たりの基準集熱量$Q_{d}$"
   ]
  },
  {
   "cell_type": "markdown",
   "metadata": {},
   "source": [
    "$$\n",
    "\\begin{equation*}\n",
    "    Q_{d} = \\sum_{t=0}^{23} \\left( Q_{col,d,t} \\times f_{hx} \\times f_{s} \\times t_{cp,d,t} \\right)\n",
    "\\end{equation*}\n",
    "$$"
   ]
  },
  {
   "cell_type": "markdown",
   "metadata": {},
   "source": [
    "$f_{hx}$ : 給湯部の熱交換効率(-)  \n",
    "$f_{s}$ : 給湯部のシステム効率(-)  \n",
    "$Q_{d}$ : 日付$d$における1日当たりの基準集熱量(MJ/日)  \n",
    "$Q_{col,d,t}$ : 日付$d$の時刻$t$における1時間当たりの集熱部における集熱量(MJ/h)   \n",
    "$t_{cp,d,t}$ : 日付$d$の時刻$t$における1時間当たりの循環ポンプの稼働時間(h/h)   "
   ]
  },
  {
   "cell_type": "markdown",
   "metadata": {},
   "source": [
    "給湯部の熱交換効率$f_{hx}$"
   ]
  },
  {
   "cell_type": "markdown",
   "metadata": {},
   "source": [
    "$$\n",
    "\\begin{equation*}\n",
    "    f_{hx} = 0.25\n",
    "\\end{equation*}\n",
    "$$"
   ]
  },
  {
   "cell_type": "markdown",
   "metadata": {},
   "source": [
    "給湯部のシステム効率$f_{s}$"
   ]
  },
  {
   "cell_type": "markdown",
   "metadata": {},
   "source": [
    "$$\n",
    "\\begin{equation*}\n",
    "    f_{s} = 0.85\n",
    "\\end{equation*}\n",
    "$$"
   ]
  },
  {
   "cell_type": "code",
   "execution_count": 8,
   "metadata": {},
   "outputs": [],
   "source": [
    "def get_Q_d(Q_col, t_cp):    \n",
    "    f_hx = 0.25  # -\n",
    "    f_s = 0.85   # -\n",
    "    return Q_col * f_hx * f_s * t_cp"
   ]
  },
  {
   "cell_type": "markdown",
   "metadata": {},
   "source": [
    "#### Example"
   ]
  },
  {
   "cell_type": "code",
   "execution_count": 9,
   "metadata": {},
   "outputs": [
    {
     "data": {
      "text/plain": [
       "0.0034050766079999997"
      ]
     },
     "execution_count": 9,
     "metadata": {},
     "output_type": "execute_result"
    }
   ],
   "source": [
    "get_Q_d(Q_col = 0.026268672, t_cp = 0.61)"
   ]
  },
  {
   "cell_type": "markdown",
   "metadata": {},
   "source": [
    "### 7. 消費電力量"
   ]
  },
  {
   "cell_type": "markdown",
   "metadata": {},
   "source": [
    "#### 7.1　補機の消費電力量"
   ]
  },
  {
   "cell_type": "markdown",
   "metadata": {},
   "source": [
    "日付$d$における1日当たりの補機の消費電力量のうち給湯設備への付加分$E_{E,ass,aux,W,d}$"
   ]
  },
  {
   "cell_type": "markdown",
   "metadata": {},
   "source": [
    "$$\n",
    "\\begin{equation*}\n",
    "    E_{E,ass,aux,W,d} = \\sum_{t=0}^{23} E_{E,ass,aux,W,d,t}\n",
    "\\end{equation*}\n",
    "$$"
   ]
  },
  {
   "cell_type": "markdown",
   "metadata": {},
   "source": [
    "$E_{E,ass,aux,W,d}$ : 日付$d$における1日当たりの補機の消費電力量のうち給湯設備への付加分(kWh/日)   \n",
    "$E_{E,ass,aux,W,d,t}$ : 日付$d$の時刻$t$における1時間当たりの補機の消費電力量のうち給湯設備への付加分(kWh/h)   "
   ]
  },
  {
   "cell_type": "markdown",
   "metadata": {},
   "source": [
    "日付$d$の時刻$t$における1時間当たりの補機の消費電力量のうち給湯設備への付加分$E_{E,ass,aux,W,d,t}$"
   ]
  },
  {
   "cell_type": "markdown",
   "metadata": {},
   "source": [
    "$$\n",
    "\\begin{equation*}\n",
    "    E_{E,ass,aux,W,d,t} = E_{E,fan,d,t} + E_{E,cp,d,t}\n",
    "\\end{equation*}\n",
    "$$"
   ]
  },
  {
   "cell_type": "markdown",
   "metadata": {},
   "source": [
    "$E_{E,ass,aux,W,d,t}$ : 日付$d$の時刻$t$における1時間当たりの補機の消費電力量のうち給湯設備への付加分(kWh/h)   \n",
    "$E_{E,cp,d,t}$ : 日付$d$の時刻$t$における1時間当たりの循環ポンプの消費電力量(kWh/h)   \n",
    "$E_{E,fan,d,t}$ : 日付$d$の時刻$t$における1時間当たりの空気搬送ファンの消費電力量(kWh/h)   "
   ]
  },
  {
   "cell_type": "code",
   "execution_count": 10,
   "metadata": {},
   "outputs": [],
   "source": [
    "def get_E_E_ass_aux_W(E_E_fan, E_E_cp):    \n",
    "    return E_E_fan + E_E_cp"
   ]
  },
  {
   "cell_type": "markdown",
   "metadata": {},
   "source": [
    "#### 7.2　空気搬送ファンの消費電力量"
   ]
  },
  {
   "cell_type": "markdown",
   "metadata": {},
   "source": [
    "日付$d$における1日当たりの空気搬送ファンの消費電力量$E_{E,fan,d,t}$"
   ]
  },
  {
   "cell_type": "markdown",
   "metadata": {},
   "source": [
    "<p style=\"text-indent:2em\">空気搬送ファンの自立運転用太陽光発電装置を採用する場合：</p>  \n",
    "$$ \n",
    "\\begin{equation*}\n",
    "    E_{E,fan,d,t} =0\n",
    "\\end{equation*}\n",
    "$$"
   ]
  },
  {
   "cell_type": "markdown",
   "metadata": {},
   "source": [
    "<p style=\"text-indent:2em\">空気搬送ファンの自立運転用太陽光発電装置を採用しない場合：</p> \n",
    "<p style=\"text-indent:4em\">$t_{cp,d,t} = 0$の場合（循環ポンプが稼働していない場合）：</p> \n",
    "$$ \n",
    "\\begin{equation*}\n",
    "    E_{E,fan,d,t} = 0\n",
    "\\end{equation*}\n",
    "$$\n",
    "\n",
    "<p style=\"text-indent:4em\">$0 < t_{cp,d,t}$の場合（循環ポンプが稼働している場合）：</p> \n",
    "$$ \n",
    "\\begin{equation*}\n",
    "    E_{E,fan,d,t} =f_{SFP} \\times V_{fan,d,t} \\times 10^{-3}\n",
    "\\end{equation*}\n",
    "$$"
   ]
  },
  {
   "cell_type": "markdown",
   "metadata": {},
   "source": [
    "$E_{E,fan,d,t}$ : 日付$d$の時刻$t$における1時間当たりの空気搬送ファンの消費電力量(kWh/h)  \n",
    "$f_{SFP}$ : 空気搬送ファンの比消費電力(W/(m<sup>3</sup>/h))  \n",
    "$t_{cp,d,t}$ : 日付$d$の時刻$t$における1時間当たりの循環ポンプの稼働時間(h/h)  \n",
    "$V_{fan,d,t}$ : 日付$d$の時刻$t$における1時間当たりの空気搬送ファンの風量(m<sup>3</sup>/h)  "
   ]
  },
  {
   "cell_type": "markdown",
   "metadata": {},
   "source": [
    "空気搬送ファンの比消費電力$f_{SFP}$"
   ]
  },
  {
   "cell_type": "markdown",
   "metadata": {},
   "source": [
    "<table>\n",
    "    <caption>表3 空気搬送ファンの比消費電力$f_{SFP}$</caption>\n",
    "    <thead style=\"background-color:lightgrey\" >\n",
    "        <tr>\n",
    "            <th style=\"text-align:center; text-align:center; border:1px solid black;\">ファンの種別</th>\n",
    "            <th style=\"text-align:center; text-align:center; border:1px solid black;\">ファンの比消費電力$f_{SFP}$<br/>(W/(m<sup>3</sup>/h))</th>\n",
    "        </tr>\n",
    "    </thead>\n",
    "    <tbody>    \n",
    "        <tr>\n",
    "            <td style=\"border:1px solid black; text-align:center;\">ACファン</td>\n",
    "            <td style=\"border:1px solid black; text-align:center;\">0.4</td>\n",
    "        </tr>\n",
    "        <tr>\n",
    "            <td style=\"border:1px solid black; text-align:center;\">DCファン</td>\n",
    "            <td style=\"border:1px solid black; text-align:center;\">0.2</td>\n",
    "        </tr>\n",
    "    </tbody> \n",
    "<table>"
   ]
  },
  {
   "cell_type": "code",
   "execution_count": 11,
   "metadata": {},
   "outputs": [],
   "source": [
    "def get_f_SFP(Fan_Type):\n",
    "    return {'AC' : 0.4, 'DC' : 0.2}[Fan_Type]"
   ]
  },
  {
   "cell_type": "code",
   "execution_count": 12,
   "metadata": {},
   "outputs": [],
   "source": [
    "def get_E_E_fan(t_cp, V_fan, PV_for_Fan, Fan_Type):\n",
    "    if PV_for_Fan is True:\n",
    "        return 0\n",
    "    elif PV_for_Fan is False:\n",
    "        if t_cp == 0:\n",
    "            return 0\n",
    "        else:\n",
    "            f_SFP = get_f_SFP(Fan_Type)  # W/(m3/h)\n",
    "            return f_SFP * V_fan * 10**(-3)\n",
    "    else:\n",
    "        raise Exeption"
   ]
  },
  {
   "cell_type": "markdown",
   "metadata": {},
   "source": [
    "#### 7.3　循環ポンプの消費電力量"
   ]
  },
  {
   "cell_type": "markdown",
   "metadata": {},
   "source": [
    "日付$d$の時刻$t$における1時間当たりの循環ポンプの消費電力量$E_{E,cp,d,t}$"
   ]
  },
  {
   "cell_type": "markdown",
   "metadata": {},
   "source": [
    "$$\n",
    "\\begin{equation*}\n",
    "    E_{E,cp,d,t} = P_{cp} \\times t_{cp,d,t} \\times 10^{-3}\n",
    "\\end{equation*}\n",
    "$$"
   ]
  },
  {
   "cell_type": "markdown",
   "metadata": {},
   "source": [
    "$E_{E,cp,d,t}$ : 日付$d$の時刻$t$における1時間当たりの循環ポンプの消費電力量(kWh/h)   \n",
    "$P_{cp}$ : 循環ポンプの消費電力(W)   \n",
    "$t_{cp,d,t}$ : 日付$d$の時刻$t$における1時間当たりの循環ポンプの稼働時間(h/h)  "
   ]
  },
  {
   "cell_type": "markdown",
   "metadata": {},
   "source": [
    "循環ポンプの消費電力$P_{cp}$"
   ]
  },
  {
   "cell_type": "markdown",
   "metadata": {},
   "source": [
    "<table>\n",
    "    <caption>表4 循環ポンプの消費電力$P_{cp}$</caption>\n",
    "    <thead style=\"background-color:lightgrey\" >\n",
    "        <tr>\n",
    "            <th style=\"text-align:center; text-align:center; border:1px solid black;\">循環ポンプの自立運転用太陽光発電装置の採用の有無</th>\n",
    "            <th style=\"text-align:center; text-align:center; border:1px solid black;\">循環ポンプの消費電力$P_{cp}$<br/>(W)</th>\n",
    "        </tr>\n",
    "    </thead>\n",
    "    <tbody>    \n",
    "        <tr>\n",
    "            <td style=\"border:1px solid black; text-align:center;\">採用しない</td>\n",
    "            <td style=\"border:1px solid black; text-align:center;\">80</td>\n",
    "        </tr>\n",
    "        <tr>\n",
    "            <td style=\"border:1px solid black; text-align:center;\">採用する</td>\n",
    "            <td style=\"border:1px solid black; text-align:center;\">0</td>\n",
    "        </tr>\n",
    "    </tbody> \n",
    "<table>"
   ]
  },
  {
   "cell_type": "code",
   "execution_count": 13,
   "metadata": {},
   "outputs": [],
   "source": [
    "def get_P_cp(PV_for_Pump):\n",
    "    return {False : 80, True : 0}[PV_for_Pump]"
   ]
  },
  {
   "cell_type": "code",
   "execution_count": 14,
   "metadata": {},
   "outputs": [],
   "source": [
    "def get_E_E_pump(t_cp, PV_for_Pump):\n",
    "    P_cp = get_P_cp(PV_for_Pump)  # W\n",
    "    return P_cp * t_cp * 10**(-3)"
   ]
  },
  {
   "cell_type": "markdown",
   "metadata": {},
   "source": [
    "#### Example"
   ]
  },
  {
   "cell_type": "code",
   "execution_count": 15,
   "metadata": {},
   "outputs": [
    {
     "data": {
      "text/plain": [
       "0.28800000000000003"
      ]
     },
     "execution_count": 15,
     "metadata": {},
     "output_type": "execute_result"
    }
   ],
   "source": [
    "_E_E_fan = get_E_E_fan(t_cp = 0.61, V_fan = 720, PV_for_Fan = False, Fan_Type = 'AC')\n",
    "_E_E_fan"
   ]
  },
  {
   "cell_type": "code",
   "execution_count": 16,
   "metadata": {
    "scrolled": true
   },
   "outputs": [
    {
     "data": {
      "text/plain": [
       "0.048799999999999996"
      ]
     },
     "execution_count": 16,
     "metadata": {},
     "output_type": "execute_result"
    }
   ],
   "source": [
    "_E_E_pump = get_E_E_pump(t_cp = 0.61, PV_for_Pump = False)\n",
    "_E_E_pump"
   ]
  },
  {
   "cell_type": "code",
   "execution_count": 17,
   "metadata": {},
   "outputs": [
    {
     "data": {
      "text/plain": [
       "0.33680000000000004"
      ]
     },
     "execution_count": 17,
     "metadata": {},
     "output_type": "execute_result"
    }
   ],
   "source": [
    "get_E_E_ass_aux_W(E_E_fan = _E_E_fan, E_E_cp = _E_E_pump)"
   ]
  },
  {
   "cell_type": "markdown",
   "metadata": {},
   "source": [
    "### 8. 空気搬送ファンおよび循環ポンプ"
   ]
  },
  {
   "cell_type": "markdown",
   "metadata": {},
   "source": [
    "#### 8.1　空気搬送ファンの稼働時間"
   ]
  },
  {
   "cell_type": "markdown",
   "metadata": {},
   "source": [
    "日付$d$の時刻$t$における1時間当たりの空気搬送ファンの稼働時間$t_{fan,d,t}$  "
   ]
  },
  {
   "cell_type": "markdown",
   "metadata": {},
   "source": [
    "<p style=\"text-indent:2em\">$30 \\leq \\theta_{col,nonopg,d,t}$ かつ $25 < \\theta_{col,opg,d,t}$の場合：</p> \n",
    "$$ \n",
    "\\begin{equation*}\n",
    "   t_{fan,d,t} = 1\n",
    "\\end{equation*}\n",
    "$$\n",
    "\n",
    "<p style=\"text-indent:2em\">$\\theta_{col,nonopg,d,t} < 30$ または $\\theta_{col,opg,d,t} \\leq 25$の場合：</p> \n",
    "$$ \n",
    "\\begin{equation*}\n",
    "   t_{fan,d,t} = 0\n",
    "\\end{equation*}\n",
    "$$"
   ]
  },
  {
   "cell_type": "markdown",
   "metadata": {},
   "source": [
    "$t_{fan,d,t}$ : 日付$d$の時刻$t$における1時間当たりの空気搬送ファンの稼働時間(h/h)  \n",
    "$\\theta_{col,opg,d,t}$ : 日付$d$の時刻$t$における空気搬送ファン稼働時の集熱部の出口における空気温度(℃)  \n",
    "$\\theta_{col,nonopg,d,t}$ : 日付$d$の時刻$t$における空気搬送ファン停止時の集熱部の出口における空気温度(℃)  "
   ]
  },
  {
   "cell_type": "code",
   "execution_count": 18,
   "metadata": {},
   "outputs": [],
   "source": [
    "def get_t_fan(theta_col_opg, theta_col_nonopg):\n",
    "    if 30 <= theta_col_nonopg and 25 < theta_col_opg:\n",
    "        return 1\n",
    "    elif theta_col_nonopg < 30 or theta_col_opg <= 25:\n",
    "        return 0\n",
    "    else:\n",
    "        raise Exception"
   ]
  },
  {
   "cell_type": "markdown",
   "metadata": {},
   "source": [
    "#### 8.2　循環ポンプの稼働時間"
   ]
  },
  {
   "cell_type": "markdown",
   "metadata": {},
   "source": [
    "日付$d$の時刻$t$における1時間当たりの循環ポンプの稼働時間$t_{cp,d,t}$"
   ]
  },
  {
   "cell_type": "markdown",
   "metadata": {},
   "source": [
    "<p style=\"text-indent:2em\">$0 < t_{fan,d,t}$の場合：</p> \n",
    "$$ \n",
    "\\begin{equation*}\n",
    "   t_{cp,d,t} = 1 \\times r_{cp}\n",
    "\\end{equation*}\n",
    "$$\n",
    "\n",
    "<p style=\"text-indent:2em\">$t_{fan,d,t} = 0$の場合：</p> \n",
    "$$ \n",
    "\\begin{equation*}\n",
    "   t_{cp,d,t} = 0\n",
    "\\end{equation*}\n",
    "$$"
   ]
  },
  {
   "cell_type": "markdown",
   "metadata": {},
   "source": [
    "$r_{cp}$ : 循環ポンプの変平均稼働率(-)  \n",
    "$t_{cp,d,t}$ : 日付$d$の時刻$t$における1時間当たりの循環ポンプの稼働時間(h/h)  \n",
    "$t_{fan,d,t}$ : 日付$d$の時刻$t$における1時間当たりの空気搬送ファンの稼働時間(h/h)  "
   ]
  },
  {
   "cell_type": "markdown",
   "metadata": {},
   "source": [
    " 循環ポンプの変平均稼働率（暖房運転と循環ポンプの稼働が同時に発生しないことを考慮するための係数）$r_{cp}$ "
   ]
  },
  {
   "cell_type": "markdown",
   "metadata": {},
   "source": [
    "<table>\n",
    "    <caption>表4 循環ポンプの消費電力$P_{cp}$</caption>\n",
    "    <thead style=\"background-color:lightgrey\" >\n",
    "        <tr>\n",
    "            <th style=\"text-align:center; text-align:center; border:1px solid black;\" rowspan=2 >地域区分</th>\n",
    "            <th style=\"text-align:center; text-align:center; border:1px solid black;\" colspan=5>年間日射量地域区分</th>\n",
    "        </tr>\n",
    "        <tr>\n",
    "            <th style=\"text-align:center; text-align:center; border:1px solid black;\">A1</th>\n",
    "            <th style=\"text-align:center; text-align:center; border:1px solid black;\">A2</th>\n",
    "            <th style=\"text-align:center; text-align:center; border:1px solid black;\">A3</th>\n",
    "            <th style=\"text-align:center; text-align:center; border:1px solid black;\">A4</th>\n",
    "            <th style=\"text-align:center; text-align:center; border:1px solid black;\">A5</th>\n",
    "        </tr>\n",
    "    </thead>\n",
    "    <tbody>    \n",
    "        <tr>\n",
    "            <td style=\"border:1px solid black; text-align:center;\">1</td>\n",
    "            <td style=\"border:1px solid black; text-align:center;\">0.41</td>\n",
    "            <td style=\"border:1px solid black; text-align:center;\">0.33</td>\n",
    "            <td style=\"border:1px solid black; text-align:center;\">0.32</td>\n",
    "            <td style=\"border:1px solid black; text-align:center;\">-</td>\n",
    "            <td style=\"border:1px solid black; text-align:center;\">-</td>\n",
    "        </tr>\n",
    "        <tr>\n",
    "            <td style=\"border:1px solid black; text-align:center;\">2</td>\n",
    "            <td style=\"border:1px solid black; text-align:center;\">0.37</td>\n",
    "            <td style=\"border:1px solid black; text-align:center;\">0.44</td>\n",
    "            <td style=\"border:1px solid black; text-align:center;\">0.40</td>\n",
    "            <td style=\"border:1px solid black; text-align:center;\">-</td>\n",
    "            <td style=\"border:1px solid black; text-align:center;\">-</td>\n",
    "        </tr>\n",
    "        <tr>\n",
    "            <td style=\"border:1px solid black; text-align:center;\">3</td>\n",
    "            <td style=\"border:1px solid black; text-align:center;\">0.44</td>\n",
    "            <td style=\"border:1px solid black; text-align:center;\">0.40</td>\n",
    "            <td style=\"border:1px solid black; text-align:center;\">0.35</td>\n",
    "            <td style=\"border:1px solid black; text-align:center;\">0.36</td>\n",
    "            <td style=\"border:1px solid black; text-align:center;\">0.39</td>\n",
    "        </tr>\n",
    "        <tr>\n",
    "            <td style=\"border:1px solid black; text-align:center;\">4</td>\n",
    "            <td style=\"border:1px solid black; text-align:center;\">0.40</td>\n",
    "            <td style=\"border:1px solid black; text-align:center;\">0.45</td>\n",
    "            <td style=\"border:1px solid black; text-align:center;\">0.45</td>\n",
    "            <td style=\"border:1px solid black; text-align:center;\">0.39</td>\n",
    "            <td style=\"border:1px solid black; text-align:center;\">0.41</td>\n",
    "        </tr>\n",
    "        <tr>\n",
    "            <td style=\"border:1px solid black; text-align:center;\">5</td>\n",
    "            <td style=\"border:1px solid black; text-align:center;\">0.50</td>\n",
    "            <td style=\"border:1px solid black; text-align:center;\">0.50</td>\n",
    "            <td style=\"border:1px solid black; text-align:center;\">0.53</td>\n",
    "            <td style=\"border:1px solid black; text-align:center;\">0.50</td>\n",
    "            <td style=\"border:1px solid black; text-align:center;\">0.47</td>\n",
    "        </tr>\n",
    "        <tr>\n",
    "            <td style=\"border:1px solid black; text-align:center;\">6</td>\n",
    "            <td style=\"border:1px solid black; text-align:center;\">-</td>\n",
    "            <td style=\"border:1px solid black; text-align:center;\">0.67</td>\n",
    "            <td style=\"border:1px solid black; text-align:center;\">0.64</td>\n",
    "            <td style=\"border:1px solid black; text-align:center;\">0.62</td>\n",
    "            <td style=\"border:1px solid black; text-align:center;\">0.61</td>\n",
    "        </tr>\n",
    "        <tr>\n",
    "            <td style=\"border:1px solid black; text-align:center;\">7</td>\n",
    "            <td style=\"border:1px solid black; text-align:center;\">0.78</td>\n",
    "            <td style=\"border:1px solid black; text-align:center;\">0.78</td>\n",
    "            <td style=\"border:1px solid black; text-align:center;\">0.78</td>\n",
    "            <td style=\"border:1px solid black; text-align:center;\">0.71</td>\n",
    "            <td style=\"border:1px solid black; text-align:center;\">0.74</td>\n",
    "        </tr>\n",
    "        <tr>\n",
    "            <td style=\"border:1px solid black; text-align:center;\">8</td>\n",
    "            <td style=\"border:1px solid black; text-align:center;\">-</td>\n",
    "            <td style=\"border:1px solid black; text-align:center;\">-</td>\n",
    "            <td style=\"border:1px solid black; text-align:center;\">1.00</td>\n",
    "            <td style=\"border:1px solid black; text-align:center;\">1.00</td>\n",
    "            <td style=\"border:1px solid black; text-align:center;\">1.00</td>\n",
    "        </tr>\n",
    "    </tbody> \n",
    "<table>"
   ]
  },
  {
   "cell_type": "code",
   "execution_count": 19,
   "metadata": {},
   "outputs": [],
   "source": [
    "def get_r_cp(region, region_solar):\n",
    "    return {\n",
    "        'Region1' : {'A1' : 0.41, 'A2' : 0.33, 'A3' : 0.32, 'A4' : None, 'A5' : None},\n",
    "        'Region2' : {'A1' : 0.37, 'A2' : 0.44, 'A3' : 0.40, 'A4' : None, 'A5' : None},\n",
    "        'Region3' : {'A1' : 0.44, 'A2' : 0.40, 'A3' : 0.35, 'A4' : 0.36, 'A5' : 0.39},\n",
    "        'Region4' : {'A1' : 0.40, 'A2' : 0.45, 'A3' : 0.45, 'A4' : 0.39, 'A5' : 0.41},\n",
    "        'Region5' : {'A1' : 0.50, 'A2' : 0.50, 'A3' : 0.53, 'A4' : 0.50, 'A5' : 0.47},\n",
    "        'Region6' : {'A1' : None, 'A2' : 0.67, 'A3' : 0.64, 'A4' : 0.62, 'A5' : 0.61},\n",
    "        'Region7' : {'A1' : 0.78, 'A2' : 0.78, 'A3' : 0.78, 'A4' : 0.71, 'A5' : 0.74},\n",
    "        'Region8' : {'A1' : None, 'A2' : None, 'A3' : 1.00, 'A4' : 1.00, 'A5' : 1.00}\n",
    "    }[region][region_solar]"
   ]
  },
  {
   "cell_type": "code",
   "execution_count": 20,
   "metadata": {},
   "outputs": [],
   "source": [
    "def get_t_cp(t_fan, region, region_solar):\n",
    "    if 0 < t_fan:\n",
    "        r_cp = get_r_cp(region, region_solar)\n",
    "        if r_cp is None:\n",
    "            raise Exception('Solar system can\\'t be applied in this region' )\n",
    "        else:\n",
    "            return 1 * r_cp\n",
    "    elif t_fan == 0:\n",
    "        return 0\n",
    "    else:\n",
    "        raise Exeption"
   ]
  },
  {
   "cell_type": "markdown",
   "metadata": {},
   "source": [
    "#### 8.3　空気搬送ファンの風量"
   ]
  },
  {
   "cell_type": "markdown",
   "metadata": {},
   "source": [
    "日付$d$の時刻$t$における1時間当たりの空気搬送ファンの風量$V_{fan,d,t}$"
   ]
  },
  {
   "cell_type": "markdown",
   "metadata": {},
   "source": [
    "$$ \n",
    "\\begin{equation*}\n",
    "   V_{fan,d,t} = V_{fan,P0} \\times t_{fan,d,t}\n",
    "\\end{equation*}\n",
    "$$"
   ]
  },
  {
   "cell_type": "markdown",
   "metadata": {},
   "source": [
    "$t_{fan,d,t}$ : 日付$d$の時刻$t$における1時間当たりの空気搬送ファンの稼働時間(h/h)  \n",
    "$V_{fan,d,t}$ : 日付$d$の時刻$t$における1時間当たりの空気搬送ファンの風量(m<sup>3</sup>/h)  \n",
    "$V_{fan,P0}$ : 空気搬送ファンの送風機特性曲線において機外静圧をゼロとした時の空気搬送ファンの風量(m<sup>3</sup>/h)  "
   ]
  },
  {
   "cell_type": "code",
   "execution_count": 21,
   "metadata": {},
   "outputs": [],
   "source": [
    "def get_V_fan(t_fan, V_fan_P0):\n",
    "    return V_fan_P0 * t_fan"
   ]
  },
  {
   "cell_type": "markdown",
   "metadata": {},
   "source": [
    "#### Example"
   ]
  },
  {
   "cell_type": "code",
   "execution_count": 22,
   "metadata": {
    "scrolled": true
   },
   "outputs": [
    {
     "data": {
      "text/plain": [
       "1"
      ]
     },
     "execution_count": 22,
     "metadata": {},
     "output_type": "execute_result"
    }
   ],
   "source": [
    "_t_fan = get_t_fan(theta_col_opg = 31.06, theta_col_nonopg = 53.64)\n",
    "_t_fan"
   ]
  },
  {
   "cell_type": "code",
   "execution_count": 23,
   "metadata": {},
   "outputs": [
    {
     "data": {
      "text/plain": [
       "0.61"
      ]
     },
     "execution_count": 23,
     "metadata": {},
     "output_type": "execute_result"
    }
   ],
   "source": [
    "get_t_cp(t_fan = _t_fan, region = 'Region6', region_solar = 'A5')"
   ]
  },
  {
   "cell_type": "code",
   "execution_count": 24,
   "metadata": {},
   "outputs": [
    {
     "data": {
      "text/plain": [
       "720"
      ]
     },
     "execution_count": 24,
     "metadata": {},
     "output_type": "execute_result"
    }
   ],
   "source": [
    "get_V_fan(t_fan = _t_fan, V_fan_P0 = 720)"
   ]
  },
  {
   "cell_type": "markdown",
   "metadata": {},
   "source": [
    "### 9. 集熱部"
   ]
  },
  {
   "cell_type": "markdown",
   "metadata": {},
   "source": [
    "#### 9.1　集熱量"
   ]
  },
  {
   "cell_type": "markdown",
   "metadata": {},
   "source": [
    "日付$d$の時刻$t$における1時間当たりの集熱部における集熱量$Q_{col,d,t}$"
   ]
  },
  {
   "cell_type": "markdown",
   "metadata": {},
   "source": [
    "$$ \n",
    "\\begin{equation*}\n",
    "   Q_{col,d,t} = \\rho_{air} \\times c_{P_{air}} \\times V_{fan,d,t} \\times \\left( \\theta_{col,opg,d,t} - \\theta_{ex,d,t} \\right) \\times 10^{-3}\n",
    "\\end{equation*}\n",
    "$$"
   ]
  },
  {
   "cell_type": "markdown",
   "metadata": {},
   "source": [
    "$c_{P_{air}}$ : 空気の比熱(kJ/(kg$\\cdot$K))  \n",
    "$Q_{col,d,t}$ : 空日付$d$の時刻$t$における1時間当たりの集熱部における集熱量(MJ/h)  \n",
    "$V_{fan,d,t}$ : 日付$d$の時刻$t$における1時間当たりの空気搬送ファンの風量(m<sup>3</sup>/h)  \n",
    "$\\theta_{col,opg,d,t}$ : 日付$d$の時刻$t$における空気搬送ファン稼働時の集熱部の出口における空気温度(℃)  \n",
    "$\\theta_{ex,d,t}$ : 日付$d$の時刻$t$における外気温度(℃)  \n",
    "$\\rho_{air}$ : 空気の密度(kg/m<sup>3</sup>)  "
   ]
  },
  {
   "cell_type": "markdown",
   "metadata": {},
   "source": [
    "空気の密度$\\rho_{air}$"
   ]
  },
  {
   "cell_type": "markdown",
   "metadata": {},
   "source": [
    "$$ \n",
    "\\begin{equation*}\n",
    "   \\rho_{air} = 1.2\n",
    "\\end{equation*}\n",
    "$$"
   ]
  },
  {
   "cell_type": "markdown",
   "metadata": {},
   "source": [
    "空気の比熱$c_{P_{air}}$"
   ]
  },
  {
   "cell_type": "markdown",
   "metadata": {},
   "source": [
    "$$ \n",
    "\\begin{equation*}\n",
    "   c_{P_{air}} = 1.006\n",
    "\\end{equation*}\n",
    "$$"
   ]
  },
  {
   "cell_type": "code",
   "execution_count": 25,
   "metadata": {},
   "outputs": [],
   "source": [
    "def get_Q_col(V_fan, theta_col_opg, theta_ex):\n",
    "    rho_air = 1.2    # kg/m3\n",
    "    c_P_air = 1.006  # kJ/(kg K)\n",
    "    return rho_air * c_P_air * V_fan * (theta_col_opg - theta_ex) *10**(-3)"
   ]
  },
  {
   "cell_type": "markdown",
   "metadata": {},
   "source": [
    "#### 9.2　空気搬送ファン停止時の集熱部の出口における空気温度"
   ]
  },
  {
   "cell_type": "markdown",
   "metadata": {},
   "source": [
    "日付$d$の時刻$t$における空気搬送ファン停止時の集熱部の出口における空気温度$\\theta_{col,nonopg,d,t}$"
   ]
  },
  {
   "cell_type": "markdown",
   "metadata": {},
   "source": [
    "$$ \n",
    "\\begin{equation*}\n",
    "   \\theta_{col,nonopg,d,t} = \\frac{\\displaystyle \\sum_{j=1}^{n} \\left( \\theta_{col,nonopg,j,d,t} \\times V_{col,j,d,t} \\right)}{\\displaystyle \\sum_{j=1}^{n} V_{col,j,d,t}}\n",
    "\\end{equation*}\n",
    "$$"
   ]
  },
  {
   "cell_type": "markdown",
   "metadata": {},
   "source": [
    "$n$ : 集熱器群の数(-)  \n",
    "$V_{col,j,d,t}$ : 日付$d$の時刻$t$における空気集熱ファン稼働時に集熱器群$j$を流れる空気の体積流量(m<sup>3</sup>/h)  \n",
    "$\\theta_{col,nonopg,d,t}$ : 日付$d$の時刻$t$における空気搬送ファン停止時の集熱部の出口における空気温度(℃)  \n",
    "$\\theta_{col,nonopg,j,d,t}$ : 日付$d$の時刻$t$における空気搬送ファン停止時の集熱器群$j$の出口における空気温度(℃)  "
   ]
  },
  {
   "cell_type": "code",
   "execution_count": 26,
   "metadata": {},
   "outputs": [],
   "source": [
    "def get_theta_col_nonopg(theta_col_nonopg_s, V_col_s, n_col):\n",
    "    return sum(theta_col_nonopg_s[j1] * V_col_s[j1] for j1 in range(0,n_col,1)) / sum(V_col_s[j2] for j2 in range(0,n_col,1))"
   ]
  },
  {
   "cell_type": "markdown",
   "metadata": {},
   "source": [
    "#### 9.3　空気搬送ファン稼働時の集熱部の出口における空気温度"
   ]
  },
  {
   "cell_type": "markdown",
   "metadata": {},
   "source": [
    "日付$d$の時刻$t$における空気搬送ファン稼働時の集熱部の出口における空気温度$\\theta_{col,opg,d,t}$"
   ]
  },
  {
   "cell_type": "markdown",
   "metadata": {},
   "source": [
    "$$ \n",
    "\\begin{equation*}\n",
    "   \\theta_{col,opg,d,t} = \\frac{\\displaystyle \\sum_{j=1}^{n} \\left( \\theta_{col,opg,j,d,t} \\times V_{col,j,d,t} \\right)}{\\displaystyle \\sum_{j=1}^{n} V_{col,j,d,t}}\n",
    "\\end{equation*}\n",
    "$$"
   ]
  },
  {
   "cell_type": "markdown",
   "metadata": {},
   "source": [
    "$n$ : 集熱器群の数(-)  \n",
    "$V_{col,j,d,t}$ : 日付$d$の時刻$t$における空気集熱ファン稼働時に集熱器群$j$を流れる空気の体積流量(-)  \n",
    "$\\theta_{col,opg,d,t}$ : 日付$d$の時刻$t$における空気搬送ファン稼働時の集熱部の出口における空気温度(℃)  \n",
    "$\\theta_{col,opg,j,d,t}$ : 日付$d$の時刻$t$における空気搬送ファン稼働時の集熱器群$j$の出口における空気温度(℃)  "
   ]
  },
  {
   "cell_type": "code",
   "execution_count": 27,
   "metadata": {},
   "outputs": [],
   "source": [
    "def get_theta_col_opg(theta_col_opg_s, V_col_s, n_col):\n",
    "    return sum(theta_col_opg_s[j] * V_col_s[j] for j in range(0,n_col,1)) / sum(V_col_s[j] for j in range(0,n_col,1))"
   ]
  },
  {
   "cell_type": "markdown",
   "metadata": {},
   "source": [
    "#### 9.4　空気搬送ファン停止時の集熱器群の出口における空気温度"
   ]
  },
  {
   "cell_type": "markdown",
   "metadata": {},
   "source": [
    "日付$d$の時刻$t$における空気搬送ファン停止時の集熱器群$j$の出口における空気温度$\\theta_{col,nonopg,j,d,t}$"
   ]
  },
  {
   "cell_type": "markdown",
   "metadata": {},
   "source": [
    "$$ \n",
    "\\begin{equation*}\n",
    "   \\theta_{col,nonopg,j,d,t} = \\frac{d_{0,j}}{d_{1,j}} \\times I_{s,j,d,t} + \\theta_{ex,d,t}\n",
    "\\end{equation*}\n",
    "$$"
   ]
  },
  {
   "cell_type": "markdown",
   "metadata": {},
   "source": [
    "$d_{0,j}$ : 集熱器群$j$を構成する集熱器の集熱効率特性線図一次近似式の切片(-)  \n",
    "$d_{1,j}$ : 集熱器群$j$を構成する集熱器の集熱効率特性線図一次近似式の傾き(W/(m<sup>2</sup>$\\cdot$K))  \n",
    "$I_{s,j,d,t}$ : 日付$d$の時刻$t$における集熱器群$j$の単位面積当たりの平均日射量(W/m<sup>2</sup>)  \n",
    "$\\theta_{ex,d,t}$ : 日付$d$の時刻$t$における外気温度(℃)  \n",
    "$\\theta_{col,nonopg,j,d,t}$ : 日付$d$の時刻$t$における空気搬送ファン停止時の集熱器群$j$の出口における空気温度(℃)  "
   ]
  },
  {
   "cell_type": "code",
   "execution_count": 28,
   "metadata": {},
   "outputs": [],
   "source": [
    "def get_theta_col_nonopg_j(I_s, theta_ex, d_0, d_1):\n",
    "    return d_0 / d_1 * I_s + theta_ex"
   ]
  },
  {
   "cell_type": "markdown",
   "metadata": {},
   "source": [
    "#### 9.5　空気搬送ファン稼働時の集熱器群の出口における空気温度"
   ]
  },
  {
   "cell_type": "markdown",
   "metadata": {},
   "source": [
    "日付$d$の時刻$t$における空気搬送ファン稼働時の集熱器群$j$の出口における空気温度$\\theta_{col,opg,j,d,t}$"
   ]
  },
  {
   "cell_type": "markdown",
   "metadata": {},
   "source": [
    "$$ \n",
    "\\begin{equation*}\n",
    "   \\theta_{col,opg,j,d,t} = \\theta_{col,nonopg,j,d,t} + \\left( \\theta_{ex,d,t} - \\theta_{col,nonopg,j,d,t} \\right) \\times e^{- \\frac{U_{c,j} \\times A_{j}}{c_{P_{air}} \\times \\rho_{air} \\times V_{col,j,d,t} \\div 3600 \\times 10^{3}}}\n",
    "\\end{equation*}\n",
    "$$"
   ]
  },
  {
   "cell_type": "markdown",
   "metadata": {},
   "source": [
    "$A_{j}$ : 集熱器群$j$の面積(m<sup>2</sup>)  \n",
    "$c_{P_{air}}$ : 空気の比熱(kJ/(kg$\\cdot$K))  \n",
    "$U_{c,j}$ : 集熱器群$j$を構成する集熱器の集熱器総合熱損失係数(W/(m<sup>2</sup>$\\cdot$K))  \n",
    "$V_{col,j,d,t}$ : 日付$d$の時刻$t$における空気集熱ファン稼働時に集熱器群$j$を流れる空気の体積流量(m<sup>3</sup>/h)  \n",
    "$\\theta_{col,opg,d,t}$ : 日付$d$の時刻$t$における空気搬送ファン稼働時の集熱部の出口における空気温度(℃)  \n",
    "$\\theta_{col,nonopg,j,d,t}$ : 日付$d$の時刻$t$における空気搬送ファン停止時の集熱器群$j$の出口における空気温度(℃)  \n",
    "$\\theta_{ex,d,t}$ : 日付$d$の時刻$t$における外気温度(℃)  \n",
    "$\\rho_{air}$ : 空気の密度(kg/m<sup>3</sup>)  "
   ]
  },
  {
   "cell_type": "code",
   "execution_count": 29,
   "metadata": {},
   "outputs": [],
   "source": [
    "def get_theta_col_opg_j(theta_col_nonopg, U_c, V_col, theta_ex, A):\n",
    "    rho_air = 1.2    # kg/m3\n",
    "    c_P_air = 1.006  # kJ/(kg K)    \n",
    "\n",
    "    return theta_col_nonopg + (theta_ex - theta_col_nonopg) * \\\n",
    "            math.exp(-U_c * A / (c_P_air * rho_air * V_col / 3600 * 10**(3)))"
   ]
  },
  {
   "cell_type": "markdown",
   "metadata": {},
   "source": [
    "日付$d$の時刻$t$における空気集熱ファン稼働時に集熱器群$j$を流れる空気の体積流量$V_{col,j,d,t}$"
   ]
  },
  {
   "cell_type": "markdown",
   "metadata": {},
   "source": [
    "$$ \n",
    "\\begin{equation*}\n",
    "   V_{col,j,d,t} = V_{fan,P0} \\times \\frac{A_{j}}{\\displaystyle \\sum_{j=1}^{n} A_{j}}\n",
    "\\end{equation*}\n",
    "$$"
   ]
  },
  {
   "cell_type": "markdown",
   "metadata": {},
   "source": [
    "$A_{j}$ : 集熱器群$j$の面積(m<sup>2</sup>)  \n",
    "$n$ : 集熱器群の数(-)  \n",
    "$V_{col,j,d,t}$ : 日付$d$の時刻$t$における空気集熱ファン稼働時に集熱器群$j$を流れる空気の体積流量(m<sup>3</sup>/h)  \n",
    "$V_{fan,P0}$ : 空気搬送ファンの送風機特性曲線において機外静圧をゼロとした時の空気搬送ファンの風量(m<sup>3</sup>/h)  "
   ]
  },
  {
   "cell_type": "code",
   "execution_count": 30,
   "metadata": {},
   "outputs": [],
   "source": [
    "def get_sum_A(A_s):\n",
    "    return sum(A for A in A_s)"
   ]
  },
  {
   "cell_type": "code",
   "execution_count": 31,
   "metadata": {},
   "outputs": [],
   "source": [
    "def get_V_col_j(V_fan_P0, A, sum_A):\n",
    "    return V_fan_P0 * A / sum_A"
   ]
  },
  {
   "cell_type": "markdown",
   "metadata": {},
   "source": [
    "集熱器群$j$を構成する集熱器の集熱器総合熱損失係数$U_{c,j}$"
   ]
  },
  {
   "cell_type": "markdown",
   "metadata": {},
   "source": [
    "$$ \n",
    "\\begin{equation*}\n",
    "   U_{c,j} = -c_{P_{air}} \\times \\dot{m}_{fan,test,j} \\times 10^{3} \\times ln \\left( 1 - \\frac{1}{c_{P_{air}} \\times \\dot{m}_{fan,test,j} \\times 10^{3}} \\times d_{1,j}  \\right)\n",
    "\\end{equation*}\n",
    "$$"
   ]
  },
  {
   "cell_type": "markdown",
   "metadata": {},
   "source": [
    "$c_{P_{air}}$ : 空気の比熱(kJ/(kg$\\cdot$K))  \n",
    "$d_{1,j}$ : 集熱器群$j$を構成する集熱器の集熱効率特性線図一次近似式の傾き(W/(m<sup>2</sup>$\\cdot$K))  \n",
    "$\\dot{m}_{fan,test,j}$ : 集熱器群$j$を構成する集熱器の集熱性能試験時における単位面積当たりの空気の質量流量(kg/(s$\\cdot$m<sup>2</sup>))  \n",
    "$U_{c,j}$ : 集熱器群$j$を構成する集熱器の集熱器総合熱損失係数(W/(m<sup>2</sup>$\\cdot$K))  "
   ]
  },
  {
   "cell_type": "code",
   "execution_count": 32,
   "metadata": {},
   "outputs": [],
   "source": [
    "def get_U_c_j(m_dot_fan_test, d_1):\n",
    "    c_P_air = 1.006  # kJ/(kg K)  \n",
    "    return -c_P_air * m_dot_fan_test * 10**3 * math.log(1 - 1 / (c_P_air * m_dot_fan_test * 10**3) * d_1)"
   ]
  },
  {
   "cell_type": "markdown",
   "metadata": {},
   "source": [
    "#### Example"
   ]
  },
  {
   "cell_type": "code",
   "execution_count": 33,
   "metadata": {
    "scrolled": false
   },
   "outputs": [
    {
     "data": {
      "text/plain": [
       "[45.92475, 68.72965268225585]"
      ]
     },
     "execution_count": 33,
     "metadata": {},
     "output_type": "execute_result"
    }
   ],
   "source": [
    "_theta_col_nonopg_s = [get_theta_col_nonopg_j(I_s = [748.495, 748.495][j], theta_ex = 8.5, \n",
    "                                             d_0 = [0.1, 0.468][j], d_1 = [2.0, 5.816][j]) for j in range(0,2,1)]\n",
    "_theta_col_nonopg_s"
   ]
  },
  {
   "cell_type": "code",
   "execution_count": 34,
   "metadata": {
    "scrolled": true
   },
   "outputs": [
    {
     "data": {
      "text/plain": [
       "[2.2125874568181008, 8.36595711243159]"
      ]
     },
     "execution_count": 34,
     "metadata": {},
     "output_type": "execute_result"
    }
   ],
   "source": [
    "_U_c_s= [get_U_c_j(m_dot_fan_test = [0.0107, 0.0107][j], d_1 = [2.0, 5.816][j]) for j in range(0,2,1)]\n",
    "_U_c_s"
   ]
  },
  {
   "cell_type": "code",
   "execution_count": 35,
   "metadata": {
    "scrolled": false
   },
   "outputs": [
    {
     "data": {
      "text/plain": [
       "30"
      ]
     },
     "execution_count": 35,
     "metadata": {},
     "output_type": "execute_result"
    }
   ],
   "source": [
    "_sum_A = get_sum_A(A_s = [15, 15])\n",
    "_sum_A"
   ]
  },
  {
   "cell_type": "code",
   "execution_count": 36,
   "metadata": {
    "scrolled": false
   },
   "outputs": [
    {
     "data": {
      "text/plain": [
       "[360.0, 360.0]"
      ]
     },
     "execution_count": 36,
     "metadata": {},
     "output_type": "execute_result"
    }
   ],
   "source": [
    "_V_col_s = [get_V_col_j(V_fan_P0 = 720, A = [15, 15][j], sum_A = _sum_A)for j in range(0,2,1)]\n",
    "_V_col_s"
   ]
  },
  {
   "cell_type": "code",
   "execution_count": 37,
   "metadata": {},
   "outputs": [
    {
     "data": {
      "text/plain": [
       "[17.495789500516274, 47.43071479504413]"
      ]
     },
     "execution_count": 37,
     "metadata": {},
     "output_type": "execute_result"
    }
   ],
   "source": [
    "_theta_col_opg_s = [get_theta_col_opg_j(theta_col_nonopg = _theta_col_nonopg_s[j], U_c = _U_c_s[j], V_col =_V_col_s[j], \n",
    "                                       theta_ex = 8.5, A =  [15, 15][j])for j in range(0,2,1)]\n",
    "_theta_col_opg_s"
   ]
  },
  {
   "cell_type": "code",
   "execution_count": 38,
   "metadata": {},
   "outputs": [
    {
     "data": {
      "text/plain": [
       "57.32720134112792"
      ]
     },
     "execution_count": 38,
     "metadata": {},
     "output_type": "execute_result"
    }
   ],
   "source": [
    "get_theta_col_nonopg(theta_col_nonopg_s= _theta_col_nonopg_s, V_col_s = _V_col_s, n_col = 2)"
   ]
  },
  {
   "cell_type": "code",
   "execution_count": 39,
   "metadata": {},
   "outputs": [
    {
     "data": {
      "text/plain": [
       "32.4632521477802"
      ]
     },
     "execution_count": 39,
     "metadata": {},
     "output_type": "execute_result"
    }
   ],
   "source": [
    "get_theta_col_opg(theta_col_opg_s= _theta_col_opg_s, V_col_s = _V_col_s, n_col = 2)"
   ]
  },
  {
   "cell_type": "code",
   "execution_count": 40,
   "metadata": {
    "scrolled": true
   },
   "outputs": [
    {
     "data": {
      "text/plain": [
       "20.825648640000004"
      ]
     },
     "execution_count": 40,
     "metadata": {},
     "output_type": "execute_result"
    }
   ],
   "source": [
    "get_Q_col(V_fan = 720, theta_col_opg = 32.46, theta_ex = 8.5)"
   ]
  },
  {
   "cell_type": "markdown",
   "metadata": {},
   "source": [
    "### Integrated Function"
   ]
  },
  {
   "cell_type": "markdown",
   "metadata": {},
   "source": [
    "#### Input Data"
   ]
  },
  {
   "cell_type": "markdown",
   "metadata": {},
   "source": [
    "spec = {  \n",
    "\n",
    "    'region'                             : 'Region1', 'Region2', 'Region3', 'Region4', 'Region5', 'Region6', 'Region7', 'Region8' as string  \n",
    "    'region_solar'                       : 'A1', 'A2', 'A3', 'A4', 'A5' as string  \n",
    "    \n",
    "    'number of collector unit'           : 0,  \n",
    "    'azimuth of collector units'         :  1: less then 15 degree to east or west from due south,   \n",
    "                                            2:  15 degree or more and less than  45 degree to east from due south,  \n",
    "                                            3:  45 degree or more and less than  75 degree to east from due south,  \n",
    "                                            4:  75 degree or more and less than 105 degree to east from due south,  \n",
    "                                            5: 105 degree or more and less than 135 degree to east from due south,  \n",
    "                                            6: 135 degree or more and less than 165 degree to east from due south,  \n",
    "                                            7:  15 degree or less from due north,    \n",
    "                                            8: 135 degree or more and less than 165 degree to west from due south,  \n",
    "                                            9: 105 degree or more and less than 135 degree to west from due south,  \n",
    "                                           10:  75 degree or more and less than 105 degree to west from due south,  \n",
    "                                           11:  45 degree or more and less than  75 degree to west from due south,  \n",
    "                                           12:  15 degree or more and less than  45 degree to west from due south  \n",
    "    'PV for fan'                         : True : Equipped, False : Not equipped  \n",
    "    'fan type'                           : 'AC', 'DC'as string  \n",
    "    'PV for circulation pump'            : True : Equipped, False : Not equipped  \n",
    "    'tank size'                          : 0,   # (L)  \n",
    "    'fan air flow rate'                  : 0.0, # at the external static pressure of zero (m3/h)  \n",
    "\n",
    "    'area of collector unit'             : 0.0  # (m2)  \n",
    "    'angle of collector units'           : 1: 0 degree (horizontal), 2: 10 degree, 3: 20 degree, 4: 30 degree, 5: 40 degree,   \n",
    "                                           6: 50 degree, 7: 60 degree, 8: 70 degree, 9: 80 degree, 10: 90 degree (vertical)\n",
    "    'inclination of characteristic line' : 0.0  # (-)  \n",
    "    'intercept of characteristic line'   : 0.0  # (W/(m2K))  \n",
    "    'mass flow rate'                     : 0.000  # when testing according to JIS (kg/(sm2))  \n",
    "}"
   ]
  },
  {
   "cell_type": "markdown",
   "metadata": {},
   "source": [
    "#### Hourly Calculation"
   ]
  },
  {
   "cell_type": "code",
   "execution_count": 41,
   "metadata": {},
   "outputs": [],
   "source": [
    "def get_hourly_Q_d_and_E_E(spec, day, hour):\n",
    "    \n",
    "    # region\n",
    "    region = spec['region']\n",
    "    region_solar = spec['region_solar']\n",
    "    \n",
    "    # number of collector unit\n",
    "    n_col = spec['number of collector unit']\n",
    "    \n",
    "    # azimuth of collector units\n",
    "    azimuth_col = spec['azimuth of collector units']\n",
    "    \n",
    "    # PV for fan / pump\n",
    "    PV_for_Fan = spec['PV for fan']\n",
    "    Fan_Type = spec['fan type']\n",
    "    PV_for_Pump = spec['PV for circulation pump']\n",
    "    \n",
    "    #  fan air flow rate\n",
    "    V_fan_P0 = spec['fan air flow rate']\n",
    "    \n",
    "    # area of collector unit\n",
    "    A_s = spec['area of collector unit']\n",
    "    # angle of collector units\n",
    "    angle_col = spec['angle of collector units']\n",
    "    # inclination of characteristic line\n",
    "    d_0_s = spec['inclination of characteristic line']\n",
    "    # intercept of characteristic line\n",
    "    d_1_s = spec['intercept of characteristic line']\n",
    "    # mass flow rate\n",
    "    m_dot_fan_test_s = spec['mass flow rate']\n",
    "    \n",
    "    # outdoor temperature\n",
    "    theta_ex = EC.get_temperature(region, day, hour)\n",
    "    \n",
    "    # solar\n",
    "    P_alpha = SR.get_P_alpha(azimuth_col)\n",
    "    P_beta = [SR.get_P_beta(b) for b in angle_col]\n",
    "    I_s_s = [SR.get_I_s(region, region_solar,day, hour, P_alpha, P_beta[j]) for j in range(0,n_col,1)]\n",
    "\n",
    "    # air temperature at outlet of each collector unit when non-operating\n",
    "    theta_col_nonopg_s = [get_theta_col_nonopg_j(I_s_s[j], theta_ex, d_0_s[j], d_1_s[j]) for j in range(0,n_col,1)]\n",
    "    # air temperature at outlet of each collector unit when operating\n",
    "    theta_col_opg_s = [get_theta_col_opg_j(theta_col_nonopg_s[j], \n",
    "                                          [get_U_c_j(m_dot_fan_test_s[jj], d_1_s[jj]) for jj in range(0,n_col,1)][j], \n",
    "                                          [get_V_col_j(V_fan_P0, A_s[jj], get_sum_A(A_s)) for jj in range(0,n_col,1)][j], \n",
    "                                          theta_ex, A_s[j]) for j in range(0,n_col,1)]\n",
    "    # average air temperature at outlet of collector units when non-operating\n",
    "    theta_col_nonopg = get_theta_col_nonopg(theta_col_nonopg_s, \n",
    "                                            [get_V_col_j(V_fan_P0, A_s[j], get_sum_A(A_s)) for j in range(0,n_col,1)], n_col) \n",
    "    # average air temperature at outlet of collector units when operating\n",
    "    theta_col_opg = get_theta_col_opg(theta_col_opg_s, \n",
    "                                      [get_V_col_j(V_fan_P0, A_s[j], get_sum_A(A_s)) for j in range(0,n_col,1)], n_col)\n",
    "\n",
    "    # fan perating duration\n",
    "    t_fan = get_t_fan(theta_col_opg, theta_col_nonopg)\n",
    "    # pump perating duration\n",
    "    t_cp = get_t_cp (get_t_fan(theta_col_opg, theta_col_nonopg), region, region_solar)\n",
    "    # fan air flow rate\n",
    "    V_fan = get_V_fan(t_fan, V_fan_P0)\n",
    "    \n",
    "    # amount of heat collected by the solar heat collector\n",
    "    Q_col = get_Q_col(V_fan, theta_col_opg, theta_ex)\n",
    "    \n",
    "    # utilizable heat for water heating \n",
    "    Q_d = get_Q_d(Q_col, t_cp)\n",
    "\n",
    "    # power consumption of fan\n",
    "    E_E_fan  = get_E_E_fan (t_cp, V_fan, PV_for_Fan, Fan_Type)\n",
    "    # power consumption of pump\n",
    "    E_E_pump = get_E_E_pump(t_cp, PV_for_Pump)\n",
    "    # power consumption of auxiliary machinery\n",
    "    E_E_ass_aux_W = get_E_E_ass_aux_W(E_E_fan = E_E_fan, E_E_cp = E_E_pump)\n",
    "                     \n",
    "    return Q_col, Q_d, E_E_ass_aux_W"
   ]
  },
  {
   "cell_type": "markdown",
   "metadata": {},
   "source": [
    "#### Example of Input Data"
   ]
  },
  {
   "cell_type": "code",
   "execution_count": 42,
   "metadata": {},
   "outputs": [],
   "source": [
    "spec = {  \n",
    "    'region'                             : 'Region6',  \n",
    "    'region_solar'                       : 'A5',  \n",
    "\n",
    "    'number of collector unit'           : 2,  \n",
    "    'azimuth of collector units'         : '1',  \n",
    "    'PV for fan'                         : False,  \n",
    "    'fan type'                           : 'AC',  \n",
    "    'PV for circulation pump'            : False,  \n",
    "    'tank size'                          : 300,  \n",
    "    'fan air flow rate'                  : 720.0,  \n",
    "\n",
    "    'area of collector unit'             : [15.0,   15.0], \n",
    "    'angle of collector units'           : ['4',    '4'],\n",
    "    'inclination of characteristic line' : [0.1,    0.468],  \n",
    "    'intercept of characteristic line'   : [2.0,    5.816],  \n",
    "    'mass flow rate'                     : [0.0107, 0.0107] \n",
    "}"
   ]
  },
  {
   "cell_type": "markdown",
   "metadata": {},
   "source": [
    "#### Example of Hot Water Load"
   ]
  },
  {
   "cell_type": "code",
   "execution_count": 43,
   "metadata": {},
   "outputs": [
    {
     "data": {
      "text/plain": [
       "(25.41605802, 32.86559227, 6.719187752, 26.29247381, 0.0, 4.831208333)"
      ]
     },
     "execution_count": 43,
     "metadata": {},
     "output_type": "execute_result"
    }
   ],
   "source": [
    "LWT.get_L_dash_W_s('1/1')"
   ]
  },
  {
   "cell_type": "markdown",
   "metadata": {},
   "source": [
    "#### Example of Daily Average Water Temperature"
   ]
  },
  {
   "cell_type": "code",
   "execution_count": 44,
   "metadata": {},
   "outputs": [
    {
     "data": {
      "text/plain": [
       "4.575742333"
      ]
     },
     "execution_count": 44,
     "metadata": {},
     "output_type": "execute_result"
    }
   ],
   "source": [
    "LWT.get_theta_wtr('1/1')"
   ]
  },
  {
   "cell_type": "code",
   "execution_count": 45,
   "metadata": {
    "scrolled": true
   },
   "outputs": [
    {
     "data": {
      "text/plain": [
       "(20.828493971521908, 2.6998935310585273, 0.33680000000000004)"
      ]
     },
     "execution_count": 45,
     "metadata": {},
     "output_type": "execute_result"
    }
   ],
   "source": [
    "get_hourly_Q_d_and_E_E(spec = spec,  day = '1/1', hour = 12)"
   ]
  },
  {
   "cell_type": "markdown",
   "metadata": {},
   "source": [
    "#### Daily Calculation"
   ]
  },
  {
   "cell_type": "code",
   "execution_count": 46,
   "metadata": {},
   "outputs": [],
   "source": [
    "def get_daily_Q_col(spec, day):   \n",
    "    return sum([get_hourly_Q_d_and_E_E(spec, day, hour) [0] for hour in range(0, 24, 1)])"
   ]
  },
  {
   "cell_type": "code",
   "execution_count": 47,
   "metadata": {},
   "outputs": [],
   "source": [
    "def get_daily_Q_d(spec, day):   \n",
    "    return sum([get_hourly_Q_d_and_E_E(spec, day, hour) [1] for hour in range(0, 24, 1)])"
   ]
  },
  {
   "cell_type": "code",
   "execution_count": 48,
   "metadata": {},
   "outputs": [],
   "source": [
    "def get_daily_E_E(spec, day):   \n",
    "    return sum([get_hourly_Q_d_and_E_E(spec, day, hour) [2] for hour in range(0, 24, 1)])"
   ]
  },
  {
   "cell_type": "code",
   "execution_count": 49,
   "metadata": {},
   "outputs": [],
   "source": [
    "def get_daily_L_sun_ass(spec, Q_d, day):\n",
    "    \n",
    "    # tank size\n",
    "    W_tnk = spec['tank size']\n",
    "    \n",
    "    return get_L_sun_ass(get_L_tnk(Q_d, get_HC_tnk(LWT.get_theta_wtr(day), W_tnk)), LWT.get_L_dash_W_s(day))"
   ]
  },
  {
   "cell_type": "code",
   "execution_count": 50,
   "metadata": {
    "scrolled": true
   },
   "outputs": [
    {
     "data": {
      "text/plain": [
       "1.6840000000000002"
      ]
     },
     "execution_count": 50,
     "metadata": {},
     "output_type": "execute_result"
    }
   ],
   "source": [
    "get_daily_E_E(spec = spec, day = '1/1')"
   ]
  },
  {
   "cell_type": "code",
   "execution_count": 51,
   "metadata": {},
   "outputs": [
    {
     "data": {
      "text/plain": [
       "100.02467150122297"
      ]
     },
     "execution_count": 51,
     "metadata": {},
     "output_type": "execute_result"
    }
   ],
   "source": [
    "get_daily_Q_col(spec = spec, day = '1/1')"
   ]
  },
  {
   "cell_type": "code",
   "execution_count": 52,
   "metadata": {},
   "outputs": [
    {
     "data": {
      "text/plain": [
       "12.965698043346025"
      ]
     },
     "execution_count": 52,
     "metadata": {},
     "output_type": "execute_result"
    }
   ],
   "source": [
    "get_daily_Q_d(spec = spec, day = '1/1')"
   ]
  },
  {
   "cell_type": "code",
   "execution_count": 53,
   "metadata": {},
   "outputs": [
    {
     "data": {
      "text/plain": [
       "12.965698043346025"
      ]
     },
     "execution_count": 53,
     "metadata": {},
     "output_type": "execute_result"
    }
   ],
   "source": [
    "get_daily_L_sun_ass(spec = spec, Q_d = 12.965698043346025, day = '1/1')"
   ]
  },
  {
   "cell_type": "code",
   "execution_count": 54,
   "metadata": {},
   "outputs": [
    {
     "data": {
      "image/png": "[encoded data removed]",
      "text/plain": [
       "<matplotlib.figure.Figure at 0x191bc96e588>"
      ]
     },
     "metadata": {},
     "output_type": "display_data"
    }
   ],
   "source": [
    "plt.figure(figsize = (16, 3), dpi=80 )\n",
    "plt.subplot2grid((1, 1), (0, 0))\n",
    "plt.title('Calcuation Example')\n",
    "\n",
    "x_values = [x for x in range(0, 365, 1)]\n",
    "y_values = [get_daily_Q_col(spec, day) for day in EC.get_Annual_Days()]\n",
    "\n",
    "plt.plot(x_values, y_values, label='Q_col',)\n",
    "        \n",
    "ax=plt.gca()\n",
    "ax.set_xlabel('day')\n",
    "ax.set_xticks([0, 31, 59, 90, 120, 151, 181, 212, 243, 273, 304, 334])\n",
    "ax.set_xticklabels(['1/1', '2/1', '3/1', '4/1', '5/1', '6/1', '7/1', '8/1', '9/1', '10/1', '11/1', '12/1'], minor=False)\n",
    "ax.set_xbound(lower=0, upper=365)\n",
    "\n",
    "ax.set_ylabel('Q_col(MJ/day)')\n",
    "ax.set_yticks([y for y in range(0, 210, 20)], minor=False)\n",
    "ax.set_ybound(lower=0, upper=200)\n",
    "\n",
    "ax.grid(which='major', color='lightgray', alpha=0.7, linestyle='-')     \n",
    "plt.legend(loc='center left', bbox_to_anchor=(1, 0.5), borderaxespad=0.5, frameon=True)\n",
    "\n",
    "plt.show()"
   ]
  },
  {
   "cell_type": "code",
   "execution_count": 55,
   "metadata": {
    "scrolled": true
   },
   "outputs": [
    {
     "data": {
      "image/png": "[encoded data removed]",
      "text/plain": [
       "<matplotlib.figure.Figure at 0x191beee3358>"
      ]
     },
     "metadata": {},
     "output_type": "display_data"
    }
   ],
   "source": [
    "plt.figure(figsize = (16, 3), dpi=80 )\n",
    "plt.subplot2grid((1, 1), (0, 0))\n",
    "plt.title('Calcuation Example')\n",
    "\n",
    "x_values = [x for x in range(0, 365, 1)]\n",
    "y_values = [get_daily_L_sun_ass(spec, get_daily_Q_d(spec, day), day) for day in EC.get_Annual_Days()]\n",
    "\n",
    "plt.plot(x_values, y_values, label='L_sun_ass',)\n",
    "\n",
    "ax=plt.gca()\n",
    "ax.set_xlabel('day')\n",
    "ax.set_xticks([0, 31, 59, 90, 120, 151, 181, 212, 243, 273, 304, 334])\n",
    "ax.set_xticklabels(['1/1', '2/1', '3/1', '4/1', '5/1', '6/1', '7/1', '8/1', '9/1', '10/1', '11/1', '12/1'], minor=False)\n",
    "ax.set_xbound(lower=0, upper=365)\n",
    "\n",
    "ax.set_ylabel('L_sun_ass(MJ/day)')\n",
    "ax.set_yticks([y for y in range(0, 25, 5)], minor=False)\n",
    "ax.set_ybound(lower=0, upper=20)\n",
    "\n",
    "ax.grid(which='major', color='lightgray', alpha=0.7, linestyle='-')     \n",
    "plt.legend(loc='center left', bbox_to_anchor=(1, 0.5), borderaxespad=0.5, frameon=True)\n",
    "\n",
    "plt.show()"
   ]
  },
  {
   "cell_type": "markdown",
   "metadata": {},
   "source": [
    "#### Annual Calculation"
   ]
  },
  {
   "cell_type": "code",
   "execution_count": 56,
   "metadata": {},
   "outputs": [
    {
     "name": "stdout",
     "output_type": "stream",
     "text": [
      "Power consumption of auxiliary machinery : 883.4264000000016 kWh/year\n"
     ]
    }
   ],
   "source": [
    "annual_E_E_acc_aux_W = sum([get_daily_E_E(spec, day) for day in EC.get_Annual_Days()])\n",
    "print('Power consumption of auxiliary machinery : ' + str(annual_E_E_acc_aux_W) + ' kWh/year')"
   ]
  },
  {
   "cell_type": "code",
   "execution_count": 57,
   "metadata": {},
   "outputs": [
    {
     "name": "stdout",
     "output_type": "stream",
     "text": [
      "Annal amount of heat collected by the solar heat collector : 4.8109263127944235 GJ/year\n"
     ]
    }
   ],
   "source": [
    "annual_Q_d = sum([get_daily_Q_d(spec, day) for day in EC.get_Annual_Days()]) /1000\n",
    "print('Annal amount of heat collected by the solar heat collector : ' + str(annual_Q_d) + ' GJ/year')"
   ]
  },
  {
   "cell_type": "code",
   "execution_count": 58,
   "metadata": {},
   "outputs": [
    {
     "name": "stdout",
     "output_type": "stream",
     "text": [
      "Annal hot water load after substracting amount of heat collected by the solar heat collector : 3.7300493779764357 GJ/year\n"
     ]
    }
   ],
   "source": [
    "annual_L_sun_ass = sum([get_daily_L_sun_ass(spec, get_daily_Q_d(spec, day), day) for day in EC.get_Annual_Days()]) /1000\n",
    "print('Annal hot water load after substracting amount of heat collected by the solar heat collector : ' + str(annual_L_sun_ass) + ' GJ/year')"
   ]
  },
  {
   "cell_type": "code",
   "execution_count": 59,
   "metadata": {},
   "outputs": [
    {
     "name": "stdout",
     "output_type": "stream",
     "text": [
      "Annal hot water load : 18.185391341670996 GJ/year\n"
     ]
    }
   ],
   "source": [
    "annual_HW_Load = sum([sum([LWT.get_L_dash_W_s(day)[i] for i in range(0,6)]) for day in EC.get_Annual_Days()]) /1000\n",
    "print('Annal hot water load : ' + str(annual_HW_Load) + ' GJ/year')"
   ]
  },
  {
   "cell_type": "code",
   "execution_count": 60,
   "metadata": {},
   "outputs": [
    {
     "name": "stdout",
     "output_type": "stream",
     "text": [
      "Redution ratio : 20.511240632084707 %\n"
     ]
    }
   ],
   "source": [
    "print('Redution ratio : ' + str(annual_L_sun_ass / annual_HW_Load * 100) + ' %')"
   ]
  }
 ],
 "metadata": {
  "kernelspec": {
   "display_name": "Python 3",
   "language": "python",
   "name": "python3"
  },
  "language_info": {
   "codemirror_mode": {
    "name": "ipython",
    "version": 3
   },
   "file_extension": ".py",
   "mimetype": "text/x-python",
   "name": "python",
   "nbconvert_exporter": "python",
   "pygments_lexer": "ipython3",
   "version": "3.6.4"
  }
 },
 "nbformat": 4,
 "nbformat_minor": 2
}
