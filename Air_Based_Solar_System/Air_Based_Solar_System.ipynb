{
 "cells": [
  {
   "cell_type": "code",
   "execution_count": 1,
   "metadata": {},
   "outputs": [],
   "source": [
    "import numpy as np\n",
    "import math\n",
    "from enum import Enum\n",
    "from collections import namedtuple\n",
    "\n",
    "# matplotlib\n",
    "# ライブラリーのインポート\n",
    "import matplotlib.pyplot as plt\n",
    "# インライン表示\n",
    "%matplotlib inline\n",
    "\n",
    "# 日本語フォント\n",
    "import pylab\n",
    "from matplotlib.font_manager import FontProperties\n",
    "fp = FontProperties(fname='C:\\WINDOWS\\Fonts\\msgothic.ttc', size = 12)"
   ]
  },
  {
   "cell_type": "markdown",
   "metadata": {},
   "source": [
    "# 第九章　自然エネルギー利用設備"
   ]
  },
  {
   "cell_type": "markdown",
   "metadata": {},
   "source": [
    "## 第三節　空気集熱式太陽熱利用設備"
   ]
  },
  {
   "cell_type": "markdown",
   "metadata": {},
   "source": [
    "### 5. 給湯部における補正集熱量"
   ]
  },
  {
   "cell_type": "markdown",
   "metadata": {},
   "source": [
    "日付$d$における1日当たりの給湯部における補正集熱量$L_{sun,ass,d}$"
   ]
  },
  {
   "cell_type": "markdown",
   "metadata": {},
   "source": [
    "$$\n",
    "\\begin{equation*}\n",
    "    L_{sun,acc,d} = min \\left( L_{tunk,d} , \\: \\left( L'_{k,d} + L'_{s,d} + L'_{w,d} + L'_{b1,d} + L'_{b2,d} + L'_{ba1,d} \\right) \\times f_{sr,uplim} \\right)\n",
    "\\end{equation*}\n",
    "$$"
   ]
  },
  {
   "cell_type": "markdown",
   "metadata": {},
   "source": [
    "$f_{sr,uplim}$ : 給湯部の分担率上限値(-)   \n",
    "$L_{sun,acc,d}$ : 日付$d$における1日当たりの給湯部における補正集熱量(MJ/日)  \n",
    "$L_{tnk,d}$ : 日付$d$における1日当たりの給湯部におけるタンク蓄熱量の上限による補正集熱量(MJ/日)  \n",
    "$L'_{k,d}$ : 日付$d$における1日当たりの台所水栓における節湯補正給湯熱負荷(MJ/日)  \n",
    "$L'_{s,d}$ : 日付$d$における1日当たりの浴室シャワー水栓における節湯補正給湯熱負荷(MJ/日)  \n",
    "$L'_{w,d}$ : 日付$d$における1日当たりの洗面水栓における節湯補正給湯熱負荷(MJ/日)  \n",
    "$L'_{b1,d}$ : 日付$d$における1日当たりの浴槽水栓湯はり時における節湯補正給湯熱負荷(MJ/日)  \n",
    "$L'_{b2,d}$ : 日付$d$における1日当たりの浴槽自動湯はり時における節湯補正給湯熱負荷(MJ/日)  \n",
    "$L'_{ba1,d}$ : 日付$d$における1日当たりの浴槽水栓さし湯時における節湯補正給湯熱負荷(MJ/日)"
   ]
  },
  {
   "cell_type": "markdown",
   "metadata": {},
   "source": [
    "給湯部の分担率上限値$f_{sr,uplim}$"
   ]
  },
  {
   "cell_type": "markdown",
   "metadata": {},
   "source": [
    "$$\n",
    "\\begin{equation*}\n",
    "    f_{sr,uplim} = 0.9\n",
    "\\end{equation*}\n",
    "$$"
   ]
  },
  {
   "cell_type": "markdown",
   "metadata": {},
   "source": [
    "日付$d$における1日当たりの給湯部におけるタンク蓄熱量の上限による補正集熱量$L_{tnk,d}$"
   ]
  },
  {
   "cell_type": "markdown",
   "metadata": {},
   "source": [
    "$$\n",
    "\\begin{equation*}\n",
    "   L_{tnk,d} = min \\left( Q_{d} , \\: HC_{tnk,d} \\times \\alpha_{tnk,d} \\right)\n",
    "\\end{equation*}\n",
    "$$"
   ]
  },
  {
   "cell_type": "markdown",
   "metadata": {},
   "source": [
    "$L_{tnk,d}$ : 日付$d$における1日当たりの給湯部におけるタンク蓄熱量の上限による補正集熱量(MJ/日)  \n",
    "$Q_{d}$ : 日付$d$における1日当たりの基準集熱量(MJ/日)  \n",
    "$HC_{tnk,d}$ : 日付$d$における給湯部のタンク蓄熱量の上限(MJ)  \n",
    "$\\alpha_{tnk,d}$ : 日付$d$における給湯部のタンク有効利用率(1/日)  "
   ]
  },
  {
   "cell_type": "markdown",
   "metadata": {},
   "source": [
    "日付$d$における給湯部のタンク有効利用率$\\alpha_{tnk,d}$"
   ]
  },
  {
   "cell_type": "markdown",
   "metadata": {},
   "source": [
    "$$\n",
    "\\begin{equation*}\n",
    "    \\alpha_{tnk,d} = 1.0\n",
    "\\end{equation*}\n",
    "$$"
   ]
  },
  {
   "cell_type": "code",
   "execution_count": 2,
   "metadata": {},
   "outputs": [],
   "source": [
    "def get_L_tnk(Q_d, HC_tnk):\n",
    "    alpha_tnk = 1  # 1/day\n",
    "    return min(Q_d, HC_tnk * alpha_tnk)"
   ]
  },
  {
   "cell_type": "markdown",
   "metadata": {},
   "source": [
    "日付$d$における給湯部のタンク蓄熱量の上限$HC_{tnk,d}$"
   ]
  },
  {
   "cell_type": "markdown",
   "metadata": {},
   "source": [
    "$$\n",
    "\\begin{equation*}\n",
    "    HC_{tnk,d} = \\left( \\theta_{tnk} - \\theta_{wtr,d} \\right) \\times W_{tnk} \\times 10^{-3}\n",
    "\\end{equation*}\n",
    "$$"
   ]
  },
  {
   "cell_type": "markdown",
   "metadata": {},
   "source": [
    "$HC_{tnk,d}$ : 日付$d$における給湯部のタンク蓄熱量の上限(MJ)  \n",
    "$\\theta_{tnk}$ : 給湯部のタンク内温度(℃)   \n",
    "$\\theta_{wtr,d}$ : 日付$d$における日平均給水温度(℃)  \n",
    "$W_{tnk}$ : 給湯部のタンク容量(L)  "
   ]
  },
  {
   "cell_type": "markdown",
   "metadata": {},
   "source": [
    "給湯部のタンク内温度$\\theta_{tnk}$"
   ]
  },
  {
   "cell_type": "markdown",
   "metadata": {},
   "source": [
    "$$\n",
    "\\begin{equation*}\n",
    "    \\theta_{tnk} = 65\n",
    "\\end{equation*}\n",
    "$$"
   ]
  },
  {
   "cell_type": "code",
   "execution_count": 3,
   "metadata": {},
   "outputs": [],
   "source": [
    "def get_HC_tnk(theta_wtr, W_tnk):\n",
    "    theta_tnk = 65  # degree C\n",
    "    return (theta_tnk - theta_wtr) * W_tnk * 10**(-3)"
   ]
  },
  {
   "cell_type": "markdown",
   "metadata": {},
   "source": [
    "### 6. 基準集熱量"
   ]
  },
  {
   "cell_type": "markdown",
   "metadata": {},
   "source": [
    "日付$d$における1日当たりの基準集熱量$Q_{d}$"
   ]
  },
  {
   "cell_type": "markdown",
   "metadata": {},
   "source": [
    "$$\n",
    "\\begin{equation*}\n",
    "    Q_{d} = \\sum_{t=0}^{23} \\left( Q_{col,d,t} \\times f_{hx} \\times f_{s} \\times t_{cp,d,t} \\right)\n",
    "\\end{equation*}\n",
    "$$"
   ]
  },
  {
   "cell_type": "markdown",
   "metadata": {},
   "source": [
    "$f_{hx}$ : 給湯部の熱交換効率(-)  \n",
    "$f_{s}$ : 給湯部のシステム効率(-)  \n",
    "$Q_{d}$ : 日付$d$における1日当たりの基準集熱量(MJ/日)  \n",
    "$Q_{col,d,t}$ : 日付$d$の時刻$t$における1時間当たりの集熱部における集熱量(MJ/h)   \n",
    "$t_{cp,d,t}$ : 日付$d$の時刻$t$における1時間当たりの循環ポンプの稼働時間(h/h)   "
   ]
  },
  {
   "cell_type": "markdown",
   "metadata": {},
   "source": [
    "給湯部の熱交換効率$f_{hx}$"
   ]
  },
  {
   "cell_type": "markdown",
   "metadata": {},
   "source": [
    "$$\n",
    "\\begin{equation*}\n",
    "    f_{hx} = 0.25\n",
    "\\end{equation*}\n",
    "$$"
   ]
  },
  {
   "cell_type": "markdown",
   "metadata": {},
   "source": [
    "給湯部のシステム効率$f_{s}$"
   ]
  },
  {
   "cell_type": "markdown",
   "metadata": {},
   "source": [
    "$$\n",
    "\\begin{equation*}\n",
    "    f_{s} = 0.85\n",
    "\\end{equation*}\n",
    "$$"
   ]
  },
  {
   "cell_type": "code",
   "execution_count": 4,
   "metadata": {},
   "outputs": [],
   "source": [
    "def get_Q_d(Q_col, t_cp):    \n",
    "    f_hx = 0.25  # -\n",
    "    f_s = 0.85   # -\n",
    "    return sum(Q_col[t] * f_hx * f_s * t_cp[t] for t in range(0,24,1))"
   ]
  },
  {
   "cell_type": "markdown",
   "metadata": {},
   "source": [
    "### 7. 消費電力量"
   ]
  },
  {
   "cell_type": "markdown",
   "metadata": {},
   "source": [
    "#### 7.1　補機の消費電力量"
   ]
  },
  {
   "cell_type": "markdown",
   "metadata": {},
   "source": [
    "日付$d$における1日当たりの補機の消費電力量のうち給湯設備への付加分$E_{E,ass,aux,W,d}$"
   ]
  },
  {
   "cell_type": "markdown",
   "metadata": {},
   "source": [
    "$$\n",
    "\\begin{equation*}\n",
    "    E_{E,ass,aux,W,d} = \\sum_{t=0}^{23} E_{E,ass,aux,W,d,t}\n",
    "\\end{equation*}\n",
    "$$"
   ]
  },
  {
   "cell_type": "markdown",
   "metadata": {},
   "source": [
    "$E_{E,ass,aux,W,d}$ : 日付$d$における1日当たりの補機の消費電力量のうち給湯設備への付加分(kWh/日)   \n",
    "$E_{E,ass,aux,W,d,t}$ : 日付$d$の時刻$t$における1時間当たりの補機の消費電力量のうち給湯設備への付加分(kWh/h)   "
   ]
  },
  {
   "cell_type": "markdown",
   "metadata": {},
   "source": [
    "日付$d$の時刻$t$における1時間当たりの補機の消費電力量のうち給湯設備への付加分$E_{E,ass,aux,W,d,t}$"
   ]
  },
  {
   "cell_type": "markdown",
   "metadata": {},
   "source": [
    "$$\n",
    "\\begin{equation*}\n",
    "    E_{E,ass,aux,W,d,t} = E_{E,fan,d,t} + E_{E,cp,d,t}\n",
    "\\end{equation*}\n",
    "$$"
   ]
  },
  {
   "cell_type": "markdown",
   "metadata": {},
   "source": [
    "$E_{E,ass,aux,W,d,t}$ : 日付$d$の時刻$t$における1時間当たりの補機の消費電力量のうち給湯設備への付加分(kWh/h)   \n",
    "$E_{E,cp,d,t}$ : 日付$d$の時刻$t$における1時間当たりの循環ポンプの消費電力量(kWh/h)   \n",
    "$E_{E,fan,d,t}$ : 日付$d$の時刻$t$における1時間当たりの空気搬送ファンの消費電力量(kWh/h)   "
   ]
  },
  {
   "cell_type": "code",
   "execution_count": 5,
   "metadata": {},
   "outputs": [],
   "source": [
    "def get_E_E_ass_aux_W(E_E_fan, E_E_cp):    \n",
    "    return sum(E_E_fan[t] + E_E_cp[t] for t in range(0,24,1))"
   ]
  },
  {
   "cell_type": "markdown",
   "metadata": {},
   "source": [
    "#### 7.2　空気搬送ファンの消費電力量"
   ]
  },
  {
   "cell_type": "markdown",
   "metadata": {},
   "source": [
    "日付$d$における1日当たりの空気搬送ファンの消費電力量$E_{E,fan,d,t}$"
   ]
  },
  {
   "cell_type": "markdown",
   "metadata": {},
   "source": [
    "<p style=\"text-indent:2em\">空気搬送ファンの自立運転用太陽光発電装置を採用する場合：</p>  \n",
    "$$ \n",
    "\\begin{equation*}\n",
    "    E_{E,fan,d,t} =0\n",
    "\\end{equation*}\n",
    "$$"
   ]
  },
  {
   "cell_type": "markdown",
   "metadata": {},
   "source": [
    "<p style=\"text-indent:2em\">空気搬送ファンの自立運転用太陽光発電装置を採用しない場合：</p> \n",
    "<p style=\"text-indent:4em\">$t_{cp,d,t} = 0$の場合（循環ポンプが稼働していない場合）：</p> \n",
    "$$ \n",
    "\\begin{equation*}\n",
    "    E_{E,fan,d,t} = 0\n",
    "\\end{equation*}\n",
    "$$\n",
    "\n",
    "<p style=\"text-indent:4em\">$0 < t_{cp,d,t}$の場合（循環ポンプが稼働している場合）：</p> \n",
    "$$ \n",
    "\\begin{equation*}\n",
    "    E_{E,fan,d,t} =f_{SFP} \\times V_{fan,d,t} \\times 10^{-3}\n",
    "\\end{equation*}\n",
    "$$"
   ]
  },
  {
   "cell_type": "markdown",
   "metadata": {},
   "source": [
    "$E_{E,fan,d,t}$ : 日付$d$の時刻$t$における1時間当たりの空気搬送ファンの消費電力量(kWh/h)  \n",
    "$f_{SFP}$ : 空気搬送ファンの比消費電力(W/(m<sup>3</sup>/h))  \n",
    "$t_{cp,d,t}$ : 日付$d$の時刻$t$における1時間当たりの循環ポンプの稼働時間(h/h)  \n",
    "$V_{fan,d,t}$ : 日付$d$の時刻$t$における1時間当たりの空気搬送ファンの風量(m<sup>3</sup>/h)  "
   ]
  },
  {
   "cell_type": "markdown",
   "metadata": {},
   "source": [
    "空気搬送ファンの比消費電力$f_{SFP}$"
   ]
  },
  {
   "cell_type": "markdown",
   "metadata": {},
   "source": [
    "<table>\n",
    "    <caption>表3 空気搬送ファンの比消費電力$f_{SFP}$</caption>\n",
    "    <thead style=\"background-color:lightgrey\" >\n",
    "        <tr>\n",
    "            <th style=\"text-align:center; text-align:center; border:1px solid black;\">ファンの種別</th>\n",
    "            <th style=\"text-align:center; text-align:center; border:1px solid black;\">ファンの比消費電力$f_{SFP}$<br/>(W/(m<sup>3</sup>/h))</th>\n",
    "        </tr>\n",
    "    </thead>\n",
    "    <tbody>    \n",
    "        <tr>\n",
    "            <td style=\"border:1px solid black; text-align:center;\">ACファン</td>\n",
    "            <td style=\"border:1px solid black; text-align:center;\">0.4</td>\n",
    "        </tr>\n",
    "        <tr>\n",
    "            <td style=\"border:1px solid black; text-align:center;\">DCファン</td>\n",
    "            <td style=\"border:1px solid black; text-align:center;\">0.2</td>\n",
    "        </tr>\n",
    "    </tbody> \n",
    "<table>"
   ]
  },
  {
   "cell_type": "code",
   "execution_count": 6,
   "metadata": {},
   "outputs": [],
   "source": [
    "def get_f_SFP(Fan_Type):\n",
    "    return {'AC' : 0.4, 'DC' : 0.2}[Fan_Type]"
   ]
  },
  {
   "cell_type": "code",
   "execution_count": 7,
   "metadata": {},
   "outputs": [],
   "source": [
    "def get_E_E_fan(PV_for_Fan, Fan_Type, t_cp, V_fan):\n",
    "    if PV_for_Fan is False:\n",
    "        return 0\n",
    "    elif PV_for_Fan is True:\n",
    "        if t_cp == 0:\n",
    "            return 0\n",
    "        else:\n",
    "            f_SFP = get_f_SFP(Fan_Type)  # W/(m3/h)\n",
    "            return f_SFP * V_fan * 10**(-3)\n",
    "    else:\n",
    "        raise Exeption"
   ]
  },
  {
   "cell_type": "markdown",
   "metadata": {},
   "source": [
    "#### 7.3　循環ポンプの消費電力量"
   ]
  },
  {
   "cell_type": "markdown",
   "metadata": {},
   "source": [
    "日付$d$の時刻$t$における1時間当たりの循環ポンプの消費電力量$E_{E,cp,d,t}$"
   ]
  },
  {
   "cell_type": "markdown",
   "metadata": {},
   "source": [
    "$$\n",
    "\\begin{equation*}\n",
    "    E_{E,cp,d,t} = P_{cp} \\times t_{cp,d,t} \\times 10^{-3}\n",
    "\\end{equation*}\n",
    "$$"
   ]
  },
  {
   "cell_type": "markdown",
   "metadata": {},
   "source": [
    "$E_{E,cp,d,t}$ : 日付$d$の時刻$t$における1時間当たりの循環ポンプの消費電力量(kWh/h)   \n",
    "$P_{cp}$ : 循環ポンプの消費電力(W)   \n",
    "$t_{cp,d,t}$ : 日付$d$の時刻$t$における1時間当たりの循環ポンプの稼働時間(h/h)  "
   ]
  },
  {
   "cell_type": "markdown",
   "metadata": {},
   "source": [
    "循環ポンプの消費電力$P_{cp}$"
   ]
  },
  {
   "cell_type": "markdown",
   "metadata": {},
   "source": [
    "<table>\n",
    "    <caption>表4 循環ポンプの消費電力$P_{cp}$</caption>\n",
    "    <thead style=\"background-color:lightgrey\" >\n",
    "        <tr>\n",
    "            <th style=\"text-align:center; text-align:center; border:1px solid black;\">循環ポンプの自立運転用太陽光発電装置の採用の有無</th>\n",
    "            <th style=\"text-align:center; text-align:center; border:1px solid black;\">循環ポンプの消費電力$P_{cp}$<br/>(W)</th>\n",
    "        </tr>\n",
    "    </thead>\n",
    "    <tbody>    \n",
    "        <tr>\n",
    "            <td style=\"border:1px solid black; text-align:center;\">採用しない</td>\n",
    "            <td style=\"border:1px solid black; text-align:center;\">80</td>\n",
    "        </tr>\n",
    "        <tr>\n",
    "            <td style=\"border:1px solid black; text-align:center;\">採用する</td>\n",
    "            <td style=\"border:1px solid black; text-align:center;\">0</td>\n",
    "        </tr>\n",
    "    </tbody> \n",
    "<table>"
   ]
  },
  {
   "cell_type": "code",
   "execution_count": 8,
   "metadata": {},
   "outputs": [],
   "source": [
    "def get_P_cp(PV_for_Pump):\n",
    "    return {False : 80, True : 0}[PV_for_Pump]"
   ]
  },
  {
   "cell_type": "code",
   "execution_count": 9,
   "metadata": {},
   "outputs": [],
   "source": [
    "def get_E_E_pump(PV_for_Pump, t_cp):\n",
    "    P_cp = get_P_cp(PV_for_Pump)  # W\n",
    "    return P_cp * t_cp * 10**(-3)"
   ]
  },
  {
   "cell_type": "markdown",
   "metadata": {},
   "source": [
    "### 8. 空気搬送ファンおよび循環ポンプ"
   ]
  },
  {
   "cell_type": "markdown",
   "metadata": {},
   "source": [
    "#### 8.1　空気搬送ファンの稼働時間"
   ]
  },
  {
   "cell_type": "markdown",
   "metadata": {},
   "source": [
    "日付$d$の時刻$t$における1時間当たりの空気搬送ファンの稼働時間$t_{fan,d,t}$  "
   ]
  },
  {
   "cell_type": "markdown",
   "metadata": {},
   "source": [
    "<p style=\"text-indent:2em\">$30 \\leq \\theta_{col,nonopg,d,t}$ かつ $25 < \\theta_{col,opg,d,t}$の場合：</p> \n",
    "$$ \n",
    "\\begin{equation*}\n",
    "   t_{fan,d,t} = 1\n",
    "\\end{equation*}\n",
    "$$\n",
    "\n",
    "<p style=\"text-indent:2em\">$\\theta_{col,nonopg,d,t} < 30$ かつ $\\theta_{col,opg,d,t} \\leq 25$の場合：</p> \n",
    "$$ \n",
    "\\begin{equation*}\n",
    "   t_{fan,d,t} = 0\n",
    "\\end{equation*}\n",
    "$$"
   ]
  },
  {
   "cell_type": "markdown",
   "metadata": {},
   "source": [
    "$t_{fan,d,t}$ : 日付$d$の時刻$t$における1時間当たりの空気搬送ファンの稼働時間(h/h)  \n",
    "$\\theta_{col,opg,d,t}$ : 日付$d$の時刻$t$における空気搬送ファン稼働時の集熱部の出口における空気温度(℃)  \n",
    "$\\theta_{col,nonopg,d,t}$ : 日付$d$の時刻$t$における空気搬送ファン停止時の集熱部の出口における空気温度(℃)  "
   ]
  },
  {
   "cell_type": "code",
   "execution_count": 10,
   "metadata": {},
   "outputs": [],
   "source": [
    "def get_t_fan(theta_col_opg, theta_col_nonopg):\n",
    "    if 30 <= theta_col_nonopg and 25 < theta_col_opg:\n",
    "        return 1\n",
    "    elif theta_col_nonopg < 30 and theta_col_opg <= 25:\n",
    "        return 0\n",
    "    else:\n",
    "        raise Exeption"
   ]
  },
  {
   "cell_type": "markdown",
   "metadata": {},
   "source": [
    "#### 8.2　循環ポンプの稼働時間"
   ]
  },
  {
   "cell_type": "markdown",
   "metadata": {},
   "source": [
    "日付$d$の時刻$t$における1時間当たりの循環ポンプの稼働時間$t_{cp,d,t}$"
   ]
  },
  {
   "cell_type": "markdown",
   "metadata": {},
   "source": [
    "<p style=\"text-indent:2em\">$0 < t_{fan,d,t}$の場合：</p> \n",
    "$$ \n",
    "\\begin{equation*}\n",
    "   t_{cp,d,t} = 1 \\times r_{cp}\n",
    "\\end{equation*}\n",
    "$$\n",
    "\n",
    "<p style=\"text-indent:2em\">$t_{fan,d,t} = 0$の場合：</p> \n",
    "$$ \n",
    "\\begin{equation*}\n",
    "   t_{cp,d,t} = 0\n",
    "\\end{equation*}\n",
    "$$"
   ]
  },
  {
   "cell_type": "markdown",
   "metadata": {},
   "source": [
    "$r_{cp}$ : 循環ポンプの変平均稼働率(-)  \n",
    "$t_{cp,d,t}$ : 日付$d$の時刻$t$における1時間当たりの循環ポンプの稼働時間(h/h)  \n",
    "$t_{fan,d,t}$ : 日付$d$の時刻$t$における1時間当たりの空気搬送ファンの稼働時間(h/h)  "
   ]
  },
  {
   "cell_type": "markdown",
   "metadata": {},
   "source": [
    " 循環ポンプの変平均稼働率（暖房運転と循環ポンプの稼働が同時に発生しないことを考慮するための係数）$r_{cp}$ "
   ]
  },
  {
   "cell_type": "markdown",
   "metadata": {},
   "source": [
    "<table>\n",
    "    <caption>表4 循環ポンプの消費電力$P_{cp}$</caption>\n",
    "    <thead style=\"background-color:lightgrey\" >\n",
    "        <tr>\n",
    "            <th style=\"text-align:center; text-align:center; border:1px solid black;\" rowspan=2 >地域区分</th>\n",
    "            <th style=\"text-align:center; text-align:center; border:1px solid black;\" colspan=5>年間日射量地域区分</th>\n",
    "        </tr>\n",
    "        <tr>\n",
    "            <th style=\"text-align:center; text-align:center; border:1px solid black;\">A1</th>\n",
    "            <th style=\"text-align:center; text-align:center; border:1px solid black;\">A2</th>\n",
    "            <th style=\"text-align:center; text-align:center; border:1px solid black;\">A3</th>\n",
    "            <th style=\"text-align:center; text-align:center; border:1px solid black;\">A4</th>\n",
    "            <th style=\"text-align:center; text-align:center; border:1px solid black;\">A5</th>\n",
    "        </tr>\n",
    "    </thead>\n",
    "    <tbody>    \n",
    "        <tr>\n",
    "            <td style=\"border:1px solid black; text-align:center;\">1</td>\n",
    "            <td style=\"border:1px solid black; text-align:center;\">0.41</td>\n",
    "            <td style=\"border:1px solid black; text-align:center;\">0.33</td>\n",
    "            <td style=\"border:1px solid black; text-align:center;\">0.32</td>\n",
    "            <td style=\"border:1px solid black; text-align:center;\">-</td>\n",
    "            <td style=\"border:1px solid black; text-align:center;\">-</td>\n",
    "        </tr>\n",
    "        <tr>\n",
    "            <td style=\"border:1px solid black; text-align:center;\">2</td>\n",
    "            <td style=\"border:1px solid black; text-align:center;\">0.37</td>\n",
    "            <td style=\"border:1px solid black; text-align:center;\">0.44</td>\n",
    "            <td style=\"border:1px solid black; text-align:center;\">0.40</td>\n",
    "            <td style=\"border:1px solid black; text-align:center;\">-</td>\n",
    "            <td style=\"border:1px solid black; text-align:center;\">-</td>\n",
    "        </tr>\n",
    "        <tr>\n",
    "            <td style=\"border:1px solid black; text-align:center;\">3</td>\n",
    "            <td style=\"border:1px solid black; text-align:center;\">0.44</td>\n",
    "            <td style=\"border:1px solid black; text-align:center;\">0.40</td>\n",
    "            <td style=\"border:1px solid black; text-align:center;\">0.35</td>\n",
    "            <td style=\"border:1px solid black; text-align:center;\">0.36</td>\n",
    "            <td style=\"border:1px solid black; text-align:center;\">0.39</td>\n",
    "        </tr>\n",
    "        <tr>\n",
    "            <td style=\"border:1px solid black; text-align:center;\">4</td>\n",
    "            <td style=\"border:1px solid black; text-align:center;\">0.40</td>\n",
    "            <td style=\"border:1px solid black; text-align:center;\">0.45</td>\n",
    "            <td style=\"border:1px solid black; text-align:center;\">0.45</td>\n",
    "            <td style=\"border:1px solid black; text-align:center;\">0.39</td>\n",
    "            <td style=\"border:1px solid black; text-align:center;\">0.41</td>\n",
    "        </tr>\n",
    "        <tr>\n",
    "            <td style=\"border:1px solid black; text-align:center;\">5</td>\n",
    "            <td style=\"border:1px solid black; text-align:center;\">0.50</td>\n",
    "            <td style=\"border:1px solid black; text-align:center;\">0.50</td>\n",
    "            <td style=\"border:1px solid black; text-align:center;\">0.53</td>\n",
    "            <td style=\"border:1px solid black; text-align:center;\">0.50</td>\n",
    "            <td style=\"border:1px solid black; text-align:center;\">0.47</td>\n",
    "        </tr>\n",
    "        <tr>\n",
    "            <td style=\"border:1px solid black; text-align:center;\">6</td>\n",
    "            <td style=\"border:1px solid black; text-align:center;\">-</td>\n",
    "            <td style=\"border:1px solid black; text-align:center;\">0.67</td>\n",
    "            <td style=\"border:1px solid black; text-align:center;\">0.64</td>\n",
    "            <td style=\"border:1px solid black; text-align:center;\">0.62</td>\n",
    "            <td style=\"border:1px solid black; text-align:center;\">0.61</td>\n",
    "        </tr>\n",
    "        <tr>\n",
    "            <td style=\"border:1px solid black; text-align:center;\">7</td>\n",
    "            <td style=\"border:1px solid black; text-align:center;\">0.78</td>\n",
    "            <td style=\"border:1px solid black; text-align:center;\">0.78</td>\n",
    "            <td style=\"border:1px solid black; text-align:center;\">0.78</td>\n",
    "            <td style=\"border:1px solid black; text-align:center;\">0.71</td>\n",
    "            <td style=\"border:1px solid black; text-align:center;\">0.74</td>\n",
    "        </tr>\n",
    "        <tr>\n",
    "            <td style=\"border:1px solid black; text-align:center;\">8</td>\n",
    "            <td style=\"border:1px solid black; text-align:center;\">-</td>\n",
    "            <td style=\"border:1px solid black; text-align:center;\">-</td>\n",
    "            <td style=\"border:1px solid black; text-align:center;\">1.00</td>\n",
    "            <td style=\"border:1px solid black; text-align:center;\">1.00</td>\n",
    "            <td style=\"border:1px solid black; text-align:center;\">1.00</td>\n",
    "        </tr>\n",
    "    </tbody> \n",
    "<table>"
   ]
  },
  {
   "cell_type": "code",
   "execution_count": 11,
   "metadata": {},
   "outputs": [],
   "source": [
    "def get_r_cp(region, region_solar):\n",
    "    return {\n",
    "        'Region1' : {'A1' : 0.41, 'A2' : 0.33, 'A3' : 0.32, 'A4' : None, 'A5' : None},\n",
    "        'Region2' : {'A1' : 0.37, 'A2' : 0.44, 'A3' : 0.40, 'A4' : None, 'A5' : None},\n",
    "        'Region3' : {'A1' : 0.44, 'A2' : 0.40, 'A3' : 0.35, 'A4' : 0.36, 'A5' : 0.39},\n",
    "        'Region4' : {'A1' : 0.40, 'A2' : 0.45, 'A3' : 0.45, 'A4' : 0.39, 'A5' : 0.41},\n",
    "        'Region5' : {'A1' : 0.50, 'A2' : 0.50, 'A3' : 0.53, 'A4' : 0.50, 'A5' : 0.47},\n",
    "        'Region6' : {'A1' : None, 'A2' : 0.67, 'A3' : 0.64, 'A4' : 0.62, 'A5' : 0.61},\n",
    "        'Region7' : {'A1' : 0.78, 'A2' : 0.78, 'A3' : 0.78, 'A4' : 0.71, 'A5' : 0.74},\n",
    "        'Region8' : {'A1' : None, 'A2' : None, 'A3' : 1.00, 'A4' : 1.00, 'A5' : 1.00}\n",
    "    }[region][region_solar]"
   ]
  },
  {
   "cell_type": "code",
   "execution_count": 12,
   "metadata": {},
   "outputs": [],
   "source": [
    "def get_t_cp(t_fan, region, region_solar):\n",
    "    if 0 < t_fan:\n",
    "        r_cp = get_r_cp(region, region_solar)\n",
    "        return 1 * r_cp\n",
    "    elif t_fan == 0:\n",
    "        return 0\n",
    "    else:\n",
    "        raise Exeption"
   ]
  },
  {
   "cell_type": "markdown",
   "metadata": {},
   "source": [
    "#### 8.3　空気搬送ファンの風量"
   ]
  },
  {
   "cell_type": "markdown",
   "metadata": {},
   "source": [
    "日付$d$の時刻$t$における1時間当たりの空気搬送ファンの風量$V_{fan,d,t}$"
   ]
  },
  {
   "cell_type": "markdown",
   "metadata": {},
   "source": [
    "$$ \n",
    "\\begin{equation*}\n",
    "   V_{fan,d,t} = V_{fan,P0} \\times t_{fan,d,t}\n",
    "\\end{equation*}\n",
    "$$"
   ]
  },
  {
   "cell_type": "markdown",
   "metadata": {},
   "source": [
    "$t_{fan,d,t}$ : 日付$d$の時刻$t$における1時間当たりの空気搬送ファンの稼働時間(h/h)  \n",
    "$V_{fan,d,t}$ : 日付$d$の時刻$t$における1時間当たりの空気搬送ファンの風量(m<sup>3</sup>/h)  \n",
    "$V_{fan,P0}$ : 空気搬送ファンの送風機特性曲線において機外静圧をゼロとした時の空気搬送ファンの風量(m<sup>3</sup>/h)  "
   ]
  },
  {
   "cell_type": "code",
   "execution_count": 13,
   "metadata": {},
   "outputs": [],
   "source": [
    "def get_V_fan(V_fan_P0, t_fan):\n",
    "    return V_fan_P0 * t_fan"
   ]
  },
  {
   "cell_type": "markdown",
   "metadata": {},
   "source": [
    "### 9. 集熱部"
   ]
  },
  {
   "cell_type": "markdown",
   "metadata": {},
   "source": [
    "#### 9.1　集熱量"
   ]
  },
  {
   "cell_type": "markdown",
   "metadata": {},
   "source": [
    "日付$d$の時刻$t$における1時間当たりの集熱部における集熱量$Q_{col,d,t}$"
   ]
  },
  {
   "cell_type": "markdown",
   "metadata": {},
   "source": [
    "$$ \n",
    "\\begin{equation*}\n",
    "   Q_{col,d,t} = \\rho_{air} \\times c_{P_{air}} \\times V_{fan,d,t} \\times \\left( \\theta_{col,opg,d,t} - \\theta_{ex,d,t} \\right) \\times 10^{-3}\n",
    "\\end{equation*}\n",
    "$$"
   ]
  },
  {
   "cell_type": "markdown",
   "metadata": {},
   "source": [
    "$c_{P_{air}}$ : 空気の比熱(kJ/(kg$\\cdot$K))  \n",
    "$Q_{col,d,t}$ : 空日付$d$の時刻$t$における1時間当たりの集熱部における集熱量(MJ/h)  \n",
    "$V_{fan,d,t}$ : 日付$d$の時刻$t$における1時間当たりの空気搬送ファンの風量(m<sup>3</sup>/h)  \n",
    "$\\theta_{col,opg,d,t}$ : 日付$d$の時刻$t$における空気搬送ファン稼働時の集熱部の出口における空気温度(℃)  \n",
    "$\\theta_{ex,d,t}$ : 日付$d$の時刻$t$における外気温度(℃)  \n",
    "$\\rho_{air}$ : 空気の密度(kg/m<sup>3</sup>)  "
   ]
  },
  {
   "cell_type": "markdown",
   "metadata": {},
   "source": [
    "空気の密度$\\rho_{air}$"
   ]
  },
  {
   "cell_type": "markdown",
   "metadata": {},
   "source": [
    "$$ \n",
    "\\begin{equation*}\n",
    "   \\rho_{air} = 1.2\n",
    "\\end{equation*}\n",
    "$$"
   ]
  },
  {
   "cell_type": "markdown",
   "metadata": {},
   "source": [
    "空気の比熱$c_{P_{air}}$"
   ]
  },
  {
   "cell_type": "markdown",
   "metadata": {},
   "source": [
    "$$ \n",
    "\\begin{equation*}\n",
    "   c_{P_{air}} = 1.006\n",
    "\\end{equation*}\n",
    "$$"
   ]
  },
  {
   "cell_type": "code",
   "execution_count": 14,
   "metadata": {},
   "outputs": [],
   "source": [
    "def get_Q_col(V_fan, theta_col_opg, theta_ex):\n",
    "    rho_air = 1.2    # kg/m3\n",
    "    c_P_air = 1.006  # kJ/(kg K)\n",
    "    return rho_air * c_P_air * V_fan * (theta_col_opg - theta_ex) *10**(-3)"
   ]
  },
  {
   "cell_type": "markdown",
   "metadata": {},
   "source": [
    "#### 9.2　空気搬送ファン停止時の集熱部の出口における空気温度"
   ]
  },
  {
   "cell_type": "markdown",
   "metadata": {},
   "source": [
    "日付$d$の時刻$t$における空気搬送ファン停止時の集熱部の出口における空気温度$\\theta_{col,nonopg,d,t}$"
   ]
  },
  {
   "cell_type": "markdown",
   "metadata": {},
   "source": [
    "$$ \n",
    "\\begin{equation*}\n",
    "   \\theta_{col,nonopg,d,t} = \\frac{\\displaystyle \\sum_{j=1}^{n} \\left( \\theta_{col,nonopg,j,d,t} \\times V_{col,j,d,t} \\right)}{\\displaystyle \\sum_{j=1}^{n} V_{col,j,d,t}}\n",
    "\\end{equation*}\n",
    "$$"
   ]
  },
  {
   "cell_type": "markdown",
   "metadata": {},
   "source": [
    "$n$ : 集熱器群の数(-)  \n",
    "$V_{col,j,d,t}$ : 日付$d$の時刻$t$における空気集熱ファン稼働時に集熱器群$j$を流れる空気の体積流量(m<sup>3</sup>/h)  \n",
    "$\\theta_{col,nonopg,d,t}$ : 日付$d$の時刻$t$における空気搬送ファン停止時の集熱部の出口における空気温度(℃)  \n",
    "$\\theta_{col,nonopg,j,d,t}$ : 日付$d$の時刻$t$における空気搬送ファン停止時の集熱器群$j$の出口における空気温度(℃)  "
   ]
  },
  {
   "cell_type": "code",
   "execution_count": 15,
   "metadata": {},
   "outputs": [],
   "source": [
    "def get_theta_col_nonopg(n_col, theta_col_nonopg, V_col):\n",
    "    return sum(theta_col_nonopg[j] * V_col[j] for j in range(0,n_col+1,1)) / sum(V_col[j] for j in range(0,n_col+1,1))"
   ]
  },
  {
   "cell_type": "markdown",
   "metadata": {},
   "source": [
    "#### 9.3　空気搬送ファン稼働時の集熱部の出口における空気温度"
   ]
  },
  {
   "cell_type": "markdown",
   "metadata": {},
   "source": [
    "日付$d$の時刻$t$における空気搬送ファン稼働時の集熱部の出口における空気温度$\\theta_{col,opg,d,t}$"
   ]
  },
  {
   "cell_type": "markdown",
   "metadata": {},
   "source": [
    "$$ \n",
    "\\begin{equation*}\n",
    "   \\theta_{col,opg,d,t} = \\frac{\\displaystyle \\sum_{j=1}^{n} \\left( \\theta_{col,opg,j,d,t} \\times V_{col,j,d,t} \\right)}{\\displaystyle \\sum_{j=1}^{n} V_{col,j,d,t}}\n",
    "\\end{equation*}\n",
    "$$"
   ]
  },
  {
   "cell_type": "markdown",
   "metadata": {},
   "source": [
    "$n$ : 集熱器群の数(-)  \n",
    "$V_{col,j,d,t}$ : 日付$d$の時刻$t$における空気集熱ファン稼働時に集熱器群$j$を流れる空気の体積流量(-)  \n",
    "$\\theta_{col,opg,d,t}$ : 日付$d$の時刻$t$における空気搬送ファン稼働時の集熱部の出口における空気温度(℃)  \n",
    "$\\theta_{col,opg,j,d,t}$ : 日付$d$の時刻$t$における空気搬送ファン稼働時の集熱器群$j$の出口における空気温度(℃)  "
   ]
  },
  {
   "cell_type": "code",
   "execution_count": 16,
   "metadata": {},
   "outputs": [],
   "source": [
    "def get_theta_col_opg(n_col, theta_col_opg, V_col):\n",
    "    return sum(theta_col_opg[j] * V_col[j] for j in range(0,n_col+1,1)) / sum(V_col[j] for j in range(0,n_col,1))"
   ]
  },
  {
   "cell_type": "markdown",
   "metadata": {},
   "source": [
    "#### 9.4　空気搬送ファン停止時の集熱器群の出口における空気温度"
   ]
  },
  {
   "cell_type": "markdown",
   "metadata": {},
   "source": [
    "日付$d$の時刻$t$における空気搬送ファン停止時の集熱器群$j$の出口における空気温度$\\theta_{col,nonopg,j,d,t}$"
   ]
  },
  {
   "cell_type": "markdown",
   "metadata": {},
   "source": [
    "$$ \n",
    "\\begin{equation*}\n",
    "   \\theta_{col,nonopg,j,d,t} = \\frac{d_{0,j}}{d_{1,j}} \\times I_{s,j,d,t} + \\theta_{ex,d,t}\n",
    "\\end{equation*}\n",
    "$$"
   ]
  },
  {
   "cell_type": "markdown",
   "metadata": {},
   "source": [
    "$d_{0,j}$ : 集熱器群$j$を構成する集熱器の集熱効率特性線図一次近似式の切片(-)  \n",
    "$d_{1,j}$ : 集熱器群$j$を構成する集熱器の集熱効率特性線図一次近似式の傾き(W/(m<sup>2</sup>$\\cdot$K))  \n",
    "$I_{s,j,d,t}$ : 日付$d$の時刻$t$における集熱器群$j$の単位面積当たりの平均日射量(W/m<sup>2</sup>)  \n",
    "$\\theta_{ex,d,t}$ : 日付$d$の時刻$t$における外気温度(℃)  \n",
    "$\\theta_{col,nonopg,j,d,t}$ : 日付$d$の時刻$t$における空気搬送ファン停止時の集熱器群$j$の出口における空気温度(℃)  "
   ]
  },
  {
   "cell_type": "code",
   "execution_count": 17,
   "metadata": {},
   "outputs": [],
   "source": [
    "def get_theta_col_nonopg_j(d_0, d_1, I_s, theta_ex):\n",
    "    return (d_0[j] / d_1[j] * I_s[j] + theta_ex for j in range(0,n_col,1))"
   ]
  },
  {
   "cell_type": "markdown",
   "metadata": {},
   "source": [
    "#### 9.5　空気搬送ファン稼働時の集熱器群の出口における空気温度"
   ]
  },
  {
   "cell_type": "markdown",
   "metadata": {},
   "source": [
    "日付$d$の時刻$t$における空気搬送ファン稼働時の集熱器群$j$の出口における空気温度$\\theta_{col,opg,j,d,t}$"
   ]
  },
  {
   "cell_type": "markdown",
   "metadata": {},
   "source": [
    "$$ \n",
    "\\begin{equation*}\n",
    "   \\theta_{col,opg,j,d,t} = \\theta_{col,nonopg,j,d,t} + \\left( \\theta_{ex,d,t} - \\theta_{col,nonopg,j,d,t} \\right) \\times e^{- \\frac{U_{c,j} \\times A_{j}}{c_{P_{air}} \\times \\rho_{air} \\times V_{col,j,d,t} \\div 3600 \\times 10^{-3}}}\n",
    "\\end{equation*}\n",
    "$$"
   ]
  },
  {
   "cell_type": "markdown",
   "metadata": {},
   "source": [
    "$A_{j}$ : 集熱器群$j$の面積(m<sup>2</sup>)  \n",
    "$c_{P_{air}}$ : 空気の比熱(kJ/(kg$\\cdot$K))  \n",
    "$U_{c,j}$ : 集熱器群$j$を構成する集熱器の集熱器総合熱損失係数(W/(m<sup>2</sup>$\\cdot$K))  \n",
    "$V_{col,j,d,t}$ : 日付$d$の時刻$t$における空気集熱ファン稼働時に集熱器群$j$を流れる空気の体積流量(m<sup>3</sup>/h)  \n",
    "$\\theta_{col,opg,d,t}$ : 日付$d$の時刻$t$における空気搬送ファン稼働時の集熱部の出口における空気温度(℃)  \n",
    "$\\theta_{col,nonopg,j,d,t}$ : 日付$d$の時刻$t$における空気搬送ファン停止時の集熱器群$j$の出口における空気温度(℃)  \n",
    "$\\theta_{ex,d,t}$ : 日付$d$の時刻$t$における外気温度(℃)  \n",
    "$\\rho_{air}$ : 空気の密度(kg/m<sup>3</sup>)  "
   ]
  },
  {
   "cell_type": "markdown",
   "metadata": {},
   "source": [
    "日付$d$の時刻$t$における空気集熱ファン稼働時に集熱器群$j$を流れる空気の体積流量$V_{col,j,d,t}$"
   ]
  },
  {
   "cell_type": "markdown",
   "metadata": {},
   "source": [
    "$$ \n",
    "\\begin{equation*}\n",
    "   V_{col,j,d,t} = V_{fan,P0} \\times \\frac{A_{j}}{\\displaystyle \\sum_{j=1}^{n} A_{j}}\n",
    "\\end{equation*}\n",
    "$$"
   ]
  },
  {
   "cell_type": "markdown",
   "metadata": {},
   "source": [
    "$A_{j}$ : 集熱器群$j$の面積(m<sup>2</sup>)  \n",
    "$n$ : 集熱器群の数(-)  \n",
    "$V_{col,j,d,t}$ : 日付$d$の時刻$t$における空気集熱ファン稼働時に集熱器群$j$を流れる空気の体積流量(m<sup>3</sup>/h)  \n",
    "$V_{fan,P0}$ : 空気搬送ファンの送風機特性曲線において機外静圧をゼロとした時の空気搬送ファンの風量(m<sup>3</sup>/h)  "
   ]
  },
  {
   "cell_type": "code",
   "execution_count": 18,
   "metadata": {},
   "outputs": [],
   "source": [
    "def get_V_col():\n",
    "    return V_fan_P0 * A / sum(A[j] for j in range(0,n_col,1)) "
   ]
  },
  {
   "cell_type": "markdown",
   "metadata": {},
   "source": [
    "集熱器群$j$を構成する集熱器の集熱器総合熱損失係数$U_{c,j}$"
   ]
  },
  {
   "cell_type": "markdown",
   "metadata": {},
   "source": [
    "$$ \n",
    "\\begin{equation*}\n",
    "   U_{c,j} = -c_{P_{air}} \\times \\dot{m}_{fan,test,j} \\times 10^{3} \\times ln \\left( 1 - \\frac{1}{c_{P_{air}} \\times \\dot{m}_{fan,test,j} \\times 10^{3}} \\times d_{1,j}  \\right)\n",
    "\\end{equation*}\n",
    "$$"
   ]
  },
  {
   "cell_type": "markdown",
   "metadata": {},
   "source": [
    "$c_{P_{air}}$ : 空気の比熱(kJ/(kg$\\cdot$K))  \n",
    "$d_{1,j}$ : 集熱器群$j$を構成する集熱器の集熱効率特性線図一次近似式の傾き(W/(m<sup>2</sup>$\\cdot$K))  \n",
    "$\\dot{m}_{fan,test,j}$ : 集熱器群$j$を構成する集熱器の集熱性能試験時における単位面積当たりの空気の質量流量(kg/(s$\\cdot$m<sup>2</sup>))  \n",
    "$U_{c,j}$ : 集熱器群$j$を構成する集熱器の集熱器総合熱損失係数(W/(m<sup>2</sup>$\\cdot$K))  "
   ]
  }
 ],
 "metadata": {
  "kernelspec": {
   "display_name": "Python 3",
   "language": "python",
   "name": "python3"
  },
  "language_info": {
   "codemirror_mode": {
    "name": "ipython",
    "version": 3
   },
   "file_extension": ".py",
   "mimetype": "text/x-python",
   "name": "python",
   "nbconvert_exporter": "python",
   "pygments_lexer": "ipython3",
   "version": "3.6.4"
  }
 },
 "nbformat": 4,
 "nbformat_minor": 2
}
