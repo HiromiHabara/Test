{
 "cells": [
  {
   "cell_type": "code",
   "execution_count": 1,
   "metadata": {
    "collapsed": true
   },
   "outputs": [],
   "source": [
    "import numpy as np  \n",
    "import math\n",
    "from enum import Enum\n",
    "from collections import namedtuple\n",
    "\n",
    "# matplotlib\n",
    "# ライブラリーのインポート\n",
    "import matplotlib.pyplot as plt\n",
    "# インライン表示\n",
    "%matplotlib inline\n",
    "# 日本語フォント\n",
    "import pylab\n",
    "from matplotlib.font_manager import FontProperties"
   ]
  },
  {
   "cell_type": "markdown",
   "metadata": {},
   "source": [
    "# 家電"
   ]
  },
  {
   "cell_type": "markdown",
   "metadata": {},
   "source": [
    "## 4.　テレビ"
   ]
  },
  {
   "cell_type": "markdown",
   "metadata": {},
   "source": [
    "### 4.1　定義 "
   ]
  },
  {
   "cell_type": "markdown",
   "metadata": {},
   "source": [
    "#### 4.1.1　機器の電源接続状態および動作状態"
   ]
  },
  {
   "cell_type": "markdown",
   "metadata": {},
   "source": [
    "テレビの電源接続状態および動作状態は、以下を想定する。"
   ]
  },
  {
   "cell_type": "markdown",
   "metadata": {},
   "source": [
    "* 電源接続状態：\n",
    "    * 常時時、AC電源に接続される。  \n",
    "* 動作状態：\n",
    "    * 使用時には稼働状態のみが発生する。\n",
    "    * 非使用時には待機状態となる。  "
   ]
  },
  {
   "cell_type": "markdown",
   "metadata": {},
   "source": [
    "#### 4.1.2　機器の機能等"
   ]
  },
  {
   "cell_type": "markdown",
   "metadata": {},
   "source": [
    "テレビが有する機能は、以下を想定する。  "
   ]
  },
  {
   "cell_type": "markdown",
   "metadata": {},
   "source": [
    "* 機能：\n",
    "    * テレビ：主機能である。稼働時に作動する。"
   ]
  },
  {
   "cell_type": "markdown",
   "metadata": {},
   "source": [
    "想定する状態および機能に対応する添え字は以下のとおりである。なお、単機能であるため、機能に対応する添え字は省略する。  "
   ]
  },
  {
   "cell_type": "markdown",
   "metadata": {},
   "source": [
    "| 電源接続状態 | 動作状態 |　機能　 |  添え字 |  \n",
    "|:-----------: |:-------: |:------: |:------: |    \n",
    "|  AC電源接続  |稼働      |テレビ   |ac,opg   |  \n",
    "|  AC電源接続  |待機      |-　　　　|ac,sby   |     "
   ]
  },
  {
   "cell_type": "code",
   "execution_count": 2,
   "metadata": {
    "collapsed": true
   },
   "outputs": [],
   "source": [
    "class PowerSource(Enum):\n",
    "    ac = 'ac' # AC電源接続"
   ]
  },
  {
   "cell_type": "code",
   "execution_count": 3,
   "metadata": {
    "collapsed": true
   },
   "outputs": [],
   "source": [
    "class AppStatus(Enum):\n",
    "    opg = 'opg' # 稼働時\n",
    "    sby = 'sby' # 待機時"
   ]
  },
  {
   "cell_type": "markdown",
   "metadata": {},
   "source": [
    "### 4.2　消費電力量"
   ]
  },
  {
   "cell_type": "markdown",
   "metadata": {},
   "source": [
    "日付$d$の時刻$t$におけるテレビのAC電源接続時の消費電力量$E_{E,Television,ac,d,t}$は、式(1)により表される。"
   ]
  },
  {
   "cell_type": "markdown",
   "metadata": {},
   "source": [
    "<p style=\"text-indent:2em\">AC電源接続時：</p>  \n",
    "$$ \n",
    "\\begin{equation*}\n",
    "    E_{E,Television,ac,d,t} = E_{E,ac,opg,d,t} + E_{E,ac,sby,d,t}\n",
    "\\end{equation*}\n",
    "$$\n",
    "\n",
    "\n",
    "<div style=\"text-align: right;\"> (1) </div>"
   ]
  },
  {
   "cell_type": "markdown",
   "metadata": {},
   "source": [
    "ここで、  \n",
    "\n",
    "$E_{E,Television,ac,d,t}$：日付$d$の時刻$t$におけるAC電源接続時の単位時間当たりの消費電力量[Wh]  \n",
    "$E_{E,ac,opg,d,t}$：日付$d$の時刻$t$におけるAC電源接続下での稼働時の単位時間当たりの消費電力量[Wh]  \n",
    "$E_{E,ac,sby,d,t}$：日付$d$の時刻$t$におけるAC電源接続下での待機時の単位時間当たりの消費電力量[Wh]  \n",
    "\n",
    "である。"
   ]
  },
  {
   "cell_type": "code",
   "execution_count": 4,
   "metadata": {
    "collapsed": true
   },
   "outputs": [],
   "source": [
    "def EE_ac (ee_ac):\n",
    "    \"\"\"AC電源接続時の消費電力量[Wh]を計算する\"\"\" \n",
    "    # ee_ac：AC電源接続下での消費電力量[Wh](リスト型)\n",
    "    \n",
    "    return sum(ee_ac)"
   ]
  },
  {
   "cell_type": "markdown",
   "metadata": {},
   "source": [
    "### 4.3　稼働時および待機時の消費電力量"
   ]
  },
  {
   "cell_type": "markdown",
   "metadata": {},
   "source": [
    "日付$d$の時刻$t$におけるAC電源接続下での稼働時および待機時の消費電力量は、式(2)および式(3)により計算される。"
   ]
  },
  {
   "cell_type": "markdown",
   "metadata": {},
   "source": [
    "<p style=\"text-indent:2em\">AC電源接続下での稼働時の消費電力量：</p>  \n",
    "$$ \n",
    "\\begin{equation*}\n",
    "    E_{E,ac,opg,d,t} = P_{opg,d,t} \\times dt_{ac,opg,d,t}  \\div 3600\n",
    "\\end{equation*}\n",
    "$$\n",
    "\n",
    "<div style=\"text-align: right;\"> (2) </div>\n",
    "\n",
    "<p style=\"text-indent:2em\">AC電源接続下での待機時の消費電力量：</p>  \n",
    "$$ \n",
    "\\begin{equation*}\n",
    "    E_{E,ac,sby,d,t} = P_{sby,d,t} \\times dt_{ac,sby,d,t}  \\div 3600\n",
    "\\end{equation*}\n",
    "$$\n",
    "\n",
    "<div style=\"text-align: right;\"> (3) </div>"
   ]
  },
  {
   "cell_type": "markdown",
   "metadata": {},
   "source": [
    "ただし、式(4)を満たす。  "
   ]
  },
  {
   "cell_type": "markdown",
   "metadata": {},
   "source": [
    "$$ \n",
    "\\begin{equation*}\n",
    "    dt_{ac,opg,d,t} +dt_{ac,sby,d,t} = dt_{calc}\n",
    "\\end{equation*}\n",
    "$$\n",
    "<div style=\"text-align: right;\"> (4) </div>"
   ]
  },
  {
   "cell_type": "markdown",
   "metadata": {},
   "source": [
    "ここで、  \n",
    "\n",
    "$dt_{calc}$：単位時間[s]   \n",
    "$dt_{ac,opg,d,t}$：日付$d$の時刻$t$におけるAC電源接続下での稼働時間の合計[s]  \n",
    "$dt_{ac,sby,d,t}$：日付$d$の時刻$t$におけるAC電源接続下での待機時間の合計[s]   \n",
    "$E_{E,ac,opg,d,t}$：日付$d$の時刻$t$におけるAC電源接続下での稼働時の単位時間当たりの消費電力量[Wh]   \n",
    "$E_{E,ac,sby,d,t}$：日付$d$の時刻$t$におけるAC電源接続下での待機時の単位時間当たりの消費電力量[Wh]   \n",
    "$P_{opg,st,d,t}$：日付$d$の時刻$t$における稼働時の消費電力[W]  \n",
    "$P_{sby,st,d,t}$：日付$d$の時刻$t$における待機時の消費電力[W]  \n",
    "\n",
    "である。"
   ]
  },
  {
   "cell_type": "code",
   "execution_count": 5,
   "metadata": {
    "collapsed": true
   },
   "outputs": [],
   "source": [
    "def EE_ac_opg (dt_ac_opg, P_ac_opg):\n",
    "    '''AC電源接続下での稼働時の消費電力量[Wh]を計算する'''\n",
    "    # dt_ac_opg：稼働時間の合計[s](リスト型)\n",
    "    # P_ac_opg：稼働時の消費電力[W](リスト型)\n",
    "    \n",
    "    p = np.array(dt_ac_opg)\n",
    "    dt = np.array(P_ac_opg)\n",
    "    \n",
    "    return sum(p * dt) / 3600"
   ]
  },
  {
   "cell_type": "code",
   "execution_count": 6,
   "metadata": {
    "collapsed": true
   },
   "outputs": [],
   "source": [
    "def EE_ac_sby (dt_ac_sby, P_ac_sby):\n",
    "    '''AC電源接続下での待機時の消費電力量[Wh]を計算する'''\n",
    "    # dt_ac_sby：待機時間の合計[s](リスト型)\n",
    "    # P_ac_sby：待機時の消費電力[W](リスト型)\n",
    "    \n",
    "    p = np.array(dt_ac_sby)\n",
    "    dt = np.array(P_ac_sby)\n",
    "    \n",
    "    return sum(p * dt) / 3600"
   ]
  },
  {
   "cell_type": "code",
   "execution_count": 28,
   "metadata": {
    "collapsed": true
   },
   "outputs": [],
   "source": [
    "def check_duration (dt):\n",
    "    '''合計が単位時間を超過しないか否かを確認する'''\n",
    "    # dt：稼働スケジュール(リスト型)\n",
    "\n",
    "    # dt_calc：単位時間[s]\n",
    "    dt_calc = 3600.\n",
    "    \n",
    "    # 継続時間を積算する\n",
    "    dt_sum = 0\n",
    "    for istatus in range(0, len(dt)):\n",
    "        dt_sum = dt_sum + dt[istatus]\n",
    "    \n",
    "    # エラーチェック\n",
    "    if dt_calc < dt_sum:\n",
    "        # 単位時間を超える場合 => エラー\n",
    "        try:\n",
    "            raise ValueError('Error: dt_calc < sum(dt)')\n",
    "        except ValueError as e:\n",
    "            print(e)\n",
    "    else:\n",
    "        pass"
   ]
  },
  {
   "cell_type": "markdown",
   "metadata": {},
   "source": [
    "### 4.4　稼働時および待機時の消費電力"
   ]
  },
  {
   "cell_type": "markdown",
   "metadata": {},
   "source": [
    "日付$d$の時刻$t$における稼働時および待機時の消費電力は、式(5)および式(6)により計算される。"
   ]
  },
  {
   "cell_type": "markdown",
   "metadata": {},
   "source": [
    "<p style=\"text-indent:2em\">稼働時の消費電力：</p>  \n",
    "$$ \n",
    "\\begin{equation*}\n",
    "    P_{opg,d,t} = 0.8579 \\times P_{rtd,opg} \n",
    "\\end{equation*}\n",
    "$$\n",
    "\n",
    "<div style=\"text-align: right;\"> (5) </div>\n",
    "\n",
    "<p style=\"text-indent:2em\">待機時の消費電力：</p>  \n",
    "$$ \n",
    "\\begin{equation*}\n",
    "    P_{sby,d,t} = P_{rtd,sby} \n",
    "\\end{equation*}\n",
    "$$\n",
    "\n",
    "<div style=\"text-align: right;\"> (6) </div>"
   ]
  },
  {
   "cell_type": "markdown",
   "metadata": {},
   "source": [
    "ここで、   \n",
    "\n",
    "$P_{opg}$：稼働時の消費電力[W]  \n",
    "$P_{rtd,opg}$：定格消費電力[W]  \n",
    "$P_{rtd,sby}$：待機時消費電力[W]  \n",
    "$P_{sby}$：待機時の消費電力[W]  \n",
    "\n",
    "である。"
   ]
  },
  {
   "cell_type": "code",
   "execution_count": 8,
   "metadata": {
    "collapsed": true
   },
   "outputs": [],
   "source": [
    "def P_opg (Prtd_opg):\n",
    "    \"\"\"稼働時の消費電力[W]を計算する\"\"\" \n",
    "    # Prtd_opg：定格消費電力[W]\n",
    "    \n",
    "    return 0.8579 * Prtd_opg"
   ]
  },
  {
   "cell_type": "code",
   "execution_count": 9,
   "metadata": {
    "collapsed": true
   },
   "outputs": [],
   "source": [
    "def P_sby (Prtd_sby):\n",
    "    \"\"\"待機時の消費電力[W]を計算する\"\"\" \n",
    "    # Prtd_sby：待機時消費電力[W]\n",
    "    \n",
    "    return 0.8579 * Prtd_opg"
   ]
  },
  {
   "cell_type": "markdown",
   "metadata": {},
   "source": [
    "### 4.5　標準条件"
   ]
  },
  {
   "cell_type": "markdown",
   "metadata": {},
   "source": [
    "#### 4.5.1　機器仕様"
   ]
  },
  {
   "cell_type": "markdown",
   "metadata": {},
   "source": [
    "4人世帯の標準的な機器仕様として、下表の設定を用いることができる。"
   ]
  },
  {
   "cell_type": "markdown",
   "metadata": {},
   "source": [
    "| 番号 | 定格消費電力[W] | 待機時消費電力[W] | 画面タイプ | 画面サイズ | 一般型/省エネ型の別 | 製造年度 | 備考                         |  \n",
    "|:----:| :-------------: | :---------------: | :--------: | :--------: | :-----------------: | :------: | :--------------------------: |  \n",
    "|  00  | 125             | 0.15              | 液晶       | 37V        | 一般型              | 2011年度 | 4人標準世帯（居間）の既定値  |  \n",
    "|  01  |  72             | 不明                 | 液晶       | 37V        | 省エネ型            | 2011年度 | -                            |  \n",
    "|  02  | 172             | 0.15              | 液晶       | 60V        | 省エネ型            | 2011年度 | -                            |    \n",
    "|  03  | 133             | 0.1               | 液晶       | 46V        | 省エネ型            | 2011年度 | -                            |    \n",
    "|  04  | 193             | 0.1               | 液晶       | 37V        | 省エネ型            | 2011年度 | -                            |    \n",
    "|  05  |  53             | 0.1               | 液晶       | 32V        | 省エネ型            | 2011年度 | -                            |    \n",
    "|  06  |  63             | 0.367             | 液晶       | 26V        | 一般型              | 2011年度 | 4人標準世帯（洋室1）の既定値 |    "
   ]
  },
  {
   "cell_type": "code",
   "execution_count": 11,
   "metadata": {
    "collapsed": true
   },
   "outputs": [],
   "source": [
    "Spec  = {\n",
    "    'TV00' : {\n",
    "        'Prtd_opg' : 125,\n",
    "        'Prtd_sby' : 0.15\n",
    "    }, \n",
    "    'TV01' : {\n",
    "        'Prtd_opg' : 72,\n",
    "        'Prtd_sby' : 0\n",
    "    },\n",
    "    'TV02' : {\n",
    "        'Prtd_opg' : 172,\n",
    "        'Prtd_sby' : 0.15\n",
    "    },\n",
    "    'TV03' : {\n",
    "        'Prtd_opg' : 133,\n",
    "        'Prtd_sby' : 0.1\n",
    "    },\n",
    "    'TV04' : {\n",
    "        'Prtd_opg' : 193,\n",
    "        'Prtd_sby' : 0.1\n",
    "    },\n",
    "    'TV05' : {\n",
    "        'Prtd_opg' : 63,\n",
    "        'Prtd_sby' : 0.1\n",
    "    },\n",
    "    'TV06' : {\n",
    "        'Prtd_opg' : 53,\n",
    "        'Prtd_sby' : 0.367\n",
    "    }\n",
    "}"
   ]
  },
  {
   "cell_type": "markdown",
   "metadata": {},
   "source": [
    "#### 4.5.2　機器使用スケジュール"
   ]
  },
  {
   "cell_type": "markdown",
   "metadata": {},
   "source": [
    "4人世帯の標準的なスケジュールとして、下表の設定を用いることができる。"
   ]
  },
  {
   "cell_type": "markdown",
   "metadata": {},
   "source": [
    "| 番号 | スケジュール名称    | 備考 |\n",
    "|:---: | :-----------------: | :--: |\n",
    "|  00  | 4人標準世帯（居間） | -    |\n",
    "|  01  | 4人標準世帯（洋室1）| -    |"
   ]
  },
  {
   "cell_type": "markdown",
   "metadata": {},
   "source": [
    "<p style=\"text-indent:2em\">居間：</p>  "
   ]
  },
  {
   "cell_type": "markdown",
   "metadata": {},
   "source": [
    "<p style=\"text-indent:4em\">平日：</p>  \n",
    "\n",
    "|時刻                  |0  |1  |2  |3  |4  |5  |6  |7  |8  |9  |10 |11 |12 |13 |14 |15 |16 |17 |18 |19 |20 |21 |22 |23 |  \n",
    "|:---:                 | -:| -:| -:| -:| -:| -:| -:| -:| -:| -:| -:| -:| -:| -:| -:| -:| -:| -:| -:| -:| -:| -:| -:| -:|  \n",
    "|AC稼働時間[\\* 60 s]   |  0|  0|  0|  0|  0|  0|  0| 60| 60| 60|  0|  0| 60|  0|  0|  0|  0| 60| 60| 60| 60| 60| 30|  0|  \n",
    "|AC待機時間[\\* 60 s]   | 60| 60| 60| 60| 60| 60| 60|  0|  0|  0| 60| 60|  0| 60| 60| 60| 60|  0|  0|  0|  0|  0| 30| 60| "
   ]
  },
  {
   "cell_type": "markdown",
   "metadata": {},
   "source": [
    "<p style=\"text-indent:4em\">休日在宅：</p>  \n",
    "\n",
    "|時刻                  |0  |1  |2  |3  |4  |5  |6  |7  |8  |9  |10 |11 |12 |13 |14 |15 |16 |17 |18 |19 |20 |21 |22 |23 |  \n",
    "|:---:                 | -:| -:| -:| -:| -:| -:| -:| -:| -:| -:| -:| -:| -:| -:| -:| -:| -:| -:| -:| -:| -:| -:| -:| -:|  \n",
    "|AC稼働時間[\\* 60 s]   |  0|  0|  0|  0|  0|  0|  0|  0| 60| 60| 60| 60|  0|  0|  0|  0| 45|  0| 60|  0|  0|  0|  0| 60|  \n",
    "|AC待機時間[\\* 60 s]   | 60| 60| 60| 60| 60| 60| 60| 60|  0|  0|  0|  0| 60| 60| 60| 60| 15| 60|  0| 60| 60| 60| 60|  0| "
   ]
  },
  {
   "cell_type": "markdown",
   "metadata": {},
   "source": [
    "<p style=\"text-indent:4em\">休日外出：</p>  \n",
    "\n",
    "|時刻                  |0  |1  |2  |3  |4  |5  |6  |7  |8  |9  |10 |11 |12 |13 |14 |15 |16 |17 |18 |19 |20 |21 |22 |23 |  \n",
    "|:---:                 | -:| -:| -:| -:| -:| -:| -:| -:| -:| -:| -:| -:| -:| -:| -:| -:| -:| -:| -:| -:| -:| -:| -:| -:|  \n",
    "|AC稼働時間[\\* 60 s]   |  0|  0|  0|  0|  0|  0|  0| 60| 60|  0|  0|  0|  0|  0|  0|  0|  0|  0|  0|  0| 60| 60|  0|  0|  \n",
    "|AC待機時間[\\* 60 s]   | 60| 60| 60| 60| 60| 60| 60|  0|  0| 60| 60| 60| 60| 60| 60| 60| 60| 60| 60| 60|  0|  0| 60| 60| "
   ]
  },
  {
   "cell_type": "markdown",
   "metadata": {},
   "source": [
    "<p style=\"text-indent:2em\">洋室1：</p>  "
   ]
  },
  {
   "cell_type": "markdown",
   "metadata": {},
   "source": [
    "<p style=\"text-indent:4em\">平日：</p>  \n",
    "\n",
    "|時刻                  |0  |1  |2  |3  |4  |5  |6  |7  |8  |9  |10 |11 |12 |13 |14 |15 |16 |17 |18 |19 |20 |21 |22 |23 |  \n",
    "|:---:                 | -:| -:| -:| -:| -:| -:| -:| -:| -:| -:| -:| -:| -:| -:| -:| -:| -:| -:| -:| -:| -:| -:| -:| -:|  \n",
    "|AC稼働時間[\\* 60 s]   |  0|  0|  0|  0|  0|  0|  0|  0|  0|  0|  0|  0|  0|  0|  0|  0|  0|  0| 60|  0|  0|  0|  0|  0|  \n",
    "|AC待機時間[\\* 60 s]   | 60| 60| 60| 60| 60| 60| 60| 60| 60| 60| 60| 60| 60| 60| 60| 60| 60| 60|  0| 60| 60| 60| 60| 60| "
   ]
  },
  {
   "cell_type": "markdown",
   "metadata": {},
   "source": [
    "<p style=\"text-indent:4em\">休日在宅：</p>  \n",
    "\n",
    "|時刻                  |0  |1  |2  |3  |4  |5  |6  |7  |8  |9  |10 |11 |12 |13 |14 |15 |16 |17 |18 |19 |20 |21 |22 |23 |  \n",
    "|:---:                 | -:| -:| -:| -:| -:| -:| -:| -:| -:| -:| -:| -:| -:| -:| -:| -:| -:| -:| -:| -:| -:| -:| -:| -:|  \n",
    "|AC稼働時間[\\* 60 s]   |  0|  0|  0|  0|  0|  0|  0|  0|  0|  0|  0|  0|  0|  0|  0|  0| 60| 60| 60|  0|  0|  0|  0|  0|  \n",
    "|AC待機時間[\\* 60 s]   | 60| 60| 60| 60| 60| 60| 60| 60| 60| 60| 60| 60| 60| 60| 60| 60|  0|  0|  0| 60| 60| 60| 60| 60| "
   ]
  },
  {
   "cell_type": "markdown",
   "metadata": {},
   "source": [
    "<p style=\"text-indent:4em\">休日外出：</p>  \n",
    "\n",
    "|時刻                  |0  |1  |2  |3  |4  |5  |6  |7  |8  |9  |10 |11 |12 |13 |14 |15 |16 |17 |18 |19 |20 |21 |22 |23 |  \n",
    "|:---:                 | -:| -:| -:| -:| -:| -:| -:| -:| -:| -:| -:| -:| -:| -:| -:| -:| -:| -:| -:| -:| -:| -:| -:| -:|  \n",
    "|AC稼働時間[\\* 60 s]   |  0|  0|  0|  0|  0|  0|  0|  0|  0|  0|  0|  0|  0|  0|  0|  0|  0|  0|  0|  0| 60| 45|  0|  0|  \n",
    "|AC待機時間[\\* 60 s]   | 60| 60| 60| 60| 60| 60| 60| 60| 60| 60| 60| 60| 60| 60| 60| 60| 60| 60| 60| 60|  0| 15| 60| 60| "
   ]
  },
  {
   "cell_type": "code",
   "execution_count": 13,
   "metadata": {
    "collapsed": true
   },
   "outputs": [],
   "source": [
    "class TimeUseType(Enum):\n",
    "    weekdays = 'Weekdays'       # 平日\n",
    "    holidays_st = 'Holidays_st' # 休日在宅\n",
    "    holidays_go = 'Holidays_go' # 休日外出"
   ]
  },
  {
   "cell_type": "code",
   "execution_count": 14,
   "metadata": {
    "collapsed": true
   },
   "outputs": [],
   "source": [
    "class RoomType(Enum):\n",
    "    LivingRoom = 'LivingRoom' # 居間\n",
    "    ChildRoom1 = 'ChildRoom1' # 洋室1"
   ]
  },
  {
   "cell_type": "code",
   "execution_count": 39,
   "metadata": {
    "collapsed": true
   },
   "outputs": [],
   "source": [
    "Schedule= {\n",
    "    'LivingRoom' : {\n",
    "        'Weekdays' : {\n",
    "            'opg' : [0]   *7 + [3600]*3 + [0]   *2 + [3600]*1 + [0]   *4 + [3600]*5 + [1800]*1 + [0]   *1,\n",
    "            'sby' : [3600]*7 + [0]   *3 + [3600]*2 + [0]   *1 + [3600]*4 + [0]   *5 + [1800]*1 + [3600]*1\n",
    "        },\n",
    "        'Holidays_st' : {\n",
    "            'opg' : [0]   *8 + [3600]*5 + [0]   *3 + [2700]*1 + [3600]*6 + [0]   *1,\n",
    "            'sby' : [3600]*8 + [0]   *5 + [3600]*3 + [900] *1 + [0]   *6 + [3600]*1\n",
    "        },\n",
    "        'Holidays_go' : {\n",
    "            'opg' : [0]   *7 + [3600]*2 + [0]   *11 + [3600]*2 + [0]   *2,\n",
    "            'sby' : [3600]*7 + [0]   *2 + [3600]*11 + [0]   *2 + [3600]*2\n",
    "        }\n",
    "    },\n",
    "     'ChildRoom1' : {\n",
    "        'Weekdays' : {\n",
    "            'opg' :  [0]   *18 + [3600]*1 + [0]   *5,\n",
    "            'sby' :  [3600]*18 + [0]   *1 + [3600]*5\n",
    "        },\n",
    "        'Holidays_st' : {\n",
    "            'opg' : [0]   *16 + [3600]*3 + [0]   *5,\n",
    "            'sby' : [3600]*16 + [0]   *3 + [3600]*5\n",
    "        },\n",
    "        'Holidays_go' : {\n",
    "            'opg' : [0]   *20 + [3600]*1 + [2700]*1 + [0]   *2,\n",
    "            'sby' : [3600]*20 + [0]   *1 + [900] *1 + [3600]*2\n",
    "        }\n",
    "    }\n",
    "}"
   ]
  },
  {
   "cell_type": "code",
   "execution_count": 16,
   "metadata": {
    "collapsed": true,
    "scrolled": true
   },
   "outputs": [],
   "source": [
    "def plot_hourly_bar_chart(fig_title, y_value_set, y_value_set_name_p, y_value_set_name_s, category_label, \n",
    "                          y_label, y_lower, y_upper, y_interval, y_convert_unit):\n",
    "    '''横軸が時刻（1時間間隔、0～23時間）の棒グラフを作成する'''\n",
    "    # fig_title：図のタイトル\n",
    "    # y_value_set：y軸の値\n",
    "    # y_value_set_name_p：y軸の値のデータセット名（主）\n",
    "    # y_value_set_name_s：y軸の値のデータセット名（副）\n",
    "    # category_label：カテゴリーのラベル\n",
    "    # y_label：y軸のラベル\n",
    "    # y_lower：y軸の表示の下限\n",
    "    # y_ upper：y軸の表示の上限\n",
    "    # y_ interval：y軸の目盛間隔\n",
    "    # y_convert_unit：y軸の単位換算係数\n",
    "\n",
    "    # 日本語フォント\n",
    "    fp = FontProperties(fname='C:\\WINDOWS\\Fonts\\msgothic.ttc', size = 12)\n",
    "    \n",
    "    # 既存スタイルの使用\n",
    "    plt.style.use('seaborn-whitegrid')\n",
    "\n",
    "    # サブプロットの作成\n",
    "    plt.figure(figsize=(4*len(y_value_set_name_s), 3*len(y_value_set_name_p)), dpi=80)\n",
    "    \n",
    "    # サブプロットのタイトル\n",
    "    plt.suptitle(fig_title, fontdict={'fontproperties':fp}, fontsize=14)\n",
    "\n",
    "    for iploth in range(0, len(y_value_set_name_p)):\n",
    "        for iplotw in range(0, len(y_value_set_name_s)):\n",
    "            # サブプロットの指定\n",
    "            ax = plt.subplot2grid((len(y_value_set_name_p), len(y_value_set_name_s)), (iploth, iplotw))\n",
    "            \n",
    "            # 棒グラフの作成\n",
    "            for istatus in range(0, len(category_label)):\n",
    "                # y軸の値のデータセット名（主）\n",
    "                _y_value_set_name_p = list(y_value_set_name_p)[iploth]\n",
    "                # y軸の値のデータセット名（副）\n",
    "                _y_value_set_name_s = list(y_value_set_name_s)[iplotw]\n",
    "                # カテゴリーのラベル\n",
    "                _category_label = list(category_label)[istatus]\n",
    "                \n",
    "                # x軸の値\n",
    "                x_value = np.array([k for k in range(24)])\n",
    "                # y軸の値（項目ごと）\n",
    "                y_value = np.array(y_value_set[_y_value_set_name_p][_y_value_set_name_s][_category_label])* y_convert_unit\n",
    "                \n",
    "                if len(y_value) > 0:\n",
    "                    if istatus == 0:\n",
    "                        ax.bar(x_value, y_value, align='edge', width=1.0, edgecolor='black', label=category_label[_category_label])\n",
    "                        y_bottom = y_value\n",
    "                    else:\n",
    "                        ax.bar(x_value, y_value, align='edge', width=1.0, edgecolor='black', label=category_label[_category_label], bottom=y_bottom)\n",
    "                \n",
    "            # グラフのタイトル\n",
    "            ax.set_title(y_value_set_name_p[_y_value_set_name_p] +'(' + y_value_set_name_s[_y_value_set_name_s] + ')' , fontdict={'fontproperties':fp})\n",
    "\n",
    "            # x軸\n",
    "            # タイトル\n",
    "            ax.set_xlabel(u'時刻', fontdict={'fontproperties':fp})\n",
    "            # 目盛りの位置／ラベル／形式\n",
    "            # 主目盛\n",
    "            ax.set_xticks(np.arange(0, 25, 3), minor=False)\n",
    "            ax.set_xticklabels(np.array([k*3 for k in range(8)]+[0]).astype('str'), minor=False, visible=True)\n",
    "            ax.tick_params(axis='x', which ='major', direction='in', length=3)\n",
    "            # 補助目盛\n",
    "            ax.set_xticks(np.arange(0, 25, 1), minor=True)\n",
    "            ax.set_xticklabels(np.array([k for k in range(24)]+[0]).astype('str'), minor=True, visible=False)\n",
    "            ax.tick_params(axis='x', which ='minor', direction='in', length=3)\n",
    "            # 表示の上限・下限\n",
    "            ax.set_xbound(lower=0, upper=24)\n",
    "\n",
    "            # y軸\n",
    "            #タイトル\n",
    "            ax.set_ylabel(y_label, fontdict={'fontproperties':fp}) \n",
    "            # 目盛りの位置／形式\n",
    "            ax.set_yticks(np.arange(y_lower, y_upper+y_interval, y_interval))\n",
    "            ax.tick_params(axis='y', which ='major', direction='in', length=3)\n",
    "            # 表示の上限・下限\n",
    "            ax.set_ybound(lower=y_lower, upper=y_upper)\n",
    "\n",
    "            # グラフの枠\n",
    "            ax.spines['right'].set_color('black')\n",
    "            ax.spines['left'].set_color('black')\n",
    "            ax.spines['bottom'].set_color('black')\n",
    "            ax.spines['top'].set_color('black')\n",
    "\n",
    "            # 主目盛りのグリッド\n",
    "            ax.grid(which='major', color='lightgray', alpha=0.7, linestyle='-')\n",
    "\n",
    "        # 凡例\n",
    "        plt.legend(loc='center left', bbox_to_anchor=(1, 0.5), borderaxespad=0.5, frameon=True,  prop=fp)\n",
    "    \n",
    "\n",
    "    # グラフの重なりを解消\n",
    "    plt.tight_layout()\n",
    "    plt.subplots_adjust(top=0.90)\n",
    "            \n",
    "    plt.show()"
   ]
  },
  {
   "cell_type": "code",
   "execution_count": 17,
   "metadata": {
    "scrolled": true
   },
   "outputs": [
    {
     "data": {
      "image/png": "[encoded data removed]",
      "text/plain": [
       "<matplotlib.figure.Figure at 0x1fe083fd780>"
      ]
     },
     "metadata": {},
     "output_type": "display_data"
    }
   ],
   "source": [
    "# 機器使用スケジュールの確認\n",
    "plot_hourly_bar_chart('使用スケジュール', \n",
    "                      Schedule, \n",
    "                      {'LivingRoom':'4人標準_居間', 'ChildRoom1':'4人標準_洋室1'}, \n",
    "                      {'Weekdays':'平日', 'Holidays_st':'休日在宅', 'Holidays_go':'休日外出'}, \n",
    "                      {'opg':'AC稼働', 'sby':'AC待機'}, \n",
    "                      '時間[min/hour]', 0, 60, 10, 1/60)"
   ]
  },
  {
   "cell_type": "markdown",
   "metadata": {},
   "source": [
    "### 付録1：サンプルコード"
   ]
  },
  {
   "cell_type": "markdown",
   "metadata": {},
   "source": [
    "4人標準世帯の標準条件について、サンプルコードを示す。"
   ]
  },
  {
   "cell_type": "code",
   "execution_count": 18,
   "metadata": {
    "collapsed": true
   },
   "outputs": [],
   "source": [
    "def get_spec(Spec, app_name):\n",
    "    '''機器仕様を取得する'''\n",
    "    # Spec：\n",
    "    # app_name：機器の名前\n",
    "    \n",
    "    # 機器仕様の取得\n",
    "    try:\n",
    "        spec = Spec[app_name]\n",
    "    except:\n",
    "        raise\n",
    "    \n",
    "    return spec"
   ]
  },
  {
   "cell_type": "code",
   "execution_count": 30,
   "metadata": {
    "collapsed": true
   },
   "outputs": [],
   "source": [
    "def get_dt(room_type, time_use_type, time_of_day):\n",
    "    '''機器使用スケジュールを取得する'''\n",
    "    # room_type：室タイプ['LivingRoom', 'ChildRoom1' ]\n",
    "    # time_use_type：生活時間タイプ[Weekdays'、'Holidays_st'、'Holidays_go']\n",
    "    # time_of_day：時刻[0～23]\n",
    "     \n",
    "    # スケジュールの取得\n",
    "    try:\n",
    "        schedule = Schedule[room_type][time_use_type]\n",
    "    except:\n",
    "        raise\n",
    "\n",
    "   # 時間超過の確認\n",
    "    dt = []\n",
    "    for istatus in range(0,len(schedule)):\n",
    "        dt = dt + [schedule[list(schedule)[istatus]][time_of_day]]\n",
    "    \n",
    "    check_duration(dt) \n",
    "    \n",
    "    return dt"
   ]
  },
  {
   "cell_type": "code",
   "execution_count": null,
   "metadata": {
    "collapsed": true
   },
   "outputs": [],
   "source": [
    "def calc_EE_ac_opg(dt, app, seat_heater_switch, theta_toilet_ave):\n",
    "    '''AC電源接続下の稼働時における消費電力量[Wh]を計算する'''\n",
    "    # dt：単位時間における継続時間の合計[s](PowerSource型(AppStatus型))\n",
    "    # app：機器の仕様[-](AppSpec型)\n",
    "    # seat_heater_switch：便座ヒータの電源スイッチ[オフ、オン] \n",
    "    # theta_toilet_ave：トイレ空気温度の日平均値[C]\n",
    "    \n",
    "    # AC電源接続時の単位時間における継続時間の合計[s]\n",
    "    dt_ac_opg = dt.ac.opg\n",
    "       \n",
    "    # AC電源接続時の消費電力[W]\n",
    "    p_ac_opg = P_opg(app.Prtd_opg_st, app.Prtd_opg_wt, app.seat_heater_type, app.water_heater_type, seat_heater_switch, theta_toilet_ave)\n",
    "    \n",
    "    # AC電源接続時の消費電力量[Wh]\n",
    "    ee_ac_opg = EE_ac_opg([dt_ac_opg], [p_ac_opg])\n",
    "    \n",
    "    return ee_ac_opg"
   ]
  }
 ],
 "metadata": {
  "kernelspec": {
   "display_name": "Python 3",
   "language": "python",
   "name": "python3"
  },
  "language_info": {
   "codemirror_mode": {
    "name": "ipython",
    "version": 3
   },
   "file_extension": ".py",
   "mimetype": "text/x-python",
   "name": "python",
   "nbconvert_exporter": "python",
   "pygments_lexer": "ipython3",
   "version": "3.6.4"
  }
 },
 "nbformat": 4,
 "nbformat_minor": 2
}
