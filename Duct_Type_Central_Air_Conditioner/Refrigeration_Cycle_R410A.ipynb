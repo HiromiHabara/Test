{
 "cells": [
  {
   "cell_type": "code",
   "execution_count": 1,
   "metadata": {},
   "outputs": [],
   "source": [
    "import numpy as np\n",
    "\n",
    "# matplotlib\n",
    "# ライブラリーのインポート\n",
    "import matplotlib.pyplot as plt\n",
    "# インライン表示\n",
    "%matplotlib inline\n",
    "\n",
    "# 日本語フォント\n",
    "import pylab\n",
    "from matplotlib.font_manager import FontProperties\n",
    "# 日本語フォント\n",
    "fp = FontProperties(fname='C:\\WINDOWS\\Fonts\\msgothic.ttc', size = 12)"
   ]
  },
  {
   "cell_type": "markdown",
   "metadata": {},
   "source": [
    "## 付録D　R410Aにおける冷凍サイクルの理論効率"
   ]
  },
  {
   "cell_type": "markdown",
   "metadata": {},
   "source": [
    "### D.4　冷凍サイクルの理論効率"
   ]
  },
  {
   "cell_type": "markdown",
   "metadata": {},
   "source": [
    "<p style=\"text-indent:2em\">暖房：</p> \n",
    "$$ \n",
    "\\begin{equation*} \n",
    "    e_{ref,H,th} = \\frac{h_{ref,comp,out} - h_{ref,cnd,out}}{h_{ref,comp,out} - h_{ref,comp,{\\textit in}}}\n",
    "\\end{equation*} \n",
    "$$\n",
    "\n",
    "<div style=\"text-align: right;\"> (1-1) </div>"
   ]
  },
  {
   "cell_type": "markdown",
   "metadata": {},
   "source": [
    "<p style=\"text-indent:2em\">冷房：</p> \n",
    "$$ \n",
    "\\begin{equation*} \n",
    "    e_{ref,C,th} = \\frac{h_{ref,comp,{\\textit in}} - h_{ref,evp,{\\textit in}}}{h_{ref,comp,out} - h_{ref,comp,{\\textit in}}} = \\frac{h_{ref,comp,{\\textit in}} - h_{ref,cnd,out}}{h_{ref,comp,out} - h_{ref,comp,{\\textit in}}} \n",
    "\\end{equation*} \n",
    "$$\n",
    "\n",
    "<div style=\"text-align: right;\"> (1-2) </div>"
   ]
  },
  {
   "cell_type": "markdown",
   "metadata": {},
   "source": [
    "ここで、  \n",
    "\n",
    "$e_{ref,C,th}$：冷房の理論効率(-)  \n",
    "$e_{ref,H,th}$：暖房の理論効率(-)  \n",
    "$h_{ref,evp,{\\textit in}}$：蒸発器入口比エンタルピー(kJ/kg)  \n",
    "$h_{ref,cnd,{\\textit in}}$：凝縮器入口比エンタルピー(kJ/kg)  \n",
    "$h_{ref,cnd,out}$：凝縮器出口比エンタルピー(kJ/kg)   \n",
    "$h_{ref,comp,{\\textit in}}$：圧縮機吸込比エンタルピー(kJ/kg)  \n",
    "$h_{ref,comp,out}$：圧縮機吐出比エンタルピー(kJ/kg)   \n",
    "\n",
    "である。"
   ]
  },
  {
   "cell_type": "code",
   "execution_count": 2,
   "metadata": {},
   "outputs": [],
   "source": [
    "def e_ref_H_th(h_ref_comp_in, h_ref_comp_out, h_ref_cnd_out):\n",
    "    '''暖房の理論効率(-)を求める。'''\n",
    "    \n",
    "    return (h_ref_comp_out - h_ref_cnd_out) / (h_ref_comp_out - h_ref_comp_in) "
   ]
  },
  {
   "cell_type": "code",
   "execution_count": 3,
   "metadata": {},
   "outputs": [],
   "source": [
    "def e_ref_C_th(h_ref_comp_in, h_ref_comp_out, h_ref_cnd_out):\n",
    "    '''冷房の理論効率(-)を求める。'''\n",
    "    \n",
    "    return (h_ref_comp_in - h_ref_cnd_out) / (h_ref_comp_out - h_ref_comp_in) "
   ]
  },
  {
   "cell_type": "markdown",
   "metadata": {},
   "source": [
    "### D.5　圧縮機吐出及び吸込比エンタルピー"
   ]
  },
  {
   "cell_type": "markdown",
   "metadata": {},
   "source": [
    "<p style=\"text-indent:2em\">圧縮機吐出比エンタルピー：</p> \n",
    "$$ \n",
    "\\begin{equation*} \n",
    "    h_{ref,comp,out} = f_{H,gas,comp,out} \\left( P_{ref,comp,out}, \\: S_{ref,comp,out} \\right)\n",
    "\\end{equation*} \n",
    "$$\n",
    "\n",
    "<div style=\"text-align: right;\"> (2) </div>"
   ]
  },
  {
   "cell_type": "markdown",
   "metadata": {},
   "source": [
    "ここで、  \n",
    "\n",
    "$f_{H,gas,comp,out} $：圧縮機吐出領域における比エンタルピーを求める関数   \n",
    "$h_{ref,comp,out}$：圧縮機吐出比エンタルピー(kJ/kg)  \n",
    "$P_{ref,comp,out}$：圧縮機吐出圧力(MPa)  \n",
    "$S_{ref,comp,out}$：圧縮機吐出比エントロピー(kJ/(kg・K))  \n",
    "\n",
    "である。"
   ]
  },
  {
   "cell_type": "code",
   "execution_count": 4,
   "metadata": {},
   "outputs": [],
   "source": [
    "def h_ref_comp_out(P_ref_comp_out, S_ref_comp_out):\n",
    "    '''圧縮機吐出領域における比エンタルピー(kJ/kg)  を求める。'''\n",
    "    \n",
    "    return f_H_gas_comp_out(P_ref_comp_out, S_ref_comp_out)"
   ]
  },
  {
   "cell_type": "markdown",
   "metadata": {},
   "source": [
    "<p style=\"text-indent:2em\">圧縮機吐出圧力：</p> \n",
    "$$ \n",
    "\\begin{equation*} \n",
    "    P_{ref,comp,out} = P_{ref,cnd}\n",
    "\\end{equation*} \n",
    "$$\n",
    "\n",
    "<div style=\"text-align: right;\"> (3) </div>"
   ]
  },
  {
   "cell_type": "code",
   "execution_count": 5,
   "metadata": {},
   "outputs": [],
   "source": [
    "def P_ref_comp_out(P_ref_cnd):\n",
    "    '''圧縮機吐出圧(MPa)を求める。'''\n",
    "    \n",
    "    return P_ref_cnd"
   ]
  },
  {
   "cell_type": "markdown",
   "metadata": {},
   "source": [
    "ここで、  \n",
    "\n",
    "$P_{ref,cnd}$：凝縮圧力(MPa)  \n",
    "$P_{ref,comp,out}$：圧縮機吐出圧力(MPa)   \n",
    "\n",
    "である。"
   ]
  },
  {
   "cell_type": "markdown",
   "metadata": {},
   "source": [
    "<p style=\"text-indent:2em\">圧縮機吐出比エントロピー：</p> \n",
    "$$ \n",
    "\\begin{equation*} \n",
    "    S_{ref,comp,out} = S_{ref,comp,{\\textit in}}\n",
    "\\end{equation*} \n",
    "$$\n",
    "\n",
    "<div style=\"text-align: right;\"> (4) </div>"
   ]
  },
  {
   "cell_type": "code",
   "execution_count": 6,
   "metadata": {},
   "outputs": [],
   "source": [
    "def S_ref_comp_out(S_ref_comp_in):\n",
    "    '''圧縮機吐出比エントロピー(kJ/(kg・K))を求める。'''\n",
    "    \n",
    "    return S_ref_comp_in"
   ]
  },
  {
   "cell_type": "markdown",
   "metadata": {},
   "source": [
    "ここで、  \n",
    "\n",
    "$S_{ref,comp,{\\textit in}}$：圧縮機吸込比エントロピー(kJ/(kg・K))   \n",
    "$S_{ref,comp,out}$：圧縮機吐出比エントロピー(kJ/(kg・K))   \n",
    "\n",
    "である。"
   ]
  },
  {
   "cell_type": "markdown",
   "metadata": {},
   "source": [
    "<p style=\"text-indent:2em\">圧縮機吸込比エントロピー：</p> \n",
    "$$ \n",
    "\\begin{equation*} \n",
    "    S_{ref,comp,{\\textit in}} = f_{S,gas} \\left( P_{ref,comp,{\\textit in}} , \\: h_{ref,comp,{\\textit in}} \\right)\n",
    "\\end{equation*} \n",
    "$$\n",
    "\n",
    "<div style=\"text-align: right;\"> (5) </div>"
   ]
  },
  {
   "cell_type": "markdown",
   "metadata": {},
   "source": [
    "ここで、  \n",
    "\n",
    "$f_{S,gas} $：飽和蒸気の圧力を求める関数   \n",
    "$h_{ref,comp,{\\textit in}}$：圧縮機吸込入比エンタルピー(kJ/kg)  \n",
    "$P_{ref,comp,{\\textit in}}$：圧縮機吸込圧力(MPa)   \n",
    "$S_{ref,comp,{\\textit in}}$：圧縮機吸込比エントロピー(kJ/(kg・K))   \n",
    "\n",
    "である。"
   ]
  },
  {
   "cell_type": "code",
   "execution_count": 7,
   "metadata": {},
   "outputs": [],
   "source": [
    "def S_ref_comp_in(P_ref_comp_in, h_ref_comp_in):\n",
    "    '''圧縮機吸込比エントロピー(kJ/(kg・K))を求める。'''\n",
    "    \n",
    "    return f_S_gas(P_ref_comp_in, h_ref_comp_in)"
   ]
  },
  {
   "cell_type": "markdown",
   "metadata": {},
   "source": [
    "<p style=\"text-indent:2em\">圧縮機吸込比エンタルピー：</p> \n",
    "$$ \n",
    "\\begin{equation*} \n",
    "    h_{ref,comp,{\\textit in}} = f_{H,gas,comp,{\\textit in}} \\left( P_{ref,comp,{\\textit in}} , \\: \\theta_{ref,comp,{\\textit in}} \\right)\n",
    "\\end{equation*} \n",
    "$$\n",
    "\n",
    "<div style=\"text-align: right;\"> (6) </div>"
   ]
  },
  {
   "cell_type": "markdown",
   "metadata": {},
   "source": [
    "ここで、  \n",
    "\n",
    "$f_{H,gas,comp,{\\textit in}} $：圧縮機吸込領域における比エンタルピーを求める関数   \n",
    "$h_{ref,comp,{\\textit in}}$：圧縮機吸込比エンタルピー(kJ/kg)  \n",
    "$P_{ref,comp,{\\textit in}}$：圧縮機吸込圧力(MPa)   \n",
    "$\\theta_{ref,comp,{\\textit in}}$：圧縮機吸込温度(℃)   \n",
    "\n",
    "である。"
   ]
  },
  {
   "cell_type": "code",
   "execution_count": 8,
   "metadata": {},
   "outputs": [],
   "source": [
    "def h_ref_comp_in(P_ref_comp_in, theta_ref_comp_in):\n",
    "    '''圧縮機吸込比エンタルピー(kJ/kg)を求める。'''\n",
    "    \n",
    "    return f_H_gas_comp_in(P_ref_comp_in, theta_ref_comp_in)"
   ]
  },
  {
   "cell_type": "markdown",
   "metadata": {},
   "source": [
    "<p style=\"text-indent:2em\">圧縮機吐出圧力：</p> \n",
    "$$ \n",
    "\\begin{equation*} \n",
    "    P_{ref,comp,{\\textit in}} = P_{ref,evp}\n",
    "\\end{equation*} \n",
    "$$\n",
    "\n",
    "<div style=\"text-align: right;\"> (7) </div>"
   ]
  },
  {
   "cell_type": "markdown",
   "metadata": {},
   "source": [
    "ここで、  \n",
    "\n",
    "$P_{ref,comp,{\\textit in}}$：圧縮機吸込圧力(MPa)    \n",
    "$P_{ref,evp}$：蒸発圧力(MPa)   \n",
    "\n",
    "である。"
   ]
  },
  {
   "cell_type": "code",
   "execution_count": 9,
   "metadata": {},
   "outputs": [],
   "source": [
    "def P_ref_comp_in(P_ref_evp):\n",
    "    '''圧縮機吸込圧力(MPa)を求める。'''\n",
    "    \n",
    "    return P_ref_evp"
   ]
  },
  {
   "cell_type": "markdown",
   "metadata": {},
   "source": [
    "<p style=\"text-indent:2em\">圧縮機吸込温度：</p> \n",
    "$$ \n",
    "\\begin{equation*} \n",
    "    \\theta_{ref,comp,{\\textit in}} = \\theta_{ref,evp} + \\theta_{ref,SH} \n",
    "\\end{equation*} \n",
    "$$\n",
    "\n",
    "<div style=\"text-align: right;\"> (8) </div>"
   ]
  },
  {
   "cell_type": "markdown",
   "metadata": {},
   "source": [
    "ここで、  \n",
    "\n",
    "$\\theta_{ref,evp}$：蒸発温度(℃)   \n",
    "$\\theta_{ref,comp,{\\textit in}}$：圧縮機吸込温度(℃)   \n",
    "$\\theta_{ref,SH}$：過熱度(℃)   \n",
    "\n",
    "である。"
   ]
  },
  {
   "cell_type": "code",
   "execution_count": 10,
   "metadata": {},
   "outputs": [],
   "source": [
    "def theta_ref_comp_in(theta_ref_evp, theta_ref_SH):\n",
    "    '''圧縮機吸込温度(℃)を求める。'''\n",
    "    \n",
    "    return theta_ref_evp + theta_ref_SH"
   ]
  },
  {
   "cell_type": "markdown",
   "metadata": {},
   "source": [
    "### D.6　凝縮器出口比エンタルピー"
   ]
  },
  {
   "cell_type": "markdown",
   "metadata": {},
   "source": [
    "<p style=\"text-indent:2em\">凝縮器出口比エンタルピー：</p> \n",
    "$$ \n",
    "\\begin{equation*} \n",
    "    h_{ref,cnd,out} = f_{H,liq} \\left( P_{ref,cnd} , \\: \\theta_{ref,cnd,out} \\right)\n",
    "\\end{equation*} \n",
    "$$\n",
    "\n",
    "<div style=\"text-align: right;\"> (9) </div>"
   ]
  },
  {
   "cell_type": "markdown",
   "metadata": {},
   "source": [
    "ここで、  \n",
    "\n",
    "$f_{H,liq} $：過冷却液の比エンタルピーを求める関数   \n",
    "$h_{ref,cnd,out}$：凝縮器出口比エンタルピー(kJ/kg)  \n",
    "$P_{ref,cnd}$：凝縮圧力(MPa)   \n",
    "$\\theta_{ref,cnd,out}$：凝縮器出口温度(℃)   \n",
    "\n",
    "である。"
   ]
  },
  {
   "cell_type": "code",
   "execution_count": 11,
   "metadata": {},
   "outputs": [],
   "source": [
    "def h_ref_cnd_out(P_ref_cnd, theta_ref_cnd_out):\n",
    "    '''凝縮器出口比エンタルピー(kJ/kg)を求める。'''\n",
    "    \n",
    "    return f_H_liq(P_ref_cnd, theta_ref_cnd_out)"
   ]
  },
  {
   "cell_type": "markdown",
   "metadata": {},
   "source": [
    "<p style=\"text-indent:2em\">凝縮器出口温度：</p> \n",
    "$$ \n",
    "\\begin{equation*} \n",
    "    \\theta_{ref,cnd,out} = \\theta_{ref,cnd} - \\theta_{ref,SC} \n",
    "\\end{equation*} \n",
    "$$\n",
    "\n",
    "<div style=\"text-align: right;\"> (10) </div>"
   ]
  },
  {
   "cell_type": "markdown",
   "metadata": {},
   "source": [
    "ここで、  \n",
    "\n",
    "$\\theta_{ref,cnd}$：凝縮温度(℃)   \n",
    "$\\theta_{ref,cnd,{\\textit out}}$：凝縮器出口温度(℃)   \n",
    "$\\theta_{ref,SC}$：過冷却度(℃)   \n",
    "\n",
    "である。"
   ]
  },
  {
   "cell_type": "code",
   "execution_count": 12,
   "metadata": {},
   "outputs": [],
   "source": [
    "def theta_ref_cnd_out(theta_ref_cnd, theta_ref_SC):\n",
    "    '''凝縮器出口温度(℃)を求める。'''\n",
    "    \n",
    "    return theta_ref_cnd - theta_ref_SC"
   ]
  },
  {
   "cell_type": "markdown",
   "metadata": {},
   "source": [
    "### D.7　凝縮圧力および蒸発圧力"
   ]
  },
  {
   "cell_type": "markdown",
   "metadata": {},
   "source": [
    "<p style=\"text-indent:2em\">凝縮圧力：</p> \n",
    "$$ \n",
    "\\begin{equation*} \n",
    "    P_{ref,cnd} = f_{P,sgas} \\left( \\theta_{ref,cnd} \\right)\n",
    "\\end{equation*} \n",
    "$$\n",
    "\n",
    "<div style=\"text-align: right;\"> (11) </div>"
   ]
  },
  {
   "cell_type": "markdown",
   "metadata": {},
   "source": [
    "ここで、  \n",
    "\n",
    "$f_{P,sgas} $：飽和蒸気の圧力を求める関数  \n",
    "$P_{ref,cnd}$：凝縮圧力(MPa)   \n",
    "$\\theta_{ref,cnd}$：凝縮温度(℃)   \n",
    "\n",
    "である。"
   ]
  },
  {
   "cell_type": "code",
   "execution_count": 13,
   "metadata": {},
   "outputs": [],
   "source": [
    "def P_ref_cnd(theta_ref_cnd):\n",
    "    '''凝縮圧力(MPa)を求める。'''\n",
    "    \n",
    "    return f_P_sgas(theta_ref_cnd)"
   ]
  },
  {
   "cell_type": "markdown",
   "metadata": {},
   "source": [
    "<p style=\"text-indent:2em\">蒸発圧力：</p> \n",
    "$$ \n",
    "\\begin{equation*} \n",
    "    P_{ref,evp} = f_{P,sgas} \\left( \\theta_{ref,evp} \\right)\n",
    "\\end{equation*} \n",
    "$$\n",
    "\n",
    "<div style=\"text-align: right;\"> (12) </div>"
   ]
  },
  {
   "cell_type": "markdown",
   "metadata": {},
   "source": [
    "ここで、  \n",
    "\n",
    "$f_{P,sgas} $：飽和蒸気の圧力を求める関数  \n",
    "$P_{ref,evp}$：蒸発圧力(MPa)   \n",
    "$\\theta_{ref,evp}$：蒸発温度(℃)   \n",
    "\n",
    "である。"
   ]
  },
  {
   "cell_type": "code",
   "execution_count": 14,
   "metadata": {},
   "outputs": [],
   "source": [
    "def P_ref_evp(theta_ref_evp):\n",
    "    '''蒸発圧力(MPa)を求める。'''\n",
    "    \n",
    "    return f_P_sgas(theta_ref_evp)"
   ]
  },
  {
   "cell_type": "markdown",
   "metadata": {},
   "source": [
    "### D.8　冷媒に関する関数"
   ]
  },
  {
   "cell_type": "markdown",
   "metadata": {},
   "source": [
    "#### D.8.1　飽和蒸気に関する関数"
   ]
  },
  {
   "cell_type": "markdown",
   "metadata": {},
   "source": [
    "<p style=\"text-indent:2em\">飽和蒸気の温度から圧力を求める関数：</p> \n",
    "$$ \n",
    "\\begin{align*}\n",
    "    f_{P,sgas} \\left( \\theta \\right) =&  2.75857926950901 \\times 10^{-17} \\times \\theta^{8} + 1.49382057911753 \\times 10^{-15} \\times \\theta^{7} \\\\\n",
    "    &+ 6.52001687267015 \\times 10^{-14} \\times \\theta^{6} + 9.14153034999975 \\times 10^{-12} \\times \\theta^{5} \\\\\n",
    "    &+ 3.18314616500361 \\times 10^{-9} \\times \\theta^{4} + 1.60703566663019 \\times 10^{-6} \\times \\theta^{3} \\\\\n",
    "    &+ 3.06278984019513 \\times 10^{-4} \\times \\theta^{2} + 2.54461992992037 \\times 10^{-2} \\times \\theta \\\\\n",
    "    &+ 7.98086455154775 \\times 10^{-1}\n",
    "\\end{align*}\n",
    "$$\n",
    "\n",
    "<div style=\"text-align: right;\"> (13) </div>"
   ]
  },
  {
   "cell_type": "markdown",
   "metadata": {},
   "source": [
    "ここで、  \n",
    "\n",
    "$f_{P,sgas} $：飽和水蒸気の圧力(MPa)     \n",
    "$\\theta$：飽和水蒸気の温度(℃)   \n",
    "\n",
    "である。"
   ]
  },
  {
   "cell_type": "code",
   "execution_count": 15,
   "metadata": {},
   "outputs": [],
   "source": [
    "def f_P_sgas(theta):\n",
    "    '''飽和蒸気の圧力(MPa)を求める。'''\n",
    "    \n",
    "    a8 = 2.75857926950901 * 10**(-17)\n",
    "    a7 = 1.49382057911753 * 10**(-15)\n",
    "    a6 = 6.52001687267015 * 10**(-14)\n",
    "    a5 = 9.14153034999975 * 10**(-12)\n",
    "    a4 = 3.18314616500361 * 10**(-9)\n",
    "    a3 = 1.60703566663019 * 10**(-6)\n",
    "    a2 = 3.06278984019513 * 10**(-4)\n",
    "    a1 = 2.54461992992037 * 10**(-2)\n",
    "    a0 = 7.98086455154775 * 10**(-1)\n",
    "    \n",
    "    return    a8 * theta**8 + a7 * theta**7 \\\n",
    "            + a6 * theta**6 + a5 * theta**5 \\\n",
    "            + a4 * theta**4 + a3 * theta**3 \\\n",
    "            + a2 * theta**2 + a1 * theta**1 \\\n",
    "            + a0 * theta**0"
   ]
  },
  {
   "cell_type": "code",
   "execution_count": 16,
   "metadata": {},
   "outputs": [
    {
     "data": {
      "image/png": "[encoded data removed]",
      "text/plain": [
       "<matplotlib.figure.Figure at 0x1a128f057b8>"
      ]
     },
     "metadata": {},
     "output_type": "display_data"
    }
   ],
   "source": [
    "# 出力結果\n",
    "plt.figure(figsize = (8, 3), dpi=80 )\n",
    "plt.subplot2grid((1, 1), (0, 0))\n",
    "plt.title('飽和蒸気の圧力(MPa)', fontdict={'fontproperties':fp})\n",
    "\n",
    "x_values =[x for x in range(-10, 25, 1)]\n",
    "y_values = [f_P_sgas(theta) for theta in x_values]\n",
    "plt.plot(x_values, y_values, label ='飽和蒸気の圧力' )\n",
    "        \n",
    "ax=plt.gca()\n",
    "ax.set_xlabel('飽和蒸気の温度(℃)', fontdict={'fontproperties':fp})\n",
    "ax.set_xticks([x for x in range(-10, 25, 5)], minor=False)\n",
    "ax.set_xbound(lower=-10, upper=20)\n",
    "\n",
    "ax.set_ylabel('飽和蒸気の圧力(MPa)', fontdict={'fontproperties':fp})\n",
    "ax.set_yticks(np.arange(0, 2.5, 0.2), minor=False)\n",
    "ax.set_ybound(lower=0, upper=2)\n",
    "\n",
    "ax.grid(which='major', color='lightgray', alpha=0.7, linestyle='-')     \n",
    "plt.legend(loc='center left', bbox_to_anchor=(1, 0.5), borderaxespad=0.5, frameon=True, prop=fp)\n",
    "\n",
    "plt.show()"
   ]
  },
  {
   "cell_type": "markdown",
   "metadata": {},
   "source": [
    "#### D.8.2　過熱蒸気に関する関数"
   ]
  },
  {
   "cell_type": "markdown",
   "metadata": {},
   "source": [
    "<p style=\"text-indent:2em\">圧縮機吸込領域において過熱蒸気の圧力と温度から比エンタルピーを求める関数：</p> \n",
    "$$ \n",
    "\\begin{align*}\n",
    "    f_{H,gas,comp,{\\textit in}} \\left( P, \\: \\theta \\right) = &- 1.00110355 \\times 10^{-1} \\times P^{3} - 1.184450639 \\times 10 \\times P^{2} \\\\\n",
    "    &- 2.052740252 \\times 10^{2} \\times P + 3.20391 \\times 10^{-6} \\times \\left( \\theta + 273.15 \\right)^{3} \\\\\n",
    "    &- 2.24685 \\times 10^{-3} \\times \\left( \\theta + 273.15 \\right)^{2} + 1.279436909 \\times \\left( \\theta + 273.15 \\right) \\\\\n",
    "    &+ 3.1271238 \\times 10^{-2} \\times P^{2} \\times \\left( \\theta + 273.15 \\right) \\\\\n",
    "    &- 1.415359 \\times 10^{-3} \\times P \\times \\left( \\theta + 273.15 \\right)^{2} \\\\\n",
    "    &+ 1.05553912 \\times P \\times \\left( \\theta + 273.15 \\right) + 1.949505039 \\times 10^{2}\n",
    "\\end{align*}  \n",
    "$$\n",
    "\n",
    "<div style=\"text-align: right;\"> (14) </div>"
   ]
  },
  {
   "cell_type": "markdown",
   "metadata": {},
   "source": [
    "ここで、  \n",
    "\n",
    "$f_{H,gas,comp,{\\textit in}}$：過熱蒸気の比エンタルピー(kJ/kg)        \n",
    "$P$：過熱蒸気の圧力(MPa)    \n",
    "$\\theta$：過熱蒸気の温度(℃)   \n",
    "\n",
    "である。"
   ]
  },
  {
   "cell_type": "code",
   "execution_count": 17,
   "metadata": {},
   "outputs": [],
   "source": [
    "def f_H_gas_comp_in(P, theta):\n",
    "    '''圧縮機吸込領域における過熱蒸気の比エンタルピー(kJ/kg)を求める。'''\n",
    "    \n",
    "    a30 = -1.00110355  * 10**(-1)\n",
    "    a20 = -1.184450639 * 10\n",
    "    a10 = -2.052740252 * 10**(2)\n",
    "    a03 =  3.20391     * 10**(-6)\n",
    "    a02 = -2.24685     * 10**(-3)\n",
    "    a01 =  1.279436909\n",
    "    a21 =  3.1271238   * 10**(-2)\n",
    "    a12 = -1.415359    * 10**(-3)\n",
    "    a11 =  1.05553912\n",
    "    a00 =  1.949505039 * 10**(2)\n",
    "    \n",
    "    T = theta + 273.15\n",
    "    \n",
    "    return    a30 * P**3 * T**0 + a20 * P**2 * T**0 + a10 * P**1 * T**0 \\\n",
    "            + a03 * P**0 * T**3 + a02 * P**0 * T**2 + a01 * P**0 * T**1 \\\n",
    "            + a21 * P**2 * T**1 + a12 * P**1 * T**2 \\\n",
    "            + a11 * P**1 * T**1 + a00 * P**0 * T**0"
   ]
  },
  {
   "cell_type": "code",
   "execution_count": 18,
   "metadata": {},
   "outputs": [
    {
     "data": {
      "image/png": "[encoded data removed]",
      "text/plain": [
       "<matplotlib.figure.Figure at 0x1a128f0fcf8>"
      ]
     },
     "metadata": {},
     "output_type": "display_data"
    }
   ],
   "source": [
    "# 出力結果\n",
    "plt.figure(figsize = (8, 3), dpi=80 )\n",
    "plt.subplot2grid((1, 1), (0, 0))\n",
    "plt.title('圧縮機吸込領域における過熱蒸気の比エンタルピー(kJ/kg)', fontdict={'fontproperties':fp})\n",
    "\n",
    "for i,P in enumerate([z for z in range(0, 3, 1)]):\n",
    "    x_values = [x for x in range(-10, 25, 1)]\n",
    "    y_values = [f_H_gas_comp_in(P, theta) for theta in x_values]\n",
    "    plt.plot(x_values, y_values, label='圧力 = '+str(P)+' MPa')\n",
    "        \n",
    "ax=plt.gca()\n",
    "ax.set_xlabel('過熱蒸気の温度(℃)', fontdict={'fontproperties':fp})\n",
    "ax.set_xticks([x for x in range(-10, 25, 5)], minor=False)\n",
    "ax.set_xbound(lower=-10, upper=20)\n",
    "\n",
    "ax.set_ylabel('比エンタルピー(kJ/kg)', fontdict={'fontproperties':fp})\n",
    "ax.set_yticks([y for y in range(0, 600, 100)], minor=False)\n",
    "ax.set_ybound(lower=0, upper=500)\n",
    "\n",
    "ax.grid(which='major', color='lightgray', alpha=0.7, linestyle='-')     \n",
    "plt.legend(loc='center left', bbox_to_anchor=(1, 0.5), borderaxespad=0.5, frameon=True, prop=fp)\n",
    "\n",
    "plt.show()"
   ]
  },
  {
   "cell_type": "markdown",
   "metadata": {},
   "source": [
    "<p style=\"text-indent:2em\">圧縮機吐出領域において過熱蒸気の圧力と比エントロピーから比エンタルピーを求める関数：</p> \n",
    "$$ \n",
    "\\begin{align*}\n",
    "    f_{H,gas,comp,out} \\left( P, \\: S \\right) = &- 1.869892835947070 \\times 10^{-1} \\times P^{4} + 8.223224182177200 \\times 10^{-1} \\times P^{3} \\\\\n",
    "    &+ 4.124595239531860 \\times P^{2} - 8.346302788803210 \\times 10 \\times P \\\\\n",
    "    &- 1.016388214044490 \\times 10^{2} \\times S^{4} + 8.652428629143880 \\times 10^{2} \\times S^{3} \\\\\n",
    "    &- 2.574830800631310 \\times 10^{3} \\times S^{2} + 3.462049327009730 \\times 10^{3} \\times S \\\\\n",
    "    &+ 9.209837906396910 \\times 10^{-1} \\times P^{3} \\times S\\\\\n",
    "    &- 5.163305566700450 \\times 10^{-1} \\times P^{2} \\times S^{2} \\\\\n",
    "    &+ 4.076727767130210 \\times P \\times S^{3} - 8.967168786520070 \\times P^{2} \\times S \\\\\n",
    "    &- 2.062021416757910 \\times 10 \\times P \\times S^{2} + 9.510257675728610 \\times 10 \\times P \\times S \\\\\n",
    "    &- 1.476914346214130 \\times 10^{3}\n",
    "\\end{align*}  \n",
    "$$\n",
    "\n",
    "<div style=\"text-align: right;\"> (15) </div>"
   ]
  },
  {
   "cell_type": "markdown",
   "metadata": {},
   "source": [
    "ここで、  \n",
    "\n",
    "$f_{H,gas,comp,out}$：過熱蒸気の比エンタルピー(kJ/kg)        \n",
    "$P$：過熱蒸気の圧力(MPa)    \n",
    "$S$：過熱蒸気の比エントロピー(kJ/(kg・K))       \n",
    "\n",
    "である。"
   ]
  },
  {
   "cell_type": "code",
   "execution_count": 19,
   "metadata": {},
   "outputs": [],
   "source": [
    "def f_H_gas_comp_out(P, S):\n",
    "    '''圧縮機吸込領域における過熱蒸気の比エンタルピー(kJ/kg)を求める。'''\n",
    "    \n",
    "    a40 = -1.869892835947070 * 10**(-1)\n",
    "    a30 =  8.223224182177200 * 10**(-1)\n",
    "    a20 =  4.124595239531860\n",
    "    a10 = -8.346302788803210 * 10\n",
    "    a04 = -1.016388214044490 * 10**(2)\n",
    "    a03 =  8.652428629143880 * 10**(2)\n",
    "    a02 = -2.574830800631310 * 10**(3)\n",
    "    a01 =  3.462049327009730 * 10**(3)\n",
    "    a31 =  9.209837906396910 * 10**(-1)\n",
    "    a22 = -5.163305566700450 * 10**(-1)\n",
    "    a13 =  4.076727767130210\n",
    "    a21 = -8.967168786520070 \n",
    "    a12 = -2.062021416757910 * 10\n",
    "    a11 =  9.510257675728610 * 10\n",
    "    a00 = -1.476914346214130 * 10**(3)\n",
    "    \n",
    "    return    a40 * P**4 * S**0 + a30 * P**3 * S**0 + a20 * P**2 * S**0 + a10 * P**1 * S**0 \\\n",
    "            + a04 * P**0 * S**4 + a03 * P**0 * S**3 + a02 * P**0 * S**2 + a01 * P**0 * S**1 \\\n",
    "            + a31 * P**3 * S**1 + a22 * P**2 * S**2 + a13 * P**1 * S**3 \\\n",
    "            + a21 * P**2 * S**1 + a12 * P**1 * S**2 \\\n",
    "            + a11 * P**1 * S**1 + a00 * P**0 * S**0"
   ]
  },
  {
   "cell_type": "code",
   "execution_count": 20,
   "metadata": {},
   "outputs": [
    {
     "data": {
      "image/png": "[encoded data removed]",
      "text/plain": [
       "<matplotlib.figure.Figure at 0x1a1292b3358>"
      ]
     },
     "metadata": {},
     "output_type": "display_data"
    }
   ],
   "source": [
    "# 出力結果\n",
    "plt.figure(figsize = (8, 3), dpi=80 )\n",
    "plt.subplot2grid((1, 1), (0, 0))\n",
    "plt.title('圧縮機吸込領域における過熱蒸気の比エンタルピー(kJ/kg)', fontdict={'fontproperties':fp})\n",
    "\n",
    "for i,S in enumerate(np.arange(0, 3.5, 0.5)):\n",
    "    x_values = np.arange(1.0, 4.0, 0.2)\n",
    "    y_values = [f_H_gas_comp_out(P, S) for P in x_values]\n",
    "    plt.plot(x_values, y_values, label='比エントロピー = '+str(S)+' kJ/(kg・K)')\n",
    "        \n",
    "ax=plt.gca()\n",
    "ax.set_xlabel('過熱蒸気の圧力(MPa) ', fontdict={'fontproperties':fp})\n",
    "ax.set_xticks(np.arange(1.0, 4.0, 0.2), minor=False)\n",
    "ax.set_xbound(lower=1, upper=3)\n",
    "\n",
    "ax.set_ylabel('比エンタルピー(kJ/kg)', fontdict={'fontproperties':fp})\n",
    "ax.set_yticks(np.arange(0, 1000, 100), minor=False)\n",
    "ax.set_ybound(lower=0, upper=600)\n",
    "\n",
    "ax.grid(which='major', color='lightgray', alpha=0.7, linestyle='-')     \n",
    "plt.legend(loc='center left', bbox_to_anchor=(1, 0.5), borderaxespad=0.5, frameon=True, prop=fp)\n",
    "\n",
    "plt.show()"
   ]
  },
  {
   "cell_type": "markdown",
   "metadata": {},
   "source": [
    "<p style=\"text-indent:2em\">過熱蒸気の圧力と比エンタルピーから比エントロピーを求める関数：</p> \n",
    "$$ \n",
    "\\begin{align*}\n",
    "    f_{S,gas} \\left( P, \\: h \\right) = & 5.823109493752840 \\times 10^{-2} \\times P^{4} - 3.309666523931270 \\times 10^{-1} \\times P^{3} \\\\\n",
    "    &+ 7.700179914440890 \\times 10^{-1} \\times P^{2} - 1.311726004718660 \\times P \\\\\n",
    "    &+ 1.521486605815750 \\times 10^{-9} \\times h^{4} - 2.703698863404160 \\times 10^{-6} \\times h^{3} \\\\\n",
    "    &+ 1.793443775071770 \\times 10^{-3} \\times h^{2} - 5.227303746767450 \\times 10^{-1} \\times h \\\\\n",
    "    &+ 1.100368875131490 \\times 10^{-4} \\times P^{3} \\times h + 5.076769807083600 \\times 10^{-7} \\times P^{2} \\times h^{2} \\\\\n",
    "    &+ 1.202580329499520 \\times 10^{-8}\\times P \\times h^{3} - 7.278049214744230 \\times 10^{-4} \\times P^{2} \\times h \\\\\n",
    "    &- 1.449198550965620 \\times 10^{-5} \\times P \\times h^{2} + 5.716086851760640 \\times 10^{-3} \\times P \\times h \\\\\n",
    "    &+ 5.818448621582900 \\times 10\n",
    "\\end{align*}  \n",
    "$$\n",
    "\n",
    "<div style=\"text-align: right;\"> (16) </div>"
   ]
  },
  {
   "cell_type": "markdown",
   "metadata": {},
   "source": [
    "ここで、  \n",
    "\n",
    "$f_{S,gas}$：過熱蒸気の比エントロピー(kJ/(kg・K))         \n",
    "$P$：過熱蒸気の圧力(MPa)    \n",
    "$h$：過熱蒸気の比エンタルピー(kJ/kg)       \n",
    "\n",
    "である。"
   ]
  },
  {
   "cell_type": "code",
   "execution_count": 21,
   "metadata": {},
   "outputs": [],
   "source": [
    "def f_S_gas(P, h):\n",
    "    '''過熱蒸気の比エントロピー(kJ/(kg・K))を求める。'''\n",
    "    \n",
    "    a40 =  5.823109493752840 * 10**(-2)\n",
    "    a30 = -3.309666523931270 * 10**(-1)\n",
    "    a20 =  7.700179914440890 * 10**(-1)\n",
    "    a10 = -1.311726004718660\n",
    "    a04 =  1.521486605815750 * 10**(-9)\n",
    "    a03 = -2.703698863404160 * 10**(-6)\n",
    "    a02 =  1.793443775071770 * 10**(-3)\n",
    "    a01 = -5.227303746767450 * 10**(-1)\n",
    "    a31 =  1.100368875131490 * 10**(-4)\n",
    "    a22 =  5.076769807083600 * 10**(-7)\n",
    "    a13 =  1.202580329499520 * 10**(-8)\n",
    "    a21 = -7.278049214744230 * 10**(-4)\n",
    "    a12 = -1.449198550965620 * 10**(-5)\n",
    "    a11 =  5.716086851760640 * 10**(-3)\n",
    "    a00 =  5.818448621582900 * 10\n",
    "    \n",
    "    return    a40 * P**4 * h**0 + a30 * P**3 * h**0 + a20 * P**2 * h**0 + a10 * P**1 * h**0 \\\n",
    "            + a04 * P**0 * h**4 + a03 * P**0 * h**3 + a02 * P**0 * h**2 + a01 * P**0 * h**1 \\\n",
    "            + a31 * P**3 * h**1 + a22 * P**2 * h**2 + a13 * P**1 * h**3 \\\n",
    "            + a21 * P**2 * h**1 + a12 * P**1 * h**2 \\\n",
    "            + a11 * P**1 * h**1 + a00 * P**0 * h**0"
   ]
  },
  {
   "cell_type": "code",
   "execution_count": 22,
   "metadata": {},
   "outputs": [
    {
     "data": {
      "image/png": "[encoded data removed]",
      "text/plain": [
       "<matplotlib.figure.Figure at 0x1a1293307b8>"
      ]
     },
     "metadata": {},
     "output_type": "display_data"
    }
   ],
   "source": [
    "# 出力結果\n",
    "plt.figure(figsize = (8, 3), dpi=80 )\n",
    "plt.subplot2grid((1, 1), (0, 0))\n",
    "plt.title('過熱蒸気の比エントロピー(kJ/(kg・K))', fontdict={'fontproperties':fp})\n",
    "\n",
    "for i,P in enumerate(np.arange(0, 4, 1)):\n",
    "    x_values = np.arange(100, 700, 50)\n",
    "    y_values = [f_S_gas(P, h) for h in x_values]\n",
    "    plt.plot(x_values, y_values, label='過熱蒸気の圧力 = '+str(P)+' MPa')\n",
    "        \n",
    "ax=plt.gca()\n",
    "ax.set_xlabel('過熱蒸気の比エンタルピー(kJ/kg)', fontdict={'fontproperties':fp})\n",
    "ax.set_xticks(np.arange(100, 600, 100), minor=False)\n",
    "ax.set_xbound(lower=100, upper=500)\n",
    "\n",
    "ax.set_ylabel('比エントロピー(kJ/(kg・K))', fontdict={'fontproperties':fp})\n",
    "ax.set_yticks(np.arange(-1000, 100, 20), minor=False)\n",
    "ax.set_ybound(lower=-100, upper=30)\n",
    "\n",
    "ax.grid(which='major', color='lightgray', alpha=0.7, linestyle='-')     \n",
    "plt.legend(loc='center left', bbox_to_anchor=(1, 0.5), borderaxespad=0.5, frameon=True, prop=fp)\n",
    "\n",
    "plt.show()"
   ]
  },
  {
   "cell_type": "markdown",
   "metadata": {},
   "source": [
    "#### D.8.3　過冷却液に関する関数"
   ]
  },
  {
   "cell_type": "markdown",
   "metadata": {},
   "source": [
    "<p style=\"text-indent:2em\">圧縮機吸込領域において過熱蒸気の圧力と温度から比エンタルピーを求める関数：</p> \n",
    "$$ \n",
    "\\begin{align*}\n",
    "    f_{H,liq} \\left( P, \\: \\theta \\right) = & 1.7902915 \\times 10^{-2} \\times P^{3} + 7.96830322 \\times 10^{-1} \\times P^{2} \\\\\n",
    "    &+ 5.985874958 \\times 10 \\times P + 0 \\times \\left( \\theta + 273.15 \\right)^{3} \\\\\n",
    "    &+ 9.86677 \\times 10^{-4} \\times \\left( \\theta + 273.15 \\right)^{2} + 9.8051677\\times 10^{-1} \\left( \\theta + 273.15 \\right) \\\\\n",
    "    &- 3.58645 \\times 10^{-3} \\times P^{2} \\times \\left( \\theta + 273.15 \\right) + 8.23122 \\times 10^{-4} \\times P \\times \\left( \\theta + 273.15 \\right) ^{2}\\\\\n",
    "    &- 4.42639115 \\times 10^{-1} \\times P \\times \\left( \\theta + 273.15 \\right) - 1.415490404 \\times 10^{2}\n",
    "\\end{align*}  \n",
    "$$\n",
    "\n",
    "<div style=\"text-align: right;\"> (17) </div>"
   ]
  },
  {
   "cell_type": "markdown",
   "metadata": {},
   "source": [
    "ここで、  \n",
    "\n",
    "$f_{H,liq}$：過冷却液の比エンタルピー(kJ/kg)        \n",
    "$P$：過冷却液の圧力(MPa)    \n",
    "$\\theta$：過冷却液の温度(℃)   \n",
    "\n",
    "である。"
   ]
  },
  {
   "cell_type": "code",
   "execution_count": 23,
   "metadata": {},
   "outputs": [],
   "source": [
    "def f_H_liq(P, theta):\n",
    "    '''圧縮機吸込領域における過冷却液の比エンタルピー(kJ/kg)を求める。'''\n",
    "    \n",
    "    a30 =  1.7902915   * 10**(-2)\n",
    "    a20 =  7.96830322  * 10**(-1)\n",
    "    a10 =  5.985874958 * 10\n",
    "    a03 =  0\n",
    "    a02 =  9.86677     * 10**(-4)\n",
    "    a01 =  9.8051677   * 10**(-1)\n",
    "    a21 = -3.58645     * 10**(-3)\n",
    "    a12 =  8.23122     * 10**(-4)\n",
    "    a11 = -4.42639115  * 10**(-1)\n",
    "    a00 = -1.415490404 * 10**(2)\n",
    "    \n",
    "    T = theta + 273.15\n",
    "    \n",
    "    return    a30 * P**3 * T**0 + a20 * P**2 * T**0 + a10 * P**1 * T**0 \\\n",
    "            + a03 * P**0 * T**3 + a02 * P**0 * T**2 + a01 * P**0 * T**1 \\\n",
    "            + a21 * P**2 * T**1 + a12 * P**1 * T**2 \\\n",
    "            + a11 * P**1 * T**1 + a00 * P**0 * T**0"
   ]
  },
  {
   "cell_type": "code",
   "execution_count": 24,
   "metadata": {
    "scrolled": true
   },
   "outputs": [
    {
     "data": {
      "image/png": "[encoded data removed]",
      "text/plain": [
       "<matplotlib.figure.Figure at 0x1a128f05208>"
      ]
     },
     "metadata": {},
     "output_type": "display_data"
    }
   ],
   "source": [
    "# 出力結果\n",
    "plt.figure(figsize = (8, 3), dpi=80 )\n",
    "plt.subplot2grid((1, 1), (0, 0))\n",
    "plt.title('圧縮機吸込領域における過冷却液の比エンタルピー(kJ/kg)', fontdict={'fontproperties':fp})\n",
    "\n",
    "for i,P in enumerate([z for z in range(0, 3, 1)]):\n",
    "    x_values =[x for x in range(-10, 25, 1)]\n",
    "    y_values = [f_H_liq(P, theta) for theta in x_values]\n",
    "    plt.plot(x_values, y_values, label='圧力 = '+str(P)+' MPa')\n",
    "        \n",
    "ax=plt.gca()\n",
    "ax.set_xlabel('過冷却液の温度(℃)', fontdict={'fontproperties':fp})\n",
    "ax.set_xticks([x for x in range(-10, 25, 5)], minor=False)\n",
    "ax.set_xbound(lower=-10, upper=20)\n",
    "\n",
    "ax.set_ylabel('比エンタルピー(kJ/kg)', fontdict={'fontproperties':fp})\n",
    "ax.set_yticks([y for y in range(0, 600, 100)], minor=False)\n",
    "ax.set_ybound(lower=0, upper=500)\n",
    "\n",
    "ax.grid(which='major', color='lightgray', alpha=0.7, linestyle='-')     \n",
    "plt.legend(loc='center left', bbox_to_anchor=(1, 0.5), borderaxespad=0.5, frameon=True, prop=fp)\n",
    "\n",
    "plt.show()"
   ]
  },
  {
   "cell_type": "markdown",
   "metadata": {},
   "source": [
    "Example (Heating):"
   ]
  },
  {
   "cell_type": "code",
   "execution_count": 25,
   "metadata": {},
   "outputs": [],
   "source": [
    "# 外気温度\n",
    "_theta_ex = 0\n",
    "# 凝縮温度\n",
    "_theta_ref_cnd = 40"
   ]
  },
  {
   "cell_type": "code",
   "execution_count": 26,
   "metadata": {},
   "outputs": [
    {
     "data": {
      "text/plain": [
       "-6.95"
      ]
     },
     "execution_count": 26,
     "metadata": {},
     "output_type": "execute_result"
    }
   ],
   "source": [
    "# 蒸発温度\n",
    "_theta_ref_evp = _theta_ex - (0.100 * _theta_ref_cnd + 2.95)\n",
    "_theta_ref_evp"
   ]
  },
  {
   "cell_type": "code",
   "execution_count": 27,
   "metadata": {
    "scrolled": true
   },
   "outputs": [
    {
     "data": {
      "text/plain": [
       "-8.08"
      ]
     },
     "execution_count": 27,
     "metadata": {},
     "output_type": "execute_result"
    }
   ],
   "source": [
    "# 過冷却度\n",
    "_theta_ref_SC = -(0.245 * _theta_ref_cnd - 1.72)\n",
    "_theta_ref_SC"
   ]
  },
  {
   "cell_type": "code",
   "execution_count": 28,
   "metadata": {},
   "outputs": [
    {
     "data": {
      "text/plain": [
       "3.0500000000000003"
      ]
     },
     "execution_count": 28,
     "metadata": {},
     "output_type": "execute_result"
    }
   ],
   "source": [
    "# 過熱度\n",
    "_theta_ref_SH = 4.49 - 0.036 * _theta_ref_cnd\n",
    "_theta_ref_SH"
   ]
  },
  {
   "cell_type": "code",
   "execution_count": 29,
   "metadata": {},
   "outputs": [
    {
     "data": {
      "text/plain": [
       "2.418608624814519"
      ]
     },
     "execution_count": 29,
     "metadata": {},
     "output_type": "execute_result"
    }
   ],
   "source": [
    "# 凝縮圧力\n",
    "_P_ref_cnd = P_ref_cnd(_theta_ref_cnd)\n",
    "_P_ref_cnd"
   ]
  },
  {
   "cell_type": "code",
   "execution_count": 30,
   "metadata": {},
   "outputs": [
    {
     "data": {
      "text/plain": [
       "0.6354972097551437"
      ]
     },
     "execution_count": 30,
     "metadata": {},
     "output_type": "execute_result"
    }
   ],
   "source": [
    "# 蒸発圧力\n",
    "_P_ref_evp = P_ref_evp(_theta_ref_evp)\n",
    "_P_ref_evp"
   ]
  },
  {
   "cell_type": "code",
   "execution_count": 31,
   "metadata": {},
   "outputs": [
    {
     "data": {
      "text/plain": [
       "48.08"
      ]
     },
     "execution_count": 31,
     "metadata": {},
     "output_type": "execute_result"
    }
   ],
   "source": [
    "# 凝縮器出口温度\n",
    "_theta_ref_cnd_out = theta_ref_cnd_out(_theta_ref_cnd, _theta_ref_SC)\n",
    "_theta_ref_cnd_out"
   ]
  },
  {
   "cell_type": "code",
   "execution_count": 32,
   "metadata": {},
   "outputs": [
    {
     "data": {
      "text/plain": [
       "279.71607172856056"
      ]
     },
     "execution_count": 32,
     "metadata": {},
     "output_type": "execute_result"
    }
   ],
   "source": [
    "# 凝縮器出口比エンタルピー\n",
    "_h_ref_cnd_out = f_H_liq(_P_ref_cnd, _theta_ref_cnd_out)\n",
    "_h_ref_cnd_out"
   ]
  },
  {
   "cell_type": "code",
   "execution_count": 33,
   "metadata": {},
   "outputs": [
    {
     "data": {
      "text/plain": [
       "-3.9"
      ]
     },
     "execution_count": 33,
     "metadata": {},
     "output_type": "execute_result"
    }
   ],
   "source": [
    "# 圧縮機吸込温度\n",
    "_theta_ref_comp_in = theta_ref_comp_in(_theta_ref_evp, _theta_ref_SH) \n",
    "_theta_ref_comp_in"
   ]
  },
  {
   "cell_type": "code",
   "execution_count": 34,
   "metadata": {},
   "outputs": [
    {
     "data": {
      "text/plain": [
       "0.6354972097551437"
      ]
     },
     "execution_count": 34,
     "metadata": {},
     "output_type": "execute_result"
    }
   ],
   "source": [
    "# 圧縮機吸込圧力\n",
    "_P_ref_comp_in = P_ref_comp_in(_P_ref_evp)\n",
    "_P_ref_comp_in "
   ]
  },
  {
   "cell_type": "code",
   "execution_count": 35,
   "metadata": {},
   "outputs": [
    {
     "data": {
      "text/plain": [
       "422.63504424252136"
      ]
     },
     "execution_count": 35,
     "metadata": {},
     "output_type": "execute_result"
    }
   ],
   "source": [
    "# 圧縮機吸込比エンタルピー\n",
    "_h_ref_comp_in =f_H_gas_comp_in(_P_ref_comp_in, _theta_ref_comp_in)\n",
    "_h_ref_comp_in"
   ]
  },
  {
   "cell_type": "code",
   "execution_count": 36,
   "metadata": {},
   "outputs": [
    {
     "data": {
      "text/plain": [
       "1.8371766689820817"
      ]
     },
     "execution_count": 36,
     "metadata": {},
     "output_type": "execute_result"
    }
   ],
   "source": [
    "# 圧縮機吸込比エントロピー\n",
    "_S_ref_comp_in = f_S_gas(_P_ref_comp_in, _h_ref_comp_in)\n",
    "_S_ref_comp_in"
   ]
  },
  {
   "cell_type": "code",
   "execution_count": 37,
   "metadata": {},
   "outputs": [
    {
     "data": {
      "text/plain": [
       "1.8371766689820817"
      ]
     },
     "execution_count": 37,
     "metadata": {},
     "output_type": "execute_result"
    }
   ],
   "source": [
    "# 圧縮機吐出比エントロピー\n",
    "_S_ref_comp_out = S_ref_comp_out(_S_ref_comp_in)\n",
    "_S_ref_comp_out"
   ]
  },
  {
   "cell_type": "code",
   "execution_count": 38,
   "metadata": {},
   "outputs": [
    {
     "data": {
      "text/plain": [
       "2.418608624814519"
      ]
     },
     "execution_count": 38,
     "metadata": {},
     "output_type": "execute_result"
    }
   ],
   "source": [
    "# 圧縮機吐出圧力\n",
    "_P_ref_comp_out = P_ref_comp_out(_P_ref_cnd)\n",
    "_P_ref_comp_out"
   ]
  },
  {
   "cell_type": "code",
   "execution_count": 39,
   "metadata": {},
   "outputs": [
    {
     "data": {
      "text/plain": [
       "460.51220412380644"
      ]
     },
     "execution_count": 39,
     "metadata": {},
     "output_type": "execute_result"
    }
   ],
   "source": [
    "# 圧縮機吐出比エンタルピー\n",
    "_h_ref_comp_out = f_H_gas_comp_out(_P_ref_comp_out, _S_ref_comp_out)\n",
    "_h_ref_comp_out"
   ]
  },
  {
   "cell_type": "code",
   "execution_count": 40,
   "metadata": {
    "scrolled": true
   },
   "outputs": [
    {
     "data": {
      "text/plain": [
       "4.773223044227674"
      ]
     },
     "execution_count": 40,
     "metadata": {},
     "output_type": "execute_result"
    }
   ],
   "source": [
    "# 暖房の理論効率\n",
    "_e_ref_H_th = e_ref_H_th(_h_ref_comp_in, _h_ref_comp_out, _h_ref_cnd_out)\n",
    "_e_ref_H_th "
   ]
  },
  {
   "cell_type": "code",
   "execution_count": 41,
   "metadata": {},
   "outputs": [],
   "source": [
    "def calc_e_ref_H_th(_theta_ref_evp, _theta_ref_cnd, _theta_ref_SC, _theta_ref_SH):\n",
    "    '''暖房の理論効率(-)を計算する。'''\n",
    "    # _theta_ref_evp：蒸発温度(℃)\n",
    "    # _theta_ref_cnd：凝縮温度(℃)\n",
    "    # _theta_ref_SC：過冷却度(℃)\n",
    "    # _theta_ref_SH：過熱度(℃)\n",
    "  \n",
    "    # 凝縮圧力(MPa)\n",
    "    _P_ref_cnd = P_ref_cnd(_theta_ref_cnd)\n",
    "    # 蒸発圧力(MPa)\n",
    "    _P_ref_evp = P_ref_evp(_theta_ref_evp)\n",
    "    \n",
    "    # 凝縮器出口温度(℃)\n",
    "    _theta_ref_cnd_out = theta_ref_cnd_out(_theta_ref_cnd, _theta_ref_SC)\n",
    "    # 凝縮器出口比エンタルピー(kJ/kg)\n",
    "    _h_ref_cnd_out = f_H_liq(_P_ref_cnd, _theta_ref_cnd_out)\n",
    "    \n",
    "    # 圧縮機吸込温度(℃)\n",
    "    _theta_ref_comp_in = theta_ref_comp_in(_theta_ref_evp, _theta_ref_SH) \n",
    "    # 圧縮機吸込圧力(MPa)\n",
    "    _P_ref_comp_in = P_ref_comp_in(_P_ref_evp)\n",
    "    # 圧縮機吸込比エンタルピー(kJ/kg)\n",
    "    _h_ref_comp_in =f_H_gas_comp_in(_P_ref_comp_in, _theta_ref_comp_in)\n",
    "    # 圧縮機吸込比エントロピー(kJ/(kg・K))\n",
    "    _S_ref_comp_in = f_S_gas(_P_ref_comp_in, _h_ref_comp_in)\n",
    "    \n",
    "    # 圧縮機吐出比エントロピー(kJ/(kg・K))\n",
    "    _S_ref_comp_out = S_ref_comp_out(_S_ref_comp_in)\n",
    "    # 圧縮機吐出圧力(MPa)\n",
    "    _P_ref_comp_out = P_ref_comp_out(_P_ref_cnd)\n",
    "    # 圧縮機吐出比エンタルピー(kJ/kg)\n",
    "    _h_ref_comp_out = f_H_gas_comp_out(_P_ref_comp_out, _S_ref_comp_out)\n",
    "    \n",
    "    # 暖房の理論効率(-)\n",
    "    _e_ref_H_th = e_ref_H_th(_h_ref_comp_in, _h_ref_comp_out, _h_ref_cnd_out)\n",
    "    \n",
    "    return _e_ref_H_th"
   ]
  },
  {
   "cell_type": "code",
   "execution_count": 42,
   "metadata": {},
   "outputs": [
    {
     "data": {
      "text/plain": [
       "4.773223044227674"
      ]
     },
     "execution_count": 42,
     "metadata": {},
     "output_type": "execute_result"
    }
   ],
   "source": [
    "calc_e_ref_H_th(_theta_ref_evp, _theta_ref_cnd, _theta_ref_SC, _theta_ref_SH)"
   ]
  },
  {
   "cell_type": "code",
   "execution_count": 43,
   "metadata": {
    "scrolled": true
   },
   "outputs": [
    {
     "data": {
      "image/png": "[encoded data removed]",
      "text/plain": [
       "<matplotlib.figure.Figure at 0x1a129401128>"
      ]
     },
     "metadata": {},
     "output_type": "display_data"
    }
   ],
   "source": [
    "# 出力結果\n",
    "plt.figure(figsize = (8, 3), dpi=80 )\n",
    "plt.subplot2grid((1, 1), (0, 0))\n",
    "plt.title('暖房の理論効率', fontdict={'fontproperties':fp})\n",
    "\n",
    "for i,theta_cnd in enumerate([z for z in range(-10, 15, 5)]):\n",
    "    x_values =[x for x in range(-10, 20, 1)]\n",
    "    y_values = [calc_e_ref_H_th(theta_ex - (0.100 * theta_cnd + 2.95), \n",
    "                                theta_cnd, \n",
    "                                -(0.245 * theta_cnd - 1.72),\n",
    "                                4.49 - 0.036 * theta_cnd) for theta_ex in x_values]\n",
    "    plt.plot(x_values, y_values, label='凝縮温度 = '+str(theta_cnd)+' ℃')\n",
    "        \n",
    "ax=plt.gca()\n",
    "ax.set_xlabel('外気温度(℃)', fontdict={'fontproperties':fp})\n",
    "ax.set_xticks([x for x in range(-10, 25, 5)], minor=False)\n",
    "ax.set_xbound(lower=-10, upper=20)\n",
    "\n",
    "ax.set_ylabel('暖房の理論効率(-)', fontdict={'fontproperties':fp})\n",
    "ax.set_yticks([y for y in range(0, 1100, 100)], minor=False)\n",
    "ax.set_ybound(lower=0, upper=1000)\n",
    "\n",
    "ax.grid(which='major', color='lightgray', alpha=0.7, linestyle='-')     \n",
    "plt.legend(loc='center left', bbox_to_anchor=(1, 0.5), borderaxespad=0.5, frameon=True, prop=fp)\n",
    "\n",
    "plt.show()"
   ]
  },
  {
   "cell_type": "markdown",
   "metadata": {},
   "source": [
    "Example (Cooling):"
   ]
  },
  {
   "cell_type": "code",
   "execution_count": 44,
   "metadata": {},
   "outputs": [],
   "source": [
    "# 外気温度\n",
    "_theta_ex = 30\n",
    "# 蒸発温度\n",
    "_theta_ref_evp = 40"
   ]
  },
  {
   "cell_type": "code",
   "execution_count": 45,
   "metadata": {},
   "outputs": [
    {
     "data": {
      "text/plain": [
       "13.400000000000006"
      ]
     },
     "execution_count": 45,
     "metadata": {},
     "output_type": "execute_result"
    }
   ],
   "source": [
    "# 凝縮温度\n",
    "_theta_ref_cnd = _theta_ref_evp + 27.4 - 1.35 * _theta_ref_evp\n",
    "_theta_ref_cnd"
   ]
  },
  {
   "cell_type": "code",
   "execution_count": 46,
   "metadata": {},
   "outputs": [
    {
     "data": {
      "text/plain": [
       "-15.255199999999997"
      ]
     },
     "execution_count": 46,
     "metadata": {},
     "output_type": "execute_result"
    }
   ],
   "source": [
    "# 過冷却度\n",
    "_theta_ref_SC = 0.772 * _theta_ref_cnd - 25.6\n",
    "_theta_ref_SC"
   ]
  },
  {
   "cell_type": "code",
   "execution_count": 47,
   "metadata": {},
   "outputs": [
    {
     "data": {
      "text/plain": [
       "-1.2603999999999989"
      ]
     },
     "execution_count": 47,
     "metadata": {},
     "output_type": "execute_result"
    }
   ],
   "source": [
    "# 過熱度\n",
    "_theta_ref_SH = 0.194 * _theta_ref_cnd - 3.86\n",
    "_theta_ref_SH"
   ]
  },
  {
   "cell_type": "code",
   "execution_count": 48,
   "metadata": {},
   "outputs": [
    {
     "data": {
      "text/plain": [
       "1.1980347769573503"
      ]
     },
     "execution_count": 48,
     "metadata": {},
     "output_type": "execute_result"
    }
   ],
   "source": [
    "# 凝縮圧力\n",
    "_P_ref_cnd = P_ref_cnd(_theta_ref_cnd)\n",
    "_P_ref_cnd"
   ]
  },
  {
   "cell_type": "code",
   "execution_count": 49,
   "metadata": {},
   "outputs": [
    {
     "data": {
      "text/plain": [
       "2.418608624814519"
      ]
     },
     "execution_count": 49,
     "metadata": {},
     "output_type": "execute_result"
    }
   ],
   "source": [
    "# 蒸発圧力\n",
    "_P_ref_evp = P_ref_evp(_theta_ref_evp)\n",
    "_P_ref_evp"
   ]
  },
  {
   "cell_type": "code",
   "execution_count": 50,
   "metadata": {
    "scrolled": true
   },
   "outputs": [
    {
     "data": {
      "text/plain": [
       "28.6552"
      ]
     },
     "execution_count": 50,
     "metadata": {},
     "output_type": "execute_result"
    }
   ],
   "source": [
    "# 凝縮器出口温度\n",
    "_theta_ref_cnd_out = theta_ref_cnd_out(_theta_ref_cnd, _theta_ref_SC)\n",
    "_theta_ref_cnd_out"
   ]
  },
  {
   "cell_type": "code",
   "execution_count": 51,
   "metadata": {},
   "outputs": [
    {
     "data": {
      "text/plain": [
       "245.35910619978605"
      ]
     },
     "execution_count": 51,
     "metadata": {},
     "output_type": "execute_result"
    }
   ],
   "source": [
    "# 凝縮器出口比エンタルピー\n",
    "_h_ref_cnd_out = f_H_liq(_P_ref_cnd, _theta_ref_cnd_out)\n",
    "_h_ref_cnd_out"
   ]
  },
  {
   "cell_type": "code",
   "execution_count": 52,
   "metadata": {
    "scrolled": true
   },
   "outputs": [
    {
     "data": {
      "text/plain": [
       "38.7396"
      ]
     },
     "execution_count": 52,
     "metadata": {},
     "output_type": "execute_result"
    }
   ],
   "source": [
    "# 圧縮機吸込温度\n",
    "_theta_ref_comp_in = theta_ref_comp_in(_theta_ref_evp, _theta_ref_SH) \n",
    "_theta_ref_comp_in"
   ]
  },
  {
   "cell_type": "code",
   "execution_count": 53,
   "metadata": {},
   "outputs": [
    {
     "data": {
      "text/plain": [
       "2.418608624814519"
      ]
     },
     "execution_count": 53,
     "metadata": {},
     "output_type": "execute_result"
    }
   ],
   "source": [
    "# 圧縮機吸込圧力\n",
    "_P_ref_comp_in = P_ref_comp_in(_P_ref_evp)\n",
    "_P_ref_comp_in "
   ]
  },
  {
   "cell_type": "code",
   "execution_count": 54,
   "metadata": {},
   "outputs": [
    {
     "data": {
      "text/plain": [
       "425.74925303947106"
      ]
     },
     "execution_count": 54,
     "metadata": {},
     "output_type": "execute_result"
    }
   ],
   "source": [
    "# 圧縮機吸込比エンタルピー\n",
    "_h_ref_comp_in =f_H_gas_comp_in(_P_ref_comp_in, _theta_ref_comp_in)\n",
    "_h_ref_comp_in"
   ]
  },
  {
   "cell_type": "code",
   "execution_count": 55,
   "metadata": {},
   "outputs": [
    {
     "data": {
      "text/plain": [
       "1.8633094253424858"
      ]
     },
     "execution_count": 55,
     "metadata": {},
     "output_type": "execute_result"
    }
   ],
   "source": [
    "# 圧縮機吸込比エントロピー\n",
    "_S_ref_comp_in = f_S_gas(_P_ref_comp_in, _h_ref_comp_in)\n",
    "_S_ref_comp_in"
   ]
  },
  {
   "cell_type": "code",
   "execution_count": 56,
   "metadata": {},
   "outputs": [
    {
     "data": {
      "text/plain": [
       "1.8633094253424858"
      ]
     },
     "execution_count": 56,
     "metadata": {},
     "output_type": "execute_result"
    }
   ],
   "source": [
    "# 圧縮機吐出比エントロピー\n",
    "_S_ref_comp_out = S_ref_comp_out(_S_ref_comp_in)\n",
    "_S_ref_comp_out"
   ]
  },
  {
   "cell_type": "code",
   "execution_count": 57,
   "metadata": {},
   "outputs": [
    {
     "data": {
      "text/plain": [
       "1.1980347769573503"
      ]
     },
     "execution_count": 57,
     "metadata": {},
     "output_type": "execute_result"
    }
   ],
   "source": [
    "# 圧縮機吐出圧力\n",
    "_P_ref_comp_out = P_ref_comp_out(_P_ref_cnd)\n",
    "_P_ref_comp_out"
   ]
  },
  {
   "cell_type": "code",
   "execution_count": 58,
   "metadata": {},
   "outputs": [
    {
     "data": {
      "text/plain": [
       "448.1280405079308"
      ]
     },
     "execution_count": 58,
     "metadata": {},
     "output_type": "execute_result"
    }
   ],
   "source": [
    "# 圧縮機吐出比エンタルピー\n",
    "_h_ref_comp_out = f_H_gas_comp_out(_P_ref_comp_out, _S_ref_comp_out)\n",
    "_h_ref_comp_out"
   ]
  },
  {
   "cell_type": "code",
   "execution_count": 59,
   "metadata": {
    "scrolled": true
   },
   "outputs": [
    {
     "data": {
      "text/plain": [
       "8.060765003194373"
      ]
     },
     "execution_count": 59,
     "metadata": {},
     "output_type": "execute_result"
    }
   ],
   "source": [
    "# 冷房の理論効率\n",
    "_e_ref_C_th = e_ref_C_th(_h_ref_comp_in, _h_ref_comp_out, _h_ref_cnd_out)\n",
    "_e_ref_C_th "
   ]
  },
  {
   "cell_type": "code",
   "execution_count": 60,
   "metadata": {},
   "outputs": [],
   "source": [
    "def calc_e_ref_C_th(_theta_ref_evp, _theta_ref_cnd, _theta_ref_SC, _theta_ref_SH):\n",
    "    '''冷房の理論効率(-)を計算する。'''\n",
    "    # _theta_ref_evp：蒸発温度(℃)\n",
    "    # _theta_ref_cnd：凝縮温度(℃)\n",
    "    # _theta_ref_SC：過冷却度(℃)\n",
    "    # _theta_ref_SH：過熱度(℃)\n",
    "  \n",
    "    # 凝縮圧力(MPa)\n",
    "    _P_ref_cnd = P_ref_cnd(_theta_ref_cnd)\n",
    "    # 蒸発圧力(MPa)\n",
    "    _P_ref_evp = P_ref_evp(_theta_ref_evp)\n",
    "    \n",
    "    # 凝縮器出口温度(℃)\n",
    "    _theta_ref_cnd_out = theta_ref_cnd_out(_theta_ref_cnd, _theta_ref_SC)\n",
    "    # 凝縮器出口比エンタルピー(kJ/kg)\n",
    "    _h_ref_cnd_out = f_H_liq(_P_ref_cnd, _theta_ref_cnd_out)\n",
    "    \n",
    "    # 圧縮機吸込温度(℃)\n",
    "    _theta_ref_comp_in = theta_ref_comp_in(_theta_ref_evp, _theta_ref_SH) \n",
    "    # 圧縮機吸込圧力(MPa)\n",
    "    _P_ref_comp_in = P_ref_comp_in(_P_ref_evp)\n",
    "    # 圧縮機吸込比エンタルピー(kJ/kg)\n",
    "    _h_ref_comp_in =f_H_gas_comp_in(_P_ref_comp_in, _theta_ref_comp_in)\n",
    "    # 圧縮機吸込比エントロピー(kJ/(kg・K))\n",
    "    _S_ref_comp_in = f_S_gas(_P_ref_comp_in, _h_ref_comp_in)\n",
    "    \n",
    "    # 圧縮機吐出比エントロピー(kJ/(kg・K))\n",
    "    _S_ref_comp_out = S_ref_comp_out(_S_ref_comp_in)\n",
    "    # 圧縮機吐出圧力(MPa)\n",
    "    _P_ref_comp_out = P_ref_comp_out(_P_ref_cnd)\n",
    "    # 圧縮機吐出比エンタルピー(kJ/kg)\n",
    "    _h_ref_comp_out = f_H_gas_comp_out(_P_ref_comp_out, _S_ref_comp_out)\n",
    "    \n",
    "    # 冷房の理論効率(-)\n",
    "    _e_ref_C_th = e_ref_C_th(_h_ref_comp_in, _h_ref_comp_out, _h_ref_cnd_out)\n",
    "    \n",
    "    return _e_ref_C_th"
   ]
  },
  {
   "cell_type": "code",
   "execution_count": 61,
   "metadata": {},
   "outputs": [
    {
     "data": {
      "text/plain": [
       "8.060765003194373"
      ]
     },
     "execution_count": 61,
     "metadata": {},
     "output_type": "execute_result"
    }
   ],
   "source": [
    "calc_e_ref_C_th(_theta_ref_evp, _theta_ref_cnd, _theta_ref_SC, _theta_ref_SH)"
   ]
  },
  {
   "cell_type": "code",
   "execution_count": 62,
   "metadata": {},
   "outputs": [
    {
     "data": {
      "image/png": "[encoded data removed]",
      "text/plain": [
       "<matplotlib.figure.Figure at 0x1a12939c0b8>"
      ]
     },
     "metadata": {},
     "output_type": "display_data"
    }
   ],
   "source": [
    "# 出力結果\n",
    "plt.figure(figsize = (8, 3), dpi=80 )\n",
    "plt.subplot2grid((1, 1), (0, 0))\n",
    "plt.title('冷房の理論効率', fontdict={'fontproperties':fp})\n",
    "\n",
    "for i,theta_evp in enumerate([z for z in range(20, 50, 5)]):\n",
    "    x_values =[x for x in range(20, 45, 1)]\n",
    "    y_values = [calc_e_ref_C_th(theta_evp, \n",
    "                                (theta_ex + 27.4 - 1.35 * theta_evp), \n",
    "                                (0.772 * (theta_ex + 27.4 - 1.35 * theta_evp) - 25.6),\n",
    "                                (0.194 * (theta_ex + 27.4 - 1.35 * theta_evp) - 3.86)) for theta_ex in x_values]\n",
    "    plt.plot(x_values, y_values, label='蒸発温度 = '+str(theta_evp)+' ℃')\n",
    "        \n",
    "ax=plt.gca()\n",
    "ax.set_xlabel('外気温度(℃)', fontdict={'fontproperties':fp})\n",
    "ax.set_xticks([x for x in range(20, 45, 5)], minor=False)\n",
    "ax.set_xbound(lower=20, upper=40)\n",
    "\n",
    "ax.set_ylabel('冷房の理論効率(-)', fontdict={'fontproperties':fp})\n",
    "ax.set_yticks([y for y in range(0, 1100, 100)], minor=False)\n",
    "ax.set_ybound(lower=0, upper=1000)\n",
    "\n",
    "ax.grid(which='major', color='lightgray', alpha=0.7, linestyle='-')     \n",
    "plt.legend(loc='center left', bbox_to_anchor=(1, 0.5), borderaxespad=0.5, frameon=True, prop=fp)\n",
    "\n",
    "plt.show()"
   ]
  }
 ],
 "metadata": {
  "kernelspec": {
   "display_name": "Python 3",
   "language": "python",
   "name": "python3"
  },
  "language_info": {
   "codemirror_mode": {
    "name": "ipython",
    "version": 3
   },
   "file_extension": ".py",
   "mimetype": "text/x-python",
   "name": "python",
   "nbconvert_exporter": "python",
   "pygments_lexer": "ipython3",
   "version": "3.6.4"
  }
 },
 "nbformat": 4,
 "nbformat_minor": 2
}
