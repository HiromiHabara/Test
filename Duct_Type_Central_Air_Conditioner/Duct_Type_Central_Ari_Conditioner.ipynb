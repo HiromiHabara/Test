{
 "cells": [
  {
   "cell_type": "code",
   "execution_count": 1,
   "metadata": {},
   "outputs": [],
   "source": [
    "import numpy as np\n",
    "import math\n",
    "from enum import Enum\n",
    "from collections import namedtuple\n",
    "\n",
    "# matplotlib\n",
    "# ライブラリーのインポート\n",
    "import matplotlib.pyplot as plt\n",
    "# インライン表示\n",
    "%matplotlib inline\n",
    "\n",
    "# 日本語フォント\n",
    "import pylab\n",
    "from matplotlib.font_manager import FontProperties\n",
    "fp = FontProperties(fname='C:\\WINDOWS\\Fonts\\msgothic.ttc', size = 12)"
   ]
  },
  {
   "cell_type": "markdown",
   "metadata": {},
   "source": [
    "# 第四章　暖冷房設備"
   ]
  },
  {
   "cell_type": "markdown",
   "metadata": {},
   "source": [
    "# 第二節　ダクト式セントラル空調機"
   ]
  },
  {
   "cell_type": "markdown",
   "metadata": {},
   "source": [
    "## 1.　適用範囲"
   ]
  },
  {
   "cell_type": "markdown",
   "metadata": {},
   "source": [
    "本節でいう「ダクト式セントラル空調機」とは、ヒートポンプを熱源とし、専ら機外静圧を持った状態で運転されることを想定して、ダクト等により住戸全体を空調するように計画された家庭用の空調設備である。"
   ]
  },
  {
   "cell_type": "markdown",
   "metadata": {},
   "source": [
    "本計算方法は、以下を満たすダクト式セントラル空調機のエネルギー消費量及び最大出力について適用する。\n",
    "* 循環用送風機が室内機と一体として用意されている。\n",
    "* JIS B8616が定める定格暖房標準能力及び定格冷房標準能力の定義に基づき、JIS B 8615-2が定める性能試験により定格暖房能力及び定格消費電力、定格冷房能力及び定格冷房消費電力が測定されている。\n",
    "* サーモオフ機能が搭載されている。"
   ]
  },
  {
   "cell_type": "markdown",
   "metadata": {},
   "source": [
    "## 5.　最大暖房出力"
   ]
  },
  {
   "cell_type": "markdown",
   "metadata": {},
   "source": [
    "日付$d$の時刻$t$における1時間当たりの最大暖房出力$Q_{max,H,d,t}$は、式(1)により表される。"
   ]
  },
  {
   "cell_type": "markdown",
   "metadata": {},
   "source": [
    "$$ \n",
    "\\begin{equation*}\n",
    "    Q_{max,H,d,t} = q_{ac,H,rtd} \\times C_{df,d,t} \\times 3600 \\times 10^{-6}\n",
    "\\end{equation*}\n",
    "$$\n",
    "\n",
    "\n",
    "<div style=\"text-align: right;\"> (1) </div>"
   ]
  },
  {
   "cell_type": "markdown",
   "metadata": {},
   "source": [
    "ここで、  \n",
    "\n",
    "$Q_{max,H,d,t}$：日付$d$の時刻$t$における1時間当たりの最大暖房出力(MJ/h)  \n",
    "$q_{ac,H,rtd}$：空調機の定格暖房能力(W)  \n",
    "$C_{df,d,t}$：日付$d$の時刻$t$におけるデフロストに関する暖房出力補正係数(-)  \n",
    "\n",
    "である。"
   ]
  },
  {
   "cell_type": "markdown",
   "metadata": {},
   "source": [
    "空調機の定格暖房能力$q_{ac,H,rtd}$は、付録Aにより定まる。"
   ]
  },
  {
   "cell_type": "code",
   "execution_count": 2,
   "metadata": {},
   "outputs": [],
   "source": [
    "def Q_max_H(q_ac_H_rtd, C_df):\n",
    "    '''最大暖房出力(MJ/h)を計算する'''\n",
    "    # q_ac_H_rtd: 空調機の定格暖房能力(W)\n",
    "    # C_df: デフロストに関する暖房出力補正係数(-)\n",
    "\n",
    "    return q_ac_H_rtd * C_df * 3600 * 10**(-6)"
   ]
  },
  {
   "cell_type": "markdown",
   "metadata": {},
   "source": [
    "日付$d$の時刻$t$におけるデフロストに関する暖房出力補正係数$C_{df,d,t}$は、外気温度$\\theta_{ex,d,t}$が5℃未満かつ外気相対湿度$h_{ex,d,t}$が80%以上の場合にデフロストが発生するとして、式(2)により定まる。"
   ]
  },
  {
   "cell_type": "markdown",
   "metadata": {},
   "source": [
    "<p style=\"text-indent:2em\">外気温度$\\theta_{ex,d,t}$が5℃未満かつ外気相対湿度$h_{ex,d,t}$が80%以上の場合：</p>  \n",
    "$$ \n",
    "\\begin{equation*}\n",
    "   C_{df,d,t} = 0.77\n",
    "\\end{equation*}\n",
    "$$\n",
    "\n",
    "\n",
    "<div style=\"text-align: right;\"> (2-1) </div>"
   ]
  },
  {
   "cell_type": "markdown",
   "metadata": {},
   "source": [
    "<p style=\"text-indent:2em\">外気温度$\\theta_{ex,d,t}$が5℃以上かつ外気相対湿度$h_{ex,d,t}$が80%未満の場合：</p>  \n",
    "$$ \n",
    "\\begin{equation*}\n",
    "   C_{df,d,t} = 1.0\n",
    "\\end{equation*}\n",
    "$$\n",
    "\n",
    "\n",
    "<div style=\"text-align: right;\"> (2-2) </div>"
   ]
  },
  {
   "cell_type": "markdown",
   "metadata": {},
   "source": [
    "ここで、  \n",
    "\n",
    "$C_{df,d,t}$：日付$d$の時刻$t$におけるデフロストに関する暖房出力補正係数(-)  \n",
    "$h_{ex,d,t}$：日付$d$の時刻$t$における外気相対湿度(%)  \n",
    "$\\theta_{ex,d,t}$：日付$d$の時刻$t$における外気温度(℃)  \n",
    "\n",
    "である。"
   ]
  },
  {
   "cell_type": "code",
   "execution_count": 3,
   "metadata": {},
   "outputs": [],
   "source": [
    "def get_C_df(theta_ex, h_ex):\n",
    "    '''デフロストに関する暖房出力補正係数(-)を取得する'''\n",
    "    # theta_ex: 外気温度(℃)\n",
    "    # h_ex: 外気相対湿度(%)\n",
    "    \n",
    "    if theta_ex < 5 and 80<= h_ex:\n",
    "        return  0.77\n",
    "    else:\n",
    "        return  1.0"
   ]
  },
  {
   "cell_type": "markdown",
   "metadata": {},
   "source": [
    "Example："
   ]
  },
  {
   "cell_type": "code",
   "execution_count": 4,
   "metadata": {
    "scrolled": true
   },
   "outputs": [
    {
     "data": {
      "text/plain": [
       "array([[1.  , 0.77, 0.77],\n",
       "       [1.  , 1.  , 1.  ],\n",
       "       [1.  , 1.  , 1.  ]])"
      ]
     },
     "execution_count": 4,
     "metadata": {},
     "output_type": "execute_result"
    }
   ],
   "source": [
    "np.vectorize(get_C_df)([[4],[5],[6]],[79,80,81])"
   ]
  },
  {
   "cell_type": "markdown",
   "metadata": {},
   "source": [
    "Example："
   ]
  },
  {
   "cell_type": "code",
   "execution_count": 5,
   "metadata": {},
   "outputs": [
    {
     "data": {
      "text/plain": [
       "3.5999999999999996"
      ]
     },
     "execution_count": 5,
     "metadata": {},
     "output_type": "execute_result"
    }
   ],
   "source": [
    "Q_max_H(1000, get_C_df(20, 70))"
   ]
  },
  {
   "cell_type": "code",
   "execution_count": 6,
   "metadata": {},
   "outputs": [
    {
     "data": {
      "image/png": "[encoded data removed]",
      "text/plain": [
       "<Figure size 640x240 with 1 Axes>"
      ]
     },
     "metadata": {
      "needs_background": "light"
     },
     "output_type": "display_data"
    }
   ],
   "source": [
    "# 出力結果\n",
    "plt.figure(figsize = (8, 3), dpi=80 )\n",
    "plt.subplot2grid((1, 1), (0, 0))\n",
    "plt.title('最大暖房出力', fontdict={'fontproperties':fp})\n",
    "\n",
    "for i,category in enumerate(['補正なし','補正あり']):\n",
    "    x_values =[x for x in range(0, 10000)]\n",
    "    y_values = {'補正なし' :[Q_max_H(x, get_C_df(20, 70)) for x in x_values],\n",
    "                '補正あり' :[Q_max_H(x, get_C_df( 0, 90)) for x in x_values]}[category]\n",
    "    plt.plot(x_values, y_values, label='デフロストに関する' + category)\n",
    "        \n",
    "ax=plt.gca()\n",
    "ax.set_xlabel('定格暖房能力(W)', fontdict={'fontproperties':fp})\n",
    "ax.set_xticks([x for x in range(0, 11000, 1000)], minor=False)\n",
    "ax.set_xbound(lower=0, upper=10000)\n",
    "\n",
    "ax.set_ylabel('最大暖房出力(MJ/h)', fontdict={'fontproperties':fp})\n",
    "ax.set_yticks([y for y in range(0, 60, 10)], minor=False)\n",
    "ax.set_ybound(lower=0, upper=50)\n",
    "\n",
    "ax.grid(which='major', color='lightgray', alpha=0.7, linestyle='-')     \n",
    "plt.legend(loc='center left', bbox_to_anchor=(1, 0.5), borderaxespad=0.5, frameon=True, prop=fp)\n",
    "\n",
    "plt.show()"
   ]
  },
  {
   "cell_type": "markdown",
   "metadata": {},
   "source": [
    "## 6.　暖房エネルギー消費量"
   ]
  },
  {
   "cell_type": "markdown",
   "metadata": {},
   "source": [
    "### 6.1　消費電力量"
   ]
  },
  {
   "cell_type": "markdown",
   "metadata": {},
   "source": [
    "日付$d$の時刻$t$における1時間当たりの暖房の消費電力量$E_{E,H,d,t}$は、式(3)により表される。"
   ]
  },
  {
   "cell_type": "markdown",
   "metadata": {},
   "source": [
    "$$ \n",
    "\\begin{equation*}\n",
    "    E_{E,H,d,t} = E_{E,comp,H,d,t} + E_{E,fan,H,d,t} \n",
    "\\end{equation*}\n",
    "$$\n",
    "\n",
    "\n",
    "<div style=\"text-align: right;\"> (3) </div>"
   ]
  },
  {
   "cell_type": "markdown",
   "metadata": {},
   "source": [
    "ここで、  \n",
    "\n",
    "$E_{E,fan,H,d,t}$：日付$d$の時刻$t$における1時間当たりの送風機の消費電力量のうちの暖房設備への付加分(kWh/h)  \n",
    "$E_{E,comp,H,d,t}$：日付$d$の時刻$t$における暖房時の1時間当たりの圧縮機の消費電力量(kWh/h)  \n",
    "$E_{E,H,d,t}$：日付$d$の時刻$t$における1時間当たりの暖房の消費電力量(kWh/h)  \n",
    "\n",
    "である。"
   ]
  },
  {
   "cell_type": "code",
   "execution_count": 7,
   "metadata": {},
   "outputs": [],
   "source": [
    "def E_E_H(E_E_comp_H, E_E_fan_H):\n",
    "    '''暖房の消費電力量(kWh/h)を計算する'''\n",
    "    # E_E_comp_H：圧縮機の消費電力量(kWh/h)  \n",
    "    # E_E_fan_H：送風機の消費電力量(kWh/h)\n",
    "    \n",
    "    return E_E_comp_H + E_E_fan_H"
   ]
  },
  {
   "cell_type": "markdown",
   "metadata": {},
   "source": [
    "### 6.2　ガス消費量"
   ]
  },
  {
   "cell_type": "markdown",
   "metadata": {},
   "source": [
    "（省略）"
   ]
  },
  {
   "cell_type": "markdown",
   "metadata": {},
   "source": [
    "### 6.3　石油消費量"
   ]
  },
  {
   "cell_type": "markdown",
   "metadata": {},
   "source": [
    "（省略）"
   ]
  },
  {
   "cell_type": "markdown",
   "metadata": {},
   "source": [
    "### 6.4　その他の燃料による一次エネルギー消費量"
   ]
  },
  {
   "cell_type": "markdown",
   "metadata": {},
   "source": [
    "（省略）"
   ]
  },
  {
   "cell_type": "markdown",
   "metadata": {},
   "source": [
    "## 7.　最大冷房出力"
   ]
  },
  {
   "cell_type": "markdown",
   "metadata": {},
   "source": [
    "（工事中）"
   ]
  },
  {
   "cell_type": "markdown",
   "metadata": {},
   "source": [
    "## 8.　冷房エネルギー消費量"
   ]
  },
  {
   "cell_type": "markdown",
   "metadata": {},
   "source": [
    "（工事中）"
   ]
  },
  {
   "cell_type": "markdown",
   "metadata": {},
   "source": [
    "## 9.　換気エネルギー消費量"
   ]
  },
  {
   "cell_type": "markdown",
   "metadata": {},
   "source": [
    "（工事中）"
   ]
  },
  {
   "cell_type": "markdown",
   "metadata": {},
   "source": [
    "## 10.　圧縮機"
   ]
  },
  {
   "cell_type": "markdown",
   "metadata": {},
   "source": [
    "### 10.1　消費電力量"
   ]
  },
  {
   "cell_type": "markdown",
   "metadata": {},
   "source": [
    "#### 10.1.1　暖房"
   ]
  },
  {
   "cell_type": "markdown",
   "metadata": {},
   "source": [
    "日付$d$の時刻$t$における暖房時の1時間当たりの圧縮機の消費電力量$E_{E,comp,H,d,t}$は、式(4)により表される。"
   ]
  },
  {
   "cell_type": "markdown",
   "metadata": {},
   "source": [
    "$$ \n",
    "\\begin{equation*}\n",
    "    E_{E,comp,H,d,t} = \\frac{{Q_{hs,H,d,t} \\div \\left(3600 \\times 10^{-3} \\right)}} {\\eta_{H,d,t} \\times e_{th,H,d,t} \\times C_{df,d,t}}\n",
    "\\end{equation*}\n",
    "$$\n",
    "\n",
    "\n",
    "<div style=\"text-align: right;\"> (4) </div>"
   ]
  },
  {
   "cell_type": "markdown",
   "metadata": {},
   "source": [
    "ここで、  \n",
    "\n",
    "$C_{df,d,t}$：日付$d$の時刻$t$におけるデフロストに関する暖房出力補正係数(-)  \n",
    "$E_{E,comp,H,d,t}$：日付$d$の時刻$t$における暖房時の1時間当たりの圧縮機の消費電力量(kWh/h)  \n",
    "$e_{th,H,d,t}$：日付$d$の時刻$t$における冷凍サイクルの理論暖房効率(-)  \n",
    "$Q_{hs,H,d,t}$：日付$d$の時刻$t$における1時間当たりの熱源機の暖房出力(MJ/h)  \n",
    "$\\eta_{H,d,t}$：日付$d$の時刻$t$における暖房時の圧縮機の圧縮効率(-)  \n",
    "\n",
    "である。"
   ]
  },
  {
   "cell_type": "markdown",
   "metadata": {},
   "source": [
    "日付$d$の時刻$t$における冷凍サイクルの理論暖房効率$e_{th,H,d,t}$は、付録Dにより計算される値とする。"
   ]
  },
  {
   "cell_type": "code",
   "execution_count": 8,
   "metadata": {},
   "outputs": [],
   "source": [
    "def E_E_comp_H(Q_hs_H, e_th_H, eta_H, C_df):\n",
    "    '''暖房時の圧縮機の消費電力量(kWh/h)を計算する'''\n",
    "    # Q_hs_H：熱源機の暖房出力(MJ/h)  \n",
    "    # e_th_H：冷凍サイクルの理論暖房効率(-)  \n",
    "    # eta_H：暖房時の圧縮機の圧縮効率(-)  \n",
    "    # C_df: デフロストに関する暖房出力補正係数(-)\n",
    "    \n",
    "    # 単位換算：MJ/h => kW\n",
    "    Q_hs_H_kWat = Q_hs_H / (3600 * 10**(-3))\n",
    "    \n",
    "    return Q_hs_H_kWat / (eta_H * e_th_H * C_df)"
   ]
  },
  {
   "cell_type": "markdown",
   "metadata": {},
   "source": [
    "#### 10.1.2　冷房"
   ]
  },
  {
   "cell_type": "markdown",
   "metadata": {},
   "source": [
    "（工事中）"
   ]
  },
  {
   "cell_type": "markdown",
   "metadata": {},
   "source": [
    "### 10.2　圧縮効率"
   ]
  },
  {
   "cell_type": "markdown",
   "metadata": {},
   "source": [
    "#### 10.2.1　暖房"
   ]
  },
  {
   "cell_type": "markdown",
   "metadata": {},
   "source": [
    "日付$d$の時刻$t$における暖房時の圧縮機の圧縮効率$\\eta_{H,d,t}$は、熱源機の暖房出力$Q_{hs,H,d,t}$が空調機の定格暖房能力$q_{ac,H,rtd}$を超える範囲では0.4を下限として、式(6)により表される。"
   ]
  },
  {
   "cell_type": "markdown",
   "metadata": {},
   "source": [
    "<p style=\"text-indent:2em\">$Q_{hs,H,d,t} \\div \\left( 3600 \\times 10^{-6} \\right) \\leq q_{ac,H,min}$の場合：</p> \n",
    "$$ \n",
    "\\begin{equation*}\n",
    "    \\eta_{H,d,t} = \\eta_{H,min} - \\left\\{ q_{ac,H,min} - Q_{hs,H,d,t} \\div \\left( 3600 \\times 10^{-6} \\right) \\right\\} \\times \\frac{\\eta_{H,min}}{q_{ac,H,min}}\n",
    "\\end{equation*}\n",
    "$$\n",
    "\n",
    "<div style=\"text-align: right;\"> (6-1) </div>"
   ]
  },
  {
   "cell_type": "markdown",
   "metadata": {},
   "source": [
    "<p style=\"text-indent:2em\">$q_{ac,H,min} < Q_{hs,H,d,t} \\div \\left( 3600 \\times 10^{-6} \\right) \\leq q_{ac,H,mid} $の場合：</p> \n",
    "$$ \n",
    "\\begin{equation*}\n",
    "    \\eta_{H,d,t} = \\eta_{H,mid} - \\left\\{ q_{ac,H,mid} - Q_{hs,H,d,t} \\div \\left( 3600 \\times 10^{-6} \\right) \\right\\} \\times \\frac{\\eta_{H,mid} - \\eta_{H,min}}{q_{ac,H,mid} - q_{ac,H,min}}\n",
    "\\end{equation*}\n",
    "$$\n",
    "\n",
    "<div style=\"text-align: right;\"> (6-2) </div>"
   ]
  },
  {
   "cell_type": "markdown",
   "metadata": {},
   "source": [
    "<p style=\"text-indent:2em\">$q_{ac,H,mid} < Q_{hs,H,d,t} \\div \\left( 3600 \\times 10^{-6} \\right) \\leq q_{ac,H,rtd} $の場合：</p> \n",
    "$$ \n",
    "\\begin{equation*}\n",
    "    \\eta_{H,d,t} = \\eta_{H,rtd} - \\left\\{ q_{ac,H,rtd} - Q_{hs,H,d,t} \\div \\left( 3600 \\times 10^{-6} \\right) \\right\\} \\times \\frac{\\eta_{H,rtd} - \\eta_{H,mid}}{q_{ac,H,rtd} - q_{ac,H,mid}}\n",
    "\\end{equation*}\n",
    "$$\n",
    "\n",
    "<div style=\"text-align: right;\"> (6-3) </div>"
   ]
  },
  {
   "cell_type": "markdown",
   "metadata": {},
   "source": [
    "<p style=\"text-indent:2em\">$q_{ac,H,rtd} < Q_{hs,H,d,t} \\div \\left( 3600 \\times 10^{-6} \\right)$の場合：</p> \n",
    "$$ \n",
    "\\begin{equation*}\n",
    "    \\eta_{H,d,t} = max \\left( 0.4, \\: \\eta_{H,rtd} - \\left\\{ Q_{hs,H,d,t} \\div \\left( 3600 \\times 10^{-6} \\right) - q_{ac,H,rtd} \\right\\} \\times \\frac{\\eta_{H,rtd}}{q_{ac,H,rtd}} \\right)\n",
    "\\end{equation*}\n",
    "$$\n",
    "\n",
    "<div style=\"text-align: right;\"> (6-4) </div>"
   ]
  },
  {
   "cell_type": "markdown",
   "metadata": {},
   "source": [
    "ここで、  \n",
    "\n",
    "$Q_{hs,H,d,t}$：日付$d$の時刻$t$における1時間当たりの熱源機の暖房出力(MJ/h)   \n",
    "$\\eta_{H,d,t}$：日付$d$の時刻$t$における暖房時の圧縮機の圧縮機の圧縮効率(-)  \n",
    "$\\eta_{H,mid}$：中間暖房能力運転時における圧縮機の圧縮効率(-)  \n",
    "$\\eta_{H,min}$：最小暖房能力運転時における圧縮機の圧縮効率(-)  \n",
    "$\\eta_{H,rtd}$：定格暖房能力運転時における圧縮機の圧縮効率(-)   \n",
    "$q_{ac,H,mid}$：空調機の中間暖房能力(W)   \n",
    "$q_{ac,H,min}$：空調機の最小暖房能力(W)   \n",
    "$q_{ac,H,rtd}$：空調機の定格暖房能力(W) \n",
    "\n",
    "である。"
   ]
  },
  {
   "cell_type": "markdown",
   "metadata": {},
   "source": [
    "空調機の最小暖房能力$q_{ac,H,min}$、空調機の中間暖房能力$q_{ac,H,mid}$及び空調機の定格暖房能力$q_{ac,H,rtd}$は、付録Aにより定まる。"
   ]
  },
  {
   "cell_type": "code",
   "execution_count": 9,
   "metadata": {},
   "outputs": [],
   "source": [
    "def eta_H(Q_hs_H, eta_H_min, eta_H_mid, eta_H_rtd, q_ac_H_min, q_ac_H_mid, q_ac_H_rtd):\n",
    "    '''最小・中間・定格運転時における圧縮機の圧縮効率から当該時刻の値を外挿する'''\n",
    "    # Q_hs_H：熱源機の暖房出力(MJ/h)\n",
    "    # eta_H_min：最小暖房能力運転時における圧縮機の圧縮効率(-)\n",
    "    # eta_H_mid：中間暖房能力運転時における圧縮機の圧縮効率(-)\n",
    "    # eta_H_rtd：定格暖房能力運転時における圧縮機の圧縮効率(-)\n",
    "    # q_ac_H_min：空調機の最小暖房能力(W)\n",
    "    # q_ac_H_mid：空調機の中間暖房能力(W)\n",
    "    # q_ac_H_rtd：空調機の定格暖房能力(W)\n",
    "    \n",
    "    # 単位換算：MJ/h => W\n",
    "    Q_hs_H_Wat = Q_hs_H / (3600 * 10**(-6))\n",
    "    \n",
    "    if Q_hs_H_Wat <= q_ac_H_min:\n",
    "        return eta_H_min - (q_ac_H_min - Q_hs_H_Wat) * eta_H_min / q_ac_H_min\n",
    "    elif q_ac_H_min < Q_hs_H_Wat and Q_hs_H_Wat <= q_ac_H_mid:\n",
    "        return eta_H_mid - (q_ac_H_mid - Q_hs_H_Wat) * (eta_H_mid - eta_H_min) / (q_ac_H_mid - q_ac_H_min)\n",
    "    elif q_ac_H_mid < Q_hs_H_Wat and Q_hs_H_Wat <= q_ac_H_rtd:\n",
    "        return eta_H_rtd - (q_ac_H_rtd - Q_hs_H_Wat) * (eta_H_rtd - eta_H_mid) / (q_ac_H_rtd - q_ac_H_mid)\n",
    "    elif q_ac_H_rtd < Q_hs_H_Wat:\n",
    "        return max(0.4, eta_H_rtd - (Q_hs_H_Wat - q_ac_H_rtd) * eta_H_rtd / q_ac_H_rtd)\n",
    "    \n",
    "    else:\n",
    "        raise Exeption"
   ]
  },
  {
   "cell_type": "code",
   "execution_count": 10,
   "metadata": {},
   "outputs": [
    {
     "data": {
      "image/png": "[encoded data removed]",
      "text/plain": [
       "<Figure size 640x320 with 1 Axes>"
      ]
     },
     "metadata": {
      "needs_background": "light"
     },
     "output_type": "display_data"
    }
   ],
   "source": [
    "# 算出イメージ\n",
    "plt.figure(figsize = (8, 4), dpi=80 )\n",
    "plt.subplot2grid((1, 1), (0, 0))\n",
    "plt.title('算出イメージ', fontdict={'fontproperties':fp})\n",
    "\n",
    "q_rtd = 1\n",
    "eta_rtd = 0.8\n",
    "x_values =np.arange(0, 2.2, 0.05)\n",
    "y_values =[eta_H(Q_hs_H*(3600 * 10**(-6)), eta_rtd*0.65, eta_rtd*0.95, eta_rtd, q_rtd*0.35, q_rtd*0.5, q_rtd) for Q_hs_H in x_values]\n",
    "plt.plot(x_values, y_values)\n",
    "\n",
    "        \n",
    "ax=plt.gca()\n",
    "ax.set_xlabel('熱源機の暖房出力(W)', fontdict={'fontproperties':fp})\n",
    "ax.set_xticks([0, q_rtd*0.35, q_rtd*0.5, q_rtd, q_rtd*1.5, q_rtd*2.0], minor=False)\n",
    "ax.set_xticklabels(['0', 'q_min', 'q_mid', 'q_rtd', '1.5×q_rtd', '2.0×q_rtd'], minor=False)\n",
    "ax.set_xbound(lower=0, upper=2)\n",
    "\n",
    "ax.set_ylabel('圧縮機の圧縮効率(-)', fontdict={'fontproperties':fp})\n",
    "ax.set_yticks([0, eta_rtd*0.65, eta_rtd*0.95, eta_rtd, 0.4], minor=False)\n",
    "ax.set_yticklabels(['0', 'eta_min', 'eta_mid', 'eta_rtd', '0.4'])\n",
    "ax.set_ybound(lower=0, upper=1)\n",
    "\n",
    "ax.grid(which='major', color='lightgray', alpha=0.7, linestyle='-')     \n",
    "\n",
    "plt.show()"
   ]
  },
  {
   "cell_type": "markdown",
   "metadata": {},
   "source": [
    "定格暖房能力運転時における圧縮機の圧縮効率$\\eta_{H,rtd}$は、式(7a)により表される。"
   ]
  },
  {
   "cell_type": "markdown",
   "metadata": {},
   "source": [
    "$$ \n",
    "\\begin{equation*}\n",
    "    \\eta_{H,rtd} = \\frac{e_{H,rtd}}{e_{th,H,rtd}}\n",
    "\\end{equation*}\n",
    "$$\n",
    "\n",
    "<div style=\"text-align: right;\"> (7a-1) </div>"
   ]
  },
  {
   "cell_type": "markdown",
   "metadata": {},
   "source": [
    "ここで、  \n",
    "\n",
    "$e_{H,rtd}$：定格暖房能力運転時における暖房効率(-)  \n",
    "$e_{th,H,rtd}$：定格暖房能力運転時における冷凍サイクルの理論暖房効率(-)  \n",
    "$\\eta_{H,rtd}$：定格暖房能力運転時における圧縮機の圧縮効率(-)   \n",
    "\n",
    "である。"
   ]
  },
  {
   "cell_type": "markdown",
   "metadata": {},
   "source": [
    "定格暖房能力運転時における冷凍サイクルの理論暖房効率$e_{th,H,rtd}$は、付録Dにより計算される値とする。"
   ]
  },
  {
   "cell_type": "markdown",
   "metadata": {},
   "source": [
    "中間暖房能力運転時における圧縮機の圧縮効率$\\eta_{H,mid}$は、空調機の中間暖房能力$q_{ac,H,mid}$及び中間暖房消費電力$P_{ac,H,mid}$にJIS B8616が定める中間暖房標準能力の定義に基づき、JIS B 8615-2が定める性能試験により得られる値を用るか否かに応じて、式(7b)により表される。"
   ]
  },
  {
   "cell_type": "markdown",
   "metadata": {},
   "source": [
    "<p style=\"text-indent:2em\">JIS性能試験により得られる値を用いる場合：</p>  \n",
    "$$ \n",
    "\\begin{equation*}\n",
    "    \\eta_{H,mid} = \\frac{e_{H,mid}}{e_{th,H,mid}}\n",
    "\\end{equation*}\n",
    "$$\n",
    "\n",
    "<div style=\"text-align: right;\"> (7b-1) </div>"
   ]
  },
  {
   "cell_type": "markdown",
   "metadata": {},
   "source": [
    "<p style=\"text-indent:2em\">JIS性能試験により得られる値を用いない場合：</p>  \n",
    "$$ \n",
    "\\begin{equation*}\n",
    "    \\eta_{H,mid} = \\eta_{H,rtd} \\times 0.95 \n",
    "\\end{equation*}\n",
    "$$\n",
    "\n",
    "<div style=\"text-align: right;\"> (7b-2) </div>"
   ]
  },
  {
   "cell_type": "markdown",
   "metadata": {},
   "source": [
    "ここで、  \n",
    "\n",
    "$e_{H,mid}$：中間暖房能力運転時における暖房効率(-)  \n",
    "$e_{th,H,mid}$：中間暖房能力運転時における冷凍サイクルの理論暖房効率(-)  \n",
    "$\\eta_{H,mid}$：中間暖房能力運転時における圧縮機の圧縮効率(-)  \n",
    "$\\eta_{H,rtd}$：定格暖房能力運転時における圧縮機の圧縮効率(-)   \n",
    "\n",
    "である。"
   ]
  },
  {
   "cell_type": "markdown",
   "metadata": {},
   "source": [
    "中間暖房能力運転時における冷凍サイクルの理論暖房効率$e_{th,H,mid}$は、付録Dにより計算される値とする。"
   ]
  },
  {
   "cell_type": "markdown",
   "metadata": {},
   "source": [
    "最小暖房能力運転時における圧縮機の圧縮効率$\\eta_{H,min}$は、空調機の最小暖房能力$q_{ac,H,min}$及び最小暖房消費電力$P_{ac,H,min}$にJIS B8616が定める最小暖房標準能力の定義に基づき、JIS B 8615-2が定める性能試験により得られる値を用いるか否かに応じて、式(7c)により表される。"
   ]
  },
  {
   "cell_type": "markdown",
   "metadata": {},
   "source": [
    "<p style=\"text-indent:2em\">JIS性能試験により得られる値を用いる場合：</p>  \n",
    "$$ \n",
    "\\begin{equation*}\n",
    "    \\eta_{H,min} = \\frac{e_{H,min}}{e_{th,H,min}}\n",
    "\\end{equation*}\n",
    "$$\n",
    "\n",
    "<div style=\"text-align: right;\"> (7c-1) </div>"
   ]
  },
  {
   "cell_type": "markdown",
   "metadata": {},
   "source": [
    "<p style=\"text-indent:2em\">JIS性能試験により得られる値を用いない場合：</p>  \n",
    "$$ \n",
    "\\begin{equation*}\n",
    "    \\eta_{H,min} = \\eta_{H,rtd} \\times 0.65 \n",
    "\\end{equation*}\n",
    "$$\n",
    "\n",
    "<div style=\"text-align: right;\"> (7c-2) </div>"
   ]
  },
  {
   "cell_type": "markdown",
   "metadata": {},
   "source": [
    "ここで、  \n",
    "\n",
    "$e_{H,min}$：最小暖房能力運転時における暖房効率(-)  \n",
    "$e_{th,H,min}$：最小暖房能力運転時における冷凍サイクルの理論暖房効率(-)  \n",
    "$\\eta_{H,min}$：最小暖房能力運転時における圧縮機の圧縮効率(-)  \n",
    "$\\eta_{H,rtd}$：定格暖房能力運転時における圧縮機の圧縮効率(-)   \n",
    "\n",
    "である。"
   ]
  },
  {
   "cell_type": "markdown",
   "metadata": {},
   "source": [
    "最小暖房能力運転時における冷凍サイクルの理論暖房効率$e_{th,H,min}$は、付録Dにより計算される値とする。"
   ]
  },
  {
   "cell_type": "code",
   "execution_count": 11,
   "metadata": {},
   "outputs": [],
   "source": [
    "def eta_H_rtd(e_H_rtd, e_th_H_rtd):\n",
    "    '''定格能力運転時における圧縮機の圧縮効率を計算する'''\n",
    "    # e_H_rtd：定格能力運転時におけ暖房効率(-)\n",
    "    # e_th_H_rtd：定格能力運転時における冷凍サイクルの理論暖房効率(-)\n",
    "    \n",
    "    return e_H_rtd / e_th_H_rtd"
   ]
  },
  {
   "cell_type": "code",
   "execution_count": 12,
   "metadata": {},
   "outputs": [],
   "source": [
    "def eta_H_mid(e_H_mid, e_th_H_mid, eta_H_rtd, JIS_test_mid):\n",
    "    '''中間能力運転時における圧縮機の圧縮効率を計算する'''\n",
    "    # e_H_mid：中間能力運転時におけ暖房効率(-)\n",
    "    # e_th_H_mid：中間能力運転時における冷凍サイクルの理論暖房効率(-)\n",
    "    # e_th_H_rtd：定格能力運転時における冷凍サイクルの理論暖房効率(-)\n",
    "    # JIS_test_mid:JIS試験値を用いるか否か[True：JIS試験値を用いる、False：JIS試験値を用いない](Boolean型)\n",
    "\n",
    "    if JIS_test_mid is True:\n",
    "        return e_H(q_ac_H_mid, P_ac_H_mid, P_fan_H_mid) / e_th_H_mid\n",
    "    else:\n",
    "        return eta_H_rtd * 0.95"
   ]
  },
  {
   "cell_type": "code",
   "execution_count": 13,
   "metadata": {},
   "outputs": [],
   "source": [
    "def eta_H_min(Spec, e_H_min, e_th_H_min, eta_H_rtd, JIS_test_min):\n",
    "    '''最小能力運転時における圧縮機の圧縮効率を計算する'''\n",
    "    # e_H_min：最小能力運転時におけ暖房効率(-)\n",
    "    # e_th_H_min：最小能力運転時における冷凍サイクルの理論暖房効率(-)\n",
    "    # e_th_H_rtd：定格能力運転時における冷凍サイクルの理論暖房効率(-)\n",
    "    # JIS_test_min:JIS試験値を用いるか否か[True：JIS試験値を用いる、False：JIS試験値を用いない](Boolean型)\n",
    "\n",
    "    if JIS_test_min is True:\n",
    "        return  e_H(q_ac_H_min, P_ac_H_min, P_fan_H_min) / e_th_H_min\n",
    "    else:\n",
    "        return eta_H_rtd * 0.65"
   ]
  },
  {
   "cell_type": "markdown",
   "metadata": {},
   "source": [
    "定格暖房能力運転時における暖房効率$e_{H,rtd}$、中間暖房能力運転時における暖房効率$e_{H,mid}$、最小暖房能力運転時における暖房効率$e_{H,min}$は、式(8)により表される。"
   ]
  },
  {
   "cell_type": "markdown",
   "metadata": {},
   "source": [
    "$$ \n",
    "\\begin{equation*}\n",
    "    e_{H,rtd} = \\frac{q_{ac,H,rtd}}{P_{ac,H,rtd} - P_{fan,H,rtd}}\n",
    "\\end{equation*}\n",
    "$$\n",
    "\n",
    "<div style=\"text-align: right;\"> (8a) </div>"
   ]
  },
  {
   "cell_type": "markdown",
   "metadata": {},
   "source": [
    "$$ \n",
    "\\begin{equation*}\n",
    "    e_{H,mid} = \\frac{q_{ac,H,mid}}{P_{ac,H,mid} - P_{fan,H,mid}}\n",
    "\\end{equation*}\n",
    "$$\n",
    "\n",
    "<div style=\"text-align: right;\"> (8b) </div>"
   ]
  },
  {
   "cell_type": "markdown",
   "metadata": {},
   "source": [
    "$$ \n",
    "\\begin{equation*}\n",
    "    e_{H,min} = \\frac{q_{ac,H,min}}{P_{ac,H,min} - P_{fan,H,min}}\n",
    "\\end{equation*}\n",
    "$$\n",
    "\n",
    "<div style=\"text-align: right;\"> (8c) </div>"
   ]
  },
  {
   "cell_type": "markdown",
   "metadata": {},
   "source": [
    "ここで、  \n",
    "\n",
    "$e_{H,mid}$：中間暖房能力運転時における暖房効率(-)  \n",
    "$e_{H,min}$：最小暖房能力運転時における暖房効率(-)  \n",
    "$e_{H,rtd}$：定格暖房能力運転時における暖房効率(-)  \n",
    "$P_{ac,H,mid}$：空調機の中間暖房消費電力(W)   \n",
    "$P_{ac,H,min}$：空調機の最小暖房消費電力(W)   \n",
    "$P_{ac,H,rtd}$：空調機の定格暖房消費電力(W)   \n",
    "$P_{fan,H,mid}$：中間暖房能力運転時における送風機の消費電力(W)   \n",
    "$P_{fan,H,min}$：最小暖房能力運転時における送風機の消費電力(W)   \n",
    "$P_{fan,H,rtd}$：定格暖房能力運転時における送風機の消費電力(W)   \n",
    "$q_{ac,H,mid}$：空調機の中間暖房能力(W)   \n",
    "$q_{ac,H,min}$：空調機の最小暖房能力(W)   \n",
    "$q_{ac,H,rtd}$：空調機の定格暖房能力(W) \n",
    "\n",
    "である。"
   ]
  },
  {
   "cell_type": "markdown",
   "metadata": {},
   "source": [
    "空調機の定格暖房能力$q_{ac,H,rtd}$及び定格暖房消費電力$P_{ac,H,rtd}$、空調機の中間暖房能力$q_{ac,H,mid}$及び中間暖房消費電力$P_{ac,H,mid}$、空調機の最小暖房能力$q_{ac,H,min}$及び最小暖房消費電力$P_{ac,H,min}$、定格暖房能力運転時における送風機の消費電力$P_{fan,H,rtd}$、中間暖房能力運転時における送風機の消費電力$P_{fan,H,mid}$及び最小暖房能力運転時における送風機の消費電力$P_{fan,H,min}$は、付録Aにより定まる。"
   ]
  },
  {
   "cell_type": "code",
   "execution_count": 14,
   "metadata": {},
   "outputs": [],
   "source": [
    "def e_H_op(q_ac_H_op, P_ac_H_op, P_fan_H_op):\n",
    "    '''暖房効率を計算する'''\n",
    "    # q_ac_H_op：空調機の暖房能力(W)\n",
    "    # P_ac_H_op：暖房能力q_ac_H_opによる運転時における空調機の消費電力(W)\n",
    "    # P_fan_H_op：暖房能力q_ac_H_opによる運転時における送風機の消費電力(W)\n",
    "    \n",
    "    return q_ac_H_op / (P_ac_H_op - P_fan_H_op)"
   ]
  },
  {
   "cell_type": "markdown",
   "metadata": {},
   "source": [
    "#### 10.2.2　冷房"
   ]
  },
  {
   "cell_type": "markdown",
   "metadata": {},
   "source": [
    "（工事中）"
   ]
  },
  {
   "cell_type": "markdown",
   "metadata": {},
   "source": [
    "### 10.3　冷凍サイクルの理論効率"
   ]
  },
  {
   "cell_type": "markdown",
   "metadata": {},
   "source": [
    "#### 10.3.1　暖房"
   ]
  },
  {
   "cell_type": "markdown",
   "metadata": {},
   "source": [
    "冷凍サイクルの理論暖房効率$e_{th,H}$は、式(9)により表される蒸発温度$\\theta_{ref,evp}$、凝縮温度$\\theta_{ref,cnd}$、過冷却度$\\theta_{ref,SC}$、過熱度$\\theta_{ref,SH}$から、付録Dの算定方法により求まる。"
   ]
  },
  {
   "cell_type": "markdown",
   "metadata": {},
   "source": [
    "$$ \n",
    "\\begin{equation*} \n",
    "    \\theta_{ref,evp} = \\theta_{ex} - \\left( 0.100 \\times  \\theta_{ref,cnd} + 2.95 \\right)\n",
    "\\end{equation*} \n",
    "$$\n",
    "\n",
    "<div style=\"text-align: right;\"> (9a) </div>\n",
    "$$ \n",
    "\\begin{equation*} \n",
    "    \\theta_{ref,cnd} = \\theta_{surf,hex}\n",
    "\\end{equation*} \n",
    "$$\n",
    "\n",
    "<div style=\"text-align: right;\"> (9b) </div>\n",
    "\n",
    "$$ \n",
    "\\begin{equation*} \n",
    "    \\theta_{ref,SC} = 0.245 \\times  \\theta_{ref,cnd} - 1.72\n",
    "\\end{equation*} \n",
    "$$\n",
    "\n",
    "<div style=\"text-align: right;\"> (9c) </div>\n",
    "\n",
    "$$ \n",
    "\\begin{equation*} \n",
    "    \\theta_{ref,SH} = 4.49 - 0.036 \\times \\theta_{ref,cnd}\n",
    "\\end{equation*} \n",
    "$$\n",
    "\n",
    "<div style=\"text-align: right;\"> (9d) </div>"
   ]
  },
  {
   "cell_type": "markdown",
   "metadata": {},
   "source": [
    "ここで、  \n",
    "\n",
    "$\\theta_{ex}$：外気温度(℃)  \n",
    "$\\theta_{ref,evp}$：蒸発温度(℃)  \n",
    "$\\theta_{ref,cnd}$：凝縮温度(℃)   \n",
    "$\\theta_{surf,hex}$：室内機熱交換器の表面温度(℃)   \n",
    "$\\theta_{ref,SC}$：過冷却度(℃)   \n",
    "$\\theta_{ref,SH}$：過熱度(℃)   \n",
    "\n",
    "である。"
   ]
  },
  {
   "cell_type": "code",
   "execution_count": 15,
   "metadata": {},
   "outputs": [],
   "source": [
    "def RefCycleParameters_Heating(theta_surf_hex, theta_ex):\n",
    "    '''暖房時の冷凍サイクルに係るパラメータを取得する'''\n",
    "    # theta_surf_hex：室内機熱交換器の表面温度(℃)\n",
    "    # theta_ex：外気温度(℃)\n",
    "    \n",
    "    # 蒸発温度(℃)\n",
    "    def get_theta_ref_evp(theta_ex, theta_ref_cnd):\n",
    "        return theta_ex - (0.100 * theta_ref_cnd + 2.95)\n",
    "    \n",
    "    # 凝縮温度(℃)\n",
    "    def get_theta_ref_cnd(theta_surf_hex):\n",
    "        return theta_surf_hex\n",
    "    \n",
    "    # 過冷却度(℃)\n",
    "    def get_theta_ref_SC(theta_ref_cnd):\n",
    "        return 0.245 * theta_ref_cnd - 1.72\n",
    "    \n",
    "    # 加熱度(℃)\n",
    "    def get_theta_ref_SH(theta_ref_cnd):\n",
    "        return 4.49 - 0.036 * theta_ref_cnd\n",
    "    \n",
    "    theta_ref_cnd = get_theta_ref_cnd(theta_surf_hex)\n",
    "    theta_ref_evp = get_theta_ref_evp(theta_ex, theta_ref_cnd)\n",
    "    theta_ref_SC = get_theta_ref_SC(theta_ref_cnd)\n",
    "    theta_ref_SH = get_theta_ref_SH(theta_ref_cnd)\n",
    "    \n",
    "    return theta_ref_evp, theta_ref_cnd, theta_ref_SC, theta_ref_SH"
   ]
  },
  {
   "cell_type": "markdown",
   "metadata": {},
   "source": [
    "日付$d$の時刻$t$における冷凍サイクルの理論暖房効率$e_{th,H,d,t}$を算定する場合、室内機熱交換器の表面温度$\\theta_{surf,hex}$は式(10-1)により定まる外気温度$\\theta_{ex}$、冷凍サイクルの能力$q_{cp}$及び送風機の風量$V_{fan}$から計算される値とする。"
   ]
  },
  {
   "cell_type": "markdown",
   "metadata": {},
   "source": [
    "<p style=\"text-indent:2em\">日付$d$の時刻$t$における冷凍サイクルの理論暖房効率$e_{th,H,d,t}$：</p>  \n",
    "$$ \n",
    "\\begin{equation*} \n",
    "    \\theta_{ex} = \\theta_{ex,d,t}\n",
    "\\end{equation*} \n",
    "$$\n",
    "\n",
    "<div style=\"text-align: right;\"> (10a-1) </div>\n",
    "\n",
    "$$ \n",
    "\\begin{equation*} \n",
    "    q_{cp} = Q_{hs,H,d,t} \\div \\left( 3600 \\times 10^{-6} \\right) \n",
    "\\end{equation*} \n",
    "$$\n",
    "\n",
    "<div style=\"text-align: right;\"> (10b-1) </div>\n",
    "\n",
    "$$ \n",
    "\\begin{equation*} \n",
    "    V_{fan} = V_{fan,d,t} \n",
    "\\end{equation*} \n",
    "$$\n",
    "\n",
    "<div style=\"text-align: right;\"> (10c-1) </div>"
   ]
  },
  {
   "cell_type": "markdown",
   "metadata": {},
   "source": [
    "定格暖房能力運転時における冷凍サイクルの理論暖房効率$e_{th,H,rtd}$、中間暖房能力運転時における冷凍サイクルの理論暖房効率$e_{th,H,mid}$、最小暖房能力運転時における冷凍サイクルの理論暖房効率$e_{th,H,min}$を算定する場合、室内機熱交換器の表面温度$\\theta_{surf,hex}$は式(10-2)～(10-4)により定まる外気温度$\\theta_{ex}$、冷凍サイクルの能力$q_{cp}$及び送風機の風量$V_{fan}$から計算される値とする。ここで、外気温度$\\theta_{ex}$はJIS B 8615が規定する定格暖房試験の標準定格条件における室外側吸込温度（乾球温度7℃）と同じとする。"
   ]
  },
  {
   "cell_type": "markdown",
   "metadata": {},
   "source": [
    "<p style=\"text-indent:2em\">定格暖房能力運転時における冷凍サイクルの理論暖房効率$e_{th,H,rtd}$：</p>  \n",
    "$$ \n",
    "\\begin{equation*} \n",
    "    \\theta_{ex} = 7\n",
    "\\end{equation*} \n",
    "$$\n",
    "\n",
    "<div style=\"text-align: right;\"> (10a-2) </div>\n",
    "\n",
    "$$ \n",
    "\\begin{equation*} \n",
    "    q_{cp} = q_{ac,H,rtd}  \n",
    "\\end{equation*} \n",
    "$$\n",
    "\n",
    "<div style=\"text-align: right;\"> (10b-2) </div>\n",
    "\n",
    "$$ \n",
    "\\begin{equation*} \n",
    "    V_{fan} = V_{fan,H,rtd} \n",
    "\\end{equation*} \n",
    "$$\n",
    "\n",
    "<div style=\"text-align: right;\"> (10c-2) </div>"
   ]
  },
  {
   "cell_type": "markdown",
   "metadata": {},
   "source": [
    "<p style=\"text-indent:2em\">中間暖房能力運転時における冷凍サイクルの理論暖房効率$e_{th,H,mid}$：</p>  \n",
    "$$ \n",
    "\\begin{equation*} \n",
    "    \\theta_{ex} = 7\n",
    "\\end{equation*} \n",
    "$$\n",
    "\n",
    "<div style=\"text-align: right;\"> (10a-3) </div>\n",
    "\n",
    "$$ \n",
    "\\begin{equation*} \n",
    "    q_{cp} = q_{ac,H,mid}  \n",
    "\\end{equation*} \n",
    "$$\n",
    "\n",
    "<div style=\"text-align: right;\"> (10b-3) </div>\n",
    "\n",
    "$$ \n",
    "\\begin{equation*} \n",
    "    V_{fan} = V_{fan,H,mid} \n",
    "\\end{equation*} \n",
    "$$\n",
    "\n",
    "<div style=\"text-align: right;\"> (10c-3) </div>"
   ]
  },
  {
   "cell_type": "markdown",
   "metadata": {},
   "source": [
    "<p style=\"text-indent:2em\">最小暖房能力運転時における冷凍サイクルの理論暖房効率$e_{th,H,min}$：</p>  \n",
    "$$ \n",
    "\\begin{equation*} \n",
    "    \\theta_{ex} = 7\n",
    "\\end{equation*} \n",
    "$$\n",
    "\n",
    "<div style=\"text-align: right;\"> (10a-4) </div>\n",
    "\n",
    "$$ \n",
    "\\begin{equation*} \n",
    "    q_{cp} = q_{ac,H,min}  \n",
    "\\end{equation*} \n",
    "$$\n",
    "\n",
    "<div style=\"text-align: right;\"> (10b-4) </div>\n",
    "\n",
    "$$ \n",
    "\\begin{equation*} \n",
    "    V_{fan} = V_{fan,H,min} \n",
    "\\end{equation*} \n",
    "$$\n",
    "\n",
    "<div style=\"text-align: right;\"> (10c-4) </div>"
   ]
  },
  {
   "cell_type": "markdown",
   "metadata": {},
   "source": [
    "ここで、  \n",
    "\n",
    "$V_{fan}$：送風機の風量(m<sup>3</sup>/h)    \n",
    "$V_{fan,H,mid}$：中間暖房能力運転時における送風機の風量(m<sup>3</sup>/h)    \n",
    "$V_{fan,H,min}$：最小暖房能力運転時における送風機の風量(m<sup>3</sup>/h)    \n",
    "$V_{fan,H,rtd}$：定格暖房能力運転時における送風機の風量(m<sup>3</sup>/h)    \n",
    "$Q_{hs,H,d,t}$：日付$d$の時刻$t$における1時間当たりの熱源機の暖房出力(MJ/h)  \n",
    "$q_{ac,H,mid}$：空調機の中間暖房能力(W)   \n",
    "$q_{ac,H,min}$：空調機の最小暖房能力(W)   \n",
    "$q_{ac,H,rtd}$：空調機の定格暖房能力(W)   \n",
    "$q_{cp}$：冷凍サイクルの能力(W)   \n",
    "$\\theta_{ex}$：外気温度(℃)  \n",
    "$\\theta_{ex,d,t}$：日付$d$の時刻$t$における外気温度(℃)   \n",
    "\n",
    "である。"
   ]
  },
  {
   "cell_type": "markdown",
   "metadata": {},
   "source": [
    "#### 10.3.2　冷房"
   ]
  },
  {
   "cell_type": "markdown",
   "metadata": {},
   "source": [
    "冷凍サイクルの理論冷房効率$e_{th,C}$は、式(11)により表される蒸発温度$\\theta_{ref,evp}$、凝縮温度$\\theta_{ref,cnd}$、過冷却度$\\theta_{ref,SC}$、過熱度$\\theta_{ref,SH}$から、付録Dの算定方法により求まる。"
   ]
  },
  {
   "cell_type": "markdown",
   "metadata": {},
   "source": [
    "$$ \n",
    "\\begin{equation*} \n",
    "    \\theta_{ref,evp} = \\theta_{surf,hex}\n",
    "\\end{equation*} \n",
    "$$\n",
    "\n",
    "<div style=\"text-align: right;\"> (11a) </div>\n",
    "\n",
    "$$ \n",
    "\\begin{equation*} \n",
    "    \\theta_{ref,cnd} = \\theta_{ex} + 27.4 -1.35 \\times \\theta_{ref,evp} \n",
    "\\end{equation*} \n",
    "$$\n",
    "\n",
    "<div style=\"text-align: right;\"> (11b) </div>\n",
    "\n",
    "$$ \n",
    "\\begin{equation*} \n",
    "    \\theta_{ref,SC} = 0.772 \\times \\theta_{ref,cnd} -25.6\n",
    "\\end{equation*} \n",
    "$$\n",
    "\n",
    "<div style=\"text-align: right;\"> (11c) </div>\n",
    "\n",
    "$$ \n",
    "\\begin{equation*} \n",
    "    \\theta_{ref,SH} = 0.194 \\times \\theta_{ref,cnd} - 3.86\n",
    "\\end{equation*} \n",
    "$$\n",
    "\n",
    "<div style=\"text-align: right;\"> (11d) </div>"
   ]
  },
  {
   "cell_type": "markdown",
   "metadata": {},
   "source": [
    "ここで、  \n",
    "\n",
    "$\\theta_{ex}$：外気温度(℃)  \n",
    "$\\theta_{ref,evp}$：蒸発温度(℃)  \n",
    "$\\theta_{ref,cnd}$：凝縮温度(℃)   \n",
    "$\\theta_{surf,hex}$：室内機熱交換器の表面温度(℃)   \n",
    "$\\theta_{ref,SC}$：過冷却度(℃)   \n",
    "$\\theta_{ref,SH}$：過熱度(℃)   \n",
    "\n",
    "である。"
   ]
  },
  {
   "cell_type": "code",
   "execution_count": 16,
   "metadata": {},
   "outputs": [],
   "source": [
    "def RefCycleParameters_Ceating(theta_surf_hex, theta_ex):\n",
    "    '''冷房時の冷凍サイクルに係るパラメータを取得する'''\n",
    "    # theta_surf_hex：室内機熱交換器の表面温度(℃)\n",
    "    # theta_ex：外気温度(℃)\n",
    "    \n",
    "    # 蒸発温度(℃)\n",
    "    def get_theta_ref_evp(theta_surf_hex):\n",
    "        return theta_surf_hex\n",
    "    \n",
    "    # 凝縮温度(℃)\n",
    "    def get_theta_ref_cnd(theta_ex, theta_ref_evp):\n",
    "        return theta_ex + 27.4 -1.35 * theta_ref_evp\n",
    "    \n",
    "    # 過冷却度(℃)\n",
    "    def get_theta_ref_SC(theta_ref_cnd):\n",
    "        return 0.772 * theta_ref_cnd - 25.6\n",
    "    \n",
    "    # 加熱度(℃)\n",
    "    def get_theta_ref_SH(theta_ref_cnd):\n",
    "        return 0.194 * theta_ref_cnd - 3.86\n",
    "    \n",
    "    theta_ref_evp = get_theta_ref_evp(theta_surf_hex)\n",
    "    theta_ref_cnd = get_theta_ref_cnd(theta_ex, theta_ref_evp)\n",
    "    theta_ref_SC = get_theta_ref_SC(theta_ref_cnd)\n",
    "    theta_ref_SH = get_theta_ref_SH(theta_ref_cnd)\n",
    "    \n",
    "    return theta_ref_evp, theta_ref_cnd, theta_ref_SC, theta_ref_SH"
   ]
  },
  {
   "cell_type": "markdown",
   "metadata": {},
   "source": [
    "（工事中）"
   ]
  },
  {
   "cell_type": "markdown",
   "metadata": {},
   "source": [
    "## 11　室内機"
   ]
  },
  {
   "cell_type": "markdown",
   "metadata": {},
   "source": [
    "### 11.1　熱交換器の表面温度"
   ]
  },
  {
   "cell_type": "markdown",
   "metadata": {},
   "source": [
    "室内機熱交換器の表面温度$\\theta_{surf,hex}$は、式(12)により表される。"
   ]
  },
  {
   "cell_type": "markdown",
   "metadata": {},
   "source": [
    "$$ \n",
    "\\begin{equation*} \n",
    "    \\theta_{surf,hex} = \\frac{\\theta_{air,{\\textit inlet}} + \\theta_{air,outlet}}{2} + \\frac{q_{cp} \\times 10^{-3}}{A_{e, hex} \\times \\alpha_{c,hex}}\n",
    "\\end{equation*}\n",
    "$$:\n",
    "\n",
    "<div style=\"text-align: right;\"> (12) </div>"
   ]
  },
  {
   "cell_type": "markdown",
   "metadata": {},
   "source": [
    "ここで、  \n",
    "\n",
    "$A_{e,hex}$：室内機熱交換器の表面積のうち熱交換に有効な面積(m<sup>2</sup>)  \n",
    "$q_{cp}$：冷凍サイクルの能力(W)  \n",
    "$\\theta_{surf,hex}$：室内機熱交換器の表面温度(℃)  \n",
    "$\\theta_{air,{\\textit inlet}}$：室内機吸込空気の温度(℃)  \n",
    "$\\theta_{air,outlet}$：室内機吹出空気の温度(℃)   \n",
    "$\\alpha_{c,hex}$：室内機熱交換器表面の顕熱伝達率(kW/(m<sup>2</sup>・K))\n",
    "\n",
    "である。"
   ]
  },
  {
   "cell_type": "markdown",
   "metadata": {},
   "source": [
    "室内機熱交換器の表面積のうち熱交換に有効な面積$A_{e,hex}$は、6.396 m<sup>2</sup>とする。暖房時においては、室内機吸込空気の温度$\\theta_{air,{\\textit inlet}}$は、暖房設定温度$\\theta_{ref}$に等しく、20 ℃とする"
   ]
  },
  {
   "cell_type": "code",
   "execution_count": 17,
   "metadata": {},
   "outputs": [],
   "source": [
    "def theta_surf_hex(q_cp, theta_air_outlet, alpha_c_hex):\n",
    "    '''室内機熱交換器表面温度(℃) を計算する'''\n",
    "    # A_e_hex：室内機熱交換器の表面積のうち熱交換に有効な面積(m2) \n",
    "    # q_cp：能力(W)\n",
    "    # theta_air_inlet：室内機吸込空気の温度(℃)\n",
    "    # theta_air_outlet：室内機吹出空気の温度(℃)\n",
    "    # alpha_c_hex：室内機熱交換器表面の顕熱伝達率(kW/(m2・K))\n",
    "    \n",
    "    # 室内機吸込空気の温度(℃)\n",
    "    theta_air_inlet = 20\n",
    "    # 室内機熱交換器の表面積のうち熱交換に有効な面積(m2) \n",
    "    A_e_hex = 6.396\n",
    "    \n",
    "    return (theta_air_inlet + theta_air_outlet) / 2 + q_cp*10**(-3) / (A_e_hex * alpha_c_hex) "
   ]
  },
  {
   "cell_type": "markdown",
   "metadata": {},
   "source": [
    "### 11.2　吹出空気の温度"
   ]
  },
  {
   "cell_type": "markdown",
   "metadata": {},
   "source": [
    "室内機吹出空気の温度$\\theta_{air,outlet}$は、式(13)により表される。"
   ]
  },
  {
   "cell_type": "markdown",
   "metadata": {},
   "source": [
    "$$ \n",
    "\\begin{equation*} \n",
    "    \\theta_{air,outlet} = \\theta_{air,{\\textit inlet}} + \\frac{q_{cp} \\times 10^{-3}}{V_{fan} \\div 3600 \\times \\rho_{air,{\\textit inlet}} \\times C_{p, {\\textit inlet}}}\n",
    "\\end{equation*}\n",
    "$$\n",
    "\n",
    "<div style=\"text-align: right;\"> (13) </div>"
   ]
  },
  {
   "cell_type": "markdown",
   "metadata": {},
   "source": [
    "ここで、  \n",
    "\n",
    "$C_{p,{\\textit inlet}}$：室内機吸込空気の定圧比熱(kJ/(kg・K))  \n",
    "$q_{cp}$：冷凍サイクルの能力(W)  \n",
    "$V_{fan}$：送風機の風量(m<sup>3</sup>/h)  \n",
    "$\\theta_{air,{\\textit inlet}}$：室内機吸込空気の温度(℃)  \n",
    "$\\theta_{air,outlet}$：室内機吹出空気の温度(℃)     \n",
    "$\\rho_{air,{\\textit inlet}}$：室内機吸込空気の密度(kg/m<sup>3</sup>)\n",
    "\n",
    "である。"
   ]
  },
  {
   "cell_type": "code",
   "execution_count": 18,
   "metadata": {},
   "outputs": [],
   "source": [
    "def theta_air_outlet(Cp_inlet, q_cp, V_fan, theta_air_inlet, rho_air_inlet):\n",
    "    '''室内機吹出し空気温度(℃)を計算する'''\n",
    "    # Cp_inlet：室内機吸込空気の定圧比熱(kJ/(kg・K))\n",
    "    # q_cp：能力(W)\n",
    "    # V_fan：送風機の風量(m3/h) \n",
    "    # theta_air_inlet：室内機吸込空気温度(℃)\n",
    "    # rho_air_inlet：室内機吸込空気の密度(kg/m3)\n",
    "    \n",
    "   \n",
    "    return theta_air_inlet + q_cp*10**(-3) / (V_fan/3600 *rho_air_inlet *Cp_inlet)"
   ]
  },
  {
   "cell_type": "markdown",
   "metadata": {},
   "source": [
    "室内機吸込空気の密度$\\rho_{air,{\\textit inlet}}$は、式(14)により表される。"
   ]
  },
  {
   "cell_type": "markdown",
   "metadata": {},
   "source": [
    "$$ \n",
    "\\begin{equation*} \n",
    "    \\rho_{air,{\\textit inlet}} = \\frac{1}{0.004555 \\times \\left( 0.622 + X_{air,{\\textit inlet}} \\right) \\times \\left( \\theta_{air,{\\textit inlet}} + 273.15 \\right) }\n",
    "\\end{equation*}\n",
    "$$\n",
    "\n",
    "<div style=\"text-align: right;\"> (14) </div>"
   ]
  },
  {
   "cell_type": "markdown",
   "metadata": {},
   "source": [
    "ここで、  \n",
    "\n",
    "$X_{air,{\\textit inlet}}$：室内機吸込空気の絶対湿度(kg/kg(DA))  \n",
    "$\\theta_{air,{\\textit inlet}}$：室内機吸込空気の温度(℃)   \n",
    "$\\rho_{air,{\\textit inlet}}$：室内機吸込空気の密度(kg/m<sup>3</sup>)  \n",
    "\n",
    "である。"
   ]
  },
  {
   "cell_type": "code",
   "execution_count": 19,
   "metadata": {},
   "outputs": [],
   "source": [
    "def rho_air(theta_air, X_air):\n",
    "    '''空気の密度(kg/m3)を計算する'''\n",
    "    # theta_air：空気の温度(℃)\n",
    "    # X_air：空気の絶対湿度(kg/kg(DA))\n",
    "    \n",
    "    return 1 / (0.004555 * (0.622 + X_air) * (theta_air + 273.15)) "
   ]
  },
  {
   "cell_type": "markdown",
   "metadata": {},
   "source": [
    "室内機吸込空気の定圧比熱$C_{p,{\\textit inlet}}$は、式(15)により表される。"
   ]
  },
  {
   "cell_type": "markdown",
   "metadata": {},
   "source": [
    "$$ \n",
    "\\begin{equation*} \n",
    "    C_{p,{\\textit inlet}} =  C_{p_{air}} + X_{air,{\\textit inlet}} \\times C_{p_{w}}\n",
    "\\end{equation*}\n",
    "$$\n",
    "\n",
    "<div style=\"text-align: right;\"> (15) </div>"
   ]
  },
  {
   "cell_type": "markdown",
   "metadata": {},
   "source": [
    "ここで、  \n",
    "\n",
    "$C_{p,{\\textit inlet}}$：室内機吸込空気の定圧比熱(kJ/(kg・K))  \n",
    "$C_{p_{air}}$：乾き空気の定圧比熱(kJ/(kg(DA)・K))  \n",
    "$C_{p_{w}}$：水蒸気の定圧比熱(kJ/(kg・K))  \n",
    "$X_{air,{\\textit inlet}}$：室内機吸込空気絶対湿度(kg/kg(DA))  \n",
    "\n",
    "である。"
   ]
  },
  {
   "cell_type": "markdown",
   "metadata": {},
   "source": [
    "乾き空気の定圧比熱$C_{p_{air}}$は、1.006 kJ/(kg・K)とする。水蒸気の定圧比熱$C_{p_{w}}$は、1.846 kJ/(kg・K)とする。"
   ]
  },
  {
   "cell_type": "markdown",
   "metadata": {},
   "source": [
    "室内機吸込空気の絶対湿度$X_{air,{\\textit inlet}}$は、室内機吸込空気の温度$\\theta_{air,{\\textit inlet}}$及び相対湿度$h_{air,{\\textit inlet}}$を用いて、第十一章第一節により算定される。"
   ]
  },
  {
   "cell_type": "markdown",
   "metadata": {},
   "source": [
    "暖房時においては、室内機吸込空気の温度$\\theta_{air,{\\textit inlet}}$は、暖房設定温度$\\theta_{ref}$に等しく、20 ℃とする。室内機吸込空気の相対湿度$h_{air,{\\textit inlet}}$は、JIS B 8615が規定する定格暖房試験の標準定格条件における室内側吸込温度（乾球温度20℃、湿球温度15℃）より換算して59%とする。"
   ]
  },
  {
   "cell_type": "code",
   "execution_count": 20,
   "metadata": {},
   "outputs": [],
   "source": [
    "def Cp(X_air):\n",
    "    '''湿り空気の定圧比熱(kJ/(kg・K))を計算する'''\n",
    "    # X：空気の絶対湿度(kg/kg(DA))\n",
    "    # Cp_air：乾き空気の定圧比熱(kJ/(kg・K))\n",
    "    # Cp_w：水蒸気の定圧比熱(kJ/(kg・K))\n",
    "    \n",
    "    Cp_air = 1.006\n",
    "    Cp_w = 1.846\n",
    "    \n",
    "    return Cp_air  + X_air * Cp_w"
   ]
  },
  {
   "cell_type": "markdown",
   "metadata": {},
   "source": [
    "### 11.3　交換器表面の顕熱伝達"
   ]
  },
  {
   "cell_type": "markdown",
   "metadata": {},
   "source": [
    "室内機熱交換器表面の顕熱伝達率$\\alpha_{c,hex}$は、式(16)により表される。"
   ]
  },
  {
   "cell_type": "markdown",
   "metadata": {},
   "source": [
    "$$ \n",
    "\\begin{equation*} \n",
    "    \\alpha_{c,hex} = -0.001679 \\times \\left( \\frac{V_{fan} \\div 3600}{A_{f,hex}} \\right)^{2}  -0.0044019 \\times \\frac{V_{fan} \\div 3600}{A_{f,hex}} +0.02706\n",
    "\\end{equation*} \n",
    "$$\n",
    "\n",
    "<div style=\"text-align: right;\"> (16) </div>"
   ]
  },
  {
   "cell_type": "markdown",
   "metadata": {},
   "source": [
    "ここで、  \n",
    "\n",
    "$A_{f,hex}$：室内機熱交換器の前面面積のうち熱交換に有効な面積(m<sup>2</sup>)  \n",
    "$V_{fan}$：送風機の風量(m<sup>3</sup>/h)  \n",
    "$\\alpha_{c,hex}$：室内機熱交換器表面の顕熱伝達率(kW/(m<sup>2</sup>・K))  \n",
    "\n",
    "である。"
   ]
  },
  {
   "cell_type": "markdown",
   "metadata": {},
   "source": [
    "室内機熱交換器の前面面積のうち熱交換に有効な面積$A_{f,hex}$は、0.23559 m<sup>2</sup>とする。"
   ]
  },
  {
   "cell_type": "code",
   "execution_count": 21,
   "metadata": {},
   "outputs": [],
   "source": [
    "def alpha_c_hex(V_fan):\n",
    "    '''室内機熱交換器表面の顕熱伝達率(kW/(m2・K)) を計算する'''\n",
    "    # A_f_hex：室内機熱交換器の前面面積のうち熱交換に有効な面積(m2)  \n",
    "    # V_fan：送風機の風量(m3/h)  \n",
    "    \n",
    "    A_f_hex = 0.23559\n",
    "    v = V_fan / 3600 / A_f_hex\n",
    "    \n",
    "    return -0.001679*v**(2) -0.0044019*v +0.0276 "
   ]
  },
  {
   "cell_type": "markdown",
   "metadata": {},
   "source": [
    "## 12.　送風機"
   ]
  },
  {
   "cell_type": "markdown",
   "metadata": {},
   "source": [
    "### 12.1　消費電力量"
   ]
  },
  {
   "cell_type": "markdown",
   "metadata": {},
   "source": [
    "日付$d$の時刻$t$における1時間当たりの送風機の消費電力量のうちの暖房設備への付加分$E_{E,fan,H,d,t}$、冷房設備への付加分$E_{E,fan,C,d,t}$、換気設備への付加分$E_{E,fan,V,d,t}$は式(17)により表される。"
   ]
  },
  {
   "cell_type": "markdown",
   "metadata": {},
   "source": [
    "<p style=\"text-indent:2em\">$0 < Q_{hs,H,d,t}$ （暖房時）の場合：</p>  \n",
    "$$ \n",
    "\\begin{equation*}\n",
    "    E_{E,fan,H,d,t} = P_{fan,d,t} \\div 1000\n",
    "\\end{equation*}\n",
    "$$\n",
    "\n",
    "<div style=\"text-align: right;\"> (17a-1) </div>\n",
    "\n",
    "$$ \n",
    "\\begin{equation*}\n",
    "    E_{E,fan,C,d,t} = 0\n",
    "\\end{equation*}\n",
    "$$\n",
    "\n",
    "<div style=\"text-align: right;\"> (17b-1) </div>\n",
    "\n",
    "$$ \n",
    "\\begin{equation*}\n",
    "    E_{E,fan,V,d,t} = 0\n",
    "\\end{equation*}\n",
    "$$\n",
    "\n",
    "<div style=\"text-align: right;\"> (17c-1) </div>"
   ]
  },
  {
   "cell_type": "markdown",
   "metadata": {},
   "source": [
    "<p style=\"text-indent:2em\">$0 < Q_{hs,C,d,t}$ （冷房時）の場合：</p>  \n",
    "$$ \n",
    "\\begin{equation*}\n",
    "    E_{E,fan,H,d,t} =0\n",
    "\\end{equation*}\n",
    "$$\n",
    "\n",
    "<div style=\"text-align: right;\"> (17a-2) </div>\n",
    "\n",
    "$$ \n",
    "\\begin{equation*}\n",
    "    E_{E,fan,C,d,t} = P_{fan,d,t} \\div 1000\n",
    "\\end{equation*}\n",
    "$$\n",
    "\n",
    "<div style=\"text-align: right;\"> (17b-2) </div>\n",
    "\n",
    "$$ \n",
    "\\begin{equation*}\n",
    "    E_{E,fan,V,d,t} = 0\n",
    "\\end{equation*}\n",
    "$$\n",
    "\n",
    "<div style=\"text-align: right;\"> (17c-2) </div>"
   ]
  },
  {
   "cell_type": "markdown",
   "metadata": {},
   "source": [
    "<p style=\"text-indent:2em\">$Q_{hs,H,d,t} \\leq 0$　かつ　$Q_{hs,C,d,t} \\leq 0$（非暖冷房時）の場合：</p>  \n",
    "$$ \n",
    "\\begin{equation*}\n",
    "    E_{E,fan,H,d,t} =0\n",
    "\\end{equation*}\n",
    "$$\n",
    "\n",
    "<div style=\"text-align: right;\"> (17a-3) </div>\n",
    "\n",
    "$$ \n",
    "\\begin{equation*}\n",
    "    E_{E,fan,C,d,t} = 0\n",
    "\\end{equation*}\n",
    "$$\n",
    "\n",
    "<div style=\"text-align: right;\"> (17b-3) </div>\n",
    "\n",
    "$$ \n",
    "\\begin{equation*}\n",
    "    E_{E,fan,V,d,t} = P_{fan,d,t} \\div 1000\n",
    "\\end{equation*}\n",
    "$$\n",
    "\n",
    "<div style=\"text-align: right;\"> (17c-3) </div>"
   ]
  },
  {
   "cell_type": "markdown",
   "metadata": {},
   "source": [
    "ここで、  \n",
    "\n",
    "$E_{E,fan,C,d,t}$：日付$d$の時刻$t$における1時間当たりの送風機の消費電力量のうちの冷房設備への付加分(kWh/h)  \n",
    "$E_{E,fan,H,d,t}$：日付$d$の時刻$t$における1時間当たりの送風機の消費電力量のうちの暖房設備への付加分(kWh/h)  \n",
    "$E_{E,fan,V,d,t}$：日付$d$の時刻$t$における1時間当たりの送風機の消費電力量のうちの換気設備への付加分(kWh/h)  \n",
    "$P_{fan,d,t}$：日付$d$の時刻$t$における送風機の消費電力(W)     \n",
    "$Q_{hs,C,d,t}$：日付$d$の時刻$t$における1時間当たりの熱源機の冷房出力(MJ/h)  \n",
    "$Q_{hs,H,d,t}$：日付$d$の時刻$t$における1時間当たりの熱源機の暖房出力(MJ/h)  \n",
    "$t_{fan,C,d,t}$：日付$d$の時刻$t$における冷房時の1時間当たりの送風機の稼働時間(h/h)    \n",
    "$t_{fan,H,d,t}$：日付$d$の時刻$t$における暖房時の1時間当たりの送風機の稼働時間(h/h)   \n",
    "$t_{fan,thermo-off,C,d,t}$：日付$d$の時刻$t$における冷房サーモオフ時の1時間当たりの送風機の稼働時間(h/h)      \n",
    "$t_{fan,thermo-off,H,d,t}$：日付$d$の時刻$t$における暖房サーモオフ時の1時間当たりの送風機の稼働時間(h/h)    \n",
    "\n",
    "である。"
   ]
  },
  {
   "cell_type": "markdown",
   "metadata": {},
   "source": [
    "### 12.2　消費電力"
   ]
  },
  {
   "cell_type": "markdown",
   "metadata": {},
   "source": [
    "日付$d$の時刻$t$における送風機の消費電力$P_{fan,d,t}$は、式(18)により表される。"
   ]
  },
  {
   "cell_type": "markdown",
   "metadata": {},
   "source": [
    "<p style=\"text-indent:2em\">$0 < Q_{hs,H,d,t}$ （暖房時）の場合：</p>  \n",
    "$$ \n",
    "\\begin{equation*}\n",
    "    P_{fan,d,t} = \\left\\{ P_{fan,H,rtd}  - \\left( P_{fan,H,rtd} - P_{fan,thermo-off,H} \\right) \\times \\frac{V_{fan,H,rtd}-V_{fan,d,t}}{V_{fan,H,rtd}-V_{fan,thermo-off,H}} \\right\\} \\times r_{P_{fan,H}}\n",
    "\\end{equation*}\n",
    "$$\n",
    "\n",
    "<div style=\"text-align: right;\"> (18a) </div>"
   ]
  },
  {
   "cell_type": "markdown",
   "metadata": {},
   "source": [
    "<p style=\"text-indent:2em\">$0 < Q_{hs,C,d,t}$ （冷房時）の場合：</p>  \n",
    "$$ \n",
    "\\begin{equation*}\n",
    "    P_{fan,d,t} = \\left\\{ P_{fan,C,rtd}  - \\left( P_{fan,C,rtd} - P_{fan,thermo-off,C} \\right) \\times \\frac{V_{fan,C,rtd}-V_{fan,d,t}}{V_{fan,C,rtd}-V_{fan,thermo-off,C}} \\right\\} \\times r_{P_{fan,C}}\n",
    "\\end{equation*}\n",
    "$$\n",
    "\n",
    "<div style=\"text-align: right;\"> (18b) </div>"
   ]
  },
  {
   "cell_type": "markdown",
   "metadata": {},
   "source": [
    "<p style=\"text-indent:2em\">$Q_{hs,H,d,t} \\leq 0$　かつ　$Q_{hs,C,d,t} \\leq 0$（非暖冷房時）の場合：</p>   \n",
    "$$ \n",
    "\\begin{equation*}\n",
    "    P_{fan,d,t} = max \\left( P_{fan,thremo-off,H}, P_{fan,thremo-off,C} \\right)\n",
    "\\end{equation*}\n",
    "$$\n",
    "\n",
    "<div style=\"text-align: right;\"> (18c) </div>"
   ]
  },
  {
   "cell_type": "markdown",
   "metadata": {},
   "source": [
    "ここで、  \n",
    "\n",
    "$P_{fan,d,t}$：日付$d$の時刻$t$における冷房時の送風機の消費電力(W)   \n",
    "$P_{fan,C,rtd}$：定格冷房能力運転時における送風機の消費電力(W)   \n",
    "$P_{fan,H,rtd}$：定格暖房能力運転時における送風機の消費電力(W)   \n",
    "$P_{fan,thermo-off,C}$：冷房サーモオフ時における送風機の消費電力(W)   \n",
    "$P_{fan,thermo-off,H}$：暖房サーモオフ時における送風機の消費電力(W)  \n",
    "$Q_{hs,C,d,t}$：日付$d$の時刻$t$における1時間当たりの熱源機の冷房出力(MJ/h)  \n",
    "$Q_{hs,H,d,t}$：日付$d$の時刻$t$における1時間当たりの熱源機の暖房出力(MJ/h)  \n",
    "$r_{P_{fan,C}}$：冷房時の送風機の消費電力比(-)  \n",
    "$r_{P_{fan,H}}$：暖房時の送風機の消費電力比(-)  \n",
    "$r_{P_{fan,thermo-off,C}}$：冷房サーモオフ時の送風機の消費電力比(-)  \n",
    "$r_{P_{fan,thermo-off,H}}$：暖房サーモオフ時の送風機の消費電力比(-)  \n",
    "$V_{fan,d,t}$：日付$d$の時刻$t$における1時間あたりの送風機の風量(m<sup>3</sup>/h)  \n",
    "$V_{fan,C,rtd}$：定格冷房能力運転時における送風機の風量(m<sup>3</sup>/h)      \n",
    "$V_{fan,H,rtd}$：定格暖房能力運転時における送風機の風量(m<sup>3</sup>/h)    \n",
    "$V_{fan,thermo-off,C}$：冷房サーモオフ時における送風機の風量(m<sup>3</sup>/h)    \n",
    "$V_{fan,thermo-off,H}$：暖房サーモオフ時における送風機の風量(m<sup>3</sup>/h)    \n",
    "   \n",
    "である。"
   ]
  },
  {
   "cell_type": "markdown",
   "metadata": {},
   "source": [
    "定格暖房能力運転時における送風機の消費電力$P_{fan,H,rtd}$及び風量$V_{fan,H,rtd}$、定格冷房能力運転時における送風機の消費電力$P_{fan,C,rtd}$及び風量$V_{fan,C,rtd}$、暖房サーモオフ時における送風機の消費電力$P_{fan,thermo-off,H}$及び風量$V_{fan,thermo-off,H}$、冷房サーモオフ時における送風機の消費電力$P_{fan,thermo-off,C}$及び風量$V_{fan,thermo-off,C}$は、付録Aにより定まる。"
   ]
  },
  {
   "cell_type": "markdown",
   "metadata": {},
   "source": [
    "送風機の消費電力比$r_{P_{fan}}$は、風量補正機能を考慮しない送風機の消費電力に対する風量補正機能を考慮した送風機の消費電力の比であり、風量補正機能を有さない機器の場合、暖房時の送風機の消費電力比$r_{P_{fan,H}}$、冷房時の送風機の消費電力比$r_{P_{fan,C}}$は、1とする。"
   ]
  },
  {
   "cell_type": "markdown",
   "metadata": {},
   "source": [
    "風量補正機能を有する機器の場合、暖房時の送風機の消費電力比$r_{P_{fan,H}}$及び暖房時の送風機の消費電力比$r_{P_{fan,C}}$は、風量によらず、定格能力運転時における消費電力比に等しいとして、式(19)により表される。"
   ]
  },
  {
   "cell_type": "markdown",
   "metadata": {},
   "source": [
    "$$ \n",
    "\\begin{equation*}\n",
    "    r_{P_{fan,H}} = \\frac{P'_{fan,H,rtd}}{P_{fan,H,rtd}}\n",
    "\\end{equation*}\n",
    "$$\n",
    "\n",
    "<div style=\"text-align: right;\"> (19a) </div>\n",
    "\n",
    "$$ \n",
    "\\begin{equation*}\n",
    "    r_{P_{fan,C}} = \\frac{P'_{fan,C,rtd}}{P_{fan,C,rtd}}\n",
    "\\end{equation*}\n",
    "$$\n",
    "\n",
    "<div style=\"text-align: right;\"> (19b) </div>"
   ]
  },
  {
   "cell_type": "markdown",
   "metadata": {},
   "source": [
    "ここで、  \n",
    "\n",
    "$P_{fan,C,rtd}$：定格冷房能力運転時における送風機の消費電力(W)   \n",
    "$P_{fan,H,rtd}$：定格暖房能力運転時における送風機の消費電力(W)   \n",
    "$P'_{fan,C,rtd}$：風量補正機能を考慮した定格冷房能力運転時における送風機の消費電力(W)     \n",
    "$P'_{fan,H,rtd}$：風量補正機能を考慮した定格暖房能力運転時における送風機の消費電力(W)  \n",
    "$r_{P_{fan,C,rtd}}$：定格冷房能力運転時における送風機の消費電力比(-)  \n",
    "$r_{P_{fan,H,rtd}}$：定格暖房能力運転時における送風機の消費電力比(-)  \n",
    "   \n",
    "である。"
   ]
  },
  {
   "cell_type": "markdown",
   "metadata": {},
   "source": [
    "定格暖房能力運転時におけ送風機の消費電力$P_{fan,H,rtd}$及び定格冷房能力運転時における送風機の消費電力$P_{fan,C,rtd}$は、付録Aにより定まる。"
   ]
  },
  {
   "cell_type": "markdown",
   "metadata": {},
   "source": [
    "風量補正機能を考慮した定格暖房能力運転時における送風機の消費電力$P'_{fan,H,rtd}$及び定格冷房能力運転時における送風機の消費電力$P'_{fan,C,rtd}$は、式(20)により計算される。"
   ]
  },
  {
   "cell_type": "markdown",
   "metadata": {},
   "source": [
    "$$ \n",
    "\\begin{equation*}\n",
    "    P'_{fan,H,rtd} = P_{fan,H,rtd} + P_{ac,H,rtd} \\times \\left( C_{cf,H} -1 \\right)\n",
    "\\end{equation*}\n",
    "$$\n",
    "\n",
    "<div style=\"text-align: right;\"> (20a) </div>\n",
    "\n",
    "$$ \n",
    "\\begin{equation*}\n",
    "    P'_{fan,C,rtd} = P_{fan,C,rtd} + P_{ac,C,rtd} \\times \\left( C_{cf,C} -1 \\right)\n",
    "\\end{equation*}\n",
    "$$\n",
    "\n",
    "<div style=\"text-align: right;\"> (20b) </div>"
   ]
  },
  {
   "cell_type": "markdown",
   "metadata": {},
   "source": [
    "ここで、  \n",
    "\n",
    "$C_{cf,C}$：冷房時の風量補正機能に関する空調機の消費電力補正係数(-)   \n",
    "$C_{cf,H}$：暖房時の風量補正機能に関する空調機の消費電力補正係数(-)  \n",
    "$P_{ac,C,rtd}$：空調機の定格冷房消費電力(W)   \n",
    "$P_{ac,H,rtd}$：空調機の定格暖房消費電力(W)   \n",
    "$P_{fan,C,rtd}$：定格冷房能力運転時における送風機の消費電力(W)   \n",
    "$P_{fan,H,rtd}$：定格暖房能力運転時における送風機の消費電力(W)   \n",
    "$P'_{fan,C,rtd}$：風量補正機能を考慮した定格冷房能力運転時における送風機の消費電力(W)     \n",
    "$P'_{fan,H,rtd}$：風量補正機能を考慮した定格暖房能力運転時における送風機の消費電力(W)  \n",
    "   \n",
    "である。"
   ]
  },
  {
   "cell_type": "markdown",
   "metadata": {},
   "source": [
    "空調機の定格暖房消費電力$P_{ac,H,rtd}$及び定格冷房消費電力$P_{ac,C,rtd}$、定格暖房能力運転時における送風機の消費電力$P_{fan,H,rtd}$及び定格冷房能力運転時における送風機の消費電力$P_{fan,C,rtd}$は、付録Aにより定まる。"
   ]
  },
  {
   "cell_type": "code",
   "execution_count": 22,
   "metadata": {},
   "outputs": [],
   "source": [
    "def P_fan(V_fan_rtd, P_fan_rtd, V_fan_thermo, P_fan_thermo, V_fan_op, r_P_fan):\n",
    "    '''送風機の風量(m3/h)から送風機の消費電力(W)を計算する。'''\n",
    "    # V_fan_rtd：定格能力運転時の送風機の風量(m3/h)\n",
    "    # P_fan_rtd：定格能力運転時の送風機の消費電力(W)\n",
    "    # V_fan_thermo：サーモオフ時の送風機の風量(m3/h)\n",
    "    # P_fan_thermo：サーモオフ時の送風機の消費電力(W)\n",
    "    # V_fan_op：任意の動作点における送風機の風量(m3/h)\n",
    "    # r_P_fan：消費電力比\n",
    "    \n",
    "    return (P_fan_rtd - (P_fan_rtd - P_fan_thermo) * ((V_fan_rtd - V_fan_op) / (V_fan_rtd - V_fan_thermo))) * r_P_fan"
   ]
  },
  {
   "cell_type": "code",
   "execution_count": 23,
   "metadata": {
    "scrolled": false
   },
   "outputs": [
    {
     "data": {
      "image/png": "[encoded data removed]",
      "text/plain": [
       "<Figure size 640x320 with 1 Axes>"
      ]
     },
     "metadata": {
      "needs_background": "light"
     },
     "output_type": "display_data"
    }
   ],
   "source": [
    "# 算出イメージ\n",
    "plt.figure(figsize = (8, 4), dpi=80 )\n",
    "plt.subplot2grid((1, 1), (0, 0))\n",
    "plt.title('算出イメージ', fontdict={'fontproperties':fp})\n",
    "\n",
    "q_ac_rtd = 1\n",
    "V_fan_rtd = 1\n",
    "P_fan_rtd = 1 \n",
    "V_fan_thermo =V_fan_rtd * 0.5\n",
    "P_fan_thermo =P_fan_rtd * 0.3\n",
    "r_P1 = 1.0\n",
    "r_P2 = 1.2\n",
    "r_V1 = 0.8\n",
    "r_V2 = 1.0\n",
    "\n",
    "for i,category in enumerate(['風量補正機能なし','風量補正機能あり']):\n",
    "    x_values =np.arange(V_fan_thermo, V_fan_rtd+1.5, 0.05)\n",
    "    y_values = {'風量補正機能なし' :[P_fan(V_fan_rtd, P_fan_rtd, V_fan_thermo, P_fan_thermo, V_op, r_P1) for V_op in x_values],\n",
    "                '風量補正機能あり' :[P_fan(V_fan_rtd, P_fan_rtd, V_fan_thermo, P_fan_thermo, V_op, r_P2) for V_op in x_values]}[category]\n",
    "    plt.plot(x_values, y_values, label= '暖冷房_' + category)\n",
    "\n",
    "for i,category in enumerate(['風量補正機能なし','風量補正機能あり']):\n",
    "    x_values = {'風量補正機能なし' :[V_fan_thermo*r_V1],\n",
    "                '風量補正機能あり' :[V_fan_thermo*r_V2]}[category]\n",
    "    y_values = {'風量補正機能なし' :[P_fan(V_fan_rtd, P_fan_rtd, V_fan_thermo, P_fan_thermo, V_op, r_P1) for V_op in x_values],\n",
    "                '風量補正機能あり' :[P_fan(V_fan_rtd, P_fan_rtd, V_fan_thermo, P_fan_thermo, V_op, r_P1) for V_op in x_values]}[category]\n",
    "    plt.scatter(x_values, y_values, label= 'サーモオフ_' + category, s=100)\n",
    "\n",
    "        \n",
    "ax=plt.gca()\n",
    "ax.set_xlabel('送風機の風量(m3/h)', fontdict={'fontproperties':fp})\n",
    "ax.set_xticks([0, V_fan_thermo*r_V1, V_fan_thermo, V_fan_rtd], minor=False)\n",
    "ax.set_xticklabels(['0','V\\'_fan_thermo', 'V_fan_thermo', 'V_fan_rtd'], minor=False, rotation=90)\n",
    "ax.set_xbound(lower=0, upper=1.5)\n",
    "\n",
    "ax.set_ylabel('送風機の消費電力(W)', fontdict={'fontproperties':fp})\n",
    "ax.set_yticks([0, P_fan_thermo, P_fan_thermo*r_P2, P_fan_rtd, P_fan_rtd*r_P2], minor=False)\n",
    "ax.set_yticklabels(['0', 'P_fan_thermo', 'P\\'_fan_thermo', 'P_fan_rtd', 'P\\'_fan_rtd'])\n",
    "ax.set_ybound(lower=0, upper=1.2)\n",
    "\n",
    "ax.grid(which='major', color='lightgray', alpha=0.7, linestyle='-')    \n",
    "plt.legend(loc='center left', bbox_to_anchor=(1, 0.5), borderaxespad=0.5, frameon=True, prop=fp)\n",
    "\n",
    "\n",
    "plt.show()"
   ]
  },
  {
   "cell_type": "markdown",
   "metadata": {},
   "source": [
    "## 付録A　機器の性能を表す仕様の決定方法"
   ]
  },
  {
   "cell_type": "markdown",
   "metadata": {},
   "source": [
    "### A.1　記号及び単位"
   ]
  },
  {
   "cell_type": "markdown",
   "metadata": {},
   "source": [
    "（省略）"
   ]
  },
  {
   "cell_type": "markdown",
   "metadata": {},
   "source": [
    "### A.2　全般"
   ]
  },
  {
   "cell_type": "markdown",
   "metadata": {},
   "source": [
    "本計算方法は、表A.3に示す方法により機器の性能を示す仕様を決定する場合に適用する。"
   ]
  },
  {
   "cell_type": "markdown",
   "metadata": {},
   "source": [
    "<table style=\"border-collapse:collapse;\">\n",
    "    <caption>表A.3　機器の性能を表す仕様の決定方法</caption>\n",
    "    <thead style=\"background-color:lightgrey\" >\n",
    "        <tr>\n",
    "            <th style=\"text-align:center; border:1px solid black;\" rowspan=4>No</th>\n",
    "            <th style=\"text-align:center; border:1px solid black;\" rowspan=2 colspan=6>空調機</th>\n",
    "            <th style=\"text-align:center; border:1px solid black;\" colspan=8>送風機</th>\n",
    "        </tr>\n",
    "        <tr>\n",
    "            <th style=\"text-align:center; text-align:center; border:1px solid black;\" colspan=6>暖房時及び冷房時</th>\n",
    "            <th style=\"text-align:center; border:1px solid black;\" colspan=2>サーモオフ時</th>\n",
    "        </tr>\n",
    "        <tr>\n",
    "            <th style=\"text-align:center; border:1px solid black;\" colspan=3>能力</th>\n",
    "            <th style=\"text-align:center; border:1px solid black;\" colspan=3>消費電力</th>\n",
    "            <th style=\"text-align:center; border:1px solid black;\" colspan=3>風量</th>\n",
    "            <th style=\"text-align:center; border:1px solid black;\" colspan=3>消費電力</th>\n",
    "            <th style=\"text-align:center; border:1px solid black;\" rowspan=2>風量</th>\n",
    "            <th style=\"text-align:center; border:1px solid black;\" rowspan=2>消費電力</th>\n",
    "        </tr>\n",
    "        <tr>\n",
    "            <th style=\"text-align:center; border:1px solid black;\">定格</th>\n",
    "            <th style=\"text-align:center; border:1px solid black;\">中間</th>\n",
    "            <th style=\"text-align:center; border:1px solid black;\">最小</th>\n",
    "            <th style=\"text-align:center; border:1px solid black;\">定格</th>\n",
    "            <th style=\"text-align:center; border:1px solid black;\">中間</th>\n",
    "            <th style=\"text-align:center; border:1px solid black;\">最小</th>\n",
    "            <th style=\"text-align:center; border:1px solid black;\">定格</th>\n",
    "            <th style=\"text-align:center; border:1px solid black;\">中間</th>\n",
    "            <th style=\"text-align:center; border:1px solid black;\">最小</th>\n",
    "            <th style=\"text-align:center; border:1px solid black;\">定格</th>\n",
    "            <th style=\"text-align:center; border:1px solid black;\">中間</th>\n",
    "            <th style=\"text-align:center; border:1px solid black;\">最小</th>\n",
    "        </tr>\n",
    "    </thead>\n",
    "    <tbody>    \n",
    "        <tr>\n",
    "            <td style=\"border:1px solid black; text-align:center;\">1</td>\n",
    "            <td style=\"border:1px solid black; text-align:center;\">JIS<br/>試験</td>\n",
    "            <td style=\"border:1px solid black; text-align:center;\">JIS<br/>試験</td>\n",
    "            <td style=\"border:1px solid black; text-align:center;\">JIS<br/>試験</td>\n",
    "            <td style=\"border:1px solid black; text-align:center;\">JIS<br/>試験</td>\n",
    "            <td style=\"border:1px solid black; text-align:center;\">JIS<br/>試験</td>\n",
    "            <td style=\"border:1px solid black; text-align:center;\">JIS<br/>試験</td>\n",
    "            <td style=\"border:1px solid black; text-align:center;\">製造業者<br/>指定</td>\n",
    "            <td style=\"border:1px solid black; text-align:center;\">製造業者<br/>指定</td>\n",
    "            <td style=\"border:1px solid black; text-align:center;\">製造業者<br/>指定</td>\n",
    "            <td style=\"border:1px solid black; text-align:center;\">製造業者<br/>指定</td>\n",
    "            <td style=\"border:1px solid black; text-align:center;\">製造業者<br/>指定</td>\n",
    "            <td style=\"border:1px solid black; text-align:center;\">製造業者<br/>指定</td>\n",
    "            <td style=\"border:1px solid black; text-align:center;\">製造業者<br/>指定</td>\n",
    "            <td style=\"border:1px solid black; text-align:center;\">製造業者<br/>指定</td>\n",
    "        </tr>\n",
    "        <tr>\n",
    "            <td style=\"border:1px solid black; text-align:center;\">2</td>\n",
    "            <td style=\"border:1px solid black; text-align:center;\">JIS<br/>試験</td>\n",
    "            <td style=\"border:1px solid black; text-align:center;\">JIS<br/>試験</td>\n",
    "            <td style=\"border:1px solid black; text-align:center;\">式(4)</td>\n",
    "            <td style=\"border:1px solid black; text-align:center;\">JIS<br/>試験</td>\n",
    "            <td style=\"border:1px solid black; text-align:center;\">JIS<br/>試験</td>\n",
    "            <td style=\"border:1px solid black; text-align:center;\">－</td>\n",
    "            <td style=\"border:1px solid black; text-align:center;\">製造業者<br/>指定</td>\n",
    "            <td style=\"border:1px solid black; text-align:center;\">製造業者<br/>指定</td>\n",
    "            <td style=\"border:1px solid black; text-align:center;\">式(9)</td>\n",
    "            <td style=\"border:1px solid black; text-align:center;\">製造業者<br/>指定</td>\n",
    "            <td style=\"border:1px solid black; text-align:center;\">製造業者<br/>指定</td>\n",
    "            <td style=\"border:1px solid black; text-align:center;\">－</td>\n",
    "            <td style=\"border:1px solid black; text-align:center;\">製造業者<br/>指定</td>\n",
    "            <td style=\"border:1px solid black; text-align:center;\">製造業者<br/>指定</td>\n",
    "        </tr>\n",
    "        <tr>\n",
    "            <td style=\"border:1px solid black; text-align:center;\">3</td>\n",
    "            <td style=\"border:1px solid black; text-align:center;\">JIS<br/>試験</td>\n",
    "            <td style=\"border:1px solid black; text-align:center;\">式(3)</td>\n",
    "            <td style=\"border:1px solid black; text-align:center;\">式(4)</td>\n",
    "            <td style=\"border:1px solid black; text-align:center;\">JIS<br/>試験</td>\n",
    "            <td style=\"border:1px solid black; text-align:center;\">－</td>\n",
    "            <td style=\"border:1px solid black; text-align:center;\">－</td>\n",
    "            <td style=\"border:1px solid black; text-align:center;\">製造業者<br/>指定</td>\n",
    "            <td style=\"border:1px solid black; text-align:center;\">式(7)</td>\n",
    "            <td style=\"border:1px solid black; text-align:center;\">式(9)</td>\n",
    "            <td style=\"border:1px solid black; text-align:center;\">式(6)</td>\n",
    "            <td style=\"border:1px solid black; text-align:center;\">－</td>\n",
    "            <td style=\"border:1px solid black; text-align:center;\">－</td>\n",
    "            <td style=\"border:1px solid black; text-align:center;\">表A.5</td>\n",
    "            <td style=\"border:1px solid black; text-align:center;\">表A.6</td>\n",
    "        </tr>\n",
    "        <tr>\n",
    "            <td style=\"border:1px solid black; text-align:center;\">4</td>\n",
    "            <td style=\"border:1px solid black; text-align:center;\">式(1)</td>\n",
    "            <td style=\"border:1px solid black; text-align:center;\">式(3)</td>\n",
    "            <td style=\"border:1px solid black; text-align:center;\">式(4)</td>\n",
    "            <td style=\"border:1px solid black; text-align:center;\">式(2)</td>\n",
    "            <td style=\"border:1px solid black; text-align:center;\">－</td>\n",
    "            <td style=\"border:1px solid black; text-align:center;\">－</td>\n",
    "            <td style=\"border:1px solid black; text-align:center;\">式(5)</td>\n",
    "            <td style=\"border:1px solid black; text-align:center;\">式(7)</td>\n",
    "            <td style=\"border:1px solid black; text-align:center;\">式(9)</td>\n",
    "            <td style=\"border:1px solid black; text-align:center;\">式(6)</td>\n",
    "            <td style=\"border:1px solid black; text-align:center;\">－</td>\n",
    "            <td style=\"border:1px solid black; text-align:center;\">－</td>\n",
    "            <td style=\"border:1px solid black; text-align:center;\">表A.5</td>\n",
    "            <td style=\"border:1px solid black; text-align:center;\">表A.6</td>\n",
    "        </tr>\n",
    "    </tbody> \n",
    "</table>"
   ]
  },
  {
   "cell_type": "markdown",
   "metadata": {},
   "source": [
    "### A.3　空調機"
   ]
  },
  {
   "cell_type": "markdown",
   "metadata": {},
   "source": [
    "#### A.3.1　定格能力及び定格消費電力"
   ]
  },
  {
   "cell_type": "markdown",
   "metadata": {},
   "source": [
    "空調機の定格暖房能力$q_{ac,H,rtd}$及び定格冷房能力$q_{ac,C,rtd}$は、JIS B8616が定める定格暖房標準能力及び定格冷房標準能力の定義に基づき、JIS B 8615-2が定める性能試験により得られる値とするか、床面積の合計$A_{A}$に応じて式(1)により算定される値とする。"
   ]
  },
  {
   "cell_type": "markdown",
   "metadata": {},
   "source": [
    "$$ \n",
    "\\begin{equation*}\n",
    "    q_{ac,H,rtd} = q_{ac,H,rq} \\times A_{A} \\times f_{CT} \\times f_{CL}\n",
    "\\end{equation*}\n",
    "$$\n",
    "\n",
    "<div style=\"text-align: right;\"> (1a) </div>"
   ]
  },
  {
   "cell_type": "markdown",
   "metadata": {},
   "source": [
    "$$ \n",
    "\\begin{equation*}\n",
    "    q_{ac,C,rtd} = q_{ac,C,rq} \\times A_{A} \\times f_{CT} \\times f_{CL}\n",
    "\\end{equation*}\n",
    "$$\n",
    "\n",
    "<div style=\"text-align: right;\"> (1b) </div>"
   ]
  },
  {
   "cell_type": "markdown",
   "metadata": {},
   "source": [
    "ここで、  \n",
    "\n",
    "$A_{A}$：床面積の合計(m<sup>2</sup>)   \n",
    "$f_{CT}$：外気温度能力補正係数(-)  \n",
    "$f_{CL}$：間歇運転能力補正係数(-)  \n",
    "$q_{ac,C,rtd}$：空調機の定格冷房能力(W)   \n",
    "$q_{ac,H,rtd}$：空調機の定格暖房能力(W)  \n",
    "$q_{ac,C,rq}$：空調機の単位床面積当たりの必要冷房能力(W/m<sup>2</sup>)   \n",
    "$q_{ac,H,rq}$：空調機の単位床面積当たりの必要暖房能力(W/m<sup>2</sup>) \n",
    "\n",
    "である。"
   ]
  },
  {
   "cell_type": "markdown",
   "metadata": {},
   "source": [
    "外気温度能力補正係数$f_{CT}$は、1.05とする。間歇運転能力補正係数$f_{CL}$は、1.0とする。"
   ]
  },
  {
   "cell_type": "markdown",
   "metadata": {},
   "source": [
    "空調機の単位床面積当たりの必要暖房能力$q_{ac,H,rq}$及び必要冷房能力$q_{ac,C,rq}$は、地域の区分に応じて表A.4により定まる。"
   ]
  },
  {
   "cell_type": "markdown",
   "metadata": {},
   "source": [
    "<table style=\"border-collapse:collapse;\">\n",
    "    <caption>表A.4 単位面積当たりの必要暖房能力$q_{ac,H,rq}$及び冷房能力$q_{ac,C,rq}$(W/m<sup>2</sup>)</caption>\n",
    "    <thead style=\"background-color:lightgrey\" >\n",
    "        <tr>\n",
    "            <th style=\"text-align:center; border:1px solid black;\" rowspan=2></th>\n",
    "            <th style=\"text-align:center; border:1px solid black;\" colspan=8>地域の区分</th>\n",
    "        </tr>\n",
    "        <tr>\n",
    "            <th style=\"text-align:center; text-align:center; border:1px solid black;\">1</th>\n",
    "            <th style=\"text-align:center; text-align:center; border:1px solid black;\">2</th>\n",
    "            <th style=\"text-align:center; text-align:center; border:1px solid black;\">3</th>\n",
    "            <th style=\"text-align:center; text-align:center; border:1px solid black;\">4</th>\n",
    "            <th style=\"text-align:center; text-align:center; border:1px solid black;\">5</th>\n",
    "            <th style=\"text-align:center; text-align:center; border:1px solid black;\">6</th>\n",
    "            <th style=\"text-align:center; text-align:center; border:1px solid black;\">7</th>\n",
    "            <th style=\"text-align:center; text-align:center; border:1px solid black;\">8</th>\n",
    "        </tr>\n",
    "    </thead>\n",
    "    <tbody>    \n",
    "        <tr>\n",
    "            <td style=\"border:1px solid black; text-align:center;\">必要暖房能力$q_{ac,H,rq}$</td>\n",
    "            <td style=\"border:1px solid black; text-align:center;\">73.91</td>\n",
    "            <td style=\"border:1px solid black; text-align:center;\">64.32</td>\n",
    "            <td style=\"border:1px solid black; text-align:center;\">62.65</td>\n",
    "            <td style=\"border:1px solid black; text-align:center;\">66.99</td>\n",
    "            <td style=\"border:1px solid black; text-align:center;\">72.64</td>\n",
    "            <td style=\"border:1px solid black; text-align:center;\">61.34</td>\n",
    "            <td style=\"border:1px solid black; text-align:center;\">64.55</td>\n",
    "            <td style=\"border:1px solid black; text-align:center;\">－</td>\n",
    "        </tr>\n",
    "        <tr>\n",
    "            <td style=\"border:1px solid black; text-align:center;\">必要冷房能力$q_{ac,C,rq}$</td>\n",
    "            <td style=\"border:1px solid black; text-align:center;\">37.61</td>\n",
    "            <td style=\"border:1px solid black; text-align:center;\">36.55</td>\n",
    "            <td style=\"border:1px solid black; text-align:center;\">42.34</td>\n",
    "            <td style=\"border:1px solid black; text-align:center;\">54.08</td>\n",
    "            <td style=\"border:1px solid black; text-align:center;\">61.69</td>\n",
    "            <td style=\"border:1px solid black; text-align:center;\">60.79</td>\n",
    "            <td style=\"border:1px solid black; text-align:center;\">72.53</td>\n",
    "            <td style=\"border:1px solid black; text-align:center;\">61.56</td>\n",
    "        </tr>\n",
    "\n",
    "    </tbody> \n",
    "</table>"
   ]
  },
  {
   "cell_type": "markdown",
   "metadata": {},
   "source": [
    "空調機の定格暖房消費電力$P_{ac,H,rtd}$及び定格冷房消費電力$P_{ac,C,rtd}$は、JIS B8616が定める定格暖房標準能力及び定格冷房標準能力の定義に基づき、JIS B 8615-2が定める性能試験により得られる値とするか、式(2)により算定される値とする。"
   ]
  },
  {
   "cell_type": "markdown",
   "metadata": {},
   "source": [
    "$$ \n",
    "\\begin{equation*}\n",
    "    P_{ac,H,rtd} = \\frac{q_{ac,H,rtd}}{e_{H,rtd}}\n",
    "\\end{equation*}\n",
    "$$\n",
    "\n",
    "<div style=\"text-align: right;\"> (2a) </div>"
   ]
  },
  {
   "cell_type": "markdown",
   "metadata": {},
   "source": [
    "$$ \n",
    "\\begin{equation*}\n",
    "    P_{ac,C,rtd} = \\frac{q_{ac,C,rtd}}{e_{C,rtd}}\n",
    "\\end{equation*}\n",
    "$$\n",
    "\n",
    "<div style=\"text-align: right;\"> (2b) </div>"
   ]
  },
  {
   "cell_type": "markdown",
   "metadata": {},
   "source": [
    "ここで、  \n",
    "\n",
    "$e_{C,rtd}$：定格冷房能力運転時における空調機の冷房効率(-)   \n",
    "$e_{H,rtd}$：定格暖房能力運転時における空調機の暖房効率(-)  \n",
    "$P_{ac,C,rtd}$：空調機の定格冷房消費電力(W)   \n",
    "$P_{ac,H,rtd}$：空調機の定格暖房消費電力(W)  \n",
    "$q_{ac,C,rtd}$：空調機の定格冷房能力(W)   \n",
    "$q_{ac,H,rtd}$：空調機の定格暖房能力(W)  \n",
    "\n",
    "である。"
   ]
  },
  {
   "cell_type": "markdown",
   "metadata": {},
   "source": [
    "定格暖房能力運転時における空調機の暖房効率$e_{H,rtd}$は、3.76とする。定格冷房能力運転時における空調機の冷房効率$e_{C,rtd}$は、3.17とする。"
   ]
  },
  {
   "cell_type": "markdown",
   "metadata": {},
   "source": [
    "#### A.3.2　中間能力"
   ]
  },
  {
   "cell_type": "markdown",
   "metadata": {},
   "source": [
    "空調機の中間暖房能力$q_{ac,H,mid}$及び中間冷房能力$q_{ac,C,mid}$は、JIS B8616が定める中間暖房標準能力及び中間冷房標準能力の定義に基づき、JIS B 8615-2が定める性能試験により得られる値とするか、式(3)により算定される値とする。"
   ]
  },
  {
   "cell_type": "markdown",
   "metadata": {},
   "source": [
    "$$ \n",
    "\\begin{equation*}\n",
    "    q_{ac,H,mid} = q_{ac,H,rtd} \\times 0.50\n",
    "\\end{equation*}\n",
    "$$\n",
    "\n",
    "<div style=\"text-align: right;\"> (3a) </div>"
   ]
  },
  {
   "cell_type": "markdown",
   "metadata": {},
   "source": [
    "$$ \n",
    "\\begin{equation*}\n",
    "    q_{ac,C,mid} = q_{ac,C,rtd} \\times 0.50\n",
    "\\end{equation*}\n",
    "$$\n",
    "\n",
    "<div style=\"text-align: right;\"> (3b) </div>"
   ]
  },
  {
   "cell_type": "markdown",
   "metadata": {},
   "source": [
    "ここで、  \n",
    "\n",
    "$q_{ac,C,mid}$：空調機の中間冷房能力(W)  \n",
    "$q_{ac,C,rtd}$：空調機の定格冷房能力(W)   \n",
    "$q_{ac,H,mid}$：空調機の中間暖房能力(W)  \n",
    "$q_{ac,H,rtd}$：空調機の定格暖房能力(W)  \n",
    "\n",
    "である。"
   ]
  },
  {
   "cell_type": "markdown",
   "metadata": {},
   "source": [
    "#### A.3.3　最小能力"
   ]
  },
  {
   "cell_type": "markdown",
   "metadata": {},
   "source": [
    "空調機の最小暖房能力$q_{ac,H,min}$最小冷房能力$q_{ac,C,min}$は、JIS B8616が定める最小暖房標準能力及び最小冷房標準能力の定義に基づき、JIS B 8615-2が定める性能試験により得られる値とするか、式(4)により算定される値とする。"
   ]
  },
  {
   "cell_type": "markdown",
   "metadata": {},
   "source": [
    "$$ \n",
    "\\begin{equation*}\n",
    "    q_{ac,H,min} = q_{ac,H,rtd} \\times 0.35\n",
    "\\end{equation*}\n",
    "$$\n",
    "\n",
    "<div style=\"text-align: right;\"> (4a) </div>"
   ]
  },
  {
   "cell_type": "markdown",
   "metadata": {},
   "source": [
    "$$ \n",
    "\\begin{equation*}\n",
    "    q_{ac,C,min} = q_{ac,C,rtd} \\times 0.35\n",
    "\\end{equation*}\n",
    "$$\n",
    "\n",
    "<div style=\"text-align: right;\"> (4b) </div>"
   ]
  },
  {
   "cell_type": "markdown",
   "metadata": {},
   "source": [
    "ここで、  \n",
    "\n",
    "$q_{ac,C,min}$：空調機の最小冷房能力(W)  \n",
    "$q_{ac,C,rtd}$：空調機の定格冷房能力(W)   \n",
    "$q_{ac,H,min}$：空調機の最小暖房能力(W)  \n",
    "$q_{ac,H,rtd}$：空調機の定格暖房能力(W)  \n",
    "\n",
    "である。"
   ]
  },
  {
   "cell_type": "markdown",
   "metadata": {},
   "source": [
    "### A.4　送風機"
   ]
  },
  {
   "cell_type": "markdown",
   "metadata": {},
   "source": [
    "#### A.4.1　定格能力運転時の風量及び消費電力"
   ]
  },
  {
   "cell_type": "markdown",
   "metadata": {},
   "source": [
    "定格暖房能力運転時における送風機の風量$V_{fan,H,rtd}$及び消費電力$P_{fan,H,rtd}$、定格冷房能力運転時における送風機の風量$V_{fan,C,rtd}$及び消費電力$P_{fan,C,rtd}$は、室内側及び室外側の送風機の風量をJIS B8615-2が定める空調機の性能試験による定格能力の測定時と同一の風量に固定し、かつ、圧縮機が停止した状態で測定した値とするか、式(5)及び式(6)により求めた値とする。但し、測定により値を求める場合、測定時の凝縮器の表面状態（凝縮水）は不問とする。"
   ]
  },
  {
   "cell_type": "markdown",
   "metadata": {},
   "source": [
    "$$ \n",
    "\\begin{equation*}\n",
    "    V_{fan,H,rtd} = \\left( 1.69 \\times q_{ac,H,rtd} \\times 10^{-3} +14.5 \\right) \\times 60\n",
    "\\end{equation*}\n",
    "$$\n",
    "\n",
    "<div style=\"text-align: right;\"> (5a) </div>\n",
    "\n",
    "$$ \n",
    "\\begin{equation*}\n",
    "    P_{fan,H,rtd} = 8.0 \\times \\frac{V_{fan,H,rtd}}{60} +20.7\n",
    "\\end{equation*}\n",
    "$$\n",
    "\n",
    "<div style=\"text-align: right;\"> (6a) </div>\n",
    "\n",
    "$$ \n",
    "\\begin{equation*}\n",
    "    V_{fan,C,rtd} = \\left( 1.69 \\times q_{ac,C,rtd} \\times 10^{-3} +14.5 \\right) \\times 60\n",
    "\\end{equation*}\n",
    "$$\n",
    "\n",
    "<div style=\"text-align: right;\"> (5b) </div>\n",
    "\n",
    "$$ \n",
    "\\begin{equation*}\n",
    "    P_{fan,C,rtd} = 8.0 \\times \\frac{V_{fan,C,rtd}}{60} +20.7\n",
    "\\end{equation*}\n",
    "$$\n",
    "\n",
    "<div style=\"text-align: right;\"> (6b) </div>"
   ]
  },
  {
   "cell_type": "markdown",
   "metadata": {},
   "source": [
    "ここで、  \n",
    "\n",
    "$P_{fan,C,rtd}$：定格冷房能力運転時における送風機の消費電力(W)   \n",
    "$P_{fan,H,rtd}$：定格暖房能力運転時における送風機の消費電力(W)   \n",
    "$q_{ac,C,rtd}$：空調機の定格冷房能力(W)    \n",
    "$q_{ac,H,rtd}$：空調機の定格暖房能力(W)  \n",
    "$V_{fan,C,rtd}$：定格冷房能力運転時における送風機の風量(m<sup>3</sup>/h)      \n",
    "$V_{fan,H,rtd}$：定格暖房能力運転時における送風機の風量(m<sup>3</sup>/h)    \n",
    "\n",
    "である。"
   ]
  },
  {
   "cell_type": "markdown",
   "metadata": {},
   "source": [
    "#### A.4.2　中間能力運転時の風量及び消費電力"
   ]
  },
  {
   "cell_type": "markdown",
   "metadata": {},
   "source": [
    "中間暖房能力運転時における送風機の風量$V_{fan,H,mid}$及び消費電力$P_{fan,H,mid}$、中間冷房能力運転時における送風機の風量$V_{fan,C,mid}$及び消費電力$P_{fan,C,mid}$は、室内側及び室外側の送風機の風量をJIS B8615-2が定める空調機の性能試験による中間能力の測定時と同一の風量に固定し、かつ、圧縮機が停止した状態で測定した値とするか、式(7)及び式(8)により求めた値とする。但し、測定により値を求める場合、測定時の凝縮器の表面状態（凝縮水）は不問とする。"
   ]
  },
  {
   "cell_type": "markdown",
   "metadata": {},
   "source": [
    "$$ \n",
    "\\begin{equation*}\n",
    "    V_{fan,H,mid} = \\left( 1.69 \\times q_{ac,H,mid} \\times 10^{-3} +14.5 \\right) \\times 60\n",
    "\\end{equation*}\n",
    "$$\n",
    "\n",
    "<div style=\"text-align: right;\"> (7a) </div>\n",
    "\n",
    "$$ \n",
    "\\begin{equation*}\n",
    "    P_{fan,H,mid} = 8.0 \\times \\frac{V_{fan,H,mid}}{60} +20.7\n",
    "\\end{equation*}\n",
    "$$\n",
    "\n",
    "<div style=\"text-align: right;\"> (8a) </div>\n",
    "\n",
    "$$ \n",
    "\\begin{equation*}\n",
    "    V_{fan,C,mid} = \\left( 1.69 \\times q_{ac,C,mid} \\times 10^{-3} +14.5 \\right) \\times 60\n",
    "\\end{equation*}\n",
    "$$\n",
    "\n",
    "<div style=\"text-align: right;\"> (7b) </div>\n",
    "\n",
    "$$ \n",
    "\\begin{equation*}\n",
    "    P_{fan,C,mid} = 8.0 \\times \\frac{V_{fan,C,mid}}{60} +20.7\n",
    "\\end{equation*}\n",
    "$$\n",
    "\n",
    "<div style=\"text-align: right;\"> (8b) </div>"
   ]
  },
  {
   "cell_type": "markdown",
   "metadata": {},
   "source": [
    "ここで、  \n",
    "\n",
    "$P_{fan,C,mid}$：中間冷房能力運転時における送風機の消費電力(W)   \n",
    "$P_{fan,H,mid}$：中間暖房能力運転時における送風機の消費電力(W)   \n",
    "$q_{ac,C,mid}$：空調機の中間冷房能力(W)    \n",
    "$q_{ac,H,mid}$：空調機の中間暖房能力(W)  \n",
    "$V_{fan,C,mid}$：中間冷房能力運転時における送風機の風量(m<sup>3</sup>/h)      \n",
    "$V_{fan,H,mid}$：中間暖房能力運転時における送風機の風量(m<sup>3</sup>/h)    \n",
    "\n",
    "である。"
   ]
  },
  {
   "cell_type": "markdown",
   "metadata": {},
   "source": [
    "#### A.4.3　最小能力運転時の風量及び消費電力"
   ]
  },
  {
   "cell_type": "markdown",
   "metadata": {},
   "source": [
    "最小暖房能力運転時における送風機の風量$V_{fan,H,min}$及び消費電力$P_{fan,H,min}$、最小冷房能力運転時における送風機の風量$V_{fan,C,min}$及び消費電力$P_{fan,C,min}$は、室内側及び室外側の送風機の風量をJIS B8615-2が定める空調機の性能試験による最小能力の測定時と同一の風量に固定し、かつ、圧縮機が停止した状態で測定した値とするか、式(9)及び式(10)により求めた値とする。但し、測定により値を求める場合、測定時の凝縮器の表面状態（凝縮水）は不問とする。"
   ]
  },
  {
   "cell_type": "markdown",
   "metadata": {},
   "source": [
    "$$ \n",
    "\\begin{equation*}\n",
    "    V_{fan,H,min} = \\left( 1.69 \\times q_{ac,H,min} \\times 10^{-3} +14.5 \\right) \\times 60\n",
    "\\end{equation*}\n",
    "$$\n",
    "\n",
    "<div style=\"text-align: right;\"> (9a) </div>\n",
    "\n",
    "$$ \n",
    "\\begin{equation*}\n",
    "    P_{fan,H,min} = 8.0 \\times \\frac{V_{fan,H,min}}{60} +20.7\n",
    "\\end{equation*}\n",
    "$$\n",
    "\n",
    "<div style=\"text-align: right;\"> (10a) </div>\n",
    "\n",
    "$$ \n",
    "\\begin{equation*}\n",
    "    V_{fan,C,min} = \\left( 1.69 \\times q_{ac,C,min} \\times 10^{-3} +14.5 \\right) \\times 60\n",
    "\\end{equation*}\n",
    "$$\n",
    "\n",
    "<div style=\"text-align: right;\"> (9b) </div>\n",
    "\n",
    "$$ \n",
    "\\begin{equation*}\n",
    "    P_{fan,C,min} = 8.0 \\times \\frac{V_{fan,C,min}}{60} +20.7\n",
    "\\end{equation*}\n",
    "$$\n",
    "\n",
    "<div style=\"text-align: right;\"> (10b) </div>"
   ]
  },
  {
   "cell_type": "markdown",
   "metadata": {},
   "source": [
    "ここで、  \n",
    "\n",
    "$P_{fan,C,min}$：最小冷房能力運転時における送風機の消費電力(W)   \n",
    "$P_{fan,H,min}$：最小暖房能力運転時における送風機の消費電力(W)   \n",
    "$q_{ac,C,min}$：空調機の最小冷房能力(W)    \n",
    "$q_{ac,H,min}$：空調機の最小暖房能力(W)  \n",
    "$V_{fan,C,min}$：最小冷房能力運転時における送風機の風量(m<sup>3</sup>/h)      \n",
    "$V_{fan,H,min}$：最小暖房能力運転時における送風機の風量(m<sup>3</sup>/h)    \n",
    "\n",
    "である。"
   ]
  },
  {
   "cell_type": "markdown",
   "metadata": {},
   "source": [
    "#### A.4.4　サーモオフ時の風量及び消費電力"
   ]
  },
  {
   "cell_type": "markdown",
   "metadata": {},
   "source": [
    "暖房サーモオフ時の送風機の風量$V_{fan,thermoa-off,H}$及び消費電力$P_{fan,thermoa-off,H}$、冷房サーモオフ時の送風機の風量$V_{fan,thermoa-off,C}$及び消費電力$P_{fan,thermoa-off,C}$は、JIS B8616に定義されるサーモオフの状態（『圧縮機が停止し室内ユニットに冷媒が供給されず、熱交換が行われない状態』）で室内温度検知等の目的で室内側の送風機を稼働する場合の消費電力及び標準空気基準の風量であり、JIS B8615-2が定める室内側風量の設定の下に測定した値か、表A.5及び表A.6により定まる値とする。"
   ]
  },
  {
   "cell_type": "markdown",
   "metadata": {},
   "source": [
    "<table style=\"border-collapse:collapse;\">\n",
    "    <caption>表A.5 サーモオフ時の送風機の風量</caption>\n",
    "    <thead style=\"background-color:lightgrey\" >\n",
    "        <tr>\n",
    "            <th style=\"text-align:center; border:1px solid black;\" >暖房サーモオフ時<br/>$V_{fan,thermoa-off,H}$<br/>(m<sup>3</sup>/h)</th>\n",
    "            <th style=\"text-align:center; border:1px solid black;\" >冷房サーモオフ時<br/>$V_{fan,thermoa-off,C}$<br/>(m<sup>3</sup>/h)</th>\n",
    "        </tr>\n",
    "    </thead>\n",
    "    <tbody>    \n",
    "        <tr>\n",
    "            <td style=\"border:1px solid black; text-align:center;\">870</td>\n",
    "            <td style=\"border:1px solid black; text-align:center;\">870</td>\n",
    "        </tr>\n",
    "    </tbody> \n",
    "</table>"
   ]
  },
  {
   "cell_type": "markdown",
   "metadata": {},
   "source": [
    "<table style=\"border-collapse:collapse;\">\n",
    "    <caption>表A.6 サーモオフ時の送風機の消費電力</caption>\n",
    "    <thead style=\"background-color:lightgrey\" >\n",
    "        <tr>\n",
    "            <th style=\"text-align:center; border:1px solid black;\" >暖房サーモオフ時<br/>$P_{fan,thermoa-off,H}$<br/>(W)</th>\n",
    "            <th style=\"text-align:center; border:1px solid black;\" >冷房サーモオフ時<br/>$P_{fan,thermoa-off,C}$<br/>(W)</th>\n",
    "        </tr>\n",
    "    </thead>\n",
    "    <tbody>    \n",
    "        <tr>\n",
    "            <td style=\"border:1px solid black; text-align:center;\">137</td>\n",
    "            <td style=\"border:1px solid black; text-align:center;\">137</td>\n",
    "        </tr>\n",
    "    </tbody> \n",
    "</table>"
   ]
  },
  {
   "cell_type": "markdown",
   "metadata": {},
   "source": [
    "#### A.4.5　設計風量"
   ]
  },
  {
   "cell_type": "markdown",
   "metadata": {},
   "source": [
    "暖房時の送風機の設計風量$V_{fan,H,dsgn}$及び冷房時の送風機の設計風量$V_{fan,C,dsgn}$は、第五章「換気設備」付録Bの計算方法により求めた値とするか、式(7)により計算される値とする。"
   ]
  },
  {
   "cell_type": "markdown",
   "metadata": {},
   "source": [
    "$$ \n",
    "\\begin{equation*}\n",
    "    V_{fan,H,dsgn} = V_{fan,H,rtd} \\times 0.79\n",
    "\\end{equation*}\n",
    "$$\n",
    "\n",
    "<div style=\"text-align: right;\"> (11a) </div>"
   ]
  },
  {
   "cell_type": "markdown",
   "metadata": {},
   "source": [
    "$$ \n",
    "\\begin{equation*}\n",
    "    V_{fan,C,dsgn} = V_{fan,C,rtd} \\times 0.79\n",
    "\\end{equation*}\n",
    "$$\n",
    "\n",
    "<div style=\"text-align: right;\"> (11b) </div>"
   ]
  },
  {
   "cell_type": "markdown",
   "metadata": {},
   "source": [
    "ここで、  \n",
    " \n",
    "$V_{fan,C,rtd}$：定格冷房能力運転時における送風機の風量(m<sup>3</sup>/h)      \n",
    "$V_{fan,C,dsgn}$：冷房時の送風機の設計風量(m<sup>3</sup>/h)   \n",
    "$V_{fan,H,rtd}$：定格暖房能力運転時における送風機の風量(m<sup>3</sup>/h)    \n",
    "$V_{fan,H,dsgn}$：暖房時の送風機の設計風量(m<sup>3</sup>/h)   \n",
    "\n",
    "である。"
   ]
  },
  {
   "cell_type": "markdown",
   "metadata": {},
   "source": [
    "### A.5　複数のダクト式セントラル空調機が設置される場合の仕様の決定方法"
   ]
  },
  {
   "cell_type": "markdown",
   "metadata": {},
   "source": [
    "（工事中　※枠組みは、現行の算定方法と同じ）"
   ]
  },
  {
   "cell_type": "markdown",
   "metadata": {},
   "source": [
    "## 付録B　風量補正機能に関する空調機の消費電力補正係数"
   ]
  },
  {
   "cell_type": "markdown",
   "metadata": {},
   "source": [
    "風量補正機能に関する空調機の消費電力補正係数は、ダクト等圧力損失の影響により所定の風量に達しない場合に送風機の周波数が増段すること（風量補正機能）による空調機の消費電力の増加を考慮するための係数である。"
   ]
  },
  {
   "cell_type": "markdown",
   "metadata": {},
   "source": [
    "暖房時の風量補正機能に関する空調機の消費電力補正係数$C_{cf,H}$及び冷房時の風量補正機能に関する空調機の消費電力補正係数$C_{cf,C}$は、設計圧力損失と標準機外静圧との比に応じて表B.1により定まる。"
   ]
  },
  {
   "cell_type": "markdown",
   "metadata": {},
   "source": [
    "<table style=\"border-collapse:collapse;\">\n",
    "    <caption>表B.1 風量補正機能に関する空調機の消費電力補正係数</caption>\n",
    "    <thead style=\"background-color:lightgrey\" >\n",
    "        <tr>\n",
    "            <th style=\"text-align:center; border:1px solid black;\" rowspan=2>設計圧力損失 / 標準機外静圧</th>\n",
    "            <th style=\"text-align:center; border:1px solid black;\" colspan=2>消費電力補正係数(-)</th>\n",
    "        </tr>\n",
    "        <tr>\n",
    "            <th style=\"text-align:center; border:1px solid black;\">暖房時<br/>$C_{cf,H}$</th>\n",
    "            <th style=\"text-align:center; border:1px solid black;\">冷房時<br/>$C_{cf,C}$</th>\n",
    "        </tr>\n",
    "    </thead>\n",
    "    <tbody>    \n",
    "        <tr>\n",
    "            <td style=\"border:1px solid black; text-align:center;\">1.0以下</td>\n",
    "            <td style=\"border:1px solid black; text-align:center;\">1.00</td>\n",
    "            <td style=\"border:1px solid black; text-align:center;\">1.00</td>\n",
    "        </tr>\n",
    "        <tr>\n",
    "            <td style=\"border:1px solid black; text-align:center;\">1.0を超え1.1以下</td>\n",
    "            <td style=\"border:1px solid black; text-align:center;\">1.01</td>\n",
    "            <td style=\"border:1px solid black; text-align:center;\">1.01</td>\n",
    "        </tr>\n",
    "        <tr>\n",
    "            <td style=\"border:1px solid black; text-align:center;\">1.1を超え1.2以下</td>\n",
    "            <td style=\"border:1px solid black; text-align:center;\">1.02</td>\n",
    "            <td style=\"border:1px solid black; text-align:center;\">1.02</td>\n",
    "        </tr>\n",
    "        <tr>\n",
    "            <td style=\"border:1px solid black; text-align:center;\">1.2を超える</td>\n",
    "            <td style=\"border:1px solid black; text-align:center;\">1.03</td>\n",
    "            <td style=\"border:1px solid black; text-align:center;\">1.03</td>\n",
    "        </tr>\n",
    "    </tbody> \n",
    "</table>"
   ]
  },
  {
   "cell_type": "markdown",
   "metadata": {},
   "source": [
    "設計圧力損失は、第五章「換気設備」付録Bの計算方法により求まる値とするか、125 Paとする。標準機外静圧は、製造業者が指定する値とするか、100 Paとする。"
   ]
  },
  {
   "cell_type": "markdown",
   "metadata": {},
   "source": [
    "## 付録C　断熱区画外ダクト熱損失による処理暖房負荷補正係数"
   ]
  },
  {
   "cell_type": "markdown",
   "metadata": {},
   "source": [
    "（工事中　※変数名を変更したが、算定方法は現行と同じ）"
   ]
  },
  {
   "cell_type": "markdown",
   "metadata": {},
   "source": [
    "## 付録D　R410Aにおける冷凍サイクルの理論効率"
   ]
  },
  {
   "cell_type": "markdown",
   "metadata": {},
   "source": [
    "（省略）（Refrigeration_Cycle_R410A.ipynbと同じ。）"
   ]
  }
 ],
 "metadata": {
  "kernelspec": {
   "display_name": "Python 3",
   "language": "python",
   "name": "python3"
  },
  "language_info": {
   "codemirror_mode": {
    "name": "ipython",
    "version": 3
   },
   "file_extension": ".py",
   "mimetype": "text/x-python",
   "name": "python",
   "nbconvert_exporter": "python",
   "pygments_lexer": "ipython3",
   "version": "3.7.1"
  }
 },
 "nbformat": 4,
 "nbformat_minor": 2
}
